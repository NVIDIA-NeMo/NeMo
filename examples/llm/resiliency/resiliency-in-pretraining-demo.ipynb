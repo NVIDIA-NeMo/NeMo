{
 "cells": [
  {
   "cell_type": "markdown",
   "id": "d63d934c-f709-4e6d-aa44-03f6b1926180",
   "metadata": {},
   "source": [
    "Install dependencies"
   ]
  },
  {
   "cell_type": "code",
   "execution_count": 25,
   "id": "2dfb9b8b-3359-4d00-88fa-abf0e24f7850",
   "metadata": {},
   "outputs": [
    {
     "name": "stdout",
     "output_type": "stream",
     "text": [
      "Required libraries loaded.\n"
     ]
    }
   ],
   "source": [
    "# Copyright (c) 2025, NVIDIA CORPORATION.  All rights reserved.\n",
    "\n",
    "# Required Libraries\n",
    "import argparse\n",
    "import math\n",
    "import os\n",
    "from functools import partial\n",
    "from typing import Any\n",
    "import torch\n",
    "from dataclasses import dataclass\n",
    "\n",
    "import nemo_run as run\n",
    "from lightning.pytorch.callbacks import Callback\n",
    "\n",
    "from nemo.collections import llm\n",
    "from nemo.collections.llm.recipes.callbacks.common import straggler_det_callback\n",
    "from nemo.lightning.run import plugins\n",
    "\n",
    "\n",
    "print(\"Required libraries loaded.\")"
   ]
  },
  {
   "cell_type": "markdown",
   "id": "e2a19a6d-8df8-4930-bb50-d622b6b72af7",
   "metadata": {},
   "source": [
    "Define and initialize a local executor, which is used to manage distributed computing tasks. The executor encapsulates configurations for launching jobs (e.g. number of devices, environment variables, task distribution)."
   ]
  },
  {
   "cell_type": "code",
   "execution_count": 2,
   "id": "8740b1b8-0f89-40a9-a361-a88a6371d073",
   "metadata": {},
   "outputs": [
    {
     "name": "stdout",
     "output_type": "stream",
     "text": [
      "Executor setup complete.\n",
      "Graphviz rendering failed: failed to execute PosixPath('dot'), make sure the Graphviz executables are on your systems' PATH\n"
     ]
    },
    {
     "data": {
      "image/svg+xml": [
       "<Config[LocalExecutor(\n",
       "  packager=<Config[Packager(debug=False, symlink_from_remote_dir=None)]>,\n",
       "  launcher='ft',\n",
       "  env_vars={'TRANSFORMERS_OFFLINE': '1', 'TORCH_NCCL_AVOID_RECORD_STREAMS': '1', 'NCCL_NVLS_ENABLE': '0', 'NVTE_DP_AMAX_REDUCE_INTERVAL': '0', 'NVTE_ASYNC_AMAX_REDUCTION': '1'},\n",
       "  retries=0,\n",
       "  experiment_id=None,\n",
       "  job_dir='',\n",
       "  ntasks_per_node=8)]>"
      ],
      "text/plain": [
       "LocalExecutor(packager=Packager(debug=False, symlink_from_remote_dir=None), launcher='ft', env_vars={'TRANSFORMERS_OFFLINE': '1', 'TORCH_NCCL_AVOID_RECORD_STREAMS': '1', 'NCCL_NVLS_ENABLE': '0', 'NVTE_DP_AMAX_REDUCE_INTERVAL': '0', 'NVTE_ASYNC_AMAX_REDUCTION': '1'}, retries=0, experiment_id=None, job_dir='', experiment_dir='', _launcher_setup=False, ntasks_per_node=8)"
      ]
     },
     "execution_count": 2,
     "metadata": {},
     "output_type": "execute_result"
    }
   ],
   "source": [
    "def local_executor(devices: int = 2) -> run.LocalExecutor:\n",
    "    \"\"\"\n",
    "    Factory method for creating a LocalExecutor instance. \n",
    "    This sets up environment variables and configures the number of devices.\n",
    "\n",
    "    Args:\n",
    "        devices (int): Number of devices to be used per node.\n",
    "\n",
    "    Returns:\n",
    "        run.LocalExecutor: Configured local executor object.\n",
    "    \"\"\"\n",
    "    env_vars = {\n",
    "        \"TRANSFORMERS_OFFLINE\": \"1\",   # Run Transformer models offline\n",
    "        \"TORCH_NCCL_AVOID_RECORD_STREAMS\": \"1\",  # Optimize PyTorch NCCL\n",
    "        \"NCCL_NVLS_ENABLE\": \"0\",      # Experimental NCCL environment variable\n",
    "        \"NVTE_DP_AMAX_REDUCE_INTERVAL\": \"0\", \n",
    "        \"NVTE_ASYNC_AMAX_REDUCTION\": \"1\",\n",
    "    }\n",
    "    # Create LocalExecutor with the `ft` launcher\n",
    "    executor = run.LocalExecutor(ntasks_per_node=devices, launcher=\"ft\", env_vars=env_vars)\n",
    "    return executor\n",
    "\n",
    "# Initialize the executor based on the arguments\n",
    "executor = local_executor(8)\n",
    "\n",
    "print(\"Executor setup complete.\")\n",
    "executor"
   ]
  },
  {
   "cell_type": "markdown",
   "id": "994ffd38-5f97-4001-ad86-46b686edb0e8",
   "metadata": {},
   "source": [
    "## Model Recipe Setup\n",
    "Load and configure the LLAMA pretrain recipe. We apply optional configurations\n",
    "such as:\n",
    "1. Enabling callbacks for straggler detection.\n",
    "2. Adding fault tolerance plugins.\n",
    "3. Updating training configurations for demonstration purposes."
   ]
  },
  {
   "cell_type": "code",
   "execution_count": 3,
   "id": "52245a88",
   "metadata": {},
   "outputs": [],
   "source": [
    "# Create a small LLAMA3 model configuration\n",
    "# TODO: Add info on current model size and how to change model size\n",
    "def small_llama_cfg() -> llm.GPTConfig:\n",
    "    \"\"\"Small 180m model\"\"\"\n",
    "    return run.Config(\n",
    "        llm.Llama3Config8B,\n",
    "        rotary_base=500_000,\n",
    "        seq_length=128,\n",
    "        num_layers=4,\n",
    "        hidden_size=768,\n",
    "        ffn_hidden_size=2688,\n",
    "        num_attention_heads=16,\n",
    "        init_method_std=0.023,\n",
    "    )\n"
   ]
  },
  {
   "cell_type": "markdown",
   "id": "b6988ce3",
   "metadata": {},
   "source": [
    "Create a pretrain recipe"
   ]
  },
  {
   "cell_type": "code",
   "execution_count": 4,
   "id": "f5c99ffc-3718-4383-b77a-161f387ce302",
   "metadata": {},
   "outputs": [],
   "source": [
    "# Experiment name\n",
    "exp_name = \"resiliency-in-pretraining-demo\"\n",
    "\n",
    "# Preliminary setup for the LLAMA pretrain recipe\n",
    "# TODO: Add info on how to change num_nodes and num_gpus_per_node\n",
    "pretrain = partial(llm.llama31_8b.pretrain_recipe, num_nodes=1, num_gpus_per_node=8)(\n",
    "    name=exp_name, dir=\"/tmp/nemo_run/checkpoints\"\n",
    ")\n",
    "# Use smaller LLAMA model for faster execution\n",
    "pretrain.model = run.Config(llm.LlamaModel, small_llama_cfg())"
   ]
  },
  {
   "cell_type": "markdown",
   "id": "67639495",
   "metadata": {},
   "source": [
    "# TODO: Add info on Straggler Detection callback, Preemption Plugin, Fault Tolerance Plugin"
   ]
  },
  {
   "cell_type": "code",
   "execution_count": 5,
   "id": "99a1e083",
   "metadata": {},
   "outputs": [
    {
     "name": "stdout",
     "output_type": "stream",
     "text": [
      "Model recipe setup complete.\n"
     ]
    }
   ],
   "source": [
    "# use CP=1 TP=2\n",
    "pretrain.trainer.strategy.tensor_model_parallel_size = 2\n",
    "pretrain.trainer.strategy.context_parallel_size = 1\n",
    "\n",
    "# Automatically detect and mitigate stragglers during training\n",
    "pretrain.trainer.callbacks.append(straggler_det_callback(straggler_report_time_interval=1))\n",
    "\n",
    "# Add runtime plugins (e.g., preemption and fault tolerance)\n",
    "run_plugins = [plugins.PreemptionPlugin()]\n",
    "run_plugins.append(plugins.FaultTolerancePlugin())\n",
    "\n",
    "# Disable validation sanity checks to reduce startup time\n",
    "pretrain.trainer.num_sanity_val_steps = 0\n",
    "\n",
    "# Limit the number of training steps for a concise demo\n",
    "max_steps = 20\n",
    "pretrain.broadcast(max_steps=max_steps)\n",
    "pretrain.trainer.limit_val_batches = 2\n",
    "pretrain.trainer.log_every_n_steps = 1\n",
    "pretrain.trainer.val_check_interval = 10\n",
    "\n",
    "# Confirm that recipe setup is complete\n",
    "print(\"Model recipe setup complete.\")\n"
   ]
  },
  {
   "cell_type": "code",
   "execution_count": 6,
   "id": "716602ab-7b1a-4a6a-a50b-15ba877c0b96",
   "metadata": {},
   "outputs": [],
   "source": [
    "# TODO: Add info on what these env variables are for\n",
    "# Setup ENV\n",
    "os.environ[\"FAULT_TOL_CFG_PATH\"] = \"/tmp/sample_job_ft_cfg.yml\"\n",
    "os.environ[\"FAULT_TOL_FINISHED_FLAG_FILE\"] = \"/tmp/sample_job_finished_flag\""
   ]
  },
  {
   "cell_type": "markdown",
   "id": "46ae75f7-1a91-4429-bfbf-3ebe62bce123",
   "metadata": {},
   "source": [
    "## Running the Experiment\n",
    "Run the entire pretraining experiment. Depending on the arguments passed:\n",
    "- If `dryrun` is True, it performs a dry run (to validate configurations).\n",
    "- Otherwise, it launches the actual training run locally."
   ]
  },
  {
   "cell_type": "code",
   "execution_count": 7,
   "id": "03887dd7-a23b-44c9-825a-311849729531",
   "metadata": {},
   "outputs": [],
   "source": [
    "def run_experiment(exp_name, pretrain, executor, run_plugins, dryrun=False):\n",
    "    \"\"\"\n",
    "    Run the pretraining experiment either as a dry run or actual training.\n",
    "    \n",
    "    Args:\n",
    "        exp_name: Name of the experiment\n",
    "        pretrain: Pretrain configuration object\n",
    "        executor: Executor to run the experiment\n",
    "        run_plugins: List of runtime plugins\n",
    "        dryrun: Boolean flag to perform a dry run\n",
    "    \"\"\"\n",
    "    with run.Experiment(f\"{exp_name}\") as exp:\n",
    "        # Add the pretrain job to the experiment\n",
    "        exp.add(\n",
    "            pretrain,\n",
    "            executor=executor,\n",
    "            name=exp_name,\n",
    "            plugins=run_plugins,\n",
    "            tail_logs=True,\n",
    "        )\n",
    "\n",
    "        # Execute the experiment based on the dryrun flag\n",
    "        if dryrun:\n",
    "            print(\"Performing dry run ...\")\n",
    "            exp.dryrun()\n",
    "        else:\n",
    "            print(\"Launching training run ...\")\n",
    "            exp.run(sequential=True, detach=True)\n",
    "            print(\"Experiment executed successfully.\")"
   ]
  },
  {
   "cell_type": "code",
   "execution_count": 8,
   "id": "2836df0e-3a43-4dfd-9534-4633f5aa2441",
   "metadata": {},
   "outputs": [
    {
     "data": {
      "text/html": [
       "<pre style=\"white-space:pre;overflow-x:auto;line-height:normal;font-family:Menlo,'DejaVu Sans Mono',consolas,'Courier New',monospace\"><span style=\"color: #00ff00; text-decoration-color: #00ff00\">────── </span><span style=\"color: #800080; text-decoration-color: #800080; font-weight: bold\">Entering Experiment resiliency-in-pretraining-demo with id: resiliency-in-pretraining-demo_1740700448</span><span style=\"color: #00ff00; text-decoration-color: #00ff00\"> ──────</span>\n",
       "</pre>\n"
      ],
      "text/plain": [
       "\u001b[92m────── \u001b[0m\u001b[1;35mEntering Experiment resiliency-in-pretraining-demo with id: resiliency-in-pretraining-demo_1740700448\u001b[0m\u001b[92m ──────\u001b[0m\n"
      ]
     },
     "metadata": {},
     "output_type": "display_data"
    },
    {
     "name": "stdout",
     "output_type": "stream",
     "text": [
      "Launching training run ...\n"
     ]
    },
    {
     "data": {
      "text/html": [
       "<pre style=\"white-space:pre;overflow-x:auto;line-height:normal;font-family:Menlo,'DejaVu Sans Mono',consolas,'Courier New',monospace\"><span style=\"color: #7fbfbf; text-decoration-color: #7fbfbf\">[23:54:08] </span><span style=\"color: #800000; text-decoration-color: #800000; font-weight: bold\"> Cannot detach from this experiment. Please keep it running until completion.</span>          <a href=\"file:///opt/NeMo-Run/src/nemo_run/run/experiment.py\" target=\"_blank\"><span style=\"color: #7f7f7f; text-decoration-color: #7f7f7f\">experiment.py</span></a><span style=\"color: #7f7f7f; text-decoration-color: #7f7f7f\">:</span><a href=\"file:///opt/NeMo-Run/src/nemo_run/run/experiment.py#651\" target=\"_blank\"><span style=\"color: #7f7f7f; text-decoration-color: #7f7f7f\">651</span></a>\n",
       "</pre>\n"
      ],
      "text/plain": [
       "\u001b[2;36m[23:54:08]\u001b[0m\u001b[2;36m \u001b[0m\u001b[1;31m Cannot detach from this experiment. Please keep it running until completion.\u001b[0m          \u001b]8;id=774176;file:///opt/NeMo-Run/src/nemo_run/run/experiment.py\u001b\\\u001b[2mexperiment.py\u001b[0m\u001b]8;;\u001b\\\u001b[2m:\u001b[0m\u001b]8;id=798902;file:///opt/NeMo-Run/src/nemo_run/run/experiment.py#651\u001b\\\u001b[2m651\u001b[0m\u001b]8;;\u001b\\\n"
      ]
     },
     "metadata": {},
     "output_type": "display_data"
    },
    {
     "name": "stderr",
     "output_type": "stream",
     "text": [
      "Log directory is: /root/.nemo_run/experiments/resiliency-in-pretraining-demo/resiliency-in-pretraining-demo_1740700448/resiliency-in-pretraining-demo\n"
     ]
    },
    {
     "data": {
      "text/html": [
       "<pre style=\"white-space:pre;overflow-x:auto;line-height:normal;font-family:Menlo,'DejaVu Sans Mono',consolas,'Courier New',monospace\"><span style=\"color: #7fbfbf; text-decoration-color: #7fbfbf\">           </span><span style=\"color: #008080; text-decoration-color: #008080; font-weight: bold\">Launching job resiliency-in-pretraining-demo for experiment </span>                           <a href=\"file:///opt/NeMo-Run/src/nemo_run/run/experiment.py\" target=\"_blank\"><span style=\"color: #7f7f7f; text-decoration-color: #7f7f7f\">experiment.py</span></a><span style=\"color: #7f7f7f; text-decoration-color: #7f7f7f\">:</span><a href=\"file:///opt/NeMo-Run/src/nemo_run/run/experiment.py#724\" target=\"_blank\"><span style=\"color: #7f7f7f; text-decoration-color: #7f7f7f\">724</span></a>\n",
       "<span style=\"color: #7fbfbf; text-decoration-color: #7fbfbf\">           </span><span style=\"color: #008080; text-decoration-color: #008080; font-weight: bold\">resiliency-in-pretraining-demo</span>                                                         <span style=\"color: #7f7f7f; text-decoration-color: #7f7f7f\">                 </span>\n",
       "</pre>\n"
      ],
      "text/plain": [
       "\u001b[2;36m          \u001b[0m\u001b[2;36m \u001b[0m\u001b[1;36mLaunching job resiliency-in-pretraining-demo for experiment \u001b[0m                           \u001b]8;id=126783;file:///opt/NeMo-Run/src/nemo_run/run/experiment.py\u001b\\\u001b[2mexperiment.py\u001b[0m\u001b]8;;\u001b\\\u001b[2m:\u001b[0m\u001b]8;id=212637;file:///opt/NeMo-Run/src/nemo_run/run/experiment.py#724\u001b\\\u001b[2m724\u001b[0m\u001b]8;;\u001b\\\n",
       "\u001b[2;36m           \u001b[0m\u001b[1;36mresiliency-in-pretraining-demo\u001b[0m                                                         \u001b[2m                 \u001b[0m\n"
      ]
     },
     "metadata": {},
     "output_type": "display_data"
    },
    {
     "name": "stderr",
     "output_type": "stream",
     "text": [
      "Log directory is: /root/.nemo_run/experiments/resiliency-in-pretraining-demo/resiliency-in-pretraining-demo_1740700448/resiliency-in-pretraining-demo\n",
      "Launched app: local_persistent://nemo_run/resiliency-in-pretraining-demo-npwcthb47vs0c\n",
      "AppStatus:\n",
      "    State: RUNNING\n",
      "    Num Restarts: 0\n",
      "    Roles: \n",
      "    Msg: <NONE>\n",
      "    Structured Error Msg: <NONE>\n",
      "    UI URL: file:///root/.nemo_run/experiments/resiliency-in-pretraining-demo/resiliency-in-pretraining-demo_1740700448/resiliency-in-pretraining-demo/nemo_run/resiliency-in-pretraining-demo-npwcthb47vs0c\n",
      "    \n"
     ]
    },
    {
     "name": "stdout",
     "output_type": "stream",
     "text": [
      "Experiment executed successfully.\n"
     ]
    },
    {
     "data": {
      "text/html": [
       "<pre style=\"white-space:pre;overflow-x:auto;line-height:normal;font-family:Menlo,'DejaVu Sans Mono',consolas,'Courier New',monospace\"><span style=\"color: #00ff00; text-decoration-color: #00ff00\">─────────────────── </span><span style=\"color: #800080; text-decoration-color: #800080; font-weight: bold\">Waiting for Experiment resiliency-in-pretraining-demo_1740700448 to finish</span><span style=\"color: #00ff00; text-decoration-color: #00ff00\"> ────────────────────</span>\n",
       "</pre>\n"
      ],
      "text/plain": [
       "\u001b[92m─────────────────── \u001b[0m\u001b[1;35mWaiting for Experiment resiliency-in-pretraining-demo_1740700448 to finish\u001b[0m\u001b[92m ────────────────────\u001b[0m\n"
      ]
     },
     "metadata": {},
     "output_type": "display_data"
    },
    {
     "data": {
      "text/html": [
       "<pre style=\"white-space:pre;overflow-x:auto;line-height:normal;font-family:Menlo,'DejaVu Sans Mono',consolas,'Courier New',monospace\">\n",
       "</pre>\n"
      ],
      "text/plain": [
       "\n"
      ]
     },
     "metadata": {},
     "output_type": "display_data"
    },
    {
     "data": {
      "text/html": [
       "<pre style=\"white-space:pre;overflow-x:auto;line-height:normal;font-family:Menlo,'DejaVu Sans Mono',consolas,'Courier New',monospace\"><span style=\"color: #008000; text-decoration-color: #008000; font-weight: bold\">Experiment Status for</span> <span style=\"color: #ffaf00; text-decoration-color: #ffaf00; font-weight: bold\">resiliency-in-pretraining-demo_1740700448</span>\n",
       "</pre>\n"
      ],
      "text/plain": [
       "\u001b[1;32mExperiment Status for\u001b[0m \u001b[1;38;5;214mresiliency-in-pretraining-demo_1740700448\u001b[0m\n"
      ]
     },
     "metadata": {},
     "output_type": "display_data"
    },
    {
     "data": {
      "text/html": [
       "<pre style=\"white-space:pre;overflow-x:auto;line-height:normal;font-family:Menlo,'DejaVu Sans Mono',consolas,'Courier New',monospace\">\n",
       "<span style=\"color: #008000; text-decoration-color: #008000; font-weight: bold\">Task 0</span>: <span style=\"color: #ffaf00; text-decoration-color: #ffaf00; font-weight: bold\">resiliency-in-pretraining-demo</span>\n",
       "- <span style=\"color: #008000; text-decoration-color: #008000; font-weight: bold\">Status</span>: RUNNING\n",
       "- <span style=\"color: #008000; text-decoration-color: #008000; font-weight: bold\">Executor</span>: LocalExecutor\n",
       "- <span style=\"color: #008000; text-decoration-color: #008000; font-weight: bold\">Job id</span>: resiliency-in-pretraining-demo-npwcthb47vs0c\n",
       "- <span style=\"color: #008000; text-decoration-color: #008000; font-weight: bold\">Local Directory</span>: /root/.nemo_run/experiments/resiliency-in-pretraining-demo/resiliency-in-pretraining-demo_1740700448/resiliency-in-pretraining-demo\n",
       "</pre>\n"
      ],
      "text/plain": [
       "\n",
       "\u001b[1;32mTask 0\u001b[0m: \u001b[1;38;5;214mresiliency-in-pretraining-demo\u001b[0m\n",
       "- \u001b[1;32mStatus\u001b[0m: RUNNING\n",
       "- \u001b[1;32mExecutor\u001b[0m: LocalExecutor\n",
       "- \u001b[1;32mJob id\u001b[0m: resiliency-in-pretraining-demo-npwcthb47vs0c\n",
       "- \u001b[1;32mLocal Directory\u001b[0m: /root/.nemo_run/experiments/resiliency-in-pretraining-demo/resiliency-in-pretraining-demo_1740700448/resiliency-in-pretraining-demo\n"
      ]
     },
     "metadata": {},
     "output_type": "display_data"
    },
    {
     "data": {
      "text/html": [
       "<pre style=\"white-space:pre;overflow-x:auto;line-height:normal;font-family:Menlo,'DejaVu Sans Mono',consolas,'Courier New',monospace\">\n",
       "</pre>\n"
      ],
      "text/plain": [
       "\n"
      ]
     },
     "metadata": {},
     "output_type": "display_data"
    },
    {
     "name": "stderr",
     "output_type": "stream",
     "text": [
      "Waiting for job resiliency-in-pretraining-demo-npwcthb47vs0c to finish [log=True]...\n"
     ]
    },
    {
     "name": "stdout",
     "output_type": "stream",
     "text": [
      "ining-demo/0 [2025-02-27 23:54:10,262] [WARNING] [ft_launcher@2cf99fac92af] master_addr is only used for static rdzv_backend and when rdzv_endpoint is not specified.\n",
      "ining-demo/0 [2025-02-27 23:54:10,262] [WARNING] [ft_launcher@2cf99fac92af] \n",
      "ining-demo/0 *****************************************\n",
      "ining-demo/0 Setting OMP_NUM_THREADS environment variable for each process to be 1 in default, to avoid your system being overloaded, please further tune the variable for optimal performance in your application as needed. \n",
      "ining-demo/0 *****************************************\n",
      "ining-demo/0 [2025-02-27 23:54:10,267] [INFO] [ft_launcher@2cf99fac92af] [default] starting workers for entrypoint: python\n",
      "ining-demo/0 [2025-02-27 23:54:10,267] [INFO] [ft_launcher@2cf99fac92af] [default] Rendezvous'ing worker group\n",
      "ining-demo/0 [2025-02-27 23:54:10,532] [INFO] [ft_launcher@2cf99fac92af] [default] Rendezvous complete for workers. Result:\n",
      "ining-demo/0   restart_count=0\n",
      "ining-demo/0   master_addr=2cf99fac92af\n",
      "ining-demo/0   master_port=48807\n",
      "ining-demo/0   group_rank=0\n",
      "ining-demo/0   group_world_size=1\n",
      "ining-demo/0   local_ranks=[0, 1, 2, 3, 4, 5, 6, 7]\n",
      "ining-demo/0   role_ranks=[0, 1, 2, 3, 4, 5, 6, 7]\n",
      "ining-demo/0   global_ranks=[0, 1, 2, 3, 4, 5, 6, 7]\n",
      "ining-demo/0   role_world_sizes=[8, 8, 8, 8, 8, 8, 8, 8]\n",
      "ining-demo/0   global_world_sizes=[8, 8, 8, 8, 8, 8, 8, 8]\n",
      "ining-demo/0 \n",
      "ining-demo/0 [2025-02-27 23:54:10,532] [INFO] [ft_launcher@2cf99fac92af] [default] Starting worker group\n",
      "ining-demo/0 [2025-02-27 23:54:21,455] [INFO] [ft_launcher@2cf99fac92af] Setting worker0 reply file to: /root/.nemo_run/experiments/resiliency-in-pretraining-demo/resiliency-in-pretraining-demo_1740700448/resiliency-in-pretraining-demo/nemo_run/resiliency-in-pretraining-demo-npwcthb47vs0c/torchelastic/resiliency-in-pretraining-demo/1466_hdgav08a/attempt_0/0/error.json\n",
      "ining-demo/0 [2025-02-27 23:54:21,455] [INFO] [ft_launcher@2cf99fac92af] Setting worker1 reply file to: /root/.nemo_run/experiments/resiliency-in-pretraining-demo/resiliency-in-pretraining-demo_1740700448/resiliency-in-pretraining-demo/nemo_run/resiliency-in-pretraining-demo-npwcthb47vs0c/torchelastic/resiliency-in-pretraining-demo/1466_hdgav08a/attempt_0/1/error.json\n",
      "ining-demo/0 [2025-02-27 23:54:21,456] [INFO] [ft_launcher@2cf99fac92af] Setting worker2 reply file to: /root/.nemo_run/experiments/resiliency-in-pretraining-demo/resiliency-in-pretraining-demo_1740700448/resiliency-in-pretraining-demo/nemo_run/resiliency-in-pretraining-demo-npwcthb47vs0c/torchelastic/resiliency-in-pretraining-demo/1466_hdgav08a/attempt_0/2/error.json\n",
      "ining-demo/0 [2025-02-27 23:54:21,456] [INFO] [ft_launcher@2cf99fac92af] Setting worker3 reply file to: /root/.nemo_run/experiments/resiliency-in-pretraining-demo/resiliency-in-pretraining-demo_1740700448/resiliency-in-pretraining-demo/nemo_run/resiliency-in-pretraining-demo-npwcthb47vs0c/torchelastic/resiliency-in-pretraining-demo/1466_hdgav08a/attempt_0/3/error.json\n",
      "ining-demo/0 [2025-02-27 23:54:21,456] [INFO] [ft_launcher@2cf99fac92af] Setting worker4 reply file to: /root/.nemo_run/experiments/resiliency-in-pretraining-demo/resiliency-in-pretraining-demo_1740700448/resiliency-in-pretraining-demo/nemo_run/resiliency-in-pretraining-demo-npwcthb47vs0c/torchelastic/resiliency-in-pretraining-demo/1466_hdgav08a/attempt_0/4/error.json\n",
      "ining-demo/0 [2025-02-27 23:54:21,456] [INFO] [ft_launcher@2cf99fac92af] Setting worker5 reply file to: /root/.nemo_run/experiments/resiliency-in-pretraining-demo/resiliency-in-pretraining-demo_1740700448/resiliency-in-pretraining-demo/nemo_run/resiliency-in-pretraining-demo-npwcthb47vs0c/torchelastic/resiliency-in-pretraining-demo/1466_hdgav08a/attempt_0/5/error.json\n",
      "ining-demo/0 [2025-02-27 23:54:21,456] [INFO] [ft_launcher@2cf99fac92af] Setting worker6 reply file to: /root/.nemo_run/experiments/resiliency-in-pretraining-demo/resiliency-in-pretraining-demo_1740700448/resiliency-in-pretraining-demo/nemo_run/resiliency-in-pretraining-demo-npwcthb47vs0c/torchelastic/resiliency-in-pretraining-demo/1466_hdgav08a/attempt_0/6/error.json\n",
      "ining-demo/0 [2025-02-27 23:54:21,456] [INFO] [ft_launcher@2cf99fac92af] Setting worker7 reply file to: /root/.nemo_run/experiments/resiliency-in-pretraining-demo/resiliency-in-pretraining-demo_1740700448/resiliency-in-pretraining-demo/nemo_run/resiliency-in-pretraining-demo-npwcthb47vs0c/torchelastic/resiliency-in-pretraining-demo/1466_hdgav08a/attempt_0/7/error.json\n",
      "ining-demo/0 [default0]:[NeMo W 2025-02-27 23:54:30 nemo_logging:361] /usr/local/lib/python3.10/dist-packages/pyannote/core/notebook.py:134: MatplotlibDeprecationWarning: The get_cmap function was deprecated in Matplotlib 3.7 and will be removed in 3.11. Use ``matplotlib.colormaps[name]`` or ``matplotlib.colormaps.get_cmap()`` or ``pyplot.get_cmap()`` instead.\n",
      "ining-demo/0 [default0]:      cm = get_cmap(\"Set1\")\n",
      "ining-demo/0 [default0]:    \n",
      "ining-demo/0 [default0]:[NeMo I 2025-02-27 23:54:32 tokenizer_utils:224] Getting Megatron tokenizer for pretrained model name: megatron-gpt-345m, custom vocab file: None, and merges file: None\n",
      "ining-demo/0 [default0]:[NeMo I 2025-02-27 23:54:32 megatron_utils:208] Downloading from https://s3.amazonaws.com/models.huggingface.co/bert/gpt2-merges.txt to /root/.cache/torch/megatron/megatron-gpt-345m_merges\n",
      "ining-demo/0 [default0]:Traceback (most recent call last):\n",
      "ining-demo/0 [default0]:  File \"/usr/lib/python3.10/runpy.py\", line 196, in _run_module_as_main\n",
      "ining-demo/0 [default0]:    return _run_code(code, main_globals, None,\n",
      "ining-demo/0 [default0]:  File \"/usr/lib/python3.10/runpy.py\", line 86, in _run_code\n",
      "ining-demo/0 [default0]:    exec(code, run_globals)\n",
      "ining-demo/0 [default0]:  File \"/opt/NeMo-Run/src/nemo_run/core/runners/fdl_runner.py\", line 66, in <module>\n",
      "ining-demo/0 [default0]:    fdl_runner_app()\n",
      "ining-demo/0 [default0]:  File \"/usr/local/lib/python3.10/dist-packages/typer/main.py\", line 338, in __call__\n",
      "ining-demo/0 [default0]:    raise e\n",
      "ining-demo/0 [default0]:  File \"/usr/local/lib/python3.10/dist-packages/typer/main.py\", line 321, in __call__\n",
      "ining-demo/0 [default0]:    return get_command(self)(*args, **kwargs)\n",
      "ining-demo/0 [default0]:  File \"/usr/local/lib/python3.10/dist-packages/click/core.py\", line 1157, in __call__\n",
      "ining-demo/0 [default0]:    return self.main(*args, **kwargs)\n",
      "ining-demo/0 [default0]:  File \"/usr/local/lib/python3.10/dist-packages/typer/core.py\", line 665, in main\n",
      "ining-demo/0 [default0]:    return _main(\n",
      "ining-demo/0 [default0]:  File \"/usr/local/lib/python3.10/dist-packages/typer/core.py\", line 197, in _main\n",
      "ining-demo/0 [default0]:    rv = self.invoke(ctx)\n",
      "ining-demo/0 [default0]:  File \"/usr/local/lib/python3.10/dist-packages/click/core.py\", line 1434, in invoke\n",
      "ining-demo/0 [default0]:    return ctx.invoke(self.callback, **ctx.params)\n",
      "ining-demo/0 [default0]:  File \"/usr/local/lib/python3.10/dist-packages/click/core.py\", line 783, in invoke\n",
      "ining-demo/0 [default0]:    return __callback(*args, **kwargs)\n",
      "ining-demo/0 [default0]:  File \"/usr/local/lib/python3.10/dist-packages/typer/main.py\", line 703, in wrapper\n",
      "ining-demo/0 [default0]:    return callback(**use_params)\n",
      "ining-demo/0 [default0]:  File \"/opt/NeMo-Run/src/nemo_run/core/runners/fdl_runner.py\", line 61, in fdl_direct_run\n",
      "ining-demo/0 [default0]:    fdl_fn = fdl.build(fdl_buildable)\n",
      "ining-demo/0 [default0]:  File \"/usr/local/lib/python3.10/dist-packages/fiddle/_src/building.py\", line 185, in build\n",
      "ining-demo/0 [default0]:    result = daglish.MemoizedTraversal.run(_build, buildable)\n",
      "ining-demo/0 [default0]:  File \"/usr/local/lib/python3.10/dist-packages/fiddle/_src/daglish.py\", line 477, in run\n",
      "ining-demo/0 [default0]:    return fn(root_obj, state)\n",
      "ining-demo/0 [default0]:  File \"/usr/local/lib/python3.10/dist-packages/fiddle/_src/building.py\", line 176, in _build\n",
      "ining-demo/0 [default0]:    sub_traversal = state.flattened_map_children(value)\n",
      "ining-demo/0 [default0]:  File \"/usr/local/lib/python3.10/dist-packages/fiddle/_src/daglish.py\", line 631, in flattened_map_children\n",
      "ining-demo/0 [default0]:    return self._flattened_map_children(value, node_traverser)\n",
      "ining-demo/0 [default0]:  File \"/usr/local/lib/python3.10/dist-packages/fiddle/_src/daglish.py\", line 579, in _flattened_map_children\n",
      "ining-demo/0 [default0]:    new_subvalues = [\n",
      "ining-demo/0 [default0]:  File \"/usr/local/lib/python3.10/dist-packages/fiddle/_src/daglish.py\", line 580, in <listcomp>\n",
      "ining-demo/0 [default0]:    self.call(subvalue, path_element)\n",
      "ining-demo/0 [default0]:  File \"/usr/local/lib/python3.10/dist-packages/fiddle/_src/daglish.py\", line 694, in call\n",
      "ining-demo/0 [default0]:    return self.traversal.apply(value, new_state)\n",
      "ining-demo/0 [default0]:  File \"/usr/local/lib/python3.10/dist-packages/fiddle/_src/daglish.py\", line 786, in apply\n",
      "ining-demo/0 [default0]:    result = self.traversal_fn(value, state)\n",
      "ining-demo/0 [default0]:  File \"/usr/local/lib/python3.10/dist-packages/fiddle/_src/building.py\", line 180, in _build\n",
      "ining-demo/0 [default0]:    return call_buildable(value, arguments, current_path=state.current_path)\n",
      "ining-demo/0 [default0]:  File \"/usr/local/lib/python3.10/dist-packages/fiddle/_src/building.py\", line 119, in call_buildable\n",
      "ining-demo/0 [default0]:    with reraised_exception.try_with_lazy_message(make_message):\n",
      "ining-demo/0 [default0]:  File \"/usr/lib/python3.10/contextlib.py\", line 153, in __exit__\n",
      "ining-demo/0 [default0]:    self.gen.throw(typ, value, traceback)\n",
      "ining-demo/0 [default0]:  File \"/usr/local/lib/python3.10/dist-packages/fiddle/_src/reraised_exception.py\", line 82, in try_with_lazy_message\n",
      "ining-demo/0 [default0]:    raise decorate_exception(exc, message) from None\n",
      "ining-demo/0 [default0]:  File \"/usr/local/lib/python3.10/dist-packages/fiddle/_src/reraised_exception.py\", line 74, in try_with_lazy_message\n",
      "ining-demo/0 [default0]:    yield\n",
      "ining-demo/0 [default0]:  File \"/usr/local/lib/python3.10/dist-packages/fiddle/_src/building.py\", line 120, in call_buildable\n",
      "ining-demo/0 [default0]:    return buildable.__build__(*args, **kwargs)\n",
      "ining-demo/0 [default0]:  File \"/usr/local/lib/python3.10/dist-packages/fiddle/_src/config.py\", line 783, in __build__\n",
      "ining-demo/0 [default0]:    return self.__fn_or_cls__(*args, **kwargs)\n",
      "ining-demo/0 [default0]:  File \"/opt/NeMo/nemo/collections/llm/gpt/data/mock.py\", line 64, in __init__\n",
      "ining-demo/0 [default0]:    self.tokenizer = get_nmt_tokenizer(\"megatron\", \"GPT2BPETokenizer\")\n",
      "ining-demo/0 [default0]:  File \"/opt/NeMo/nemo/collections/nlp/modules/common/tokenizer_utils.py\", line 227, in get_nmt_tokenizer\n",
      "ining-demo/0 [default0]:    return get_tokenizer(\n",
      "ining-demo/0 [default0]:  File \"/opt/NeMo/nemo/collections/nlp/modules/common/tokenizer_utils.py\", line 100, in get_tokenizer\n",
      "ining-demo/0 [default0]:    merges_file = get_megatron_merges_file(tokenizer_name)\n",
      "ining-demo/0 [default0]:  File \"/opt/NeMo/nemo/collections/nlp/modules/common/megatron/megatron_utils.py\", line 175, in get_megatron_merges_file\n",
      "ining-demo/0 [default0]:    path = _download(path, url)\n",
      "ining-demo/0 [default0]:  File \"/opt/NeMo/nemo/collections/nlp/modules/common/megatron/megatron_utils.py\", line 210, in _download\n",
      "ining-demo/0 [default0]:    shutil.move(downloaded_path, path)\n",
      "ining-demo/0 [default0]:  File \"/usr/lib/python3.10/shutil.py\", line 836, in move\n",
      "ining-demo/0 [default0]:    copy_function(src, real_dst)\n",
      "ining-demo/0 [default0]:  File \"/usr/lib/python3.10/shutil.py\", line 435, in copy2\n",
      "ining-demo/0 [default0]:    copystat(src, dst, follow_symlinks=follow_symlinks)\n",
      "ining-demo/0 [default0]:  File \"/usr/lib/python3.10/shutil.py\", line 372, in copystat\n",
      "ining-demo/0 [default0]:    st = lookup(\"stat\")(src, follow_symlinks=follow)\n",
      "ining-demo/0 [default0]:FileNotFoundError: [Errno 2] No such file or directory: 'gpt2-merges.txt'\n",
      "ining-demo/0 [default0]:\n",
      "ining-demo/0 [default0]:Fiddle context: failed to construct or call MockDataModule at <root>.data with positional arguments: (), keyword arguments: (seq_length=8192, micro_batch_size=1, global_batch_size=512).\n",
      "ining-demo/0 [default2]:Initializing distributed: GLOBAL_RANK: 2, MEMBER: 3/8\n",
      "ining-demo/0 [default1]:Initializing distributed: GLOBAL_RANK: 1, MEMBER: 2/8\n",
      "ining-demo/0 [default4]:Initializing distributed: GLOBAL_RANK: 4, MEMBER: 5/8\n",
      "ining-demo/0 [default3]:Initializing distributed: GLOBAL_RANK: 3, MEMBER: 4/8\n",
      "ining-demo/0 [default6]:Initializing distributed: GLOBAL_RANK: 6, MEMBER: 7/8\n",
      "ining-demo/0 [default7]:Initializing distributed: GLOBAL_RANK: 7, MEMBER: 8/8\n",
      "ining-demo/0 [default5]:Initializing distributed: GLOBAL_RANK: 5, MEMBER: 6/8\n",
      "ining-demo/0 [2025-02-27 23:54:36,485] [WARNING] [ft_launcher@2cf99fac92af] Sending process 594 closing signal SIGTERM\n",
      "ining-demo/0 [2025-02-27 23:54:36,486] [WARNING] [ft_launcher@2cf99fac92af] Sending process 595 closing signal SIGTERM\n",
      "ining-demo/0 [2025-02-27 23:54:36,486] [WARNING] [ft_launcher@2cf99fac92af] Sending process 596 closing signal SIGTERM\n",
      "ining-demo/0 [2025-02-27 23:54:36,486] [WARNING] [ft_launcher@2cf99fac92af] Sending process 597 closing signal SIGTERM\n",
      "ining-demo/0 [2025-02-27 23:54:36,487] [WARNING] [ft_launcher@2cf99fac92af] Sending process 598 closing signal SIGTERM\n",
      "ining-demo/0 [2025-02-27 23:54:36,487] [WARNING] [ft_launcher@2cf99fac92af] Sending process 599 closing signal SIGTERM\n",
      "ining-demo/0 [2025-02-27 23:54:36,487] [WARNING] [ft_launcher@2cf99fac92af] Sending process 600 closing signal SIGTERM\n",
      "ining-demo/0 [2025-02-27 23:54:37,503] [ERROR] [ft_launcher@2cf99fac92af] failed (exitcode: 1) local_rank: 0 (pid: 593) of binary: /usr/bin/python\n",
      "ining-demo/0 [2025-02-27 23:54:37,503] [INFO] [ft_launcher@2cf99fac92af] [default] Worker group FAILED. 3/3 attempts left; will restart worker group\n",
      "ining-demo/0 [2025-02-27 23:54:37,503] [INFO] [ft_launcher@2cf99fac92af] [default] Stopping worker group\n",
      "ining-demo/0 [2025-02-27 23:54:37,512] [INFO] [ft_launcher@2cf99fac92af] [default] Rendezvous'ing worker group\n",
      "ining-demo/0 [2025-02-27 23:54:37,639] [INFO] [ft_launcher@2cf99fac92af] [default] Rendezvous complete for workers. Result:\n",
      "ining-demo/0   restart_count=1\n",
      "ining-demo/0   master_addr=2cf99fac92af\n",
      "ining-demo/0   master_port=35979\n",
      "ining-demo/0   group_rank=0\n",
      "ining-demo/0   group_world_size=1\n",
      "ining-demo/0   local_ranks=[0, 1, 2, 3, 4, 5, 6, 7]\n",
      "ining-demo/0   role_ranks=[0, 1, 2, 3, 4, 5, 6, 7]\n",
      "ining-demo/0   global_ranks=[0, 1, 2, 3, 4, 5, 6, 7]\n",
      "ining-demo/0   role_world_sizes=[8, 8, 8, 8, 8, 8, 8, 8]\n",
      "ining-demo/0   global_world_sizes=[8, 8, 8, 8, 8, 8, 8, 8]\n",
      "ining-demo/0 \n",
      "ining-demo/0 [2025-02-27 23:54:37,640] [INFO] [ft_launcher@2cf99fac92af] [default] Starting worker group\n",
      "ining-demo/0 [2025-02-27 23:54:37,640] [INFO] [ft_launcher@2cf99fac92af] Setting worker0 reply file to: /root/.nemo_run/experiments/resiliency-in-pretraining-demo/resiliency-in-pretraining-demo_1740700448/resiliency-in-pretraining-demo/nemo_run/resiliency-in-pretraining-demo-npwcthb47vs0c/torchelastic/resiliency-in-pretraining-demo/1466_hdgav08a/attempt_1/0/error.json\n",
      "ining-demo/0 [2025-02-27 23:54:37,640] [INFO] [ft_launcher@2cf99fac92af] Setting worker1 reply file to: /root/.nemo_run/experiments/resiliency-in-pretraining-demo/resiliency-in-pretraining-demo_1740700448/resiliency-in-pretraining-demo/nemo_run/resiliency-in-pretraining-demo-npwcthb47vs0c/torchelastic/resiliency-in-pretraining-demo/1466_hdgav08a/attempt_1/1/error.json\n",
      "ining-demo/0 [2025-02-27 23:54:37,640] [INFO] [ft_launcher@2cf99fac92af] Setting worker2 reply file to: /root/.nemo_run/experiments/resiliency-in-pretraining-demo/resiliency-in-pretraining-demo_1740700448/resiliency-in-pretraining-demo/nemo_run/resiliency-in-pretraining-demo-npwcthb47vs0c/torchelastic/resiliency-in-pretraining-demo/1466_hdgav08a/attempt_1/2/error.json\n",
      "ining-demo/0 [2025-02-27 23:54:37,640] [INFO] [ft_launcher@2cf99fac92af] Setting worker3 reply file to: /root/.nemo_run/experiments/resiliency-in-pretraining-demo/resiliency-in-pretraining-demo_1740700448/resiliency-in-pretraining-demo/nemo_run/resiliency-in-pretraining-demo-npwcthb47vs0c/torchelastic/resiliency-in-pretraining-demo/1466_hdgav08a/attempt_1/3/error.json\n",
      "ining-demo/0 [2025-02-27 23:54:37,640] [INFO] [ft_launcher@2cf99fac92af] Setting worker4 reply file to: /root/.nemo_run/experiments/resiliency-in-pretraining-demo/resiliency-in-pretraining-demo_1740700448/resiliency-in-pretraining-demo/nemo_run/resiliency-in-pretraining-demo-npwcthb47vs0c/torchelastic/resiliency-in-pretraining-demo/1466_hdgav08a/attempt_1/4/error.json\n",
      "ining-demo/0 [2025-02-27 23:54:37,641] [INFO] [ft_launcher@2cf99fac92af] Setting worker5 reply file to: /root/.nemo_run/experiments/resiliency-in-pretraining-demo/resiliency-in-pretraining-demo_1740700448/resiliency-in-pretraining-demo/nemo_run/resiliency-in-pretraining-demo-npwcthb47vs0c/torchelastic/resiliency-in-pretraining-demo/1466_hdgav08a/attempt_1/5/error.json\n",
      "ining-demo/0 [2025-02-27 23:54:37,641] [INFO] [ft_launcher@2cf99fac92af] Setting worker6 reply file to: /root/.nemo_run/experiments/resiliency-in-pretraining-demo/resiliency-in-pretraining-demo_1740700448/resiliency-in-pretraining-demo/nemo_run/resiliency-in-pretraining-demo-npwcthb47vs0c/torchelastic/resiliency-in-pretraining-demo/1466_hdgav08a/attempt_1/6/error.json\n",
      "ining-demo/0 [2025-02-27 23:54:37,641] [INFO] [ft_launcher@2cf99fac92af] Setting worker7 reply file to: /root/.nemo_run/experiments/resiliency-in-pretraining-demo/resiliency-in-pretraining-demo_1740700448/resiliency-in-pretraining-demo/nemo_run/resiliency-in-pretraining-demo-npwcthb47vs0c/torchelastic/resiliency-in-pretraining-demo/1466_hdgav08a/attempt_1/7/error.json\n",
      "ining-demo/0 [default0]:[NeMo W 2025-02-27 23:54:47 nemo_logging:361] /usr/local/lib/python3.10/dist-packages/pyannote/core/notebook.py:134: MatplotlibDeprecationWarning: The get_cmap function was deprecated in Matplotlib 3.7 and will be removed in 3.11. Use ``matplotlib.colormaps[name]`` or ``matplotlib.colormaps.get_cmap()`` or ``pyplot.get_cmap()`` instead.\n",
      "ining-demo/0 [default0]:      cm = get_cmap(\"Set1\")\n",
      "ining-demo/0 [default0]:    \n",
      "ining-demo/0 [default0]:[NeMo I 2025-02-27 23:54:49 tokenizer_utils:224] Getting Megatron tokenizer for pretrained model name: megatron-gpt-345m, custom vocab file: None, and merges file: None\n",
      "ining-demo/0 [default0]:[NeMo I 2025-02-27 23:54:49 tokenizer_utils:130] Getting HuggingFace AutoTokenizer with pretrained_model_name: gpt2, vocab_file: /root/.cache/torch/megatron/megatron-gpt-345m_vocab, merges_files: /root/.cache/torch/megatron/megatron-gpt-345m_merges, special_tokens_dict: {}, and use_fast: False\n",
      "ining-demo/0 [default0]:[NeMo I 2025-02-27 23:54:49 nemo_logger:145] Experiments will be logged at /tmp/nemo_run/checkpoints/resiliency-in-pretraining-demo\n",
      "ining-demo/0 [default0]:[NeMo I 2025-02-27 23:54:49 megatron_strategy:315] Fixing mis-match between ddp-config & mcore-optimizer config\n",
      "ining-demo/0 [default0]:GPU available: True (cuda), used: True\n",
      "ining-demo/0 [default0]:TPU available: False, using: 0 TPU cores\n",
      "ining-demo/0 [default0]:HPU available: False, using: 0 HPUs\n",
      "ining-demo/0 [default0]:[NeMo W 2025-02-27 23:54:49 nemo_logger:123] No version folders would be created under the log folder as 'resume_if_exists' is enabled.\n",
      "ining-demo/0 [default0]:[NeMo W 2025-02-27 23:54:49 nemo_logger:173] \"update_logger_directory\" is True. Overwriting tensorboard logger \"save_dir\" to /tmp/nemo_run/checkpoints/tb_logs\n",
      "ining-demo/0 [default0]:[NeMo W 2025-02-27 23:54:49 nemo_logger:189] The Trainer already contains a ModelCheckpoint callback. This will be overwritten.\n",
      "ining-demo/0 [default0]:[NeMo W 2025-02-27 23:54:49 nemo_logger:212] The checkpoint callback was told to monitor a validation value and trainer's max_steps was set to 20. Please ensure that max_steps will run for at least 1 epochs to ensure that checkpointing will not error out.\n",
      "ining-demo/0 [default0]:[NeMo W 2025-02-27 23:54:49 resume:228] There were no checkpoints found in checkpoint_dir or no checkpoint folder at checkpoint_dir :/tmp/nemo_run/checkpoints/resiliency-in-pretraining-demo/checkpoints. Training from scratch.\n",
      "ining-demo/0 [default5]:Initializing distributed: GLOBAL_RANK: 5, MEMBER: 6/8\n",
      "ining-demo/0 [default0]:[NeMo I 2025-02-27 23:54:50 megatron_init:426] Rank 0 has data parallel group : [0, 2, 4, 6]\n",
      "ining-demo/0 [default0]:[NeMo I 2025-02-27 23:54:50 megatron_init:432] Rank 0 has combined group of data parallel and context parallel : [0, 2, 4, 6]\n",
      "ining-demo/0 [default0]:[NeMo I 2025-02-27 23:54:50 megatron_init:437] All data parallel group ranks with context parallel combined: [[0, 2, 4, 6], [1, 3, 5, 7]]\n",
      "ining-demo/0 [default0]:[NeMo I 2025-02-27 23:54:50 megatron_init:440] Ranks 0 has data parallel rank: 0\n",
      "ining-demo/0 [default0]:[NeMo I 2025-02-27 23:54:50 megatron_init:448] Rank 0 has context parallel group: [0]\n",
      "ining-demo/0 [default0]:[NeMo I 2025-02-27 23:54:50 megatron_init:451] All context parallel group ranks: [[0], [1], [2], [3], [4], [5], [6], [7]]\n",
      "ining-demo/0 [default0]:[NeMo I 2025-02-27 23:54:50 megatron_init:452] Ranks 0 has context parallel rank: 0\n",
      "ining-demo/0 [default0]:[NeMo I 2025-02-27 23:54:50 megatron_init:459] Rank 0 has model parallel group: [0, 1]\n",
      "ining-demo/0 [default0]:[NeMo I 2025-02-27 23:54:50 megatron_init:460] All model parallel group ranks: [[0, 1], [2, 3], [4, 5], [6, 7]]\n",
      "ining-demo/0 [default0]:[NeMo I 2025-02-27 23:54:50 megatron_init:469] Rank 0 has tensor model parallel group: [0, 1]\n",
      "ining-demo/0 [default0]:[NeMo I 2025-02-27 23:54:50 megatron_init:473] All tensor model parallel group ranks: [[0, 1], [2, 3], [4, 5], [6, 7]]\n",
      "ining-demo/0 [default0]:[NeMo I 2025-02-27 23:54:50 megatron_init:474] Rank 0 has tensor model parallel rank: 0\n",
      "ining-demo/0 [default0]:[NeMo I 2025-02-27 23:54:50 megatron_init:494] Rank 0 has pipeline model parallel group: [0]\n",
      "ining-demo/0 [default0]:[NeMo I 2025-02-27 23:54:50 megatron_init:506] Rank 0 has embedding group: [0]\n",
      "ining-demo/0 [default0]:[NeMo I 2025-02-27 23:54:50 megatron_init:512] All pipeline model parallel group ranks: [[0], [1], [2], [3], [4], [5], [6], [7]]\n",
      "ining-demo/0 [default0]:[NeMo I 2025-02-27 23:54:50 megatron_init:513] Rank 0 has pipeline model parallel rank 0\n",
      "ining-demo/0 [default0]:[NeMo I 2025-02-27 23:54:50 megatron_init:514] All embedding group ranks: [[0], [1], [2], [3], [4], [5], [6], [7]]\n",
      "ining-demo/0 [default0]:[NeMo I 2025-02-27 23:54:50 megatron_init:515] Rank 0 has embedding rank: 0\n",
      "ining-demo/0 [default6]:Initializing distributed: GLOBAL_RANK: 6, MEMBER: 7/8\n",
      "ining-demo/0 [default0]:Initializing distributed: GLOBAL_RANK: 0, MEMBER: 1/8\n",
      "ining-demo/0 [default4]:Initializing distributed: GLOBAL_RANK: 4, MEMBER: 5/8\n",
      "ining-demo/0 [default1]:Initializing distributed: GLOBAL_RANK: 1, MEMBER: 2/8\n",
      "ining-demo/0 [default2]:Initializing distributed: GLOBAL_RANK: 2, MEMBER: 3/8\n",
      "ining-demo/0 [default3]:Initializing distributed: GLOBAL_RANK: 3, MEMBER: 4/8\n",
      "ining-demo/0 [default7]:Initializing distributed: GLOBAL_RANK: 7, MEMBER: 8/8\n",
      "ining-demo/0 [default0]:----------------------------------------------------------------------------------------------------\n",
      "ining-demo/0 [default0]:distributed_backend=nccl\n",
      "ining-demo/0 [default0]:All distributed processes registered. Starting with 8 processes\n",
      "ining-demo/0 [default0]:----------------------------------------------------------------------------------------------------\n",
      "ining-demo/0 [default0]:\n",
      "ining-demo/0 [default0]:[NeMo I 2025-02-27 23:54:52 fault_tolerance_callback:311] [FaultToleranceCallback@rank0] Fault tolerance dir: /tmp/nemo_run/checkpoints\n",
      "ining-demo/0 [default0]:[NeMo I 2025-02-27 23:54:52 fault_tolerance_callback:311] [FaultToleranceCallback@rank0] Fault tolerance client initialized. Timeouts: HeartbeatTimeouts(initial=1800.00, subsequent=300.00, were_calculated=False)\n",
      "ining-demo/0 [default0]:[NeMo I 2025-02-27 23:54:52 base:44] Padded vocab_size: 50432, original vocab_size: 50257, dummy tokens: 175.\n",
      "ining-demo/0 [default0]:[NeMo I 2025-02-27 23:54:52 megatron_strategy:327] Copying Trainer's 'max_steps' (20) to LR scheduler's 'max_steps'.\n",
      "ining-demo/0 [default0]:[NeMo I 2025-02-27 23:54:52 num_microbatches_calculator:228] setting number of microbatches to constant 128\n",
      "ining-demo/0 [default0]:[NeMo I 2025-02-27 23:54:52 megatron_parallel:549]  > number of parameters on (tensor, pipeline) model parallel rank (0, 0): 54663936\n",
      "ining-demo/0 [default0]:[NeMo I 2025-02-27 23:54:52 utils:302] Setting up DistributedDataParallel with config DistributedDataParallelConfig(grad_reduce_in_fp32=True, overlap_grad_reduce=True, overlap_param_gather=True, align_param_gather=False, use_distributed_optimizer=True, num_distributed_optimizer_instances=1, check_for_nan_in_grad=True, bucket_size=40000000, average_in_collective=True, fp8_param_gather=False)\n",
      "ining-demo/0 [default0]:[NeMo I 2025-02-27 23:54:52 utils:323] Number of buckets for gradient all-reduce / reduce-scatter: 1\n",
      "ining-demo/0 [default0]:    Params for bucket 1 (54663936 elements):\n",
      "ining-demo/0 [default0]:    \tmodule.decoder.layers.3.self_attention.linear_proj.weight\n",
      "ining-demo/0 [default0]:    \tmodule.decoder.layers.3.mlp.linear_fc1.layer_norm_weight\n",
      "ining-demo/0 [default0]:    \tmodule.decoder.layers.2.mlp.linear_fc2.weight\n",
      "ining-demo/0 [default0]:    \tmodule.decoder.layers.1.mlp.linear_fc1.weight\n",
      "ining-demo/0 [default0]:    \tmodule.decoder.layers.1.self_attention.linear_proj.weight\n",
      "ining-demo/0 [default0]:    \tmodule.decoder.layers.0.self_attention.linear_qkv.layer_norm_weight\n",
      "ining-demo/0 [default0]:    \tmodule.decoder.layers.0.self_attention.linear_proj.weight\n",
      "ining-demo/0 [default0]:    \tmodule.output_layer.weight\n",
      "ining-demo/0 [default0]:    \tmodule.decoder.layers.1.self_attention.linear_qkv.weight\n",
      "ining-demo/0 [default0]:    \tmodule.decoder.layers.0.self_attention.linear_qkv.weight\n",
      "ining-demo/0 [default0]:    \tmodule.decoder.layers.1.self_attention.linear_qkv.layer_norm_weight\n",
      "ining-demo/0 [default0]:    \tmodule.decoder.layers.3.mlp.linear_fc2.weight\n",
      "ining-demo/0 [default0]:    \tmodule.decoder.layers.2.mlp.linear_fc1.weight\n",
      "ining-demo/0 [default0]:    \tmodule.decoder.final_layernorm.weight\n",
      "ining-demo/0 [default0]:    \tmodule.decoder.layers.2.self_attention.linear_qkv.weight\n",
      "ining-demo/0 [default0]:    \tmodule.decoder.layers.0.mlp.linear_fc2.weight\n",
      "ining-demo/0 [default0]:    \tmodule.decoder.layers.3.mlp.linear_fc1.weight\n",
      "ining-demo/0 [default0]:    \tmodule.decoder.layers.2.self_attention.linear_qkv.layer_norm_weight\n",
      "ining-demo/0 [default0]:    \tmodule.decoder.layers.1.mlp.linear_fc1.layer_norm_weight\n",
      "ining-demo/0 [default0]:    \tmodule.decoder.layers.3.self_attention.linear_qkv.weight\n",
      "ining-demo/0 [default0]:    \tmodule.decoder.layers.2.self_attention.linear_proj.weight\n",
      "ining-demo/0 [default0]:    \tmodule.decoder.layers.0.mlp.linear_fc1.weight\n",
      "ining-demo/0 [default0]:    \tmodule.embedding.word_embeddings.weight\n",
      "ining-demo/0 [default0]:    \tmodule.decoder.layers.3.self_attention.linear_qkv.layer_norm_weight\n",
      "ining-demo/0 [default0]:    \tmodule.decoder.layers.2.mlp.linear_fc1.layer_norm_weight\n",
      "ining-demo/0 [default0]:    \tmodule.decoder.layers.1.mlp.linear_fc2.weight\n",
      "ining-demo/0 [default0]:    \tmodule.decoder.layers.0.mlp.linear_fc1.layer_norm_weight\n",
      "ining-demo/0 [default0]:[NeMo I 2025-02-27 23:54:52 utils:302] Setting up optimizer with config OptimizerConfig(optimizer='adam', lr=0.0003, min_lr=None, decoupled_lr=None, decoupled_min_lr=None, weight_decay=0.1, fp16=False, bf16=True, params_dtype=torch.bfloat16, loss_scale=None, initial_loss_scale=4294967296, min_loss_scale=1.0, loss_scale_window=1000, hysteresis=2, adam_beta1=0.9, adam_beta2=0.95, adam_eps=1e-05, sgd_momentum=0.9, use_distributed_optimizer=True, overlap_param_gather_with_optimizer_step=False, clip_grad=1.0, log_num_zeros_in_grad=False, barrier_with_L1_time=False, timers=None, config_logger_dir='')\n",
      "ining-demo/0 [default7]:LOCAL_RANK: 7 - CUDA_VISIBLE_DEVICES: [0,1,2,3,4,5,6,7]\n",
      "ining-demo/0 [default1]:LOCAL_RANK: 1 - CUDA_VISIBLE_DEVICES: [0,1,2,3,4,5,6,7]\n",
      "ining-demo/0 [default2]:LOCAL_RANK: 2 - CUDA_VISIBLE_DEVICES: [0,1,2,3,4,5,6,7]\n",
      "ining-demo/0 [default6]:LOCAL_RANK: 6 - CUDA_VISIBLE_DEVICES: [0,1,2,3,4,5,6,7]\n",
      "ining-demo/0 [default4]:LOCAL_RANK: 4 - CUDA_VISIBLE_DEVICES: [0,1,2,3,4,5,6,7]\n",
      "ining-demo/0 [default0]:LOCAL_RANK: 0 - CUDA_VISIBLE_DEVICES: [0,1,2,3,4,5,6,7]\n",
      "ining-demo/0 [default0]:\n",
      "ining-demo/0 [default5]:LOCAL_RANK: 5 - CUDA_VISIBLE_DEVICES: [0,1,2,3,4,5,6,7]\n",
      "ining-demo/0 [default0]:  | Name   | Type | Params | Mode \n",
      "ining-demo/0 [default3]:LOCAL_RANK: 3 - CUDA_VISIBLE_DEVICES: [0,1,2,3,4,5,6,7]\n",
      "ining-demo/0 [default0]:----------------------------------------\n",
      "ining-demo/0 [default0]:0 | module | DDP  | 54.7 M | train\n",
      "ining-demo/0 [default0]:----------------------------------------\n",
      "ining-demo/0 [default0]:54.7 M    Trainable params\n",
      "ining-demo/0 [default0]:0         Non-trainable params\n",
      "ining-demo/0 [default0]:54.7 M    Total params\n",
      "ining-demo/0 [default0]:218.656   Total estimated model params size (MB)\n",
      "ining-demo/0 [default0]:91        Modules in train mode\n",
      "ining-demo/0 [default0]:0         Modules in eval mode\n",
      "ining-demo/0 [default0]:[NeMo W 2025-02-27 23:55:06 rerun_state_machine:1088] Implicit initialization of Rerun State Machine!\n",
      "ining-demo/0 [default0]:[NeMo W 2025-02-27 23:55:06 rerun_state_machine:211] RerunStateMachine initialized in mode disabled\n",
      "ining-demo/0 [default0]:Training epoch 0, iteration 0/19 | lr: 1.499e-07 | global_batch_size: 512 | global_step: 0 | reduced_train_loss: 11.03 | train_step_timing in s: 14.41\n",
      "ining-demo/0 [default0]:Training epoch 0, iteration 1/19 | lr: 2.999e-07 | global_batch_size: 512 | global_step: 1 | reduced_train_loss: 11.03 | train_step_timing in s: 7.587 | consumed_samples: 1024\n",
      "ining-demo/0 [default0]:Training epoch 0, iteration 2/19 | lr: 4.498e-07 | global_batch_size: 512 | global_step: 2 | reduced_train_loss: 11.03 | train_step_timing in s: 7.606 | consumed_samples: 1536\n",
      "ining-demo/0 [default0]:Training epoch 0, iteration 3/19 | lr: 5.997e-07 | global_batch_size: 512 | global_step: 3 | reduced_train_loss: 11.03 | train_step_timing in s: 7.602 | consumed_samples: 2048\n",
      "ining-demo/0 [default0]:Training epoch 0, iteration 4/19 | lr: 7.496e-07 | global_batch_size: 512 | global_step: 4 | reduced_train_loss: 11.03 | train_step_timing in s: 7.6 | consumed_samples: 2560\n",
      "ining-demo/0 [default0]:Training epoch 0, iteration 5/19 | lr: 8.996e-07 | global_batch_size: 512 | global_step: 5 | reduced_train_loss: 11.03 | train_step_timing in s: 7.616 | consumed_samples: 3072\n",
      "ining-demo/0 [default0]:Training epoch 0, iteration 6/19 | lr: 1.049e-06 | global_batch_size: 512 | global_step: 6 | reduced_train_loss: 11.03 | train_step_timing in s: 7.601 | consumed_samples: 3584\n",
      "ining-demo/0 [default0]:Training epoch 0, iteration 7/19 | lr: 1.199e-06 | global_batch_size: 512 | global_step: 7 | reduced_train_loss: 11.03 | train_step_timing in s: 7.604 | consumed_samples: 4096\n",
      "ining-demo/0 [default0]:Training epoch 0, iteration 8/19 | lr: 1.349e-06 | global_batch_size: 512 | global_step: 8 | reduced_train_loss: 11.03 | train_step_timing in s: 7.599 | consumed_samples: 4608\n",
      "ining-demo/0 [default0]:Training epoch 0, iteration 9/19 | lr: 1.499e-06 | global_batch_size: 512 | global_step: 9 | reduced_train_loss: 11.03 | train_step_timing in s: 7.613 | consumed_samples: 5120\n",
      "ining-demo/0 [default0]:[NeMo W 2025-02-27 23:56:16 validation:389] There is difference in the common state dict in different ranks. The differences are {2: ([], [('optimizer', 0, 'optimizer', 'param_groups', 1, 'step')], []), 3: ([], [('optimizer', 0, 'optimizer', 'param_groups', 1, 'step')], []), 4: ([], [('optimizer', 0, 'optimizer', 'param_groups', 1, 'step')], []), 5: ([], [('optimizer', 0, 'optimizer', 'param_groups', 1, 'step')], [])}\n",
      "ining-demo/0 [default0]:[NeMo I 2025-02-27 23:56:19 model_checkpoint:497] Scheduled async checkpoint save for /tmp/nemo_run/checkpoints/resiliency-in-pretraining-demo/checkpoints/model_name=0--val_loss=0.00-step=9-consumed_samples=5120.0-last.ckpt\n",
      "ining-demo/0 [default0]:Training epoch 0, iteration 10/19 | lr: 1.649e-06 | global_batch_size: 512 | global_step: 10 | reduced_train_loss: 11.03 | train_step_timing in s: 7.622 | consumed_samples: 5632\n",
      "ining-demo/0 [default0]:[NeMo I 2025-02-27 23:56:27 model_checkpoint:522] Async checkpoint save for step 10 (/tmp/nemo_run/checkpoints/resiliency-in-pretraining-demo/checkpoints/model_name=0--val_loss=0.00-step=9-consumed_samples=5120.0-last.ckpt) finalized successfully.\n",
      "ining-demo/0 [default0]:Training epoch 0, iteration 11/19 | lr: 1.799e-06 | global_batch_size: 512 | global_step: 11 | reduced_train_loss: 11.03 | train_step_timing in s: 7.616 | consumed_samples: 6144\n",
      "ining-demo/0 [default0]:Training epoch 0, iteration 12/19 | lr: 1.949e-06 | global_batch_size: 512 | global_step: 12 | reduced_train_loss: 11.03 | train_step_timing in s: 7.62 | consumed_samples: 6656\n",
      "ining-demo/0 [default0]:Training epoch 0, iteration 13/19 | lr: 2.099e-06 | global_batch_size: 512 | global_step: 13 | reduced_train_loss: 11.03 | train_step_timing in s: 7.622 | consumed_samples: 7168\n",
      "ining-demo/0 [default0]:Training epoch 0, iteration 14/19 | lr: 2.249e-06 | global_batch_size: 512 | global_step: 14 | reduced_train_loss: 11.03 | train_step_timing in s: 7.617 | consumed_samples: 7680\n",
      "ining-demo/0 [default0]:Training epoch 0, iteration 15/19 | lr: 2.399e-06 | global_batch_size: 512 | global_step: 15 | reduced_train_loss: 11.03 | train_step_timing in s: 7.605 | consumed_samples: 8192\n",
      "ining-demo/0 [default0]:[NeMo I 2025-02-27 23:57:12 straggler_det_callback:144] \n",
      "ining-demo/0 [default0]:    GPU relative performance:\n",
      "ining-demo/0 [default0]:      Rank=5 Node=2cf99fac92af Score=0.96\n",
      "ining-demo/0 [default0]:      Rank=0 Node=2cf99fac92af Score=0.97\n",
      "ining-demo/0 [default0]:      Rank=6 Node=2cf99fac92af Score=0.97\n",
      "ining-demo/0 [default0]:      Rank=7 Node=2cf99fac92af Score=0.98\n",
      "ining-demo/0 [default0]:      Rank=4 Node=2cf99fac92af Score=0.98\n",
      "ining-demo/0 [default0]:      Rank=1 Node=2cf99fac92af Score=0.98\n",
      "ining-demo/0 [default0]:      Rank=2 Node=2cf99fac92af Score=0.98\n",
      "ining-demo/0 [default0]:      Rank=3 Node=2cf99fac92af Score=1.00\n",
      "ining-demo/0 [default0]:    \n",
      "ining-demo/0 [default0]:[NeMo I 2025-02-27 23:57:12 straggler_det_callback:153] \n",
      "ining-demo/0 [default0]:    GPU individual performance:\n",
      "ining-demo/0 [default0]:      Rank=0 Node=2cf99fac92af Score=1.00\n",
      "ining-demo/0 [default0]:      Rank=1 Node=2cf99fac92af Score=1.00\n",
      "ining-demo/0 [default0]:      Rank=2 Node=2cf99fac92af Score=1.00\n",
      "ining-demo/0 [default0]:      Rank=3 Node=2cf99fac92af Score=1.00\n",
      "ining-demo/0 [default0]:      Rank=4 Node=2cf99fac92af Score=1.00\n",
      "ining-demo/0 [default0]:      Rank=5 Node=2cf99fac92af Score=1.00\n",
      "ining-demo/0 [default0]:      Rank=6 Node=2cf99fac92af Score=1.00\n",
      "ining-demo/0 [default0]:      Rank=7 Node=2cf99fac92af Score=1.00\n",
      "ining-demo/0 [default0]:    \n",
      "ining-demo/0 [default0]:[NeMo I 2025-02-27 23:57:12 straggler_det_callback:236] Straggler report processing time: 0.039 sec.\n",
      "ining-demo/0 [default0]:Training epoch 0, iteration 16/19 | lr: 2.549e-06 | global_batch_size: 512 | global_step: 16 | reduced_train_loss: 11.03 | train_step_timing in s: 7.611 | consumed_samples: 8704\n",
      "ining-demo/0 [default0]:[NeMo I 2025-02-27 23:57:20 straggler_det_callback:144] \n",
      "ining-demo/0 [default0]:    GPU relative performance:\n",
      "ining-demo/0 [default0]:      Rank=5 Node=2cf99fac92af Score=0.98\n",
      "ining-demo/0 [default0]:      Rank=4 Node=2cf99fac92af Score=0.98\n",
      "ining-demo/0 [default0]:      Rank=1 Node=2cf99fac92af Score=0.98\n",
      "ining-demo/0 [default0]:      Rank=6 Node=2cf99fac92af Score=0.98\n",
      "ining-demo/0 [default0]:      Rank=0 Node=2cf99fac92af Score=0.98\n",
      "ining-demo/0 [default0]:      Rank=7 Node=2cf99fac92af Score=0.99\n",
      "ining-demo/0 [default0]:      Rank=2 Node=2cf99fac92af Score=0.99\n",
      "ining-demo/0 [default0]:      Rank=3 Node=2cf99fac92af Score=1.00\n",
      "ining-demo/0 [default0]:    \n",
      "ining-demo/0 [default0]:[NeMo I 2025-02-27 23:57:20 straggler_det_callback:153] \n",
      "ining-demo/0 [default0]:    GPU individual performance:\n",
      "ining-demo/0 [default0]:      Rank=7 Node=2cf99fac92af Score=0.99\n",
      "ining-demo/0 [default0]:      Rank=3 Node=2cf99fac92af Score=0.99\n",
      "ining-demo/0 [default0]:      Rank=6 Node=2cf99fac92af Score=1.00\n",
      "ining-demo/0 [default0]:      Rank=2 Node=2cf99fac92af Score=1.00\n",
      "ining-demo/0 [default0]:      Rank=4 Node=2cf99fac92af Score=1.00\n",
      "ining-demo/0 [default0]:      Rank=1 Node=2cf99fac92af Score=1.00\n",
      "ining-demo/0 [default0]:      Rank=0 Node=2cf99fac92af Score=1.00\n",
      "ining-demo/0 [default0]:      Rank=5 Node=2cf99fac92af Score=1.00\n",
      "ining-demo/0 [default0]:    \n",
      "ining-demo/0 [default0]:[NeMo I 2025-02-27 23:57:20 straggler_det_callback:236] Straggler report processing time: 0.016 sec.\n",
      "ining-demo/0 [default0]:Training epoch 0, iteration 17/19 | lr: 2.699e-06 | global_batch_size: 512 | global_step: 17 | reduced_train_loss: 11.03 | train_step_timing in s: 7.615 | consumed_samples: 9216\n",
      "ining-demo/0 [default0]:[NeMo I 2025-02-27 23:57:28 straggler_det_callback:144] \n",
      "ining-demo/0 [default0]:    GPU relative performance:\n",
      "ining-demo/0 [default0]:      Rank=5 Node=2cf99fac92af Score=0.97\n",
      "ining-demo/0 [default0]:      Rank=4 Node=2cf99fac92af Score=0.98\n",
      "ining-demo/0 [default0]:      Rank=1 Node=2cf99fac92af Score=0.98\n",
      "ining-demo/0 [default0]:      Rank=0 Node=2cf99fac92af Score=0.98\n",
      "ining-demo/0 [default0]:      Rank=6 Node=2cf99fac92af Score=0.98\n",
      "ining-demo/0 [default0]:      Rank=7 Node=2cf99fac92af Score=0.99\n",
      "ining-demo/0 [default0]:      Rank=2 Node=2cf99fac92af Score=0.99\n",
      "ining-demo/0 [default0]:      Rank=3 Node=2cf99fac92af Score=0.99\n",
      "ining-demo/0 [default0]:    \n",
      "ining-demo/0 [default0]:[NeMo I 2025-02-27 23:57:28 straggler_det_callback:153] \n",
      "ining-demo/0 [default0]:    GPU individual performance:\n",
      "ining-demo/0 [default0]:      Rank=7 Node=2cf99fac92af Score=0.99\n",
      "ining-demo/0 [default0]:      Rank=3 Node=2cf99fac92af Score=0.99\n",
      "ining-demo/0 [default0]:      Rank=2 Node=2cf99fac92af Score=0.99\n",
      "ining-demo/0 [default0]:      Rank=6 Node=2cf99fac92af Score=1.00\n",
      "ining-demo/0 [default0]:      Rank=4 Node=2cf99fac92af Score=1.00\n",
      "ining-demo/0 [default0]:      Rank=0 Node=2cf99fac92af Score=1.00\n",
      "ining-demo/0 [default0]:      Rank=1 Node=2cf99fac92af Score=1.00\n",
      "ining-demo/0 [default0]:      Rank=5 Node=2cf99fac92af Score=1.00\n",
      "ining-demo/0 [default0]:    \n",
      "ining-demo/0 [default0]:[NeMo I 2025-02-27 23:57:28 straggler_det_callback:236] Straggler report processing time: 0.016 sec.\n",
      "ining-demo/0 [default0]:Training epoch 0, iteration 18/19 | lr: 2.849e-06 | global_batch_size: 512 | global_step: 18 | reduced_train_loss: 11.03 | train_step_timing in s: 7.629 | consumed_samples: 9728\n",
      "ining-demo/0 [default0]:[NeMo W 2025-02-27 23:57:28 validation:389] There is difference in the common state dict in different ranks. The differences are {2: ([], [('optimizer', 0, 'optimizer', 'param_groups', 1, 'step')], []), 3: ([], [('optimizer', 0, 'optimizer', 'param_groups', 1, 'step')], []), 4: ([], [('optimizer', 0, 'optimizer', 'param_groups', 1, 'step')], []), 5: ([], [('optimizer', 0, 'optimizer', 'param_groups', 1, 'step')], [])}\n",
      "ining-demo/0 [default0]:[NeMo I 2025-02-27 23:57:29 model_checkpoint:497] Scheduled async checkpoint save for /tmp/nemo_run/checkpoints/resiliency-in-pretraining-demo/checkpoints/model_name=0--val_loss=0.00-step=18-consumed_samples=9728.0-last.ckpt\n",
      "ining-demo/0 [default0]:[NeMo I 2025-02-27 23:57:37 straggler_det_callback:144] \n",
      "ining-demo/0 [default0]:    GPU relative performance:\n",
      "ining-demo/0 [default0]:      Rank=5 Node=2cf99fac92af Score=0.97\n",
      "ining-demo/0 [default0]:      Rank=1 Node=2cf99fac92af Score=0.98\n",
      "ining-demo/0 [default0]:      Rank=4 Node=2cf99fac92af Score=0.98\n",
      "ining-demo/0 [default0]:      Rank=6 Node=2cf99fac92af Score=0.98\n",
      "ining-demo/0 [default0]:      Rank=0 Node=2cf99fac92af Score=0.98\n",
      "ining-demo/0 [default0]:      Rank=7 Node=2cf99fac92af Score=0.99\n",
      "ining-demo/0 [default0]:      Rank=2 Node=2cf99fac92af Score=0.99\n",
      "ining-demo/0 [default0]:      Rank=3 Node=2cf99fac92af Score=0.99\n",
      "ining-demo/0 [default0]:    \n",
      "ining-demo/0 [default0]:[NeMo I 2025-02-27 23:57:37 straggler_det_callback:153] \n",
      "ining-demo/0 [default0]:    GPU individual performance:\n",
      "ining-demo/0 [default0]:      Rank=7 Node=2cf99fac92af Score=0.99\n",
      "ining-demo/0 [default0]:      Rank=3 Node=2cf99fac92af Score=0.99\n",
      "ining-demo/0 [default0]:      Rank=6 Node=2cf99fac92af Score=0.99\n",
      "ining-demo/0 [default0]:      Rank=2 Node=2cf99fac92af Score=1.00\n",
      "ining-demo/0 [default0]:      Rank=1 Node=2cf99fac92af Score=1.00\n",
      "ining-demo/0 [default0]:      Rank=0 Node=2cf99fac92af Score=1.00\n",
      "ining-demo/0 [default0]:      Rank=4 Node=2cf99fac92af Score=1.00\n",
      "ining-demo/0 [default0]:      Rank=5 Node=2cf99fac92af Score=1.00\n",
      "ining-demo/0 [default0]:    \n",
      "ining-demo/0 [default0]:[NeMo I 2025-02-27 23:57:37 straggler_det_callback:236] Straggler report processing time: 0.017 sec.\n",
      "ining-demo/0 [default0]:Training epoch 1, iteration 0/19 | lr: 2.999e-06 | global_batch_size: 512 | global_step: 19 | reduced_train_loss: 11.03 | train_step_timing in s: 7.712 | consumed_samples: 10240\n",
      "ining-demo/0 [default0]:[NeMo I 2025-02-27 23:57:37 model_checkpoint:522] Async checkpoint save for step 19 (/tmp/nemo_run/checkpoints/resiliency-in-pretraining-demo/checkpoints/model_name=0--val_loss=0.00-step=18-consumed_samples=9728.0-last.ckpt) finalized successfully.\n",
      "ining-demo/0 [default0]:`Trainer.fit` stopped: `max_steps=20` reached.\n",
      "ining-demo/0 [2025-02-27 23:57:47,971] [INFO] [ft_launcher@2cf99fac92af] [default] worker group successfully finished. Waiting 300 seconds for other agents to finish.\n",
      "ining-demo/0 [2025-02-27 23:57:47,971] [INFO] [ft_launcher@2cf99fac92af] Local worker group finished (WorkerState.SUCCEEDED). Waiting 300 seconds for other agents to finish\n",
      "ining-demo/0 [2025-02-27 23:57:47,971] [INFO] [ft_launcher@2cf99fac92af] Done waiting for other agents. Elapsed: 0.00024771690368652344 seconds\n"
     ]
    },
    {
     "name": "stderr",
     "output_type": "stream",
     "text": [
      "Job resiliency-in-pretraining-demo-npwcthb47vs0c finished: SUCCEEDED\n"
     ]
    },
    {
     "data": {
      "text/html": [
       "<pre style=\"white-space:pre;overflow-x:auto;line-height:normal;font-family:Menlo,'DejaVu Sans Mono',consolas,'Courier New',monospace\"><span style=\"background-color: #272822\">                                                                                                                   </span>\n",
       "<span style=\"color: #959077; text-decoration-color: #959077; background-color: #272822\"># The experiment was run with the following tasks: ['resiliency-in-pretraining-demo']</span><span style=\"background-color: #272822\">                              </span>\n",
       "<span style=\"color: #959077; text-decoration-color: #959077; background-color: #272822\"># You can inspect and reconstruct this experiment at a later point in time using:</span><span style=\"background-color: #272822\">                                  </span>\n",
       "<span style=\"color: #f8f8f2; text-decoration-color: #f8f8f2; background-color: #272822\">experiment </span><span style=\"color: #ff4689; text-decoration-color: #ff4689; background-color: #272822\">=</span><span style=\"color: #f8f8f2; text-decoration-color: #f8f8f2; background-color: #272822\"> run</span><span style=\"color: #ff4689; text-decoration-color: #ff4689; background-color: #272822\">.</span><span style=\"color: #f8f8f2; text-decoration-color: #f8f8f2; background-color: #272822\">Experiment</span><span style=\"color: #ff4689; text-decoration-color: #ff4689; background-color: #272822\">.</span><span style=\"color: #f8f8f2; text-decoration-color: #f8f8f2; background-color: #272822\">from_id(</span><span style=\"color: #e6db74; text-decoration-color: #e6db74; background-color: #272822\">\"resiliency-in-pretraining-demo_1740700448\"</span><span style=\"color: #f8f8f2; text-decoration-color: #f8f8f2; background-color: #272822\">)</span><span style=\"background-color: #272822\">                                   </span>\n",
       "<span style=\"color: #f8f8f2; text-decoration-color: #f8f8f2; background-color: #272822\">experiment</span><span style=\"color: #ff4689; text-decoration-color: #ff4689; background-color: #272822\">.</span><span style=\"color: #f8f8f2; text-decoration-color: #f8f8f2; background-color: #272822\">status() </span><span style=\"color: #959077; text-decoration-color: #959077; background-color: #272822\"># Gets the overall status</span><span style=\"background-color: #272822\">                                                                      </span>\n",
       "<span style=\"color: #f8f8f2; text-decoration-color: #f8f8f2; background-color: #272822\">experiment</span><span style=\"color: #ff4689; text-decoration-color: #ff4689; background-color: #272822\">.</span><span style=\"color: #f8f8f2; text-decoration-color: #f8f8f2; background-color: #272822\">logs(</span><span style=\"color: #e6db74; text-decoration-color: #e6db74; background-color: #272822\">\"resiliency-in-pretraining-demo\"</span><span style=\"color: #f8f8f2; text-decoration-color: #f8f8f2; background-color: #272822\">) </span><span style=\"color: #959077; text-decoration-color: #959077; background-color: #272822\"># Gets the log for the provided task</span><span style=\"background-color: #272822\">                             </span>\n",
       "<span style=\"color: #f8f8f2; text-decoration-color: #f8f8f2; background-color: #272822\">experiment</span><span style=\"color: #ff4689; text-decoration-color: #ff4689; background-color: #272822\">.</span><span style=\"color: #f8f8f2; text-decoration-color: #f8f8f2; background-color: #272822\">cancel(</span><span style=\"color: #e6db74; text-decoration-color: #e6db74; background-color: #272822\">\"resiliency-in-pretraining-demo\"</span><span style=\"color: #f8f8f2; text-decoration-color: #f8f8f2; background-color: #272822\">) </span><span style=\"color: #959077; text-decoration-color: #959077; background-color: #272822\"># Cancels the provided task if still running</span><span style=\"background-color: #272822\">                   </span>\n",
       "<span style=\"background-color: #272822\">                                                                                                                   </span>\n",
       "</pre>\n"
      ],
      "text/plain": [
       "\u001b[48;2;39;40;34m                                                                                                                   \u001b[0m\n",
       "\u001b[38;2;149;144;119;48;2;39;40;34m# The experiment was run with the following tasks: ['resiliency-in-pretraining-demo']\u001b[0m\u001b[48;2;39;40;34m                              \u001b[0m\n",
       "\u001b[38;2;149;144;119;48;2;39;40;34m# You can inspect and reconstruct this experiment at a later point in time using:\u001b[0m\u001b[48;2;39;40;34m                                  \u001b[0m\n",
       "\u001b[38;2;248;248;242;48;2;39;40;34mexperiment\u001b[0m\u001b[38;2;248;248;242;48;2;39;40;34m \u001b[0m\u001b[38;2;255;70;137;48;2;39;40;34m=\u001b[0m\u001b[38;2;248;248;242;48;2;39;40;34m \u001b[0m\u001b[38;2;248;248;242;48;2;39;40;34mrun\u001b[0m\u001b[38;2;255;70;137;48;2;39;40;34m.\u001b[0m\u001b[38;2;248;248;242;48;2;39;40;34mExperiment\u001b[0m\u001b[38;2;255;70;137;48;2;39;40;34m.\u001b[0m\u001b[38;2;248;248;242;48;2;39;40;34mfrom_id\u001b[0m\u001b[38;2;248;248;242;48;2;39;40;34m(\u001b[0m\u001b[38;2;230;219;116;48;2;39;40;34m\"\u001b[0m\u001b[38;2;230;219;116;48;2;39;40;34mresiliency-in-pretraining-demo_1740700448\u001b[0m\u001b[38;2;230;219;116;48;2;39;40;34m\"\u001b[0m\u001b[38;2;248;248;242;48;2;39;40;34m)\u001b[0m\u001b[48;2;39;40;34m                                   \u001b[0m\n",
       "\u001b[38;2;248;248;242;48;2;39;40;34mexperiment\u001b[0m\u001b[38;2;255;70;137;48;2;39;40;34m.\u001b[0m\u001b[38;2;248;248;242;48;2;39;40;34mstatus\u001b[0m\u001b[38;2;248;248;242;48;2;39;40;34m(\u001b[0m\u001b[38;2;248;248;242;48;2;39;40;34m)\u001b[0m\u001b[38;2;248;248;242;48;2;39;40;34m \u001b[0m\u001b[38;2;149;144;119;48;2;39;40;34m# Gets the overall status\u001b[0m\u001b[48;2;39;40;34m                                                                      \u001b[0m\n",
       "\u001b[38;2;248;248;242;48;2;39;40;34mexperiment\u001b[0m\u001b[38;2;255;70;137;48;2;39;40;34m.\u001b[0m\u001b[38;2;248;248;242;48;2;39;40;34mlogs\u001b[0m\u001b[38;2;248;248;242;48;2;39;40;34m(\u001b[0m\u001b[38;2;230;219;116;48;2;39;40;34m\"\u001b[0m\u001b[38;2;230;219;116;48;2;39;40;34mresiliency-in-pretraining-demo\u001b[0m\u001b[38;2;230;219;116;48;2;39;40;34m\"\u001b[0m\u001b[38;2;248;248;242;48;2;39;40;34m)\u001b[0m\u001b[38;2;248;248;242;48;2;39;40;34m \u001b[0m\u001b[38;2;149;144;119;48;2;39;40;34m# Gets the log for the provided task\u001b[0m\u001b[48;2;39;40;34m                             \u001b[0m\n",
       "\u001b[38;2;248;248;242;48;2;39;40;34mexperiment\u001b[0m\u001b[38;2;255;70;137;48;2;39;40;34m.\u001b[0m\u001b[38;2;248;248;242;48;2;39;40;34mcancel\u001b[0m\u001b[38;2;248;248;242;48;2;39;40;34m(\u001b[0m\u001b[38;2;230;219;116;48;2;39;40;34m\"\u001b[0m\u001b[38;2;230;219;116;48;2;39;40;34mresiliency-in-pretraining-demo\u001b[0m\u001b[38;2;230;219;116;48;2;39;40;34m\"\u001b[0m\u001b[38;2;248;248;242;48;2;39;40;34m)\u001b[0m\u001b[38;2;248;248;242;48;2;39;40;34m \u001b[0m\u001b[38;2;149;144;119;48;2;39;40;34m# Cancels the provided task if still running\u001b[0m\u001b[48;2;39;40;34m                   \u001b[0m\n",
       "\u001b[48;2;39;40;34m                                                                                                                   \u001b[0m\n"
      ]
     },
     "metadata": {},
     "output_type": "display_data"
    },
    {
     "data": {
      "text/html": [
       "<pre style=\"white-space:pre;overflow-x:auto;line-height:normal;font-family:Menlo,'DejaVu Sans Mono',consolas,'Courier New',monospace\"><span style=\"background-color: #272822\">                                                                                                                   </span>\n",
       "<span style=\"color: #959077; text-decoration-color: #959077; background-color: #272822\"># You can inspect this experiment at a later point in time using the CLI as well:</span><span style=\"background-color: #272822\">                                  </span>\n",
       "<span style=\"color: #f8f8f2; text-decoration-color: #f8f8f2; background-color: #272822\">nemo experiment status resiliency-in-pretraining-demo_1740700448</span><span style=\"background-color: #272822\">                                                   </span>\n",
       "<span style=\"color: #f8f8f2; text-decoration-color: #f8f8f2; background-color: #272822\">nemo experiment logs resiliency-in-pretraining-demo_1740700448 </span><span style=\"color: #ae81ff; text-decoration-color: #ae81ff; background-color: #272822\">0</span><span style=\"background-color: #272822\">                                                   </span>\n",
       "<span style=\"color: #f8f8f2; text-decoration-color: #f8f8f2; background-color: #272822\">nemo experiment cancel resiliency-in-pretraining-demo_1740700448 </span><span style=\"color: #ae81ff; text-decoration-color: #ae81ff; background-color: #272822\">0</span><span style=\"background-color: #272822\">                                                 </span>\n",
       "<span style=\"background-color: #272822\">                                                                                                                   </span>\n",
       "</pre>\n"
      ],
      "text/plain": [
       "\u001b[48;2;39;40;34m                                                                                                                   \u001b[0m\n",
       "\u001b[38;2;149;144;119;48;2;39;40;34m# You can inspect this experiment at a later point in time using the CLI as well:\u001b[0m\u001b[48;2;39;40;34m                                  \u001b[0m\n",
       "\u001b[38;2;248;248;242;48;2;39;40;34mnemo\u001b[0m\u001b[38;2;248;248;242;48;2;39;40;34m \u001b[0m\u001b[38;2;248;248;242;48;2;39;40;34mexperiment\u001b[0m\u001b[38;2;248;248;242;48;2;39;40;34m \u001b[0m\u001b[38;2;248;248;242;48;2;39;40;34mstatus\u001b[0m\u001b[38;2;248;248;242;48;2;39;40;34m \u001b[0m\u001b[38;2;248;248;242;48;2;39;40;34mresiliency-in-pretraining-demo_1740700448\u001b[0m\u001b[48;2;39;40;34m                                                   \u001b[0m\n",
       "\u001b[38;2;248;248;242;48;2;39;40;34mnemo\u001b[0m\u001b[38;2;248;248;242;48;2;39;40;34m \u001b[0m\u001b[38;2;248;248;242;48;2;39;40;34mexperiment\u001b[0m\u001b[38;2;248;248;242;48;2;39;40;34m \u001b[0m\u001b[38;2;248;248;242;48;2;39;40;34mlogs\u001b[0m\u001b[38;2;248;248;242;48;2;39;40;34m \u001b[0m\u001b[38;2;248;248;242;48;2;39;40;34mresiliency-in-pretraining-demo_1740700448\u001b[0m\u001b[38;2;248;248;242;48;2;39;40;34m \u001b[0m\u001b[38;2;174;129;255;48;2;39;40;34m0\u001b[0m\u001b[48;2;39;40;34m                                                   \u001b[0m\n",
       "\u001b[38;2;248;248;242;48;2;39;40;34mnemo\u001b[0m\u001b[38;2;248;248;242;48;2;39;40;34m \u001b[0m\u001b[38;2;248;248;242;48;2;39;40;34mexperiment\u001b[0m\u001b[38;2;248;248;242;48;2;39;40;34m \u001b[0m\u001b[38;2;248;248;242;48;2;39;40;34mcancel\u001b[0m\u001b[38;2;248;248;242;48;2;39;40;34m \u001b[0m\u001b[38;2;248;248;242;48;2;39;40;34mresiliency-in-pretraining-demo_1740700448\u001b[0m\u001b[38;2;248;248;242;48;2;39;40;34m \u001b[0m\u001b[38;2;174;129;255;48;2;39;40;34m0\u001b[0m\u001b[48;2;39;40;34m                                                 \u001b[0m\n",
       "\u001b[48;2;39;40;34m                                                                                                                   \u001b[0m\n"
      ]
     },
     "metadata": {},
     "output_type": "display_data"
    }
   ],
   "source": [
    "# run the experiment\n",
    "run_experiment(exp_name, pretrain, executor, run_plugins, dryrun=False)"
   ]
  },
  {
   "cell_type": "code",
   "execution_count": 26,
   "id": "8c5eeccf",
   "metadata": {},
   "outputs": [
    {
     "data": {
      "text/plain": [
       "__main__.CrashSimulationCallback"
      ]
     },
     "execution_count": 26,
     "metadata": {},
     "output_type": "execute_result"
    }
   ],
   "source": [
    "@dataclass\n",
    "class CrashSimulationCallback(Callback):\n",
    "    def __init__(self, crash_step=17):\n",
    "        super().__init__()\n",
    "        self.crash_step = crash_step\n",
    "        self.has_simulated_crash_happened = False\n",
    "        print(f\"Setup to simulate a crash if step == {self.crash_step}\")\n",
    "\n",
    "    def on_train_batch_end(self, trainer, pl_module, outputs, batch, batch_idx):\n",
    "        if self.crash_step and trainer.global_step == self.crash_step and not self.has_simulated_crash_happened:\n",
    "            raise Exception(f\"Simulating a crash at step {self.crash_step}!\")\n",
    "        \n",
    "    def on_load_checkpoint(self, trainer, pl_module, checkpoint):\n",
    "        if not self.has_simulated_crash_happened:\n",
    "            self.has_simulated_crash_happened = True\n",
    "            print(f\"Resuming from checkpoint, setting has_simulated_crash_happened to True!\")\n",
    "\n",
    "CrashSimulationCallback"
   ]
  },
  {
   "cell_type": "code",
   "execution_count": 27,
   "id": "dd2943a2",
   "metadata": {},
   "outputs": [
    {
     "data": {
      "text/html": [
       "<pre style=\"white-space:pre;overflow-x:auto;line-height:normal;font-family:Menlo,'DejaVu Sans Mono',consolas,'Courier New',monospace\"><span style=\"color: #00ff00; text-decoration-color: #00ff00\">────── </span><span style=\"color: #800080; text-decoration-color: #800080; font-weight: bold\">Entering Experiment resiliency-in-pretraining-demo with id: resiliency-in-pretraining-demo_1740701197</span><span style=\"color: #00ff00; text-decoration-color: #00ff00\"> ──────</span>\n",
       "</pre>\n"
      ],
      "text/plain": [
       "\u001b[92m────── \u001b[0m\u001b[1;35mEntering Experiment resiliency-in-pretraining-demo with id: resiliency-in-pretraining-demo_1740701197\u001b[0m\u001b[92m ──────\u001b[0m\n"
      ]
     },
     "metadata": {},
     "output_type": "display_data"
    },
    {
     "ename": "UnserializableValueError",
     "evalue": "Couldn't create a pyref for <class '__main__.CrashSimulationCallback'>; the same value was not obtained by importing 'CrashSimulationCallback' from '__main__'. Error occurred at path '<root>.trainer.callbacks[2].<metadata>.fn_or_cls'.",
     "output_type": "error",
     "traceback": [
      "\u001b[0;31m---------------------------------------------------------------------------\u001b[0m",
      "\u001b[0;31mUnserializableValueError\u001b[0m                  Traceback (most recent call last)",
      "Cell \u001b[0;32mIn[27], line 5\u001b[0m\n\u001b[1;32m      2\u001b[0m pretrain\u001b[38;5;241m.\u001b[39mtrainer\u001b[38;5;241m.\u001b[39mcallbacks\u001b[38;5;241m.\u001b[39mappend(run\u001b[38;5;241m.\u001b[39mConfig(CrashSimulationCallback, crash_step\u001b[38;5;241m=\u001b[39m\u001b[38;5;241m17\u001b[39m))\n\u001b[1;32m      4\u001b[0m \u001b[38;5;66;03m# run the experiment\u001b[39;00m\n\u001b[0;32m----> 5\u001b[0m \u001b[43mrun_experiment\u001b[49m\u001b[43m(\u001b[49m\u001b[43mexp_name\u001b[49m\u001b[43m,\u001b[49m\u001b[43m \u001b[49m\u001b[43mpretrain\u001b[49m\u001b[43m,\u001b[49m\u001b[43m \u001b[49m\u001b[43mexecutor\u001b[49m\u001b[43m,\u001b[49m\u001b[43m \u001b[49m\u001b[43mrun_plugins\u001b[49m\u001b[43m,\u001b[49m\u001b[43m \u001b[49m\u001b[43mdryrun\u001b[49m\u001b[38;5;241;43m=\u001b[39;49m\u001b[38;5;28;43;01mFalse\u001b[39;49;00m\u001b[43m)\u001b[49m\n",
      "Cell \u001b[0;32mIn[7], line 14\u001b[0m, in \u001b[0;36mrun_experiment\u001b[0;34m(exp_name, pretrain, executor, run_plugins, dryrun)\u001b[0m\n\u001b[1;32m      2\u001b[0m \u001b[38;5;250m\u001b[39m\u001b[38;5;124;03m\"\"\"\u001b[39;00m\n\u001b[1;32m      3\u001b[0m \u001b[38;5;124;03mRun the pretraining experiment either as a dry run or actual training.\u001b[39;00m\n\u001b[1;32m      4\u001b[0m \u001b[38;5;124;03m\u001b[39;00m\n\u001b[0;32m   (...)\u001b[0m\n\u001b[1;32m     10\u001b[0m \u001b[38;5;124;03m    dryrun: Boolean flag to perform a dry run\u001b[39;00m\n\u001b[1;32m     11\u001b[0m \u001b[38;5;124;03m\"\"\"\u001b[39;00m\n\u001b[1;32m     12\u001b[0m \u001b[38;5;28;01mwith\u001b[39;00m run\u001b[38;5;241m.\u001b[39mExperiment(\u001b[38;5;124mf\u001b[39m\u001b[38;5;124m\"\u001b[39m\u001b[38;5;132;01m{\u001b[39;00mexp_name\u001b[38;5;132;01m}\u001b[39;00m\u001b[38;5;124m\"\u001b[39m) \u001b[38;5;28;01mas\u001b[39;00m exp:\n\u001b[1;32m     13\u001b[0m     \u001b[38;5;66;03m# Add the pretrain job to the experiment\u001b[39;00m\n\u001b[0;32m---> 14\u001b[0m     \u001b[43mexp\u001b[49m\u001b[38;5;241;43m.\u001b[39;49m\u001b[43madd\u001b[49m\u001b[43m(\u001b[49m\n\u001b[1;32m     15\u001b[0m \u001b[43m        \u001b[49m\u001b[43mpretrain\u001b[49m\u001b[43m,\u001b[49m\n\u001b[1;32m     16\u001b[0m \u001b[43m        \u001b[49m\u001b[43mexecutor\u001b[49m\u001b[38;5;241;43m=\u001b[39;49m\u001b[43mexecutor\u001b[49m\u001b[43m,\u001b[49m\n\u001b[1;32m     17\u001b[0m \u001b[43m        \u001b[49m\u001b[43mname\u001b[49m\u001b[38;5;241;43m=\u001b[39;49m\u001b[43mexp_name\u001b[49m\u001b[43m,\u001b[49m\n\u001b[1;32m     18\u001b[0m \u001b[43m        \u001b[49m\u001b[43mplugins\u001b[49m\u001b[38;5;241;43m=\u001b[39;49m\u001b[43mrun_plugins\u001b[49m\u001b[43m,\u001b[49m\n\u001b[1;32m     19\u001b[0m \u001b[43m        \u001b[49m\u001b[43mtail_logs\u001b[49m\u001b[38;5;241;43m=\u001b[39;49m\u001b[38;5;28;43;01mTrue\u001b[39;49;00m\u001b[43m,\u001b[49m\n\u001b[1;32m     20\u001b[0m \u001b[43m    \u001b[49m\u001b[43m)\u001b[49m\n\u001b[1;32m     22\u001b[0m     \u001b[38;5;66;03m# Execute the experiment based on the dryrun flag\u001b[39;00m\n\u001b[1;32m     23\u001b[0m     \u001b[38;5;28;01mif\u001b[39;00m dryrun:\n",
      "File \u001b[0;32m/opt/NeMo-Run/src/nemo_run/run/experiment.py:529\u001b[0m, in \u001b[0;36mExperiment.add\u001b[0;34m(self, task, executor, name, plugins, tail_logs, dependencies)\u001b[0m\n\u001b[1;32m    527\u001b[0m \u001b[38;5;28;01mif\u001b[39;00m \u001b[38;5;129;01mnot\u001b[39;00m \u001b[38;5;28misinstance\u001b[39m(task, \u001b[38;5;28mlist\u001b[39m):\n\u001b[1;32m    528\u001b[0m     \u001b[38;5;28;01massert\u001b[39;00m executor \u001b[38;5;129;01mand\u001b[39;00m \u001b[38;5;28misinstance\u001b[39m(executor, Executor)\n\u001b[0;32m--> 529\u001b[0m     job_id \u001b[38;5;241m=\u001b[39m \u001b[38;5;28;43mself\u001b[39;49m\u001b[38;5;241;43m.\u001b[39;49m\u001b[43m_add_single_job\u001b[49m\u001b[43m(\u001b[49m\n\u001b[1;32m    530\u001b[0m \u001b[43m        \u001b[49m\u001b[43mtask\u001b[49m\u001b[43m,\u001b[49m\n\u001b[1;32m    531\u001b[0m \u001b[43m        \u001b[49m\u001b[43mexecutor\u001b[49m\u001b[43m,\u001b[49m\n\u001b[1;32m    532\u001b[0m \u001b[43m        \u001b[49m\u001b[43mname\u001b[49m\u001b[43m,\u001b[49m\n\u001b[1;32m    533\u001b[0m \u001b[43m        \u001b[49m\u001b[43mplugins\u001b[49m\u001b[38;5;241;43m=\u001b[39;49m\u001b[43mplugins\u001b[49m\u001b[43m,\u001b[49m\n\u001b[1;32m    534\u001b[0m \u001b[43m        \u001b[49m\u001b[43mtail_logs\u001b[49m\u001b[38;5;241;43m=\u001b[39;49m\u001b[43mtail_logs\u001b[49m\u001b[43m,\u001b[49m\n\u001b[1;32m    535\u001b[0m \u001b[43m        \u001b[49m\u001b[43mdependencies\u001b[49m\u001b[38;5;241;43m=\u001b[39;49m\u001b[43mdependencies\u001b[49m\u001b[38;5;241;43m.\u001b[39;49m\u001b[43mcopy\u001b[49m\u001b[43m(\u001b[49m\u001b[43m)\u001b[49m\u001b[43m \u001b[49m\u001b[38;5;28;43;01mif\u001b[39;49;00m\u001b[43m \u001b[49m\u001b[43mdependencies\u001b[49m\u001b[43m \u001b[49m\u001b[38;5;28;43;01melse\u001b[39;49;00m\u001b[43m \u001b[49m\u001b[38;5;28;43;01mNone\u001b[39;49;00m\u001b[43m,\u001b[49m\n\u001b[1;32m    536\u001b[0m \u001b[43m    \u001b[49m\u001b[43m)\u001b[49m\n\u001b[1;32m    537\u001b[0m \u001b[38;5;28;01melse\u001b[39;00m:\n\u001b[1;32m    538\u001b[0m     \u001b[38;5;28;01massert\u001b[39;00m name, \u001b[38;5;124m\"\u001b[39m\u001b[38;5;124mname is required for task group.\u001b[39m\u001b[38;5;124m\"\u001b[39m\n",
      "File \u001b[0;32m/opt/NeMo-Run/src/nemo_run/run/experiment.py:406\u001b[0m, in \u001b[0;36mExperiment._add_single_job\u001b[0;34m(self, task, executor, name, plugins, tail_logs, dependencies)\u001b[0m\n\u001b[1;32m    403\u001b[0m \u001b[38;5;28;01melse\u001b[39;00m:\n\u001b[1;32m    404\u001b[0m     task_id \u001b[38;5;241m=\u001b[39m name\n\u001b[0;32m--> 406\u001b[0m \u001b[38;5;28;43mself\u001b[39;49m\u001b[38;5;241;43m.\u001b[39;49m\u001b[43m_validate_task\u001b[49m\u001b[43m(\u001b[49m\u001b[43mtask_info\u001b[49m\u001b[38;5;241;43m=\u001b[39;49m\u001b[43mtask_id\u001b[49m\u001b[43m,\u001b[49m\u001b[43m \u001b[49m\u001b[43mtask\u001b[49m\u001b[38;5;241;43m=\u001b[39;49m\u001b[43mtask\u001b[49m\u001b[43m)\u001b[49m\n\u001b[1;32m    408\u001b[0m executor \u001b[38;5;241m=\u001b[39m executor\u001b[38;5;241m.\u001b[39mclone()\n\u001b[1;32m    409\u001b[0m executor\u001b[38;5;241m.\u001b[39massign(\n\u001b[1;32m    410\u001b[0m     \u001b[38;5;28mself\u001b[39m\u001b[38;5;241m.\u001b[39m_id,\n\u001b[1;32m    411\u001b[0m     \u001b[38;5;28mself\u001b[39m\u001b[38;5;241m.\u001b[39m_exp_dir,\n\u001b[1;32m    412\u001b[0m     task_id\u001b[38;5;241m=\u001b[39mtask_id,\n\u001b[1;32m    413\u001b[0m     task_dir\u001b[38;5;241m=\u001b[39mname \u001b[38;5;28;01mif\u001b[39;00m reuse_job_dir \u001b[38;5;28;01melse\u001b[39;00m task_id,\n\u001b[1;32m    414\u001b[0m )\n",
      "File \u001b[0;32m/opt/NeMo-Run/src/nemo_run/run/experiment.py:487\u001b[0m, in \u001b[0;36mExperiment._validate_task\u001b[0;34m(self, task_info, task)\u001b[0m\n\u001b[1;32m    485\u001b[0m \u001b[38;5;28;01mif\u001b[39;00m \u001b[38;5;28misinstance\u001b[39m(task, Partial):\n\u001b[1;32m    486\u001b[0m     serializer \u001b[38;5;241m=\u001b[39m ZlibJSONSerializer()\n\u001b[0;32m--> 487\u001b[0m     serialized \u001b[38;5;241m=\u001b[39m \u001b[43mserializer\u001b[49m\u001b[38;5;241;43m.\u001b[39;49m\u001b[43mserialize\u001b[49m\u001b[43m(\u001b[49m\u001b[43mtask\u001b[49m\u001b[43m)\u001b[49m\n\u001b[1;32m    488\u001b[0m     deserialized \u001b[38;5;241m=\u001b[39m serializer\u001b[38;5;241m.\u001b[39mdeserialize(serialized)\n\u001b[1;32m    489\u001b[0m     diff \u001b[38;5;241m=\u001b[39m diffing\u001b[38;5;241m.\u001b[39mbuild_diff(deserialized, task)\n",
      "File \u001b[0;32m/opt/NeMo-Run/src/nemo_run/core/serialization/zlib_json.py:33\u001b[0m, in \u001b[0;36mZlibJSONSerializer.serialize\u001b[0;34m(self, cfg, pyref_policy)\u001b[0m\n\u001b[1;32m     27\u001b[0m \u001b[38;5;28;01mdef\u001b[39;00m \u001b[38;5;21mserialize\u001b[39m(\n\u001b[1;32m     28\u001b[0m     \u001b[38;5;28mself\u001b[39m,\n\u001b[1;32m     29\u001b[0m     cfg: config\u001b[38;5;241m.\u001b[39mBuildable,\n\u001b[1;32m     30\u001b[0m     pyref_policy: Optional[serialization\u001b[38;5;241m.\u001b[39mPyrefPolicy] \u001b[38;5;241m=\u001b[39m \u001b[38;5;28;01mNone\u001b[39;00m,\n\u001b[1;32m     31\u001b[0m ) \u001b[38;5;241m-\u001b[39m\u001b[38;5;241m>\u001b[39m \u001b[38;5;28mstr\u001b[39m:\n\u001b[1;32m     32\u001b[0m     \u001b[38;5;28;01mreturn\u001b[39;00m base64\u001b[38;5;241m.\u001b[39murlsafe_b64encode(\n\u001b[0;32m---> 33\u001b[0m         zlib\u001b[38;5;241m.\u001b[39mcompress(\u001b[43mserialization\u001b[49m\u001b[38;5;241;43m.\u001b[39;49m\u001b[43mdump_json\u001b[49m\u001b[43m(\u001b[49m\u001b[43mcfg\u001b[49m\u001b[43m,\u001b[49m\u001b[43m \u001b[49m\u001b[43mpyref_policy\u001b[49m\u001b[43m)\u001b[49m\u001b[38;5;241m.\u001b[39mencode())\n\u001b[1;32m     34\u001b[0m     )\u001b[38;5;241m.\u001b[39mdecode(\u001b[38;5;124m\"\u001b[39m\u001b[38;5;124mascii\u001b[39m\u001b[38;5;124m\"\u001b[39m)\n",
      "File \u001b[0;32m/usr/local/lib/python3.10/dist-packages/fiddle/_src/experimental/serialization.py:826\u001b[0m, in \u001b[0;36mdump_json\u001b[0;34m(value, pyref_policy, indent)\u001b[0m\n\u001b[1;32m    802\u001b[0m \u001b[38;5;28;01mdef\u001b[39;00m \u001b[38;5;21mdump_json\u001b[39m(\n\u001b[1;32m    803\u001b[0m     value: Any,\n\u001b[1;32m    804\u001b[0m     pyref_policy: Optional[PyrefPolicy] \u001b[38;5;241m=\u001b[39m \u001b[38;5;28;01mNone\u001b[39;00m,\n\u001b[1;32m    805\u001b[0m     indent: Optional[\u001b[38;5;28mint\u001b[39m] \u001b[38;5;241m=\u001b[39m \u001b[38;5;28;01mNone\u001b[39;00m,\n\u001b[1;32m    806\u001b[0m ) \u001b[38;5;241m-\u001b[39m\u001b[38;5;241m>\u001b[39m \u001b[38;5;28mstr\u001b[39m:\n\u001b[1;32m    807\u001b[0m \u001b[38;5;250m  \u001b[39m\u001b[38;5;124;03m\"\"\"Returns the JSON serialization of `value`.\u001b[39;00m\n\u001b[1;32m    808\u001b[0m \n\u001b[1;32m    809\u001b[0m \u001b[38;5;124;03m  Args:\u001b[39;00m\n\u001b[0;32m   (...)\u001b[0m\n\u001b[1;32m    824\u001b[0m \u001b[38;5;124;03m      disallowed by `pyref_policy`.\u001b[39;00m\n\u001b[1;32m    825\u001b[0m \u001b[38;5;124;03m  \"\"\"\u001b[39;00m\n\u001b[0;32m--> 826\u001b[0m   \u001b[38;5;28;01mreturn\u001b[39;00m json\u001b[38;5;241m.\u001b[39mdumps(\u001b[43mSerialization\u001b[49m\u001b[43m(\u001b[49m\u001b[43mvalue\u001b[49m\u001b[43m,\u001b[49m\u001b[43m \u001b[49m\u001b[43mpyref_policy\u001b[49m\u001b[43m)\u001b[49m\u001b[38;5;241m.\u001b[39mresult, indent\u001b[38;5;241m=\u001b[39mindent)\n",
      "File \u001b[0;32m/usr/local/lib/python3.10/dist-packages/fiddle/_src/experimental/serialization.py:527\u001b[0m, in \u001b[0;36mSerialization.__init__\u001b[0;34m(self, value, pyref_policy)\u001b[0m\n\u001b[1;32m    524\u001b[0m \u001b[38;5;28mself\u001b[39m\u001b[38;5;241m.\u001b[39m_pyref_policy \u001b[38;5;241m=\u001b[39m pyref_policy \u001b[38;5;129;01mor\u001b[39;00m DefaultPyrefPolicy()\n\u001b[1;32m    525\u001b[0m \u001b[38;5;66;03m# The result of the serialization.\u001b[39;00m\n\u001b[1;32m    526\u001b[0m \u001b[38;5;28mself\u001b[39m\u001b[38;5;241m.\u001b[39m_result \u001b[38;5;241m=\u001b[39m {\n\u001b[0;32m--> 527\u001b[0m     _ROOT_KEY: \u001b[38;5;28;43mself\u001b[39;49m\u001b[38;5;241;43m.\u001b[39;49m\u001b[43m_serialize\u001b[49m\u001b[43m(\u001b[49m\u001b[38;5;28;43mself\u001b[39;49m\u001b[38;5;241;43m.\u001b[39;49m\u001b[43m_root\u001b[49m\u001b[43m,\u001b[49m\u001b[43m \u001b[49m\u001b[43m(\u001b[49m\u001b[43m)\u001b[49m\u001b[43m,\u001b[49m\u001b[43m \u001b[49m\u001b[43mall_paths\u001b[49m\u001b[38;5;241;43m=\u001b[39;49m\u001b[43m(\u001b[49m\u001b[43m(\u001b[49m\u001b[43m)\u001b[49m\u001b[43m,\u001b[49m\u001b[43m)\u001b[49m\u001b[43m)\u001b[49m,\n\u001b[1;32m    528\u001b[0m     _OBJECTS_KEY: \u001b[38;5;28mself\u001b[39m\u001b[38;5;241m.\u001b[39m_objects,\n\u001b[1;32m    529\u001b[0m     _REFCOUNTS_KEY: \u001b[38;5;28mself\u001b[39m\u001b[38;5;241m.\u001b[39m_refcounts,\n\u001b[1;32m    530\u001b[0m     _VERSION_KEY: _VERSION,\n\u001b[1;32m    531\u001b[0m }\n",
      "File \u001b[0;32m/opt/NeMo/nemo/lightning/io/fdl_torch.py:131\u001b[0m, in \u001b[0;36menable.<locals>._modified_serialize\u001b[0;34m(self, value, current_path, all_paths)\u001b[0m\n\u001b[1;32m    129\u001b[0m \u001b[38;5;28;01mif\u001b[39;00m \u001b[38;5;28misinstance\u001b[39m(value, partial):\n\u001b[1;32m    130\u001b[0m     value \u001b[38;5;241m=\u001b[39m fdl\u001b[38;5;241m.\u001b[39mPartial(value\u001b[38;5;241m.\u001b[39mfunc, \u001b[38;5;241m*\u001b[39mvalue\u001b[38;5;241m.\u001b[39margs, \u001b[38;5;241m*\u001b[39m\u001b[38;5;241m*\u001b[39mvalue\u001b[38;5;241m.\u001b[39mkeywords)\n\u001b[0;32m--> 131\u001b[0m \u001b[38;5;28;01mreturn\u001b[39;00m \u001b[38;5;28;43mself\u001b[39;49m\u001b[38;5;241;43m.\u001b[39;49m\u001b[43m_original_serialize\u001b[49m\u001b[43m(\u001b[49m\u001b[43mvalue\u001b[49m\u001b[43m,\u001b[49m\u001b[43m \u001b[49m\u001b[43mcurrent_path\u001b[49m\u001b[43m,\u001b[49m\u001b[43m \u001b[49m\u001b[43mall_paths\u001b[49m\u001b[43m)\u001b[49m\n",
      "File \u001b[0;32m/usr/local/lib/python3.10/dist-packages/fiddle/_src/experimental/serialization.py:662\u001b[0m, in \u001b[0;36mSerialization._serialize\u001b[0;34m(self, value, current_path, all_paths)\u001b[0m\n\u001b[1;32m    658\u001b[0m \u001b[38;5;28;01mfor\u001b[39;00m path_element, child_value \u001b[38;5;129;01min\u001b[39;00m \u001b[38;5;28mzip\u001b[39m(path_elements, values):\n\u001b[1;32m    659\u001b[0m   child_paths \u001b[38;5;241m=\u001b[39m (\n\u001b[1;32m    660\u001b[0m       daglish\u001b[38;5;241m.\u001b[39madd_path_element(all_paths, path_element)\n\u001b[1;32m    661\u001b[0m       \u001b[38;5;28;01mif\u001b[39;00m all_paths \u001b[38;5;129;01mis\u001b[39;00m \u001b[38;5;129;01mnot\u001b[39;00m \u001b[38;5;28;01mNone\u001b[39;00m \u001b[38;5;28;01melse\u001b[39;00m \u001b[38;5;28;01mNone\u001b[39;00m)\n\u001b[0;32m--> 662\u001b[0m   serialized_value \u001b[38;5;241m=\u001b[39m \u001b[38;5;28;43mself\u001b[39;49m\u001b[38;5;241;43m.\u001b[39;49m\u001b[43m_serialize\u001b[49m\u001b[43m(\u001b[49m\n\u001b[1;32m    663\u001b[0m \u001b[43m      \u001b[49m\u001b[43mchild_value\u001b[49m\u001b[43m,\u001b[49m\u001b[43m \u001b[49m\u001b[43mcurrent_path\u001b[49m\u001b[43m \u001b[49m\u001b[38;5;241;43m+\u001b[39;49m\u001b[43m \u001b[49m\u001b[43m(\u001b[49m\u001b[43mpath_element\u001b[49m\u001b[43m,\u001b[49m\u001b[43m)\u001b[49m\u001b[43m,\u001b[49m\u001b[43m \u001b[49m\u001b[43mall_paths\u001b[49m\u001b[38;5;241;43m=\u001b[39;49m\u001b[43mchild_paths\u001b[49m\u001b[43m)\u001b[49m\n\u001b[1;32m    664\u001b[0m   \u001b[38;5;66;03m# The serialized item is a two-element list with a string representation\u001b[39;00m\n\u001b[1;32m    665\u001b[0m   \u001b[38;5;66;03m# of the path element available for debugging/visualization purposes.\u001b[39;00m\n\u001b[1;32m    666\u001b[0m   serialized_item \u001b[38;5;241m=\u001b[39m (\u001b[38;5;124mf\u001b[39m\u001b[38;5;124m'\u001b[39m\u001b[38;5;132;01m{\u001b[39;00mpath_element\u001b[38;5;132;01m!r}\u001b[39;00m\u001b[38;5;124m'\u001b[39m, serialized_value)\n",
      "File \u001b[0;32m/opt/NeMo/nemo/lightning/io/fdl_torch.py:131\u001b[0m, in \u001b[0;36menable.<locals>._modified_serialize\u001b[0;34m(self, value, current_path, all_paths)\u001b[0m\n\u001b[1;32m    129\u001b[0m \u001b[38;5;28;01mif\u001b[39;00m \u001b[38;5;28misinstance\u001b[39m(value, partial):\n\u001b[1;32m    130\u001b[0m     value \u001b[38;5;241m=\u001b[39m fdl\u001b[38;5;241m.\u001b[39mPartial(value\u001b[38;5;241m.\u001b[39mfunc, \u001b[38;5;241m*\u001b[39mvalue\u001b[38;5;241m.\u001b[39margs, \u001b[38;5;241m*\u001b[39m\u001b[38;5;241m*\u001b[39mvalue\u001b[38;5;241m.\u001b[39mkeywords)\n\u001b[0;32m--> 131\u001b[0m \u001b[38;5;28;01mreturn\u001b[39;00m \u001b[38;5;28;43mself\u001b[39;49m\u001b[38;5;241;43m.\u001b[39;49m\u001b[43m_original_serialize\u001b[49m\u001b[43m(\u001b[49m\u001b[43mvalue\u001b[49m\u001b[43m,\u001b[49m\u001b[43m \u001b[49m\u001b[43mcurrent_path\u001b[49m\u001b[43m,\u001b[49m\u001b[43m \u001b[49m\u001b[43mall_paths\u001b[49m\u001b[43m)\u001b[49m\n",
      "File \u001b[0;32m/usr/local/lib/python3.10/dist-packages/fiddle/_src/experimental/serialization.py:662\u001b[0m, in \u001b[0;36mSerialization._serialize\u001b[0;34m(self, value, current_path, all_paths)\u001b[0m\n\u001b[1;32m    658\u001b[0m \u001b[38;5;28;01mfor\u001b[39;00m path_element, child_value \u001b[38;5;129;01min\u001b[39;00m \u001b[38;5;28mzip\u001b[39m(path_elements, values):\n\u001b[1;32m    659\u001b[0m   child_paths \u001b[38;5;241m=\u001b[39m (\n\u001b[1;32m    660\u001b[0m       daglish\u001b[38;5;241m.\u001b[39madd_path_element(all_paths, path_element)\n\u001b[1;32m    661\u001b[0m       \u001b[38;5;28;01mif\u001b[39;00m all_paths \u001b[38;5;129;01mis\u001b[39;00m \u001b[38;5;129;01mnot\u001b[39;00m \u001b[38;5;28;01mNone\u001b[39;00m \u001b[38;5;28;01melse\u001b[39;00m \u001b[38;5;28;01mNone\u001b[39;00m)\n\u001b[0;32m--> 662\u001b[0m   serialized_value \u001b[38;5;241m=\u001b[39m \u001b[38;5;28;43mself\u001b[39;49m\u001b[38;5;241;43m.\u001b[39;49m\u001b[43m_serialize\u001b[49m\u001b[43m(\u001b[49m\n\u001b[1;32m    663\u001b[0m \u001b[43m      \u001b[49m\u001b[43mchild_value\u001b[49m\u001b[43m,\u001b[49m\u001b[43m \u001b[49m\u001b[43mcurrent_path\u001b[49m\u001b[43m \u001b[49m\u001b[38;5;241;43m+\u001b[39;49m\u001b[43m \u001b[49m\u001b[43m(\u001b[49m\u001b[43mpath_element\u001b[49m\u001b[43m,\u001b[49m\u001b[43m)\u001b[49m\u001b[43m,\u001b[49m\u001b[43m \u001b[49m\u001b[43mall_paths\u001b[49m\u001b[38;5;241;43m=\u001b[39;49m\u001b[43mchild_paths\u001b[49m\u001b[43m)\u001b[49m\n\u001b[1;32m    664\u001b[0m   \u001b[38;5;66;03m# The serialized item is a two-element list with a string representation\u001b[39;00m\n\u001b[1;32m    665\u001b[0m   \u001b[38;5;66;03m# of the path element available for debugging/visualization purposes.\u001b[39;00m\n\u001b[1;32m    666\u001b[0m   serialized_item \u001b[38;5;241m=\u001b[39m (\u001b[38;5;124mf\u001b[39m\u001b[38;5;124m'\u001b[39m\u001b[38;5;132;01m{\u001b[39;00mpath_element\u001b[38;5;132;01m!r}\u001b[39;00m\u001b[38;5;124m'\u001b[39m, serialized_value)\n",
      "    \u001b[0;31m[... skipping similar frames: enable.<locals>._modified_serialize at line 131 (1 times)]\u001b[0m\n",
      "File \u001b[0;32m/usr/local/lib/python3.10/dist-packages/fiddle/_src/experimental/serialization.py:662\u001b[0m, in \u001b[0;36mSerialization._serialize\u001b[0;34m(self, value, current_path, all_paths)\u001b[0m\n\u001b[1;32m    658\u001b[0m \u001b[38;5;28;01mfor\u001b[39;00m path_element, child_value \u001b[38;5;129;01min\u001b[39;00m \u001b[38;5;28mzip\u001b[39m(path_elements, values):\n\u001b[1;32m    659\u001b[0m   child_paths \u001b[38;5;241m=\u001b[39m (\n\u001b[1;32m    660\u001b[0m       daglish\u001b[38;5;241m.\u001b[39madd_path_element(all_paths, path_element)\n\u001b[1;32m    661\u001b[0m       \u001b[38;5;28;01mif\u001b[39;00m all_paths \u001b[38;5;129;01mis\u001b[39;00m \u001b[38;5;129;01mnot\u001b[39;00m \u001b[38;5;28;01mNone\u001b[39;00m \u001b[38;5;28;01melse\u001b[39;00m \u001b[38;5;28;01mNone\u001b[39;00m)\n\u001b[0;32m--> 662\u001b[0m   serialized_value \u001b[38;5;241m=\u001b[39m \u001b[38;5;28;43mself\u001b[39;49m\u001b[38;5;241;43m.\u001b[39;49m\u001b[43m_serialize\u001b[49m\u001b[43m(\u001b[49m\n\u001b[1;32m    663\u001b[0m \u001b[43m      \u001b[49m\u001b[43mchild_value\u001b[49m\u001b[43m,\u001b[49m\u001b[43m \u001b[49m\u001b[43mcurrent_path\u001b[49m\u001b[43m \u001b[49m\u001b[38;5;241;43m+\u001b[39;49m\u001b[43m \u001b[49m\u001b[43m(\u001b[49m\u001b[43mpath_element\u001b[49m\u001b[43m,\u001b[49m\u001b[43m)\u001b[49m\u001b[43m,\u001b[49m\u001b[43m \u001b[49m\u001b[43mall_paths\u001b[49m\u001b[38;5;241;43m=\u001b[39;49m\u001b[43mchild_paths\u001b[49m\u001b[43m)\u001b[49m\n\u001b[1;32m    664\u001b[0m   \u001b[38;5;66;03m# The serialized item is a two-element list with a string representation\u001b[39;00m\n\u001b[1;32m    665\u001b[0m   \u001b[38;5;66;03m# of the path element available for debugging/visualization purposes.\u001b[39;00m\n\u001b[1;32m    666\u001b[0m   serialized_item \u001b[38;5;241m=\u001b[39m (\u001b[38;5;124mf\u001b[39m\u001b[38;5;124m'\u001b[39m\u001b[38;5;132;01m{\u001b[39;00mpath_element\u001b[38;5;132;01m!r}\u001b[39;00m\u001b[38;5;124m'\u001b[39m, serialized_value)\n",
      "File \u001b[0;32m/opt/NeMo/nemo/lightning/io/fdl_torch.py:131\u001b[0m, in \u001b[0;36menable.<locals>._modified_serialize\u001b[0;34m(self, value, current_path, all_paths)\u001b[0m\n\u001b[1;32m    129\u001b[0m \u001b[38;5;28;01mif\u001b[39;00m \u001b[38;5;28misinstance\u001b[39m(value, partial):\n\u001b[1;32m    130\u001b[0m     value \u001b[38;5;241m=\u001b[39m fdl\u001b[38;5;241m.\u001b[39mPartial(value\u001b[38;5;241m.\u001b[39mfunc, \u001b[38;5;241m*\u001b[39mvalue\u001b[38;5;241m.\u001b[39margs, \u001b[38;5;241m*\u001b[39m\u001b[38;5;241m*\u001b[39mvalue\u001b[38;5;241m.\u001b[39mkeywords)\n\u001b[0;32m--> 131\u001b[0m \u001b[38;5;28;01mreturn\u001b[39;00m \u001b[38;5;28;43mself\u001b[39;49m\u001b[38;5;241;43m.\u001b[39;49m\u001b[43m_original_serialize\u001b[49m\u001b[43m(\u001b[49m\u001b[43mvalue\u001b[49m\u001b[43m,\u001b[49m\u001b[43m \u001b[49m\u001b[43mcurrent_path\u001b[49m\u001b[43m,\u001b[49m\u001b[43m \u001b[49m\u001b[43mall_paths\u001b[49m\u001b[43m)\u001b[49m\n",
      "File \u001b[0;32m/usr/local/lib/python3.10/dist-packages/fiddle/_src/experimental/serialization.py:671\u001b[0m, in \u001b[0;36mSerialization._serialize\u001b[0;34m(self, value, current_path, all_paths)\u001b[0m\n\u001b[1;32m    669\u001b[0m   \u001b[38;5;28;01mif\u001b[39;00m \u001b[38;5;28misinstance\u001b[39m(metadata, config_lib\u001b[38;5;241m.\u001b[39mBuildableTraverserMetadata):\n\u001b[1;32m    670\u001b[0m     metadata \u001b[38;5;241m=\u001b[39m metadata\u001b[38;5;241m.\u001b[39mwithout_history()\n\u001b[0;32m--> 671\u001b[0m   serialized_metadata \u001b[38;5;241m=\u001b[39m \u001b[38;5;28;43mself\u001b[39;49m\u001b[38;5;241;43m.\u001b[39;49m\u001b[43m_serialize\u001b[49m\u001b[43m(\u001b[49m\n\u001b[1;32m    672\u001b[0m \u001b[43m      \u001b[49m\u001b[43mmetadata\u001b[49m\u001b[43m,\u001b[49m\u001b[43m \u001b[49m\u001b[43mcurrent_path\u001b[49m\u001b[43m \u001b[49m\u001b[38;5;241;43m+\u001b[39;49m\u001b[43m \u001b[49m\u001b[43m(\u001b[49m\u001b[43mMetadataElement\u001b[49m\u001b[43m(\u001b[49m\u001b[43m)\u001b[49m\u001b[43m,\u001b[49m\u001b[43m)\u001b[49m\u001b[43m,\u001b[49m\u001b[43m \u001b[49m\u001b[43mall_paths\u001b[49m\u001b[38;5;241;43m=\u001b[39;49m\u001b[38;5;28;43;01mNone\u001b[39;49;00m\u001b[43m)\u001b[49m\n\u001b[1;32m    674\u001b[0m   output \u001b[38;5;241m=\u001b[39m {\n\u001b[1;32m    675\u001b[0m       _TYPE_KEY: \u001b[38;5;28mself\u001b[39m\u001b[38;5;241m.\u001b[39m_pyref(\u001b[38;5;28mtype\u001b[39m(value), current_path),\n\u001b[1;32m    676\u001b[0m       _ITEMS_KEY: serialized_items,\n\u001b[1;32m    677\u001b[0m       _METADATA_KEY: serialized_metadata\n\u001b[1;32m    678\u001b[0m   }\n\u001b[1;32m    680\u001b[0m \u001b[38;5;28;01mif\u001b[39;00m all_paths \u001b[38;5;129;01mis\u001b[39;00m \u001b[38;5;129;01mnot\u001b[39;00m \u001b[38;5;28;01mNone\u001b[39;00m:\n",
      "File \u001b[0;32m/opt/NeMo/nemo/lightning/io/fdl_torch.py:131\u001b[0m, in \u001b[0;36menable.<locals>._modified_serialize\u001b[0;34m(self, value, current_path, all_paths)\u001b[0m\n\u001b[1;32m    129\u001b[0m \u001b[38;5;28;01mif\u001b[39;00m \u001b[38;5;28misinstance\u001b[39m(value, partial):\n\u001b[1;32m    130\u001b[0m     value \u001b[38;5;241m=\u001b[39m fdl\u001b[38;5;241m.\u001b[39mPartial(value\u001b[38;5;241m.\u001b[39mfunc, \u001b[38;5;241m*\u001b[39mvalue\u001b[38;5;241m.\u001b[39margs, \u001b[38;5;241m*\u001b[39m\u001b[38;5;241m*\u001b[39mvalue\u001b[38;5;241m.\u001b[39mkeywords)\n\u001b[0;32m--> 131\u001b[0m \u001b[38;5;28;01mreturn\u001b[39;00m \u001b[38;5;28;43mself\u001b[39;49m\u001b[38;5;241;43m.\u001b[39;49m\u001b[43m_original_serialize\u001b[49m\u001b[43m(\u001b[49m\u001b[43mvalue\u001b[49m\u001b[43m,\u001b[49m\u001b[43m \u001b[49m\u001b[43mcurrent_path\u001b[49m\u001b[43m,\u001b[49m\u001b[43m \u001b[49m\u001b[43mall_paths\u001b[49m\u001b[43m)\u001b[49m\n",
      "File \u001b[0;32m/usr/local/lib/python3.10/dist-packages/fiddle/_src/experimental/serialization.py:662\u001b[0m, in \u001b[0;36mSerialization._serialize\u001b[0;34m(self, value, current_path, all_paths)\u001b[0m\n\u001b[1;32m    658\u001b[0m \u001b[38;5;28;01mfor\u001b[39;00m path_element, child_value \u001b[38;5;129;01min\u001b[39;00m \u001b[38;5;28mzip\u001b[39m(path_elements, values):\n\u001b[1;32m    659\u001b[0m   child_paths \u001b[38;5;241m=\u001b[39m (\n\u001b[1;32m    660\u001b[0m       daglish\u001b[38;5;241m.\u001b[39madd_path_element(all_paths, path_element)\n\u001b[1;32m    661\u001b[0m       \u001b[38;5;28;01mif\u001b[39;00m all_paths \u001b[38;5;129;01mis\u001b[39;00m \u001b[38;5;129;01mnot\u001b[39;00m \u001b[38;5;28;01mNone\u001b[39;00m \u001b[38;5;28;01melse\u001b[39;00m \u001b[38;5;28;01mNone\u001b[39;00m)\n\u001b[0;32m--> 662\u001b[0m   serialized_value \u001b[38;5;241m=\u001b[39m \u001b[38;5;28;43mself\u001b[39;49m\u001b[38;5;241;43m.\u001b[39;49m\u001b[43m_serialize\u001b[49m\u001b[43m(\u001b[49m\n\u001b[1;32m    663\u001b[0m \u001b[43m      \u001b[49m\u001b[43mchild_value\u001b[49m\u001b[43m,\u001b[49m\u001b[43m \u001b[49m\u001b[43mcurrent_path\u001b[49m\u001b[43m \u001b[49m\u001b[38;5;241;43m+\u001b[39;49m\u001b[43m \u001b[49m\u001b[43m(\u001b[49m\u001b[43mpath_element\u001b[49m\u001b[43m,\u001b[49m\u001b[43m)\u001b[49m\u001b[43m,\u001b[49m\u001b[43m \u001b[49m\u001b[43mall_paths\u001b[49m\u001b[38;5;241;43m=\u001b[39;49m\u001b[43mchild_paths\u001b[49m\u001b[43m)\u001b[49m\n\u001b[1;32m    664\u001b[0m   \u001b[38;5;66;03m# The serialized item is a two-element list with a string representation\u001b[39;00m\n\u001b[1;32m    665\u001b[0m   \u001b[38;5;66;03m# of the path element available for debugging/visualization purposes.\u001b[39;00m\n\u001b[1;32m    666\u001b[0m   serialized_item \u001b[38;5;241m=\u001b[39m (\u001b[38;5;124mf\u001b[39m\u001b[38;5;124m'\u001b[39m\u001b[38;5;132;01m{\u001b[39;00mpath_element\u001b[38;5;132;01m!r}\u001b[39;00m\u001b[38;5;124m'\u001b[39m, serialized_value)\n",
      "File \u001b[0;32m/opt/NeMo/nemo/lightning/io/fdl_torch.py:131\u001b[0m, in \u001b[0;36menable.<locals>._modified_serialize\u001b[0;34m(self, value, current_path, all_paths)\u001b[0m\n\u001b[1;32m    129\u001b[0m \u001b[38;5;28;01mif\u001b[39;00m \u001b[38;5;28misinstance\u001b[39m(value, partial):\n\u001b[1;32m    130\u001b[0m     value \u001b[38;5;241m=\u001b[39m fdl\u001b[38;5;241m.\u001b[39mPartial(value\u001b[38;5;241m.\u001b[39mfunc, \u001b[38;5;241m*\u001b[39mvalue\u001b[38;5;241m.\u001b[39margs, \u001b[38;5;241m*\u001b[39m\u001b[38;5;241m*\u001b[39mvalue\u001b[38;5;241m.\u001b[39mkeywords)\n\u001b[0;32m--> 131\u001b[0m \u001b[38;5;28;01mreturn\u001b[39;00m \u001b[38;5;28;43mself\u001b[39;49m\u001b[38;5;241;43m.\u001b[39;49m\u001b[43m_original_serialize\u001b[49m\u001b[43m(\u001b[49m\u001b[43mvalue\u001b[49m\u001b[43m,\u001b[49m\u001b[43m \u001b[49m\u001b[43mcurrent_path\u001b[49m\u001b[43m,\u001b[49m\u001b[43m \u001b[49m\u001b[43mall_paths\u001b[49m\u001b[43m)\u001b[49m\n",
      "File \u001b[0;32m/usr/local/lib/python3.10/dist-packages/fiddle/_src/experimental/serialization.py:640\u001b[0m, in \u001b[0;36mSerialization._serialize\u001b[0;34m(self, value, current_path, all_paths)\u001b[0m\n\u001b[1;32m    638\u001b[0m   output \u001b[38;5;241m=\u001b[39m \u001b[38;5;28mself\u001b[39m\u001b[38;5;241m.\u001b[39m_leaf(value)\n\u001b[1;32m    639\u001b[0m \u001b[38;5;28;01melif\u001b[39;00m \u001b[38;5;28misinstance\u001b[39m(value, (\u001b[38;5;28mtype\u001b[39m, types\u001b[38;5;241m.\u001b[39mFunctionType, enum\u001b[38;5;241m.\u001b[39mEnum)):\n\u001b[0;32m--> 640\u001b[0m   output \u001b[38;5;241m=\u001b[39m \u001b[38;5;28;43mself\u001b[39;49m\u001b[38;5;241;43m.\u001b[39;49m\u001b[43m_pyref\u001b[49m\u001b[43m(\u001b[49m\u001b[43mvalue\u001b[49m\u001b[43m,\u001b[49m\u001b[43m \u001b[49m\u001b[43mcurrent_path\u001b[49m\u001b[43m)\u001b[49m\n\u001b[1;32m    641\u001b[0m \u001b[38;5;28;01melif\u001b[39;00m \u001b[38;5;28misinstance\u001b[39m(value, lazy_imports\u001b[38;5;241m.\u001b[39mProxyObject):\n\u001b[1;32m    642\u001b[0m   output \u001b[38;5;241m=\u001b[39m _serialize_lazy_imports(value)\n",
      "File \u001b[0;32m/usr/local/lib/python3.10/dist-packages/fiddle/_src/experimental/serialization.py:585\u001b[0m, in \u001b[0;36mSerialization._pyref\u001b[0;34m(self, value, current_path)\u001b[0m\n\u001b[1;32m    579\u001b[0m \u001b[38;5;28;01mif\u001b[39;00m value \u001b[38;5;129;01mis\u001b[39;00m \u001b[38;5;129;01mnot\u001b[39;00m import_symbol(\u001b[38;5;28mself\u001b[39m\u001b[38;5;241m.\u001b[39m_pyref_policy, module_name, symbol):\n\u001b[1;32m    580\u001b[0m   msg \u001b[38;5;241m=\u001b[39m (\n\u001b[1;32m    581\u001b[0m       \u001b[38;5;124mf\u001b[39m\u001b[38;5;124m\"\u001b[39m\u001b[38;5;124mCouldn\u001b[39m\u001b[38;5;124m'\u001b[39m\u001b[38;5;124mt create a pyref for \u001b[39m\u001b[38;5;132;01m{\u001b[39;00mvalue\u001b[38;5;132;01m!r}\u001b[39;00m\u001b[38;5;124m; the same value was not\u001b[39m\u001b[38;5;124m\"\u001b[39m\n\u001b[1;32m    582\u001b[0m       \u001b[38;5;124mf\u001b[39m\u001b[38;5;124m'\u001b[39m\u001b[38;5;124m obtained by importing \u001b[39m\u001b[38;5;132;01m{\u001b[39;00msymbol\u001b[38;5;132;01m!r}\u001b[39;00m\u001b[38;5;124m from \u001b[39m\u001b[38;5;132;01m{\u001b[39;00mmodule_name\u001b[38;5;132;01m!r}\u001b[39;00m\u001b[38;5;124m. Error\u001b[39m\u001b[38;5;124m'\u001b[39m\n\u001b[1;32m    583\u001b[0m       \u001b[38;5;124mf\u001b[39m\u001b[38;5;124m'\u001b[39m\u001b[38;5;124m occurred at path \u001b[39m\u001b[38;5;132;01m{\u001b[39;00mpath_str(current_path)\u001b[38;5;132;01m!r}\u001b[39;00m\u001b[38;5;124m.\u001b[39m\u001b[38;5;124m'\u001b[39m\n\u001b[1;32m    584\u001b[0m   )\n\u001b[0;32m--> 585\u001b[0m   \u001b[38;5;28;01mraise\u001b[39;00m UnserializableValueError(msg)\n\u001b[1;32m    586\u001b[0m \u001b[38;5;28;01mreturn\u001b[39;00m {\n\u001b[1;32m    587\u001b[0m     _TYPE_KEY: _PYREF_TYPE,\n\u001b[1;32m    588\u001b[0m     _MODULE_KEY: module_name,\n\u001b[1;32m    589\u001b[0m     _NAME_KEY: symbol,\n\u001b[1;32m    590\u001b[0m }\n",
      "\u001b[0;31mUnserializableValueError\u001b[0m: Couldn't create a pyref for <class '__main__.CrashSimulationCallback'>; the same value was not obtained by importing 'CrashSimulationCallback' from '__main__'. Error occurred at path '<root>.trainer.callbacks[2].<metadata>.fn_or_cls'."
     ]
    }
   ],
   "source": [
    "# Enable a crash simulation callback\n",
    "pretrain.trainer.callbacks.append(run.Config(CrashSimulationCallback, crash_step=17))\n",
    "\n",
    "# run the experiment\n",
    "run_experiment(exp_name, pretrain, executor, run_plugins, dryrun=False)"
   ]
  },
  {
   "cell_type": "code",
   "execution_count": null,
   "id": "bf3acd19-c456-4a81-a933-12f11032bfb5",
   "metadata": {},
   "outputs": [],
   "source": []
  }
 ],
 "metadata": {
  "kernelspec": {
   "display_name": "Python 3 (ipykernel)",
   "language": "python",
   "name": "python3"
  },
  "language_info": {
   "codemirror_mode": {
    "name": "ipython",
    "version": 3
   },
   "file_extension": ".py",
   "mimetype": "text/x-python",
   "name": "python",
   "nbconvert_exporter": "python",
   "pygments_lexer": "ipython3",
   "version": "3.10.12"
  }
 },
 "nbformat": 4,
 "nbformat_minor": 5
}
