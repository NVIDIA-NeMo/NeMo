{
 "metadata": {
  "language_info": {
   "codemirror_mode": {
    "name": "ipython",
    "version": 3
   },
   "file_extension": ".py",
   "mimetype": "text/x-python",
   "name": "python",
   "nbconvert_exporter": "python",
   "pygments_lexer": "ipython3",
   "version": "3.6.10-final"
  },
  "orig_nbformat": 2,
  "kernelspec": {
   "name": "python361064bitpy36condade6bc17c0cdd4e2d8c72d4203452925a",
   "display_name": "Python 3.6.10 64-bit ('py36': conda)"
  }
 },
 "nbformat": 4,
 "nbformat_minor": 2,
 "cells": [
  {
   "cell_type": "code",
   "execution_count": 1,
   "metadata": {
    "tags": []
   },
   "outputs": [],
   "source": [
    "import os\n",
    "\n",
    "# Replace these macros accordingly\n",
    "ROOT = '/home/vincliu/vocoder/NeMo'\n",
    "os.chdir(ROOT)\n",
    "\n",
    "CHECKPOINT = os.path.join('nemo_experiments', 'SqueezeWave', '2020-08-30_12-13-34', 'checkpoints', 'SqueezeWave--last.ckpt')\n",
    "CONFIG = os.path.join('examples', 'tts', 'conf', 'squeezewave.yaml')\n",
    "DATA_MANIFEST = os.path.join('data', 'nvidia_ljspeech_test.json')\n",
    "OUT_FOLDER = os.path.join('samples')\n",
    "if not os.path.isdir(OUT_FOLDER):\n",
    "    os.makedirs(OUT_FOLDER)\n",
    "\n",
    "N_SAMPLES = 10              # number of samples to run validation/inference on\n",
    "MAX_WAV_VALUE = 32768.      # max wav value for scaling audio for writing to disk\n",
    "DENOISER_STRENGTH = 0.01    # strength of denoiser to remove model bias\n",
    "SIGMA = 0.6                 # std dev of gaussian distribution to sample from\n",
    "NORMALIZE = True            # whether to normalize generated audio\n",
    "SAMPLE_RATE = 22050         # sampling rate of all LJ-Speech audio files"
   ]
  },
  {
   "cell_type": "code",
   "execution_count": 2,
   "metadata": {
    "tags": []
   },
   "outputs": [
    {
     "output_type": "stream",
     "name": "stderr",
     "text": "[NeMo W 2020-08-31 13:52:07 experimental:28] Module <class 'nemo.collections.asr.data.audio_to_text.AudioToCharDataset'> is experimental, not ready for production and is not fully supported. Use at your own risk.\n[NeMo W 2020-08-31 13:52:07 experimental:28] Module <class 'nemo.collections.asr.data.audio_to_text.AudioToBPEDataset'> is experimental, not ready for production and is not fully supported. Use at your own risk.\n[NeMo W 2020-08-31 13:52:07 experimental:28] Module <class 'nemo.collections.asr.data.audio_to_text.AudioLabelDataset'> is experimental, not ready for production and is not fully supported. Use at your own risk.\n[NeMo W 2020-08-31 13:52:07 experimental:28] Module <class 'nemo.collections.asr.data.audio_to_text._TarredAudioToTextDataset'> is experimental, not ready for production and is not fully supported. Use at your own risk.\n[NeMo W 2020-08-31 13:52:07 experimental:28] Module <class 'nemo.collections.asr.data.audio_to_text.TarredAudioToCharDataset'> is experimental, not ready for production and is not fully supported. Use at your own risk.\n[NeMo W 2020-08-31 13:52:07 experimental:28] Module <class 'nemo.collections.asr.data.audio_to_text.TarredAudioToBPEDataset'> is experimental, not ready for production and is not fully supported. Use at your own risk.\n[NeMo W 2020-08-31 13:52:07 experimental:28] Module <class 'nemo.collections.asr.models.classification_models.EncDecClassificationModel'> is experimental, not ready for production and is not fully supported. Use at your own risk.\n[NeMo W 2020-08-31 13:52:07 experimental:28] Module <class 'nemo.collections.asr.models.classification_models.MatchboxNet'> is experimental, not ready for production and is not fully supported. Use at your own risk.\n[NeMo W 2020-08-31 13:52:07 experimental:28] Module <class 'nemo.collections.asr.losses.ctc.CTCLoss'> is experimental, not ready for production and is not fully supported. Use at your own risk.\n[NeMo W 2020-08-31 13:52:07 experimental:28] Module <class 'nemo.collections.asr.models.ctc_models.EncDecCTCModel'> is experimental, not ready for production and is not fully supported. Use at your own risk.\n[NeMo W 2020-08-31 13:52:07 experimental:28] Module <class 'nemo.collections.asr.models.ctc_models.JasperNet'> is experimental, not ready for production and is not fully supported. Use at your own risk.\n[NeMo W 2020-08-31 13:52:07 experimental:28] Module <class 'nemo.collections.asr.models.ctc_models.QuartzNet'> is experimental, not ready for production and is not fully supported. Use at your own risk.\n[NeMo W 2020-08-31 13:52:07 experimental:28] Module <class 'nemo.collections.asr.data.audio_to_label.AudioToSpeechLabelDataSet'> is experimental, not ready for production and is not fully supported. Use at your own risk.\n[NeMo W 2020-08-31 13:52:07 experimental:28] Module <class 'nemo.collections.asr.models.label_models.EncDecSpeakerLabelModel'> is experimental, not ready for production and is not fully supported. Use at your own risk.\n[NeMo W 2020-08-31 13:52:07 experimental:28] Module <class 'nemo.collections.asr.modules.audio_preprocessing.AudioToMFCCPreprocessor'> is experimental, not ready for production and is not fully supported. Use at your own risk.\n[NeMo W 2020-08-31 13:52:07 experimental:28] Module <class 'nemo.collections.asr.modules.conv_asr.ConvASREncoder'> is experimental, not ready for production and is not fully supported. Use at your own risk.\n[NeMo W 2020-08-31 13:52:07 experimental:28] Module <class 'nemo.collections.asr.modules.conv_asr.ConvASRDecoder'> is experimental, not ready for production and is not fully supported. Use at your own risk.\n[NeMo W 2020-08-31 13:52:07 experimental:28] Module <class 'nemo.collections.asr.modules.conv_asr.ConvASRDecoderClassification'> is experimental, not ready for production and is not fully supported. Use at your own risk.\n[NeMo W 2020-08-31 13:52:07 experimental:28] Module <class 'nemo.collections.tts.losses.glow_tts_loss.GlowTTSLoss'> is experimental, not ready for production and is not fully supported. Use at your own risk.\n[NeMo W 2020-08-31 13:52:07 experimental:28] Module <class 'nemo.collections.tts.modules.glow_tts.TextEncoder'> is experimental, not ready for production and is not fully supported. Use at your own risk.\n[NeMo W 2020-08-31 13:52:07 experimental:28] Module <class 'nemo.collections.tts.modules.glow_tts.FlowSpecDecoder'> is experimental, not ready for production and is not fully supported. Use at your own risk.\n[NeMo W 2020-08-31 13:52:07 experimental:28] Module <class 'nemo.collections.tts.modules.squeezewave.SqueezeWaveModule'> is experimental, not ready for production and is not fully supported. Use at your own risk.\n[NeMo W 2020-08-31 13:52:07 experimental:28] Module <class 'nemo.collections.tts.modules.tacotron2.Encoder'> is experimental, not ready for production and is not fully supported. Use at your own risk.\n[NeMo W 2020-08-31 13:52:07 experimental:28] Module <class 'nemo.collections.tts.modules.tacotron2.Decoder'> is experimental, not ready for production and is not fully supported. Use at your own risk.\n[NeMo W 2020-08-31 13:52:07 experimental:28] Module <class 'nemo.collections.tts.modules.tacotron2.Postnet'> is experimental, not ready for production and is not fully supported. Use at your own risk.\n[NeMo W 2020-08-31 13:52:07 experimental:28] Module <class 'nemo.collections.tts.modules.waveglow.WaveGlowModule'> is experimental, not ready for production and is not fully supported. Use at your own risk.\n[NeMo W 2020-08-31 13:52:07 experimental:28] Module <class 'nemo.collections.tts.models.glow_tts.GlowTTSModel'> is experimental, not ready for production and is not fully supported. Use at your own risk.\n[NeMo W 2020-08-31 13:52:07 experimental:28] Module <class 'nemo.collections.tts.models.squeezewave.SqueezeWaveModel'> is experimental, not ready for production and is not fully supported. Use at your own risk.\n[NeMo W 2020-08-31 13:52:07 experimental:28] Module <class 'nemo.collections.tts.models.tacotron2.Tacotron2Model'> is experimental, not ready for production and is not fully supported. Use at your own risk.\n[NeMo W 2020-08-31 13:52:07 experimental:28] Module <class 'nemo.collections.tts.models.waveglow.WaveGlowModel'> is experimental, not ready for production and is not fully supported. Use at your own risk.\n[NeMo I 2020-08-31 13:52:07 features:236] PADDING: 1\n[NeMo I 2020-08-31 13:52:07 features:245] STFT using exact pad\nNumber of trainable parameters: 23665184\n"
    }
   ],
   "source": [
    "import torch\n",
    "from omegaconf import OmegaConf\n",
    "\n",
    "from nemo.collections.tts.modules.squeezewave import OperationMode\n",
    "from nemo.collections.tts.models.squeezewave import SqueezeWaveModel\n",
    "\n",
    "# Remove all weight norm reparameterizations\n",
    "def remove_weightnorm(model):\n",
    "    squeezewave = model.squeezewave\n",
    "    assert hasattr(squeezewave, 'wavenet')\n",
    "    for i in range(len(squeezewave.wavenet)):\n",
    "        wavenet = squeezewave.wavenet[i]\n",
    "        wavenet.start = torch.nn.utils.remove_weight_norm(wavenet.start)\n",
    "        wavenet.cond_layer = torch.nn.utils.remove_weight_norm(wavenet.cond_layer)\n",
    "        for j in range(wavenet.n_layers):\n",
    "            res_skip_layer = wavenet.res_skip_layers[j]\n",
    "            res_skip_layer = torch.nn.utils.remove_weight_norm(res_skip_layer)\n",
    "    return model\n",
    "\n",
    "# Load model with its config\n",
    "def load_squeezewave_model(cfg):\n",
    "    with open(cfg) as f:\n",
    "        config = OmegaConf.load(f)\n",
    "    del config.model['train_ds']\n",
    "    del config.model['validation_ds']\n",
    "    del config.model['optim']\n",
    "    model = SqueezeWaveModel(cfg=config['model'])\n",
    "    print('Number of trainable parameters:', model.num_weights)\n",
    "    return model\n",
    "\n",
    "# Load weights and prepare model for inference\n",
    "model = load_squeezewave_model(CONFIG)\n",
    "checkpoint = torch.load(CHECKPOINT)['state_dict']\n",
    "model.load_state_dict(checkpoint, strict=True)\n",
    "model = remove_weightnorm(model)\n",
    "model = model.eval()\n",
    "model.mode = OperationMode.validation\n",
    "model.squeezewave.mode = OperationMode.validation"
   ]
  },
  {
   "cell_type": "code",
   "execution_count": 3,
   "metadata": {
    "tags": []
   },
   "outputs": [
    {
     "output_type": "stream",
     "name": "stdout",
     "text": "[NeMo I 2020-08-31 13:52:12 collections:171] Dataset loaded with 500 files totalling 0.91 hours\n[NeMo I 2020-08-31 13:52:12 collections:172] 0 files were filtered totalling 0.00 hours\n"
    }
   ],
   "source": [
    "from torch.utils.data import DataLoader\n",
    "\n",
    "from nemo.collections.tts.losses.waveglowloss import WaveGlowLoss\n",
    "from nemo.collections.tts.data.datalayers import AudioDataset\n",
    "\n",
    "dataset = AudioDataset(DATA_MANIFEST, n_segments=-1, truncate_to=4096)\n",
    "dataloader = DataLoader(\n",
    "    dataset, 1, shuffle=False, pin_memory=True, drop_last=False, num_workers=4,\n",
    ")\n",
    "\n",
    "loss_fn = WaveGlowLoss()"
   ]
  },
  {
   "cell_type": "code",
   "execution_count": 4,
   "metadata": {
    "tags": []
   },
   "outputs": [],
   "source": [
    "from nemo.collections.asr.parts.features import STFTExactPad\n",
    "\n",
    "class Denoiser(torch.nn.Module):\n",
    "    def __init__(self, model, n_mel=80, filter_length=1024, hop_length=512, win_length=1024, window='hann'):\n",
    "        super().__init__()\n",
    "\n",
    "        self.stft = STFTExactPad(\n",
    "            filter_length=filter_length, hop_length=hop_length, win_length=win_length, window=window,\n",
    "        ).to(model.device)\n",
    "\n",
    "        with torch.no_grad():\n",
    "            mel_input = torch.zeros((n_mel, 88)).to(model.device)\n",
    "            bias_audio = model.convert_spectrogram_to_audio(mel_input, sigma=0.0)\n",
    "            bias_spec, _ = self.stft.transform(bias_audio.unsqueeze(0))\n",
    "            self.bias_spec = bias_spec[:, :, 0][:, :, None]\n",
    "\n",
    "        # Reset mode to validation since `model.convert_spectrogram_to_audio` sets it to infer\n",
    "        model.mode = OperationMode.validation\n",
    "        model.squeezewave.mode = OperationMode.validation\n",
    "\n",
    "    def forward(self, audio, strength=0.1):\n",
    "        audio_spec, audio_angles = self.stft.transform(audio)\n",
    "        audio_spec_denoised = audio_spec - self.bias_spec * strength\n",
    "        audio_spec_denoised = torch.clamp(audio_spec_denoised, 0.0)\n",
    "        audio_denoised = self.stft.inverse(audio_spec_denoised, audio_angles)\n",
    "        return audio_denoised\n",
    "\n",
    "if DENOISER_STRENGTH > 0:\n",
    "    denoiser = Denoiser(\n",
    "        model, n_mel=80, filter_length=1024, hop_length=512, win_length=1024, window='hann',\n",
    "    )"
   ]
  },
  {
   "cell_type": "code",
   "execution_count": 5,
   "metadata": {
    "tags": []
   },
   "outputs": [
    {
     "output_type": "stream",
     "name": "stdout",
     "text": "[audio_0.wav] loss: -5.84719 stoi: 0.96552\n[audio_1.wav] loss: -6.03890 stoi: 0.97358\n[audio_2.wav] loss: -6.17264 stoi: 0.96632\n[audio_3.wav] loss: -6.43534 stoi: 0.97494\n[audio_4.wav] loss: -6.10541 stoi: 0.97410\n[audio_5.wav] loss: -5.85458 stoi: 0.97399\n[audio_6.wav] loss: -5.99239 stoi: 0.97245\n[audio_7.wav] loss: -5.97652 stoi: 0.97298\n[audio_8.wav] loss: -5.86361 stoi: 0.96969\n[audio_9.wav] loss: -6.22685 stoi: 0.97078\n[audio_10.wav] loss: -6.29562 stoi: 0.97012\n[audio_11.wav] loss: -5.93088 stoi: 0.96683\n[audio_12.wav] loss: -6.02697 stoi: 0.96641\n[audio_13.wav] loss: -5.92783 stoi: 0.97089\n[audio_14.wav] loss: -6.05657 stoi: 0.96787\n[audio_15.wav] loss: -5.73989 stoi: 0.96716\n[audio_16.wav] loss: -6.23188 stoi: 0.96742\n[audio_17.wav] loss: -6.18484 stoi: 0.96912\n[audio_18.wav] loss: -6.27311 stoi: 0.96028\n[audio_19.wav] loss: -5.97458 stoi: 0.97047\n[audio_20.wav] loss: -6.16458 stoi: 0.97414\n[audio_21.wav] loss: -5.91340 stoi: 0.97391\n[audio_22.wav] loss: -5.83040 stoi: 0.97615\n[audio_23.wav] loss: -6.02302 stoi: 0.97066\n[audio_24.wav] loss: -5.56564 stoi: 0.96232\n[audio_25.wav] loss: -5.52144 stoi: 0.96164\n[audio_26.wav] loss: -5.71940 stoi: 0.97158\n[audio_27.wav] loss: -5.86879 stoi: 0.96900\n[audio_28.wav] loss: -5.97966 stoi: 0.97114\n[audio_29.wav] loss: -5.94316 stoi: 0.96711\n[audio_30.wav] loss: -6.07120 stoi: 0.96860\n[audio_31.wav] loss: -6.01001 stoi: 0.96584\n[audio_32.wav] loss: -6.16504 stoi: 0.95881\n[audio_33.wav] loss: -6.14817 stoi: 0.96990\n[audio_34.wav] loss: -5.89411 stoi: 0.97533\n[audio_35.wav] loss: -5.61059 stoi: 0.96726\n[audio_36.wav] loss: -6.32807 stoi: 0.96749\n[audio_37.wav] loss: -6.21807 stoi: 0.97375\n[audio_38.wav] loss: -5.69153 stoi: 0.96309\n[audio_39.wav] loss: -5.87259 stoi: 0.96151\n[audio_40.wav] loss: -6.01259 stoi: 0.96849\n[audio_41.wav] loss: -6.48174 stoi: 0.97178\n[audio_42.wav] loss: -5.84292 stoi: 0.96968\n[audio_43.wav] loss: -5.96385 stoi: 0.96620\n[audio_44.wav] loss: -6.07073 stoi: 0.96234\n[audio_45.wav] loss: -6.02130 stoi: 0.96265\n[audio_46.wav] loss: -5.65270 stoi: 0.96870\n[audio_47.wav] loss: -6.26932 stoi: 0.97256\n[audio_48.wav] loss: -6.19334 stoi: 0.96625\n[audio_49.wav] loss: -5.79580 stoi: 0.95572\n[audio_50.wav] loss: -5.42896 stoi: 0.96739\n[audio_51.wav] loss: -5.51280 stoi: 0.97486\n[audio_52.wav] loss: -5.89472 stoi: 0.97341\n[audio_53.wav] loss: -6.07537 stoi: 0.96512\n[audio_54.wav] loss: -5.35846 stoi: 0.97557\n[audio_55.wav] loss: -5.71016 stoi: 0.96501\n[audio_56.wav] loss: -6.10490 stoi: 0.97106\n[audio_57.wav] loss: -6.14534 stoi: 0.97136\n[audio_58.wav] loss: -6.29965 stoi: 0.96461\n[audio_59.wav] loss: -5.85721 stoi: 0.96622\n[audio_60.wav] loss: -5.67590 stoi: 0.97355\n[audio_61.wav] loss: -6.17642 stoi: 0.97150\n[audio_62.wav] loss: -5.85511 stoi: 0.96394\n[audio_63.wav] loss: -6.05556 stoi: 0.97118\n[audio_64.wav] loss: -6.06503 stoi: 0.97055\n[audio_65.wav] loss: -6.04759 stoi: 0.96614\n[audio_66.wav] loss: -6.35664 stoi: 0.96635\n[audio_67.wav] loss: -5.86343 stoi: 0.96961\n[audio_68.wav] loss: -5.69981 stoi: 0.97548\n[audio_69.wav] loss: -5.74096 stoi: 0.96645\n[audio_70.wav] loss: -6.10252 stoi: 0.97288\n[audio_71.wav] loss: -5.73180 stoi: 0.96963\n[audio_72.wav] loss: -6.20442 stoi: 0.97399\n[audio_73.wav] loss: -5.88847 stoi: 0.97059\n[audio_74.wav] loss: -5.89872 stoi: 0.96831\n[audio_75.wav] loss: -6.07457 stoi: 0.96863\n[audio_76.wav] loss: -6.20275 stoi: 0.97337\n[audio_77.wav] loss: -6.09641 stoi: 0.96775\n[audio_78.wav] loss: -5.82319 stoi: 0.97304\n[audio_79.wav] loss: -6.08803 stoi: 0.97567\n[audio_80.wav] loss: -6.12347 stoi: 0.96248\n[audio_81.wav] loss: -5.74223 stoi: 0.96597\n[audio_82.wav] loss: -6.53553 stoi: 0.96941\n[audio_83.wav] loss: -6.15829 stoi: 0.97132\n[audio_84.wav] loss: -6.24512 stoi: 0.96935\n[audio_85.wav] loss: -6.05709 stoi: 0.97368\n[audio_86.wav] loss: -6.06084 stoi: 0.96611\n[audio_87.wav] loss: -5.86243 stoi: 0.97206\n[audio_88.wav] loss: -6.10615 stoi: 0.96769\n[audio_89.wav] loss: -6.51875 stoi: 0.96581\n[audio_90.wav] loss: -5.67705 stoi: 0.97027\n[audio_91.wav] loss: -6.03077 stoi: 0.97430\n[audio_92.wav] loss: -6.21830 stoi: 0.96782\n[audio_93.wav] loss: -5.81160 stoi: 0.97013\n[audio_94.wav] loss: -6.09960 stoi: 0.96529\n[audio_95.wav] loss: -6.04229 stoi: 0.96244\n[audio_96.wav] loss: -6.13790 stoi: 0.96011\n[audio_97.wav] loss: -6.12851 stoi: 0.97342\n[audio_98.wav] loss: -5.82675 stoi: 0.96126\n[audio_99.wav] loss: -5.59750 stoi: 0.97024\n"
    }
   ],
   "source": [
    "import soundfile as sf\n",
    "from pystoi import stoi\n",
    "from maracas.maracas import asl_meter   # requires numba==0.44 (librosa usually installs numba==0.48)\n",
    "\n",
    "from nemo.collections.asr.parts.features import FilterbankFeatures\n",
    "\n",
    "for i, (audio, audio_len) in enumerate(dataloader):\n",
    "    if i == N_SAMPLES: break\n",
    "\n",
    "    # Get loss and audio reconstruction\n",
    "    with torch.no_grad():\n",
    "        spect, spect_len = model.audio_to_melspec_precessor(audio, audio_len)\n",
    "        z, log_s_list, log_det_W_list, audio_pred, *_ = model.squeezewave(\n",
    "            spect=spect, audio=audio, run_inverse=True, sigma=SIGMA,\n",
    "        )\n",
    "        loss = loss_fn(\n",
    "            z=z, log_s_list=log_s_list, log_det_W_list=log_det_W_list, sigma=model.sigma,\n",
    "        )\n",
    "\n",
    "    # Remove model bias\n",
    "    if DENOISER_STRENGTH > 0:\n",
    "        audio_pred = denoiser(audio_pred, strength=DENOISER_STRENGTH)\n",
    "    \n",
    "    audio_pred = audio_pred.detach().cpu().numpy().squeeze()\n",
    "    audio = audio.detach().cpu().numpy().squeeze()\n",
    "\n",
    "    # Normalize active speech levels (asl)\n",
    "    if NORMALIZE:\n",
    "        asl_level = -26\n",
    "        audio_pred = audio_pred / 10 ** (asl_meter(audio_pred, SAMPLE_RATE) / 20) * 10 ** (asl_level / 20)\n",
    "\n",
    "    # Compute stoi (short-time objective intelligibility)\n",
    "    stoi_score = stoi(audio, audio_pred, SAMPLE_RATE, extended=False)\n",
    "\n",
    "    # Save original and synthesized audio to disk\n",
    "    filename = 'audio_{}.wav'.format(i)\n",
    "    audio_pred = (audio_pred * MAX_WAV_VALUE).astype('int16')\n",
    "    sf.write(os.path.join(OUT_FOLDER, 'synth_' + filename), audio_pred, samplerate=SAMPLE_RATE)\n",
    "    audio = (audio * MAX_WAV_VALUE).astype('int16')\n",
    "    sf.write(os.path.join(OUT_FOLDER, 'orig_' + filename), audio, samplerate=SAMPLE_RATE)\n",
    "\n",
    "    print('[{}] loss: {:.5f} stoi: {:.5f}'.format(filename, loss.item(), stoi_score.item()))"
   ]
  }
 ]
}