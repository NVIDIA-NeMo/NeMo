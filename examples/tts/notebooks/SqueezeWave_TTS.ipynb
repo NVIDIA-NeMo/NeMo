{
 "metadata": {
  "language_info": {
   "codemirror_mode": {
    "name": "ipython",
    "version": 3
   },
   "file_extension": ".py",
   "mimetype": "text/x-python",
   "name": "python",
   "nbconvert_exporter": "python",
   "pygments_lexer": "ipython3",
   "version": "3.6.10-final"
  },
  "orig_nbformat": 2,
  "kernelspec": {
   "name": "python361064bitpy36condade6bc17c0cdd4e2d8c72d4203452925a",
   "display_name": "Python 3.6.10 64-bit ('py36': conda)"
  }
 },
 "nbformat": 4,
 "nbformat_minor": 2,
 "cells": [
  {
   "cell_type": "code",
   "execution_count": 1,
   "metadata": {
    "tags": []
   },
   "outputs": [],
   "source": [
    "import os\n",
    "\n",
    "# Replace these macros accordingly\n",
    "ROOT = '/home/vincliu/vocoder/NeMo'\n",
    "os.chdir(ROOT)\n",
    "\n",
    "CHECKPOINT = os.path.join('nemo_experiments', 'SqueezeWave', '2020-08-30_12-13-34', 'checkpoints', 'SqueezeWave--end.ckpt')\n",
    "CONFIG = os.path.join('examples', 'tts', 'conf', 'squeezewave.yaml')\n",
    "DATA_MANIFEST = os.path.join('data', 'nvidia_ljspeech_test.json')\n",
    "OUT_FOLDER = os.path.join('samples')\n",
    "if not os.path.isdir(OUT_FOLDER):\n",
    "    os.makedirs(OUT_FOLDER)\n",
    "\n",
    "N_SAMPLES = 10              # number of samples to run validation/inference on\n",
    "MAX_WAV_VALUE = 32768.      # max wav value for scaling audio for writing to disk\n",
    "DENOISER_STRENGTH = 0.01    # strength of denoiser to remove model bias\n",
    "SIGMA = 0.6                 # std dev of gaussian distribution to sample from\n",
    "NORMALIZE = True            # whether to normalize generated audio\n",
    "SAMPLE_RATE = 22050         # sampling rate of all LJ-Speech audio files"
   ]
  },
  {
   "cell_type": "code",
   "execution_count": 2,
   "metadata": {
    "tags": []
   },
   "outputs": [
    {
     "output_type": "stream",
     "name": "stderr",
     "text": "[NeMo W 2020-09-02 11:36:14 experimental:28] Module <class 'nemo.collections.asr.data.audio_to_text.AudioToCharDataset'> is experimental, not ready for production and is not fully supported. Use at your own risk.\n[NeMo W 2020-09-02 11:36:14 experimental:28] Module <class 'nemo.collections.asr.data.audio_to_text.AudioToBPEDataset'> is experimental, not ready for production and is not fully supported. Use at your own risk.\n[NeMo W 2020-09-02 11:36:14 experimental:28] Module <class 'nemo.collections.asr.data.audio_to_text.AudioLabelDataset'> is experimental, not ready for production and is not fully supported. Use at your own risk.\n[NeMo W 2020-09-02 11:36:14 experimental:28] Module <class 'nemo.collections.asr.data.audio_to_text._TarredAudioToTextDataset'> is experimental, not ready for production and is not fully supported. Use at your own risk.\n[NeMo W 2020-09-02 11:36:14 experimental:28] Module <class 'nemo.collections.asr.data.audio_to_text.TarredAudioToCharDataset'> is experimental, not ready for production and is not fully supported. Use at your own risk.\n[NeMo W 2020-09-02 11:36:14 experimental:28] Module <class 'nemo.collections.asr.data.audio_to_text.TarredAudioToBPEDataset'> is experimental, not ready for production and is not fully supported. Use at your own risk.\n[NeMo W 2020-09-02 11:36:14 experimental:28] Module <class 'nemo.collections.asr.losses.ctc.CTCLoss'> is experimental, not ready for production and is not fully supported. Use at your own risk.\n[NeMo W 2020-09-02 11:36:14 experimental:28] Module <class 'nemo.collections.asr.data.audio_to_label.AudioToSpeechLabelDataSet'> is experimental, not ready for production and is not fully supported. Use at your own risk.\n[NeMo W 2020-09-02 11:36:14 experimental:28] Module <class 'nemo.collections.tts.losses.glow_tts_loss.GlowTTSLoss'> is experimental, not ready for production and is not fully supported. Use at your own risk.\n[NeMo W 2020-09-02 11:36:14 experimental:28] Module <class 'nemo.collections.tts.modules.squeezewave.SqueezeWaveModule'> is experimental, not ready for production and is not fully supported. Use at your own risk.\n[NeMo W 2020-09-02 11:36:14 experimental:28] Module <class 'nemo.collections.tts.modules.glow_tts.TextEncoder'> is experimental, not ready for production and is not fully supported. Use at your own risk.\n[NeMo W 2020-09-02 11:36:14 experimental:28] Module <class 'nemo.collections.tts.modules.glow_tts.FlowSpecDecoder'> is experimental, not ready for production and is not fully supported. Use at your own risk.\n[NeMo W 2020-09-02 11:36:14 experimental:28] Module <class 'nemo.collections.tts.modules.tacotron2.Encoder'> is experimental, not ready for production and is not fully supported. Use at your own risk.\n[NeMo W 2020-09-02 11:36:14 experimental:28] Module <class 'nemo.collections.tts.modules.tacotron2.Decoder'> is experimental, not ready for production and is not fully supported. Use at your own risk.\n[NeMo W 2020-09-02 11:36:14 experimental:28] Module <class 'nemo.collections.tts.modules.tacotron2.Postnet'> is experimental, not ready for production and is not fully supported. Use at your own risk.\n[NeMo W 2020-09-02 11:36:14 experimental:28] Module <class 'nemo.collections.tts.modules.waveglow.WaveGlowModule'> is experimental, not ready for production and is not fully supported. Use at your own risk.\n[NeMo I 2020-09-02 11:36:14 features:240] PADDING: 1\n[NeMo I 2020-09-02 11:36:14 features:249] STFT using exact pad\nNumber of trainable parameters: 23665184\n"
    }
   ],
   "source": [
    "import torch\n",
    "from omegaconf import OmegaConf\n",
    "\n",
    "from nemo.collections.tts.helpers.helpers import remove_weightnorm\n",
    "from nemo.collections.tts.modules.squeezewave import OperationMode\n",
    "from nemo.collections.tts.models.squeezewave import SqueezeWaveModel\n",
    "\n",
    "# Load model with its config\n",
    "def load_squeezewave_model(cfg):\n",
    "    with open(cfg) as f:\n",
    "        config = OmegaConf.load(f)\n",
    "    del config.model['train_ds']\n",
    "    del config.model['validation_ds']\n",
    "    del config.model['optim']\n",
    "    model = SqueezeWaveModel(cfg=config['model'])\n",
    "    print('Number of trainable parameters:', model.num_weights)\n",
    "    return model\n",
    "\n",
    "# Load weights and prepare model for inference\n",
    "model = load_squeezewave_model(CONFIG)\n",
    "checkpoint = torch.load(CHECKPOINT)['state_dict']\n",
    "model.load_state_dict(checkpoint, strict=True)\n",
    "\n",
    "model.squeezewave = remove_weightnorm(model.squeezewave)\n",
    "model = model.eval()\n",
    "model.mode = OperationMode.validation\n",
    "model.squeezewave.mode = OperationMode.validation"
   ]
  },
  {
   "cell_type": "code",
   "execution_count": 3,
   "metadata": {
    "tags": []
   },
   "outputs": [
    {
     "output_type": "stream",
     "name": "stdout",
     "text": "[NeMo I 2020-09-02 11:36:17 collections:171] Dataset loaded with 500 files totalling 0.91 hours\n[NeMo I 2020-09-02 11:36:17 collections:172] 0 files were filtered totalling 0.00 hours\n"
    }
   ],
   "source": [
    "from torch.utils.data import DataLoader\n",
    "\n",
    "from nemo.collections.tts.losses.waveglowloss import WaveGlowLoss\n",
    "from nemo.collections.tts.data.datalayers import AudioDataset\n",
    "from nemo.collections.tts.modules.denoiser import SqueezeWaveDenoiser\n",
    "\n",
    "dataloader = DataLoader(\n",
    "    AudioDataset(DATA_MANIFEST, n_segments=-1, truncate_to=4096), 1,\n",
    "    shuffle=False, pin_memory=True, drop_last=False, num_workers=4,\n",
    ")\n",
    "\n",
    "loss_fn = WaveGlowLoss()\n",
    "\n",
    "if DENOISER_STRENGTH > 0:\n",
    "    denoiser = SqueezeWaveDenoiser(\n",
    "        model, n_mel=80, filter_length=1024, hop_length=512, win_length=1024, window='hann',\n",
    "    )"
   ]
  },
  {
   "cell_type": "code",
   "execution_count": 4,
   "metadata": {
    "tags": []
   },
   "outputs": [
    {
     "output_type": "stream",
     "name": "stdout",
     "text": "[audio_0] loss: -5.90722 stoi: 0.97124\n[audio_1] loss: -6.09878 stoi: 0.97737\n[audio_2] loss: -6.23983 stoi: 0.96786\n[audio_3] loss: -6.50808 stoi: 0.97205\n[audio_4] loss: -6.17500 stoi: 0.97381\n[audio_5] loss: -5.90730 stoi: 0.96973\n[audio_6] loss: -6.05076 stoi: 0.97257\n[audio_7] loss: -6.03531 stoi: 0.97066\n[audio_8] loss: -5.92343 stoi: 0.96531\n[audio_9] loss: -6.30204 stoi: 0.96451\n"
    }
   ],
   "source": [
    "import soundfile as sf\n",
    "from pystoi import stoi\n",
    "from maracas.maracas import asl_meter   # requires numba==0.44 for autojit (librosa usually installs numba==0.48)\n",
    "\n",
    "from nemo.collections.asr.parts.features import FilterbankFeatures\n",
    "\n",
    "for i, (audio, audio_len) in enumerate(dataloader):\n",
    "    if i == N_SAMPLES: break\n",
    "\n",
    "    # Get loss and audio reconstruction\n",
    "    with torch.no_grad():\n",
    "        spect, spect_len = model.audio_to_melspec_precessor(audio, audio_len)\n",
    "        z, log_s_list, log_det_W_list, audio_pred, *_ = model.squeezewave(\n",
    "            spect=spect, audio=audio, run_inverse=True, sigma=SIGMA,\n",
    "        )\n",
    "        loss = loss_fn(\n",
    "            z=z, log_s_list=log_s_list, log_det_W_list=log_det_W_list, sigma=model.sigma,\n",
    "        )\n",
    "\n",
    "    # Remove model bias\n",
    "    if DENOISER_STRENGTH > 0:\n",
    "        audio_pred = denoiser(audio_pred, strength=DENOISER_STRENGTH)\n",
    "    \n",
    "    audio_pred = audio_pred.detach().cpu().numpy().squeeze()\n",
    "    audio = audio.detach().cpu().numpy().squeeze()\n",
    "\n",
    "    # Normalize active speech levels (asl)\n",
    "    if NORMALIZE:\n",
    "        asl_level = -26\n",
    "        audio_pred = audio_pred / 10 ** (asl_meter(audio_pred, SAMPLE_RATE) / 20) * 10 ** (asl_level / 20)\n",
    "\n",
    "    # Compute stoi (short-time objective intelligibility)\n",
    "    stoi_score = stoi(audio, audio_pred, SAMPLE_RATE, extended=False)\n",
    "\n",
    "    # Save original and synthesized audio to disk\n",
    "    filename = 'audio_{}'.format(i)\n",
    "    audio_pred = (audio_pred * MAX_WAV_VALUE).astype('int16')\n",
    "    sf.write(os.path.join(OUT_FOLDER, filename + '_synthesis.wav'), audio_pred, samplerate=SAMPLE_RATE)\n",
    "    audio = (audio * MAX_WAV_VALUE).astype('int16')\n",
    "    sf.write(os.path.join(OUT_FOLDER, filename + '.wav'), audio, samplerate=SAMPLE_RATE)\n",
    "\n",
    "    print('[{}] loss: {:.5f} stoi: {:.5f}'.format(filename, loss.item(), stoi_score.item()))"
   ]
  }
 ]
}