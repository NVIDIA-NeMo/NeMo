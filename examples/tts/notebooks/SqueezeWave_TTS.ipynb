{
 "metadata": {
  "language_info": {
   "codemirror_mode": {
    "name": "ipython",
    "version": 3
   },
   "file_extension": ".py",
   "mimetype": "text/x-python",
   "name": "python",
   "nbconvert_exporter": "python",
   "pygments_lexer": "ipython3",
   "version": "3.6.10-final"
  },
  "orig_nbformat": 2,
  "kernelspec": {
   "name": "python361064bitpy36condade6bc17c0cdd4e2d8c72d4203452925a",
   "display_name": "Python 3.6.10 64-bit ('py36': conda)"
  }
 },
 "nbformat": 4,
 "nbformat_minor": 2,
 "cells": [
  {
   "cell_type": "code",
   "execution_count": 1,
   "metadata": {
    "tags": []
   },
   "outputs": [],
   "source": [
    "import os\n",
    "\n",
    "# Replace these macros accordingly\n",
    "ROOT = '/home/vincliu/vocoder/NeMo'\n",
    "os.chdir(ROOT)\n",
    "\n",
    "CHECKPOINT = os.path.join('nemo_experiments', 'SqueezeWave', '2020-08-30_12-13-34', 'checkpoints', 'SqueezeWave--last.ckpt')\n",
    "CONFIG = os.path.join('examples', 'tts', 'conf', 'squeezewave.yaml')\n",
    "DATA_MANIFEST = os.path.join('data', 'nvidia_ljspeech_test.json')\n",
    "OUT_FOLDER = os.path.join('samples')\n",
    "if not os.path.isdir(OUT_FOLDER):\n",
    "    os.makedirs(OUT_FOLDER)\n",
    "\n",
    "N_SAMPLES = 10              # number of samples to run validation/inference on\n",
    "MAX_WAV_VALUE = 32768.      # max wav value for scaling audio for writing to disk\n",
    "DENOISER_STRENGTH = 0.01    # strength of denoiser to remove model bias\n",
    "SIGMA = 0.6                 # std dev of gaussian distribution to sample from\n",
    "NORMALIZE = True            # whether to normalize generated audio\n",
    "SAMPLE_RATE = 22050         # sampling rate of all LJ-Speech audio files"
   ]
  },
  {
   "cell_type": "code",
   "execution_count": 2,
   "metadata": {
    "tags": []
   },
   "outputs": [
    {
     "output_type": "stream",
     "name": "stderr",
     "text": "[NeMo W 2020-09-02 10:29:14 experimental:28] Module <class 'nemo.collections.asr.data.audio_to_text.AudioToCharDataset'> is experimental, not ready for production and is not fully supported. Use at your own risk.\n[NeMo W 2020-09-02 10:29:14 experimental:28] Module <class 'nemo.collections.asr.data.audio_to_text.AudioToBPEDataset'> is experimental, not ready for production and is not fully supported. Use at your own risk.\n[NeMo W 2020-09-02 10:29:14 experimental:28] Module <class 'nemo.collections.asr.data.audio_to_text.AudioLabelDataset'> is experimental, not ready for production and is not fully supported. Use at your own risk.\n[NeMo W 2020-09-02 10:29:14 experimental:28] Module <class 'nemo.collections.asr.data.audio_to_text._TarredAudioToTextDataset'> is experimental, not ready for production and is not fully supported. Use at your own risk.\n[NeMo W 2020-09-02 10:29:14 experimental:28] Module <class 'nemo.collections.asr.data.audio_to_text.TarredAudioToCharDataset'> is experimental, not ready for production and is not fully supported. Use at your own risk.\n[NeMo W 2020-09-02 10:29:14 experimental:28] Module <class 'nemo.collections.asr.data.audio_to_text.TarredAudioToBPEDataset'> is experimental, not ready for production and is not fully supported. Use at your own risk.\n[NeMo W 2020-09-02 10:29:14 experimental:28] Module <class 'nemo.collections.asr.losses.ctc.CTCLoss'> is experimental, not ready for production and is not fully supported. Use at your own risk.\n[NeMo W 2020-09-02 10:29:14 experimental:28] Module <class 'nemo.collections.asr.data.audio_to_label.AudioToSpeechLabelDataSet'> is experimental, not ready for production and is not fully supported. Use at your own risk.\n[NeMo W 2020-09-02 10:29:15 experimental:28] Module <class 'nemo.collections.tts.losses.glow_tts_loss.GlowTTSLoss'> is experimental, not ready for production and is not fully supported. Use at your own risk.\n[NeMo W 2020-09-02 10:29:15 experimental:28] Module <class 'nemo.collections.tts.modules.squeezewave.SqueezeWaveModule'> is experimental, not ready for production and is not fully supported. Use at your own risk.\n[NeMo W 2020-09-02 10:29:15 experimental:28] Module <class 'nemo.collections.tts.modules.glow_tts.TextEncoder'> is experimental, not ready for production and is not fully supported. Use at your own risk.\n[NeMo W 2020-09-02 10:29:15 experimental:28] Module <class 'nemo.collections.tts.modules.glow_tts.FlowSpecDecoder'> is experimental, not ready for production and is not fully supported. Use at your own risk.\n[NeMo W 2020-09-02 10:29:15 experimental:28] Module <class 'nemo.collections.tts.modules.tacotron2.Encoder'> is experimental, not ready for production and is not fully supported. Use at your own risk.\n[NeMo W 2020-09-02 10:29:15 experimental:28] Module <class 'nemo.collections.tts.modules.tacotron2.Decoder'> is experimental, not ready for production and is not fully supported. Use at your own risk.\n[NeMo W 2020-09-02 10:29:15 experimental:28] Module <class 'nemo.collections.tts.modules.tacotron2.Postnet'> is experimental, not ready for production and is not fully supported. Use at your own risk.\n[NeMo W 2020-09-02 10:29:15 experimental:28] Module <class 'nemo.collections.tts.modules.waveglow.WaveGlowModule'> is experimental, not ready for production and is not fully supported. Use at your own risk.\n[NeMo I 2020-09-02 10:29:15 features:241] PADDING: 1\n[NeMo I 2020-09-02 10:29:15 features:250] STFT using exact pad\nNumber of trainable parameters: 23665184\n"
    }
   ],
   "source": [
    "import torch\n",
    "from omegaconf import OmegaConf\n",
    "\n",
    "from nemo.collections.tts.helpers.helpers import remove_weightnorm\n",
    "from nemo.collections.tts.modules.squeezewave import OperationMode\n",
    "from nemo.collections.tts.models.squeezewave import SqueezeWaveModel\n",
    "\n",
    "# Load model with its config\n",
    "def load_squeezewave_model(cfg):\n",
    "    with open(cfg) as f:\n",
    "        config = OmegaConf.load(f)\n",
    "    del config.model['train_ds']\n",
    "    del config.model['validation_ds']\n",
    "    del config.model['optim']\n",
    "    model = SqueezeWaveModel(cfg=config['model'])\n",
    "    print('Number of trainable parameters:', model.num_weights)\n",
    "    return model\n",
    "\n",
    "# Load weights and prepare model for inference\n",
    "model = load_squeezewave_model(CONFIG)\n",
    "checkpoint = torch.load(CHECKPOINT)['state_dict']\n",
    "model.load_state_dict(checkpoint, strict=True)\n",
    "\n",
    "model.squeezewave = remove_weightnorm(model.squeezewave)\n",
    "model = model.eval()\n",
    "model.mode = OperationMode.validation\n",
    "model.squeezewave.mode = OperationMode.validation"
   ]
  },
  {
   "cell_type": "code",
   "execution_count": 3,
   "metadata": {
    "tags": []
   },
   "outputs": [
    {
     "output_type": "stream",
     "name": "stdout",
     "text": "[NeMo I 2020-09-02 10:29:18 collections:171] Dataset loaded with 500 files totalling 0.91 hours\n[NeMo I 2020-09-02 10:29:18 collections:172] 0 files were filtered totalling 0.00 hours\n"
    }
   ],
   "source": [
    "from torch.utils.data import DataLoader\n",
    "\n",
    "from nemo.collections.tts.losses.waveglowloss import WaveGlowLoss\n",
    "from nemo.collections.tts.data.datalayers import AudioDataset\n",
    "from nemo.collections.tts.modules.denoiser import SqueezeWaveDenoiser\n",
    "\n",
    "dataloader = DataLoader(\n",
    "    AudioDataset(DATA_MANIFEST, n_segments=-1, truncate_to=4096), 1,\n",
    "    shuffle=False, pin_memory=True, drop_last=False, num_workers=4,\n",
    ")\n",
    "\n",
    "loss_fn = WaveGlowLoss()\n",
    "\n",
    "if DENOISER_STRENGTH > 0:\n",
    "    denoiser = SqueezeWaveDenoiser(\n",
    "        model, n_mel=80, filter_length=1024, hop_length=512, win_length=1024, window='hann',\n",
    "    )"
   ]
  },
  {
   "cell_type": "code",
   "execution_count": 4,
   "metadata": {
    "tags": []
   },
   "outputs": [
    {
     "output_type": "stream",
     "name": "stdout",
     "text": "[audio_0.wav] loss: -5.87758 stoi: 0.97163\n[audio_1.wav] loss: -6.07302 stoi: 0.97449\n[audio_2.wav] loss: -6.21188 stoi: 0.96970\n[audio_3.wav] loss: -6.47531 stoi: 0.97531\n[audio_4.wav] loss: -6.14428 stoi: 0.97480\n[audio_5.wav] loss: -5.88046 stoi: 0.97233\n[audio_6.wav] loss: -6.02769 stoi: 0.97041\n[audio_7.wav] loss: -6.00825 stoi: 0.97257\n[audio_8.wav] loss: -5.89285 stoi: 0.96752\n[audio_9.wav] loss: -6.27077 stoi: 0.96435\n[audio_10.wav] loss: -6.35084 stoi: 0.96746\n[audio_11.wav] loss: -5.97023 stoi: 0.97066\n[audio_12.wav] loss: -6.06803 stoi: 0.97011\n[audio_13.wav] loss: -5.97246 stoi: 0.97012\n[audio_14.wav] loss: -6.10717 stoi: 0.96821\n[audio_15.wav] loss: -5.76632 stoi: 0.96806\n[audio_16.wav] loss: -6.27987 stoi: 0.97063\n[audio_17.wav] loss: -6.22733 stoi: 0.96940\n[audio_18.wav] loss: -6.32017 stoi: 0.95757\n[audio_19.wav] loss: -6.00638 stoi: 0.97737\n[audio_20.wav] loss: -6.19925 stoi: 0.97432\n[audio_21.wav] loss: -5.94966 stoi: 0.97763\n[audio_22.wav] loss: -5.85786 stoi: 0.97820\n[audio_23.wav] loss: -6.07186 stoi: 0.97468\n[audio_24.wav] loss: -5.58806 stoi: 0.96483\n[audio_25.wav] loss: -5.55279 stoi: 0.96182\n[audio_26.wav] loss: -5.75750 stoi: 0.96931\n[audio_27.wav] loss: -5.91152 stoi: 0.97185\n[audio_28.wav] loss: -6.01587 stoi: 0.97297\n[audio_29.wav] loss: -5.97382 stoi: 0.96334\n[audio_30.wav] loss: -6.11763 stoi: 0.97141\n[audio_31.wav] loss: -6.04012 stoi: 0.96855\n[audio_32.wav] loss: -6.19929 stoi: 0.95973\n[audio_33.wav] loss: -6.17893 stoi: 0.96996\n[audio_34.wav] loss: -5.92891 stoi: 0.97519\n[audio_35.wav] loss: -5.63931 stoi: 0.96471\n[audio_36.wav] loss: -6.37701 stoi: 0.96889\n[audio_37.wav] loss: -6.25783 stoi: 0.97054\n[audio_38.wav] loss: -5.72343 stoi: 0.96312\n[audio_39.wav] loss: -5.91026 stoi: 0.96121\n[audio_40.wav] loss: -6.04931 stoi: 0.97042\n[audio_41.wav] loss: -6.52941 stoi: 0.97141\n[audio_42.wav] loss: -5.87872 stoi: 0.97105\n[audio_43.wav] loss: -6.00791 stoi: 0.96788\n[audio_44.wav] loss: -6.11160 stoi: 0.97053\n[audio_45.wav] loss: -6.06396 stoi: 0.96515\n[audio_46.wav] loss: -5.68756 stoi: 0.97191\n[audio_47.wav] loss: -6.32125 stoi: 0.97089\n[audio_48.wav] loss: -6.22947 stoi: 0.96799\n[audio_49.wav] loss: -5.82435 stoi: 0.96118\n[audio_50.wav] loss: -5.46339 stoi: 0.96677\n[audio_51.wav] loss: -5.53582 stoi: 0.97393\n[audio_52.wav] loss: -5.92834 stoi: 0.97242\n[audio_53.wav] loss: -6.10938 stoi: 0.96364\n[audio_54.wav] loss: -5.38350 stoi: 0.97710\n[audio_55.wav] loss: -5.75185 stoi: 0.97271\n[audio_56.wav] loss: -6.14221 stoi: 0.97256\n[audio_57.wav] loss: -6.17776 stoi: 0.97282\n[audio_58.wav] loss: -6.34526 stoi: 0.96504\n[audio_59.wav] loss: -5.89295 stoi: 0.96686\n[audio_60.wav] loss: -5.71206 stoi: 0.97497\n[audio_61.wav] loss: -6.22910 stoi: 0.97438\n[audio_62.wav] loss: -5.88770 stoi: 0.96521\n[audio_63.wav] loss: -6.09541 stoi: 0.97477\n[audio_64.wav] loss: -6.09960 stoi: 0.97273\n[audio_65.wav] loss: -6.08160 stoi: 0.96610\n[audio_66.wav] loss: -6.41694 stoi: 0.96562\n[audio_67.wav] loss: -5.90011 stoi: 0.97314\n[audio_68.wav] loss: -5.73108 stoi: 0.97305\n[audio_69.wav] loss: -5.76915 stoi: 0.96688\n[audio_70.wav] loss: -6.13612 stoi: 0.97285\n[audio_71.wav] loss: -5.76640 stoi: 0.96810\n[audio_72.wav] loss: -6.24557 stoi: 0.97407\n[audio_73.wav] loss: -5.92867 stoi: 0.97195\n[audio_74.wav] loss: -5.92825 stoi: 0.96896\n[audio_75.wav] loss: -6.11343 stoi: 0.96864\n[audio_76.wav] loss: -6.24529 stoi: 0.97290\n[audio_77.wav] loss: -6.13448 stoi: 0.97269\n[audio_78.wav] loss: -5.85193 stoi: 0.97452\n[audio_79.wav] loss: -6.13062 stoi: 0.97636\n[audio_80.wav] loss: -6.16227 stoi: 0.96815\n[audio_81.wav] loss: -5.77466 stoi: 0.96853\n[audio_82.wav] loss: -6.59141 stoi: 0.97493\n[audio_83.wav] loss: -6.20396 stoi: 0.97194\n[audio_84.wav] loss: -6.29318 stoi: 0.97385\n[audio_85.wav] loss: -6.09609 stoi: 0.97276\n[audio_86.wav] loss: -6.09866 stoi: 0.96799\n[audio_87.wav] loss: -5.89749 stoi: 0.96959\n[audio_88.wav] loss: -6.14402 stoi: 0.96838\n[audio_89.wav] loss: -6.56626 stoi: 0.96656\n[audio_90.wav] loss: -5.71110 stoi: 0.97364\n[audio_91.wav] loss: -6.06494 stoi: 0.97159\n[audio_92.wav] loss: -6.26854 stoi: 0.97078\n[audio_93.wav] loss: -5.84276 stoi: 0.97167\n[audio_94.wav] loss: -6.14953 stoi: 0.96202\n[audio_95.wav] loss: -6.07567 stoi: 0.96062\n[audio_96.wav] loss: -6.17230 stoi: 0.95674\n[audio_97.wav] loss: -6.16397 stoi: 0.97018\n[audio_98.wav] loss: -5.85766 stoi: 0.96797\n[audio_99.wav] loss: -5.63224 stoi: 0.97069\n"
    }
   ],
   "source": [
    "import soundfile as sf\n",
    "from pystoi import stoi\n",
    "from maracas.maracas import asl_meter   # requires numba==0.44 for autojit (librosa usually installs numba==0.48)\n",
    "\n",
    "from nemo.collections.asr.parts.features import FilterbankFeatures\n",
    "\n",
    "for i, (audio, audio_len) in enumerate(dataloader):\n",
    "    if i == N_SAMPLES: break\n",
    "\n",
    "    # Get loss and audio reconstruction\n",
    "    with torch.no_grad():\n",
    "        spect, spect_len = model.audio_to_melspec_precessor(audio, audio_len)\n",
    "        z, log_s_list, log_det_W_list, audio_pred, *_ = model.squeezewave(\n",
    "            spect=spect, audio=audio, run_inverse=True, sigma=SIGMA,\n",
    "        )\n",
    "        loss = loss_fn(\n",
    "            z=z, log_s_list=log_s_list, log_det_W_list=log_det_W_list, sigma=model.sigma,\n",
    "        )\n",
    "\n",
    "    # Remove model bias\n",
    "    if DENOISER_STRENGTH > 0:\n",
    "        audio_pred = denoiser(audio_pred, strength=DENOISER_STRENGTH)\n",
    "    \n",
    "    audio_pred = audio_pred.detach().cpu().numpy().squeeze()\n",
    "    audio = audio.detach().cpu().numpy().squeeze()\n",
    "\n",
    "    # Normalize active speech levels (asl)\n",
    "    if NORMALIZE:\n",
    "        asl_level = -26\n",
    "        audio_pred = audio_pred / 10 ** (asl_meter(audio_pred, SAMPLE_RATE) / 20) * 10 ** (asl_level / 20)\n",
    "\n",
    "    # Compute stoi (short-time objective intelligibility)\n",
    "    stoi_score = stoi(audio, audio_pred, SAMPLE_RATE, extended=False)\n",
    "\n",
    "    # Save original and synthesized audio to disk\n",
    "    filename = 'audio_{}.wav'.format(i)\n",
    "    audio_pred = (audio_pred * MAX_WAV_VALUE).astype('int16')\n",
    "    sf.write(os.path.join(OUT_FOLDER, 'synth_' + filename), audio_pred, samplerate=SAMPLE_RATE)\n",
    "    audio = (audio * MAX_WAV_VALUE).astype('int16')\n",
    "    sf.write(os.path.join(OUT_FOLDER, 'orig_' + filename), audio, samplerate=SAMPLE_RATE)\n",
    "\n",
    "    print('[{}] loss: {:.5f} stoi: {:.5f}'.format(filename, loss.item(), stoi_score.item()))"
   ]
  }
 ]
}