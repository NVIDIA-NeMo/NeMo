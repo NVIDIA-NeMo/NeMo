{
 "cells": [
  {
   "cell_type": "code",
   "execution_count": null,
   "id": "b5eba542",
   "metadata": {},
   "outputs": [],
   "source": [
    "import IPython.display\n",
    "import os"
   ]
  },
  {
   "cell_type": "code",
   "execution_count": null,
   "id": "f9688a93",
   "metadata": {},
   "outputs": [],
   "source": [
    "eval_base_dir = \"/home/pneekhara/NeMo2022/Evaluations/ForPresentation\"\n",
    "exp_name = \"libri_dev_clean_local_FastPitchBaselineFPEpoch149_SpkDur_10_dataid_0\"\n",
    "audio_dir = os.path.join(eval_base_dir, exp_name)"
   ]
  },
  {
   "cell_type": "code",
   "execution_count": null,
   "id": "5d969212",
   "metadata": {},
   "outputs": [],
   "source": [
    "original_filepaths = {}\n",
    "reconstructed_filepaths = {}\n",
    "swapped_filepaths = {}\n",
    "\n",
    "for f in os.listdir(audio_dir):\n",
    "    if f.endswith(\".wav\") and \"original\" in f:\n",
    "        original_fp = os.path.join(audio_dir, f)\n",
    "        reconstructed_fp = original_fp.replace(\"original\", \"reconstructed\")\n",
    "        speaker = f.split(\"_\")[1]\n",
    "        if speaker not in original_filepaths:\n",
    "            original_filepaths[speaker] = []\n",
    "            reconstructed_filepaths[speaker] = []\n",
    "        original_filepaths[speaker].append(original_fp)\n",
    "        reconstructed_filepaths[speaker].append(reconstructed_fp)\n",
    "        \n",
    "    elif f.endswith(\".wav\") and \"swapped\" in f:\n",
    "        swapped_filepath = os.path.join(audio_dir, f)\n",
    "        _, content_speaker, speaker, _idx = f.split(\"_\")\n",
    "        if speaker not in swapped_filepaths:\n",
    "            swapped_filepaths[speaker] = []\n",
    "        \n",
    "        content_fp = os.path.join(audio_dir, \"original_{}_{}\".format(content_speaker, _idx))\n",
    "        speaker_fp = os.path.join(audio_dir, \"original_{}_{}\".format(speaker, _idx))\n",
    "        assert os.path.exists(content_fp)\n",
    "        assert os.path.exists(speaker_fp)\n",
    "        swapped_filepaths[speaker].append({\n",
    "            'swapped' : swapped_filepath,\n",
    "            'content_fp' : content_fp,\n",
    "            'speaker_fp' : speaker_fp\n",
    "        })       "
   ]
  },
  {
   "cell_type": "code",
   "execution_count": null,
   "id": "c25b626b",
   "metadata": {},
   "outputs": [],
   "source": [
    "\n",
    "for speaker in reconstructed_filepaths:\n",
    "    for idx in range(1):\n",
    "        print(\"Original Speaker-{}, Audio {}\".format(speaker, idx))\n",
    "        IPython.display.display(IPython.display.Audio(original_filepaths[speaker][idx]))\n",
    "        print(\"Reconstructed Speaker-{}, Audio {}\".format(speaker, idx))\n",
    "        IPython.display.display(IPython.display.Audio(reconstructed_filepaths[speaker][idx]))\n",
    "        print(\"**************\")"
   ]
  },
  {
   "cell_type": "code",
   "execution_count": null,
   "id": "6a693686",
   "metadata": {},
   "outputs": [],
   "source": [
    "\n",
    "for speaker in swapped_filepaths:\n",
    "    for idx in range(1):\n",
    "        content_fp = swapped_filepaths[speaker][idx]['content_fp']\n",
    "        speaker_fp = swapped_filepaths[speaker][idx]['speaker_fp']\n",
    "        swapped_fp = swapped_filepaths[speaker][idx]['swapped']\n",
    "        print(\"Speaker {}\".format(speaker))\n",
    "        print(\"Content audio\")\n",
    "        IPython.display.display(IPython.display.Audio(content_fp))\n",
    "        print(\"Speaker Audio\")\n",
    "        IPython.display.display(IPython.display.Audio(speaker_fp))\n",
    "        print(\"Swapped Audio\")\n",
    "        IPython.display.display(IPython.display.Audio(swapped_fp))\n",
    "        print(\"**********\")"
   ]
  },
  {
   "cell_type": "code",
   "execution_count": null,
   "id": "2f29e3ec",
   "metadata": {},
   "outputs": [],
   "source": []
  }
 ],
 "metadata": {
  "kernelspec": {
   "display_name": "nemo2022",
   "language": "python",
   "name": "nemo2022"
  },
  "language_info": {
   "codemirror_mode": {
    "name": "ipython",
    "version": 3
   },
   "file_extension": ".py",
   "mimetype": "text/x-python",
   "name": "python",
   "nbconvert_exporter": "python",
   "pygments_lexer": "ipython3",
   "version": "3.8.0"
  }
 },
 "nbformat": 4,
 "nbformat_minor": 5
}
