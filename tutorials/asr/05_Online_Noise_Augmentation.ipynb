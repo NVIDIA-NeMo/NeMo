{
  "nbformat": 4,
  "nbformat_minor": 0,
  "metadata": {
    "colab": {
      "name": "05_Online_Noise_Augmentation.ipynb",
      "provenance": [],
      "collapsed_sections": [],
      "toc_visible": true
    },
    "kernelspec": {
      "name": "python3",
      "display_name": "Python 3"
    }
  },
  "cells": [
    {
      "cell_type": "code",
      "metadata": {
        "id": "cvXwyS263AMk",
        "colab_type": "code",
        "colab": {}
      },
      "source": [
        "\"\"\"\n",
        "You can run either this notebook locally (if you have all the dependencies and a GPU) or on Google Colab.\n",
        "\n",
        "Instructions for setting up Colab are as follows:\n",
        "1. Open a new Python 3 notebook.\n",
        "2. Import this notebook from GitHub (File -> Upload Notebook -> \"GITHUB\" tab -> copy/paste GitHub URL)\n",
        "3. Connect to an instance with a GPU (Runtime -> Change runtime type -> select \"GPU\" for hardware accelerator)\n",
        "4. Run this cell to set up dependencies.\n",
        "\"\"\"\n",
        "# If you're using Google Colab and not running locally, run this cell.\n",
        "\n",
        "## Install dependencies\n",
        "!pip install wget\n",
        "!apt-get install sox libsndfile1 ffmpeg\n",
        "!pip install unidecode\n",
        "\n",
        "# ## Install NeMo\n",
        "!python -m pip install --upgrade git+https://github.com/NVIDIA/NeMo.git@candidate#egg=nemo_toolkit[asr]\n",
        "\n",
        "## Install TorchAudio\n",
        "!pip install torchaudio>=0.6.0 -f https://download.pytorch.org/whl/torch_stable.html\n",
        "\n",
        "## Grab the config we'll use in this example\n",
        "!mkdir configs"
      ],
      "execution_count": null,
      "outputs": []
    },
    {
      "cell_type": "markdown",
      "metadata": {
        "id": "Kqg4Rwki4jBX",
        "colab_type": "text"
      },
      "source": [
        "# Introduction\n",
        "\n",
        "Data augmentation is a useful method to improve the performance of models which is applicable across multiple domains. Certain augmentations can also substantially improve robustness of models to noisy samples. \n",
        "\n",
        "In this notebook, we describe how to construct an augmentation pipeline inside [Neural Modules (NeMo)](https://github.com/NVIDIA/NeMo), enable augmented training of a [MatchboxNet model](https://arxiv.org/abs/2004.08531) (based on QuartzNet from the paper [\"QuartzNet: Deep Automatic Speech Recognition with 1D Time-Channel Separable Convolutions\"](https://arxiv.org/abs/1910.10261)) and finally how to construct custom augmentations to add to NeMo.\n",
        "\n",
        "The notebook will follow the steps below:\n",
        "\n",
        " - Dataset preparation: Preparing a noise dataset using an example file.\n",
        "\n",
        " - Construct a data augmentation pipeline.\n",
        " \n",
        " - Construct a custom augmentation and register it for use in NeMo."
      ]
    },
    {
      "cell_type": "markdown",
      "metadata": {
        "id": "5XieMEo84pJ-",
        "colab_type": "text"
      },
      "source": [
        "## Note\n",
        "Data augmentation is valuable for many datasets, but it comes at the cost of increased training time if samples are augmented during training time. Certain augmentations are particularly costly, in terms of how much time they take to process a single sample. A few examples of slow augmentations available in NeMo are : \n",
        "\n",
        " - Speed Perturbation\n",
        " - Time Stretch Perturbation (Sample level)\n",
        " - Noise Perturbation\n",
        " - Impulse Perturbation\n",
        " - Time Stretch Augmentation (Batch level, Neural Module)\n",
        " \n",
        "For such augmentations, it is advisable to pre-process the dataset offline for a one time preprocessing cost and then train the dataset on this augmented training set."
      ]
    },
    {
      "cell_type": "markdown",
      "metadata": {
        "id": "Tgc_ZHDl4sMy",
        "colab_type": "text"
      },
      "source": [
        "## Taking a Look at Our Data (AN4)\n",
        "\n",
        "The AN4 dataset, also known as the Alphanumeric dataset, was collected and published by Carnegie Mellon University. It consists of recordings of people spelling out addresses, names, telephone numbers, etc., one letter or number at a time, as well as their corresponding transcripts. We choose to use AN4 for this tutorial because it is relatively small, with 948 training and 130 test utterances, and so it trains quickly.\n",
        "\n",
        "Before we get started, let's download and prepare the dataset. The utterances are available as `.sph` files, so we will need to convert them to `.wav` for later processing. Please make sure you have [Sox](http://sox.sourceforge.net/) installed for this step (see the \"Downloads\" section of the main page)."
      ]
    },
    {
      "cell_type": "code",
      "metadata": {
        "id": "DtLm_XuQ3pmk",
        "colab_type": "code",
        "colab": {}
      },
      "source": [
        "# This is where the an4/ directory will be placed.\n",
        "# Change this if you don't want the data to be extracted in the current directory.\n",
        "data_dir = '.'"
      ],
      "execution_count": null,
      "outputs": []
    },
    {
      "cell_type": "code",
      "metadata": {
        "id": "HjfLhUtH4wNc",
        "colab_type": "code",
        "colab": {}
      },
      "source": [
        "import glob\n",
        "import os\n",
        "import subprocess\n",
        "import tarfile\n",
        "import wget\n",
        "\n",
        "# Download the dataset. This will take a few moments...\n",
        "print(\"******\")\n",
        "if not os.path.exists(data_dir + '/an4_sphere.tar.gz'):\n",
        "    an4_url = 'http://www.speech.cs.cmu.edu/databases/an4/an4_sphere.tar.gz'\n",
        "    an4_path = wget.download(an4_url, data_dir)\n",
        "    print(f\"Dataset downloaded at: {an4_path}\")\n",
        "else:\n",
        "    print(\"Tarfile already exists.\")\n",
        "    an4_path = data_dir + '/an4_sphere.tar.gz'\n",
        "\n",
        "if not os.path.exists(data_dir + '/an4/'):\n",
        "    # Untar and convert .sph to .wav (using sox)\n",
        "    tar = tarfile.open(an4_path)\n",
        "    tar.extractall(path=data_dir)\n",
        "\n",
        "    print(\"Converting .sph to .wav...\")\n",
        "    sph_list = glob.glob(data_dir + '/an4/**/*.sph', recursive=True)\n",
        "    for sph_path in sph_list:\n",
        "        wav_path = sph_path[:-4] + '.wav'\n",
        "        cmd = [\"sox\", sph_path, wav_path]\n",
        "        subprocess.run(cmd)\n",
        "print(\"Finished conversion.\\n******\")\n"
      ],
      "execution_count": null,
      "outputs": []
    },
    {
      "cell_type": "markdown",
      "metadata": {
        "id": "HqJmf4WB5P1x",
        "colab_type": "text"
      },
      "source": [
        "You should now have a folder called `an4` that contains `etc/an4_train.transcription`, `etc/an4_test.transcription`, audio files in `wav/an4_clstk` and `wav/an4test_clstk`, along with some other files we will not need.\n",
        "\n",
        "We now build a few manifest files which will be used later:"
      ]
    },
    {
      "cell_type": "code",
      "metadata": {
        "id": "AmR6CH025C8E",
        "colab_type": "code",
        "colab": {}
      },
      "source": [
        "# --- Building Manifest Files --- #\n",
        "import json\n",
        "import librosa\n",
        "\n",
        "# Function to build a manifest\n",
        "def build_manifest(transcripts_path, manifest_path, wav_path):\n",
        "    with open(transcripts_path, 'r') as fin:\n",
        "        with open(manifest_path, 'w') as fout:\n",
        "            for line in fin:\n",
        "                # Lines look like this:\n",
        "                # <s> transcript </s> (fileID)\n",
        "                transcript = line[: line.find('(')-1].lower()\n",
        "                transcript = transcript.replace('<s>', '').replace('</s>', '')\n",
        "                transcript = transcript.strip()\n",
        "\n",
        "                file_id = line[line.find('(')+1 : -2]  # e.g. \"cen4-fash-b\"\n",
        "                audio_path = os.path.join(\n",
        "                    data_dir, wav_path,\n",
        "                    file_id[file_id.find('-')+1 : file_id.rfind('-')],\n",
        "                    file_id + '.wav')\n",
        "\n",
        "                duration = librosa.core.get_duration(filename=audio_path)\n",
        "\n",
        "                # Write the metadata to the manifest\n",
        "                metadata = {\n",
        "                    \"audio_filepath\": audio_path,\n",
        "                    \"duration\": duration,\n",
        "                    \"text\": transcript\n",
        "                }\n",
        "                json.dump(metadata, fout)\n",
        "                fout.write('\\n')\n",
        "                \n",
        "# Building Manifests\n",
        "print(\"******\")\n",
        "train_transcripts = data_dir + '/an4/etc/an4_train.transcription'\n",
        "train_manifest = data_dir + '/an4/train_manifest.json'\n",
        "build_manifest(train_transcripts, train_manifest, 'an4/wav/an4_clstk')\n",
        "print(\"Training manifest created.\")\n",
        "\n",
        "test_transcripts = data_dir + '/an4/etc/an4_test.transcription'\n",
        "test_manifest = data_dir + '/an4/test_manifest.json'\n",
        "build_manifest(test_transcripts, test_manifest, 'an4/wav/an4test_clstk')\n",
        "print(\"Test manifest created.\")\n",
        "print(\"******\")"
      ],
      "execution_count": null,
      "outputs": []
    },
    {
      "cell_type": "markdown",
      "metadata": {
        "id": "EQsXzh7x5zIQ",
        "colab_type": "text"
      },
      "source": [
        "## Prepare the path to manifest files"
      ]
    },
    {
      "cell_type": "code",
      "metadata": {
        "id": "vmOa0IRC5eW4",
        "colab_type": "code",
        "colab": {}
      },
      "source": [
        "dataset_basedir = os.path.join(data_dir, 'an4')\n",
        "\n",
        "train_dataset = os.path.join(dataset_basedir, 'train_manifest.json')\n",
        "test_dataset = os.path.join(dataset_basedir, 'test_manifest.json')"
      ],
      "execution_count": null,
      "outputs": []
    },
    {
      "cell_type": "markdown",
      "metadata": {
        "id": "pz9LC3yZ6J1Q",
        "colab_type": "text"
      },
      "source": [
        "## Read a few rows of the manifest file \n",
        "\n",
        "Manifest files are the data structure used by NeMo to declare a few important details about the data :\n",
        "\n",
        "1) `audio_filepath`: Refers to the path to the raw audio file <br>\n",
        "2) `text`: The text transcript of this sample <br>\n",
        "3) `duration`: The length of the audio file, in seconds."
      ]
    },
    {
      "cell_type": "code",
      "metadata": {
        "id": "3OzZQiX751iz",
        "colab_type": "code",
        "colab": {}
      },
      "source": [
        "!head -n 5 {train_dataset}"
      ],
      "execution_count": null,
      "outputs": []
    },
    {
      "cell_type": "markdown",
      "metadata": {
        "id": "pD9bprV66Oai",
        "colab_type": "text"
      },
      "source": [
        "# Data Augmentation Pipeline\n",
        "\n",
        "Constructing a data augmentation pipeline in NeMo is as simple as composing a nested dictionary that describes two things :\n",
        "\n",
        "1) The probability of that augmentation occuring - using the `prob` keyword <br>\n",
        "2) The keyword arguments required by that augmentation class\n",
        "\n",
        "Below, we show a few samples of these augmentations. Note, in order to distinguish between the original sample and the perturbed sample, we exaggerate the perturbation strength significantly."
      ]
    },
    {
      "cell_type": "code",
      "metadata": {
        "id": "l5bc7gYO6MHG",
        "colab_type": "code",
        "colab": {}
      },
      "source": [
        "import torch\n",
        "import IPython.display as ipd"
      ],
      "execution_count": null,
      "outputs": []
    },
    {
      "cell_type": "markdown",
      "metadata": {
        "id": "L8Bd8s3e6TeK",
        "colab_type": "text"
      },
      "source": [
        "## Audio file preparation "
      ]
    },
    {
      "cell_type": "code",
      "metadata": {
        "id": "g7f9riZz6Qnj",
        "colab_type": "code",
        "colab": {}
      },
      "source": [
        "# Import the data augmentation component from ASR collection\n",
        "from nemo.collections.asr.parts import perturb, segment"
      ],
      "execution_count": null,
      "outputs": []
    },
    {
      "cell_type": "code",
      "metadata": {
        "id": "wK8uwpt16d6I",
        "colab_type": "code",
        "colab": {}
      },
      "source": [
        "# Lets see the available perturbations\n",
        "perturb.perturbation_types"
      ],
      "execution_count": null,
      "outputs": []
    },
    {
      "cell_type": "markdown",
      "metadata": {
        "id": "IP1VpkOA6nE-",
        "colab_type": "text"
      },
      "source": [
        "### Obtain a baseline audio file"
      ]
    },
    {
      "cell_type": "code",
      "metadata": {
        "id": "sj4DNMmZ6ktm",
        "colab_type": "code",
        "colab": {}
      },
      "source": [
        "filepath = librosa.util.example_audio_file()\n",
        "sample, sr = librosa.core.load(filepath)\n",
        "\n",
        "ipd.Audio(sample, rate=sr)"
      ],
      "execution_count": null,
      "outputs": []
    },
    {
      "cell_type": "markdown",
      "metadata": {
        "id": "M9mZNm296tNf",
        "colab_type": "text"
      },
      "source": [
        "### Convert to WAV format"
      ]
    },
    {
      "cell_type": "code",
      "metadata": {
        "id": "QDjlgLc-6vtq",
        "colab_type": "code",
        "colab": {}
      },
      "source": [
        "import soundfile as sf\n",
        "\n",
        "# lets convert this ogg file into a wave to be compatible with NeMo\n",
        "if not os.path.exists('./media'):\n",
        "    os.makedirs('./media/')\n",
        "    \n",
        "filename = 'Kevin_MacLeod_-_Vibe_Ace.wav'\n",
        "filepath = os.path.join('media', filename)\n",
        "\n",
        "sf.write(filepath, sample, samplerate=sr)"
      ],
      "execution_count": null,
      "outputs": []
    },
    {
      "cell_type": "code",
      "metadata": {
        "id": "FEkV-ikT6xgB",
        "colab_type": "code",
        "colab": {}
      },
      "source": [
        "sample, sr = librosa.core.load(filepath)\n",
        "ipd.Audio(sample, rate=sr)"
      ],
      "execution_count": null,
      "outputs": []
    },
    {
      "cell_type": "code",
      "metadata": {
        "id": "gmuwEwIQ6zK3",
        "colab_type": "code",
        "colab": {}
      },
      "source": [
        "# NeMo has its own support class for loading wav files\n",
        "def load_audio() -> segment.AudioSegment:\n",
        "    filename = 'Kevin_MacLeod_-_Vibe_Ace.wav'\n",
        "    filepath = os.path.join('media', filename)\n",
        "    sample_segment = segment.AudioSegment.from_file(filepath, target_sr=sr)\n",
        "    return sample_segment\n",
        "\n",
        "sample_segment = load_audio()\n",
        "ipd.Audio(sample_segment.samples, rate=sr)"
      ],
      "execution_count": null,
      "outputs": []
    },
    {
      "cell_type": "markdown",
      "metadata": {
        "id": "hTnf1g1y63wZ",
        "colab_type": "text"
      },
      "source": [
        "## White Noise Perturbation\n",
        "\n",
        "White Noise perturbation is performed by the following steps : <br>\n",
        "1) Randomly sample the amplitude of the noise from a uniformly distributed range (defined in dB) <br>\n",
        "2) Sample gaussian noise (mean = 0, std = 1) with same length as audio signal <br>\n",
        "3) Scale this gaussian noise by the amplitude (in dB scale) <br>\n",
        "4) Add this noise vector to the original sample\n",
        "\n",
        "Notably, the original signal should not have a \"hissing sound\" constantly present in the perturbed version."
      ]
    },
    {
      "cell_type": "code",
      "metadata": {
        "id": "2jaPQyUY65ij",
        "colab_type": "code",
        "colab": {}
      },
      "source": [
        "white_noise = perturb.WhiteNoisePerturbation(min_level=-50, max_level=-30)\n",
        "\n",
        "# Perturb the audio file\n",
        "sample_segment = load_audio()\n",
        "white_noise.perturb(sample_segment)\n",
        "\n",
        "ipd.Audio(sample_segment.samples, rate=sr)"
      ],
      "execution_count": null,
      "outputs": []
    },
    {
      "cell_type": "markdown",
      "metadata": {
        "id": "b8KVSN-l69ju",
        "colab_type": "text"
      },
      "source": [
        "## Gain Perturbation\n",
        "\n",
        "Gain perturbation is performed by the following steps : <br>\n",
        "1) Randomly sample the gain factor of the signal from a uniformly distributed range (defined in dB) <br>\n",
        "2) Scale this original signal by the gain factor (in dB scale) <br>\n",
        "\n",
        "Notably, the tone of the original audio should sound slightly different as compared to the gain perturbed sample."
      ]
    },
    {
      "cell_type": "code",
      "metadata": {
        "id": "rMSA1Y8o696j",
        "colab_type": "code",
        "colab": {}
      },
      "source": [
        "gain = perturb.GainPerturbation(min_gain_dbfs=25, max_gain_dbfs=50)\n",
        "\n",
        "# Perturb the audio file \n",
        "sample_segment = load_audio()\n",
        "gain.perturb(sample_segment)\n",
        "\n",
        "ipd.Audio(sample_segment.samples, rate=sr)"
      ],
      "execution_count": null,
      "outputs": []
    },
    {
      "cell_type": "markdown",
      "metadata": {
        "id": "2dfwesJU7DhN",
        "colab_type": "text"
      },
      "source": [
        "## Shift Perturbation\n",
        "\n",
        "Shift perturbation is performed by the following steps : <br>\n",
        "1) Randomly sample the shift factor of the signal from a uniformly distributed range (defined in milliseconds) <br>\n",
        "2) Depending on the sign of the shift, we shift the original signal to the left or the right. <br>\n",
        "3) The boundary locations are filled with zeros after the shift of the signal <br>\n",
        "\n",
        "Notably, the perturbed signal below skips the first 25 to 50 seconds of the original audio below, and the remainder of the time is simply silence. "
      ]
    },
    {
      "cell_type": "code",
      "metadata": {
        "id": "2ONq8dBI7BZf",
        "colab_type": "code",
        "colab": {}
      },
      "source": [
        "shift = perturb.ShiftPerturbation(min_shift_ms=25000.0, max_shift_ms=50000.0)\n",
        "\n",
        "# Perturb the audio file \n",
        "sample_segment = load_audio()\n",
        "shift.perturb(sample_segment)\n",
        "\n",
        "ipd.Audio(sample_segment.samples, rate=sr)"
      ],
      "execution_count": null,
      "outputs": []
    },
    {
      "cell_type": "markdown",
      "metadata": {
        "id": "kywA3h4T7G_S",
        "colab_type": "text"
      },
      "source": [
        "## Data Dependent Perturbations\n",
        "\n",
        "Some perturbations require an external data source in order to perturb the original sample. Noise Perturbation is a perfect example of one such augmentation that requires an external noise source dataset in order to pertur the original data."
      ]
    },
    {
      "cell_type": "markdown",
      "metadata": {
        "id": "eYm2DgGQ7KPe",
        "colab_type": "text"
      },
      "source": [
        "### Preparing a manifest of \"noise\" samples"
      ]
    },
    {
      "cell_type": "code",
      "metadata": {
        "id": "RXZ1o85E7FLT",
        "colab_type": "code",
        "colab": {}
      },
      "source": [
        "# Lets prepare a manifest file using the baseline file itself, cut into 1 second segments\n",
        "\n",
        "def write_manifest(filepath, data_dir='./media/', manifest_name='noise_manifest', duration_max=None, duration_stride=1.0, filter_long=False, duration_limit=10.0):\n",
        "    if duration_max is None:\n",
        "        duration_max = 1e9\n",
        "                \n",
        "    with open(os.path.join(data_dir, manifest_name + '.json'), 'w') as fout:\n",
        "        \n",
        "        try:\n",
        "            x, _sr = librosa.load(filepath)\n",
        "            duration = librosa.get_duration(x, sr=_sr)\n",
        "\n",
        "        except Exception:\n",
        "            print(f\"\\n>>>>>>>>> WARNING: Librosa failed to load file {filepath}. Skipping this file !\\n\")\n",
        "            return\n",
        "\n",
        "        if filter_long and duration > duration_limit:\n",
        "            print(f\"Skipping sound sample {filepath}, exceeds duration limit of {duration_limit}\")\n",
        "            return\n",
        "\n",
        "        offsets = []\n",
        "        durations = []\n",
        "\n",
        "        if duration > duration_max:\n",
        "            current_offset = 0.0\n",
        "\n",
        "            while current_offset < duration:\n",
        "                difference = duration - current_offset\n",
        "                segment_duration = min(duration_max, difference)\n",
        "\n",
        "                offsets.append(current_offset)\n",
        "                durations.append(segment_duration)\n",
        "\n",
        "                current_offset += duration_stride\n",
        "\n",
        "        else:\n",
        "            offsets.append(0.0)\n",
        "            durations.append(duration)\n",
        "\n",
        "\n",
        "        for duration, offset in zip(durations, offsets):\n",
        "            metadata = {\n",
        "                'audio_filepath': filepath,\n",
        "                'duration': duration,\n",
        "                'label': 'noise',\n",
        "                'text': '_',  # for compatibility with ASRAudioText collection\n",
        "                'offset': offset,\n",
        "            }\n",
        "\n",
        "            json.dump(metadata, fout)\n",
        "            fout.write('\\n')\n",
        "            fout.flush()\n",
        "\n",
        "        print(f\"Wrote {len(durations)} segments for filename {filename}\")\n",
        "            \n",
        "    print(\"Finished preparing manifest !\")"
      ],
      "execution_count": null,
      "outputs": []
    },
    {
      "cell_type": "code",
      "metadata": {
        "id": "wLTT8jlP7NdU",
        "colab_type": "code",
        "colab": {}
      },
      "source": [
        "filename = 'Kevin_MacLeod_-_Vibe_Ace.wav'\n",
        "filepath = os.path.join('media', filename)\n",
        "\n",
        "# Write a \"noise\" manifest file\n",
        "write_manifest(filepath, manifest_name='noise_1s', duration_max=1.0, duration_stride=1.0)"
      ],
      "execution_count": null,
      "outputs": []
    },
    {
      "cell_type": "code",
      "metadata": {
        "id": "izbdrSmd7PY5",
        "colab_type": "code",
        "colab": {}
      },
      "source": [
        "# Lets read this noise manifest file\n",
        "noise_manifest_path = os.path.join('media', 'noise_1s.json')\n",
        "\n",
        "!head -n 5 {noise_manifest_path}"
      ],
      "execution_count": null,
      "outputs": []
    },
    {
      "cell_type": "code",
      "metadata": {
        "id": "82yq0TOV7Q_4",
        "colab_type": "code",
        "colab": {}
      },
      "source": [
        "# Lets create a helper method to load the first file in the train dataset of AN4\n",
        "# Load the first sample in the manifest\n",
        "def load_gsc_sample() -> segment.AudioSegment:\n",
        "    with open(train_dataset, 'r') as f:\n",
        "        line = f.readline()\n",
        "        \n",
        "    line = json.loads(line)\n",
        "    gsc_filepath = line['audio_filepath']\n",
        "    sample_segment = segment.AudioSegment.from_file(gsc_filepath)\n",
        "    return sample_segment\n",
        "\n",
        "gsc_sample_segment = load_gsc_sample()\n",
        "ipd.Audio(gsc_sample_segment.samples, rate=16000)"
      ],
      "execution_count": null,
      "outputs": []
    },
    {
      "cell_type": "markdown",
      "metadata": {
        "id": "zV9ypBqz7V9a",
        "colab_type": "text"
      },
      "source": [
        "## Noise Augmentation\n",
        "\n",
        "Noise perturbation is performed by the following steps : <br>\n",
        "1) Randomly sample the amplitude scale of the noise sample from a uniformly distributed range (defined in dB) <br>\n",
        "2) Randomly choose an audio clip from the set of noise audio samples available <br>\n",
        "3) Compute the gain (in dB) required for the noise clip as compared to the original sample and scale the noise by this factor <br>\n",
        "4) If the noise snippet is of shorter duration than the original audio, then randomly select an index in time from the original sample, where the noise snippet will be added <br>\n",
        "5) If instead the noise snippet is longer than the duration of the original audio, then randomly subsegment the noise snippet and add the full snippet to the original audio <br>\n",
        "\n",
        "Notably, the noise perturbed sample should sound as if there are two sounds playing at the same time (overlapping audio) as compared to the original signal. The magnitude of the noise will be dependent on step (3) and the location where the noise is added will depend on steps (4) and (5)."
      ]
    },
    {
      "cell_type": "code",
      "metadata": {
        "id": "cjSXci1v7Tlg",
        "colab_type": "code",
        "colab": {}
      },
      "source": [
        "import random\n",
        "rng = random.Random(0)\n",
        "noise = perturb.NoisePerturbation(manifest_path=noise_manifest_path,\n",
        "                                  min_snr_db=-10, max_snr_db=-10,\n",
        "                                  max_gain_db=300.0, rng=rng)\n",
        "\n",
        "# Perturb the audio file \n",
        "sample_segment = load_gsc_sample()\n",
        "noise.perturb(sample_segment)\n",
        "\n",
        "ipd.Audio(sample_segment.samples, rate=16000)"
      ],
      "execution_count": null,
      "outputs": []
    },
    {
      "cell_type": "markdown",
      "metadata": {
        "id": "kJjUkGJu7ern",
        "colab_type": "text"
      },
      "source": [
        "## Speed Perturbation\n",
        "\n",
        "Speed perturbation changes the speed of the speech, but does not preserve pitch of the sound. Try a few random augmentations to see how the pitch changes with change in duration of the audio file.\n",
        "\n",
        "**Note**: This is a very slow augmentation and is not advised to perform online augmentation for large datasets as it can dramatically increase training time."
      ]
    },
    {
      "cell_type": "code",
      "metadata": {
        "id": "Ic-ziInU7ZKC",
        "colab_type": "code",
        "colab": {}
      },
      "source": [
        "resample_type = 'kaiser_best'  # Can be ['kaiser_best', 'kaiser_fast', 'fft', 'scipy']\n",
        "speed = perturb.SpeedPerturbation(sr, resample_type, min_speed_rate=0.5, max_speed_rate=2.0, num_rates=-1)\n",
        "\n",
        "# Perturb the audio file \n",
        "sample_segment = load_gsc_sample()\n",
        "speed.perturb(sample_segment)\n",
        "\n",
        "ipd.Audio(sample_segment.samples, rate=16000)"
      ],
      "execution_count": null,
      "outputs": []
    },
    {
      "cell_type": "markdown",
      "metadata": {
        "id": "bhHX3dyh7jPq",
        "colab_type": "text"
      },
      "source": [
        "## Time Stretch Perturbation\n",
        "\n",
        "Time Stretch perturbation changes the speed of the speech, and also preserve pitch of the sound. \n",
        "Try a few random augmentations to see how the pitch remains close to the same with change in duration of the audio file."
      ]
    },
    {
      "cell_type": "markdown",
      "metadata": {
        "id": "8_kNSfcK7lfP",
        "colab_type": "text"
      },
      "source": [
        "### Note about speed optimizations\n",
        "\n",
        "Time stretch is a costly augmentation, and can easily cause training time to increase drastically. It is suggested that one installs the `numba` library using conda to use a more optimized augmentation kernel.\n",
        "\n",
        "```python\n",
        "conda install numba\n",
        "```"
      ]
    },
    {
      "cell_type": "code",
      "metadata": {
        "id": "Dpeb0QUZ7g3l",
        "colab_type": "code",
        "colab": {}
      },
      "source": [
        "time_stretch = perturb.TimeStretchPerturbation(min_speed_rate=0.5, max_speed_rate=2.0, num_rates=-1)\n",
        "\n",
        "# Perturb the audio file \n",
        "sample_segment = load_gsc_sample()\n",
        "time_stretch.perturb(sample_segment)\n",
        "\n",
        "ipd.Audio(sample_segment.samples, rate=16000)"
      ],
      "execution_count": null,
      "outputs": []
    },
    {
      "cell_type": "markdown",
      "metadata": {
        "id": "vhH1-Ga87rCX",
        "colab_type": "text"
      },
      "source": [
        "# Augmentation Pipeline\n",
        "\n",
        "The augmentation pipeline can be constructed in multiple ways, either explicitly by instantiating the objects of these perturbations or implicitly by providing the arguments to these augmentations as a nested dictionary.\n",
        "\n",
        "We will show both approaches in the following sections"
      ]
    },
    {
      "cell_type": "markdown",
      "metadata": {
        "id": "RC8_NOD97tlW",
        "colab_type": "text"
      },
      "source": [
        "## Explicit definition"
      ]
    },
    {
      "cell_type": "markdown",
      "metadata": {
        "id": "UwWE7swo72WP",
        "colab_type": "text"
      },
      "source": [
        "### Instantiate the perturbations"
      ]
    },
    {
      "cell_type": "code",
      "metadata": {
        "id": "GdLYn0hx7pRU",
        "colab_type": "code",
        "colab": {}
      },
      "source": [
        "perturbations = [\n",
        "    perturb.WhiteNoisePerturbation(min_level=-90, max_level=-46),\n",
        "    perturb.GainPerturbation(min_gain_dbfs=0, max_gain_dbfs=50),\n",
        "    perturb.NoisePerturbation(manifest_path=noise_manifest_path,\n",
        "                              min_snr_db=0, max_snr_db=50, max_gain_db=300.0)\n",
        "]"
      ],
      "execution_count": null,
      "outputs": []
    },
    {
      "cell_type": "markdown",
      "metadata": {
        "id": "CDSSbZ8w7zzR",
        "colab_type": "text"
      },
      "source": [
        "### Select chance of perturbations being applied"
      ]
    },
    {
      "cell_type": "code",
      "metadata": {
        "id": "NmoxfLSL7xPJ",
        "colab_type": "code",
        "colab": {}
      },
      "source": [
        "probas = [1.0, 1.0, 0.5]"
      ],
      "execution_count": null,
      "outputs": []
    },
    {
      "cell_type": "markdown",
      "metadata": {
        "id": "wl0tnrMq79Jh",
        "colab_type": "text"
      },
      "source": [
        "### Prepare the audio augmentation object"
      ]
    },
    {
      "cell_type": "code",
      "metadata": {
        "id": "nO6T4U4f767o",
        "colab_type": "code",
        "colab": {}
      },
      "source": [
        "augmentations = list(zip(probas, perturbations))\n",
        "\n",
        "audio_augmentations = perturb.AudioAugmentor(augmentations)\n",
        "audio_augmentations._pipeline"
      ],
      "execution_count": null,
      "outputs": []
    },
    {
      "cell_type": "markdown",
      "metadata": {
        "id": "9cgI9yUx8Cyv",
        "colab_type": "text"
      },
      "source": [
        "## Implicit definition\n",
        "\n",
        "Implicit definitions are preferred since they can be prepared in the actual configuration object."
      ]
    },
    {
      "cell_type": "code",
      "metadata": {
        "id": "tiqrKFTM7_mH",
        "colab_type": "code",
        "colab": {}
      },
      "source": [
        "perturb.perturbation_types  # Available perturbations"
      ],
      "execution_count": null,
      "outputs": []
    },
    {
      "cell_type": "markdown",
      "metadata": {
        "id": "dbeXwLdw8VEc",
        "colab_type": "text"
      },
      "source": [
        "### Prepare the nested dictionary"
      ]
    },
    {
      "cell_type": "code",
      "metadata": {
        "id": "mbE0qEA98TRI",
        "colab_type": "code",
        "colab": {}
      },
      "source": [
        "audio_augmentations = dict(\n",
        "    white_noise = dict(\n",
        "        prob=1.0,\n",
        "        min_level=-90,\n",
        "        max_level=-46\n",
        "    ),\n",
        "    gain = dict(\n",
        "        prob=1.0,\n",
        "        min_gain_dbfs=0,\n",
        "        max_gain_dbfs=50\n",
        "    ),\n",
        "    noise = dict(\n",
        "        prob=0.5,\n",
        "        manifest_path=noise_manifest_path,\n",
        "        min_snr_db=0,\n",
        "        max_snr_db=50,\n",
        "        max_gain_db=300.0\n",
        "    )\n",
        ")\n",
        "\n",
        "audio_augmentations"
      ],
      "execution_count": null,
      "outputs": []
    },
    {
      "cell_type": "markdown",
      "metadata": {
        "id": "tcsoCe9-8ZM9",
        "colab_type": "text"
      },
      "source": [
        "### Supply `augmentor` as an argument to the `model.train_ds` config\n",
        "\n",
        "Most of the common datasets used by ASR models support the keyword `augmentor` - which can include a nested dictionary defining the implicit definition of an augmentation pipeline.\n",
        "\n",
        "Note, all ASR models support implicit declaration of augmentations. This includes - \n",
        "\n",
        "1) Speech To Label Models <br>\n",
        "2) Speech To Text Models <br>\n",
        "3) Speech To Text Models with BPE/WPE Support<br>"
      ]
    },
    {
      "cell_type": "markdown",
      "metadata": {
        "id": "0WOJC0fdBL5J",
        "colab_type": "text"
      },
      "source": [
        "# Training - Application of augmentations\n",
        "\n",
        "We will be describing the data loaders for a MatchboxNet model from the paper \"[MatchboxNet: 1D Time-Channel Separable Convolutional Neural Network Architecture for Speech Commands Recognition](https://arxiv.org/abs/2004.08531)\". The benefit of MatchboxNet over JASPER models is that they use Separable Convolutions, which greatly reduce the number of parameters required to get good model accuracy.\n",
        "\n",
        "<ins>Care must be taken not to apply augmentations to the test set!</ins>\n"
      ]
    },
    {
      "cell_type": "code",
      "metadata": {
        "id": "7iDWiIrzBzUA",
        "colab_type": "code",
        "colab": {}
      },
      "source": [
        "from omegaconf import OmegaConf"
      ],
      "execution_count": null,
      "outputs": []
    },
    {
      "cell_type": "code",
      "metadata": {
        "id": "yv3KWNjcAUnQ",
        "colab_type": "code",
        "colab": {}
      },
      "source": [
        "# We will download the MatchboxNet configuration file for either v1 or v2 dataset here\n",
        "DATASET_VER = 1\n",
        "\n",
        "if DATASET_VER == 1:\n",
        "  MODEL_CONFIG = \"matchboxnet_3x1x64_v1.yaml\"\n",
        "else:\n",
        "  MODEL_CONFIG = \"matchboxnet_3x1x64_v2.yaml\"\n",
        "\n",
        "if not os.path.exists(f\"configs/{MODEL_CONFIG}\"):\n",
        "  !wget -P configs/ \"https://raw.githubusercontent.com/NVIDIA/NeMo/candidate/examples/asr/conf/{MODEL_CONFIG}\""
      ],
      "execution_count": null,
      "outputs": []
    },
    {
      "cell_type": "code",
      "metadata": {
        "id": "vOcv0ri3BkmA",
        "colab_type": "code",
        "colab": {}
      },
      "source": [
        "# This line will load the entire config of the MatchboxNet model\n",
        "config_path = f\"configs/{MODEL_CONFIG}\"\n",
        "config = OmegaConf.load(config_path)"
      ],
      "execution_count": null,
      "outputs": []
    },
    {
      "cell_type": "markdown",
      "metadata": {
        "id": "mLsyceMSCIHV",
        "colab_type": "text"
      },
      "source": [
        "### Augmentation in train set only\n",
        "\n",
        "Note how the train dataset config supports the `augmentor` implicit definition, however the test config does not.\n",
        "\n",
        "This is essential to avoid mistakenly performing Test Time Augmentation."
      ]
    },
    {
      "cell_type": "code",
      "metadata": {
        "id": "VgUVm7lGB8Cz",
        "colab_type": "code",
        "colab": {}
      },
      "source": [
        "# Has `augmentor`\n",
        "print(config.model.train_ds.pretty())"
      ],
      "execution_count": null,
      "outputs": []
    },
    {
      "cell_type": "code",
      "metadata": {
        "id": "gURwQ2eyCE7o",
        "colab_type": "code",
        "colab": {}
      },
      "source": [
        "# Does not have `augmentor`\n",
        "print(config.model.test_ds.pretty())"
      ],
      "execution_count": null,
      "outputs": []
    },
    {
      "cell_type": "markdown",
      "metadata": {
        "id": "_UV74AVlCo_m",
        "colab_type": "text"
      },
      "source": [
        "# Custom Perturbations\n",
        "\n",
        "We can define and use custom perturbations as required simply by extending the `Perturbation` class. \n",
        "\n",
        "Lets look at how we can build a custom Noise Perturbation that we can use to evaluate the effect of noise at inference time, in order to analyse the model's robustness to noise\n",
        "\n",
        "In evaluation mode, we want to set an explicit value for the `snr_db` parameter instead of uniformly sample it from a range. This allows us to control the signal to noise ratio without relying on randomness from the training implementation of `NoisePerturbation`.\n",
        "\n",
        "Further, we force a random seed in order to produce reproduceable results on the evaluation set.\n",
        "\n",
        "With this combination, we can easily evaluate each sample in the test set `S` times (`S` being the number of random seeds), and can evaluate each of these samples at `D` levels of Signal to Noise Ratio (in dB). "
      ]
    },
    {
      "cell_type": "code",
      "metadata": {
        "id": "Q9YBmBiZCbAX",
        "colab_type": "code",
        "colab": {}
      },
      "source": [
        "# We use a NeMo utility to parse the manifest file for us\n",
        "from nemo.collections.asr.parts import collections, parsers\n",
        "\n",
        "class NoisePerturbationEval(perturb.Perturbation):\n",
        "    def __init__(\n",
        "        self, manifest_path=None, snr_db=40, max_gain_db=300.0, seed=None,\n",
        "    ):\n",
        "        seed = seed if seed is not None else 0\n",
        "        self._manifest = collections.ASRAudioText(manifest_path, parser=parsers.make_parser([]))\n",
        "        self._snr_db = snr_db\n",
        "        self._max_gain_db = max_gain_db\n",
        "        self._rng = random.Random(seed)\n",
        "    \n",
        "    # This is mostly obtained from the original NoisePerturbation class itself\n",
        "    def perturb(self, data):\n",
        "        snr_db = self._snr_db\n",
        "        noise_record = self._rng.sample(self._manifest.data, 1)[0]\n",
        "        noise = AudioSegment.from_file(noise_record.audio_file, target_sr=data.sample_rate)\n",
        "        noise_gain_db = min(data.rms_db - noise.rms_db - snr_db, self._max_gain_db)\n",
        "\n",
        "        # calculate noise segment to use\n",
        "        start_time = 0.0\n",
        "        if noise.duration > (start_time + data.duration):\n",
        "            noise.subsegment(start_time=start_time, end_time=start_time + data.duration)\n",
        "\n",
        "        # adjust gain for snr purposes and superimpose\n",
        "        noise.gain_db(noise_gain_db)\n",
        "\n",
        "        if noise._samples.shape[0] < data._samples.shape[0]:\n",
        "            noise_idx = data._samples.shape[0] // 2  # midpoint of audio\n",
        "            while (noise_idx + noise._samples.shape[0]) > data._samples.shape[0]:\n",
        "                noise_idx = noise_idx // 2  # half the initial starting point\n",
        "\n",
        "            data._samples[noise_idx: noise_idx + noise._samples.shape[0]] += noise._samples\n",
        "\n",
        "        else:\n",
        "            data._samples += noise._samples\n"
      ],
      "execution_count": null,
      "outputs": []
    },
    {
      "cell_type": "markdown",
      "metadata": {
        "id": "qR8qiwSkC1eE",
        "colab_type": "text"
      },
      "source": [
        "## Registering augmentations\n",
        "\n",
        "We can use either approach to submit this test time augmentation to the Data Loaders.\n",
        "\n",
        "In order to obtain the convenience of the implicit method, we must register this augmentation into NeMo's directory of available augmentations. This can be done as follows -"
      ]
    },
    {
      "cell_type": "code",
      "metadata": {
        "id": "40Z4Fm88CxWA",
        "colab_type": "code",
        "colab": {}
      },
      "source": [
        "perturb.register_perturbation(name='noise_eval', perturbation=NoisePerturbationEval)"
      ],
      "execution_count": null,
      "outputs": []
    },
    {
      "cell_type": "code",
      "metadata": {
        "id": "jVVbRxb-C4hB",
        "colab_type": "code",
        "colab": {}
      },
      "source": [
        "# Lets check the registry of allowed perturbations !\n",
        "perturb.perturbation_types"
      ],
      "execution_count": null,
      "outputs": []
    },
    {
      "cell_type": "markdown",
      "metadata": {
        "id": "2fiHz6CdC-B1",
        "colab_type": "text"
      },
      "source": [
        "## Overriding pre-existing augmentations\n",
        "\n",
        "**Note**: It is not allowed to overwrite already registered perturbations using the `perturb.register_perturbation` method. It will raise a `ValueError` in order to prevent overwriting the pre-existing perturbation types"
      ]
    }
  ]
}