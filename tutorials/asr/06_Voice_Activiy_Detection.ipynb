{
 "cells": [
  {
   "cell_type": "code",
   "execution_count": 19,
   "metadata": {
    "colab": {},
    "colab_type": "code",
    "id": "R12Yn6W1dt9t"
   },
   "outputs": [
    {
     "name": "stdout",
     "output_type": "stream",
     "text": [
      "Requirement already satisfied: wget in /home/fjia/anaconda3/envs/vad/lib/python3.7/site-packages (3.2)\n",
      "E: Could not open lock file /var/lib/dpkg/lock-frontend - open (13: Permission denied)\n",
      "E: Unable to acquire the dpkg frontend lock (/var/lib/dpkg/lock-frontend), are you root?\n",
      "Requirement already satisfied: unidecode in /home/fjia/anaconda3/envs/vad/lib/python3.7/site-packages (1.1.1)\n",
      "Collecting nemo_toolkit[asr]\n",
      "  Cloning https://github.com/NVIDIA/NeMo.git (to revision candidate) to /tmp/pip-install-67y1lgyr/nemo-toolkit\n",
      "  Running command git clone -q https://github.com/NVIDIA/NeMo.git /tmp/pip-install-67y1lgyr/nemo-toolkit\n",
      "  Running command git checkout -b candidate --track origin/candidate\n",
      "  Switched to a new branch 'candidate'\n",
      "  Branch 'candidate' set up to track remote branch 'candidate' from 'origin'.\n",
      "Requirement already satisfied, skipping upgrade: numpy>=1.18.2 in /home/fjia/anaconda3/envs/vad/lib/python3.7/site-packages (from nemo_toolkit[asr]) (1.19.1)\n",
      "Requirement already satisfied, skipping upgrade: onnx>=1.7.0 in /home/fjia/anaconda3/envs/vad/lib/python3.7/site-packages (from nemo_toolkit[asr]) (1.7.0)\n",
      "Requirement already satisfied, skipping upgrade: pytorch-lightning==0.8.5 in /home/fjia/anaconda3/envs/vad/lib/python3.7/site-packages (from nemo_toolkit[asr]) (0.8.5)\n",
      "Requirement already satisfied, skipping upgrade: python-dateutil in /home/fjia/anaconda3/envs/vad/lib/python3.7/site-packages (from nemo_toolkit[asr]) (2.8.1)\n",
      "Requirement already satisfied, skipping upgrade: torch in /home/fjia/anaconda3/envs/vad/lib/python3.7/site-packages (from nemo_toolkit[asr]) (1.6.0)\n",
      "Requirement already satisfied, skipping upgrade: wget in /home/fjia/anaconda3/envs/vad/lib/python3.7/site-packages (from nemo_toolkit[asr]) (3.2)\n",
      "Requirement already satisfied, skipping upgrade: wrapt in /home/fjia/anaconda3/envs/vad/lib/python3.7/site-packages (from nemo_toolkit[asr]) (1.12.1)\n",
      "Requirement already satisfied, skipping upgrade: ruamel.yaml in /home/fjia/anaconda3/envs/vad/lib/python3.7/site-packages (from nemo_toolkit[asr]) (0.16.10)\n",
      "Requirement already satisfied, skipping upgrade: scikit-learn in /home/fjia/anaconda3/envs/vad/lib/python3.7/site-packages (from nemo_toolkit[asr]) (0.22.2.post1)\n",
      "Requirement already satisfied, skipping upgrade: omegaconf==2.0.1rc12 in /home/fjia/anaconda3/envs/vad/lib/python3.7/site-packages (from nemo_toolkit[asr]) (2.0.1rc12)\n",
      "Requirement already satisfied, skipping upgrade: hydra-core==1.0.0rc4 in /home/fjia/anaconda3/envs/vad/lib/python3.7/site-packages (from nemo_toolkit[asr]) (1.0.0rc4)\n",
      "Requirement already satisfied, skipping upgrade: transformers>=2.11.0 in /home/fjia/anaconda3/envs/vad/lib/python3.7/site-packages (from nemo_toolkit[asr]) (3.0.2)\n",
      "Requirement already satisfied, skipping upgrade: braceexpand in /home/fjia/anaconda3/envs/vad/lib/python3.7/site-packages (from nemo_toolkit[asr]) (0.1.5)\n",
      "Requirement already satisfied, skipping upgrade: editdistance in /home/fjia/anaconda3/envs/vad/lib/python3.7/site-packages (from nemo_toolkit[asr]) (0.5.3)\n",
      "Requirement already satisfied, skipping upgrade: frozendict in /home/fjia/anaconda3/envs/vad/lib/python3.7/site-packages (from nemo_toolkit[asr]) (1.2)\n",
      "Requirement already satisfied, skipping upgrade: inflect in /home/fjia/anaconda3/envs/vad/lib/python3.7/site-packages (from nemo_toolkit[asr]) (4.1.0)\n",
      "Requirement already satisfied, skipping upgrade: kaldi-io in /home/fjia/anaconda3/envs/vad/lib/python3.7/site-packages (from nemo_toolkit[asr]) (0.9.4)\n",
      "Requirement already satisfied, skipping upgrade: librosa in /home/fjia/anaconda3/envs/vad/lib/python3.7/site-packages (from nemo_toolkit[asr]) (0.7.0)\n",
      "Requirement already satisfied, skipping upgrade: marshmallow in /home/fjia/anaconda3/envs/vad/lib/python3.7/site-packages (from nemo_toolkit[asr]) (3.5.1)\n",
      "Requirement already satisfied, skipping upgrade: packaging in /home/fjia/anaconda3/envs/vad/lib/python3.7/site-packages (from nemo_toolkit[asr]) (20.3)\n",
      "Requirement already satisfied, skipping upgrade: num2words in /home/fjia/anaconda3/envs/vad/lib/python3.7/site-packages (from nemo_toolkit[asr]) (0.5.10)\n",
      "Requirement already satisfied, skipping upgrade: soundfile in /home/fjia/anaconda3/envs/vad/lib/python3.7/site-packages (from nemo_toolkit[asr]) (0.10.3.post1)\n",
      "Requirement already satisfied, skipping upgrade: sox in /home/fjia/anaconda3/envs/vad/lib/python3.7/site-packages (from nemo_toolkit[asr]) (1.3.7)\n",
      "Requirement already satisfied, skipping upgrade: torch-stft in /home/fjia/anaconda3/envs/vad/lib/python3.7/site-packages (from nemo_toolkit[asr]) (0.1.4)\n",
      "Requirement already satisfied, skipping upgrade: unidecode in /home/fjia/anaconda3/envs/vad/lib/python3.7/site-packages (from nemo_toolkit[asr]) (1.1.1)\n",
      "Requirement already satisfied, skipping upgrade: webdataset in /home/fjia/anaconda3/envs/vad/lib/python3.7/site-packages (from nemo_toolkit[asr]) (0.1.22)\n",
      "Requirement already satisfied, skipping upgrade: kaldi-python-io in /home/fjia/anaconda3/envs/vad/lib/python3.7/site-packages (from nemo_toolkit[asr]) (1.1.1)\n",
      "Requirement already satisfied, skipping upgrade: scipy in /home/fjia/anaconda3/envs/vad/lib/python3.7/site-packages (from nemo_toolkit[asr]) (1.4.1)\n",
      "Requirement already satisfied, skipping upgrade: pandas in /home/fjia/anaconda3/envs/vad/lib/python3.7/site-packages (from nemo_toolkit[asr]) (1.0.3)\n",
      "Requirement already satisfied, skipping upgrade: six in /home/fjia/anaconda3/envs/vad/lib/python3.7/site-packages (from onnx>=1.7.0->nemo_toolkit[asr]) (1.15.0)\n",
      "Requirement already satisfied, skipping upgrade: protobuf in /home/fjia/anaconda3/envs/vad/lib/python3.7/site-packages (from onnx>=1.7.0->nemo_toolkit[asr]) (3.11.3)\n",
      "Requirement already satisfied, skipping upgrade: typing-extensions>=3.6.2.1 in /home/fjia/anaconda3/envs/vad/lib/python3.7/site-packages (from onnx>=1.7.0->nemo_toolkit[asr]) (3.7.4.2)\n",
      "Requirement already satisfied, skipping upgrade: PyYAML>=5.1 in /home/fjia/anaconda3/envs/vad/lib/python3.7/site-packages (from pytorch-lightning==0.8.5->nemo_toolkit[asr]) (5.3.1)\n",
      "Requirement already satisfied, skipping upgrade: future>=0.17.1 in /home/fjia/anaconda3/envs/vad/lib/python3.7/site-packages (from pytorch-lightning==0.8.5->nemo_toolkit[asr]) (0.18.2)\n",
      "Requirement already satisfied, skipping upgrade: tensorboard>=1.14 in /home/fjia/anaconda3/envs/vad/lib/python3.7/site-packages (from pytorch-lightning==0.8.5->nemo_toolkit[asr]) (1.15.0)\n",
      "Requirement already satisfied, skipping upgrade: tqdm>=4.41.0 in /home/fjia/anaconda3/envs/vad/lib/python3.7/site-packages (from pytorch-lightning==0.8.5->nemo_toolkit[asr]) (4.45.0)\n",
      "Requirement already satisfied, skipping upgrade: ruamel.yaml.clib>=0.1.2; platform_python_implementation == \"CPython\" and python_version < \"3.9\" in /home/fjia/anaconda3/envs/vad/lib/python3.7/site-packages (from ruamel.yaml->nemo_toolkit[asr]) (0.2.0)\n",
      "Requirement already satisfied, skipping upgrade: joblib>=0.11 in /home/fjia/anaconda3/envs/vad/lib/python3.7/site-packages (from scikit-learn->nemo_toolkit[asr]) (0.14.1)\n",
      "Requirement already satisfied, skipping upgrade: importlib-resources; python_version < \"3.9\" in /home/fjia/anaconda3/envs/vad/lib/python3.7/site-packages (from hydra-core==1.0.0rc4->nemo_toolkit[asr]) (3.0.0)\n",
      "Requirement already satisfied, skipping upgrade: antlr4-python3-runtime==4.8 in /home/fjia/anaconda3/envs/vad/lib/python3.7/site-packages (from hydra-core==1.0.0rc4->nemo_toolkit[asr]) (4.8)\n",
      "Requirement already satisfied, skipping upgrade: requests in /home/fjia/anaconda3/envs/vad/lib/python3.7/site-packages (from transformers>=2.11.0->nemo_toolkit[asr]) (2.23.0)\n",
      "Requirement already satisfied, skipping upgrade: sentencepiece!=0.1.92 in /home/fjia/anaconda3/envs/vad/lib/python3.7/site-packages (from transformers>=2.11.0->nemo_toolkit[asr]) (0.1.86)\n",
      "Requirement already satisfied, skipping upgrade: regex!=2019.12.17 in /home/fjia/anaconda3/envs/vad/lib/python3.7/site-packages (from transformers>=2.11.0->nemo_toolkit[asr]) (2020.4.4)\n",
      "Requirement already satisfied, skipping upgrade: tokenizers==0.8.1.rc1 in /home/fjia/anaconda3/envs/vad/lib/python3.7/site-packages (from transformers>=2.11.0->nemo_toolkit[asr]) (0.8.1rc1)\n",
      "Requirement already satisfied, skipping upgrade: filelock in /home/fjia/anaconda3/envs/vad/lib/python3.7/site-packages (from transformers>=2.11.0->nemo_toolkit[asr]) (3.0.12)\n",
      "Requirement already satisfied, skipping upgrade: sacremoses in /home/fjia/anaconda3/envs/vad/lib/python3.7/site-packages (from transformers>=2.11.0->nemo_toolkit[asr]) (0.0.41)\n",
      "Requirement already satisfied, skipping upgrade: importlib-metadata; python_version < \"3.8\" in /home/fjia/anaconda3/envs/vad/lib/python3.7/site-packages (from inflect->nemo_toolkit[asr]) (1.6.0)\n",
      "Requirement already satisfied, skipping upgrade: decorator>=3.0.0 in /home/fjia/anaconda3/envs/vad/lib/python3.7/site-packages (from librosa->nemo_toolkit[asr]) (4.4.2)\n",
      "Requirement already satisfied, skipping upgrade: resampy>=0.2.0 in /home/fjia/anaconda3/envs/vad/lib/python3.7/site-packages (from librosa->nemo_toolkit[asr]) (0.2.2)\n",
      "Requirement already satisfied, skipping upgrade: numba>=0.38.0 in /home/fjia/anaconda3/envs/vad/lib/python3.7/site-packages (from librosa->nemo_toolkit[asr]) (0.48.0)\n",
      "Requirement already satisfied, skipping upgrade: audioread>=2.0.0 in /home/fjia/anaconda3/envs/vad/lib/python3.7/site-packages (from librosa->nemo_toolkit[asr]) (2.1.8)\n",
      "Requirement already satisfied, skipping upgrade: pyparsing>=2.0.2 in /home/fjia/anaconda3/envs/vad/lib/python3.7/site-packages (from packaging->nemo_toolkit[asr]) (2.4.7)\n",
      "Requirement already satisfied, skipping upgrade: docopt>=0.6.2 in /home/fjia/anaconda3/envs/vad/lib/python3.7/site-packages (from num2words->nemo_toolkit[asr]) (0.6.2)\n",
      "Requirement already satisfied, skipping upgrade: cffi>=1.0 in /home/fjia/anaconda3/envs/vad/lib/python3.7/site-packages (from soundfile->nemo_toolkit[asr]) (1.14.0)\n"
     ]
    },
    {
     "name": "stdout",
     "output_type": "stream",
     "text": [
      "Requirement already satisfied, skipping upgrade: msgpack in /home/fjia/anaconda3/envs/vad/lib/python3.7/site-packages (from webdataset->nemo_toolkit[asr]) (1.0.0)\n",
      "Requirement already satisfied, skipping upgrade: Pillow in /home/fjia/anaconda3/envs/vad/lib/python3.7/site-packages (from webdataset->nemo_toolkit[asr]) (7.1.2)\n",
      "Requirement already satisfied, skipping upgrade: objectio in /home/fjia/anaconda3/envs/vad/lib/python3.7/site-packages (from webdataset->nemo_toolkit[asr]) (0.2.29)\n",
      "Requirement already satisfied, skipping upgrade: simplejson in /home/fjia/anaconda3/envs/vad/lib/python3.7/site-packages (from webdataset->nemo_toolkit[asr]) (3.17.0)\n",
      "Requirement already satisfied, skipping upgrade: pytz>=2017.2 in /home/fjia/anaconda3/envs/vad/lib/python3.7/site-packages (from pandas->nemo_toolkit[asr]) (2020.1)\n",
      "Requirement already satisfied, skipping upgrade: setuptools in /home/fjia/anaconda3/envs/vad/lib/python3.7/site-packages (from protobuf->onnx>=1.7.0->nemo_toolkit[asr]) (46.1.3.post20200330)\n",
      "Requirement already satisfied, skipping upgrade: werkzeug>=0.11.15 in /home/fjia/anaconda3/envs/vad/lib/python3.7/site-packages (from tensorboard>=1.14->pytorch-lightning==0.8.5->nemo_toolkit[asr]) (1.0.1)\n",
      "Requirement already satisfied, skipping upgrade: absl-py>=0.4 in /home/fjia/anaconda3/envs/vad/lib/python3.7/site-packages (from tensorboard>=1.14->pytorch-lightning==0.8.5->nemo_toolkit[asr]) (0.9.0)\n",
      "Requirement already satisfied, skipping upgrade: grpcio>=1.6.3 in /home/fjia/anaconda3/envs/vad/lib/python3.7/site-packages (from tensorboard>=1.14->pytorch-lightning==0.8.5->nemo_toolkit[asr]) (1.28.1)\n",
      "Requirement already satisfied, skipping upgrade: wheel>=0.26; python_version >= \"3\" in /home/fjia/anaconda3/envs/vad/lib/python3.7/site-packages (from tensorboard>=1.14->pytorch-lightning==0.8.5->nemo_toolkit[asr]) (0.34.2)\n",
      "Requirement already satisfied, skipping upgrade: markdown>=2.6.8 in /home/fjia/anaconda3/envs/vad/lib/python3.7/site-packages (from tensorboard>=1.14->pytorch-lightning==0.8.5->nemo_toolkit[asr]) (3.2.1)\n",
      "Requirement already satisfied, skipping upgrade: zipp>=0.4; python_version < \"3.8\" in /home/fjia/anaconda3/envs/vad/lib/python3.7/site-packages (from importlib-resources; python_version < \"3.9\"->hydra-core==1.0.0rc4->nemo_toolkit[asr]) (3.1.0)\n",
      "Requirement already satisfied, skipping upgrade: urllib3!=1.25.0,!=1.25.1,<1.26,>=1.21.1 in /home/fjia/anaconda3/envs/vad/lib/python3.7/site-packages (from requests->transformers>=2.11.0->nemo_toolkit[asr]) (1.25.9)\n",
      "Requirement already satisfied, skipping upgrade: certifi>=2017.4.17 in /home/fjia/anaconda3/envs/vad/lib/python3.7/site-packages (from requests->transformers>=2.11.0->nemo_toolkit[asr]) (2020.6.20)\n",
      "Requirement already satisfied, skipping upgrade: idna<3,>=2.5 in /home/fjia/anaconda3/envs/vad/lib/python3.7/site-packages (from requests->transformers>=2.11.0->nemo_toolkit[asr]) (2.9)\n",
      "Requirement already satisfied, skipping upgrade: chardet<4,>=3.0.2 in /home/fjia/anaconda3/envs/vad/lib/python3.7/site-packages (from requests->transformers>=2.11.0->nemo_toolkit[asr]) (3.0.4)\n",
      "Requirement already satisfied, skipping upgrade: click in /home/fjia/anaconda3/envs/vad/lib/python3.7/site-packages (from sacremoses->transformers>=2.11.0->nemo_toolkit[asr]) (7.1.2)\n",
      "Requirement already satisfied, skipping upgrade: llvmlite<0.32.0,>=0.31.0dev0 in /home/fjia/anaconda3/envs/vad/lib/python3.7/site-packages (from numba>=0.38.0->librosa->nemo_toolkit[asr]) (0.31.0)\n",
      "Requirement already satisfied, skipping upgrade: pycparser in /home/fjia/anaconda3/envs/vad/lib/python3.7/site-packages (from cffi>=1.0->soundfile->nemo_toolkit[asr]) (2.20)\n",
      "Requirement already satisfied, skipping upgrade: typer in /home/fjia/anaconda3/envs/vad/lib/python3.7/site-packages (from objectio->webdataset->nemo_toolkit[asr]) (0.2.1)\n",
      "Building wheels for collected packages: nemo-toolkit\n",
      "  Building wheel for nemo-toolkit (setup.py) ... \u001b[?25ldone\n",
      "\u001b[?25h  Created wheel for nemo-toolkit: filename=nemo_toolkit-0.88.1b0-py3-none-any.whl size=358253 sha256=d4dec7c364d16d5333568649b7b5ac0fd6089a43d859b75d3f2399dde403dac9\n",
      "  Stored in directory: /tmp/pip-ephem-wheel-cache-_inurkyq/wheels/de/df/80/16e33a10e05d7769182e3cab4910a5fb304706a3133df2716b\n",
      "Successfully built nemo-toolkit\n",
      "Installing collected packages: nemo-toolkit\n",
      "  Attempting uninstall: nemo-toolkit\n",
      "    Found existing installation: nemo-toolkit 0.88.1b0\n",
      "    Uninstalling nemo-toolkit-0.88.1b0:\n",
      "      Successfully uninstalled nemo-toolkit-0.88.1b0\n",
      "Successfully installed nemo-toolkit-0.88.1b0\n",
      "mkdir: cannot create directory ‘configs’: File exists\n"
     ]
    }
   ],
   "source": [
    "\"\"\"\n",
    "You can run either this notebook locally (if you have all the dependencies and a GPU) or on Google Colab.\n",
    "\n",
    "Instructions for setting up Colab are as follows:\n",
    "1. Open a new Python 3 notebook.\n",
    "2. Import this notebook from GitHub (File -> Upload Notebook -> \"GITHUB\" tab -> copy/paste GitHub URL)\n",
    "3. Connect to an instance with a GPU (Runtime -> Change runtime type -> select \"GPU\" for hardware accelerator)\n",
    "4. Run this cell to set up dependencies.\n",
    "\"\"\"\n",
    "# If you're using Google Colab and not running locally, run this cell.\n",
    "\n",
    "## Install dependencies\n",
    "!pip install wget\n",
    "!apt-get install sox libsndfile1 ffmpeg\n",
    "!pip install unidecode\n",
    "\n",
    "# ## Install NeMo\n",
    "!python -m pip install --upgrade git+https://github.com/NVIDIA/NeMo.git@candidate#egg=nemo_toolkit[asr]\n",
    "\n",
    "## Install TorchAudio\n",
    "!pip install torchaudio>=0.6.0 -f https://download.pytorch.org/whl/torch_stable.html\n",
    "\n",
    "## Grab the config we'll use in this example\n",
    "!mkdir configs"
   ]
  },
  {
   "cell_type": "markdown",
   "metadata": {},
   "source": [
    "# Introduction [TODO] add more\n",
    "\n",
    "This VAD tutorial is based on the MatchboxNet model from the paper \"[MatchboxNet: 1D Time-Channel Separable Convolutional Neural Network Architecture for Speech Commands Recognition](https://arxiv.org/abs/2004.08531)\" with a modified decoder head to suit classification tasks.\n",
    "\n",
    "The notebook will follow the steps below:\n",
    "\n",
    " - Dataset preparation: Instruction of downloading datasets. And how to convert it to a format suitable for use with nemo_asr\n",
    " - Audio preprocessing (feature extraction): signal normalization, windowing, (log) spectrogram (or mel scale spectrogram, or MFCC)\n",
    "\n",
    " - Data augmentation using SpecAugment \"[SpecAugment: A Simple Data Augmentation Method for Automatic Speech Recognition](https://arxiv.org/abs/1904.08779)\" to increase number of data samples.\n",
    " \n",
    " - Develop a small Neural classification model which can be trained efficiently.\n",
    " \n",
    " - Model training on the Google Speech Commands dataset and Freesound dataset in NeMo.\n",
    " \n",
    " - Evaluation of error cases of the model by audibly hearing the samples"
   ]
  },
  {
   "cell_type": "code",
   "execution_count": 5,
   "metadata": {
    "colab": {},
    "colab_type": "code",
    "id": "I62_LJzc-p2b"
   },
   "outputs": [],
   "source": [
    "# Some utility imports\n",
    "import os\n",
    "from omegaconf import OmegaConf"
   ]
  },
  {
   "cell_type": "markdown",
   "metadata": {
    "colab": {},
    "colab_type": "code",
    "id": "K_M8wpkwd7d7"
   },
   "source": [
    "# Data Preparation\n",
    "\n",
    "## Download the background data\n",
    "We suggest to use the background categories of [freesound](https://freesound.org/) dataset  as our non-speech/background data. \n",
    "We provide scripts for downloading and resampling it.  Please have a look at [NeMo docs VAD Data Preparation]( https://docs.nvidia.com/deeplearning/nemo/developer_guide/en/v0.11.0/voice_activity_detection/tutorial.html#data-preparation). Note that downloading this dataset may takes hours. \n",
    "\n",
    "**NOTE:** Here, this tutorial serves as a demonstration on how to train and evaluate models for vad using NeMo. We avoid using freesound dataset, and use `_background_noise_` category in Google Speech Commands Dataset as non-speech/background data."
   ]
  },
  {
   "cell_type": "markdown",
   "metadata": {},
   "source": [
    "## Download the speech data\n",
    "   \n",
    "We will use the open source Google Speech Commands Dataset (we will use V2 of the dataset for the tutorial, but require very minor changes to support V1 dataset) as our speech data. Google Speech Commands Dataset V2 will take roughly 6GB disk space. These scripts below will download the dataset and convert it to a format suitable for use with nemo_asr.\n",
    "\n",
    "\n",
    "**NOTE**: You may additionally pass `--test_size` or `--val_size` flag for spliting train val and test data.\n",
    "\n",
    "**NOTE**: You may additionally pass a `--rebalance_method='fixed|over|under'` at the end of the script to rebalance the class samples in the manifest. \n",
    "* 'fixed': Fixed number of sample for each class. Train 5000, val 1000, and test 1000. (Change number in script if you want)\n",
    "* 'over': Oversampling rebalance method\n",
    "* 'under': Undersampling rebalance method\n",
    "\n",
    "**NOTE**: The `_background_noise_` category only has 6 audio files. So we would like to generate more based on the audio files to enlarge our background training data. If you want to use your own background noise data, just change the `background_data_root` and delete `--generate`\n"
   ]
  },
  {
   "cell_type": "code",
   "execution_count": 6,
   "metadata": {},
   "outputs": [],
   "source": [
    "tmp = 'src'\n",
    "data_folder = 'data'\n",
    "if not os.path.exists(tmp):\n",
    "    os.makedirs(tmp)\n",
    "if not os.path.exists(data_folder):\n",
    "    os.makedirs(data_folder)"
   ]
  },
  {
   "cell_type": "code",
   "execution_count": 7,
   "metadata": {},
   "outputs": [
    {
     "name": "stdout",
     "output_type": "stream",
     "text": [
      "--2020-08-26 14:08:53--  https://raw.githubusercontent.com/NVIDIA/NeMo/candidate/scripts/process_vad_data.py\n",
      "Resolving raw.githubusercontent.com (raw.githubusercontent.com)... 199.232.36.133\n",
      "Connecting to raw.githubusercontent.com (raw.githubusercontent.com)|199.232.36.133|:443... connected.\n",
      "HTTP request sent, awaiting response... 200 OK\n",
      "Length: 18334 (18K) [text/plain]\n",
      "Saving to: ‘src/process_vad_data.py’\n",
      "\n",
      "process_vad_data.py 100%[===================>]  17.90K  --.-KB/s    in 0.06s   \n",
      "\n",
      "2020-08-26 14:08:53 (282 KB/s) - ‘src/process_vad_data.py’ saved [18334/18334]\n",
      "\n"
     ]
    }
   ],
   "source": [
    "script = os.path.join(tmp, 'process_vad_data.py')\n",
    "if not os.path.exists(script):\n",
    "    !wget -P $tmp https://raw.githubusercontent.com/NVIDIA/NeMo/candidate/scripts/process_vad_data.py"
   ]
  },
  {
   "cell_type": "code",
   "execution_count": 8,
   "metadata": {},
   "outputs": [],
   "source": [
    "speech_data_root = os.path.join(data_folder, 'google_dataset_v2')\n",
    "background_data_root = os.path.join(data_folder, 'google_dataset_v2/google_speech_recognition_v2/_background_noise_')# your <resampled freesound data directory>\n",
    "out_dir = os.path.join(data_folder, 'manifest')\n",
    "if not os.path.exists(speech_data_root):\n",
    "    os.mkdir(speech_data_root)"
   ]
  },
  {
   "cell_type": "code",
   "execution_count": 11,
   "metadata": {},
   "outputs": [
    {
     "name": "stdout",
     "output_type": "stream",
     "text": [
      "INFO:root:Working on: google_speech_recognition_v2\n",
      "INFO:root:Split speech data!\n",
      "INFO:root:Overall: 105829, Train: 84663, Validatoin: 10583, Test: 10583\n",
      "INFO:root:Finish spliting train, val and test for speech. Write to files!\n",
      "INFO:root:Split background data!\n",
      "INFO:root:Overall: 6, Train: 4, Validatoin: 1, Test: 1\n",
      "INFO:root:Finish spliting train, val and test for background. Write to files!\n",
      "INFO:root:=== Write speech data to manifest!\n",
      "INFO:root:Val: Skip 140 samples. Get 10009 segments! => data/manifest/speech_validation_manifest.json \n",
      "INFO:root:Test: Skip 94 samples. Get 167331 segments! => data/manifest/speech_testing_manifest.json\n",
      "INFO:root:Train: Skip 887 samples. Get 80497 segments!=> data/manifest/speech_training_manifest.json\n",
      "INFO:root:Start generating more background noise data\n",
      "INFO:root:Generate more background for data/google_dataset_v2/google_speech_recognition_v2/_background_noise_/background_validation_list.txt. => data/google_dataset_v2/google_speech_recognition_v2/_background_noise_more/background_validation_list.txt !\n",
      "INFO:root:Generate more background for data/google_dataset_v2/google_speech_recognition_v2/_background_noise_/background_training_list.txt. => data/google_dataset_v2/google_speech_recognition_v2/_background_noise_more/background_training_list.txt !\n",
      "INFO:root:Generate more background for data/google_dataset_v2/google_speech_recognition_v2/_background_noise_/background_testing_list.txt. => data/google_dataset_v2/google_speech_recognition_v2/_background_noise_more/background_testing_list.txt !\n",
      "INFO:root:=== Write background data to manifest!\n",
      "INFO:root:Val: Skip 0 samples. Get 4521 segments! => data/manifest/background_validation_manifest.json\n",
      "INFO:root:Test: Skip 0 samples. Get 34928 segments! => data/manifest/background_testing_manifest.json\n",
      "INFO:root:Train: Skip 0 samples. Get 11535 segments! => data/manifest/background_training_manifest.json\n",
      "INFO:root:Finish generating manifest!\n",
      "INFO:root:Rebalancing number of samples in classes using fixed sampling.\n",
      "INFO:root:Val: 1000 Test: 1000 Train: 5000!\n",
      "INFO:root:Get 1000/1000 to  data/manifest/balanced_background_validation_manifest.json from data/manifest/background_validation_manifest.json\n",
      "INFO:root:Get 1000/1000 to  data/manifest/balanced_background_testing_manifest.json from data/manifest/background_testing_manifest.json\n",
      "INFO:root:Get 5000/5000 to  data/manifest/balanced_background_training_manifest.json from data/manifest/background_training_manifest.json\n",
      "INFO:root:Get 1000/1000 to  data/manifest/balanced_speech_validation_manifest.json from data/manifest/speech_validation_manifest.json\n",
      "INFO:root:Get 1000/1000 to  data/manifest/balanced_speech_testing_manifest.json from data/manifest/speech_testing_manifest.json\n",
      "INFO:root:Get 5000/5000 to  data/manifest/balanced_speech_training_manifest.json from data/manifest/speech_training_manifest.json\n"
     ]
    }
   ],
   "source": [
    "!python $script \\\n",
    "    --out_dir={out_dir} \\\n",
    "    --speech_data_root={speech_data_root} \\\n",
    "    --background_data_root={background_data_root}\\\n",
    "    --log \\\n",
    "    --generate \\\n",
    "    --rebalance_method='fixed' "
   ]
  },
  {
   "cell_type": "markdown",
   "metadata": {
    "colab_type": "text",
    "id": "TTsxp0nZ1zqo"
   },
   "source": [
    "## Preparing the manifest file\n",
    "\n",
    "Manifest files are the data structure used by NeMo to declare a few important details about the data :\n",
    "\n",
    "1) `audio_filepath`: Refers to the path to the raw audio file <br>\n",
    "2) `label`: The class label (speech or background) of this sample <br>\n",
    "3) `duration`: The length of the audio file, in seconds.<br>\n",
    "4) `offset`: The start of the segment, in seconds."
   ]
  },
  {
   "cell_type": "code",
   "execution_count": 12,
   "metadata": {
    "colab": {},
    "colab_type": "code",
    "id": "ytTFGVe0g9wk"
   },
   "outputs": [],
   "source": [
    "# change below if you don't have or don't want to use rebalanced data\n",
    "train_dataset = 'data/manifest/balanced_background_training_manifest.json,data/manifest/balanced_speech_training_manifest.json' \n",
    "val_dataset = 'data/manifest/background_validation_manifest.json,data/manifest/speech_validation_manifest.json' \n",
    "test_dataset = 'data/manifest/balanced_background_testing_manifest.json,data/manifest/balanced_speech_testing_manifest.json' "
   ]
  },
  {
   "cell_type": "markdown",
   "metadata": {
    "colab_type": "text",
    "id": "s0SZy9SEhOBf"
   },
   "source": [
    "## Read a few rows of the manifest file \n",
    "\n",
    "Manifest files are the data structure used by NeMo to declare a few important details about the data :\n",
    "\n",
    "1) `audio_filepath`: Refers to the path to the raw audio file <br>\n",
    "2) `command`: The class label (or speech command) of this sample <br>\n",
    "3) `duration`: The length of the audio file, in seconds."
   ]
  },
  {
   "cell_type": "code",
   "execution_count": 13,
   "metadata": {},
   "outputs": [],
   "source": [
    "sample_test_dataset =  test_dataset.split(',')[0]"
   ]
  },
  {
   "cell_type": "code",
   "execution_count": 14,
   "metadata": {
    "colab": {},
    "colab_type": "code",
    "id": "HYBidCMIhKQV",
    "scrolled": true
   },
   "outputs": [
    {
     "name": "stdout",
     "output_type": "stream",
     "text": [
      "{\"audio_filepath\": \"data/google_dataset_v2/google_speech_recognition_v2/_background_noise_more/white_noise.wav_90000.wav\", \"duration\": 0.63, \"label\": \"background\", \"text\": \"_\", \"offset\": 0.19000000000000003}\r\n",
      "{\"audio_filepath\": \"data/google_dataset_v2/google_speech_recognition_v2/_background_noise_more/white_noise.wav_933000.wav\", \"duration\": 0.63, \"label\": \"background\", \"text\": \"_\", \"offset\": 0.09}\r\n",
      "{\"audio_filepath\": \"data/google_dataset_v2/google_speech_recognition_v2/_background_noise_more/white_noise.wav_174000.wav\", \"duration\": 0.63, \"label\": \"background\", \"text\": \"_\", \"offset\": 0.09}\r\n",
      "{\"audio_filepath\": \"data/google_dataset_v2/google_speech_recognition_v2/_background_noise_more/white_noise.wav_920000.wav\", \"duration\": 0.63, \"label\": \"background\", \"text\": \"_\", \"offset\": 0.20000000000000004}\r\n",
      "{\"audio_filepath\": \"data/google_dataset_v2/google_speech_recognition_v2/_background_noise_more/white_noise.wav_209000.wav\", \"duration\": 0.63, \"label\": \"background\", \"text\": \"_\", \"offset\": 0.3300000000000001}\r\n"
     ]
    }
   ],
   "source": [
    "!head -n 5 {sample_test_dataset}"
   ]
  },
  {
   "cell_type": "markdown",
   "metadata": {},
   "source": [
    "# Training - Preparation\n",
    "\n",
    "We will be training a MatchboxNet model from paper \"[MatchboxNet: 1D Time-Channel Separable Convolutional Neural Network Architecture for Speech Commands Recognition](https://arxiv.org/abs/2004.08531)\" evolved from [QuartzNet](https://arxiv.org/pdf/1910.10261.pdf) model. The benefit of QuartzNet over JASPER models is that they use Separable Convolutions, which greatly reduce the number of parameters required to get good model accuracy.\n",
    "\n",
    "MatchboxNet models generally follow the model definition pattern QuartzNet-[BxRXC], where B is the number of blocks, R is the number of convolutional sub-blocks, and C is the number of channels in these blocks. Each sub-block contains a 1-D masked convolution, batch normalization, ReLU, and dropout.\n"
   ]
  },
  {
   "cell_type": "code",
   "execution_count": 20,
   "metadata": {
    "colab": {},
    "colab_type": "code",
    "id": "ieAPOM9thTN2"
   },
   "outputs": [
    {
     "ename": "ImportError",
     "evalue": "cannot import name '_run_hydra' from 'hydra._internal.utils' (/home/fjia/anaconda3/envs/vad/lib/python3.7/site-packages/hydra/_internal/utils.py)",
     "output_type": "error",
     "traceback": [
      "\u001b[0;31m---------------------------------------------------------------------------\u001b[0m",
      "\u001b[0;31mImportError\u001b[0m                               Traceback (most recent call last)",
      "\u001b[0;32m<ipython-input-20-327743e4f6ae>\u001b[0m in \u001b[0;36m<module>\u001b[0;34m\u001b[0m\n\u001b[1;32m      1\u001b[0m \u001b[0;31m# NeMo's \"core\" package\u001b[0m\u001b[0;34m\u001b[0m\u001b[0;34m\u001b[0m\u001b[0;34m\u001b[0m\u001b[0m\n\u001b[0;32m----> 2\u001b[0;31m \u001b[0;32mimport\u001b[0m \u001b[0mnemo\u001b[0m\u001b[0;34m\u001b[0m\u001b[0;34m\u001b[0m\u001b[0m\n\u001b[0m\u001b[1;32m      3\u001b[0m \u001b[0;31m# NeMo's ASR collection - this collections contains complete ASR models and\u001b[0m\u001b[0;34m\u001b[0m\u001b[0;34m\u001b[0m\u001b[0;34m\u001b[0m\u001b[0m\n\u001b[1;32m      4\u001b[0m \u001b[0;31m# building blocks (modules) for ASR\u001b[0m\u001b[0;34m\u001b[0m\u001b[0;34m\u001b[0m\u001b[0;34m\u001b[0m\u001b[0m\n\u001b[1;32m      5\u001b[0m \u001b[0;32mimport\u001b[0m \u001b[0mnemo\u001b[0m\u001b[0;34m.\u001b[0m\u001b[0mcollections\u001b[0m\u001b[0;34m.\u001b[0m\u001b[0masr\u001b[0m \u001b[0;32mas\u001b[0m \u001b[0mnemo_asr\u001b[0m\u001b[0;34m\u001b[0m\u001b[0;34m\u001b[0m\u001b[0m\n",
      "\u001b[0;32m~/anaconda3/envs/vad/lib/python3.7/site-packages/nemo/__init__.py\u001b[0m in \u001b[0;36m<module>\u001b[0;34m\u001b[0m\n\u001b[1;32m     31\u001b[0m \u001b[0;34m\u001b[0m\u001b[0m\n\u001b[1;32m     32\u001b[0m \u001b[0;32mif\u001b[0m \u001b[0;34m\"NEMO_PACKAGE_BUILDING\"\u001b[0m \u001b[0;32mnot\u001b[0m \u001b[0;32min\u001b[0m \u001b[0mos\u001b[0m\u001b[0;34m.\u001b[0m\u001b[0menviron\u001b[0m\u001b[0;34m:\u001b[0m\u001b[0;34m\u001b[0m\u001b[0;34m\u001b[0m\u001b[0m\n\u001b[0;32m---> 33\u001b[0;31m     \u001b[0;32mfrom\u001b[0m \u001b[0mnemo\u001b[0m \u001b[0;32mimport\u001b[0m \u001b[0mcore\u001b[0m\u001b[0;34m\u001b[0m\u001b[0;34m\u001b[0m\u001b[0m\n\u001b[0m\u001b[1;32m     34\u001b[0m     \u001b[0;32mfrom\u001b[0m \u001b[0mnemo\u001b[0m \u001b[0;32mimport\u001b[0m \u001b[0mutils\u001b[0m\u001b[0;34m\u001b[0m\u001b[0;34m\u001b[0m\u001b[0m\n\u001b[1;32m     35\u001b[0m     \u001b[0;32mfrom\u001b[0m \u001b[0mnemo\u001b[0m \u001b[0;32mimport\u001b[0m \u001b[0mcollections\u001b[0m\u001b[0;34m\u001b[0m\u001b[0;34m\u001b[0m\u001b[0m\n",
      "\u001b[0;32m~/anaconda3/envs/vad/lib/python3.7/site-packages/nemo/core/__init__.py\u001b[0m in \u001b[0;36m<module>\u001b[0;34m\u001b[0m\n\u001b[1;32m     14\u001b[0m \u001b[0;34m\u001b[0m\u001b[0m\n\u001b[1;32m     15\u001b[0m \u001b[0;32mimport\u001b[0m \u001b[0mnemo\u001b[0m\u001b[0;34m.\u001b[0m\u001b[0mcore\u001b[0m\u001b[0;34m.\u001b[0m\u001b[0mneural_types\u001b[0m\u001b[0;34m\u001b[0m\u001b[0;34m\u001b[0m\u001b[0m\n\u001b[0;32m---> 16\u001b[0;31m \u001b[0;32mfrom\u001b[0m \u001b[0mnemo\u001b[0m\u001b[0;34m.\u001b[0m\u001b[0mcore\u001b[0m\u001b[0;34m.\u001b[0m\u001b[0mclasses\u001b[0m \u001b[0;32mimport\u001b[0m \u001b[0;34m*\u001b[0m\u001b[0;34m\u001b[0m\u001b[0;34m\u001b[0m\u001b[0m\n\u001b[0m",
      "\u001b[0;32m~/anaconda3/envs/vad/lib/python3.7/site-packages/nemo/core/classes/__init__.py\u001b[0m in \u001b[0;36m<module>\u001b[0;34m\u001b[0m\n\u001b[1;32m     18\u001b[0m \u001b[0;32mfrom\u001b[0m \u001b[0mnemo\u001b[0m\u001b[0;34m.\u001b[0m\u001b[0mcore\u001b[0m\u001b[0;34m.\u001b[0m\u001b[0mclasses\u001b[0m\u001b[0;34m.\u001b[0m\u001b[0mexportable\u001b[0m \u001b[0;32mimport\u001b[0m \u001b[0mExportable\u001b[0m\u001b[0;34m,\u001b[0m \u001b[0mExportFormat\u001b[0m\u001b[0;34m\u001b[0m\u001b[0;34m\u001b[0m\u001b[0m\n\u001b[1;32m     19\u001b[0m \u001b[0;32mfrom\u001b[0m \u001b[0mnemo\u001b[0m\u001b[0;34m.\u001b[0m\u001b[0mcore\u001b[0m\u001b[0;34m.\u001b[0m\u001b[0mclasses\u001b[0m\u001b[0;34m.\u001b[0m\u001b[0mloss\u001b[0m \u001b[0;32mimport\u001b[0m \u001b[0mLoss\u001b[0m\u001b[0;34m\u001b[0m\u001b[0;34m\u001b[0m\u001b[0m\n\u001b[0;32m---> 20\u001b[0;31m \u001b[0;32mfrom\u001b[0m \u001b[0mnemo\u001b[0m\u001b[0;34m.\u001b[0m\u001b[0mcore\u001b[0m\u001b[0;34m.\u001b[0m\u001b[0mclasses\u001b[0m\u001b[0;34m.\u001b[0m\u001b[0mmodelPT\u001b[0m \u001b[0;32mimport\u001b[0m \u001b[0mModelPT\u001b[0m\u001b[0;34m\u001b[0m\u001b[0;34m\u001b[0m\u001b[0m\n\u001b[0m\u001b[1;32m     21\u001b[0m \u001b[0;32mfrom\u001b[0m \u001b[0mnemo\u001b[0m\u001b[0;34m.\u001b[0m\u001b[0mcore\u001b[0m\u001b[0;34m.\u001b[0m\u001b[0mclasses\u001b[0m\u001b[0;34m.\u001b[0m\u001b[0mmodule\u001b[0m \u001b[0;32mimport\u001b[0m \u001b[0mNeuralModule\u001b[0m\u001b[0;34m\u001b[0m\u001b[0;34m\u001b[0m\u001b[0m\n",
      "\u001b[0;32m~/anaconda3/envs/vad/lib/python3.7/site-packages/nemo/core/classes/modelPT.py\u001b[0m in \u001b[0;36m<module>\u001b[0;34m\u001b[0m\n\u001b[1;32m     28\u001b[0m \u001b[0;32mfrom\u001b[0m \u001b[0mpytorch_lightning\u001b[0m \u001b[0;32mimport\u001b[0m \u001b[0mLightningModule\u001b[0m\u001b[0;34m,\u001b[0m \u001b[0mTrainer\u001b[0m\u001b[0;34m\u001b[0m\u001b[0;34m\u001b[0m\u001b[0m\n\u001b[1;32m     29\u001b[0m \u001b[0;34m\u001b[0m\u001b[0m\n\u001b[0;32m---> 30\u001b[0;31m \u001b[0;32mfrom\u001b[0m \u001b[0mnemo\u001b[0m\u001b[0;34m.\u001b[0m\u001b[0mcore\u001b[0m \u001b[0;32mimport\u001b[0m \u001b[0moptim\u001b[0m\u001b[0;34m\u001b[0m\u001b[0;34m\u001b[0m\u001b[0m\n\u001b[0m\u001b[1;32m     31\u001b[0m \u001b[0;32mfrom\u001b[0m \u001b[0mnemo\u001b[0m\u001b[0;34m.\u001b[0m\u001b[0mcore\u001b[0m\u001b[0;34m.\u001b[0m\u001b[0mclasses\u001b[0m\u001b[0;34m.\u001b[0m\u001b[0mcommon\u001b[0m \u001b[0;32mimport\u001b[0m \u001b[0mModel\u001b[0m\u001b[0;34m\u001b[0m\u001b[0;34m\u001b[0m\u001b[0m\n\u001b[1;32m     32\u001b[0m \u001b[0;32mfrom\u001b[0m \u001b[0mnemo\u001b[0m\u001b[0;34m.\u001b[0m\u001b[0mcore\u001b[0m\u001b[0;34m.\u001b[0m\u001b[0moptim\u001b[0m \u001b[0;32mimport\u001b[0m \u001b[0mprepare_lr_scheduler\u001b[0m\u001b[0;34m\u001b[0m\u001b[0;34m\u001b[0m\u001b[0m\n",
      "\u001b[0;32m~/anaconda3/envs/vad/lib/python3.7/site-packages/nemo/core/optim/__init__.py\u001b[0m in \u001b[0;36m<module>\u001b[0;34m\u001b[0m\n\u001b[1;32m     13\u001b[0m \u001b[0;31m# limitations under the License.\u001b[0m\u001b[0;34m\u001b[0m\u001b[0;34m\u001b[0m\u001b[0;34m\u001b[0m\u001b[0m\n\u001b[1;32m     14\u001b[0m \u001b[0;34m\u001b[0m\u001b[0m\n\u001b[0;32m---> 15\u001b[0;31m from nemo.core.optim.lr_scheduler import (\n\u001b[0m\u001b[1;32m     16\u001b[0m     \u001b[0mCosineAnnealing\u001b[0m\u001b[0;34m,\u001b[0m\u001b[0;34m\u001b[0m\u001b[0;34m\u001b[0m\u001b[0m\n\u001b[1;32m     17\u001b[0m     \u001b[0mInverseSquareRootAnnealing\u001b[0m\u001b[0;34m,\u001b[0m\u001b[0;34m\u001b[0m\u001b[0;34m\u001b[0m\u001b[0m\n",
      "\u001b[0;32m~/anaconda3/envs/vad/lib/python3.7/site-packages/nemo/core/optim/lr_scheduler.py\u001b[0m in \u001b[0;36m<module>\u001b[0;34m\u001b[0m\n\u001b[1;32m     27\u001b[0m \u001b[0;32mfrom\u001b[0m \u001b[0mtorch\u001b[0m\u001b[0;34m.\u001b[0m\u001b[0moptim\u001b[0m\u001b[0;34m.\u001b[0m\u001b[0mlr_scheduler\u001b[0m \u001b[0;32mimport\u001b[0m \u001b[0m_LRScheduler\u001b[0m\u001b[0;34m\u001b[0m\u001b[0;34m\u001b[0m\u001b[0m\n\u001b[1;32m     28\u001b[0m \u001b[0;34m\u001b[0m\u001b[0m\n\u001b[0;32m---> 29\u001b[0;31m \u001b[0;32mfrom\u001b[0m \u001b[0mnemo\u001b[0m\u001b[0;34m.\u001b[0m\u001b[0mcore\u001b[0m\u001b[0;34m.\u001b[0m\u001b[0mconfig\u001b[0m \u001b[0;32mimport\u001b[0m \u001b[0mSchedulerParams\u001b[0m\u001b[0;34m,\u001b[0m \u001b[0mget_scheduler_config\u001b[0m\u001b[0;34m,\u001b[0m \u001b[0mregister_scheduler_params\u001b[0m\u001b[0;34m\u001b[0m\u001b[0;34m\u001b[0m\u001b[0m\n\u001b[0m\u001b[1;32m     30\u001b[0m \u001b[0;32mfrom\u001b[0m \u001b[0mnemo\u001b[0m\u001b[0;34m.\u001b[0m\u001b[0mutils\u001b[0m \u001b[0;32mimport\u001b[0m \u001b[0mlogging\u001b[0m\u001b[0;34m\u001b[0m\u001b[0;34m\u001b[0m\u001b[0m\n\u001b[1;32m     31\u001b[0m \u001b[0;34m\u001b[0m\u001b[0m\n",
      "\u001b[0;32m~/anaconda3/envs/vad/lib/python3.7/site-packages/nemo/core/config/__init__.py\u001b[0m in \u001b[0;36m<module>\u001b[0;34m\u001b[0m\n\u001b[1;32m     44\u001b[0m     \u001b[0mregister_scheduler_params\u001b[0m\u001b[0;34m,\u001b[0m\u001b[0;34m\u001b[0m\u001b[0;34m\u001b[0m\u001b[0m\n\u001b[1;32m     45\u001b[0m )\n\u001b[0;32m---> 46\u001b[0;31m \u001b[0;32mfrom\u001b[0m \u001b[0mnemo\u001b[0m\u001b[0;34m.\u001b[0m\u001b[0mcore\u001b[0m\u001b[0;34m.\u001b[0m\u001b[0mconfig\u001b[0m\u001b[0;34m.\u001b[0m\u001b[0mset_config\u001b[0m \u001b[0;32mimport\u001b[0m \u001b[0mhydra_runner\u001b[0m\u001b[0;34m,\u001b[0m \u001b[0mset_config\u001b[0m\u001b[0;34m\u001b[0m\u001b[0;34m\u001b[0m\u001b[0m\n\u001b[0m",
      "\u001b[0;32m~/anaconda3/envs/vad/lib/python3.7/site-packages/nemo/core/config/set_config.py\u001b[0m in \u001b[0;36m<module>\u001b[0;34m\u001b[0m\n\u001b[1;32m     16\u001b[0m \u001b[0;32mfrom\u001b[0m \u001b[0mtyping\u001b[0m \u001b[0;32mimport\u001b[0m \u001b[0mAny\u001b[0m\u001b[0;34m,\u001b[0m \u001b[0mCallable\u001b[0m\u001b[0;34m,\u001b[0m \u001b[0mOptional\u001b[0m\u001b[0;34m\u001b[0m\u001b[0;34m\u001b[0m\u001b[0m\n\u001b[1;32m     17\u001b[0m \u001b[0;34m\u001b[0m\u001b[0m\n\u001b[0;32m---> 18\u001b[0;31m \u001b[0;32mfrom\u001b[0m \u001b[0mhydra\u001b[0m\u001b[0;34m.\u001b[0m\u001b[0m_internal\u001b[0m\u001b[0;34m.\u001b[0m\u001b[0mutils\u001b[0m \u001b[0;32mimport\u001b[0m \u001b[0m_run_hydra\u001b[0m\u001b[0;34m,\u001b[0m \u001b[0mget_args_parser\u001b[0m\u001b[0;34m\u001b[0m\u001b[0;34m\u001b[0m\u001b[0m\n\u001b[0m\u001b[1;32m     19\u001b[0m \u001b[0;32mfrom\u001b[0m \u001b[0mhydra\u001b[0m\u001b[0;34m.\u001b[0m\u001b[0mcore\u001b[0m\u001b[0;34m.\u001b[0m\u001b[0mconfig_store\u001b[0m \u001b[0;32mimport\u001b[0m \u001b[0mConfigStore\u001b[0m\u001b[0;34m\u001b[0m\u001b[0;34m\u001b[0m\u001b[0m\n\u001b[1;32m     20\u001b[0m \u001b[0;32mfrom\u001b[0m \u001b[0mhydra\u001b[0m\u001b[0;34m.\u001b[0m\u001b[0mtypes\u001b[0m \u001b[0;32mimport\u001b[0m \u001b[0mTaskFunction\u001b[0m\u001b[0;34m\u001b[0m\u001b[0;34m\u001b[0m\u001b[0m\n",
      "\u001b[0;31mImportError\u001b[0m: cannot import name '_run_hydra' from 'hydra._internal.utils' (/home/fjia/anaconda3/envs/vad/lib/python3.7/site-packages/hydra/_internal/utils.py)"
     ]
    }
   ],
   "source": [
    "# NeMo's \"core\" package\n",
    "import nemo\n",
    "# NeMo's ASR collection - this collections contains complete ASR models and\n",
    "# building blocks (modules) for ASR\n",
    "import nemo.collections.asr as nemo_asr"
   ]
  },
  {
   "cell_type": "markdown",
   "metadata": {
    "colab_type": "text",
    "id": "ss9gLcDv30jI"
   },
   "source": [
    "## Model Configuration\n",
    "The MatchboxNet Model is defined in a config file which declares multiple important sections.\n",
    "\n",
    "They are:\n",
    "\n",
    "1) `model`: All arguments that will relate to the Model - preprocessors, encoder, decoder, optimizer and schedulers, datasets and any other related information\n",
    "\n",
    "2) `trainer`: Any argument to be passed to PyTorch Lightning"
   ]
  },
  {
   "cell_type": "code",
   "execution_count": 12,
   "metadata": {},
   "outputs": [],
   "source": [
    "MODEL_CONFIG = \"matchboxnet_3x1x64_vad.yaml\"\n",
    "\n",
    "if not os.path.exists(f\"configs/{MODEL_CONFIG}\"):\n",
    "  !wget -P configs/ \"https://raw.githubusercontent.com/NVIDIA/NeMo/candidate/examples/asr/conf/{MODEL_CONFIG}\""
   ]
  },
  {
   "cell_type": "code",
   "execution_count": 13,
   "metadata": {
    "colab": {},
    "colab_type": "code",
    "id": "yoVAs9h1lfci",
    "scrolled": false
   },
   "outputs": [
    {
     "name": "stderr",
     "output_type": "stream",
     "text": [
      "[NeMo W 2020-08-25 23:00:54 nemo_logging:349] /home/fjia/anaconda3/envs/vad/lib/python3.7/site-packages/omegaconf/basecontainer.py:231: UserWarning: \n",
      "                pretty() is deprecated and will be removed in a future version.\n",
      "                Use OmegaConf.to_yaml. Please note that the default value for\n",
      "                resolve has changed to True.\n",
      "                \n",
      "      category=UserWarning,\n",
      "    \n"
     ]
    },
    {
     "name": "stdout",
     "output_type": "stream",
     "text": [
      "name: MatchboxNet-3x1x64-vad\n",
      "model:\n",
      "  sample_rate: 16000\n",
      "  timesteps: 64\n",
      "  repeat: 1\n",
      "  dropout: 0.0\n",
      "  kernel_size_factor: 1.0\n",
      "  labels:\n",
      "  - background\n",
      "  - speech\n",
      "  train_ds:\n",
      "    manifest_filepath: ???\n",
      "    sample_rate: 16000\n",
      "    labels:\n",
      "    - background\n",
      "    - speech\n",
      "    batch_size: 128\n",
      "    shuffle: true\n",
      "    augmentor:\n",
      "      shift:\n",
      "        prob: 1.0\n",
      "        min_shift_ms: -5.0\n",
      "        max_shift_ms: 5.0\n",
      "      white_noise:\n",
      "        prob: 1.0\n",
      "        min_level: -90\n",
      "        max_level: -46\n",
      "  validation_ds:\n",
      "    manifest_filepath: ???\n",
      "    sample_rate: 16000\n",
      "    labels:\n",
      "    - background\n",
      "    - speech\n",
      "    batch_size: 128\n",
      "    shuffle: false\n",
      "    val_loss_idx: 0\n",
      "  test_ds:\n",
      "    manifest_filepath: null\n",
      "    sample_rate: 16000\n",
      "    labels:\n",
      "    - background\n",
      "    - speech\n",
      "    batch_size: 128\n",
      "    shuffle: false\n",
      "    test_loss_idx: 0\n",
      "  preprocessor:\n",
      "    cls: nemo.collections.asr.modules.AudioToMFCCPreprocessor\n",
      "    params:\n",
      "      window_size: 0.025\n",
      "      window_stride: 0.01\n",
      "      window: hann\n",
      "      n_mels: 64\n",
      "      n_mfcc: 64\n",
      "      n_fft: 512\n",
      "  spec_augment:\n",
      "    cls: nemo.collections.asr.modules.SpectrogramAugmentation\n",
      "    params:\n",
      "      freq_masks: 2\n",
      "      time_masks: 2\n",
      "      freq_width: 15\n",
      "      time_width: 25\n",
      "      rect_masks: 5\n",
      "      rect_time: 25\n",
      "      rect_freq: 15\n",
      "  encoder:\n",
      "    cls: nemo.collections.asr.modules.ConvASREncoder\n",
      "    params:\n",
      "      feat_in: 64\n",
      "      activation: relu\n",
      "      conv_mask: true\n",
      "      jasper:\n",
      "      - filters: 128\n",
      "        repeat: 1\n",
      "        kernel:\n",
      "        - 11\n",
      "        stride:\n",
      "        - 1\n",
      "        dilation:\n",
      "        - 1\n",
      "        dropout: 0.0\n",
      "        residual: false\n",
      "        separable: true\n",
      "        kernel_size_factor: 1.0\n",
      "      - filters: 64\n",
      "        repeat: 1\n",
      "        kernel:\n",
      "        - 13\n",
      "        stride:\n",
      "        - 1\n",
      "        dilation:\n",
      "        - 1\n",
      "        dropout: 0.0\n",
      "        residual: true\n",
      "        separable: true\n",
      "        kernel_size_factor: 1.0\n",
      "      - filters: 64\n",
      "        repeat: 1\n",
      "        kernel:\n",
      "        - 15\n",
      "        stride:\n",
      "        - 1\n",
      "        dilation:\n",
      "        - 1\n",
      "        dropout: 0.0\n",
      "        residual: true\n",
      "        separable: true\n",
      "        kernel_size_factor: 1.0\n",
      "      - filters: 64\n",
      "        repeat: 1\n",
      "        kernel:\n",
      "        - 17\n",
      "        stride:\n",
      "        - 1\n",
      "        dilation:\n",
      "        - 1\n",
      "        dropout: 0.0\n",
      "        residual: true\n",
      "        separable: true\n",
      "        kernel_size_factor: 1.0\n",
      "      - filters: 128\n",
      "        repeat: 1\n",
      "        kernel:\n",
      "        - 29\n",
      "        stride:\n",
      "        - 1\n",
      "        dilation:\n",
      "        - 2\n",
      "        dropout: 0.0\n",
      "        residual: false\n",
      "        separable: true\n",
      "        kernel_size_factor: 1.0\n",
      "      - filters: 128\n",
      "        repeat: 1\n",
      "        kernel:\n",
      "        - 1\n",
      "        stride:\n",
      "        - 1\n",
      "        dilation:\n",
      "        - 1\n",
      "        dropout: 0.0\n",
      "        residual: false\n",
      "  decoder:\n",
      "    cls: nemo.collections.asr.modules.ConvASRDecoderClassification\n",
      "    params:\n",
      "      feat_in: 128\n",
      "      num_classes: 2\n",
      "      return_logits: true\n",
      "      pooling_type: avg\n",
      "  optim:\n",
      "    name: novograd\n",
      "    lr: 0.05\n",
      "    betas:\n",
      "    - 0.95\n",
      "    - 0.5\n",
      "    weight_decay: 0.001\n",
      "    sched:\n",
      "      name: PolynomialHoldDecayAnnealing\n",
      "      power: 2.0\n",
      "      warmup_ratio: 0.05\n",
      "      hold_ratio: 0.45\n",
      "      min_lr: 0.001\n",
      "      last_epoch: -1\n",
      "trainer:\n",
      "  gpus: 0\n",
      "  max_epochs: 200\n",
      "  max_steps: null\n",
      "  num_nodes: 1\n",
      "  distributed_backend: ddp\n",
      "  accumulate_grad_batches: 1\n",
      "  checkpoint_callback: false\n",
      "  logger: false\n",
      "  row_log_interval: 1\n",
      "  val_check_interval: 1.0\n",
      "exp_manager:\n",
      "  exp_dir: null\n",
      "  name: MatchboxNet-3x1x64-vad\n",
      "  create_tensorboard_logger: true\n",
      "  create_checkpoint_callback: true\n",
      "  create_wandb_logger: false\n",
      "  wandb_logger_kwargs:\n",
      "    name: null\n",
      "    project: null\n",
      "hydra:\n",
      "  run:\n",
      "    dir: .\n",
      "  job_logging:\n",
      "    root:\n",
      "      handlers: null\n",
      "\n"
     ]
    }
   ],
   "source": [
    "# This line will print the entire config of the MatchboxNet model\n",
    "config_path = f\"configs/{MODEL_CONFIG}\"\n",
    "config = OmegaConf.load(config_path)\n",
    "print(config.pretty())"
   ]
  },
  {
   "cell_type": "code",
   "execution_count": 14,
   "metadata": {
    "colab": {},
    "colab_type": "code",
    "id": "m2lJPR0a3qww"
   },
   "outputs": [],
   "source": [
    "# Preserve some useful parameters\n",
    "labels = config.model.labels\n",
    "sample_rate = config.sample_rate"
   ]
  },
  {
   "cell_type": "markdown",
   "metadata": {
    "colab_type": "text",
    "id": "8_pmjeed78rJ"
   },
   "source": [
    "### Setting up the datasets within the config\n",
    "\n",
    "If you'll notice, there are a few config dictionaries called `train_ds`, `validation_ds` and `test_ds`. These are configurations used to setup the Dataset and DataLoaders of the corresponding config.\n",
    "\n"
   ]
  },
  {
   "cell_type": "code",
   "execution_count": 15,
   "metadata": {
    "colab": {},
    "colab_type": "code",
    "id": "DIe6Qfs18MiQ"
   },
   "outputs": [
    {
     "name": "stdout",
     "output_type": "stream",
     "text": [
      "manifest_filepath: ???\n",
      "sample_rate: 16000\n",
      "labels:\n",
      "- background\n",
      "- speech\n",
      "batch_size: 128\n",
      "shuffle: true\n",
      "augmentor:\n",
      "  shift:\n",
      "    prob: 1.0\n",
      "    min_shift_ms: -5.0\n",
      "    max_shift_ms: 5.0\n",
      "  white_noise:\n",
      "    prob: 1.0\n",
      "    min_level: -90\n",
      "    max_level: -46\n",
      "\n"
     ]
    }
   ],
   "source": [
    "print(config.model.train_ds.pretty())"
   ]
  },
  {
   "cell_type": "markdown",
   "metadata": {
    "colab_type": "text",
    "id": "Fb01hl868Uc3"
   },
   "source": [
    "### `???` inside configs\n",
    "\n",
    "You will often notice that some configs have `???` in place of paths. This is used as a placeholder so that the user can change the value at a later time.\n",
    "\n",
    "Let's add the paths to the manifests to the config above."
   ]
  },
  {
   "cell_type": "code",
   "execution_count": 16,
   "metadata": {
    "colab": {},
    "colab_type": "code",
    "id": "m181HXev8T97"
   },
   "outputs": [],
   "source": [
    "config.model.train_ds.manifest_filepath = train_dataset\n",
    "config.model.validation_ds.manifest_filepath = val_dataset\n",
    "config.model.test_ds.manifest_filepath = test_dataset"
   ]
  },
  {
   "cell_type": "markdown",
   "metadata": {
    "colab_type": "text",
    "id": "pbXngoCM5IRG"
   },
   "source": [
    "## Building the PyTorch Lightning Trainer\n",
    "\n",
    "NeMo models are primarily PyTorch Lightning modules - and therefore are entirely compatible with the PyTorch Lightning ecosystem!\n",
    "\n",
    "Lets first instantiate a Trainer object!"
   ]
  },
  {
   "cell_type": "code",
   "execution_count": 17,
   "metadata": {
    "colab": {},
    "colab_type": "code",
    "id": "bYtvdBlG5afU"
   },
   "outputs": [],
   "source": [
    "import torch\n",
    "import pytorch_lightning as pl"
   ]
  },
  {
   "cell_type": "code",
   "execution_count": 18,
   "metadata": {
    "colab": {},
    "colab_type": "code",
    "id": "jRN18CdH51nN"
   },
   "outputs": [
    {
     "name": "stdout",
     "output_type": "stream",
     "text": [
      "Trainer config - \n",
      "\n",
      "gpus: 0\n",
      "max_epochs: 200\n",
      "max_steps: null\n",
      "num_nodes: 1\n",
      "distributed_backend: ddp\n",
      "accumulate_grad_batches: 1\n",
      "checkpoint_callback: false\n",
      "logger: false\n",
      "row_log_interval: 1\n",
      "val_check_interval: 1.0\n",
      "\n"
     ]
    }
   ],
   "source": [
    "print(\"Trainer config - \\n\")\n",
    "print(config.trainer.pretty())"
   ]
  },
  {
   "cell_type": "code",
   "execution_count": 19,
   "metadata": {
    "colab": {},
    "colab_type": "code",
    "id": "gHf6cHvm6H9b"
   },
   "outputs": [],
   "source": [
    "# Lets modify some trainer configs for this demo\n",
    "# Checks if we have GPU available and uses it\n",
    "cuda = 1 if torch.cuda.is_available() else 0\n",
    "config.trainer.gpus = cuda\n",
    "\n",
    "# Reduces maximum number of epochs to 5 for quick demonstration\n",
    "config.trainer.max_epochs = 2\n",
    "\n",
    "# Remove distributed training flags\n",
    "config.trainer.distributed_backend = None"
   ]
  },
  {
   "cell_type": "code",
   "execution_count": 20,
   "metadata": {
    "colab": {},
    "colab_type": "code",
    "id": "UB9nr7G56G3L"
   },
   "outputs": [
    {
     "name": "stderr",
     "output_type": "stream",
     "text": [
      "GPU available: True, used: True\n",
      "TPU available: False, using: 0 TPU cores\n",
      "CUDA_VISIBLE_DEVICES: [0]\n"
     ]
    }
   ],
   "source": [
    "trainer = pl.Trainer(**config.trainer)"
   ]
  },
  {
   "cell_type": "markdown",
   "metadata": {
    "colab_type": "text",
    "id": "2wt603Vq6sqX"
   },
   "source": [
    "## Setting up a NeMo Experiment\n",
    "\n",
    "NeMo has an experiment manager that handles logging and checkpointing for us, so let's use it ! "
   ]
  },
  {
   "cell_type": "code",
   "execution_count": 21,
   "metadata": {
    "colab": {},
    "colab_type": "code",
    "id": "TfWJFg7p6Ezf"
   },
   "outputs": [],
   "source": [
    "from nemo.utils.exp_manager import exp_manager"
   ]
  },
  {
   "cell_type": "code",
   "execution_count": 22,
   "metadata": {
    "colab": {},
    "colab_type": "code",
    "id": "SC-QPoW44-p2"
   },
   "outputs": [
    {
     "name": "stdout",
     "output_type": "stream",
     "text": [
      "[NeMo I 2020-08-25 23:00:55 exp_manager:170] Experiments will be logged at /home/fjia/code/NeMo-fei/tutorials/asr/nemo_experiments/MatchboxNet-3x1x64-vad/2020-08-25_23-00-55\n",
      "[NeMo I 2020-08-25 23:00:55 exp_manager:504] TensorboardLogger has been set up\n"
     ]
    },
    {
     "name": "stderr",
     "output_type": "stream",
     "text": [
      "[NeMo W 2020-08-25 23:00:55 exp_manager:538] trainer had a weights_save_path of cwd(). This was ignored.\n"
     ]
    }
   ],
   "source": [
    "exp_dir = exp_manager(trainer, config.get(\"exp_manager\", None))"
   ]
  },
  {
   "cell_type": "code",
   "execution_count": 23,
   "metadata": {
    "colab": {},
    "colab_type": "code",
    "id": "Yqi6rkNR7Dph"
   },
   "outputs": [
    {
     "data": {
      "text/plain": [
       "'/home/fjia/code/NeMo-fei/tutorials/asr/nemo_experiments/MatchboxNet-3x1x64-vad/2020-08-25_23-00-55'"
      ]
     },
     "execution_count": 23,
     "metadata": {},
     "output_type": "execute_result"
    }
   ],
   "source": [
    "# The exp_dir provides a path to the current experiment for easy access\n",
    "exp_dir = str(exp_dir)\n",
    "exp_dir"
   ]
  },
  {
   "cell_type": "markdown",
   "metadata": {
    "colab_type": "text",
    "id": "t0zz-vHH7Uuh"
   },
   "source": [
    "## Building the MatchboxNet Model\n",
    "\n",
    "MatchboxNet is an ASR model with a classification task - it generates one label for the entire provided audio stream. Therefore we encapsulate it inside the `EncDecClassificationModel` as follows."
   ]
  },
  {
   "cell_type": "code",
   "execution_count": 24,
   "metadata": {
    "colab": {},
    "colab_type": "code",
    "id": "FRMrKhyf5vhy"
   },
   "outputs": [
    {
     "name": "stdout",
     "output_type": "stream",
     "text": [
      "[NeMo I 2020-08-25 23:00:55 collections:253] Filtered duration for loading collection is 0.000000.\n",
      "[NeMo I 2020-08-25 23:00:55 collections:256] # 20000 files loaded accounting to # 2 labels\n",
      "[NeMo I 2020-08-25 23:00:55 collections:253] Filtered duration for loading collection is 0.000000.\n",
      "[NeMo I 2020-08-25 23:00:55 collections:256] # 15205 files loaded accounting to # 2 labels\n",
      "[NeMo I 2020-08-25 23:00:55 collections:253] Filtered duration for loading collection is 0.000000.\n",
      "[NeMo I 2020-08-25 23:00:55 collections:256] # 4000 files loaded accounting to # 2 labels\n"
     ]
    },
    {
     "name": "stderr",
     "output_type": "stream",
     "text": [
      "[NeMo W 2020-08-25 23:00:55 nemo_logging:349] /home/fjia/anaconda3/envs/vad/lib/python3.7/site-packages/hydra/_internal/utils.py:638: UserWarning: \n",
      "    Config key 'cls' is deprecated since Hydra 1.0 and will be removed in Hydra 1.1.\n",
      "    Use '_target_' instead of 'cls'.\n",
      "    See https://hydra.cc/docs/next/upgrades/0.11_to_1.0/object_instantiation_changes\n",
      "      warnings.warn(message=msg, category=UserWarning)\n",
      "    \n",
      "[NeMo W 2020-08-25 23:00:55 nemo_logging:349] /home/fjia/anaconda3/envs/vad/lib/python3.7/site-packages/hydra/_internal/utils.py:584: UserWarning: \n",
      "    Field 'params' is deprecated since Hydra 1.0 and will be removed in Hydra 1.1.\n",
      "    Inline the content of params directly at the containing node.\n",
      "    See https://hydra.cc/docs/next/upgrades/0.11_to_1.0/object_instantiation_changes\n",
      "      warnings.warn(category=UserWarning, message=msg)\n",
      "    \n"
     ]
    }
   ],
   "source": [
    "asr_model = nemo_asr.models.EncDecClassificationModel(cfg=config.model, trainer=trainer)"
   ]
  },
  {
   "cell_type": "markdown",
   "metadata": {
    "colab_type": "text",
    "id": "jA9UND-Q_oyw"
   },
   "source": [
    "# Training a MatchboxNet Model\n",
    "\n",
    "As MatchboxNet is inherently a PyTorch Lightning Model, it can easily be trained in a single line - `trainer.fit(model)` !"
   ]
  },
  {
   "cell_type": "markdown",
   "metadata": {
    "colab_type": "text",
    "id": "3ngKcRFqBfIF"
   },
   "source": [
    "### Monitoring training progress\n",
    "\n",
    "Before we begin training, lets first create a Tensorboard visualization to monitor progress\n"
   ]
  },
  {
   "cell_type": "code",
   "execution_count": 25,
   "metadata": {
    "colab": {},
    "colab_type": "code",
    "id": "Cyfec0PDBsXa"
   },
   "outputs": [],
   "source": [
    "# Load the TensorBoard notebook extension\n",
    "%load_ext tensorboard"
   ]
  },
  {
   "cell_type": "code",
   "execution_count": 26,
   "metadata": {
    "colab": {},
    "colab_type": "code",
    "id": "4L5ymu-QBxmz"
   },
   "outputs": [
    {
     "data": {
      "text/html": [
       "\n",
       "      <iframe id=\"tensorboard-frame-74ce33cb2ab5df2e\" width=\"100%\" height=\"800\" frameborder=\"0\">\n",
       "      </iframe>\n",
       "      <script>\n",
       "        (function() {\n",
       "          const frame = document.getElementById(\"tensorboard-frame-74ce33cb2ab5df2e\");\n",
       "          const url = new URL(\"/\", window.location);\n",
       "          url.port = 6007;\n",
       "          frame.src = url;\n",
       "        })();\n",
       "      </script>\n",
       "  "
      ],
      "text/plain": [
       "<IPython.core.display.HTML object>"
      ]
     },
     "metadata": {},
     "output_type": "display_data"
    }
   ],
   "source": [
    "%tensorboard --logdir {exp_dir}"
   ]
  },
  {
   "cell_type": "markdown",
   "metadata": {
    "colab_type": "text",
    "id": "ZApuELDIKQgC"
   },
   "source": [
    "### Training for 5 epochs\n",
    "We see below that the model begins to get modest scores on the validation set after just 5 epochs of training"
   ]
  },
  {
   "cell_type": "code",
   "execution_count": 27,
   "metadata": {
    "colab": {},
    "colab_type": "code",
    "id": "9xiUUJlH5KdD"
   },
   "outputs": [
    {
     "name": "stderr",
     "output_type": "stream",
     "text": [
      "[NeMo W 2020-08-25 23:00:57 nemo_logging:349] /home/fjia/anaconda3/envs/vad/lib/python3.7/site-packages/torch/cuda/__init__.py:125: UserWarning: \n",
      "    GeForce GT 710 with CUDA capability sm_35 is not compatible with the current PyTorch installation.\n",
      "    The current PyTorch install supports CUDA capabilities sm_37 sm_50 sm_60 sm_61 sm_70 sm_75 compute_37.\n",
      "    If you want to use the GeForce GT 710 GPU with PyTorch, please check the instructions at https://pytorch.org/get-started/locally/\n",
      "    \n",
      "      warnings.warn(incompatible_device_warn.format(device_name, capability, \" \".join(arch_list), device_name))\n",
      "    \n"
     ]
    },
    {
     "name": "stdout",
     "output_type": "stream",
     "text": [
      "[NeMo I 2020-08-25 23:00:58 modelPT:465] Optimizer config = Novograd (\n",
      "    Parameter Group 0\n",
      "        amsgrad: False\n",
      "        betas: [0.95, 0.5]\n",
      "        eps: 1e-08\n",
      "        grad_averaging: False\n",
      "        lr: 0.05\n",
      "        weight_decay: 0.001\n",
      "    )\n",
      "[NeMo I 2020-08-25 23:00:58 lr_scheduler:545] Scheduler \"<nemo.core.optim.lr_scheduler.PolynomialHoldDecayAnnealing object at 0x7f5c69d034d0>\" will be used during training (effective maximum steps = 312) - Parameters : ({'power': 2.0, 'warmup_ratio': 0.05, 'hold_ratio': 0.45, 'min_lr': 0.001, 'last_epoch': -1, 'max_steps': 312})\n"
     ]
    },
    {
     "name": "stderr",
     "output_type": "stream",
     "text": [
      "\n",
      "  | Name              | Type                         | Params\n",
      "-------------------------------------------------------------------\n",
      "0 | preprocessor      | AudioToMFCCPreprocessor      | 0     \n",
      "1 | encoder           | ConvASREncoder               | 73 K  \n",
      "2 | decoder           | ConvASRDecoderClassification | 258   \n",
      "3 | loss              | CrossEntropyLoss             | 0     \n",
      "4 | spec_augmentation | SpectrogramAugmentation      | 0     \n",
      "5 | _accuracy         | TopKClassificationAccuracy   | 0     \n",
      "[NeMo W 2020-08-25 23:00:58 nemo_logging:349] /home/fjia/anaconda3/envs/vad/lib/python3.7/site-packages/pytorch_lightning/utilities/distributed.py:25: UserWarning: The dataloader, val dataloader 0, does not have many workers which may be a bottleneck. Consider increasing the value of the `num_workers` argument` (try 20 which is the number of cpus on this machine) in the `DataLoader` init to improve performance.\n",
      "      warnings.warn(*args, **kwargs)\n",
      "    \n"
     ]
    },
    {
     "data": {
      "application/vnd.jupyter.widget-view+json": {
       "model_id": "",
       "version_major": 2,
       "version_minor": 0
      },
      "text/plain": [
       "HBox(children=(FloatProgress(value=1.0, bar_style='info', description='Validation sanity check', layout=Layout…"
      ]
     },
     "metadata": {},
     "output_type": "display_data"
    },
    {
     "name": "stderr",
     "output_type": "stream",
     "text": [
      "[NeMo W 2020-08-25 23:00:59 nemo_logging:349] /home/fjia/anaconda3/envs/vad/lib/python3.7/site-packages/pytorch_lightning/utilities/distributed.py:25: UserWarning: The dataloader, train dataloader, does not have many workers which may be a bottleneck. Consider increasing the value of the `num_workers` argument` (try 20 which is the number of cpus on this machine) in the `DataLoader` init to improve performance.\n",
      "      warnings.warn(*args, **kwargs)\n",
      "    \n"
     ]
    },
    {
     "data": {
      "application/vnd.jupyter.widget-view+json": {
       "model_id": "b19b1cc27f844be48f91caecf14370bf",
       "version_major": 2,
       "version_minor": 0
      },
      "text/plain": [
       "HBox(children=(FloatProgress(value=1.0, bar_style='info', description='Training', layout=Layout(flex='2'), max…"
      ]
     },
     "metadata": {},
     "output_type": "display_data"
    },
    {
     "data": {
      "application/vnd.jupyter.widget-view+json": {
       "model_id": "",
       "version_major": 2,
       "version_minor": 0
      },
      "text/plain": [
       "HBox(children=(FloatProgress(value=1.0, bar_style='info', description='Validating', layout=Layout(flex='2'), m…"
      ]
     },
     "metadata": {},
     "output_type": "display_data"
    },
    {
     "data": {
      "application/vnd.jupyter.widget-view+json": {
       "model_id": "",
       "version_major": 2,
       "version_minor": 0
      },
      "text/plain": [
       "HBox(children=(FloatProgress(value=1.0, bar_style='info', description='Validating', layout=Layout(flex='2'), m…"
      ]
     },
     "metadata": {},
     "output_type": "display_data"
    },
    {
     "name": "stdout",
     "output_type": "stream",
     "text": [
      "\n"
     ]
    },
    {
     "data": {
      "text/plain": [
       "1"
      ]
     },
     "execution_count": 27,
     "metadata": {},
     "output_type": "execute_result"
    }
   ],
   "source": [
    "trainer.fit(asr_model)"
   ]
  },
  {
   "cell_type": "markdown",
   "metadata": {
    "colab_type": "text",
    "id": "Dkds1jSvKgSc"
   },
   "source": [
    "### Evaluation on the Test set\n",
    "\n",
    "Lets compute the final score on the test set via `trainer.test(model)`"
   ]
  },
  {
   "cell_type": "code",
   "execution_count": 28,
   "metadata": {
    "colab": {},
    "colab_type": "code",
    "id": "mULTrhEJ_6wV"
   },
   "outputs": [
    {
     "name": "stdout",
     "output_type": "stream",
     "text": [
      "[NeMo I 2020-08-25 23:01:56 modelPT:465] Optimizer config = Novograd (\n",
      "    Parameter Group 0\n",
      "        amsgrad: False\n",
      "        betas: [0.95, 0.5]\n",
      "        eps: 1e-08\n",
      "        grad_averaging: False\n",
      "        lr: 0.05\n",
      "        weight_decay: 0.001\n",
      "    )\n",
      "[NeMo I 2020-08-25 23:01:56 lr_scheduler:545] Scheduler \"<nemo.core.optim.lr_scheduler.PolynomialHoldDecayAnnealing object at 0x7f5c691cbd10>\" will be used during training (effective maximum steps = 312) - Parameters : ({'power': 2.0, 'warmup_ratio': 0.05, 'hold_ratio': 0.45, 'min_lr': 0.001, 'last_epoch': -1, 'max_steps': 312})\n"
     ]
    },
    {
     "name": "stderr",
     "output_type": "stream",
     "text": [
      "[NeMo W 2020-08-25 23:01:56 nemo_logging:349] /home/fjia/anaconda3/envs/vad/lib/python3.7/site-packages/pytorch_lightning/utilities/distributed.py:25: UserWarning: The dataloader, test dataloader 0, does not have many workers which may be a bottleneck. Consider increasing the value of the `num_workers` argument` (try 20 which is the number of cpus on this machine) in the `DataLoader` init to improve performance.\n",
      "      warnings.warn(*args, **kwargs)\n",
      "    \n"
     ]
    },
    {
     "data": {
      "application/vnd.jupyter.widget-view+json": {
       "model_id": "8168f3a55f75496789029a69f29038e7",
       "version_major": 2,
       "version_minor": 0
      },
      "text/plain": [
       "HBox(children=(FloatProgress(value=1.0, bar_style='info', description='Testing', layout=Layout(flex='2'), max=…"
      ]
     },
     "metadata": {},
     "output_type": "display_data"
    },
    {
     "name": "stdout",
     "output_type": "stream",
     "text": [
      "--------------------------------------------------------------------------------\n",
      "TEST RESULTS\n",
      "{'test_epoch_top@1': tensor(0.9902),\n",
      " 'test_loss': tensor(0.0510, device='cuda:0')}\n",
      "--------------------------------------------------------------------------------\n",
      "\n"
     ]
    },
    {
     "data": {
      "text/plain": [
       "{'test_loss': 0.050965823233127594, 'test_epoch_top@1': 0.9902499914169312}"
      ]
     },
     "execution_count": 28,
     "metadata": {},
     "output_type": "execute_result"
    }
   ],
   "source": [
    "trainer.test(asr_model, ckpt_path=None)"
   ]
  },
  {
   "cell_type": "markdown",
   "metadata": {
    "colab_type": "text",
    "id": "XQntce8cLiUC"
   },
   "source": [
    "# Fast Training\n",
    "\n",
    "We can dramatically improve the time taken to train this model by using Multi GPU training along with Mixed Precision.\n",
    "\n",
    "For multi-GPU training, take a look at [the PyTorch Lightning Multi-GPU training section](https://pytorch-lightning.readthedocs.io/en/latest/multi_gpu.html)\n",
    "\n",
    "For mixed-precision training, take a look at [the PyTorch Lightning Mixed-Precision training section](https://pytorch-lightning.readthedocs.io/en/latest/apex.html)\n",
    "\n",
    "```python\n",
    "# Mixed precision:\n",
    "trainer = Trainer(amp_level='O1', precision=16)\n",
    "\n",
    "# Trainer with a distributed backend:\n",
    "trainer = Trainer(gpus=2, num_nodes=2, distributed_backend='ddp')\n",
    "\n",
    "# Of course, you can combine these flags as well.\n",
    "```"
   ]
  },
  {
   "cell_type": "markdown",
   "metadata": {
    "colab_type": "text",
    "id": "ifDHkunjM8y6"
   },
   "source": [
    "# Evaluation of incorrectly predicted samples\n",
    "\n",
    "Given that we have a trained model, which performs reasonably well, let's try to listen to the samples where the model is least confident in its predictions."
   ]
  },
  {
   "cell_type": "markdown",
   "metadata": {
    "colab_type": "text",
    "id": "PcJrZ72sNCkM"
   },
   "source": [
    "## Extract the predictions from the model\n",
    "\n",
    "We want to possess the actual logits of the model instead of just the final evaluation score, so we can define a function to perform the forward step for us without computing the final loss. Instead, we extract the logits per batch of samples provided."
   ]
  },
  {
   "cell_type": "markdown",
   "metadata": {
    "colab_type": "text",
    "id": "rvxdviYtOFjK"
   },
   "source": [
    "## Accessing the data loaders\n",
    "\n",
    "We can utilize the `setup_test_data` method in order to instantiate a data loader for the dataset we want to analyze.\n",
    "\n",
    "For convenience, we can access these instantiated data loaders using the following accessors - `asr_model._train_dl`, `asr_model._validation_dl` and `asr_model._test_dl`."
   ]
  },
  {
   "cell_type": "code",
   "execution_count": 29,
   "metadata": {
    "colab": {},
    "colab_type": "code",
    "id": "CB0QZCAmM656"
   },
   "outputs": [
    {
     "name": "stdout",
     "output_type": "stream",
     "text": [
      "[NeMo I 2020-08-25 23:01:58 collections:253] Filtered duration for loading collection is 0.000000.\n",
      "[NeMo I 2020-08-25 23:01:58 collections:256] # 4000 files loaded accounting to # 2 labels\n"
     ]
    }
   ],
   "source": [
    "asr_model.setup_test_data(config.model.test_ds)\n",
    "test_dl = asr_model._test_dl"
   ]
  },
  {
   "cell_type": "markdown",
   "metadata": {
    "colab_type": "text",
    "id": "rA7gXawcPoip"
   },
   "source": [
    "## Partial Test Step\n",
    "\n",
    "Below we define a utility function to perform most of the test step. For reference, the test step is defined as follows:\n",
    "\n",
    "```python\n",
    "    def test_step(self, batch, batch_idx, dataloader_idx=0):\n",
    "        audio_signal, audio_signal_len, labels, labels_len = batch\n",
    "        logits = self.forward(input_signal=audio_signal, input_signal_length=audio_signal_len)\n",
    "        loss_value = self.loss(logits=logits, labels=labels)\n",
    "        correct_counts, total_counts = self._accuracy(logits=logits, labels=labels)\n",
    "        return {'test_loss': loss_value, 'test_correct_counts': correct_counts, 'test_total_counts': total_counts}\n",
    "```"
   ]
  },
  {
   "cell_type": "code",
   "execution_count": 73,
   "metadata": {
    "colab": {},
    "colab_type": "code",
    "id": "sBsDOm5ROpQI"
   },
   "outputs": [],
   "source": [
    "@torch.no_grad()\n",
    "def extract_logits(model, dataloader):\n",
    "    logits_buffer = []\n",
    "    label_buffer = []\n",
    "\n",
    "    # Follow the above definition of the test_step\n",
    "    for batch in dataloader:\n",
    "        audio_signal, audio_signal_len, labels, labels_len = batch\n",
    "        logits = model(input_signal=audio_signal, input_signal_length=audio_signal_len)\n",
    "\n",
    "        logits_buffer.append(logits)\n",
    "        label_buffer.append(labels)\n",
    "        print(\".\", end='')\n",
    "    print()\n",
    "\n",
    "    print(\"Finished extracting logits !\")\n",
    "    logits = torch.cat(logits_buffer, 0)\n",
    "    labels = torch.cat(label_buffer, 0)\n",
    "    return logits, labels\n"
   ]
  },
  {
   "cell_type": "code",
   "execution_count": 74,
   "metadata": {
    "colab": {},
    "colab_type": "code",
    "id": "mZSdprUlOuoV"
   },
   "outputs": [
    {
     "name": "stdout",
     "output_type": "stream",
     "text": [
      "................................\n",
      "Finished extracting logits !\n",
      "Logits: torch.Size([4000, 2]) Labels : torch.Size([4000])\n"
     ]
    }
   ],
   "source": [
    "cpu_model = asr_model.cpu()\n",
    "cpu_model.eval()\n",
    "logits, labels = extract_logits(cpu_model, test_dl)\n",
    "print(\"Logits:\", logits.shape, \"Labels :\", labels.shape)"
   ]
  },
  {
   "cell_type": "code",
   "execution_count": 32,
   "metadata": {
    "colab": {},
    "colab_type": "code",
    "id": "9Wd0ukgNXRBz",
    "scrolled": true
   },
   "outputs": [
    {
     "name": "stdout",
     "output_type": "stream",
     "text": [
      "Accuracy :  99.025\n"
     ]
    }
   ],
   "source": [
    "# Compute accuracy - `_accuracy` is a PyTorch Lightning Metric !\n",
    "correct_count, total_count = cpu_model._accuracy(logits=logits, labels=labels)\n",
    "print(\"Accuracy : \", float(correct_count * 100.) / float(total_count))"
   ]
  },
  {
   "cell_type": "markdown",
   "metadata": {},
   "source": [
    "# Add evaluation metrics\n",
    "\n",
    "Here is an example of how to use more metrics (e.g. from pytorch_lightning) to evaluate your result.\n",
    "\n",
    "**Note:** If you would like to add metrics for training and testing, have a look at \n",
    "```python\n",
    "NeMo/nemo/collections/common/metrics\n",
    "```\n"
   ]
  },
  {
   "cell_type": "code",
   "execution_count": 2,
   "metadata": {},
   "outputs": [],
   "source": [
    "from pytorch_lightning.metrics.functional import confusion_matrix"
   ]
  },
  {
   "cell_type": "code",
   "execution_count": 3,
   "metadata": {},
   "outputs": [
    {
     "ename": "NameError",
     "evalue": "name 'logits' is not defined",
     "output_type": "error",
     "traceback": [
      "\u001b[0;31m---------------------------------------------------------------------------\u001b[0m",
      "\u001b[0;31mNameError\u001b[0m                                 Traceback (most recent call last)",
      "\u001b[0;32m<ipython-input-3-c5d1fdfbbfcc>\u001b[0m in \u001b[0;36m<module>\u001b[0;34m\u001b[0m\n\u001b[0;32m----> 1\u001b[0;31m \u001b[0m_\u001b[0m\u001b[0;34m,\u001b[0m \u001b[0mpredictions\u001b[0m \u001b[0;34m=\u001b[0m \u001b[0mlogits\u001b[0m\u001b[0;34m.\u001b[0m\u001b[0mtopk\u001b[0m\u001b[0;34m(\u001b[0m\u001b[0mmax_k\u001b[0m\u001b[0;34m,\u001b[0m \u001b[0mdim\u001b[0m\u001b[0;34m=\u001b[0m\u001b[0;36m1\u001b[0m\u001b[0;34m,\u001b[0m \u001b[0mlargest\u001b[0m\u001b[0;34m=\u001b[0m\u001b[0;32mTrue\u001b[0m\u001b[0;34m,\u001b[0m \u001b[0msorted\u001b[0m\u001b[0;34m=\u001b[0m\u001b[0;32mTrue\u001b[0m\u001b[0;34m)\u001b[0m\u001b[0;34m\u001b[0m\u001b[0;34m\u001b[0m\u001b[0m\n\u001b[0m",
      "\u001b[0;31mNameError\u001b[0m: name 'logits' is not defined"
     ]
    }
   ],
   "source": [
    "_, predictions = logits.topk(max_k, dim=1, largest=True, sorted=True)"
   ]
  },
  {
   "cell_type": "code",
   "execution_count": null,
   "metadata": {},
   "outputs": [],
   "source": [
    "pred = logits.topk()"
   ]
  },
  {
   "cell_type": "code",
   "execution_count": 83,
   "metadata": {
    "scrolled": true
   },
   "outputs": [
    {
     "ename": "NameError",
     "evalue": "name 'target' is not defined",
     "output_type": "error",
     "traceback": [
      "\u001b[0;31m---------------------------------------------------------------------------\u001b[0m",
      "\u001b[0;31mNameError\u001b[0m                                 Traceback (most recent call last)",
      "\u001b[0;32m<ipython-input-83-5ce734d8a5a4>\u001b[0m in \u001b[0;36m<module>\u001b[0;34m\u001b[0m\n\u001b[0;32m----> 1\u001b[0;31m \u001b[0mconfusion_matrix\u001b[0m\u001b[0;34m(\u001b[0m\u001b[0mpred\u001b[0m\u001b[0;34m,\u001b[0m \u001b[0mtarget\u001b[0m\u001b[0;34m)\u001b[0m\u001b[0;34m\u001b[0m\u001b[0;34m\u001b[0m\u001b[0m\n\u001b[0m",
      "\u001b[0;31mNameError\u001b[0m: name 'target' is not defined"
     ]
    }
   ],
   "source": [
    "\n",
    "confusion_matrix(pred, target)"
   ]
  },
  {
   "cell_type": "code",
   "execution_count": 89,
   "metadata": {},
   "outputs": [
    {
     "data": {
      "text/plain": [
       "torch.Size([4000, 2])"
      ]
     },
     "execution_count": 89,
     "metadata": {},
     "output_type": "execute_result"
    }
   ],
   "source": [
    "logits.shape"
   ]
  },
  {
   "cell_type": "code",
   "execution_count": 90,
   "metadata": {},
   "outputs": [
    {
     "data": {
      "text/plain": [
       "torch.Size([4000])"
      ]
     },
     "execution_count": 90,
     "metadata": {},
     "output_type": "execute_result"
    }
   ],
   "source": [
    "labels.shape"
   ]
  },
  {
   "cell_type": "code",
   "execution_count": 87,
   "metadata": {
    "scrolled": false
   },
   "outputs": [
    {
     "ename": "RuntimeError",
     "evalue": "The size of tensor a (4000) must match the size of tensor b (8000) at non-singleton dimension 0",
     "output_type": "error",
     "traceback": [
      "\u001b[0;31m---------------------------------------------------------------------------\u001b[0m",
      "\u001b[0;31mRuntimeError\u001b[0m                              Traceback (most recent call last)",
      "\u001b[0;32m<ipython-input-87-3e53ff634674>\u001b[0m in \u001b[0;36m<module>\u001b[0;34m\u001b[0m\n\u001b[0;32m----> 1\u001b[0;31m \u001b[0mconfusion_matrix\u001b[0m\u001b[0;34m(\u001b[0m\u001b[0mpred\u001b[0m\u001b[0;34m=\u001b[0m\u001b[0mlogits\u001b[0m\u001b[0;34m,\u001b[0m \u001b[0mtarget\u001b[0m\u001b[0;34m=\u001b[0m\u001b[0mlabels\u001b[0m\u001b[0;34m)\u001b[0m\u001b[0;34m\u001b[0m\u001b[0;34m\u001b[0m\u001b[0m\n\u001b[0m",
      "\u001b[0;32m~/anaconda3/envs/vad/lib/python3.7/site-packages/pytorch_lightning/metrics/functional/classification.py\u001b[0m in \u001b[0;36mconfusion_matrix\u001b[0;34m(pred, target, normalize)\u001b[0m\n\u001b[1;32m    261\u001b[0m     \u001b[0mnum_classes\u001b[0m \u001b[0;34m=\u001b[0m \u001b[0mget_num_classes\u001b[0m\u001b[0;34m(\u001b[0m\u001b[0mpred\u001b[0m\u001b[0;34m,\u001b[0m \u001b[0mtarget\u001b[0m\u001b[0;34m,\u001b[0m \u001b[0;32mNone\u001b[0m\u001b[0;34m)\u001b[0m\u001b[0;34m\u001b[0m\u001b[0;34m\u001b[0m\u001b[0m\n\u001b[1;32m    262\u001b[0m \u001b[0;34m\u001b[0m\u001b[0m\n\u001b[0;32m--> 263\u001b[0;31m     \u001b[0munique_labels\u001b[0m \u001b[0;34m=\u001b[0m \u001b[0mtarget\u001b[0m\u001b[0;34m.\u001b[0m\u001b[0mview\u001b[0m\u001b[0;34m(\u001b[0m\u001b[0;34m-\u001b[0m\u001b[0;36m1\u001b[0m\u001b[0;34m)\u001b[0m \u001b[0;34m*\u001b[0m \u001b[0mnum_classes\u001b[0m \u001b[0;34m+\u001b[0m \u001b[0mpred\u001b[0m\u001b[0;34m.\u001b[0m\u001b[0mview\u001b[0m\u001b[0;34m(\u001b[0m\u001b[0;34m-\u001b[0m\u001b[0;36m1\u001b[0m\u001b[0;34m)\u001b[0m\u001b[0;34m\u001b[0m\u001b[0;34m\u001b[0m\u001b[0m\n\u001b[0m\u001b[1;32m    264\u001b[0m \u001b[0;34m\u001b[0m\u001b[0m\n\u001b[1;32m    265\u001b[0m     \u001b[0mbins\u001b[0m \u001b[0;34m=\u001b[0m \u001b[0mtorch\u001b[0m\u001b[0;34m.\u001b[0m\u001b[0mbincount\u001b[0m\u001b[0;34m(\u001b[0m\u001b[0munique_labels\u001b[0m\u001b[0;34m,\u001b[0m \u001b[0mminlength\u001b[0m\u001b[0;34m=\u001b[0m\u001b[0mnum_classes\u001b[0m \u001b[0;34m**\u001b[0m \u001b[0;36m2\u001b[0m\u001b[0;34m)\u001b[0m\u001b[0;34m\u001b[0m\u001b[0;34m\u001b[0m\u001b[0m\n",
      "\u001b[0;31mRuntimeError\u001b[0m: The size of tensor a (4000) must match the size of tensor b (8000) at non-singleton dimension 0"
     ]
    }
   ],
   "source": [
    "pred = \n",
    "confusion_matrix(pred=logits, target=labels)"
   ]
  },
  {
   "cell_type": "markdown",
   "metadata": {
    "colab_type": "text",
    "id": "NwN9OSqCauSH"
   },
   "source": [
    "## Filtering out incorrect samples\n",
    "Let us now filter out the incorrectly labeled samples from the total set of samples in the test set"
   ]
  },
  {
   "cell_type": "code",
   "execution_count": 33,
   "metadata": {
    "colab": {},
    "colab_type": "code",
    "id": "N1YJvsmcZ0uE"
   },
   "outputs": [],
   "source": [
    "import librosa\n",
    "import json\n",
    "import IPython.display as ipd"
   ]
  },
  {
   "cell_type": "code",
   "execution_count": 34,
   "metadata": {
    "colab": {},
    "colab_type": "code",
    "id": "jZAT9yGAayvR"
   },
   "outputs": [],
   "source": [
    "# First lets create a utility class to remap the integer class labels to actual string label\n",
    "class ReverseMapLabel:\n",
    "    def __init__(self, data_loader):\n",
    "        self.label2id = dict(data_loader.dataset.label2id)\n",
    "        self.id2label = dict(data_loader.dataset.id2label)\n",
    "\n",
    "    def __call__(self, pred_idx, label_idx):\n",
    "        return self.id2label[pred_idx], self.id2label[label_idx]"
   ]
  },
  {
   "cell_type": "code",
   "execution_count": 35,
   "metadata": {
    "colab": {},
    "colab_type": "code",
    "id": "X3GSXvYHa4KJ"
   },
   "outputs": [
    {
     "name": "stderr",
     "output_type": "stream",
     "text": [
      "[NeMo W 2020-08-25 23:02:01 nemo_logging:349] /home/fjia/anaconda3/envs/vad/lib/python3.7/site-packages/ipykernel_launcher.py:10: UserWarning: This overload of nonzero is deprecated:\n",
      "    \tnonzero()\n",
      "    Consider using one of the following signatures instead:\n",
      "    \tnonzero(*, bool as_tuple) (Triggered internally at  /opt/conda/conda-bld/pytorch_1595629427478/work/torch/csrc/utils/python_arg_parser.cpp:766.)\n",
      "      # Remove the CWD from sys.path while we load stuff.\n",
      "    \n"
     ]
    },
    {
     "name": "stdout",
     "output_type": "stream",
     "text": [
      "Num test samples : 4000.0\n",
      "Num errors : 39\n"
     ]
    }
   ],
   "source": [
    "# Next, lets get the indices of all the incorrectly labeled samples\n",
    "sample_idx = 0\n",
    "incorrect_preds = []\n",
    "rev_map = ReverseMapLabel(test_dl)\n",
    "\n",
    "# Remember, evaluated_tensor = (loss, logits, labels)\n",
    "probs = torch.softmax(logits, dim=-1)\n",
    "probas, preds = torch.max(probs, dim=-1)\n",
    "\n",
    "incorrect_ids = (preds != labels).nonzero()\n",
    "for idx in incorrect_ids:\n",
    "    proba = float(probas[idx][0])\n",
    "    pred = int(preds[idx][0])\n",
    "    label = int(labels[idx][0])\n",
    "    idx = int(idx[0]) + sample_idx\n",
    "\n",
    "    incorrect_preds.append((idx, *rev_map(pred, label), proba))\n",
    "\n",
    "print(f\"Num test samples : {total_count.item()}\")\n",
    "print(f\"Num errors : {len(incorrect_preds)}\")\n",
    "\n",
    "# First lets sort by confidence of prediction\n",
    "incorrect_preds = sorted(incorrect_preds, key=lambda x: x[-1], reverse=False)"
   ]
  },
  {
   "cell_type": "markdown",
   "metadata": {
    "colab_type": "text",
    "id": "0JgGo71gcDtD"
   },
   "source": [
    "## Examine a subset of incorrect samples\n",
    "Let's print out the (test id, predicted label, ground truth label, confidence) tuple of first 20 incorrectly labeled samples"
   ]
  },
  {
   "cell_type": "code",
   "execution_count": 43,
   "metadata": {
    "colab": {},
    "colab_type": "code",
    "id": "x37wNJsNbcw0"
   },
   "outputs": [
    {
     "name": "stdout",
     "output_type": "stream",
     "text": [
      "(3156, 'background', 'speech', 0.7270654439926147)\n",
      "(3557, 'background', 'speech', 0.7274996638298035)\n",
      "(3979, 'background', 'speech', 0.7600748538970947)\n",
      "(3599, 'background', 'speech', 0.9448409676551819)\n",
      "(3370, 'background', 'speech', 0.9485548138618469)\n",
      "(3027, 'background', 'speech', 0.9552394151687622)\n",
      "(3999, 'background', 'speech', 0.9569714665412903)\n",
      "(3456, 'background', 'speech', 0.9575883746147156)\n",
      "(3054, 'background', 'speech', 0.9596822261810303)\n",
      "(3614, 'background', 'speech', 0.9645829200744629)\n",
      "(3265, 'background', 'speech', 0.9671289920806885)\n",
      "(3330, 'background', 'speech', 0.9673179388046265)\n",
      "(3267, 'background', 'speech', 0.9676496386528015)\n",
      "(3925, 'background', 'speech', 0.9678117632865906)\n",
      "(3608, 'background', 'speech', 0.9701297283172607)\n",
      "(3118, 'background', 'speech', 0.972405195236206)\n",
      "(3989, 'background', 'speech', 0.9731476902961731)\n",
      "(3793, 'background', 'speech', 0.9735272526741028)\n",
      "(3272, 'background', 'speech', 0.974219560623169)\n",
      "(3702, 'background', 'speech', 0.9742209315299988)\n"
     ]
    }
   ],
   "source": [
    "for incorrect_sample in incorrect_preds[:20]:\n",
    "    print(str(incorrect_sample))"
   ]
  },
  {
   "cell_type": "markdown",
   "metadata": {
    "colab_type": "text",
    "id": "tDnwYsDKcLv9"
   },
   "source": [
    "##  Define a threshold below which we designate a model's prediction as \"low confidence\""
   ]
  },
  {
   "cell_type": "code",
   "execution_count": 64,
   "metadata": {
    "colab": {},
    "colab_type": "code",
    "id": "dpvzeh4PcGJs"
   },
   "outputs": [
    {
     "name": "stdout",
     "output_type": "stream",
     "text": [
      "Number of low confidence predictions : 3\n"
     ]
    }
   ],
   "source": [
    "# Filter out how many such samples exist\n",
    "low_confidence_threshold = 0.8\n",
    "count_low_confidence = len(list(filter(lambda x: x[-1] <= low_confidence_threshold, incorrect_preds)))\n",
    "print(f\"Number of low confidence predictions : {count_low_confidence}\")"
   ]
  },
  {
   "cell_type": "markdown",
   "metadata": {
    "colab_type": "text",
    "id": "ERXyXvCAcSKR"
   },
   "source": [
    "## Lets hear the samples which the model has least confidence in !"
   ]
  },
  {
   "cell_type": "code",
   "execution_count": 65,
   "metadata": {
    "colab": {},
    "colab_type": "code",
    "id": "kxjNVjX8cPNP"
   },
   "outputs": [],
   "source": [
    "# First lets create a helper function to parse the manifest files\n",
    "def parse_manifest(manifest):\n",
    "    data = []\n",
    "    for line in manifest:\n",
    "        line = json.loads(line)\n",
    "        data.append(line)\n",
    "\n",
    "    return data"
   ]
  },
  {
   "cell_type": "code",
   "execution_count": 66,
   "metadata": {
    "colab": {},
    "colab_type": "code",
    "id": "IWxqw5k-cUVd"
   },
   "outputs": [],
   "source": [
    "# Next, lets create a helper function to actually listen to certain samples\n",
    "def listen_to_file(sample_id, pred=None, label=None, proba=None):\n",
    "    # Load the audio waveform using librosa\n",
    "    filepath = test_samples[sample_id]['audio_filepath']\n",
    "    if 'offset' in test_samples[sample_id]:\n",
    "        audio, sample_rate = librosa.load(filepath,\n",
    "                                          offset = test_samples[sample_id]['offset'],\n",
    "                                          duration = test_samples[sample_id]['duration'])\n",
    "    else:\n",
    "         audio, sample_rate = librosa.load(filepath)\n",
    "\n",
    "    if pred is not None and label is not None and proba is not None:\n",
    "        print(f\"filepath: {filepath}, Sample : {sample_id} Prediction : {pred} Label : {label} Confidence = {proba: 0.4f}\")\n",
    "    else:\n",
    "        \n",
    "        print(f\"Sample : {sample_id}\")\n",
    "\n",
    "    return ipd.Audio(audio, rate=sample_rate)\n"
   ]
  },
  {
   "cell_type": "code",
   "execution_count": 67,
   "metadata": {
    "colab": {},
    "colab_type": "code",
    "id": "HPj1tFNIcXaU"
   },
   "outputs": [
    {
     "name": "stdout",
     "output_type": "stream",
     "text": [
      "data/manifest/balanced_background_testing_manifest.json\n",
      "data/manifest/balanced_speech_testing_manifest.json\n",
      "4000\n"
     ]
    }
   ],
   "source": [
    "import json\n",
    "# Now lets load the test manifest into memory\n",
    "all_test_samples = []\n",
    "for _ in test_dataset.split(','):\n",
    "    print(_)\n",
    "    with open(_, 'r') as test_f:\n",
    "        test_samples = test_f.readlines()\n",
    "        \n",
    "        all_test_samples.extend(test_samples)\n",
    "print(len(all_test_samples))\n",
    "test_samples = parse_manifest(all_test_samples)"
   ]
  },
  {
   "cell_type": "code",
   "execution_count": 68,
   "metadata": {
    "colab": {},
    "colab_type": "code",
    "id": "Nt7b_uiScZcC"
   },
   "outputs": [
    {
     "name": "stdout",
     "output_type": "stream",
     "text": [
      "filepath: data/google_dataset_v2/google_speech_recognition_v2/_background_noise_more/running_tap.wav_713000.wav, Sample : 3156 Prediction : background Label : speech Confidence =  0.7271\n"
     ]
    },
    {
     "data": {
      "text/html": [
       "\n",
       "                <audio  controls=\"controls\" >\n",
       "                    <source src=\"data:audio/wav;base64,UklGRqxsAABXQVZFZm10IBAAAAABAAEAIlYAAESsAAACABAAZGF0YYhsAAAAAAAAAAAAAAAAAAAAAAAAAAAAAAAAAAAAAAAAAAAAAAAAAAAAAAAAAAAAAAAAAAAAAAAAAAAAAAAAAAAAAAAAAAAAAAAAAAAAAAAAAAAAAAAAAAAAAAAAAAAAAAAAAAAAAAAAAAAAAAAAAAAAAAAAAAAAAAAAAAAAAAAAAAAAAAAAAAAAAAAAAAAAAAAAAAAAAAAAAAAAAAAAAAAAAAAAAAAAAAAAAAAAAAAAAAAAAAAAAAAAAAAAAAAAAAAAAAAAAAAAAAAAAAAAAAAAAAAAAAAAAAAAAAAAAAAAAAAAAAAAAAAAAAAAAAAAAAAAAAAAAAAAAAAAAAAAAAAAAAAAAAAAAAAAAAAAAAAAAAAAAAAAAAAAAAAAAAAAAAAAAAAAAAAAAAAAAAAAAAAAAAAAAAAAAAAAAAAAAAAAAAAAAAAAAAAAAAAAAAAAAAAAAAAAAAAAAAAAAAAAAAAAAAAAAAAAAAAAAAAAAAAAAAAAAAAAAAAAAAAAAAAAAAAAAAAAAAAAAAAAAAAAAAAAAAAAAAAAAAAAAAAAAAAAAAAAAAAAAAAAAAAAAAAAAAAAAAAAAAAAAAAAAAAAAAAAAAAAAAAAAAAAAAAAAAAAAAAAAAAAAAAAAAAAAAAAAAAAAAAAAAAAAAAAAAAAAAAAAAAAAAAAAAAAAAAAAAAAAAAAAAAAAAAAAAAAAAAAAAAAAAAAAAAAAAAAAAAAAAAAAAAAAAAAAAAAAAAAAAAAAAAAAAAAAAAAAAAAAAAAAAAAAAAAAAAAAAAAAAAAAAAAAAAAAAAAAAAAAAAAAAAAAAAAAAAAAAAAAAAAAAAAAAAAAAAAAAAAAAAAAAAAAAAAAAAAAAAAAAAAAAAAAAAAAAAAAAAAAAAAAAAAAAAAAAAAAAAAAAAAAAAAAAAAAAAAAAAAAAAAAAAAAAAAAAAAAAAAAAAAAAAAAAAAAAAAAAAAAAAAAAAAAAAAAAAAAAAAAAAAAAAAAAAAAAAAAAAAAAAAAAAAAAAAAAAAAAAAAAAAAAAAAAAAAAAAAAAAAAAAAAAAAAAAAAAAAAAAAAAAAAAAAAAAAAAAAAAAAAAAAAAAAAAAAAAAAAAAAAAAAAAAAAAAAAAAAAAAAAAAAAAAAAAAAAAAAAAAAAAAAAAAAAAAAAAAAAAAAAAAAAAAAAAAAAAAAAAAAAAAAAAAAAAAAAAAAAAAAAAAAAAAAAAAAAAAAAAAAAAAAAAAAAAAAAAAAAAAAAAAAAAAAAAAAAAAAAAAAAAAAAAAAAAAAAAAAAAAAAAAAAAAAAAAAAAAAAAAAAAAAAAAAAAAAAAAAAAAAAAAAAAAAAAAAAAAAAAAAAAAAAAAAAAAAAAAAAAAAAAAAAAAAAAAAAAAAAAAAAAAAAAAAAAAAAAAAAAAAAAAAAAAAAAAAAAAAAAAAAAAAAAAAAAAAAAAAAAAAAAAAAAAAAAAAAAAAAAAAAAAAAAAAAAAAAAAAAAAAAAAAAAAAAAAAAAAAAAAAAAAAAAAAAAAAAAAAAAAAAAAAAAAAAAAAAAAAAAAAAAAAAAAAAAAAAAAAAAAAAAAAAAAAAAAAAAAAAAAAAAAAAAAAAAAAAAAAAAAAAAAAAAAAAAAAAAAAAAAAAAAAAAAAAAAAAAAAAAAAAAAAAAAAAAAAAAAAAAAAAAAAAAAAAAAAAAAAAAAAAAAAAAAAAAAAAAAAAAAAAAAAAAAAAAAAAAAAAAAAAAAAAAAAAAAAAAAAAAAAAAAAAAAAAAAAAAAAAAAAAAAAAAAAAAAAAAAAAAAAAAAAAAAAAAAAAAAAAAAAAAAAAAAAAAAAAAAAAAAAAAAAAAAAAAAAAAAAAAAAAAAAAAAAAAAAAAAAAAAAAAAAAAAAAAAAAAAAAAAAAAAAAAAAAAAAAAAAAAAAAAAAAAAAAAAAAAAAAAAAAAAAAAAAAAAAAAAAAAAAAAAAAAAAAAAAAAAAAAAAAAAAAAAAAAAAAAAAAAAAAAAAAAAAAAAAAAAAAAAAAAAAAAAAAAAAAAAAAAAAAAAAAAAAAAAAAAAAAAAAAAAAAAAAAAAAAAAAAAAAAAAAAAAAAAAAAAAAAAAAAAAAAAAAAAAAAAAAAAAAAAAAAAAAAAAAAAAAAAAAAAAAAAAAAAAAAAAAAAAAAAAAAAAAAAAAAAAAAAAAAAAAAAAAAAAAAAAAAAAAAAAAAAAAAAAAAAAAAAAAAAAAAAAAAAAAAAAAAAAAAAAAAAAAAAAAAAAAAAAAAAAAAAAAAAAAAAAAAAAAAAAAAAAAAAAAAAAAAAAAAAAAAAAAAAAAAAAAAAAAAAAAAAAAAAAAAAAAAAAAAAAAAAAAAAAAAAAAAAAAAAAAAAAAAAAAAAAAAAAAAAAAAAAAAAAAAAAAAAAAAAAAAAAAAAAAAAAAAAAAAAAAAAAAAAAAAAAAAAAAAAAAAAAAAAAAAAAAAAAAAAAAAAAAAAAAAAAAAAAAAAAAAAAAAAAAAAAAAAAAAAAAAAAAAAAAAAAAAAAAAAAAAAAAAAAAAAAAAAAAAAAAAAAAAAAAAAAAAAAAAAAAAAAAAAAAAAAAAAAAAAAAAAAAAAAAAAAAAAAAAAAAAAAAAAAAAAAAAAAAAAAAAAAAAAAAAAAAAAAAAAAAAAAAAAAAAAAAAAAAAAAAAAAAAAAAAAAAAAAAAAAAAAAAAAAAAAAAAAAAAAAAAAAAAAAAAAAAAAAAAAAAAAAAAAAAAAAAAAAAAAAAAAAAAAAAAAAAAAAAAAAAAAAAAAAAAAAAAAAAAAAAAAAAAAAAAAAAAAAAAAAAAAAAAAAAAAAAAAAAAAAAAAAAAAAAAAAAAAAAAAAAAAAAAAAAAAAAAAAAAAAAAAAAAAAAAAAAAAAAAAAAAAAAAAAAAAAAAAAAAAAAAAAAAAAAAAAAAAAAAAAAAAAAAAAAAAAAAAAAAAAAAAAAAAAAAAAAAAAAAAAAAAAAAAAAAAAAAAAAAAAAAAAAAAAAAAAAAAAAAAAAAAAAAAAAAAAAAAAAAAAAAAAAAAAAAAAAAAAAAAAAAAAAAAAAAAAAAAAAAAAAAAAAAAAAAAAAAAAAAAAAAAAAAAAAAAAAAAAAAAAAAAAAAAAAAAAAAAAAAAAAAAAAAAAAAAAAAAAAAAAAAAAAAAAAAAAAAAAAAAAAAAAAAAAAAAAAAAAAAAAAAAAAAAAAAAAAAAAAAAAAAAAAAAAAAAAAAAAAAAAAAAAAAAAAAAAAAAAAAAAAAAAAAAAAAAAAAAAAAAAAAAAAAAAAAAAAAAAAAAAAAAAAAAAAAAAAAAAAAAAAAAAAAAAAAAAAAAAAAAAAAAAAAAAAAAAAAAAAAAAAAAAAAAAAAAAAAAAAAAAAAAAAAAAAAAAAAAAAAAAAAAAAAAAAAAAAAAAAAAAAAAAAAAAAAAAAAAAAAAAAAAAAAAAAAAAAAAAAAAAAAAAAAAAAAAAAAAAAAAAAAAAAAAAAAAAAAAAAAAAAAAAAAAAAAAAAAAAAAAAAAAAAAAAAAAAAAAAAAAAAAAAAAAAAAAAAAAAAAAAAAAAAAAAAAAAAAAAAAAAAAAAAAAAAAAAAAAAAAAAAAAAAAAAAAAAAAAAAAAAAAAAAAAAAAAAAAAAAAAAAAAAAAAAAAAAAAAAAAAAAAAAAAAAAAAAAAAAAAAAAAAAAAAAAAAAAAAAAAAAAAAAAAAAAAAAAAAAAAAAAAAAAAAAAAAAAAAAAAAAAAAAAAAAAAAAAAAAAAAAAAAAAAAAAAAAAAAAAAAAAAAAAAAAAAAAAAAAAAAAAAAAAAAAAAAAAAAAAAAAAAAAAAAAAAAAAAAAAAAAAAAAAAAAAAAAAAAAAAAAAAAAAAAAAAAAAAAAAAAAAAAAAAAAAAAAAAAAAAAAAAAAAAAAAAAAAAAAAAAAAAAAAAAAAAAAAAAAAAAAAAAAAAAAAAAAAAAAAAAAAAAAAAAAAAAAAAAAAAAAAAAAAAAAAAAAAAAAAAAAAAAAAAAAAAAAAAAAAAAAAAAAAAAAAAAAAAAAAAAAAAAAAAAAAAAAAAAAAAAAAAAAAAAAAAAAAAAAAAAAAAAAAAAAAAAAAAAAAAAAAAAAAAAAAAAAAAAAAAAAAAAAAAAAAAAAAAAAAAAAAAAAAAAAAAAAAAAAAAAAAAAAAAAAAAAAAAAAAAAAAAAAAAAAAAAAAAAAAAAAAAAAAAAAAAAAAAAAAAAAAAAAAAAAAAAAAAAAAAAAAAAAAAAAAAAAAAAAAAAAAAAAAAAAAAAAAAAAAAAAAAAAAAAAAAAAAAAAAAAAAAAAAAAAAAAAAAAAAAAAAAAAAAAAAAAAAAAAAAAAAAAAAAAAAAAAAAAAAAAAAAAAAAAAAAAAAAAAAAAAAAAAAAAAAAAAAAAAAAAAAAAAAAAAAAAAAAAAAAAAAAAAAAAAAAAAAAAAAAAAAAAAAAAAAAAAAAAAAAAAAAAAAAAAAAAAAAAAAAAAAAAAAAAAAAAAAAAAAAAAAAAAAAAAAAAAAAAAAAAAAAAAAAAAAAAAAAAAAAAAAAAAAAAAAAAAAAAAAAAAAAAAAAAAAAAAAAAAAAAAAAAAAAAAAAAAAAAAAAAAAAAAAAAAAAAAAAAAAAAAAAAAAAAAAAAAAAAAAAAAAAAAAAAAAAAAAAAAAAAAAAAAAAAAAAAAAAAAAAAAAAAAAAAAAAAAAAAAAAAAAAAAAAAAAAAAAAAAAAAAAAAAAAAAAAAAAAAAAAAAAAAAAAAAAAAAAAAAAAAAAAAAAAAAAAAAAAAAAAAAAAAAAAAAAAAAAAAAAAAAAAAAAAAAAAAAAAAAAAAAAAAAAAAAAAAAAAAAAAAAAAAAAAAAAAAAAAAAAAAAAAAAAAAAAAAAAAAAAAAAAAAAAAAAAAAAAAAAAAAAAAAAAAAAAAAAAAAAAAAAAAAAAAAAAAAAAAAAAAAAAAAAAAAAAAAAAAAAAAAAAAAAAAAAAAAAAAAAAAAAAAAAAAAAAAAAAAAAAAAAAAAAAAAAAAAAAAAAAAAAAAAAAAAAAAAAAAAAAAAAAAAAAAAAAAAAAAAAAAAAAAAAAAAAAAAAAAAAAAAAAAAAAAAAAAAAAAAAAAAAAAAAAAAAAAAAAAAAAAAAAAAAAAAAAAAAAAAAAAAAAAAAAAAAAAAAAAAAAAAAAAAAAAAAAAAAAAAAAAAAAAAAAAAAAAAAAAAAAAAAAAAAAAAAAAAAAAAAAAAAAAAAAAAAAAAAAAAAAAAAAAAAAAAAAAAAAAAAAAAAAAAAAAAAAAAAAAAAAAAAAAAAAAAAAAAAAAAAAAAAAAAAAAAAAAAAAAAAAAAAAAAAAAAAAAAAAAAAAAAAAAAAAAAAAAAAAAAAAAAAAAAAAAAAAAAAAAAAAAAAAAAAAAAAAAAAAAAAAAAAAAAAAAAAAAAAAAAAAAAAAAAAAAAAAAAAAAAAAAAAAAAAAAAAAAAAAAAAAAAAAAAAAAAAAAAAAAAAAAAAAAAAAAAAAAAAAAAAAAAAAAAAAAAAAAAAAAAAAAAAAAAAAAAAAAAAAAAAAAAAAAAAAAAAAAAAAAAAAAAAAAAAAAAAAAAAAAAAAAAAAAAAAAAAAAAAAAAAAAAAAAAAAAAAAAAAAAAAAAAAAAAAAAAAAAAAAAAAAAAAAAAAAAAAAAAAAAAAAAAAAAAAAAAAAAAAAAAAAAAAAAAAAAAAAAAAAAAAAAAAAAAAAAAAAAAAAAAAAAAAAAAAAAAAAAAAAAAAAAAAAAAAAAAAAAAAAAAAAAAAAAAAAAAAAAAAAAAAAAAAAAAAAAAAAAAAAAAAAAAAAAAAAAAAAAAAAAAAAAAAAAAAAAAAAAAAAAAAAAAAAAAAAAAAAAAAAAAAAAAAAAAAAAAAAAAAAAAAAAAAAAAAAAAAAAAAAAAAAAAAAAAAAAAAAAAAAAAAAAAAAAAAAAAAAAAAAAAAAAAAAAAAAAAAAAAAAAAAAAAAAAAAAAAAAAAAAAAAAAAAAAAAAAAAAAAAAAAAAAAAAAAAAAAAAAAAAAAAAAAAAAAAAAAAAAAAAAAAAAAAAAAAAAAAAAAAAAAAAAAAAAAAAAAAAAAAAAAAAAAAAAAAAAAAAAAAAAAAAAAAAAAAAAAAAAAAAAAAAAAAAAAAAAAAAAAAAAAAAAAAAAAAAAAAAAAAAAAAAAAAAAAAAAAAAAAAAAAAAAAAAAAAAAAAAAAAAAAAAAAAAAAAAAAAAAAAAAAAAAAAAAAAAAAAAAAAAAAAAAAAAAAAAAAAAAAAAAAAAAAAAAAAAAAAAAAAAAAAAAAAAAAAAAAAAAAAAAAAAAAAAAAAAAAAAAAAAAAAAAAAAAAAAAAAAAAAAAAAAAAAAAAAAAAAAAAAAAAAAAAAAAAAAAAAAAAAAAAAAAAAAAAAAAAAAAAAAAAAAAAAAAAAAAAAAAAAAAAAAAAAAAAAAAAAAAAAAAAAAAAAAAAAAAAAAAAAAAAAAAAAAAAAAAAAAAAAAAAAAAAAAAAAAAAAAAAAAAAAAAAAAAAAAAAAAAAAAAAAAAAAAAAAAAAAAAAAAAAAAAAAAAAAAAAAAAAAAAAAAAAAAAAAAAAAAAAAAAAAAAAAAAAAAAAAAAAAAAAAAAAAAAAAAAAAAAAAAAAAAAAAAAAAAAAAAAAAAAAAAAAAAAAAAAAAAAAAAAAAAAAAAAAAAAAAAAAAAAAAAAAAAAAAAAAAAAAAAAAAAAAAAAAAAAAAAAAAAAAAAAAAAAAAAAAAAAAAAAAAAAAAAAAAAAAAAAAAAAAAAAAAAAAAAAAAAAAAAAAAAAAAAAAAAAAAAAAAAAAAAAAAAAAAAAAAAAAAAAAAAAAAAAAAAAAAAAAAAAAAAAAAAAAAAAAAAAAAAAAAAAAAAAAAAAAAAAAAAAAAAAAAAAAAAAAAAAAAAAAAAAAAAAAAAAAAAAAAAAAAAAAAAAAAAAAAAAAAAAAAAAAAAAAAAAAAAAAAAAAAAAAAAAAAAAAAAAAAAAAAAAAAAAAAAAAAAAAAAAAAAAAAAAAAAAAAAAAAAAAAAAAAAAAAAAAAAAAAAAAAAAAAAAAAAAAAAAAAAAAAAAAAAAAAAAAAAAAAAAAAAAAAAAAAAAAAAAAAAAAAAAAAAAAAAAAAAAAAAAAAAAAAAAAAAAAAAAAAAAAAAAAAAAAAAAAAAAAAAAAAAAAAAAAAAAAAAAAAAAAAAAAAAAAAAAAAAAAAAAAAAAAAAAAAAAAAAAAAAAAAAAAAAAAAAAAAAAAAAAAAAAAAAAAAAAAAAAAAAAAAAAAAAAAAAAAAAAAAAAAAAAAAAAAAAAAAAAAAAAAAAAAAAAAAAAAAAAAAAAAAAAAAAAAAAAAAAAAAAAAAAAAAAAAAAAAAAAAAAAAAAAAAAAAAAAAAAAAAAAAAAAAAAAAAAAAAAAAAAAAAAAAAAAAAAAAAAAAAAAAAAAAAAAAAAAAAAAAAAAAAAAAAAAAAAAAAAAAAAAAAAAAAAAAAAAAAAAAAAAAAAAAAAAAAAAAAAAAAAAAAAAAAAAAAAAAAAAAAAAAAAAAAAAAAAAAAAAAAAAAAAAAAAAAAAAAAAAAAAAAAAAAAAAAAAAAAAAAAAAAAAAAAAAAAAAAAAAAAAAAAAAAAAAAAAAAAAAAAAAAAAAAAAAAAAAAAAAAAAAAAAAAAAAAAAAAAAAAAAAAAAAAAAAAAAAAAAAAAAAAAAAAAAAAAAAAAAAAAAAAAAAAAAAAAAAAAAAAAAAAAAAAAAAAAAAAAAAAAAAAAAAAAAAAAAAAAAAAAAAAAAAAAAAAAAAAAAAAAAAAAAAAAAAAAAAAAAAAAAAAAAAAAAAAAAAAAAAAAAAAAAAAAAAAAAAAAAAAAAAAAAAAAAAAAAAAAAAAAAAAAAAAAAAAAAAAAAAAAAAAAAAAAAAAAAAAAAAAAAAAAAAAAAAAAAAAAAAAAAAAAAAAAAAAAAAAAAAAAAAAAAAAAAAAAAAAAAAAAAAAAAAAAAAAAAAAAAAAAAAAAAAAAAAAAAAAAAAAAAAAAAAAAAAAAAAAAAAAAAAAAAAAAAAAAAAAAAAAAAAAAAAAAAAAAAAAAAAAAAAAAAAAAAAAAAAAAAAAAAAAAAAAAAAAAAAAAAAAAAAAAAAAAAAAAAAAAAAAAAAAAAAAAAAAAAAAAAAAAAAAAAAAAAAAAAAAAAAAAAAAAAAAAAAAAAAAAAAAAAAAAAAAAAAAAAAAAAAAAAAAAAAAAAAAAAAAAAAAAAAAAAAAAAAAAAAAAAAAAAAAAAAAAAAAAAAAAAAAAAAAAAAAAAAAAAAAAAAAAAAAAAAAAAAAAAAAAAAAAAAAAAAAAAAAAAAAAAAAAAAAAAAAAAAAAAAAAAAAAAAAAAAAAAAAAAAAAAAAAAAAAAAAAAAAAAAAAAAAAAAAAAAAAAAAAAAAAAAAAAAAAAAAAAAAAAAAAAAAAAAAAAAAAAAAAAAAAAAAAAAAAAAAAAAAAAAAAAAAAAAAAAAAAAAAAAAAAAAAAAAAAAAAAAAAAAAAAAAAAAAAAAAAAAAAAAAAAAAAAAAAAAAAAAAAAAAAAAAAAAAAAAAAAAAAAAAAAAAAAAAAAAAAAAAAAAAAAAAAAAAAAAAAAAAAAAAAAAAAAAAAAAAAAAAAAAAAAAAAAAAAAAAAAAAAAAAAAAAAAAAAAAAAAAAAAAAAAAAAAAAAAAAAAAAAAAAAAAAAAAAAAAAAAAAAAAAAAAAAAAAAAAAAAAAAAAAAAAAAAAAAAAAAAAAAAAAAAAAAAAAAAAAAAAAAAAAAAAAAAAAAAAAAAAAAAAAAAAAAAAAAAAAAAAAAAAAAAAAAAAAAAAAAAAAAAAAAAAAAAAAAAAAAAAAAAAAAAAAAAAAAAAAAAAAAAAAAAAAAAAAAAAAAAAAAAAAAAAAAAAAAAAAAAAAAAAAAAAAAAAAAAAAAAAAAAAAAAAAAAAAAAAAAAAAAAAAAAAAAAAAAAAAAAAAAAAAAAAAAAAAAAAAAAAAAAAAAAAAAAAAAAAAAAAAAAAAAAAAAAAAAAAAAAAAAAAAAAAAAAAAAAAAAAAAAAAAAAAAAAAAAAAAAAAAAAAQAAAP//AAAAAAAAAAAAAAAAAAAAAAAAAAAAAAAAAAAAAAAAAAAAAAAAAAAAAAAAAAAAAAAAAAAAAAAAAAAAAAAAAAAAAAAAAAAAAAAAAAAAAAAAAAAAAAAAAAAAAAAAAAAAAAAAAAAAAAAAAAAAAAAAAAAAAAAAAAAAAAAAAAAAAAAAAAAAAAAAAAAAAAAAAAAAAAAAAAAAAAAAAAAAAAAAAAAAAAAAAAAAAAAAAAAAAAAAAAAAAAAAAAAAAAAAAAAAAAAAAAAAAAAAAAAAAAAAAAAAAAAAAAAAAAAAAAAAAAAAAAAAAAAAAAAAAAAAAAAAAAAAAAAAAAAAAAAAAAAAAAAAAAAAAAAAAAAAAAAAAAAAAAAAAAAAAAAAAAAAAAAAAAAAAAAAAAAAAAAAAAAAAQAAAAAAAAAAAAAAAAAAAAAAAAAAAAAAAAAAAAAAAAAAAAAAAAAAAAAAAAAAAAAAAAAAAAAAAAAAAAAAAAAAAAAAAAAAAAAAAAAAAAAAAAAAAAAAAAAAAAAAAAAAAAAAAAAAAAAAAAAAAAAAAAAAAAAAAAAAAAAAAAAAAAAAAAAAAAAAAAAAAAAAAAAAAAAAAAAAAAAAAAAAAAAAAAAAAAAAAAAAAAAAAAAAAAAAAAAAAAAAAAAAAAAAAAAAAP//AAAAAAAAAAAAAAAAAAAAAAAAAAAAAAAAAAAAAAAAAAAAAAAAAAAAAAAAAAAAAAAAAAAAAAAAAAAAAAAAAAAAAAAAAAAAAAAAAAAAAAAAAAAAAAAAAAAAAAAAAAAAAAAAAAAAAAAAAAAAAAAAAAAAAAAAAAAAAAAAAAAAAAAAAAAAAAAAAAAAAAAAAAAAAAAAAAAAAAAAAAAAAAAAAAAAAAAAAAAAAAAAAAAAAAAAAAAAAAAAAAAAAAAAAAAAAAAAAAAAAAAAAAAAAAAAAAAAAAAAAAAAAAAAAAAAAAAAAAAAAAAAAAAAAAAAAAAAAAAAAAAAAAAAAAAAAAAAAAAAAAAAAAAAAAAAAAAAAAAAAAAAAAAAAAAAAAAAAAAAAAAAAAAAAAAAAAAAAAAAAAAAAAAAAAAAAAAAAAAAAAAAAAAAAAAAAAAAAAAAAAAAAAAAAAAAAAAAAAAAAAAAAAAAAAAAAAAAAAAAAAAAAAAAAAAAAAAAAAAAAAAAAAAAAAAAAAAAAAAAAAAAAAAAAAAAAAAAAAAAAAAAAAAAAAAAAAAAAAAAAAAAAAAAAAAAAAAAAAAAAAAAAAAAAAAAAAAAAAAAAAAAAAAAAAAAAAAAAAAAAAAAAAAAAAAAAAAAAAAAAAAAAAAAAAAAAAAAAAAAAAAAAAAAAAAAAAAAAAAAAAAAAAAAAAAAAAAAAAAAAAAAAAAAAAAAAAAAAAAAAAAAAAAAAAAAAP//AAAAAAEAAAAAAAAAAAAAAAAAAAAAAAEAAAAAAAAAAAAAAAAAAAAAAAAAAAAAAAAAAAAAAAAAAAAAAAAAAAAAAAAAAAAAAAAAAAAAAAAAAAAAAAAAAAAAAAAAAAAAAAAAAAAAAAAAAAAAAAAAAAAAAAAAAAAAAAAAAAAAAAAAAAAAAAAAAAAAAAAAAAAAAAAAAAAAAAAAAAAAAAAAAAAAAAAAAAAAAAAAAAAAAAAAAAAAAAAAAAAAAAAAAAAAAAAAAAAAAAAAAAAAAAAAAAAAAAAAAAAAAAAAAAAAAAAAAAAAAAAAAAAAAAAAAAAAAAAAAAAAAAAAAAAAAAAAAAAAAAAAAAAAAAAAAAAAAAAAAAAAAAAAAAAAAAAAAAAAAAAAAAAAAAAAAAAAAAAAAAAAAAAAAAAAAAAAAAAAAAAAAAAAAAAAAAAAAAAAAAAAAAAAAAAAAAAAAAAAAAAAAAAAAAAAAAAAAAAAAAAAAAAAAAAAAAAAAAAAAAAAAAAAAAAAAAAAAAAAAAAAAAAAAAAAAAAAAAAAAAAAAAAAAAAAAAAAAAAAAAAAAAAAAAAAAAAAAAAAAAAAAAAAAAAAAAAAAAAAAAAAAAAAAAAAAAAAAAAAAAAAAAAAAAAAAAAAAAAAAAAAAAAAAAAAAAAAAAAAAAAAAAAAAAAAAAAAAAAAAAAAAAAAAAAAAAAAAAAAAAAAAAABAAEAAAD//wAAAAAAAAAAAAAAAAAAAAAAAAAAAAAAAAAAAAAAAAAAAAAAAAAAAAAAAAAAAAAAAAAAAAAAAAAAAAAAAAAAAAAAAAAAAAAAAAAAAAAAAAAAAAAAAAAAAAAAAAAAAAAAAAAAAAAAAAAAAAAAAAAAAAAAAAAAAAAAAAAAAAAAAAAAAAAAAAAAAAAAAAAAAAAAAAAAAAAAAAAAAAAAAAAAAAAAAAAAAAAAAAAAAAAAAAAAAAAAAAAAAAAAAAAAAAAAAAAAAAAAAAAAAAAAAAAAAAAAAAAAAAAAAAAAAAAAAAAAAAAAAAAAAAAAAAAAAAAAAAAAAAAAAAAAAAAAAAAAAAAAAAAAAAAAAAAAAAAAAAAAAAAAAAAAAAAAAAAAAAAAAAAAAAAAAAAAAAAAAAAAAAAAAAAAAAAAAAAAAAAAAAAAAAAAAAAAAAAAAAAAAAAAAAAAAAAAAAAAAAAAAAAAAAAAAAAAAAAAAAAAAAAAAAAAAAAAAAAAAAAAAAAAAAAAAAAAAAAAAAAAAAAAAAAAAAAAAAAAAAAAAAAAAAAAAAAAAAAAAAAAAAAAAAAAAAAAAAAAAAAAAAAAAAAAAAAAAAAAAAAAAAAAAAAAAAAAAAAAAAAAAAAAAAAAAAAAAAAAAAAAAAAAAAAAAAAAAAAAAAAAAAAAAAAAAAAAAAAAAAAAAAAAAAAAAAAAAAAAAAAAAAAAAAAAAAAAAAAAAAAAAAAAAAAAAAAAAAAAAAAAAAAAAAAAAAAAAAAAAAAAAQAAAAAAAQAAAP//AwD9//P//f8IAAwAFgAJAOz//P8ZAAYA8//+/wsAKAA7ABYA9/8MABwADAAAAP3//f8JAB0AJwAUAPb/+v8LAPb/1P/U/+L/8P8OACEAEgAFAAYA8v/d//T/EgATAAYA9f/v/woAGAAAAPD/8f/4/w8ACQDk//P/FwAHAAIAEgDn/8z/DQAnAOr/2v8JABEA+P/y//X/9/8CAAwAAgD4//v//f/1//j/AgD7/+7/9f8DAAgA///v/+7/AAAOAAIA3P/J/+b/DQAaAAYA6v/x/w8ACgDy//r////y/wQAKAAeAPL/3P/x/w8ADgDz/93/4P/2/wQA/f/u/+n/9f8GAAYA/f/+/wMABwAKAA0AFAAUAAEA//8SAAoA9v/2//f/AAAcABYA6f/e/wIAJAAgAPn/3//7/yEAGgD8//H/+/8MABYACAD6/wkAHQATAAUABAABAP//AgAAAPP/8f8KAB8ACQDx/wYAGQAGAP7/BgD///7/EQANAPj/+/8JAAcA/f/y//b/DAAUAAAA8v/7/wEA+v/z/wAAEAAMAAEAAwAAAAgAFwD1/9X/FABQABoA0//b//7/9v/W/97/CwASAPD/9P8lADIA/v/a//L/FAAdABUA+//o//r/DQARAAYA6f/z/zEALgDp/+H/BQAFAAYAFwAKAOz/4//u//v/AAD+//P/6//8/xAA///n//f/EAAMAPb/6//z/wEADgAOAPz/8f8BABoAGQAAAOb/4f/0/woAEQD//+//AgAQAAAA/P8EAP3/AgAbABUA+v/1/wAADwAVAAQA8v/9/wkAAQD//wAA/P8DABUAEwAAAPb/+/8IAA8ACQAIABcAHAADAOn/7f8EAA0A///s/+7//f8EAAYACAAAAP3/FAAeAPz/4f8BADIAMAAMAPT/6v/7/xkAEADo/9r/6P/8/w8ABwDw//L/AQAPACAAFgDx//T/FgAUAPz/9P///xUAIgADAOb/BQAuABYA6f/i//z/GQAQAOT/3v8JACUAHgD9/+T/AQAiABcAGgAeAPj/9/8ZABEAFgAnAPr/3//7/wAAEAAdAOP/3f8oABUAwv/J/wQAIwAYAOj/3/8jAE0AFQDM/9b/HAAzAA8AAAANAAEA3f/G/+L/HAAlAOr/vP/e/x0AGwDs/+n/BAACAPv/AgD3/93/2f/w/w0AEgDw/9H/4f8MABsA9f/E/8b/9/8SAPL/zf/e/wQADwAIAPb/3v/i//z/AAD0//L/9f/3//3/AgD7//P/AAATABAAAAD5//D/7P8GABsA///i/+//BAAPABEA/v/w/wQADQD7//7/CgD+//3/DAAMAAgACQD9//7/FAAKAPP/BgAmACAACAD7/wEAEgALAPb/9f//////BAD+/+L/+P8yACUA6f/q/w4ADQAFABQAHAAKAPP/9f8SACEADwD1/+//AgAVAAgA8//y/wAAFgAWAPX/4//6/wUAAQAIAAYA/f8KABgABgDv//r/FAAQAPD/4//3/wsADAAGAAAA9//x//n/CAAPAAoAAQAAAAAA/P8AAP7/7v/2/wwAAADz/wEA/f/t//b/9v/s//X/7//W/+f/EwAZAPT/3//3/wsAAAD4/wUAEQAOAPv/8v8GABUACgD9//7/EgAjAAsA+P8DAAIA+v8AAPX/8v8KAAEA6f/3//v/7v8DABQABgAAAP3/+/8LAP//3v/t/wkA/f/j/+L/9/8OAAkA7v/i/+3/AAD+/+X/5/8FAAIA6//0/wAA9/8AAAkA8//o//7/AgDz//L//P/9//n/+/8AAAIA+//y/+r/5P/2/xcACADY/97/BgADAOz/7//9/wYAAgDz//b/AQD+/wAAAQD6/wAA+P/g/wAAFQDv//v/FAD5/wsAHwDn//n/MwAJAPr/DwDp/wAALAD1//j/LADw/9H/AAD7/wkAKADz//P/NgAfAPT/AAALACQAJgDz/+v/CAAPABQA+P/K/+//IAAGAOr/5f/u/xcAIQD3//X/CgAAAAQAFAAIAAcADgD6//X/CwAEAOn/7f8KABYAAADq//f/BwAEAAQAAgD0//z/EAAJAAAABwABAPn//P8EABcAEQDk/+f/GwAZAO//4//q/wEAIgAMAOT/9/8SAAcAAAD6//H/+f8DAAwAFgD6/9j/8f8OAAIA+P/2//X/CAAPAP7/+f/z/+r/CwAiAP7/7/8IAAQA7P/3/xcAFQD0//f/FgAEAO7/FwAtAAMA9v8HAP7/6//w//7/AwADAAYA/v/x//j/+v/n/+n/+f///wUA+//s/wAABwD3/wwAHgAAAPr/BAAEAB8AMAAKAPf/CgAAANP/xP/u/xEAAAD9/xIABQD5/wYA+//1/xkAHgD+//L//P8YADYAKAALAAYA/f/r/+v/+v8PAAsA2f/N/wgAGgDu/+b/AQAQABcAAQDY/+7/JwAcAPj/BgAbAAgA8//5/xAAEwDz/+D//v8dABIA8f/p/wQAFAD3/+T/AwAcAAgA9f/4/wQADQAEAPf//f8BAP3/AQAMABEABwDw//n/IAAfAAAA/P//////FgAUAO//9/8UAAcA9f/w/+L/7P8FAPv/8P8KABQA+//n/+z/AQATAA0A+P/o/+r//P/9/+z/9v8PAAUA7//s//7/IQAqAPX/0v/4/x0ADAD1//f/AAD4/+v/8f/7//T/7P/z/wAAAADo/9z/+/8dAAwA3P/R/wEALwAWANj/0/8PACwABQDh/+L/+P8VABYA+f8FACcADQDr//z/CwD2/9P/0/8OACkA8f/M/+L/BwAuAB4A6P/z/wMA3v/r/xIAEwAmABsA5P8BACUA4//V/w0AEAAYACUA9//1/yoAFwDt//r/BgAIABAAAwD7/woACwAJABgAEADx//b/EAAFAPv/FwAaAPP/8/8VABIAAwAJAAEA+/8NAAkA7//7/xIACgAFAAkAAQACAAcAAAADAAgAAgAIAAwAAQACAAAA+v8QABYA/P8FABwACgD//wgAAAD6/wAAAwD8//D/9/8HAPn/6f/+/w4ADgALAPb/6//5//r//f8QAA8ABQAOABAACgAAAOr/7v8OAP3/yv/T//7/CAADAAAA8v/w/wQAAQDo//D/BwD9/+7/9f/z//H/AQAJAP3/8P/1/wAAAwAHAA8AAADm/+b/8f/x//X/9//x/+z/6f/z/w0AEQD1/+T/9f8QABYABQD2/+z/8P8PACUACQDs/+z/8/8FABwAEQDy/+T/9f8PAAsA7v/p//v/AAD0/97/3P8AABAA8v/p/wgAEwD8//T/CQAZABAABgAEAAAABAAFAAAAFAAfAAUAAAAOAAAA+f8HAPn/2P/k/xkAMAAHAPb/HwAgAPP/7/8AAAEACwAJAAkAJQAjAAcABQALABEAEgDx/+T/BwAXAA0A/v/d/+P/DQAIAP3/GQAiABUAHAAeABgAFwABAPD///8EAP3/DAAZAAYAAAAQAAoAAgAKAPz/5f/5/xUAFwAYABIA/P8AAB8AFQD0/wUAHwACAAAAMAAqAAIADAATAP7/AwAIAO7/5v/x/+7/7v/6/wMA/v/k/9r/8v8EAAQA+//t/+///v8CAAUABAD4//z/DAACAPL/+P8AAAUADAD5/9r/1P/b/+3/DwASAOf/2P8BABMA9f/m//v/DgANAPL/2P/o/wsAGQALAN//x/8CADEA///j/wEA9//w/xMA/v/N/+3/IAAoAB8A/v/Z//P/HAAQAAMAEwAFAO3/BAAaAAAA//8YAAQA4//u/wMACQALAA4ADQD///L/EQA3ACMAAQD//wIACwAKAO7/+v83ADQA8f/e/wIAHwAhAAIA7f8YAEAAGwDz/wcAIwAaAAUAAAAOABcAEQALAAIA+v8OADUALQD7/+r/CgAiABAA8f/x/xgALAAOAPr/DQAWABEAHgAYAPL/4v/8/xwANAA4ACQAEwAQAAUA9/8EACEAKAAoAC8ACwDH/73/9P8XABYACAD8////BgAAAP7/AAADAAoABADs/+j/7f/o//3/FgAPAAoADwAKAAsA9/+//7f/3//t////IgAaAP3/AgAMAP//9P/6/wMACwAMAPP/y//b/xQAFQDm/9j/4//n//r/EwAaAA4A//8AAAoAAgABAAEA1f/K/x0APQD2/9///f/2/wgALQD0/7b/4P8HAP///v/b/6z/4P82ACQA0/+r/8X/CAAgAN7/vP8AACgAAADf/93/6v8MABQA//8QABwA5//Z/w4ADQDp//j/BwACAAwA9v/U/xEAWQAwAP7/EwAnACQAHwAIAOv/3f/w/yEAKwAKACAALwDh/7r/8P8OAA0ACQDp/+P/AwACAAAAGwATAPv//P/z//j/IgApABkAKgAiAAcAGQAUAOn//P8DALf/xv82AC8A8/8XABoA4v8BADgAFwDw//v/HwAuAA0ACgAxABAA3v8IACkAEgANAPv/3f8AACYACwDx//T/9f/v//H/AgD6/+T/FABAAPv/yP/y/wQAAAAPAPX/1v/2/xMADwAKAPr/5P/h//D/EQAQANH/sP/b/wYADQD3/9D/x//r/woA+P/E/8v/EwARAL7/x/8qAD0A+v/S//f/PgA0AMH/oP8XAFkAGwAAAB4ABgDf/9//z//M/xIANAD6/+r/DADz/9T//P8oADAAGwDy/+3/IABJADsACwD5/y4ATwD7/5z/s/8FACgACwDi/+L/EAA7ACYA4v/K//D/AQD3//T/7//z/wYABAD6/xgALwAEANP/3v/8//b/8v8IABIAFAAWAPH/zv/u/xUAIwAsAAwA/P8+AFEACAD9/xQA5P/K//v/FgDw/7j/yv8iADYACQAKAP//0f/8/0MAKQD1/+z/9/8PAAgA1P/J//j/HAAYAAAADQA4ACIA3f/b/wUACgD7//b/+v/7/+L/v//W/yMAQgAOAO7/FAAqAAgABgAlABMA6v/k/+3/+/8LAPj/1//q/w0ACAD5//H/4P/e//f//v/z/wAADAD1/+b//P8JAP7/8P/s/+3/9P/4//f/9f/0//7/AADd/8j/9/8eAA0A+//q/9P///9EACsA7P/i//T/CwASAO//4P/z/+//+f8WAPX/0P/0/wAA4//w/wQABAAYABsA9P/W/9f/5//1/+b/2f/s//z/CAAPAOT/xv8FADIAAADV/+T/CQAmABYA7v/i/+n/9P////X/8v/7/+//DAA7AAQA1P8LABQA8v8NAP3/zv8PAFgAPwAUAAUAJABGAAkA0f8JAC0AHQApABUA5v/9/ykAHgAIACAASABJAEIAPgD1/7n//f8TALT/of/S/9r/7P/k/7T/2P8XABQADwDt/6L/vP8PABkAEQAdAA4AAgATABQA8f/W//f/IQASAP///f/S/7P/3v8JAAIA3//R//D//v/e/+b/CQACAAkAKgADAM3//P8/ACkA6//M/9H///8qAAMAu//J/wcADgDp/8f/xv/5/yIAEAD8/wEACQAjACwAAgDx/w4AEAD8/+//3//s/wUA8f/Z/+P/6P/6/w4A7v/P/9D/vf/T/yoAQgAiACsAJAD0/+3/HABQAEYA6/+0/9f/7P/h/+z/4//Q/+v/DgAcABIA1/+4/wAAMADv/7L/3v80AEYAAADE/8r/9P8pADUA5f+v/wMAWAAhAML/v/8AABAAz/+y//b/FADZ/83/HAA2AO//vP/V/+r/5f/9/xkAAADY/+T/DAAhAB4ADQDx//P/JwA8AAIA3P///yIAIQASAAQACQAeACcAJQAYAPz/AAApACUA8//c/+X//v8rADMA8f/Y/ysAZAAzAAAA/f8IACkAPQAHAOr/IQA2AAwA/P/s/+n/HQAjAPH/CAAtAA8AEgAXANL/0v8rADcADwAGAOn/4P8WACIA8//h/+r/AAArAB0A6f8QAFMAIgDn/wUAEQD4/wkAHQAMAPn/4//b//v/EwARAAgA+P/s//L/9f/1/+L/xv/e/wMA9v/2/wgA8P/p/wQA+v/9/zQAPAAQAPj/7f/4/xYADQDr/+X/6v/p/+//8P/w////AwD3//n/AwAAAPX/5v/i/wgAGADH/4r/0f8WAPf/z//M/9H/6v/0/9b/1v/2//P/4v/m/+7/+f/0/9//7v8MAPj/2v/e/+f/AQARANb/oP/P/xMAFgDw/9X/6P8MAAYA7v/4/xkALwARANj/3/8YAB8ACgAJAP//8f/x//b/EAAeAAQA+//+/+7/AwAZAO3/7P8iAAgA2v/6/xsAJwArAPb/0v/5/wAA9v8sAEEAAgDn/wkAHAAHAPj/DwAfAAgAAQAJAP3/AgADANr/4v8iAC4AFQAAAOz/HABjADEA2f/d/wQAKABDACkA///u/+X/BwA2AA4A3v8EAC8AKgAKAN7/8v89ADMA9P/6/wkA+//9//H/6f8kADYA6v/O//f/+//o//L/BAAQAA0ADAASAP//9/8oAC8A6//c/w0AJAAmABIA4f/i/wkABwD4/+n/z//x/zgAMQANABUADwAAABUADQDf/+b/HAAoAO7/s//K/xEAIADw/9z/+P8HAP3/AAAhAC4ADgDx//j/CwAHAPT/8v8AAPz/7P/1/xIAFADl/7T/yv8FAAcA3P/c/xQAPgAhAOf/4v8AAP7/9v8IAA4ACgALAPP/3f/+/xkAAADp//D/+P8AAA0AEgAVABEABgD5/93/xf/b//7//f/p/+H/8f8LAAkA/v8fADUAEwAHAB8AGAD4/9j/1f8ZAFgALQDu//H////1//X/BAATAAMA4f/u/x4AJAAHAPT/9f8hAFMALADo/wcAVQBDAPD/7f86AFMAKgAJAOr/3v8YAD4ADgD1/wAA7v/8/zUAKQDq/+P/DgAxADQAEADv/wUARABSAAgAyf/h/xsALQAMAOD/4P8EAAIA7P/7/wUA7f/m/wEAFgAXAAMA3//e/xEALwANAOb/0f/Y/wgAGQDc/8r/DwAtAA0A9//x//v/CgD0/+T/AAAIAPX/+f8JAAcA6P/O//j/MQAZAOn/7v/1/+j/7v/4/+z/5P/w//7/9P/n//f/CAAAAPj//v/7/wAAGgAfAAEA9P/6/+T/0//4/wIA1f/h/xgABwDY/+H/AQAPAP//4f/l//r//P/0/+P/7v8oACYA2//l/zYAPQAMAPH/7/8GABQA/f/8/wsA8f8ZAKYAfACO/3n/LQA7ACIAawAHAHn/EwC3AF4A7f/G/+D/WwBwANT/nf8MAE4AGQDD/8D/BQAJAO3/JQA/AOv/1f82AF8AHgADADEAQQAhAAYA9v8AADAAMADq/9X/DgAjAOL/vP/+/0kAPwAIAPT/FwA2AAoA0//h/wkAJwAwAP//wP/V/xMAJAD6/8T/5v9CADIAy/+2/+j/CgAuADcA+v/N/wAASgA9AO3/0P8TAEQADgDS//T/OABGABUAv/+e//v/QQDz/6b/0v8NABoACADs/wUATgBGAP3/DQBaADUAxv/I/xMABgDT/+r//f/S/9D/DwAnAA8AGQAcAPv/FQA+APT/vP8QAEMAGAACAPH/7v8zAEYA/f/f//D/7f/8/yAAFwDj/9L/CwAnAPH/+/9MADMA7f8PACQA4v/c/xQAGgACANb/nv/l/3EAQACc/5n/FQBUACsAyv+i/+7/OQBDACgA2/+h/83/DwAxACsAzP+n/zoAgQADAND////t//f/MwAJANT/HABHAOb/m//m/1IAQgDn/8D/0f8GAE0AMQDY/+//IQD//xsATQDz/8L/GwAiAOv/BAAVAPn/BQAnADMAGgD1/xUASwAkAPf/DwAoACYA/v/I//j/VQA8APD/3f/y/yEANQD9/9D/8v8pAC0A6v/T/y8ATwDi/6X/5P85AEsA9f+y/wgATgD8/83/DQAqAAAAzP/B////NgAbAAcALwAzAPD/sf+y//D/NQAuAM3/jf+//woAIQAXAOn/sf/H/xMAPAAmANX/lf/I/xAACAD1/9v/t/8JAGsA9v9q/7z/GQDY/6f/6P8nADEAGADl/8n/+f8yACMAAgD//93/sf/Q/wkAGwAbAAMAwP+s//v/GQDQ/8r/CgDe/6H/3f/+/+X/CgATAOD/4f/s/+b/AQD9//T/IQDy/7D/MABZAHn/VP84ADMAqP9QAOkA9P8W/1H/rv9MAMsA2f8J//n/kQD9/9n/7P+2//7/SAAJAOX/5f/s/xEA9v/u/0MAJAC2/8n/CgA+AIsAfQAVANb/0v8gAH4AWQAIAPv/3v/0/18AKgCH/8z/WwDy/4X/6/8mABcASgAfAK//+v9oACkA+P8aABQAFwAvAAAA3f8YAEUAJQADAA8AHQD0/8f//f9XACwAp/+a/wwATQAdANL/wf8FAEwAOAD//+f/4f/t/wYAAgD4/wIA8P/U//b/JAAiAAUAzf+v/wsAbwBMAAMA4P/J/wQATAD6/6f/9P83ABQA4f/D/9//CADj/7r/vf+4/+7/KQDg/6z/BQBHADIA+/+4/7X/8f8cACUA5/+m//f/VgADAID/e//Q/xEAMABSAFMAJwDv/3T/IP+l/xcA1//0/zwA9P8AAEgA1P+f/ywAPwDf/9H/1v/Y/w0ALAAAALD/g//F/0MAXgD6/7z/7f8NAO//1P+9/83/IgAsANH/wv/5/w0AMQBJAPn/nf+v/wIARAAzAL//gv/2/1QAAACw/8///f8gABEAxP/c/yQA7//a/ykAGwD8/ygAEADi/wQAJgA7ADQA8P/f/wQABQAcABgA0f/p/xQA0v/4/4AAVwDk//b/LwAyAA4A1v/D/wMAWQBFAMP/nP8NADwAAgDw/+D/0f8bAEgAEQAWAEQADwDf/yAAZAA6ANz/2P9CAGUACADw/0YAXAAcAPb/6f/n/wkAGAD6/wAAIAAPAPX/AgD9/+v/FgBGACEA6v8HAEoAQQD9/93/5P/w/w0ADwDW/8f/CQAaAOf/7v8nACUA7//X/+7/BgDy/8P/zv8NAAkAwf+y/+T/9v/R/7n/BQBzADMAkv+Z/wMAGgAcAAcAv//c/zgACACq/7T/6f8kAFEALwADABEAHAAuAEEA+v+b/6P/3v8IAB4A7v+W/6L/BwAaAL3/n/8UAFcA9f+1//X/FwAYAEEALwD7/ysATAD0/9P/GwAeAOT/7P8EANH/kP+d/9//AADk/7X/ov+1/+D/DgAsACkAAADH/8v/KgBUAO3/pf8DAFgAFADJ//P/OQA8ABAA4f/L/+P/CgAUABQAIgAlAAwA3//P/xQASAD3/6r/8P88ABcA1f/i/zUAVAAZAAMABADQ//P/XAAsANT/7//t/+b/QgBOAPT/7P8CAAgASgBWAO7/uP/r/ygAMQD7/+j/NgBVAB0AFwAdAOj/8P86ADgAIgBOAFMALQA/AEIACAD5/xMAEgADAOb/u//J/woAMQALALn/tf8PACUA7//w/wYA8f/s//v/+f8LACgA/f+h/6b/JABoABEApf+c//H/UAA3AK3/hP/0/zIA4f+U/9b/UABgABMA4v/m//z/AADr//b/EwD2/9b/5P/b/+X/FQDZ/4b/9v9jAOL/Y//T/2gAWgAAAM//yf/v/yUA8P9W/2X/XQDqAFYAkf97/+z/OwABALD/9P9NAAQAsP/u/zEAHQAFAOv/vf/V/yIAKQD/////8/+3//b/nABnAI//nP9IAGsAUgA7AOT/5/9bAE4A/v8VABsA2f/V/w0ALAAdAAIADAAOAOv/8v8HANv/6v9bAHkAPAAWAPX/7f81AFUAAgDN/wcASgAxAOb/0f8eAHUAWQDS/3v/tv8PABEA9//1/+H/y//r/wkA9v/u/wEA9f/v/yMASQAzACAAEwDs/9n/7v/s/9j/8f8JAPn/DQBKADQA5P/g/wEA8//g/9//4/8ZADsA7v/N/yAALQDm/93/5v/X//D/AQDe/9j/BgAXAOr/x//c/9z/0/8XACYAv/+0////6v/F/+P/BQACAMD/1P9sAAwACv+c/7sAdgABANz/af/S/5cA4f9J/zIAjgDr/9b/BgD5/xwACACQ/5v/FAAoAO7/5f8fAFYAJADR/wAAWAAyAOz/1P/B/+3/NwAMAMT/3f///xEAKQADANf/8P8NACoAQgD7/8n/JgBFAOn/7v8rAAoA+f8VAAAAAAAqAAQAyv/c//3/DgAWAOn/1P8OAB4A/f8YACIA2P+8/+P/6f/Z/8r/r//F/wQADQDs/9T/v//R/xkANgACAM//zv8GAFgAUQDL/3//7f9cADcA8f/Z/9v/IABTAOz/nv/0/xcA4f8AAA8Avf/I/ysAMQDo/6r/rf8NAEsA9P+Q/6X/+v8rAAEAtf/B/wEA+v/J/8z/BQAsAAkA1//+/0IAEgCh/67/QgB3AOn/df/C/zkAQAAAAM//6P8eAPL/of/b/00AWQA+ACsABADv/9P/rf/u/1QAQAASACkAMAAUAPP/zv/1/0UAQAANAPr/7//s/+D/zP8AAE8AOgD2/9H/0P8LAD4A/f+o/7n/9P8BAN//xv/m//7/1/+//9X/2//Q/9T/6v8XACYA6P/A/wIAOADz/5T/pf8EAC0A9f+p/67/+/8gAP3/6v8AABYANAA5APT/2f8qAFUAIwDt/8n/2f8fACQA8////xQAAQAQAC4AKQAaAOz/u//+/2AAPgD7/xQAKAAKABoANgARAPn/CAD2//b/KgAKAJr/l//4/yYAHQADANP/wv/9/0IAQQACAOn/EQAjAA4ADQAAANj/3P/7//7/BwAQAP3///8NAO3/2v8QAD8AJADh/8H/+f84ABAAwv/f/zkARQAYAAQA9//z/x4AKwDv/9P/7/8OADQAMgD3//v/MgD//53/s/8FACMALAAdALb/af/X/2wAPwCs/5f/+f8SALP/lf8EAEoAIADl/7b/y/8DAMj/mv8CABkAuf+0/9n/9v8kAPL/wP8HAP7/xP/3/+P/mv/l/ysAAwDe/9z////6/6b/t//q/5P/ev/O/9z/5f/9/wYAMQD+/6H/wf/J/xkA0wA7AIX/SgBvANUACwO9AvD/OAACAkgBef8G/i/+ewCEAcgAmQAa/7j8XP2H/6cAUwHyAF0AcQEbAocBJAHF/5n+yADlAtMAPf4B/0YBegLaAU3/B/3k/SUAmgBCACEAXf8u////VABPAaUCJwFy/nT+SQBqARIBAABo/9r+1f7rAEcC2QAGAJv/nv2G/kAD4QS/AQv/Lf/5/2L/KP+MAEsAsP4LAAYCKgFNAG//Xf3Z/u8CvQEy/Vv9CQEfAiwA6/7I/5AA+f8+/8D+P/4g/6EB1AKVAHf9wP0HAbgC6gBw/kz+PgB+ATgAef71/tr/7f7V/mkALwDz/jX/HP9g/9ABlAKmAI//Zv8jAE0BMwDu/9QBaf/r+y3/fAKUAJD/WABhAGEAnf6b/LD/RwR4A5D/5v4VAmEDYADa/nEADQAw/00B2QEz/37+/f9jAL3/S/78/Aj/ZAKpAL/7i/vA/9MB/v+w/XD+xwBSAHD/DQGK/778KADvAKT7Kv9/BXn/PPy+Ah8AKfnV/dwDLQLq/R76RfxpAzMEKgAj/mj8NP7KArYA2vwN/zgAZ/4k/3gA2f/X/h3/DQEkAU3/cgAXAb/9sf1ZAeABWgH8ATkBQgE5AlEA2f76ALcBkv8D/0gA+wBWAfEAbv9s/1EAvv4G/vgAYAH3/Z/9SgD3AToCav/L+2z+JASaBC4BbP4E/p8ASgJVAFP/KgBt/xL/LQDN/77/kwEfAcj+cv9uAdcAef+U/xcA2P/+/iX/9gBaAQb/z/3V/rL/zAD1AckA4v7q/sP/3wBIAsQBVv/W/Uj+OwBaAvwBTP/4/eb/mALBAWv9/vsAAIYCy/+2/cj/UwFT/7n97f90AlsBS/+m/wsBlQG9AEf/BwCsAkgD1gHt/5b99/2HAdcBPP5D/d7/wwHKAFX+4v3b/+EAlwCwALUAagC3/y/+X/4OAWQBZv7C/bwAgAJfAYj/x/55AOoCgAHj/bT9Kf8m/zoAawHG/6/+sv8uADoBSwKz/638af4kAjMD+wC2/XH95QB6AjT/T/wP/icBmQEPAK3+1/41AD4AP/8NANMAYP/W/rD/L//8/gQA2/87AKkCwQLG/2P+9/5W/1YAjwHYAMf/0QCXAav/i/7rAHMCUQDO/goADwEhAewAtv8o/48A3ABf/zj/ff/+/dj9nwDcAW8AcABIAbv/e/60//3/kP9XAd0BCv88/h0Ahf9d/s8AAgKd/nf9PwGuAuP/AP/1AOIBjwHOALr+P/3B//wD2gNJ/yD95v8bAtMAR//g/un+CwCOALT+H/7O/4L/Lv6W/l3+t/5xAmYDcv4s/O3/DAMhA7oBcf52/Hn/UgJoAHP+wv5r/g//UQG7ANH+8P8iAUMAGAAQAOf+hf8/An8Cyv6a/MP/9gIyAbH+M//2/6b/Rf/j/r7/nwBo/UL6c/5KA+z/wvte/hUBpP/h/sv/AAAiAOf/of6t/uX/gv8c/2UA6P97/d/9NwClAK0AggHyAEf/Q/7l/o8BCgMpAZ7/AADQALgCXQN9AG7/VgH8/y/9CP9jAt0Bz/5+/X7/cAHo/4H9z/1i/xoAbwBmACP/8v0F/6UAlP9P/ej8vf0C/xoBoAGz/oj8af8yA84BMv5n/ikBngLjAT7/cP0o/wcBEgB1/9MAqgG/AB//l/7R/8AAu/9H/s3+rwCfABX/QwBsAr0A9/1u/h0AqACKAGEAYAC9/8T+sv8BAYf/+/2A/xIBWgBn/2r/6P/YAEIBMwBA/47/RgBtARcCPACf/qwA7wI9ArgAtv+0/zgBzwHbAKYAAABp/j7/wgFDAsoA4P7o/ef++P+f/0z/hP+9/9j/HP84/kP/aAGpAUz/7vyN/TgAAAES/yH+HwCNAdn/NP6M/rr+OP+QAMP/T/72/00B1/+W/3wAaf/c/mcANAAi/kL+9f+//6X+cf/zAK8AgP8A/4X+6/4UAqEDv/+S/csAIAEh/ib/dwBV/tr+1QDi/uv9pwBQAYX/Dv8y/8n+Mv+bAMgAHf8h/3UBBAEO/mz+xgBwAIb/MQBLACMAGwE6Acz/xP74/nwALgKvAVEAqgC9AJ7/MAAhAu4CTwI4ADr+W/+mATEBsf8AAH4Al/9r/9wA/QA8/63+uv+kAKQAPf8//m//KAD+/8kAxf/g/SwAPwJX/0z9af7i/i3/1f/u/7gAGwG8/wb/ff+y/4H/l/6C/lkADwD9/Hz8sf6u/5H/Yf95/rP95/5zAb8Brf7M/Mz+UQHcAQ8B2v+0/4YAPgAeAKQB+ADW/cL+vAKrAUr9kP0IAWkB4/5x/cH+7AAdAcz/Qv+n/z4AQQBt/+P/fgGiAJL+of49/5sA4gPaA9T/Vv/RASkBav+a/4P/nf4f/jT/wQJqBFYA/vwSAFAE8QM7AOX90P8uApUAOv9uAX4CNgFMAAr+5Pu9/swBYf+8/YsAowEHAKT/8f5z/WT+u/+m/sX+8gB3ADH+zf5VADr/CP75/kYA5QCDAEr/Qv8YAA4ApQDAAW0BwwAV/8D8oP+KBCMChP2F/s8AJwIPA5T/c/u4/RcB8P8w//QBcANiAKv9UQC5A0QCE/8D/k3/oQJnBL8Bg/9cAcMCoQDw/ucApgPbAs7+R/xR/+gEpAU9AYf+iP8DAVcBnwA6AFIB0wGQAOD/dwDMADgAhP9aAOIB3gAc/5wAcAIcAej/eQBrAJkAEALhAQ0Av/9sALwA/ADp/9T+eQGtBHEDRQDT/h8AcgOOA5z/4/7TAAwAhgD0AvUAHP6X/7kAXgBXAM/9Cvyn//QBsP8c/ykAJv8Y/o7+DAC3AQsBe/91AIwBYAHYAfYAeP/AAKIAK/4cAEwDEgEC//4A4AEtAGH+cv2f/Rb+Tv8wAuMCnv+w/Wv/VwF1AQkAPv6Y/Vf+4v/dAAEA4f51/3AAvf+N/Zz8u/4wARwBx//s/kf/zQApAYD/Xv6q/hf/Fv+E/2YBJAKO//z9nv4y/bb8zP8rAC3+5f6X/p/8J/6j/6H9ov2dABwBUv6U/D/+SADFAEIClQKK/mH8lf8WAqQBof8B/Qf+mQEnATH/t/9W///+6gDPADz/4v+h/0D+YP/z/3T+/v7x/+7+AgBYAnIA//x2/UcA4AEqAdP+Kf69AEMCfgBY/7T/Df8u/6QANf+3/C3+OwD8/5EAnAAl/p79+v+LAVMBWv8r/vUA3gJSAE0AEgbtCTIFBfxq+Wv+bQBs/o8AgAYYCk4FsvcE8Vr8JAlXCO4CyQFbAaj+W/xy/mIDewS6AL39cP78AHQBUv50/OT/bwPSADn8G/3fAE8BPQB+AE0Aw/9P/wL+e/7LAM//Af0W/ucA9gBJ/0j+sP7R/3n/gP3s/dwB/gK7/oP8QP/WAA4Aav8Z/mb+4gGnArb/qf6e/pj9tf6nABYAof+cAEQARP+u/7v/bf6J/sIAuAEuAB3/3/9KAEn/zP5JAKEBWwBx/u/+nQD8ADwAgP9c/ycAQwEZAfT+EP1//uMBngItAMb+FwAPARkA9f93AcQBqQAgAMn/pv+9APIBLgJYAT//7f0f/5wA1gABAAf+Mv0A/24A+v/6/o7+IwCiAX//ov2I/9YAWwBjAKP/MP/PAI4Aff3J+5b88P7YAD0A4f9QATgBUQAYADL+z/0jAkkEAwF8/rH+qv+GAccCngH7/wcA3QCmANgAOwPAAwAAcf06/wYDqgXvAlH9VP0lAZ0B2f/k/koAMgNWAnv/5f8tAHAA2QEX/tf7iwJNA1f8k/39AJv+Pf8LAGf8Cv3iABsBy//5/d/8MP/3AdYCCAHt/In8KwDhAloFDwNI+n757AG3BDgCU/8M/Jf/3QXYATf7wvs//mcCWwZ1Ah3+XAB6AHn+QAF8A/EBlQGWAbT/x/6OAPgClQFd/O/6fv9NAk//3/pH+0UA6QGz/3IA+v84+5/8AANWAhb+F/2V/RMBIgSn/tT4m/yyAZwAZv1w/Jn+YABk/nn8KP1Z/Yv9Tv81ALH/GP+C/tv+hQDYABn+bPxCAOoDxQBu/XD/YgGyARUB1Pzz+kIAFwM6AJr+H/5K//ACtwDj+gb+YAQfAxEAYv91/Qr8TP0aALQDqwQ5ATX9bvtH/Z8BeAIKAMD/P/8E/u8AqQJN/gL8OP5//0IBYAMcAYn9sP6iAwgGJAGV+wL/XAXPBBEBT/9D/4oBSgPy/4v7x/xeAVoCFwCHAC0C/v+f/eD+UQGqA5oCD/2u/cQFxQYJAa3/VQDQAKYDuQKQ/l4AuAJu/oT8kwDsAff+jvyT/Cv/qwGHAMD9zfyh/Y4AMgTrApX+/gDwBlQDqfqG+3UCegMRAE3/6wBXAcX/Qf2Q+oz6zf/0AxMAcfoP+kj81v8zA4QAe/sC/dAA9P+p/7ACwwDX+tv9ngWUAZj5tf2KAwcBBf+o/v38ov4n/677av6LBMkCQv6l/U7+GP8W/6/+DQBp/4b96wD7Aof94/ow/jD/Av8MABr+vPs3/ucB+gEG/6H7Ffug/zYG5AclA7H/mwGNASn88Pm1/r8DkgUUBVEA2flU+tMAqARNBbkD9P2H/IsDdAQ9/7YCJQWl/Un9YwE3/Mn93gRw+ib0QgXKCen6sfsTBKn+t/ynAxUD6f6x/0MBEAM+BB8BKv50/nX+BwBJBCUDlfzW/MMDPASl/qX9iACWAWcCjgRbBPv/9fxsACEEDAEe/rMBjwQFAnQAKwILAb79//+iA2X/8/s0AiMG4gHzAGQDr/9v+lD9YwTdBCv/Ev6+AZEAUv1S/woB5/4i/s7+Y/94ARwC6/8D/2v/YQDzAtoBzfsx+9EBrQRFATX/aAExBDcEhwJbAaP/9/24AMMFwAT1/pb+2gPwBDwA7fu++VP60f6ZAdr+vfyr/qkA2QBf/xb9d/1+AKQCYgNrAdX8B/5hBd4Ecvwe+yUA7QEqAj0BSf2N/ckBGgBl/LL+FwGF/5T+hf6q/eT9xv5M/pv+xAEtA5L/tv3hAGwB8v4vAEAC+QF6AoAAK/vb+xoC6wN7AYb/L/4B/xgC7QJvAPn9EP4tAcUDkQEM/gb/VgLuA+MDtwEm/vP8U/5ZABUCaQGyAN8CsAEl/uwBJgUM/5X8UAGYApkDFAWI/zX9mQRHBRn9fPwlAzYFzQEo/r/8zf6UA4MFjgFT/v7/cAEHAU0BlgGlAXAAF/4TAU0GXAJx/Mf/FQO+AI8AWAHn/08BqANGAfL9D/68AFIDXAGT/Pr9OAREBUsBHv4F/TH/LgI8ANP9pwC7AVT+bv7rAaQCzwB5/gP+VwE3A8oAHwCqAeoBjAOEBHUA8f2y/+P/5gBMA/n/pfup/bMArAFCATz/uQDvAvX9QfvI/7H/VP0A/2P8pfim/GwAJv/0/Mb6QvzTAFAA0PtG+Vr68f2D/ej6FQB5BFb/kPxC/vf+OgO8A9H79vvTAkoCUwEtAkn+zf1SADr9hf1oA0YDcP81/QP8KwAHBfYB8P6nADgAkf9FAEn9efzTAicFq/5F+wIAMwIe/cv7eAHWAST9Tv+IA0wB8/8FAo4A1f1L/lz/5f/i/0T/swAlA8UCYgC3/vT/ygKeARL/XQEkAsj+lgDTBM8CsP///yYB8gIFA1gA2v/uAPsAYAKXArH/fv+iAV8BEQG1AdMAVQBmAUQB0v5b/NL9OgIBA1AA+/8KASEBfgLFA4QB4v3I/LT/aARKBHT+O/xYAP0Blf87/wb/5Pxy/zgFSgRs/+T+UP8d/hgADQMJAtwAwwEFAXD/Uv+D/q393f+NAogCnQEyAQoAEv5r/ev/1wJnAeX96/22/8L/tf9NAAoAYf+5/2cBAQJl/+D9CQG9A8MBAf61/Av/OAFnAG7/6v06+m36FgCRAoH91/ZK+FkASAGH/P79Gf/y+yb+Of9Z++f/hwTe/Hb6ngERAbb9ZgFlA1oB+wD/AM3/ov0q/Ij/kQMOAd79eP+O/zP+LwGaAq/+kf78AdP/Xv3rASgF/AHz/wwBqf8Q/cb+GQJnAkoCawGP/CP7gQARARf9s//mAe37o/kb//MBcgH7AIn+O/69AiYDff7a/uECiwLY/wX+6/xQ/6oCSgBo/Hr9/v8NATIBiP8L/4UBDQJnAT8DoALx/mv/qQL8AyAEfQF4/ogCmAbeAMf8PAK7A+T99/32AuEB7P2C/hEBpwJ6Ajn+P/vEAOkF8wCA+4/+NgNiAygBcP+B/37/XP65/2cCPwEb/1D/j/6f/R3/kP++/h4AtQBK/pL9Yv/h/3D/fP87/8j/QAE+AUkBQQNdA4QAHP8BAPMACQF1/0H9Ff0n/lj+cv6v/98ABwD+/mwBywOnABH92P59AXsB/gCp/979Jf8/AZv/9v0BAHEABf7e/wEEbgHh+/37pf4l/wv/PP5Z/ZD/ugHV/3j+RwCzAPb/hQEYAun/FgD3AT0AI/62/2sAgf4A/rz+8/7f/+0AKQDx/d/8Vv+VAUr/b/72AAz/lv7nBaAE3PmM+8gCl/4i/T8DYwB++iz+RwJOAfoAHwEtAOUAQgMtAqX9kf4kA4D/5Pm0/eYC2AL0ADr+hP6uAacAkgAmBY8DLv03/Aj+ggCOBE4ETgDX/8ECLgQJAY787/0HA6AExwIR/1n8eP++A70DVgOLAGn50/luA7cHNAXiA4UDxAP9A2IALv6hAkEFPwGP/T/9Bv4BABMDdQOQ/4H9WQDMAU0B0wGa/on7ywAgBD7/a/xf/eIAIgePA2L4Z/rIA5oDRQE0AmEAT/4y/tz9Wf+KAUoA5fzF+yj/hgHX/PD5bgHWB5EC1PrG+mz+7/7Z/Ab8VP5oAYgAR/27/dn/Av9d/rz/LP96+9z5H/94Ayb+BvvaACsAgvunARYFIP27+2MBsQH+AHwAPv1h/xAE0f9++o7+5gNPAoj9j/sg/lYC1wLq/Zb6t/89BQwBwftd/qwAeP44/t//lgDmAI3+KfvP/D4AI/9O/Cj84P2Y/i398/uI/Fb+0wAcAK37l/wOApcAdvyi/h8AIv+LA8EHBwPI+7v6jP/LA1EBz/tf/AMCmgTOASj99voh/QsB9wJmAkoBqAElA7UC3v92/hUAbAECAKH+AgG4AysB+/0iAB0Czf8l/lD/4gF5A/7/jvtS/XUAGwGqAmQCygDYAzYF5gDSACkEPgJl/5YAXQJfAroAbP9Z/5b+LgA9BPcB8vzD/3EDAQKeAv4Crv5C/TEAqQKoBN4BQvqR+skCOgWEAZr+GP0+/lkBegG3/jn8IPzW/zoDswImAu0Bmv/N/zgDDgOy//H+JwF8AlIBQgEjA30BH/78/kz/1vza/eX+/vtA/cICaQOy/337jfjr+04DzARSAZ4AjQG3/9z8u/xP/rj9/fyAAIwC6f0h+xn+mP8fACkBtP1o+/T/fQKm/xj59PAD+K8MPQ62/DD1/vrFCMYTlAX/78zwyvW9+LAIRg4SAd/8vP1s/bwJQQ/Y/wb4yAF5CSwC9PTE/IEN1v0N650AIBJbABPzYPi1AdwJzgFI9IkB+xGLBN71nPwNBSEEBwADA8AOlQ1p/58EdBFHBtj9+wfhAGbwrvmBBEX5BPX0A4sMHAGm8Uj1UwSyAgT3WfnXA9oLExDmBhn4ffraA7P+AfkkBEoQCQpd+ir4ZAiSFYwMPPtK+uIDEQY/A2YAAv2N/0gESABb/JQAngQCB0kHuwDf/RcCGv3M9sgEFRRJCWv4sfwNBu0APf3ABS0IUwFKAzwJ9gM//3MFcQf5AbUDtAar/4z9FAWGAsf+Kg5MEqnzO9/68P0HihNiFZ8A+Oq2+7cazRZ59T/lDvxhD1j8vPMADRcNAvgvA38MpvaA8xIFmAIj++H+yff25P3eVvMjEaATyfli6uHxVf71A87+0vojByARLAnKBBcGyPp89acE8Q03Cm4Ev/I/4n7wZgQQ+1LuYvpqCZgG9QCPAiD6UejA69QEHQ4I+5HoIvKhCnAQ/QOn9tnos+uSBFgH9PJQ8hz3FfYJByoJ1es96VQCuQsqDsAJmvbk8zwCuwkzDvwI1/zB/+j8K++z/MwPhAUb/En/wQEWCicH8PMq82f7Rfd2/UII6AWXB1gFBvwKDDMatgG487MDBQcYBTILuQCM9xYFogd8+7QAzAd6+KPrV/ZSBVUGAgGoAQsHjAYP/8cAMwvKBS38PwwjGckJugMGDGkGjAbzDn3/vfKkAmUHnfv3/ikAi/GN82wKkhN7BUH1pvCO9hwBGwEj8XjwegoyD8P06/ReEYEQQPX468f2fwb9FvwX3f966XDzew6+DaXytO+fBlMIxPgK9y36df4rCscFIfaLAE0SEQeJ9Rj37gDAC/ASJQor+1v/Fg1jAvrqW+8sAqIA0Pgz+vf37fVy+FnycOtC76DyHPfcAQf+w+qm67oG2RVDCI/68P8qB+wGzgkTCnIAOfw+AC7+7fqK/sj9afe5+kEFaAQZ+8r7a/8D+kf/kBBVDJz4dvWJ/JACFQe5/eb0HgMVDpEF3f69+aX0aftK/9f6if5BAScBZwtJCoz4bPfU/6L8Wv23/mH1GPszD10N2/59A4kMOgBU7n7z2QlgFDcKifrQ9aQEAhc7Ddr0ovoOECwKF/02BMIE7fje/e8L0xCYEqgJqPgU/qAMsgLu+JgEBQrYAp7+gvvT/Q4FoAB2+kL/ngBaA2ELmAGp+LwI3wb17ZHygwJG/vwFFw6p+HD0ZgvyBvXzW/Vl+DH/BRMJEMTzZ+pB+JwCXwQFAwf+T/cf9TX6qAXoEAkJu+907xcQxBuuA4j06v2YCQ0LnAMr+if28/qRCCQUzw/D/2LzSfWXAuMIQACc98D3Qfvr/Ef5W/VM/MQITwbS8fLnI/lFBpj9YvuLALb4YviKBcID0vwZAav+HflX/Vj8TvSA8bvzbvuJAlD/DfZ/6lXphf7gC/oCpgP0BkH5jPfdA+0CqP+p/5L4Jfk2AjACov0l+4b9rwkREKAG8/9iBt4N9AYL+qAEsBkSD4n39fr0CbUNZAc5+sTyH/j0/TkAJgGEAK4FHwvuAWf1FfcoAAYDVP3Z+e4AFATR+sT7XApABRLspejkAfEREwVb7zHvQgXeEpcPpQs1BHYAjA+nEIL5ifs6DgwHC/5kAgL/I/6vA3ADJgUrA6z8RgBp/ln/ZBaUD7zoMu0vB4MDEQGnANbz3/ck/VPyN/nHBbMC+AVIAJnr5/XbDUcAxOwT/m0TsARZ7IjzNQcjDe0SKA6X833u5AQVB+z3dfO792oFBRN4Cd33qvm3BrkKsQCw+eIGPBSbCnX71fbz9UT5fP0w+IL0UvrC+HvxGveO/w/9hfvv+X/tGOzHA6IQDvxz5C3m0fnkBhj/RvVr/hoEt/UB8QcBUQxHClj+VPA1+A8NBQYR7nru0/we/D31nPh9/u771PYk+KH/FgvJDqD83+ys/ygYDQ94+b/0JPzoB3INRgDG8oL6uQP4+GHsFfP1AZ4FlgBM/r/7x/bj+fj95fLt7g0GJhLT/P3uDvm7/k8AMArSCKH1iPCeBkES9/sG7scC1g3IAMH//wQRBnMTYw/C8Wr5pReTDbYBrg4rBT/7YROYGQIDcfwj/mH+KAuPDBr6lPcSBY4HDgLgADQDwwSJBIsF1gQAAGEBOwggCAEHewt6DMkKNQs5Bj/8qPik/G3+SvsI/Q4DhwHMAeELygjp96n2vgJwDYoW1A219jb5lQ+ZD5b8KfGu9rYJxxG8/0nuFvP5Az0NFv/q6orw+v00/VICmgar+lH70gJd97z8QxEzAun0vAk2BN7sI/lmAhH8BQhH/kTiCvvGGiQE+fN//eX61QV7GMMDkO/qAQoJ5fOV6VfyWwJHE3ESZviQ4ifrNAGuClgM4Qv8/6X0FPtmAo39jf00BDIDBQKBA8f4ee83+LH7E/mUB8cH8+Yy30/9UAlUAmYHFgyfB7kDnPr88Gv4oAbwBE34G/b1/Z38SvQl9mL97f9wAKX8kvbb+BEA9QUGCX4AyPKn8VT4FADeB6gAw/BS8Cn2J/lhAjcBmPLt9YYCvfzV9HT5kgP8D6EMLvXE7wwCJwm5CCoPUwkq+j/72AOdBOEF1QWs//P/BgLt903zwv6lBC4EwwiqArL2ZQA5CwX87vLaBZQWvBBK/IDr4vLDCfgTfg5lAaH1P/7FEI8O+P/a+Uz9iQkfDgX/M/c6/3gDKArpDVn73fFwBoIOKvr/7Pv3JAp2DG/+9fOk9MD/OA23A6XtsfKXBP0GbginBwL7U/hu/qP6IfiW+rj8ngZuCHP3ovN0AbIEVwAU/S33aPh+/hb+qwG1BuP/u/81C2UDR+4l9HgRnxrnAAboN/DbCBsVIBH+/7rvZPlfE54dIBOF/Trt6fd1CSX/M/FS+bP4POpf8r4B0PW08c4LGgm44iXlwgmADygLQg6K9Djo2RHiH/34RO+lAgQCyACfCiAMLQeT+cDqzPYhDFIIMftq+LH7jgPbCN8ELwBz/rf8qvt+/WUGGA2uAqD1f/h+A3IMnQlL+xT9Fw2rBqX1H/uFBQH+RfFH8qgC3gzTA0f89f/LAV8FZg0xCt36w/Lm/q4P4wcP9On5nw0yDGr82vbs//ILCQ68BFH3QPF1/ZsQoBKiBBz+AwmkDF347vU2FpkYbPPt6VL5I/31A6oEz+9G7vcCgv4s8IYCvxnZB1To2fLAFMEX/AUeAq8HVAlaAFnzovsHEUUVKxFODHf+Z/+zEcMKPvBN8dYJHQ9t+q/vi/+zEs8TTfq93U74TSu7FejnuQEqIisRh/+J6qbZp/6SFsvtleghG5Igp/BOzqzbdAjRFQ/5xfIDAykALf3fADX1S++Q+V35tvYoBNAKpfpA7D/1ywXMAxj2ZfZJBAMKsABr9QT2OgMcDtMGZvRa7Wj3qAdiFEoQg/jU6dD31glOCWz/ifUI8Wj9ug8fDSv6WO8k9NMEFBMRC1v2mPDt/hUSUxJX+uzv/QSgEvYIpgA6/xwBrQYmA/L3MffT/50GFgXc+HzvIvVL/E35y/n7Ajf+he7p91sLSAShAIAMDAET9o0IqhAODBILj/jY7yQFCwzqDJoUi/8J948S3ggs8mIEUwZfCms30h5r0Lz2U1FyPkwT1Cq6I73tavbhMkxAyx06BR8GLhCIC0n2+u/4/BUEtwDC623Q1eVWFbUKNOw/A8wYLQAz6S/oRPNRA1H8bOW46LoFrB6LDyveWeL0FMT508S092Iqtvys5CACDfRl1Ffs6hG5B07lq9sD4UzkoQZeMOkOI8VtvCjsaQz5DaAHQgWb/pfvWuEG2YXnJg2OEYjqLtoK6S79oRnfBv+vJZue8p4ei/AYzRvMC9PH6a38Mfcu76zpeOdQ/1EZqge96N/vFQVuAmf3Nu55317oTgmS/w7TftssEC0knQ+p6FbBX8fk+EoJd+Vx0UbrlwsvD6LzONvt7isQ5hJwJg1WJD6u06ST2cSzJGQ6yQq6ICBjPCnduYTNRBmBD/vgANAKzE7iRBrhHuDL56Pc9fg/DyH96/vtuhHuLXAowQVt8jAFvAbp1T7UcilDOQnVqLBZ+0AgSfUX3kcDxBl29SfWyN9XAhk4PSvDwSm/CkeiaZ/6a5y9lxX0SlaNMaTPIMOW9OQjaCXb7g3dWwsPHr399cbQpz7nWUGhN6D3mNWP1yoBWh/v+YrTVOStAv8VYyA2C8PRxLLc6bwzVSnQ6ujH/tcrEZQsCgMA5wb0Xvg5BmMZwAUY7V7qY/R1GE4rYwic8j4A+wnLFFoQ0Oxt4Bz0rvvz+in1xt541C7qhA5lIaX7or12x8ULDCs2HT/2tsIZ1bYhbx7c5LrdNOXUAjBAqyPn5ZwD5emloGEI/38zJEHIT/3CNcE4dRP824ntkTgMQS3vSaet1xtDEzJkyEPBbhCZNCQNzNf55O0XahskDLgK+/tWBfMqpyHG9bDn/wSGL9kkUfDP5930TfdHHAUna+um5eEh/imqDr4APegV3wz2ggBIBLcU0BSJBqYJDBmqGdcFFv1GD9IKHd5r1Q4JGx/K8OTUdAf7PzkvrwBN8KHnMuWnAKIIuOn25lkBewmNBpPum8Ni148pOExwJCPvbuI4ERg8FCIg9iv0JRQ6QHs98/CdxRv0axWW/IvuJPfU7y/mIfAx89TnUfazFOYR8gd1D2n9mPSYLY5DfPAbsALWZR0xQBoo1+l5y6HjK/ot99jyXOhr0wzgaBeYM8EPyeN98H0rtEPuEtHl+vV6FNAcVxIv9nDrzwGyBnHv1eDX6JQI6hLx3k3B6O0ACTECAA5pAODcveZj6JLJLeqGJ5wWAu4C8d34DvmL+FbpL+X1+sYIzAOO9BjnFfFH+qbnr+UQ/pn7P+/kA9sLgeDkvYHYZfnl3su/BOU3D6T2u9qS7xr9YOd/1LfRdeDlCfghnP5o40cLvSLF93rwACQdIaD4Nxi1SEEvews9CL722Otv/1L0KtEh4GYHtgb77VPeCuIC/t8SIPpa1yXzbTZCLfHTiMBwE2RAEhyI+dT9LBjsIacG9fwlGbQiPxn3Eu8BP/va/MvlrOC4/bQKTRARCM3d/eVBIkAZwuix63L/aBEeGpznY73G6JkNEwhWJ5MyZt92ouDDXOjY+40cpQsC25X8hDONAQ/ANuKoFTgNmQPuCrzxIOOMHBRI5hff5N3vKPYt4fDqShL1HMQH6AHICxwK/QmDCSMCBx4DNkb9YNTiAhYXZAqBKtQq1/ej+kYWiAr3A9AE3/Nq8Pz52Pt3/LjrhssZ1UUNoBb5xvabgPUsSVIZNtKy0pHrBQecGn38stH02NXzDfY+9IcDxwXl7ub4sSgQHYzU1sfSAxckKAgA3uLV1AEBO7c/+ggB3ePkFOcByl3OXumO5F3x5Q6Z7o3O1fReF/gYmAXz4AsFY1GYMXj+ngOYw1aevf29HLIJ6FODRXjDNKsa1HgHIWXASgHnxxTyH3ubq6A8IoQryfNo7sMWUVs4Ui7ozc1EF8wwXxLa+57yvfoMBS/85v4iE6wKt+Qk1sv/WjeuHcvC2MChILczbO2b4C8P9iBaFI8CWv5FFwQnbQvR6Ln3bTj3TSECTcSm4zkRnByoEsf0nPJsGwUuySdDHtMAdPmtE5cKO/h9Et8hHwut9E3wjQiNGL3ymeALCiMFXMeExu7/5hJk98rj0+4eA3r9L+I93Ab2gROXIx8YOPP16bIFP/wf1NThcwg4/+nn5OV+6UjzxOgkv5DJFg7sF5HiItWyAwsy7x/923/QM/78/cbqIfnw7vLXLeFr3HLXcPX3+ETqUwRHG1INOO8U0BbfnRyENcMTK+U71lgBoDlANnf1sLjFxE4CHCEDFyn00diC+zcf6w4+EasMIeliBtwucA0w4KyvKZ573F8Ppkf3e8IRxLqbAUDkCrw2L1kl0utGXqdQDNT3F3JVsgpp4YDkRhxqQRDhAclMHUIOkBtwWkYDH8zsH8MYfNuX60UISCjjM0sL7QIzATLVPuYZKzMqJ+e8utjhRiPIGgD4NPSC57LvlRU8/53N3eeeIn8m2gcJAokFH/PY/PUkNRPD3BnRvtr37jYVChId6UridvmlCFAEtPRZAjUqmCySBjLoH+OT+bgXsBYy+73qOPopHgQjl/T02wb/mRB67KLPDdmb+RkTdPg0yXrUh//pBgzp/M/s/N077w1X5/0yyBKEhZe1HULBKRnVX7dmyZki4UL+3n65rPKX7z7a//wrEGnvV8XE0tAZmSoM87HhFe3d5T0GCi+ICYLfcvLM+ebtzPzb+N7WQNyoBKQa9Q/J7FvdKfvOCszsFst6ybfwIQkt4pDS0/2U/ofo8f8l+8baivnWHCf0fcSf3kschB168DnrE+wR5SkkiENz7LPhmDf4Ez3F/PONJIAUUBl8+naoxcLNM1M2u+YT3XjmFNLGByVLUQbzqlS4VM9A1HYAoxEA2Dql/sJbGgdPHzv4D4/lldzIGvZAEg777UMNmDCCQYgbLdEB2Dcj/j3aJHwE9us+5wboiPN1EC4Ip++tCWYS8v2PNNxcCQiC2OcQug4x6ywdWTkH9nXT1gC4ISwJy93F2f0BSyDuIlgXevFMzzToURrsK4EqEieIHm4fnR9qBj/2pg7ZG4H6u+Ms+SoHv/Zf8ej8t/lQ8wgEFxGa91bbD/ZTIhsQTONx7O0JZQjl+/zlPNu1FZFO9B0Y3QAA\" type=\"audio/wav\" />\n",
       "                    Your browser does not support the audio element.\n",
       "                </audio>\n",
       "              "
      ],
      "text/plain": [
       "<IPython.lib.display.Audio object>"
      ]
     },
     "metadata": {},
     "output_type": "display_data"
    },
    {
     "name": "stdout",
     "output_type": "stream",
     "text": [
      "filepath: data/google_dataset_v2/google_speech_recognition_v2/marvin/e1936ce8_nohash_0.wav, Sample : 3557 Prediction : background Label : speech Confidence =  0.7275\n"
     ]
    },
    {
     "data": {
      "text/html": [
       "\n",
       "                <audio  controls=\"controls\" >\n",
       "                    <source src=\"data:audio/wav;base64,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\" type=\"audio/wav\" />\n",
       "                    Your browser does not support the audio element.\n",
       "                </audio>\n",
       "              "
      ],
      "text/plain": [
       "<IPython.lib.display.Audio object>"
      ]
     },
     "metadata": {},
     "output_type": "display_data"
    },
    {
     "name": "stdout",
     "output_type": "stream",
     "text": [
      "filepath: data/google_dataset_v2/google_speech_recognition_v2/marvin/e1936ce8_nohash_0.wav, Sample : 3979 Prediction : background Label : speech Confidence =  0.7601\n"
     ]
    },
    {
     "data": {
      "text/html": [
       "\n",
       "                <audio  controls=\"controls\" >\n",
       "                    <source src=\"data:audio/wav;base64,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\" type=\"audio/wav\" />\n",
       "                    Your browser does not support the audio element.\n",
       "                </audio>\n",
       "              "
      ],
      "text/plain": [
       "<IPython.lib.display.Audio object>"
      ]
     },
     "metadata": {},
     "output_type": "display_data"
    }
   ],
   "source": [
    "# Finally, lets listen to all the audio samples where the model made a mistake\n",
    "# Note: This list of incorrect samples may be quite large, so you may choose to subsample `incorrect_preds`\n",
    "count = min(count_low_confidence, 20)  # replace this line with just `count_low_confidence` to listen to all samples with low confidence\n",
    "\n",
    "for sample_id, pred, label, proba in incorrect_preds[:count]:\n",
    "    ipd.display(listen_to_file(sample_id, pred=pred, label=label, proba=proba))"
   ]
  },
  {
   "cell_type": "markdown",
   "metadata": {},
   "source": [
    "# Transfer Leaning & Fine-tuning on a new dataset\n",
    "For transfer learning please refer to [**Transfer learning** part of ASR tutorial](https://github.com/NVIDIA/NeMo/blob/candidate/tutorials/asr/01_ASR_with_NeMo.ipynb)\n",
    "\n",
    "More details on how to saving and restoring checkpoint, and exporting a model in its entirety, please refer to [**Fine-tuning on a new dataset** and **Advanced Usage parts** of Speech Command tutorial](https://github.com/NVIDIA/NeMo/blob/candidate/tutorials/asr/02_Speech_Commands.ipynb)\n",
    "\n",
    "\n",
    "\n"
   ]
  },
  {
   "cell_type": "markdown",
   "metadata": {
    "colab_type": "text",
    "id": "LyIegk2CPNsI"
   },
   "source": [
    "# Inference and more\n",
    "If you are interested in **pretrained** model and **streaming inference**, please have a look at [Offline_and_Online_VAD_Demo](https://github.com/NVIDIA/NeMo/blob/candidate/tutorials/asr/07_Online_Voice_Activity_Detection_Demo.ipynb)\n",
    "\n"
   ]
  }
 ],
 "metadata": {
  "accelerator": "GPU",
  "colab": {
   "collapsed_sections": [],
   "name": "02_Speech_Commands.ipynb",
   "provenance": [],
   "toc_visible": true
  },
  "kernelspec": {
   "display_name": "Python 3",
   "language": "python",
   "name": "python3"
  },
  "language_info": {
   "codemirror_mode": {
    "name": "ipython",
    "version": 3
   },
   "file_extension": ".py",
   "mimetype": "text/x-python",
   "name": "python",
   "nbconvert_exporter": "python",
   "pygments_lexer": "ipython3",
   "version": "3.7.7"
  }
 },
 "nbformat": 4,
 "nbformat_minor": 1
}
