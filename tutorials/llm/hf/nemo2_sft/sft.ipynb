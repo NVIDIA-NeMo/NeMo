{
 "cells": [
  {
   "cell_type": "markdown",
   "id": "a45b25c3-08b2-4a7e-b0cd-67293f15c307",
   "metadata": {},
   "source": [
    "# Learning Goals\n",
    "\n",
    "## Optimizing Hugging Face Models with Supervised Fine-Tuning (SFT) in NeMo 2.0\n",
    "\n",
    "NeMo 2.0 allows users to perform Supervised Fine-Tuning (SFT) and Parameter Efficient Fine-Tuning (PEFT) using Hugging Face (HF) LLMs. NeMo 2.0 utilizes HF's auto classes to download and load HF's transformer models, and wraps these models to turn them into lightning modules in order to perform tasks such as SFT and PEFT with NeMo 2.0. The goal of this feature is to provide day 0 support for the models available in HF.\n",
    "\n",
    "[AutoModel](https://huggingface.co/docs/transformers/en/model_doc/auto) is the generic model class that will be instantiated as one of the model classes of the library when created with the from_pretrained() class method. There are many AutoModel classes in HF and each of them covers a specific group of transformer model architectures. AutoModel class loads mainly the base transformer model that converts embeddings to hidden states where a specific AutoModel class such as AutoModelForCausalLM has a causal language modeling head on top of the base model.\n",
    "\n",
    "NeMo 2.0 includes wrapper classes for these auto model classes in HF in order to make them runnable in NeMo pretraining, SFT and PEFT workflows by turning them into a lightning module. Since there are many auto model classes, the widely used auto classes are currently added into the NeMo 2.0. \n",
    "\n",
    "In this notebook, we will demonstrate a SFT training example on how to perform SFT with Hugging Face LLMs to make the models more performant on a specific task. We will focus on the models that can be loaded using the HF's `AutoModelForCausalLM` class.\n",
    "\n",
    "## Data\n",
    "We will use [SQuAD](https://rajpurkar.github.io/SQuAD-explorer/) dataset which is a reading comprehension dataset, consisting of questions and answers pairs."
   ]
  },
  {
   "cell_type": "markdown",
   "id": "63a50bad-f356-4076-8c5c-66b4481029dc",
   "metadata": {},
   "source": [
    "## Step 1. Import Modules and Prepare the Dataset"
   ]
  },
  {
   "cell_type": "code",
   "execution_count": 1,
   "id": "28e16913-6a08-4ad8-835e-311fbb5af01d",
   "metadata": {},
   "outputs": [
    {
     "name": "stderr",
     "output_type": "stream",
     "text": [
      "/usr/local/lib/python3.12/dist-packages/tqdm/auto.py:21: TqdmWarning: IProgress not found. Please update jupyter and ipywidgets. See https://ipywidgets.readthedocs.io/en/stable/user_install.html\n",
      "  from .autonotebook import tqdm as notebook_tqdm\n",
      "[WARNING  | bitsandbytes.cextension]: Could not find the bitsandbytes CUDA binary at PosixPath('/usr/local/lib/python3.12/dist-packages/bitsandbytes/libbitsandbytes_cuda128.so')\n",
      "[WARNING  | bitsandbytes.cextension]: The installed version of bitsandbytes was compiled without GPU support. 8-bit optimizers, 8-bit multiplication, and GPU quantization are unavailable.\n",
      "[NeMo W 2025-02-03 17:53:41 nemo_logging:405] /usr/local/lib/python3.12/dist-packages/pyannote/core/notebook.py:134: MatplotlibDeprecationWarning: The get_cmap function was deprecated in Matplotlib 3.7 and will be removed in 3.11. Use ``matplotlib.colormaps[name]`` or ``matplotlib.colormaps.get_cmap()`` or ``pyplot.get_cmap()`` instead.\n",
      "      cm = get_cmap(\"Set1\")\n",
      "    \n"
     ]
    }
   ],
   "source": [
    "import tempfile\n",
    "from functools import partial\n",
    "\n",
    "import fiddle as fdl\n",
    "import lightning.pytorch as pl\n",
    "from lightning.pytorch.loggers import WandbLogger\n",
    "from torch.utils.data import DataLoader\n",
    "\n",
    "from nemo import lightning as nl\n",
    "from nemo.collections import llm\n",
    "from nemo.lightning.pytorch.callbacks import JitConfig, JitTransform"
   ]
  },
  {
   "cell_type": "markdown",
   "id": "5cfe3c7d-9d36-47d2-9107-361025d175a0",
   "metadata": {},
   "source": [
    "We will be using SquadDataModule that NeMo 2.0. provides. This data module extends the `FineTuningDataModule`, so that it has access to existing data handling logic including the packed sequences. "
   ]
  },
  {
   "cell_type": "code",
   "execution_count": 2,
   "id": "3fc6a132-688e-4ad3-94ae-557e57ab77cb",
   "metadata": {},
   "outputs": [],
   "source": [
    "class SquadDataModuleWithPthDataloader(llm.SquadDataModule):\n",
    "    \"\"\"Creates a squad dataset with a PT dataloader\"\"\"\n",
    "\n",
    "    def _create_dataloader(self, dataset, mode, **kwargs) -> DataLoader:\n",
    "        return DataLoader(\n",
    "            dataset,\n",
    "            num_workers=self.num_workers,\n",
    "            pin_memory=self.pin_memory,\n",
    "            persistent_workers=self.persistent_workers,\n",
    "            collate_fn=dataset.collate_fn,\n",
    "            batch_size=self.micro_batch_size,\n",
    "            **kwargs,\n",
    "        )\n",
    "\n",
    "\n",
    "def squad(tokenizer, mbs=1, gbs=2) -> pl.LightningDataModule:\n",
    "    \"\"\"Instantiates a SquadDataModuleWithPthDataloader and return it\n",
    "\n",
    "    Args:\n",
    "        tokenizer (AutoTokenizer): the tokenizer to use\n",
    "\n",
    "    Returns:\n",
    "        pl.LightningDataModule: the dataset to train with.\n",
    "    \"\"\"\n",
    "    return SquadDataModuleWithPthDataloader(\n",
    "        tokenizer=tokenizer,\n",
    "        seq_length=512,\n",
    "        micro_batch_size=mbs,\n",
    "        global_batch_size=gbs,\n",
    "        num_workers=0,\n",
    "        dataset_kwargs={\n",
    "            \"sanity_check_dist_workers\": False,\n",
    "            \"get_attention_mask_from_fusion\": True,\n",
    "        },\n",
    "    )"
   ]
  },
  {
   "cell_type": "markdown",
   "id": "a23943ee-ffa1-497d-a395-3e4767271341",
   "metadata": {},
   "source": [
    "## Step 2. Set Parameters and Start the SFT using a HF Model\n",
    "\n",
    "Now, we will set some of the important variables including the HF model name, maximum steps, number of GPUs, etc. You can find the details of these parameters below.\n",
    "- `model_name`: pre-trained HF model or path of a HF model.\n",
    "- `strategy`: distributed training strategy such as DDP, FSDP, etc. \n",
    "- `devices`: number of GPUs to be used in the training.\n",
    "- `max_steps`: number of steps in the training.\n",
    "- `wandb_project`: wandb project.\n",
    "- `use_torch_jit`: enable torch jit or not.\n",
    "- `ckpt_folder`: path for the checkpoins.\n",
    "\n",
    "All the popular models such as Llama, GPT, Gemma, Mistral, Phi, and Qwen are supported. After running this workflow, please go ahead and get yourself another HF model name and rerun the notebook with that model. Just please make sure you pick a model that can fit into your GPU(s) memory."
   ]
  },
  {
   "cell_type": "code",
   "execution_count": 3,
   "id": "3780a047-febb-4d97-a59a-99d8ee036332",
   "metadata": {},
   "outputs": [],
   "source": [
    "# In order to use the models like Llama, Gemma, you need to ask for permission on the HF model page and then pass the HF_TOKEN in the next cell.\n",
    "# model_name = \"google/gemma-2b\" # HF model name. This can be the path of the downloaded model as well.\n",
    "model_name = \"meta-llama/Llama-3.2-1B\"  # HF model name. This can be the path of the downloaded model as well.\n",
    "strategy = \"auto\" # Distributed training strategy such as DDP, FSDP2, etc.\n",
    "devices = 1 # Number of GPUs.\n",
    "max_steps = 100 # Number of steps in the training loop.\n",
    "accelerator = \"gpu\"\n",
    "wandb_project = None\n",
    "use_torch_jit = False # torch jit can be enabled.\n",
    "ckpt_folder=\"/opt/checkpoints/automodel_experiments/\" # Path for saving the checkpoint."
   ]
  },
  {
   "cell_type": "markdown",
   "id": "6966670b-2097-47c0-95f2-edaafab0e33f",
   "metadata": {},
   "source": [
    "Some models have gated access and if you running one of those models, you will need to get access first and then you need to set your HF Token by running the cell below."
   ]
  },
  {
   "cell_type": "code",
   "execution_count": 4,
   "id": "439a3c6a-8718-4b49-acdb-e7f59db38f59",
   "metadata": {},
   "outputs": [],
   "source": [
    "import os\n",
    "os.environ[\"HF_TOKEN\"] ='<HF_TOKEN>'"
   ]
  },
  {
   "cell_type": "markdown",
   "id": "7cd65e5e-93fa-4ea0-b89d-2f48431b725c",
   "metadata": {},
   "source": [
    "After setting some of the parameters, we can start the SFT training workflow. Even though the SFT workflow with the HF models/checkpoints seems slightly different than the workflows with NeMo models/checkpoints, we still use the same NeMo 2.0 API. The main difference is the model we pass into the `finetune` API. \n",
    "\n"
   ]
  },
  {
   "cell_type": "code",
   "execution_count": null,
   "id": "d3578630-05b7-4a8c-8b5d-a7d9e847f17b",
   "metadata": {},
   "outputs": [
    {
     "name": "stderr",
     "output_type": "stream",
     "text": [
      "huggingface/tokenizers: The current process just got forked, after parallelism has already been used. Disabling parallelism to avoid deadlocks...\n",
      "To disable this warning, you can either:\n",
      "\t- Avoid using `tokenizers` before the fork if possible\n",
      "\t- Explicitly set the environment variable TOKENIZERS_PARALLELISM=(true | false)\n",
      "[INFO     | pytorch_lightning.utilities.rank_zero]: Using bfloat16 Automatic Mixed Precision (AMP)\n",
      "[INFO     | pytorch_lightning.utilities.rank_zero]: GPU available: True (cuda), used: True\n",
      "[INFO     | pytorch_lightning.utilities.rank_zero]: TPU available: False, using: 0 TPU cores\n",
      "[INFO     | pytorch_lightning.utilities.rank_zero]: HPU available: False, using: 0 HPUs\n"
     ]
    },
    {
     "name": "stdout",
     "output_type": "stream",
     "text": [
      "[NeMo I 2025-02-03 17:53:43 nemo_logging:393] Experiments will be logged at /opt/NeMo/tutorials/llm/hf/nemo2_sft/nemo_experiments/default/2025-02-03_17-53-43\n"
     ]
    },
    {
     "name": "stderr",
     "output_type": "stream",
     "text": [
      "[NeMo W 2025-02-03 17:53:43 nemo_logging:405] \"update_logger_directory\" is True. Overwriting tensorboard logger \"save_dir\" to /opt/NeMo/tutorials/llm/hf/nemo2_sft/nemo_experiments\n",
      "LOCAL_RANK: 0 - CUDA_VISIBLE_DEVICES: [0,1]\n",
      "\n",
      "  | Name  | Type             | Params | Mode \n",
      "---------------------------------------------------\n",
      "0 | model | LlamaForCausalLM | 1.2 B  | train\n",
      "---------------------------------------------------\n",
      "1.2 B     Trainable params\n",
      "0         Non-trainable params\n",
      "1.2 B     Total params\n",
      "4,943.258 Total estimated model params size (MB)\n",
      "231       Modules in train mode\n",
      "0         Modules in eval mode\n"
     ]
    },
    {
     "name": "stdout",
     "output_type": "stream",
     "text": [
      "[NeMo I 2025-02-03 17:53:47 nemo_logging:393] Building data files\n",
      "[NeMo I 2025-02-03 17:53:47 nemo_logging:393] Processing 1 data files using 1 workers\n"
     ]
    },
    {
     "name": "stderr",
     "output_type": "stream",
     "text": [
      "[rank: 0] Received SIGTERM: 15\n"
     ]
    },
    {
     "name": "stdout",
     "output_type": "stream",
     "text": [
      "[NeMo I 2025-02-03 17:53:47 nemo_logging:393] Time building 0 / 1 mem-mapped files: 0:00:00.095013\n",
      "[NeMo I 2025-02-03 17:53:47 nemo_logging:393] Loading data files\n",
      "[NeMo I 2025-02-03 17:53:47 nemo_logging:393] Loading /root/.cache/nemo/datasets/squad/training.jsonl\n",
      "[NeMo I 2025-02-03 17:53:47 nemo_logging:393] Time loading 1 mem-mapped files: 0:00:00.001627\n",
      "[NeMo I 2025-02-03 17:53:47 nemo_logging:393] Computing global indices\n"
     ]
    },
    {
     "name": "stderr",
     "output_type": "stream",
     "text": [
      "huggingface/tokenizers: The current process just got forked, after parallelism has already been used. Disabling parallelism to avoid deadlocks...\n",
      "To disable this warning, you can either:\n",
      "\t- Avoid using `tokenizers` before the fork if possible\n",
      "\t- Explicitly set the environment variable TOKENIZERS_PARALLELISM=(true | false)\n",
      "[NeMo W 2025-02-03 17:53:47 nemo_logging:405] /usr/local/lib/python3.12/dist-packages/lightning/pytorch/trainer/connectors/data_connector.py:424: The 'train_dataloader' does not have many workers which may be a bottleneck. Consider increasing the value of the `num_workers` argument` to `num_workers=23` in the `DataLoader` to improve performance.\n",
      "    \n"
     ]
    },
    {
     "name": "stdout",
     "output_type": "stream",
     "text": [
      "Epoch 0:  50%|██████████████████████████████▋                               | 50/101 [00:07<00:07,  6.73it/s, v_num=3-43, train_loss_step=0.00112]"
     ]
    },
    {
     "name": "stderr",
     "output_type": "stream",
     "text": [
      "[INFO     | pytorch_lightning.utilities.rank_zero]: Epoch 0, global step 50: 'val_loss' was not in top 3\n"
     ]
    },
    {
     "name": "stdout",
     "output_type": "stream",
     "text": [
      "Epoch 0:  99%|█████████████████████████████████████████████████████████████▍| 100/101 [00:19<00:00,  5.26it/s, v_num=3-43, train_loss_step=0.0838]"
     ]
    },
    {
     "name": "stderr",
     "output_type": "stream",
     "text": [
      "[INFO     | pytorch_lightning.utilities.rank_zero]: Epoch 0, global step 100: 'val_loss' was not in top 3\n"
     ]
    },
    {
     "name": "stdout",
     "output_type": "stream",
     "text": [
      "Epoch 0:  99%|████████████████████████████████████▋| 100/101 [00:24<00:00,  4.12it/s, v_num=3-43, train_loss_step=0.0838, train_loss_epoch=0.0236]"
     ]
    },
    {
     "name": "stderr",
     "output_type": "stream",
     "text": [
      "[INFO     | pytorch_lightning.utilities.rank_zero]: `Trainer.fit` stopped: `max_steps=100` reached.\n"
     ]
    },
    {
     "name": "stdout",
     "output_type": "stream",
     "text": [
      "Epoch 0:  99%|████████████████████████████████████▋| 100/101 [00:24<00:00,  4.12it/s, v_num=3-43, train_loss_step=0.0838, train_loss_epoch=0.0236]\n"
     ]
    }
   ],
   "source": [
    "wandb = None\n",
    "if wandb_project is not None:\n",
    "    model = '_'.join(args.model.split('/')[-2:])\n",
    "    wandb = WandbLogger(\n",
    "        project=wandb_project,\n",
    "        name=f'{model}_dev{devices}_strat_{strategy}',\n",
    "    )\n",
    "\n",
    "callbacks = []\n",
    "if use_torch_jit:\n",
    "    jit_config = JitConfig(use_torch=True, torch_kwargs={'dynamic': False}, use_thunder=False)\n",
    "    callbacks = [JitTransform(jit_config)]\n",
    "\n",
    "callbacks.append(\n",
    "    nl.ModelCheckpoint(\n",
    "        every_n_train_steps=max_steps // 2,\n",
    "        dirpath=ckpt_folder,\n",
    "    )\n",
    ")\n",
    "\n",
    "if strategy == 'fsdp2':\n",
    "    astrategy = nl.FSDP2Strategy(data_parallel_size=devices, tensor_parallel_size=1)\n",
    "\n",
    "if __name__ == '__main__':\n",
    "    llm.api.finetune(\n",
    "        model=llm.HFAutoModelForCausalLM(model_name=model_name),\n",
    "        data=squad(llm.HFAutoModelForCausalLM.configure_tokenizer(model_name), gbs=devices),\n",
    "        trainer=nl.Trainer(\n",
    "            devices=devices,\n",
    "            max_steps=max_steps,\n",
    "            accelerator=\"gpu\",\n",
    "            strategy=strategy,\n",
    "            log_every_n_steps=1,\n",
    "            limit_val_batches=0.0,\n",
    "            num_sanity_val_steps=0,\n",
    "            accumulate_grad_batches=1,\n",
    "            gradient_clip_val=1.0,\n",
    "            use_distributed_sampler=False,\n",
    "            logger=wandb,\n",
    "            callbacks=callbacks,\n",
    "            precision=\"bf16\",\n",
    "        ),\n",
    "        optim=fdl.build(llm.adam.pytorch_adam_with_flat_lr(lr=1e-5)),\n",
    "        log=None,\n",
    "    )"
   ]
  },
  {
   "cell_type": "code",
   "execution_count": null,
   "id": "76bdec21-b33d-44af-b494-7023bfa26db5",
   "metadata": {},
   "outputs": [],
   "source": []
  }
 ],
 "metadata": {
  "kernelspec": {
   "display_name": "Python 3 (ipykernel)",
   "language": "python",
   "name": "python3"
  },
  "language_info": {
   "codemirror_mode": {
    "name": "ipython",
    "version": 3
   },
   "file_extension": ".py",
   "mimetype": "text/x-python",
   "name": "python",
   "nbconvert_exporter": "python",
   "pygments_lexer": "ipython3",
   "version": "3.12.3"
  }
 },
 "nbformat": 4,
 "nbformat_minor": 5
}
