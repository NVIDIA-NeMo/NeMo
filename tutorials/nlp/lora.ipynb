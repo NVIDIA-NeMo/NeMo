{
 "cells": [
  {
   "cell_type": "markdown",
   "source": [
    "Currently, this notebook must be run in a NeMo container.\n",
    "Update megatron version to the newest."
   ],
   "metadata": {
    "collapsed": false
   }
  },
  {
   "cell_type": "code",
   "execution_count": 1,
   "outputs": [
    {
     "name": "stdout",
     "output_type": "stream",
     "text": [
      "Looking in indexes: https://pypi.org/simple, https://pypi.ngc.nvidia.com\r\n",
      "Obtaining megatron-core from git+https://github.com/NVIDIA/Megatron-LM#egg=megatron-core\r\n",
      "  Updating ./src/megatron-core clone\r\n",
      "  Running command git fetch -q --tags\r\n",
      "  Running command git reset --hard -q dc21350806361564b8ce61d4a8d247cb195cc5f0\r\n",
      "  Installing build dependencies ... \u001B[?25ldone\r\n",
      "\u001B[?25h  Checking if build backend supports build_editable ... \u001B[?25ldone\r\n",
      "\u001B[?25h  Getting requirements to build editable ... \u001B[?25ldone\r\n",
      "\u001B[?25h  Preparing editable metadata (pyproject.toml) ... \u001B[?25ldone\r\n",
      "\u001B[?25hRequirement already satisfied: torch in /usr/local/lib/python3.10/dist-packages (from megatron-core) (2.1.0a0+b5021ba)\r\n",
      "Requirement already satisfied: filelock in /usr/local/lib/python3.10/dist-packages (from torch->megatron-core) (3.12.2)\r\n",
      "Requirement already satisfied: typing-extensions in /usr/local/lib/python3.10/dist-packages (from torch->megatron-core) (4.7.0)\r\n",
      "Requirement already satisfied: sympy in /usr/local/lib/python3.10/dist-packages (from torch->megatron-core) (1.12)\r\n",
      "Requirement already satisfied: networkx in /usr/local/lib/python3.10/dist-packages (from torch->megatron-core) (2.6.3)\r\n",
      "Requirement already satisfied: jinja2 in /usr/local/lib/python3.10/dist-packages (from torch->megatron-core) (3.1.2)\r\n",
      "Requirement already satisfied: fsspec in /usr/local/lib/python3.10/dist-packages (from torch->megatron-core) (2023.6.0)\r\n",
      "Requirement already satisfied: MarkupSafe>=2.0 in /usr/local/lib/python3.10/dist-packages (from jinja2->torch->megatron-core) (2.1.3)\r\n",
      "Requirement already satisfied: mpmath>=0.19 in /usr/local/lib/python3.10/dist-packages (from sympy->torch->megatron-core) (1.3.0)\r\n",
      "Building wheels for collected packages: megatron-core\r\n",
      "  Building editable for megatron-core (pyproject.toml) ... \u001B[?25ldone\r\n",
      "\u001B[?25h  Created wheel for megatron-core: filename=megatron_core-0.4.0rc0-0.editable-py3-none-any.whl size=8658 sha256=98a0f1de64e283b6ac838c9f553308beac229d5955b83dbdf3d5d8a7bcc61127\r\n",
      "  Stored in directory: /tmp/pip-ephem-wheel-cache-xysrr2jl/wheels/b9/25/96/2984dd1dd83301f3574afa0135c2b727fab10c920398f86695\r\n",
      "Successfully built megatron-core\r\n",
      "Installing collected packages: megatron-core\r\n",
      "  Attempting uninstall: megatron-core\r\n",
      "    Found existing installation: megatron-core 0.4.0rc0\r\n",
      "    Uninstalling megatron-core-0.4.0rc0:\r\n",
      "      Successfully uninstalled megatron-core-0.4.0rc0\r\n",
      "Successfully installed megatron-core-0.4.0rc0\r\n",
      "\u001B[33mWARNING: Running pip as the 'root' user can result in broken permissions and conflicting behaviour with the system package manager. It is recommended to use a virtual environment instead: https://pip.pypa.io/warnings/venv\u001B[0m\u001B[33m\r\n",
      "\u001B[0m\r\n",
      "\u001B[1m[\u001B[0m\u001B[34;49mnotice\u001B[0m\u001B[1;39;49m]\u001B[0m\u001B[39;49m A new release of pip is available: \u001B[0m\u001B[31;49m23.1.2\u001B[0m\u001B[39;49m -> \u001B[0m\u001B[32;49m23.2.1\u001B[0m\r\n",
      "\u001B[1m[\u001B[0m\u001B[34;49mnotice\u001B[0m\u001B[1;39;49m]\u001B[0m\u001B[39;49m To update, run: \u001B[0m\u001B[32;49mpython -m pip install --upgrade pip\u001B[0m\r\n"
     ]
    }
   ],
   "source": [
    "!cd /workspace && python -m pip install -e git+https://github.com/NVIDIA/Megatron-LM#egg=megatron-core"
   ],
   "metadata": {
    "collapsed": false
   }
  },
  {
   "cell_type": "code",
   "execution_count": 2,
   "outputs": [
    {
     "name": "stdout",
     "output_type": "stream",
     "text": [
      "/NeMo/tutorials/nlp\n"
     ]
    }
   ],
   "source": [
    "%cd /NeMo/tutorials/nlp\n",
    "BRANCH='peft_refactor'\n",
    "import os\n",
    "import wget\n",
    "import sys\n",
    "sys.path.insert(0, \"../..\")  # find the local nemo first before the installed nemo"
   ],
   "metadata": {
    "collapsed": false
   }
  },
  {
   "cell_type": "code",
   "execution_count": null,
   "id": "developmental-gibraltar",
   "metadata": {},
   "outputs": [],
   "source": [
    "\"\"\"\n",
    "======= DELETE THIS =======\n",
    "You can run either this notebook locally (if you have all the dependencies and a GPU) or on Google Colab.\n",
    "\n",
    "Instructions for setting up Colab are as follows:\n",
    "1. Open a new Python 3 notebook.\n",
    "2. Import this notebook from GitHub (File -> Upload Notebook -> \"GITHUB\" tab -> copy/paste GitHub URL)\n",
    "3. Connect to an instance with a GPU (Runtime -> Change runtime type -> select \"GPU\" for hardware accelerator)\n",
    "4. Run this cell to set up dependencies.\n",
    "======= DELETE THIS =======\n",
    "\"\"\"\n",
    "# If you're using Google Colab and not running locally, run this cell\n",
    "\n",
    "# install NeMo\n",
    "# !python -m pip install git+https://github.com/NVIDIA/NeMo.git@$BRANCH#egg=nemo_toolkit[nlp]"
   ]
  },
  {
   "attachments": {},
   "cell_type": "markdown",
   "id": "42daf8bf",
   "metadata": {},
   "source": [
    "### Introduction\n",
    "\n",
    "This notebook demonstrates how to apply PEFT in NeMo. For brevity, we have chosen LoRA as the PEFT technique and GPT as the language model, but the same recipe can be used for other PEFT techniques and language models, as described in the [Training](#training) section.\n",
    "\n",
    " The implementation of LoRA is based on the paper, [LoRA: Low-Rank Adaptation of Large Language Models](https://openreview.net/pdf?id=nZeVKeeFYf9) by Hu et al.\n",
    "\n",
    "This example demonstrates how to:\n",
    "\n",
    "    1. Train a LoRA model on a simple Extractive QA task.\n",
    "    2. Inspect the trained LoRA model showing the parameters it contains.\n",
    "    3. Run inference with the based model with the LoRA parameters."
   ]
  },
  {
   "attachments": {},
   "cell_type": "markdown",
   "id": "0bfc7709",
   "metadata": {},
   "source": [
    "### Tasks and Datasets\n",
    "We will be using LoRA to teach our GPT model to do Extractive Question Answering.\n",
    "\n",
    "We will be using the [SQuAD](https://rajpurkar.github.io/SQuAD-explorer/) reading comprehension dataset, consisting of questions posed by crowd workers on a set of Wikipedia articles, where the answer to every question is a segment of text. More information on [SQuAD](https://rajpurkar.github.io/SQuAD-explorer/) can be found on their website or in their paper by Rajpurkar et. al \"[Know What You Don’t Know: Unanswerable Questions for SQuAD](https://arxiv.org/pdf/1806.03822.pdf)\".\n",
    "\n",
    "LoRA (and all PEFT tuning) models expect at least two fields in the jsonl files. The `input` field should contain all the tokens necessary for the model to generate the `output`. For example for extractive QA, the `input` should contain the context text as well as the question.\n",
    "\n",
    "```\n",
    "[\n",
    "    {\"input\": \"User: Context: [CONTEXT_1] Question: [QUESTION_1]\\n\\nAssistant:\", \"output\": [ANSWER_1]},\n",
    "    {\"input\": \"User: Context: [CONTEXT_2] Question: [QUESTION_2]\\n\\nAssistant:\", \"output\": [ANSWER_2]},\n",
    "    {\"input\": \"User: Context: [CONTEXT_3] Question: [QUESTION_3]\\n\\nAssistant:\", \"output\": [ANSWER_3]},\n",
    "]\n",
    "```\n",
    "Note that we use keywords in the input like `Context:`, `Question:` to separate the text representing the context and question. We also use the keyword `User:` and end each of the input with `\\n\\nAssistant:` tokens. These are recommended because NeMo's instruction-tuned models are trained with a prefix of `User:` and suffix `\\n\\nAssistant:`."
   ]
  },
  {
   "cell_type": "code",
   "execution_count": 3,
   "id": "0dbd41fd",
   "metadata": {},
   "outputs": [],
   "source": [
    "# You can replace DATA_DIR and NEMO_DIR with your own locations\n",
    "DATA_DIR = \"data\"\n",
    "NEMO_DIR = \".\"\n",
    "os.makedirs(DATA_DIR, exist_ok=True)\n",
    "SQUAD_DIR = os.path.join(DATA_DIR, \"SQuAD\")\n",
    "os.makedirs(SQUAD_DIR, exist_ok=True)"
   ]
  },
  {
   "attachments": {},
   "cell_type": "markdown",
   "id": "504a7b40",
   "metadata": {},
   "source": [
    "\n",
    "For each dataset we have preprocessing scripts pre-written in NeMo's example directory located in `examples/nlp`. Let's download those now. "
   ]
  },
  {
   "cell_type": "code",
   "execution_count": null,
   "id": "e72a1dc1",
   "metadata": {},
   "outputs": [],
   "source": [
    "# download the preprocessing scripts from github for the purpose of this tutorial\n",
    "! wget -nc https://raw.githubusercontent.com/NVIDIA/NeMo/{BRANCH}/scripts/dataset_processing/nlp/squad/prompt_learning_squad_preprocessing.py"
   ]
  },
  {
   "attachments": {},
   "cell_type": "markdown",
   "id": "71813919",
   "metadata": {},
   "source": [
    "Now let's down load and process the dataset."
   ]
  },
  {
   "cell_type": "code",
   "execution_count": null,
   "id": "fa16d8ac",
   "metadata": {},
   "outputs": [],
   "source": [
    "# Download the SQuAD dataset\n",
    "!wget -nc https://rajpurkar.github.io/SQuAD-explorer/dataset/train-v1.1.json\n",
    "!wget -nc https://rajpurkar.github.io/SQuAD-explorer/dataset/dev-v1.1.json\n",
    "!mv train-v1.1.json {SQUAD_DIR}\n",
    "!mv dev-v1.1.json {SQUAD_DIR}"
   ]
  },
  {
   "cell_type": "code",
   "execution_count": null,
   "id": "64e3e25b",
   "metadata": {},
   "outputs": [],
   "source": [
    "# Preprocess squad data\n",
    "!python prompt_learning_squad_preprocessing.py --sft-format --data-dir {SQUAD_DIR}"
   ]
  },
  {
   "cell_type": "code",
   "execution_count": null,
   "id": "b562d1de",
   "metadata": {},
   "outputs": [],
   "source": [
    "# What the squad dataset looks like after processing\n",
    "! head -200 $SQUAD_DIR/squad_train.jsonl > $SQUAD_DIR/squad_short_train.jsonl\n",
    "! head -20 $SQUAD_DIR/squad_val.jsonl > $SQUAD_DIR/squad_short_val.jsonl\n",
    "! head -4 $SQUAD_DIR/squad_short_val.jsonl\n",
    "! head -4 $SQUAD_DIR/squad_short_train.jsonl"
   ]
  },
  {
   "attachments": {},
   "cell_type": "markdown",
   "id": "2e19c8dc",
   "metadata": {},
   "source": [
    "### Model Config Setup\n",
    "Now we will begin setting up the config file needed for PEFT tuning. We use a single config for all supported PEFT methods (LoRA, Adapter, IA3 and P-Tuning, as well as combinations of these).  All PEFT methods use the GPT finetuning class `MegatronGPTSFTModel` as the frozen base network, and use the `add_adapter()` method to add adapter weights for PEFT.\n",
    "\n",
    "Let's create a config object for LoRA training."
   ]
  },
  {
   "cell_type": "code",
   "execution_count": 4,
   "id": "5749c387",
   "metadata": {},
   "outputs": [
    {
     "name": "stdout",
     "output_type": "stream",
     "text": [
      "100% [..............................................................................] 10542 / 10542"
     ]
    }
   ],
   "source": [
    "from omegaconf import OmegaConf\n",
    "\n",
    "CONFIG_DIR = os.path.join(NEMO_DIR, \"conf\")\n",
    "os.makedirs(CONFIG_DIR, exist_ok=True)\n",
    "\n",
    "# Download the example config file\n",
    "wget.download(f'https://raw.githubusercontent.com/NVIDIA/NeMo/{BRANCH}/examples/nlp/language_modeling/tuning/conf/megatron_gpt_peft_tuning_config.yaml', CONFIG_DIR)\n",
    "\n",
    "# Load the example config file so we can start editing it\n",
    "CONFIG_PATH = os.path.join(CONFIG_DIR, \"megatron_gpt_peft_tuning_config.yaml\")\n",
    "config = OmegaConf.load(CONFIG_PATH)"
   ]
  },
  {
   "attachments": {},
   "cell_type": "markdown",
   "id": "ce966bcf",
   "metadata": {},
   "source": [
    "The `config` contains several attributes required by the `MegatronGPTSFTModel`. First we will set the training data path and the validation data path in the config.\n",
    "The `config` allows us to set a list of `jsonl` files as training files and sample examples from each file with different probabilities. For simplicity, we are going to use just one training file and thus the sampling probability is set to `1.0`\n",
    "\n",
    "We can also monitor validation loss from multiple validation files during training. Again for simplicity we will use just one validation file."
   ]
  },
  {
   "cell_type": "code",
   "execution_count": 5,
   "id": "6bb1590f",
   "metadata": {},
   "outputs": [],
   "source": [
    "config.model.data.train_ds.file_names = [f\"{SQUAD_DIR}/squad_short_train.jsonl\"]\n",
    "config.model.data.train_ds.concat_sampling_probabilities=[1.0]\n",
    "config.model.data.validation_ds.file_names = [f\"{SQUAD_DIR}/squad_short_val.jsonl\"]\n",
    "config.model.data.validation_ds.names=[\"squad_val\"]"
   ]
  },
  {
   "attachments": {},
   "cell_type": "markdown",
   "id": "f6b7831a",
   "metadata": {},
   "source": [
    "### PEFT Config\n",
    "The attribute [config.model.peft](https://github.com/NVIDIA/NeMo/blob/main/examples/nlp/language_modeling/tuning/conf/megatron_gpt_peft_tuning_config.yaml#L78) contains settings that control the PEFT training method and its related hyperpameters. We currently support `lora`, `adapter`, `ptuning` and `ia3`. We can instruct the training script to use one of these methods by setting the config.model.peft.peft_scheme attribute.\n",
    "\n",
    "The other hyperparams associated with lora tuning are present in the [config.model.peft.lora_tuning](https://github.com/NVIDIA/NeMo/blob/main/examples/nlp/language_modeling/tuning/conf/megatron_gpt_peft_tuning_config.yaml#L92) attribute."
   ]
  },
  {
   "cell_type": "code",
   "execution_count": 6,
   "id": "72c9f966",
   "metadata": {},
   "outputs": [
    {
     "name": "stdout",
     "output_type": "stream",
     "text": [
      "adapter_dim: 32\n",
      "adapter_dropout: 0.0\n",
      "column_init_method: xavier\n",
      "row_init_method: zero\n",
      "layer_selection: null\n",
      "weight_tying: false\n",
      "position_embedding_strategy: null\n",
      "\n"
     ]
    }
   ],
   "source": [
    "config.model.peft.peft_scheme=\"lora\"  # we can also set this to adapter or ptuning or ia3\n",
    "print(OmegaConf.to_yaml(config.model.peft.lora_tuning))"
   ]
  },
  {
   "attachments": {},
   "cell_type": "markdown",
   "id": "c32e73c3",
   "metadata": {},
   "source": [
    "**Note:** In the original LoRA paper each attention projection (`K`, `Q`, `V` and `O`) can have their own Low-Rank projections. However, NeMo's attention implementation fuses `KQV` into a single projection and thus our LoRA implementation learns a single Low-Rank projection for `KQV` in a combined fashion. We do not support LoRA for the `O` matrix at this point."
   ]
  },
  {
   "attachments": {},
   "cell_type": "markdown",
   "id": "4e021b24",
   "metadata": {},
   "source": [
    "### Prompt Formatting\n",
    "The `config.model.data.train_ds.prompt_template` attribute allows us to further tweak the format of the input and output if needed. In this example, we have \"encoding\" our format inside the `jsonl` file directly. So we can keep the `prompt_template` in the config simple.(See previous section on Data Preparation). "
   ]
  },
  {
   "cell_type": "code",
   "execution_count": 7,
   "id": "1b6aa5c7",
   "metadata": {},
   "outputs": [],
   "source": [
    "config.model.data.train_ds.prompt_template =\"{input} {output}\""
   ]
  },
  {
   "attachments": {},
   "cell_type": "markdown",
   "id": "a0d5017e",
   "metadata": {},
   "source": [
    "### Setting the Pretrained GPT Model\n",
    "Next we will set the \"base language model\" upon which we will perform LoRA tuning. Obviously, larger base models will have better performance on downstream tasks but for the purposes of this tutorial we will use a small 345M parameter GPT model."
   ]
  },
  {
   "cell_type": "code",
   "execution_count": 25,
   "id": "48cdf868",
   "metadata": {},
   "outputs": [
    {
     "data": {
      "text/plain": "'https://api.ngc.nvidia.com/v2/models/nvidia/nemo/megatron_gpt_345m/versions/1/files/megatron_gpt_345m.nemo'"
     },
     "execution_count": 25,
     "metadata": {},
     "output_type": "execute_result"
    }
   ],
   "source": [
    "# Check what GPT .nemo models we have available on NGC\n",
    "from nemo.collections.nlp.models.language_modeling.megatron_gpt_model import MegatronGPTModel\n",
    "megatron_gpt_345m_nemo_url = MegatronGPTModel.list_available_models()[0].location\n",
    "megatron_gpt_345m_nemo_url # should point to the 345m megatron gpt model '.nemo' file"
   ]
  },
  {
   "attachments": {},
   "cell_type": "markdown",
   "id": "ede350ed",
   "metadata": {},
   "source": [
    "If we wanted to use the GPT model class directly, we could instantiate a trainer then download the model by calling running \n",
    "`gpt_model = MegatronGPTModel.from_pretrained(model_name=\"megatron_gpt_345m\", trainer=trainer).cuda()`. But we just need the `.nemo` file in our working NeMo directory in this tutorial, so we will download it using `wget`. "
   ]
  },
  {
   "cell_type": "code",
   "execution_count": 8,
   "id": "364439a1",
   "metadata": {
    "scrolled": true
   },
   "outputs": [],
   "source": [
    "# Download the model from NGC\n",
    "gpt_file_name = \"megatron_gpt_345m.nemo\""
   ]
  },
  {
   "cell_type": "code",
   "execution_count": null,
   "outputs": [],
   "source": [
    "!wget  -nc --content-disposition {megatron_gpt_345m_nemo_url} -O {NEMO_DIR}/{gpt_file_name}"
   ],
   "metadata": {
    "collapsed": false
   }
  },
  {
   "attachments": {},
   "cell_type": "markdown",
   "id": "1d6a8a67",
   "metadata": {},
   "source": [
    "Now that we have a `.nemo` GPT file to work with. We need to add its path in our prompt learning config. "
   ]
  },
  {
   "cell_type": "code",
   "execution_count": 9,
   "id": "2778a5fa",
   "metadata": {},
   "outputs": [],
   "source": [
    "# Set GPT model path on prompt learning config\n",
    "config.model.restore_from_path = gpt_file_name"
   ]
  },
  {
   "attachments": {},
   "cell_type": "markdown",
   "id": "943a9c83",
   "metadata": {},
   "source": [
    "Next, we will set where we want to save all the intermediate training logs and checkpoints. As well as other training settings such as: number of training steps, batch size and validation check interval, and num_workers for data processing."
   ]
  },
  {
   "cell_type": "code",
   "execution_count": 10,
   "id": "a278cbdf",
   "metadata": {},
   "outputs": [],
   "source": [
    "config.exp_manager.exp_dir=f\"{NEMO_DIR}/peft_lora\"\n",
    "config.exp_manager.explicit_log_dir=\"training_info\"\n",
    "config.trainer.max_steps=100\n",
    "config.model.micro_batch_size=1\n",
    "config.model.global_batch_size=4\n",
    "config.trainer.val_check_interval=50\n",
    "config.model.data.train_ds.num_workers=0  # 0 is recommended which just uses the main thread to process training examples\n",
    "config.model.data.validation_ds.num_workers=0 # 0 is recommended which just uses the main thread to process the validation examples"
   ]
  },
  {
   "attachments": {},
   "cell_type": "markdown",
   "id": "a988d16e",
   "metadata": {},
   "source": [
    "Let's have a look at all the values we've set in the model config. You can change any of these values in the same manner we've been using above. "
   ]
  },
  {
   "cell_type": "code",
   "execution_count": 11,
   "id": "12a37ada",
   "metadata": {
    "scrolled": true
   },
   "outputs": [
    {
     "name": "stdout",
     "output_type": "stream",
     "text": [
      "seed: 1234\n",
      "tensor_model_parallel_size: 1\n",
      "pipeline_model_parallel_size: 1\n",
      "global_batch_size: 4\n",
      "micro_batch_size: 1\n",
      "restore_from_path: megatron_gpt_345m.nemo\n",
      "resume_from_checkpoint: null\n",
      "save_nemo_on_validation_end: false\n",
      "sync_batch_comm: false\n",
      "megatron_amp_O2: false\n",
      "sequence_parallel: false\n",
      "activations_checkpoint_granularity: null\n",
      "activations_checkpoint_method: null\n",
      "activations_checkpoint_num_layers: null\n",
      "activations_checkpoint_layers_per_pipeline: null\n",
      "answer_only_loss: true\n",
      "gradient_as_bucket_view: false\n",
      "hidden_dropout: 0.0\n",
      "attention_dropout: 0.0\n",
      "ffn_dropout: 0.0\n",
      "peft:\n",
      "  peft_scheme: lora\n",
      "  restore_from_path: null\n",
      "  adapter_tuning:\n",
      "    type: parallel_adapter\n",
      "    adapter_dim: 32\n",
      "    adapter_dropout: 0.0\n",
      "    norm_position: pre\n",
      "    column_init_method: xavier\n",
      "    row_init_method: zero\n",
      "    norm_type: mixedfusedlayernorm\n",
      "    layer_selection: null\n",
      "    weight_tying: false\n",
      "    position_embedding_strategy: null\n",
      "  lora_tuning:\n",
      "    adapter_dim: 32\n",
      "    adapter_dropout: 0.0\n",
      "    column_init_method: xavier\n",
      "    row_init_method: zero\n",
      "    layer_selection: null\n",
      "    weight_tying: false\n",
      "    position_embedding_strategy: null\n",
      "  p_tuning:\n",
      "    virtual_tokens: 10\n",
      "    bottleneck_dim: 1024\n",
      "    embedding_dim: 1024\n",
      "    init_std: 0.023\n",
      "  ia3_tuning:\n",
      "    layer_selection: null\n",
      "data:\n",
      "  train_ds:\n",
      "    file_names:\n",
      "    - data/SQuAD/squad_short_train.jsonl\n",
      "    global_batch_size: ${model.global_batch_size}\n",
      "    micro_batch_size: ${model.micro_batch_size}\n",
      "    shuffle: true\n",
      "    num_workers: 0\n",
      "    memmap_workers: 2\n",
      "    pin_memory: true\n",
      "    max_seq_length: 2048\n",
      "    min_seq_length: 1\n",
      "    drop_last: true\n",
      "    concat_sampling_probabilities:\n",
      "    - 1.0\n",
      "    context_key: input\n",
      "    label_key: output\n",
      "    add_eos: true\n",
      "    add_sep: false\n",
      "    add_bos: false\n",
      "    separate_prompt_and_response_with_newline: false\n",
      "    truncation_field: context\n",
      "    index_mapping_dir: null\n",
      "    prompt_template: '{input} {output}'\n",
      "  validation_ds:\n",
      "    file_names:\n",
      "    - data/SQuAD/squad_short_val.jsonl\n",
      "    names:\n",
      "    - squad_val\n",
      "    global_batch_size: ${model.global_batch_size}\n",
      "    micro_batch_size: ${model.micro_batch_size}\n",
      "    shuffle: false\n",
      "    num_workers: 0\n",
      "    memmap_workers: ${model.data.train_ds.memmap_workers}\n",
      "    pin_memory: true\n",
      "    max_seq_length: 2048\n",
      "    min_seq_length: 1\n",
      "    drop_last: false\n",
      "    context_key: input\n",
      "    label_key: output\n",
      "    add_eos: ${model.data.train_ds.add_eos}\n",
      "    add_sep: ${model.data.train_ds.add_sep}\n",
      "    add_bos: ${model.data.train_ds.add_bos}\n",
      "    separate_prompt_and_response_with_newline: ${model.data.train_ds.separate_prompt_and_response_with_newline}\n",
      "    write_predictions_to_file: false\n",
      "    output_file_path_prefix: null\n",
      "    truncation_field: context\n",
      "    index_mapping_dir: null\n",
      "    prompt_template: ${model.data.train_ds.prompt_template}\n",
      "    tokens_to_generate: 32\n",
      "    metric:\n",
      "      name: loss\n",
      "      average: null\n",
      "      num_classes: null\n",
      "test_ds:\n",
      "  file_names: null\n",
      "  names: null\n",
      "  global_batch_size: ${model.global_batch_size}\n",
      "  micro_batch_size: ${model.micro_batch_size}\n",
      "  shuffle: false\n",
      "  num_workers: 0\n",
      "  memmap_workers: ${model.data.train_ds.memmap_workers}\n",
      "  pin_memory: true\n",
      "  max_seq_length: 2048\n",
      "  min_seq_length: 1\n",
      "  drop_last: false\n",
      "  context_key: input\n",
      "  label_key: output\n",
      "  add_eos: ${model.data.train_ds.add_eos}\n",
      "  add_sep: ${model.data.train_ds.add_sep}\n",
      "  add_bos: ${model.data.train_ds.add_bos}\n",
      "  separate_prompt_and_response_with_newline: ${model.data.train_ds.separate_prompt_and_response_with_newline}\n",
      "  write_predictions_to_file: false\n",
      "  output_file_path_prefix: null\n",
      "  truncation_field: context\n",
      "  index_mapping_dir: null\n",
      "  prompt_template: ${model.data.train_ds.prompt_template}\n",
      "  tokens_to_generate: 32\n",
      "  metric:\n",
      "    name: loss\n",
      "    average: null\n",
      "    num_classes: null\n",
      "optim:\n",
      "  name: fused_adam\n",
      "  lr: 0.0001\n",
      "  weight_decay: 0.01\n",
      "  betas:\n",
      "  - 0.9\n",
      "  - 0.98\n",
      "  sched:\n",
      "    name: CosineAnnealing\n",
      "    warmup_steps: 50\n",
      "    min_lr: 0.0\n",
      "    constant_steps: 0\n",
      "    monitor: val_loss\n",
      "    reduce_on_plateau: false\n",
      "\n"
     ]
    }
   ],
   "source": [
    "# Final model config\n",
    "print(OmegaConf.to_yaml(config.model))"
   ]
  },
  {
   "attachments": {},
   "cell_type": "markdown",
   "id": "4c048852",
   "metadata": {},
   "source": [
    "### Building the PyTorch Lightning Trainer\n",
    "NeMo models are primarily PyTorch Lightning modules - and therefore are entirely compatible with the PyTorch Lightning ecosystem.\n",
    "\n",
    "Let's first instantiate a Trainer object"
   ]
  },
  {
   "cell_type": "code",
   "execution_count": 12,
   "id": "90f85b2a",
   "metadata": {},
   "outputs": [
    {
     "name": "stderr",
     "output_type": "stream",
     "text": [
      "[NeMo W 2023-09-12 00:22:09 nemo_logging:349] /usr/local/lib/python3.10/dist-packages/requests/__init__.py:102: RequestsDependencyWarning: urllib3 (1.26.16) or chardet (5.2.0)/charset_normalizer (3.2.0) doesn't match a supported version!\n",
      "      warnings.warn(\"urllib3 ({}) or chardet ({})/charset_normalizer ({}) doesn't match a supported \"\n",
      "    \n",
      "[NeMo W 2023-09-12 00:22:13 nemo_logging:349] /usr/local/lib/python3.10/dist-packages/pandas/core/computation/expressions.py:20: UserWarning: Pandas requires version '2.7.3' or newer of 'numexpr' (version '2.7.2' currently installed).\n",
      "      from pandas.core.computation.check import NUMEXPR_INSTALLED\n",
      "    \n",
      "[NeMo W 2023-09-12 00:22:34 nemo_logging:349] /usr/local/lib/python3.10/dist-packages/lightning_fabric/connector.py:554: UserWarning: 16 is supported for historical reasons but its usage is discouraged. Please set your precision to 16-mixed instead!\n",
      "      rank_zero_warn(\n",
      "    \n",
      "Using 16bit Automatic Mixed Precision (AMP)\n",
      "GPU available: True (cuda), used: True\n",
      "TPU available: False, using: 0 TPU cores\n",
      "IPU available: False, using: 0 IPUs\n",
      "HPU available: False, using: 0 HPUs\n",
      "`Trainer(val_check_interval=1.0)` was configured so validation will run at the end of the training epoch..\n"
     ]
    },
    {
     "name": "stdout",
     "output_type": "stream",
     "text": [
      "Trainer config - \n",
      "\n",
      "devices: 1\n",
      "accelerator: gpu\n",
      "num_nodes: 1\n",
      "precision: 16\n",
      "logger: false\n",
      "enable_checkpointing: false\n",
      "use_distributed_sampler: false\n",
      "max_epochs: 4\n",
      "max_steps: 100\n",
      "log_every_n_steps: 10\n",
      "val_check_interval: 1.0\n",
      "gradient_clip_val: 1.0\n",
      "\n"
     ]
    }
   ],
   "source": [
    "from nemo.collections.nlp.parts.nlp_overrides import NLPDDPStrategy\n",
    "import torch\n",
    "import pytorch_lightning as pl\n",
    "from nemo.collections.nlp.parts.megatron_trainer_builder import MegatronTrainerBuilder\n",
    "\n",
    "# let's modify some trainer configs\n",
    "# check if we have GPU available and uses it\n",
    "accelerator = 'gpu' if torch.cuda.is_available() else 'cpu'\n",
    "config.trainer.accelerator = accelerator\n",
    "config.trainer.devices = 1\n",
    "config.trainer.max_epochs = 4\n",
    "config.trainer.val_check_interval = 1.0\n",
    "\n",
    "# for PyTorch Native AMP set precision=16\n",
    "config.trainer.precision = 16 if torch.cuda.is_available() else 32\n",
    "\n",
    "# setup cluster environment parameters\"\n",
    "os.environ[\"LOCAL_RANK\"] = '0'\n",
    "os.environ[\"RANK\"] = '0'\n",
    "os.environ[\"WORLD_SIZE\"] = '1'\n",
    "\n",
    "# with open_dict(config):\n",
    "#     config.cluster_type = \"BCP\"  # use TorchElasticEnvironment as a plugin to the trainer\n",
    "# trainer = MegatronTrainerBuilder(config).create_trainer()\n",
    "\n",
    "class _NLPDDPStrategy(NLPDDPStrategy):\n",
    "    def _configure_launcher(self):\n",
    "        self._launcher = None\n",
    "\n",
    "strategy = _NLPDDPStrategy(find_unused_parameters=False, no_ddp_communication_hook=True)\n",
    "trainer = pl.Trainer(strategy=strategy, **config.trainer)\n",
    "\n",
    "print(\"Trainer config - \\n\")\n",
    "print(OmegaConf.to_yaml(config.trainer))"
   ]
  },
  {
   "cell_type": "code",
   "execution_count": 13,
   "id": "890f0dc5",
   "metadata": {},
   "outputs": [
    {
     "name": "stdout",
     "output_type": "stream",
     "text": [
      "explicit_log_dir: training_info\n",
      "exp_dir: ./peft_lora\n",
      "name: ${name}\n",
      "create_wandb_logger: false\n",
      "wandb_logger_kwargs:\n",
      "  project: null\n",
      "  name: null\n",
      "resume_if_exists: true\n",
      "resume_ignore_no_checkpoint: true\n",
      "create_checkpoint_callback: true\n",
      "checkpoint_callback_params:\n",
      "  monitor: validation_${model.data.validation_ds.metric.name}\n",
      "  save_top_k: 1\n",
      "  mode: min\n",
      "  save_nemo_on_train_end: true\n",
      "  filename: ${name}--{${exp_manager.checkpoint_callback_params.monitor}:.3f}-{step}-{consumed_samples}\n",
      "  model_parallel_size: ${model.tensor_model_parallel_size}\n",
      "  always_save_nemo: false\n",
      "  save_best_model: true\n",
      "create_early_stopping_callback: true\n",
      "early_stopping_callback_params:\n",
      "  monitor: val_loss\n",
      "  mode: min\n",
      "  min_delta: 0.001\n",
      "  patience: 10\n",
      "  verbose: true\n",
      "  strict: false\n",
      "\n"
     ]
    }
   ],
   "source": [
    "print(OmegaConf.to_yaml(config.exp_manager))"
   ]
  },
  {
   "attachments": {},
   "cell_type": "markdown",
   "id": "4d0124c1",
   "metadata": {},
   "source": [
    "### Setting up a NeMo Experiment\n",
    "\n",
    "NeMo has an experiment manager that handles logging and checkpointing for us, so let's use it:"
   ]
  },
  {
   "cell_type": "code",
   "execution_count": 14,
   "id": "f2c943ba",
   "metadata": {},
   "outputs": [
    {
     "name": "stderr",
     "output_type": "stream",
     "text": [
      "[NeMo E 2023-09-12 00:22:44 exp_manager:657] exp_manager received explicit_log_dir: training_info and at least one of exp_dir: ./peft_lora, or version: None. Please note that exp_dir, name, and version will be ignored.\n",
      "[NeMo W 2023-09-12 00:22:44 exp_manager:662] Exp_manager is logging to training_info, but it already exists.\n"
     ]
    },
    {
     "name": "stdout",
     "output_type": "stream",
     "text": [
      "[NeMo I 2023-09-12 00:22:44 exp_manager:374] Experiments will be logged at training_info\n",
      "[NeMo I 2023-09-12 00:22:44 exp_manager:808] TensorboardLogger has been set up\n"
     ]
    },
    {
     "name": "stderr",
     "output_type": "stream",
     "text": [
      "[NeMo W 2023-09-12 00:22:44 exp_manager:904] The checkpoint callback was told to monitor a validation value and trainer's max_steps was set to 100. Please ensure that max_steps will run for at least 1 epochs to ensure that checkpointing will not error out.\n"
     ]
    },
    {
     "name": "stdout",
     "output_type": "stream",
     "text": [
      "training_info\n"
     ]
    }
   ],
   "source": [
    "from nemo.utils.exp_manager import exp_manager\n",
    "\n",
    "# Set name of the experiment \n",
    "config.name = 'lora_example_tuning'\n",
    "config.exp_manager.resume_if_exists = False\n",
    "\n",
    "# Init the experiment manager and view the exp_dir\n",
    "exp_dir = exp_manager(trainer, config.get(\"exp_manager\", None))\n",
    "exp_dir = str(exp_dir)\n",
    "print(exp_dir)"
   ]
  },
  {
   "attachments": {},
   "cell_type": "markdown",
   "id": "298b3dce",
   "metadata": {},
   "source": [
    "### Training\n",
    "We now set up the process for training a LoRA model. We first require a config that contains details about the base language model upon which we will train our LoRA model. So we first extract the `model_cfg` from the checkpoint and update it with any new settings we employ in our current (LoRA) `config`. These are combined in the `merge_cfg_with` function.\n",
    "\n"
   ]
  },
  {
   "cell_type": "code",
   "execution_count": 15,
   "id": "edb38445",
   "metadata": {},
   "outputs": [],
   "source": [
    "from nemo.collections.nlp.models.language_modeling.megatron_gpt_sft_model import MegatronGPTSFTModel\n",
    "\n",
    "model_cfg = MegatronGPTSFTModel.merge_cfg_with(config.model.restore_from_path, config)"
   ]
  },
  {
   "attachments": {},
   "cell_type": "markdown",
   "id": "dfc55a1c",
   "metadata": {},
   "source": [
    "Next, we instantiate the GPT model class and add the LoRA adapter\n",
    "When we call `add_adapter`, the model prints out the parameter count before and after the operation. We can clearly see the number of trainable parameters increase after adding the adapter.\n",
    "To print the parameter count manually, we can call `model.summarize()`."
   ]
  },
  {
   "cell_type": "code",
   "execution_count": 16,
   "id": "a81d8741",
   "metadata": {},
   "outputs": [
    {
     "name": "stderr",
     "output_type": "stream",
     "text": [
      "[NeMo W 2023-09-12 00:23:00 modelPT:174] Please call the ModelPT.setup_test_data() or ModelPT.setup_multiple_test_data() method and provide a valid configuration file to setup the test data loader(s).\n",
      "    Test config : \n",
      "    file_names: null\n",
      "    names: null\n",
      "    global_batch_size: 4\n",
      "    micro_batch_size: 1\n",
      "    shuffle: false\n",
      "    num_workers: 0\n",
      "    memmap_workers: 2\n",
      "    pin_memory: true\n",
      "    max_seq_length: 2048\n",
      "    min_seq_length: 1\n",
      "    drop_last: false\n",
      "    context_key: input\n",
      "    label_key: output\n",
      "    add_eos: true\n",
      "    add_sep: false\n",
      "    add_bos: false\n",
      "    separate_prompt_and_response_with_newline: false\n",
      "    write_predictions_to_file: false\n",
      "    output_file_path_prefix: null\n",
      "    truncation_field: context\n",
      "    index_mapping_dir: null\n",
      "    prompt_template: '{input} {output}'\n",
      "    tokens_to_generate: 32\n",
      "    metric:\n",
      "      name: loss\n",
      "      average: null\n",
      "      num_classes: null\n",
      "    \n",
      "[NeMo W 2023-09-12 00:23:00 megatron_base_model:802] The model: MegatronGPTSFTModel() does not have field.name: virtual_pipeline_model_parallel_size in its cfg. Add this key to cfg or config_mapping to make to make it configurable.\n",
      "[NeMo W 2023-09-12 00:23:00 megatron_base_model:802] The model: MegatronGPTSFTModel() does not have field.name: gradient_accumulation_fusion in its cfg. Add this key to cfg or config_mapping to make to make it configurable.\n",
      "[NeMo W 2023-09-12 00:23:00 megatron_base_model:802] The model: MegatronGPTSFTModel() does not have field.name: overlap_p2p_comm in its cfg. Add this key to cfg or config_mapping to make to make it configurable.\n",
      "[NeMo W 2023-09-12 00:23:00 megatron_base_model:802] The model: MegatronGPTSFTModel() does not have field.name: batch_p2p_comm in its cfg. Add this key to cfg or config_mapping to make to make it configurable.\n"
     ]
    },
    {
     "name": "stdout",
     "output_type": "stream",
     "text": [
      "[NeMo I 2023-09-12 00:23:00 megatron_init:234] Rank 0 has data parallel group: [0]\n",
      "[NeMo I 2023-09-12 00:23:00 megatron_init:237] All data parallel group ranks: [[0]]\n",
      "[NeMo I 2023-09-12 00:23:00 megatron_init:238] Ranks 0 has data parallel rank: 0\n",
      "[NeMo I 2023-09-12 00:23:00 megatron_init:246] Rank 0 has model parallel group: [0]\n",
      "[NeMo I 2023-09-12 00:23:00 megatron_init:247] All model parallel group ranks: [[0]]\n",
      "[NeMo I 2023-09-12 00:23:00 megatron_init:257] Rank 0 has tensor model parallel group: [0]\n",
      "[NeMo I 2023-09-12 00:23:00 megatron_init:261] All tensor model parallel group ranks: [[0]]\n",
      "[NeMo I 2023-09-12 00:23:00 megatron_init:262] Rank 0 has tensor model parallel rank: 0\n",
      "[NeMo I 2023-09-12 00:23:00 megatron_init:276] Rank 0 has pipeline model parallel group: [0]\n",
      "[NeMo I 2023-09-12 00:23:00 megatron_init:288] Rank 0 has embedding group: [0]\n",
      "[NeMo I 2023-09-12 00:23:00 megatron_init:294] All pipeline model parallel group ranks: [[0]]\n",
      "[NeMo I 2023-09-12 00:23:00 megatron_init:295] Rank 0 has pipeline model parallel rank 0\n",
      "[NeMo I 2023-09-12 00:23:00 megatron_init:296] All embedding group ranks: [[0]]\n",
      "[NeMo I 2023-09-12 00:23:00 megatron_init:297] Rank 0 has embedding rank: 0\n"
     ]
    },
    {
     "name": "stderr",
     "output_type": "stream",
     "text": [
      "[NeMo W 2023-09-12 00:23:00 megatron_base_model:802] The model: MegatronGPTSFTModel() does not have field.name: virtual_pipeline_model_parallel_size in its cfg. Add this key to cfg or config_mapping to make to make it configurable.\n",
      "[NeMo W 2023-09-12 00:23:00 megatron_base_model:802] The model: MegatronGPTSFTModel() does not have field.name: gradient_accumulation_fusion in its cfg. Add this key to cfg or config_mapping to make to make it configurable.\n",
      "[NeMo W 2023-09-12 00:23:00 megatron_base_model:802] The model: MegatronGPTSFTModel() does not have field.name: overlap_p2p_comm in its cfg. Add this key to cfg or config_mapping to make to make it configurable.\n",
      "[NeMo W 2023-09-12 00:23:00 megatron_base_model:802] The model: MegatronGPTSFTModel() does not have field.name: batch_p2p_comm in its cfg. Add this key to cfg or config_mapping to make to make it configurable.\n",
      "[NeMo W 2023-09-12 00:23:00 modelPT:258] You tried to register an artifact under config key=tokenizer.vocab_file but an artifact for it has already been registered.\n"
     ]
    },
    {
     "name": "stdout",
     "output_type": "stream",
     "text": [
      "[NeMo I 2023-09-12 00:23:00 tokenizer_utils:204] Getting Megatron tokenizer for pretrained model name: megatron-gpt-345m, custom vocab file: /tmp/tmpynbdxfuo/bfcdca5e44814366bdb5dcd651325152_gpt2-vocab.json, and merges file: /tmp/tmpynbdxfuo/315a11fd68be49d6abdb34363e8c4997_gpt2-merge.txt\n",
      "[NeMo I 2023-09-12 00:23:00 tokenizer_utils:130] Getting HuggingFace AutoTokenizer with pretrained_model_name: gpt2, vocab_file: /tmp/tmpynbdxfuo/bfcdca5e44814366bdb5dcd651325152_gpt2-vocab.json, merges_files: /tmp/tmpynbdxfuo/315a11fd68be49d6abdb34363e8c4997_gpt2-merge.txt, special_tokens_dict: {}, and use_fast: False\n"
     ]
    },
    {
     "name": "stderr",
     "output_type": "stream",
     "text": [
      "Using sep_token, but it is not set yet.\n",
      "Using cls_token, but it is not set yet.\n",
      "Using pad_token, but it is not set yet.\n",
      "Using mask_token, but it is not set yet.\n"
     ]
    },
    {
     "name": "stdout",
     "output_type": "stream",
     "text": [
      "[NeMo I 2023-09-12 00:23:02 megatron_base_model:297] Padded vocab_size: 50304, original vocab_size: 50257, dummy tokens: 47.\n"
     ]
    },
    {
     "name": "stderr",
     "output_type": "stream",
     "text": [
      "[NeMo W 2023-09-12 00:23:02 megatron_base_model:802] The model: MegatronGPTSFTModel() does not have field.name: virtual_pipeline_model_parallel_size in its cfg. Add this key to cfg or config_mapping to make to make it configurable.\n",
      "[NeMo W 2023-09-12 00:23:02 megatron_base_model:802] The model: MegatronGPTSFTModel() does not have field.name: gradient_accumulation_fusion in its cfg. Add this key to cfg or config_mapping to make to make it configurable.\n",
      "[NeMo W 2023-09-12 00:23:02 megatron_base_model:802] The model: MegatronGPTSFTModel() does not have field.name: overlap_p2p_comm in its cfg. Add this key to cfg or config_mapping to make to make it configurable.\n",
      "[NeMo W 2023-09-12 00:23:02 megatron_base_model:802] The model: MegatronGPTSFTModel() does not have field.name: batch_p2p_comm in its cfg. Add this key to cfg or config_mapping to make to make it configurable.\n",
      "[NeMo W 2023-09-12 00:23:02 megatron_gpt_model:1544] The model: MegatronGPTSFTModel() does not have field.name: num_query_groups in its cfg. Add this key to cfg or config_mapping to make to make it configurable.\n",
      "[NeMo W 2023-09-12 00:23:02 megatron_gpt_model:1544] The model: MegatronGPTSFTModel() does not have field.name: masked_softmax_fusion in its cfg. Add this key to cfg or config_mapping to make to make it configurable.\n",
      "[NeMo W 2023-09-12 00:23:02 megatron_gpt_model:1544] The model: MegatronGPTSFTModel() does not have field.name: fp8_margin in its cfg. Add this key to cfg or config_mapping to make to make it configurable.\n",
      "[NeMo W 2023-09-12 00:23:02 megatron_gpt_model:1544] The model: MegatronGPTSFTModel() does not have field.name: fp8_interval in its cfg. Add this key to cfg or config_mapping to make to make it configurable.\n",
      "[NeMo W 2023-09-12 00:23:02 megatron_gpt_model:1544] The model: MegatronGPTSFTModel() does not have field.name: fp8_amax_history_len in its cfg. Add this key to cfg or config_mapping to make to make it configurable.\n",
      "[NeMo W 2023-09-12 00:23:02 megatron_gpt_model:1544] The model: MegatronGPTSFTModel() does not have field.name: fp8_amax_compute_algo in its cfg. Add this key to cfg or config_mapping to make to make it configurable.\n",
      "[NeMo W 2023-09-12 00:23:02 megatron_gpt_model:1544] The model: MegatronGPTSFTModel() does not have field.name: fp8_wgrad in its cfg. Add this key to cfg or config_mapping to make to make it configurable.\n"
     ]
    },
    {
     "name": "stdout",
     "output_type": "stream",
     "text": [
      "[NeMo I 2023-09-12 00:23:03 nlp_overrides:585] Model MegatronGPTSFTModel was successfully restored from /NeMo/tutorials/nlp/megatron_gpt_345m.nemo.\n",
      "[NeMo I 2023-09-12 00:23:03 nlp_adapter_mixins:139] Before adding PEFT params:\n",
      "      | Name  | Type     | Params\n",
      "    -----------------------------------\n",
      "    0 | model | GPTModel | 354 M \n",
      "    -----------------------------------\n",
      "    0         Trainable params\n",
      "    354 M     Non-trainable params\n",
      "    354 M     Total params\n",
      "    1,419.485 Total estimated model params size (MB)\n",
      "[NeMo I 2023-09-12 00:23:03 nlp_adapter_mixins:165] Layer selection [1, 2, 3, 4, 5, 6, 7, 8, 9, 10, 11, 12, 13, 14, 15, 16, 17, 18, 19, 20, 21, 22, 23, 24] is enabled for the current model (MegatronGPTSFTModel + lora_kqv_adapter)\n",
      "[NeMo I 2023-09-12 00:23:04 nlp_adapter_mixins:195] After adding PEFT params:\n",
      "      | Name  | Type     | Params\n",
      "    -----------------------------------\n",
      "    0 | model | GPTModel | 358 M \n",
      "    -----------------------------------\n",
      "    3.1 M     Trainable params\n",
      "    354 M     Non-trainable params\n",
      "    358 M     Total params\n",
      "    1,432.068 Total estimated model params size (MB)\n"
     ]
    }
   ],
   "source": [
    "from nemo.collections.nlp.parts.peft_config import LoraPEFTConfig\n",
    "\n",
    "model = MegatronGPTSFTModel.restore_from(config.model.restore_from_path, model_cfg, trainer=trainer)\n",
    "model.add_adapter(LoraPEFTConfig(model_cfg))\n",
    "# print(\"Parameter count manually:\\n\", model.summarize())"
   ]
  },
  {
   "cell_type": "markdown",
   "source": [
    "Simply substitute with the `MegatronT5SFTModel` class to use T5 instead of GPT.\n",
    "\n",
    "To use a different PEFT method, you can use a different config class in place of `LoraPEFTConfig`, such as `CanonicalAdaptersPEFTConfig`, `IA3PEFTConfig`, `PtuningPEFTConfig`. You can also use a combination of the methods by passing in a list:\n",
    "`model.add_adapter([LoraPEFTConfig(model_cfg), PtuningPEFTConfig(model_cfg)])`\n",
    "\n",
    "We're now ready to start training."
   ],
   "metadata": {
    "collapsed": false
   }
  },
  {
   "cell_type": "code",
   "execution_count": 18,
   "id": "2d99f433",
   "metadata": {
    "scrolled": true
   },
   "outputs": [
    {
     "name": "stderr",
     "output_type": "stream",
     "text": [
      "[NeMo W 2023-09-11 23:49:10 nemo_logging:349] /usr/local/lib/python3.10/dist-packages/pytorch_lightning/trainer/configuration_validator.py:153: UserWarning: The `batch_idx` argument in `MegatronGPTSFTModel.on_train_batch_start` hook may not match with the actual batch index when using a `dataloader_iter` argument in your `training_step`.\n",
      "      rank_zero_warn(\n",
      "    \n",
      "[NeMo W 2023-09-11 23:49:10 nemo_logging:349] /usr/local/lib/python3.10/dist-packages/pytorch_lightning/trainer/configuration_validator.py:153: UserWarning: The `batch_idx` argument in `MegatronGPTSFTModel.on_train_batch_end` hook may not match with the actual batch index when using a `dataloader_iter` argument in your `training_step`.\n",
      "      rank_zero_warn(\n",
      "    \n",
      "Initializing distributed: GLOBAL_RANK: 0, MEMBER: 1/1\n",
      "----------------------------------------------------------------------------------------------------\n",
      "distributed_backend=nccl\n",
      "All distributed processes registered. Starting with 1 processes\n",
      "----------------------------------------------------------------------------------------------------\n",
      "\n",
      "[NeMo W 2023-09-11 23:49:10 nemo_logging:349] /usr/local/lib/python3.10/dist-packages/pytorch_lightning/callbacks/model_checkpoint.py:617: UserWarning: Checkpoint directory /NeMo/tutorials/nlp/training_info/checkpoints exists and is not empty.\n",
      "      rank_zero_warn(f\"Checkpoint directory {dirpath} exists and is not empty.\")\n",
      "    \n"
     ]
    },
    {
     "name": "stdout",
     "output_type": "stream",
     "text": [
      "[NeMo I 2023-09-11 23:49:10 megatron_gpt_sft_model:747] Building GPT SFT validation datasets.\n"
     ]
    },
    {
     "name": "stderr",
     "output_type": "stream",
     "text": [
      "[NeMo W 2023-09-11 23:49:10 megatron_gpt_sft_model:255] Set dataset max_seq_length to max_position_embeddings 1024 if using learned_absolute position embedding\n"
     ]
    },
    {
     "name": "stdout",
     "output_type": "stream",
     "text": [
      "[NeMo I 2023-09-11 23:49:10 text_memmap_dataset:116] Building data files\n",
      "[NeMo I 2023-09-11 23:49:10 text_memmap_dataset:525] Processing 1 data files using 2 workers\n",
      "[NeMo I 2023-09-11 23:49:10 text_memmap_dataset:534] Time building 0 / 1 mem-mapped files: 0:00:00.090610\n",
      "[NeMo I 2023-09-11 23:49:10 text_memmap_dataset:525] Processing 1 data files using 2 workers\n",
      "[NeMo I 2023-09-11 23:49:11 text_memmap_dataset:534] Time building 0 / 1 mem-mapped files: 0:00:00.050437\n",
      "[NeMo I 2023-09-11 23:49:11 text_memmap_dataset:158] Loading data files\n",
      "[NeMo I 2023-09-11 23:49:11 text_memmap_dataset:249] Loading data/SQuAD/squad_short_val.jsonl\n",
      "[NeMo I 2023-09-11 23:49:11 text_memmap_dataset:161] Time loading 1 mem-mapped files: 0:00:00.021069\n",
      "[NeMo I 2023-09-11 23:49:11 text_memmap_dataset:165] Computing global indices\n",
      "[NeMo I 2023-09-11 23:49:11 megatron_gpt_sft_model:750] Length of val dataset: 20\n",
      "[NeMo I 2023-09-11 23:49:11 megatron_gpt_sft_model:761] Building GPT SFT traing datasets.\n"
     ]
    },
    {
     "name": "stderr",
     "output_type": "stream",
     "text": [
      "[NeMo W 2023-09-11 23:49:11 megatron_gpt_sft_model:255] Set dataset max_seq_length to max_position_embeddings 1024 if using learned_absolute position embedding\n"
     ]
    },
    {
     "name": "stdout",
     "output_type": "stream",
     "text": [
      "[NeMo I 2023-09-11 23:49:11 text_memmap_dataset:116] Building data files\n",
      "[NeMo I 2023-09-11 23:49:11 text_memmap_dataset:525] Processing 1 data files using 2 workers\n",
      "[NeMo I 2023-09-11 23:49:11 text_memmap_dataset:534] Time building 0 / 1 mem-mapped files: 0:00:00.048885\n",
      "[NeMo I 2023-09-11 23:49:11 text_memmap_dataset:525] Processing 1 data files using 2 workers\n",
      "[NeMo I 2023-09-11 23:49:11 text_memmap_dataset:534] Time building 0 / 1 mem-mapped files: 0:00:00.050840\n",
      "[NeMo I 2023-09-11 23:49:11 text_memmap_dataset:158] Loading data files\n",
      "[NeMo I 2023-09-11 23:49:11 text_memmap_dataset:249] Loading data/SQuAD/squad_short_train.jsonl\n",
      "[NeMo I 2023-09-11 23:49:11 text_memmap_dataset:161] Time loading 1 mem-mapped files: 0:00:00.021641\n",
      "[NeMo I 2023-09-11 23:49:11 text_memmap_dataset:165] Computing global indices\n"
     ]
    },
    {
     "name": "stderr",
     "output_type": "stream",
     "text": [
      "[NeMo W 2023-09-11 23:49:11 nemo_logging:349] /NeMo/tutorials/nlp/../../nemo/collections/nlp/data/language_modeling/megatron/dataset_utils.py:1332: UserWarning: The torch.cuda.*DtypeTensor constructors are no longer recommended. It's best to use methods such as torch.tensor(data, dtype=*, device='cuda') to create tensors. (Triggered internally at /opt/pytorch/pytorch/torch/csrc/tensor/python_tensor.cpp:83.)\n",
      "      counts = torch.cuda.LongTensor([1])\n",
      "    \n"
     ]
    },
    {
     "name": "stdout",
     "output_type": "stream",
     "text": [
      "[NeMo I 2023-09-11 23:49:11 dataset_utils:1341]  > loading indexed mapping from data/SQuAD/squad_short_train.jsonl_squad_short_train.jsonl_indexmap_402mns_1022msl_0.00ssp_1234s.npy\n",
      "[NeMo I 2023-09-11 23:49:11 dataset_utils:1344]     loaded indexed file in 0.008 seconds\n",
      "[NeMo I 2023-09-11 23:49:11 dataset_utils:1345]     total number of samples: 600\n",
      "make: Entering directory '/NeMo/nemo/collections/nlp/data/language_modeling/megatron'\n",
      "make: Nothing to be done for 'default'.\n",
      "make: Leaving directory '/NeMo/nemo/collections/nlp/data/language_modeling/megatron'\n",
      "[NeMo I 2023-09-11 23:49:11 blendable_dataset:67] > elapsed time for building blendable dataset indices: 0.15 (sec)\n",
      "> building indices for blendable datasets ...\n",
      " > sample ratios:\n",
      "   dataset 0, input: 1, achieved: 1\n",
      "[NeMo I 2023-09-11 23:49:11 megatron_gpt_sft_model:763] Length of train dataset: 402\n",
      "[NeMo I 2023-09-11 23:49:11 megatron_gpt_sft_model:768] Building dataloader with consumed samples: 0\n",
      "[NeMo I 2023-09-11 23:49:11 megatron_gpt_sft_model:768] Building dataloader with consumed samples: 0\n"
     ]
    },
    {
     "name": "stderr",
     "output_type": "stream",
     "text": [
      "LOCAL_RANK: 0 - CUDA_VISIBLE_DEVICES: [0]\n"
     ]
    },
    {
     "name": "stdout",
     "output_type": "stream",
     "text": [
      "[NeMo I 2023-09-11 23:49:11 nlp_overrides:148] Configuring DDP for model parallelism.\n",
      "[NeMo I 2023-09-11 23:49:11 adapter_mixins:435] Unfrozen adapter : lora_kqv_adapter\n",
      "[NeMo I 2023-09-11 23:49:11 adapter_mixins:435] Unfrozen adapter : lora_kqv_adapter\n",
      "[NeMo I 2023-09-11 23:49:11 adapter_mixins:435] Unfrozen adapter : lora_kqv_adapter\n",
      "[NeMo I 2023-09-11 23:49:11 adapter_mixins:435] Unfrozen adapter : lora_kqv_adapter\n",
      "[NeMo I 2023-09-11 23:49:11 adapter_mixins:435] Unfrozen adapter : lora_kqv_adapter\n",
      "[NeMo I 2023-09-11 23:49:11 adapter_mixins:435] Unfrozen adapter : lora_kqv_adapter\n",
      "[NeMo I 2023-09-11 23:49:11 adapter_mixins:435] Unfrozen adapter : lora_kqv_adapter\n",
      "[NeMo I 2023-09-11 23:49:11 adapter_mixins:435] Unfrozen adapter : lora_kqv_adapter\n",
      "[NeMo I 2023-09-11 23:49:11 adapter_mixins:435] Unfrozen adapter : lora_kqv_adapter\n",
      "[NeMo I 2023-09-11 23:49:11 adapter_mixins:435] Unfrozen adapter : lora_kqv_adapter\n",
      "[NeMo I 2023-09-11 23:49:11 adapter_mixins:435] Unfrozen adapter : lora_kqv_adapter\n",
      "[NeMo I 2023-09-11 23:49:11 adapter_mixins:435] Unfrozen adapter : lora_kqv_adapter\n",
      "[NeMo I 2023-09-11 23:49:11 adapter_mixins:435] Unfrozen adapter : lora_kqv_adapter\n",
      "[NeMo I 2023-09-11 23:49:11 adapter_mixins:435] Unfrozen adapter : lora_kqv_adapter\n",
      "[NeMo I 2023-09-11 23:49:11 adapter_mixins:435] Unfrozen adapter : lora_kqv_adapter\n",
      "[NeMo I 2023-09-11 23:49:11 adapter_mixins:435] Unfrozen adapter : lora_kqv_adapter\n",
      "[NeMo I 2023-09-11 23:49:11 adapter_mixins:435] Unfrozen adapter : lora_kqv_adapter\n",
      "[NeMo I 2023-09-11 23:49:11 adapter_mixins:435] Unfrozen adapter : lora_kqv_adapter\n",
      "[NeMo I 2023-09-11 23:49:11 adapter_mixins:435] Unfrozen adapter : lora_kqv_adapter\n",
      "[NeMo I 2023-09-11 23:49:11 adapter_mixins:435] Unfrozen adapter : lora_kqv_adapter\n",
      "[NeMo I 2023-09-11 23:49:11 adapter_mixins:435] Unfrozen adapter : lora_kqv_adapter\n",
      "[NeMo I 2023-09-11 23:49:11 adapter_mixins:435] Unfrozen adapter : lora_kqv_adapter\n",
      "[NeMo I 2023-09-11 23:49:11 adapter_mixins:435] Unfrozen adapter : lora_kqv_adapter\n",
      "[NeMo I 2023-09-11 23:49:11 adapter_mixins:435] Unfrozen adapter : lora_kqv_adapter\n",
      "[NeMo I 2023-09-11 23:49:11 nlp_adapter_mixins:244] Optimizer groups set:\n",
      "      | Name  | Type     | Params\n",
      "    -----------------------------------\n",
      "    0 | model | GPTModel | 358 M \n",
      "    -----------------------------------\n",
      "    3.1 M     Trainable params\n",
      "    354 M     Non-trainable params\n",
      "    358 M     Total params\n",
      "    1,432.068 Total estimated model params size (MB)\n",
      "[NeMo I 2023-09-11 23:49:11 modelPT:735] Optimizer config = FusedAdam (\n",
      "    Parameter Group 0\n",
      "        betas: [0.9, 0.98]\n",
      "        bias_correction: True\n",
      "        eps: 1e-08\n",
      "        lr: 0.0001\n",
      "        weight_decay: 0.01\n",
      "    )\n",
      "[NeMo I 2023-09-11 23:49:11 lr_scheduler:910] Scheduler \"<nemo.core.optim.lr_scheduler.CosineAnnealing object at 0x7feab5f67e80>\" \n",
      "    will be used during training (effective maximum steps = 100) - \n",
      "    Parameters : \n",
      "    (warmup_steps: 50\n",
      "    min_lr: 0.0\n",
      "    constant_steps: 0\n",
      "    max_steps: 100\n",
      "    )\n"
     ]
    },
    {
     "name": "stderr",
     "output_type": "stream",
     "text": [
      "\n",
      "  | Name  | Type     | Params\n",
      "-----------------------------------\n",
      "0 | model | GPTModel | 358 M \n",
      "-----------------------------------\n",
      "3.1 M     Trainable params\n",
      "354 M     Non-trainable params\n",
      "358 M     Total params\n",
      "1,432.068 Total estimated model params size (MB)\n"
     ]
    },
    {
     "name": "stdout",
     "output_type": "stream",
     "text": [
      "Sanity Checking: 0it [00:00, ?it/s]"
     ]
    },
    {
     "name": "stderr",
     "output_type": "stream",
     "text": [
      "[NeMo W 2023-09-11 23:49:11 nemo_logging:349] /usr/local/lib/python3.10/dist-packages/pytorch_lightning/trainer/connectors/data_connector.py:438: PossibleUserWarning: The dataloader, val_dataloader, does not have many workers which may be a bottleneck. Consider increasing the value of the `num_workers` argument` (try 16 which is the number of cpus on this machine) in the `DataLoader` init to improve performance.\n",
      "      rank_zero_warn(\n",
      "    \n",
      "[NeMo W 2023-09-11 23:49:11 nemo_logging:349] /usr/local/lib/python3.10/dist-packages/pytorch_lightning/loops/utilities.py:148: UserWarning: Found `dataloader_iter` argument in the `validation_step`. Note that the support for this signature is experimental and the behavior is subject to change.\n",
      "      rank_zero_warn(\n",
      "    \n"
     ]
    },
    {
     "name": "stdout",
     "output_type": "stream",
     "text": [
      "[NeMo I 2023-09-11 23:49:11 microbatch_calculator:140] setting number of micro-batches to constant 4\n",
      "Sanity Checking DataLoader 0: : 3it [00:01,  1.68it/s]                                                [NeMo I 2023-09-11 23:49:13 microbatch_calculator:140] setting number of micro-batches to constant 4\n"
     ]
    },
    {
     "name": "stderr",
     "output_type": "stream",
     "text": [
      "[NeMo W 2023-09-11 23:49:13 nemo_logging:349] /usr/local/lib/python3.10/dist-packages/pytorch_lightning/trainer/connectors/logger_connector/result.py:433: PossibleUserWarning: It is recommended to use `self.log('val_loss', ..., sync_dist=True)` when logging on epoch level in distributed setting to accumulate the metric across devices.\n",
      "      warning_cache.warn(\n",
      "    \n",
      "[NeMo W 2023-09-11 23:49:13 nemo_logging:349] /usr/local/lib/python3.10/dist-packages/pytorch_lightning/trainer/connectors/logger_connector/result.py:433: PossibleUserWarning: It is recommended to use `self.log('validation_loss_squad_val', ..., sync_dist=True)` when logging on epoch level in distributed setting to accumulate the metric across devices.\n",
      "      warning_cache.warn(\n",
      "    \n",
      "[NeMo W 2023-09-11 23:49:13 nemo_logging:349] /usr/local/lib/python3.10/dist-packages/pytorch_lightning/trainer/connectors/logger_connector/result.py:433: PossibleUserWarning: It is recommended to use `self.log('validation_loss', ..., sync_dist=True)` when logging on epoch level in distributed setting to accumulate the metric across devices.\n",
      "      warning_cache.warn(\n",
      "    \n"
     ]
    },
    {
     "name": "stdout",
     "output_type": "stream",
     "text": [
      "                                                      "
     ]
    },
    {
     "name": "stderr",
     "output_type": "stream",
     "text": [
      "[NeMo W 2023-09-11 23:49:13 nemo_logging:349] /usr/local/lib/python3.10/dist-packages/pytorch_lightning/trainer/connectors/data_connector.py:438: PossibleUserWarning: The dataloader, train_dataloader, does not have many workers which may be a bottleneck. Consider increasing the value of the `num_workers` argument` (try 16 which is the number of cpus on this machine) in the `DataLoader` init to improve performance.\n",
      "      rank_zero_warn(\n",
      "    \n",
      "[NeMo W 2023-09-11 23:49:13 nemo_logging:349] /usr/local/lib/python3.10/dist-packages/pytorch_lightning/loops/utilities.py:148: UserWarning: Found `dataloader_iter` argument in the `training_step`. Note that the support for this signature is experimental and the behavior is subject to change.\n",
      "      rank_zero_warn(\n",
      "    \n"
     ]
    },
    {
     "name": "stdout",
     "output_type": "stream",
     "text": [
      "Epoch 0:   0%|                                                                | 0/100 [00:00<?, ?it/s]"
     ]
    },
    {
     "name": "stderr",
     "output_type": "stream",
     "text": [
      "[NeMo W 2023-09-11 23:49:15 nemo_logging:349] /usr/local/lib/python3.10/dist-packages/pytorch_lightning/trainer/connectors/logger_connector/result.py:212: UserWarning: You called `self.log('global_step', ...)` in your `training_step` but the value needs to be floating point. Converting it to torch.float32.\n",
      "      warning_cache.warn(\n",
      "    \n",
      "[NeMo W 2023-09-11 23:49:15 nemo_logging:349] /usr/local/lib/python3.10/dist-packages/pytorch_lightning/trainer/connectors/logger_connector/result.py:212: UserWarning: You called `self.log('consumed_samples', ...)` in your `training_step` but the value needs to be floating point. Converting it to torch.float32.\n",
      "      warning_cache.warn(\n",
      "    \n",
      "[NeMo W 2023-09-11 23:49:15 nemo_logging:349] /usr/local/lib/python3.10/dist-packages/torch/optim/lr_scheduler.py:139: UserWarning: Detected call of `lr_scheduler.step()` before `optimizer.step()`. In PyTorch 1.1.0 and later, you should call them in the opposite order: `optimizer.step()` before `lr_scheduler.step()`.  Failure to do this will result in PyTorch skipping the first value of the learning rate schedule. See more details at https://pytorch.org/docs/stable/optim.html#how-to-adjust-learning-rate\n",
      "      warnings.warn(\"Detected call of `lr_scheduler.step()` before `optimizer.step()`. \"\n",
      "    \n"
     ]
    },
    {
     "name": "stdout",
     "output_type": "stream",
     "text": [
      "Epoch 0: 100%|█| 100/100 [00:45<00:00,  2.19it/s, v_num=, reduced_train_loss=0.205, global_step=99.00,\n",
      "Validation: 0it [00:00, ?it/s]\u001B[A[NeMo I 2023-09-11 23:49:59 microbatch_calculator:140] setting number of micro-batches to constant 4\n",
      "\n",
      "Validation:   0%|                                                               | 0/5 [00:00<?, ?it/s]\u001B[A\n",
      "Validation DataLoader 0:   0%|                                                  | 0/5 [00:00<?, ?it/s]\u001B[A\n",
      "Validation DataLoader 0:  20%|████████▍                                 | 1/5 [00:00<00:00,  4.43it/s]\u001B[A\n",
      "Validation DataLoader 0:  40%|████████████████▊                         | 2/5 [00:00<00:00,  4.51it/s]\u001B[A\n",
      "Validation DataLoader 0:  60%|█████████████████████████▏                | 3/5 [00:00<00:00,  4.49it/s]\u001B[A\n",
      "Validation DataLoader 0:  80%|█████████████████████████████████▌        | 4/5 [00:00<00:00,  4.41it/s]\u001B[A\n",
      "Validation DataLoader 0: 100%|██████████████████████████████████████████| 5/5 [00:01<00:00,  4.39it/s]\u001B[A\n",
      "Validation DataLoader 0: : 6it [00:01,  5.21it/s]                                                     \u001B[A[NeMo I 2023-09-11 23:50:00 microbatch_calculator:140] setting number of micro-batches to constant 4\n",
      "Epoch 0: 100%|█| 100/100 [00:46<00:00,  2.13it/s, v_num=, reduced_train_loss=0.205, global_step=99.00,\n",
      "                                                 \u001B[A"
     ]
    },
    {
     "name": "stderr",
     "output_type": "stream",
     "text": [
      "Epoch 0, global step 100: 'validation_loss' reached 0.39259 (best 0.39259), saving model to '/NeMo/tutorials/nlp/training_info/checkpoints/lora_example_tuning--validation_loss=0.393-step=100-consumed_samples=400.0-v2.ckpt' as top 1\n"
     ]
    },
    {
     "name": "stdout",
     "output_type": "stream",
     "text": [
      "Epoch 0: 100%|█| 100/100 [00:47<00:00,  2.10it/s, v_num=, reduced_train_loss=0.205, global_step=99.00,"
     ]
    },
    {
     "name": "stderr",
     "output_type": "stream",
     "text": [
      "Metric val_loss improved. New best score: 0.393\n",
      "`Trainer.fit` stopped: `max_steps=100` reached.\n"
     ]
    },
    {
     "name": "stdout",
     "output_type": "stream",
     "text": [
      "Epoch 0: 100%|█| 100/100 [00:47<00:00,  2.10it/s, v_num=, reduced_train_loss=0.205, global_step=99.00,"
     ]
    },
    {
     "name": "stderr",
     "output_type": "stream",
     "text": [
      "Restoring states from the checkpoint path at /NeMo/tutorials/nlp/training_info/checkpoints/lora_example_tuning--validation_loss=0.393-step=100-consumed_samples=400.0-v2.ckpt\n"
     ]
    },
    {
     "name": "stdout",
     "output_type": "stream",
     "text": [
      "\n"
     ]
    },
    {
     "name": "stderr",
     "output_type": "stream",
     "text": [
      "Restored all states from the checkpoint at /NeMo/tutorials/nlp/training_info/checkpoints/lora_example_tuning--validation_loss=0.393-step=100-consumed_samples=400.0-v2.ckpt\n"
     ]
    },
    {
     "name": "stdout",
     "output_type": "stream",
     "text": [
      "enter peft loading\n"
     ]
    }
   ],
   "source": [
    "trainer.fit(model)"
   ]
  },
  {
   "attachments": {},
   "cell_type": "markdown",
   "id": "b8210d6d",
   "metadata": {},
   "source": [
    "Once training is completed you should see a saved '.nemo' file in this folder `{config.exp_manager.explicit_log_dir}/checkpoints`. This checkpoint will only contain the trained adapter weights, and not the frozen base model weights."
   ]
  },
  {
   "cell_type": "code",
   "execution_count": 19,
   "id": "e4e19e65",
   "metadata": {},
   "outputs": [
    {
     "name": "stdout",
     "output_type": "stream",
     "text": [
      "total 230M\r\n",
      "-rwxrwxrwx 1 1000 1000 37M Sep 11 23:23 'lora_example_tuning--validation_loss=0.393-step=100-consumed_samples=400.0-last-v1.ckpt'\r\n",
      "-rwxrwxrwx 1 1000 1000 37M Sep 11 23:50 'lora_example_tuning--validation_loss=0.393-step=100-consumed_samples=400.0-last-v2.ckpt'\r\n",
      "-rwxrwxrwx 1 1000 1000 37M Sep 11 23:06 'lora_example_tuning--validation_loss=0.393-step=100-consumed_samples=400.0-last.ckpt'\r\n",
      "-rwxrwxrwx 1 1000 1000 37M Sep 11 23:23 'lora_example_tuning--validation_loss=0.393-step=100-consumed_samples=400.0-v1.ckpt'\r\n",
      "-rwxrwxrwx 1 1000 1000 37M Sep 11 23:50 'lora_example_tuning--validation_loss=0.393-step=100-consumed_samples=400.0-v2.ckpt'\r\n",
      "-rwxrwxrwx 1 1000 1000 37M Sep 11 23:06 'lora_example_tuning--validation_loss=0.393-step=100-consumed_samples=400.0.ckpt'\r\n",
      "-rwxrwxrwx 1 1000 1000 14M Sep 11 23:50  lora_example_tuning.nemo\r\n",
      "training_info\n"
     ]
    }
   ],
   "source": [
    "# The trained '.nemo' model is saved in the location below:\n",
    "! ls -lh {config.exp_manager.explicit_log_dir}/checkpoints\n",
    "print(config.exp_manager.explicit_log_dir)"
   ]
  },
  {
   "attachments": {},
   "cell_type": "markdown",
   "id": "6aab09d4",
   "metadata": {},
   "source": [
    "### Inference\n",
    "The model object from `trainer.fit(model)` is also capable of doing inference. For the tutorial, however, we will re-load the saved `.nemo` lora model along with a `.nemo` base language model to simulate a more realistic scenario (where training does not happen right before inference).\n",
    "\n",
    "First, we will load and modify a config file that will be used for inference."
   ]
  },
  {
   "cell_type": "code",
   "execution_count": null,
   "outputs": [],
   "source": [
    "# Download the example config file\n",
    "wget.download(f'https://raw.githubusercontent.com/NVIDIA/NeMo/{BRANCH}/examples/nlp/language_modeling/tuning/conf/megatron_gpt_peft_eval_config.yaml', CONFIG_DIR)"
   ],
   "metadata": {
    "collapsed": false
   }
  },
  {
   "cell_type": "code",
   "execution_count": 17,
   "id": "41ab98a9",
   "metadata": {},
   "outputs": [],
   "source": [
    "# Load the example config file so we can start editing it\n",
    "CONFIG_EVAL_PATH = os.path.join(CONFIG_DIR, \"megatron_gpt_peft_eval_config.yaml\")\n",
    "config_eval = OmegaConf.load(CONFIG_EVAL_PATH)"
   ]
  },
  {
   "attachments": {},
   "cell_type": "markdown",
   "id": "36c58c18",
   "metadata": {},
   "source": [
    "We are going to modify the `config_eval` object that we created above. We will set the base language model as the `345m` model we downloaded earlier.\n",
    "\n",
    "Additionally, we will also set the `model.peft.restore_from_path` with the lora model we just trained. For the tutorial we will just use the validation data for inference as well."
   ]
  },
  {
   "cell_type": "code",
   "execution_count": 18,
   "id": "64a4e71a",
   "metadata": {},
   "outputs": [],
   "source": [
    "config_eval.model.restore_from_path=\"megatron_gpt_345m.nemo\"\n",
    "config_eval.model.peft.restore_from_path=\"./training_info/checkpoints/lora_example_tuning.nemo\"\n",
    "config_eval.model.data.test_ds.file_names=[f\"{SQUAD_DIR}/squad_short_val.jsonl\"]\n",
    "config_eval.model.data.test_ds.names=[\"test_set\"]\n",
    "config_eval.model.data.test_ds.global_batch_size=1\n",
    "config_eval.model.data.test_ds.micro_batch_size=1\n",
    "config_eval.model.data.test_ds.tokens_to_generate=30\n",
    "config_eval.inference.greedy=True"
   ]
  },
  {
   "cell_type": "code",
   "execution_count": 19,
   "outputs": [],
   "source": [
    "strategy = _NLPDDPStrategy(find_unused_parameters=False, no_ddp_communication_hook=True)"
   ],
   "metadata": {
    "collapsed": false
   }
  },
  {
   "cell_type": "code",
   "execution_count": 20,
   "id": "d8ace8f9",
   "metadata": {},
   "outputs": [
    {
     "name": "stderr",
     "output_type": "stream",
     "text": [
      "[NeMo W 2023-09-12 00:23:18 nemo_logging:349] /usr/local/lib/python3.10/dist-packages/lightning_fabric/connector.py:554: UserWarning: 16 is supported for historical reasons but its usage is discouraged. Please set your precision to 16-mixed instead!\n",
      "      rank_zero_warn(\n",
      "    \n",
      "Using 16bit Automatic Mixed Precision (AMP)\n",
      "GPU available: True (cuda), used: True\n",
      "TPU available: False, using: 0 TPU cores\n",
      "IPU available: False, using: 0 IPUs\n",
      "HPU available: False, using: 0 HPUs\n"
     ]
    }
   ],
   "source": [
    "# trainer_eval = MegatronTrainerBuilder(config_eval).create_trainer()\n",
    "trainer_eval = pl.Trainer(strategy=strategy, **config_eval.trainer)"
   ]
  },
  {
   "attachments": {},
   "cell_type": "markdown",
   "id": "e745ac5e",
   "metadata": {},
   "source": [
    "The `config_eval` object is the hydra config at \"inference/test time\". This means it should contain information relevant for inference/test time, although some properties that were set at training time are still relevant. For example, whether training was done with `BOS` enabled or not, and other model specific attributes.\n",
    "\n",
    "So we extract the relevant information from the '.nemo' file of the lora model we just trained using the `merge_inference_cfg` function."
   ]
  },
  {
   "cell_type": "code",
   "execution_count": 21,
   "id": "e04a2201",
   "metadata": {},
   "outputs": [],
   "source": [
    "model_cfg = MegatronGPTSFTModel.merge_inference_cfg(config_eval.model.peft.restore_from_path, config_eval)"
   ]
  },
  {
   "attachments": {},
   "cell_type": "markdown",
   "id": "132ae378",
   "metadata": {},
   "source": [
    "Then, we load the base language model as well as the lora model we just trained."
   ]
  },
  {
   "cell_type": "code",
   "execution_count": 22,
   "id": "b19cd0ce",
   "metadata": {},
   "outputs": [
    {
     "name": "stderr",
     "output_type": "stream",
     "text": [
      "[NeMo W 2023-09-12 00:23:32 modelPT:174] Please call the ModelPT.setup_test_data() or ModelPT.setup_multiple_test_data() method and provide a valid configuration file to setup the test data loader(s).\n",
      "    Test config : \n",
      "    file_names: null\n",
      "    names: null\n",
      "    global_batch_size: 4\n",
      "    micro_batch_size: 1\n",
      "    shuffle: false\n",
      "    num_workers: 0\n",
      "    memmap_workers: 2\n",
      "    pin_memory: true\n",
      "    max_seq_length: 2048\n",
      "    min_seq_length: 1\n",
      "    drop_last: false\n",
      "    context_key: input\n",
      "    label_key: output\n",
      "    add_eos: true\n",
      "    add_sep: false\n",
      "    add_bos: false\n",
      "    separate_prompt_and_response_with_newline: false\n",
      "    write_predictions_to_file: false\n",
      "    output_file_path_prefix: null\n",
      "    truncation_field: context\n",
      "    index_mapping_dir: null\n",
      "    prompt_template: '{input} {output}'\n",
      "    tokens_to_generate: 32\n",
      "    metric:\n",
      "      name: loss\n",
      "      average: null\n",
      "      num_classes: null\n",
      "    \n",
      "[NeMo W 2023-09-12 00:23:32 megatron_base_model:802] The model: MegatronGPTSFTModel() does not have field.name: virtual_pipeline_model_parallel_size in its cfg. Add this key to cfg or config_mapping to make to make it configurable.\n",
      "[NeMo W 2023-09-12 00:23:32 megatron_base_model:802] The model: MegatronGPTSFTModel() does not have field.name: gradient_accumulation_fusion in its cfg. Add this key to cfg or config_mapping to make to make it configurable.\n",
      "[NeMo W 2023-09-12 00:23:32 megatron_base_model:802] The model: MegatronGPTSFTModel() does not have field.name: overlap_p2p_comm in its cfg. Add this key to cfg or config_mapping to make to make it configurable.\n",
      "[NeMo W 2023-09-12 00:23:32 megatron_base_model:802] The model: MegatronGPTSFTModel() does not have field.name: batch_p2p_comm in its cfg. Add this key to cfg or config_mapping to make to make it configurable.\n"
     ]
    },
    {
     "name": "stdout",
     "output_type": "stream",
     "text": [
      "[NeMo I 2023-09-12 00:23:32 megatron_init:234] Rank 0 has data parallel group: [0]\n",
      "[NeMo I 2023-09-12 00:23:32 megatron_init:237] All data parallel group ranks: [[0]]\n",
      "[NeMo I 2023-09-12 00:23:32 megatron_init:238] Ranks 0 has data parallel rank: 0\n",
      "[NeMo I 2023-09-12 00:23:32 megatron_init:246] Rank 0 has model parallel group: [0]\n",
      "[NeMo I 2023-09-12 00:23:32 megatron_init:247] All model parallel group ranks: [[0]]\n",
      "[NeMo I 2023-09-12 00:23:32 megatron_init:257] Rank 0 has tensor model parallel group: [0]\n",
      "[NeMo I 2023-09-12 00:23:32 megatron_init:261] All tensor model parallel group ranks: [[0]]\n",
      "[NeMo I 2023-09-12 00:23:32 megatron_init:262] Rank 0 has tensor model parallel rank: 0\n",
      "[NeMo I 2023-09-12 00:23:32 megatron_init:276] Rank 0 has pipeline model parallel group: [0]\n",
      "[NeMo I 2023-09-12 00:23:32 megatron_init:288] Rank 0 has embedding group: [0]\n",
      "[NeMo I 2023-09-12 00:23:32 megatron_init:294] All pipeline model parallel group ranks: [[0]]\n",
      "[NeMo I 2023-09-12 00:23:32 megatron_init:295] Rank 0 has pipeline model parallel rank 0\n",
      "[NeMo I 2023-09-12 00:23:32 megatron_init:296] All embedding group ranks: [[0]]\n",
      "[NeMo I 2023-09-12 00:23:32 megatron_init:297] Rank 0 has embedding rank: 0\n"
     ]
    },
    {
     "name": "stderr",
     "output_type": "stream",
     "text": [
      "[NeMo W 2023-09-12 00:23:32 megatron_base_model:802] The model: MegatronGPTSFTModel() does not have field.name: virtual_pipeline_model_parallel_size in its cfg. Add this key to cfg or config_mapping to make to make it configurable.\n",
      "[NeMo W 2023-09-12 00:23:32 megatron_base_model:802] The model: MegatronGPTSFTModel() does not have field.name: gradient_accumulation_fusion in its cfg. Add this key to cfg or config_mapping to make to make it configurable.\n",
      "[NeMo W 2023-09-12 00:23:32 megatron_base_model:802] The model: MegatronGPTSFTModel() does not have field.name: overlap_p2p_comm in its cfg. Add this key to cfg or config_mapping to make to make it configurable.\n",
      "[NeMo W 2023-09-12 00:23:32 megatron_base_model:802] The model: MegatronGPTSFTModel() does not have field.name: batch_p2p_comm in its cfg. Add this key to cfg or config_mapping to make to make it configurable.\n",
      "[NeMo W 2023-09-12 00:23:32 modelPT:258] You tried to register an artifact under config key=tokenizer.vocab_file but an artifact for it has already been registered.\n"
     ]
    },
    {
     "name": "stdout",
     "output_type": "stream",
     "text": [
      "[NeMo I 2023-09-12 00:23:32 tokenizer_utils:204] Getting Megatron tokenizer for pretrained model name: megatron-gpt-345m, custom vocab file: /tmp/tmpb4hq0_ez/bfcdca5e44814366bdb5dcd651325152_gpt2-vocab.json, and merges file: /tmp/tmpb4hq0_ez/315a11fd68be49d6abdb34363e8c4997_gpt2-merge.txt\n",
      "[NeMo I 2023-09-12 00:23:32 tokenizer_utils:130] Getting HuggingFace AutoTokenizer with pretrained_model_name: gpt2, vocab_file: /tmp/tmpb4hq0_ez/bfcdca5e44814366bdb5dcd651325152_gpt2-vocab.json, merges_files: /tmp/tmpb4hq0_ez/315a11fd68be49d6abdb34363e8c4997_gpt2-merge.txt, special_tokens_dict: {}, and use_fast: False\n"
     ]
    },
    {
     "name": "stderr",
     "output_type": "stream",
     "text": [
      "Using sep_token, but it is not set yet.\n",
      "Using cls_token, but it is not set yet.\n",
      "Using pad_token, but it is not set yet.\n",
      "Using mask_token, but it is not set yet.\n"
     ]
    },
    {
     "name": "stdout",
     "output_type": "stream",
     "text": [
      "[NeMo I 2023-09-12 00:23:33 megatron_base_model:297] Padded vocab_size: 50304, original vocab_size: 50257, dummy tokens: 47.\n"
     ]
    },
    {
     "name": "stderr",
     "output_type": "stream",
     "text": [
      "[NeMo W 2023-09-12 00:23:33 megatron_base_model:802] The model: MegatronGPTSFTModel() does not have field.name: virtual_pipeline_model_parallel_size in its cfg. Add this key to cfg or config_mapping to make to make it configurable.\n",
      "[NeMo W 2023-09-12 00:23:33 megatron_base_model:802] The model: MegatronGPTSFTModel() does not have field.name: gradient_accumulation_fusion in its cfg. Add this key to cfg or config_mapping to make to make it configurable.\n",
      "[NeMo W 2023-09-12 00:23:33 megatron_base_model:802] The model: MegatronGPTSFTModel() does not have field.name: overlap_p2p_comm in its cfg. Add this key to cfg or config_mapping to make to make it configurable.\n",
      "[NeMo W 2023-09-12 00:23:33 megatron_base_model:802] The model: MegatronGPTSFTModel() does not have field.name: batch_p2p_comm in its cfg. Add this key to cfg or config_mapping to make to make it configurable.\n",
      "[NeMo W 2023-09-12 00:23:33 megatron_gpt_model:1544] The model: MegatronGPTSFTModel() does not have field.name: num_query_groups in its cfg. Add this key to cfg or config_mapping to make to make it configurable.\n",
      "[NeMo W 2023-09-12 00:23:33 megatron_gpt_model:1544] The model: MegatronGPTSFTModel() does not have field.name: masked_softmax_fusion in its cfg. Add this key to cfg or config_mapping to make to make it configurable.\n",
      "[NeMo W 2023-09-12 00:23:33 megatron_gpt_model:1544] The model: MegatronGPTSFTModel() does not have field.name: fp8_margin in its cfg. Add this key to cfg or config_mapping to make to make it configurable.\n",
      "[NeMo W 2023-09-12 00:23:33 megatron_gpt_model:1544] The model: MegatronGPTSFTModel() does not have field.name: fp8_interval in its cfg. Add this key to cfg or config_mapping to make to make it configurable.\n",
      "[NeMo W 2023-09-12 00:23:33 megatron_gpt_model:1544] The model: MegatronGPTSFTModel() does not have field.name: fp8_amax_history_len in its cfg. Add this key to cfg or config_mapping to make to make it configurable.\n",
      "[NeMo W 2023-09-12 00:23:33 megatron_gpt_model:1544] The model: MegatronGPTSFTModel() does not have field.name: fp8_amax_compute_algo in its cfg. Add this key to cfg or config_mapping to make to make it configurable.\n",
      "[NeMo W 2023-09-12 00:23:33 megatron_gpt_model:1544] The model: MegatronGPTSFTModel() does not have field.name: fp8_wgrad in its cfg. Add this key to cfg or config_mapping to make to make it configurable.\n"
     ]
    },
    {
     "name": "stdout",
     "output_type": "stream",
     "text": [
      "[NeMo I 2023-09-12 00:23:34 nlp_overrides:585] Model MegatronGPTSFTModel was successfully restored from /NeMo/tutorials/nlp/megatron_gpt_345m.nemo.\n",
      "[NeMo I 2023-09-12 00:23:34 nlp_adapter_mixins:139] Before adding PEFT params:\n",
      "      | Name  | Type     | Params\n",
      "    -----------------------------------\n",
      "    0 | model | GPTModel | 354 M \n",
      "    -----------------------------------\n",
      "    0         Trainable params\n",
      "    354 M     Non-trainable params\n",
      "    354 M     Total params\n",
      "    1,419.485 Total estimated model params size (MB)\n",
      "[NeMo I 2023-09-12 00:23:34 nlp_adapter_mixins:165] Layer selection [1, 2, 3, 4, 5, 6, 7, 8, 9, 10, 11, 12, 13, 14, 15, 16, 17, 18, 19, 20, 21, 22, 23, 24] is enabled for the current model (MegatronGPTSFTModel + lora_kqv_adapter)\n",
      "[NeMo I 2023-09-12 00:23:36 nlp_adapter_mixins:195] After adding PEFT params:\n",
      "      | Name  | Type     | Params\n",
      "    -----------------------------------\n",
      "    0 | model | GPTModel | 358 M \n",
      "    -----------------------------------\n",
      "    3.1 M     Trainable params\n",
      "    354 M     Non-trainable params\n",
      "    358 M     Total params\n",
      "    1,432.068 Total estimated model params size (MB)\n",
      "Parameter count manually:\n",
      "   | Name  | Type     | Params\n",
      "-----------------------------------\n",
      "0 | model | GPTModel | 358 M \n",
      "-----------------------------------\n",
      "3.1 M     Trainable params\n",
      "354 M     Non-trainable params\n",
      "358 M     Total params\n",
      "1,432.068 Total estimated model params size (MB)\n"
     ]
    }
   ],
   "source": [
    "model_eval = MegatronGPTSFTModel.restore_from(config_eval.model.restore_from_path, model_cfg, trainer=trainer_eval)\n",
    "model_eval.load_adapters(config_eval.model.peft.restore_from_path, LoraPEFTConfig(model_cfg))\n",
    "model_eval.freeze()\n",
    "\n",
    "print(\"Parameter count manually:\\n\", model.summarize())"
   ]
  },
  {
   "attachments": {},
   "cell_type": "markdown",
   "id": "012439d9",
   "metadata": {},
   "source": [
    "Next, we prepare the dataset and the dataloader objects that the model will perform inference on."
   ]
  },
  {
   "cell_type": "code",
   "execution_count": 23,
   "id": "12c390f8",
   "metadata": {},
   "outputs": [
    {
     "name": "stderr",
     "output_type": "stream",
     "text": [
      "[NeMo W 2023-09-12 00:23:39 megatron_gpt_sft_model:255] Set dataset max_seq_length to max_position_embeddings 1024 if using learned_absolute position embedding\n"
     ]
    },
    {
     "name": "stdout",
     "output_type": "stream",
     "text": [
      "[NeMo I 2023-09-12 00:23:39 text_memmap_dataset:116] Building data files\n",
      "[NeMo I 2023-09-12 00:23:39 text_memmap_dataset:525] Processing 1 data files using 8 workers\n",
      "[NeMo I 2023-09-12 00:23:39 text_memmap_dataset:534] Time building 0 / 1 mem-mapped files: 0:00:00.135460\n",
      "[NeMo I 2023-09-12 00:23:39 text_memmap_dataset:158] Loading data files\n",
      "[NeMo I 2023-09-12 00:23:39 text_memmap_dataset:249] Loading data/SQuAD/squad_short_val.jsonl\n",
      "[NeMo I 2023-09-12 00:23:39 text_memmap_dataset:161] Time loading 1 mem-mapped files: 0:00:00.026494\n",
      "[NeMo I 2023-09-12 00:23:39 text_memmap_dataset:165] Computing global indices\n"
     ]
    }
   ],
   "source": [
    "_test_ds = model_eval._build_dataset(model_cfg.data.test_ds, is_train=False)\n",
    "from torch.utils.data import DataLoader\n",
    "request_dl = DataLoader(\n",
    "    dataset=_test_ds[0],\n",
    "    batch_size=model_cfg.data.test_ds.global_batch_size,\n",
    "    collate_fn=_test_ds[0].collate_fn,\n",
    ")\n",
    "config_inference = OmegaConf.to_container(config_eval.inference, resolve=True)\n",
    "model_eval.set_inference_config(config_inference)"
   ]
  },
  {
   "attachments": {},
   "cell_type": "markdown",
   "id": "76592a1e",
   "metadata": {},
   "source": [
    "And finally, we call `trainer.predict` which triggers the inference process. The `response` object contains the outputs of the model."
   ]
  },
  {
   "cell_type": "markdown",
   "id": "733c172c",
   "metadata": {},
   "source": []
  },
  {
   "cell_type": "code",
   "execution_count": 24,
   "id": "5ba6a70c",
   "metadata": {},
   "outputs": [
    {
     "name": "stderr",
     "output_type": "stream",
     "text": [
      "Initializing distributed: GLOBAL_RANK: 0, MEMBER: 1/1\n",
      "----------------------------------------------------------------------------------------------------\n",
      "distributed_backend=nccl\n",
      "All distributed processes registered. Starting with 1 processes\n",
      "----------------------------------------------------------------------------------------------------\n",
      "\n",
      "LOCAL_RANK: 0 - CUDA_VISIBLE_DEVICES: [0]\n",
      "[NeMo W 2023-09-12 00:23:44 nemo_logging:349] /usr/local/lib/python3.10/dist-packages/pytorch_lightning/trainer/connectors/data_connector.py:438: PossibleUserWarning: The dataloader, predict_dataloader, does not have many workers which may be a bottleneck. Consider increasing the value of the `num_workers` argument` (try 16 which is the number of cpus on this machine) in the `DataLoader` init to improve performance.\n",
      "      rank_zero_warn(\n",
      "    \n"
     ]
    },
    {
     "name": "stdout",
     "output_type": "stream",
     "text": [
      "Predicting: 0it [00:00, ?it/s][NeMo I 2023-09-12 00:23:44 microbatch_calculator:140] setting number of micro-batches to constant 1\n",
      "Predicting DataLoader 0:   0%|                                                 | 0/20 [00:00<?, ?it/s]"
     ]
    },
    {
     "name": "stderr",
     "output_type": "stream",
     "text": [
      "[NeMo W 2023-09-12 00:23:44 nemo_logging:349] /NeMo/tutorials/nlp/../../nemo/collections/nlp/modules/common/text_generation_utils.py:306: UserWarning: The torch.cuda.*DtypeTensor constructors are no longer recommended. It's best to use methods such as torch.tensor(data, dtype=*, device='cuda') to create tensors. (Triggered internally at /opt/pytorch/pytorch/torch/csrc/tensor/python_tensor.cpp:83.)\n",
      "      input_info_tensor = torch.cuda.FloatTensor(input_info)\n",
      "    \n",
      "[NeMo W 2023-09-12 00:23:44 nemo_logging:349] /NeMo/tutorials/nlp/../../nemo/collections/nlp/modules/common/text_generation_utils.py:314: UserWarning: The given NumPy array is not writable, and PyTorch does not support non-writable tensors. This means writing to this tensor will result in undefined behavior. You may want to copy the array to protect its data or make it writable before converting it to a tensor. This type of warning will be suppressed for the rest of this program. (Triggered internally at /opt/pytorch/pytorch/torch/csrc/utils/tensor_numpy.cpp:206.)\n",
      "      string_tensor = torch.as_tensor(\n",
      "    \n"
     ]
    },
    {
     "name": "stdout",
     "output_type": "stream",
     "text": [
      "[NeMo I 2023-09-12 00:23:44 microbatch_calculator:140] setting number of micro-batches to constant 1\n",
      "[NeMo I 2023-09-12 00:23:47 microbatch_calculator:140] setting number of micro-batches to constant 1\n",
      "Predicting DataLoader 0:   5%|██                                       | 1/20 [00:03<00:57,  3.05s/it][NeMo I 2023-09-12 00:23:47 microbatch_calculator:140] setting number of micro-batches to constant 1\n",
      "[NeMo I 2023-09-12 00:23:47 microbatch_calculator:140] setting number of micro-batches to constant 1\n",
      "Predicting DataLoader 0:  10%|████                                     | 2/20 [00:03<00:28,  1.61s/it][NeMo I 2023-09-12 00:23:47 microbatch_calculator:140] setting number of micro-batches to constant 1\n",
      "[NeMo I 2023-09-12 00:23:47 microbatch_calculator:140] setting number of micro-batches to constant 1\n",
      "Predicting DataLoader 0:  15%|██████▏                                  | 3/20 [00:03<00:19,  1.17s/it][NeMo I 2023-09-12 00:23:47 microbatch_calculator:140] setting number of micro-batches to constant 1\n",
      "[NeMo I 2023-09-12 00:23:47 microbatch_calculator:140] setting number of micro-batches to constant 1\n",
      "Predicting DataLoader 0:  20%|████████▏                                | 4/20 [00:03<00:14,  1.09it/s][NeMo I 2023-09-12 00:23:47 microbatch_calculator:140] setting number of micro-batches to constant 1\n",
      "[NeMo I 2023-09-12 00:23:48 microbatch_calculator:140] setting number of micro-batches to constant 1\n",
      "Predicting DataLoader 0:  25%|██████████▎                              | 5/20 [00:03<00:11,  1.31it/s][NeMo I 2023-09-12 00:23:48 microbatch_calculator:140] setting number of micro-batches to constant 1\n",
      "[NeMo I 2023-09-12 00:23:48 microbatch_calculator:140] setting number of micro-batches to constant 1\n",
      "Predicting DataLoader 0:  30%|████████████▎                            | 6/20 [00:04<00:09,  1.43it/s][NeMo I 2023-09-12 00:23:48 microbatch_calculator:140] setting number of micro-batches to constant 1\n",
      "[NeMo I 2023-09-12 00:23:48 microbatch_calculator:140] setting number of micro-batches to constant 1\n",
      "Predicting DataLoader 0:  35%|██████████████▎                          | 7/20 [00:04<00:08,  1.56it/s][NeMo I 2023-09-12 00:23:48 microbatch_calculator:140] setting number of micro-batches to constant 1\n",
      "[NeMo I 2023-09-12 00:23:48 microbatch_calculator:140] setting number of micro-batches to constant 1\n",
      "Predicting DataLoader 0:  40%|████████████████▍                        | 8/20 [00:04<00:07,  1.70it/s][NeMo I 2023-09-12 00:23:48 microbatch_calculator:140] setting number of micro-batches to constant 1\n",
      "[NeMo I 2023-09-12 00:23:49 microbatch_calculator:140] setting number of micro-batches to constant 1\n",
      "Predicting DataLoader 0:  45%|██████████████████▍                      | 9/20 [00:05<00:06,  1.77it/s][NeMo I 2023-09-12 00:23:49 microbatch_calculator:140] setting number of micro-batches to constant 1\n",
      "[NeMo I 2023-09-12 00:23:49 microbatch_calculator:140] setting number of micro-batches to constant 1\n",
      "Predicting DataLoader 0:  50%|████████████████████                    | 10/20 [00:05<00:05,  1.87it/s][NeMo I 2023-09-12 00:23:49 microbatch_calculator:140] setting number of micro-batches to constant 1\n",
      "[NeMo I 2023-09-12 00:23:49 microbatch_calculator:140] setting number of micro-batches to constant 1\n",
      "Predicting DataLoader 0:  55%|██████████████████████                  | 11/20 [00:05<00:04,  1.96it/s][NeMo I 2023-09-12 00:23:49 microbatch_calculator:140] setting number of micro-batches to constant 1\n",
      "[NeMo I 2023-09-12 00:23:50 microbatch_calculator:140] setting number of micro-batches to constant 1\n",
      "Predicting DataLoader 0:  60%|████████████████████████                | 12/20 [00:05<00:03,  2.07it/s][NeMo I 2023-09-12 00:23:50 microbatch_calculator:140] setting number of micro-batches to constant 1\n",
      "[NeMo I 2023-09-12 00:23:50 microbatch_calculator:140] setting number of micro-batches to constant 1\n",
      "Predicting DataLoader 0:  65%|██████████████████████████              | 13/20 [00:06<00:03,  2.14it/s][NeMo I 2023-09-12 00:23:50 microbatch_calculator:140] setting number of micro-batches to constant 1\n",
      "[NeMo I 2023-09-12 00:23:50 microbatch_calculator:140] setting number of micro-batches to constant 1\n",
      "Predicting DataLoader 0:  70%|████████████████████████████            | 14/20 [00:06<00:02,  2.23it/s][NeMo I 2023-09-12 00:23:50 microbatch_calculator:140] setting number of micro-batches to constant 1\n",
      "[NeMo I 2023-09-12 00:23:50 microbatch_calculator:140] setting number of micro-batches to constant 1\n",
      "Predicting DataLoader 0:  75%|██████████████████████████████          | 15/20 [00:06<00:02,  2.31it/s][NeMo I 2023-09-12 00:23:50 microbatch_calculator:140] setting number of micro-batches to constant 1\n",
      "[NeMo I 2023-09-12 00:23:50 microbatch_calculator:140] setting number of micro-batches to constant 1\n",
      "Predicting DataLoader 0:  80%|████████████████████████████████        | 16/20 [00:06<00:01,  2.42it/s][NeMo I 2023-09-12 00:23:50 microbatch_calculator:140] setting number of micro-batches to constant 1\n",
      "[NeMo I 2023-09-12 00:23:51 microbatch_calculator:140] setting number of micro-batches to constant 1\n",
      "Predicting DataLoader 0:  85%|██████████████████████████████████      | 17/20 [00:06<00:01,  2.51it/s][NeMo I 2023-09-12 00:23:51 microbatch_calculator:140] setting number of micro-batches to constant 1\n",
      "[NeMo I 2023-09-12 00:23:51 microbatch_calculator:140] setting number of micro-batches to constant 1\n",
      "Predicting DataLoader 0:  90%|████████████████████████████████████    | 18/20 [00:06<00:00,  2.58it/s][NeMo I 2023-09-12 00:23:51 microbatch_calculator:140] setting number of micro-batches to constant 1\n",
      "[NeMo I 2023-09-12 00:23:51 microbatch_calculator:140] setting number of micro-batches to constant 1\n",
      "Predicting DataLoader 0:  95%|██████████████████████████████████████  | 19/20 [00:07<00:00,  2.65it/s][NeMo I 2023-09-12 00:23:51 microbatch_calculator:140] setting number of micro-batches to constant 1\n",
      "[NeMo I 2023-09-12 00:23:51 microbatch_calculator:140] setting number of micro-batches to constant 1\n",
      "Predicting DataLoader 0: 100%|████████████████████████████████████████| 20/20 [00:07<00:00,  2.71it/s]\n",
      "User: Context:Super Bowl 50 was an American football game to determine the champion of the National Football League (NFL) for the 2015 season. The American Football Conference (AFC) champion Denver Broncos defeated the National Football Conference (NFC) champion Carolina Panthers 24–10 to earn their third Super Bowl title. The game was played on February 7, 2016, at Levi's Stadium in the San Francisco Bay Area at Santa Clara, California. As this was the 50th Super Bowl, the league emphasized the \"golden anniversary\" with various gold-themed initiatives, as well as temporarily suspending the tradition of naming each Super Bowl game with Roman numerals (under which the game would have been known as \"Super Bowl L\"), so that the logo could prominently feature the Arabic numerals 50. Question:Which NFL team represented the AFC at Super Bowl 50?\n",
      "\n",
      "Assistant: Denver Broncos\n",
      "\n",
      "\n",
      "User: Context:Super Bowl 50 was an American football game to determine the champion of the National Football League (NFL) for the 2015 season. The American Football Conference (AFC) champion Denver Broncos defeated the National Football Conference (NFC) champion Carolina Panthers 24–10 to earn their third Super Bowl title. The game was played on February 7, 2016, at Levi's Stadium in the San Francisco Bay Area at Santa Clara, California. As this was the 50th Super Bowl, the league emphasized the \"golden anniversary\" with various gold-themed initiatives, as well as temporarily suspending the tradition of naming each Super Bowl game with Roman numerals (under which the game would have been known as \"Super Bowl L\"), so that the logo could prominently feature the Arabic numerals 50. Question:Which NFL team represented the NFC at Super Bowl 50?\n",
      "\n",
      "Assistant: Denver Broncos\n",
      "\n",
      "\n",
      "User: Context:Super Bowl 50 was an American football game to determine the champion of the National Football League (NFL) for the 2015 season. The American Football Conference (AFC) champion Denver Broncos defeated the National Football Conference (NFC) champion Carolina Panthers 24–10 to earn their third Super Bowl title. The game was played on February 7, 2016, at Levi's Stadium in the San Francisco Bay Area at Santa Clara, California. As this was the 50th Super Bowl, the league emphasized the \"golden anniversary\" with various gold-themed initiatives, as well as temporarily suspending the tradition of naming each Super Bowl game with Roman numerals (under which the game would have been known as \"Super Bowl L\"), so that the logo could prominently feature the Arabic numerals 50. Question:Where did Super Bowl 50 take place?\n",
      "\n",
      "Assistant: Santa Clara, California\n",
      "\n",
      "\n",
      "User: Context:Super Bowl 50 was an American football game to determine the champion of the National Football League (NFL) for the 2015 season. The American Football Conference (AFC) champion Denver Broncos defeated the National Football Conference (NFC) champion Carolina Panthers 24–10 to earn their third Super Bowl title. The game was played on February 7, 2016, at Levi's Stadium in the San Francisco Bay Area at Santa Clara, California. As this was the 50th Super Bowl, the league emphasized the \"golden anniversary\" with various gold-themed initiatives, as well as temporarily suspending the tradition of naming each Super Bowl game with Roman numerals (under which the game would have been known as \"Super Bowl L\"), so that the logo could prominently feature the Arabic numerals 50. Question:Which NFL team won Super Bowl 50?\n",
      "\n",
      "Assistant: Denver Broncos\n",
      "\n",
      "\n",
      "User: Context:Super Bowl 50 was an American football game to determine the champion of the National Football League (NFL) for the 2015 season. The American Football Conference (AFC) champion Denver Broncos defeated the National Football Conference (NFC) champion Carolina Panthers 24–10 to earn their third Super Bowl title. The game was played on February 7, 2016, at Levi's Stadium in the San Francisco Bay Area at Santa Clara, California. As this was the 50th Super Bowl, the league emphasized the \"golden anniversary\" with various gold-themed initiatives, as well as temporarily suspending the tradition of naming each Super Bowl game with Roman numerals (under which the game would have been known as \"Super Bowl L\"), so that the logo could prominently feature the Arabic numerals 50. Question:What color was used to emphasize the 50th anniversary of the Super Bowl?\n",
      "\n",
      "Assistant: gold\n",
      "\n",
      "\n",
      "User: Context:Super Bowl 50 was an American football game to determine the champion of the National Football League (NFL) for the 2015 season. The American Football Conference (AFC) champion Denver Broncos defeated the National Football Conference (NFC) champion Carolina Panthers 24–10 to earn their third Super Bowl title. The game was played on February 7, 2016, at Levi's Stadium in the San Francisco Bay Area at Santa Clara, California. As this was the 50th Super Bowl, the league emphasized the \"golden anniversary\" with various gold-themed initiatives, as well as temporarily suspending the tradition of naming each Super Bowl game with Roman numerals (under which the game would have been known as \"Super Bowl L\"), so that the logo could prominently feature the Arabic numerals 50. Question:What was the theme of Super Bowl 50?\n",
      "\n",
      "Assistant: \"golden anniversary\"\n",
      "\n",
      "\n",
      "User: Context:Super Bowl 50 was an American football game to determine the champion of the National Football League (NFL) for the 2015 season. The American Football Conference (AFC) champion Denver Broncos defeated the National Football Conference (NFC) champion Carolina Panthers 24–10 to earn their third Super Bowl title. The game was played on February 7, 2016, at Levi's Stadium in the San Francisco Bay Area at Santa Clara, California. As this was the 50th Super Bowl, the league emphasized the \"golden anniversary\" with various gold-themed initiatives, as well as temporarily suspending the tradition of naming each Super Bowl game with Roman numerals (under which the game would have been known as \"Super Bowl L\"), so that the logo could prominently feature the Arabic numerals 50. Question:What day was the game played on?\n",
      "\n",
      "Assistant: February 7, 2016\n",
      "\n",
      "\n",
      "User: Context:Super Bowl 50 was an American football game to determine the champion of the National Football League (NFL) for the 2015 season. The American Football Conference (AFC) champion Denver Broncos defeated the National Football Conference (NFC) champion Carolina Panthers 24–10 to earn their third Super Bowl title. The game was played on February 7, 2016, at Levi's Stadium in the San Francisco Bay Area at Santa Clara, California. As this was the 50th Super Bowl, the league emphasized the \"golden anniversary\" with various gold-themed initiatives, as well as temporarily suspending the tradition of naming each Super Bowl game with Roman numerals (under which the game would have been known as \"Super Bowl L\"), so that the logo could prominently feature the Arabic numerals 50. Question:What is the AFC short for?\n",
      "\n",
      "Assistant: Super Bowl L\n",
      "\n",
      "\n",
      "User: Context:Super Bowl 50 was an American football game to determine the champion of the National Football League (NFL) for the 2015 season. The American Football Conference (AFC) champion Denver Broncos defeated the National Football Conference (NFC) champion Carolina Panthers 24–10 to earn their third Super Bowl title. The game was played on February 7, 2016, at Levi's Stadium in the San Francisco Bay Area at Santa Clara, California. As this was the 50th Super Bowl, the league emphasized the \"golden anniversary\" with various gold-themed initiatives, as well as temporarily suspending the tradition of naming each Super Bowl game with Roman numerals (under which the game would have been known as \"Super Bowl L\"), so that the logo could prominently feature the Arabic numerals 50. Question:What was the theme of Super Bowl 50?\n",
      "\n",
      "Assistant: \"golden anniversary\"\n",
      "\n",
      "\n",
      "User: Context:Super Bowl 50 was an American football game to determine the champion of the National Football League (NFL) for the 2015 season. The American Football Conference (AFC) champion Denver Broncos defeated the National Football Conference (NFC) champion Carolina Panthers 24–10 to earn their third Super Bowl title. The game was played on February 7, 2016, at Levi's Stadium in the San Francisco Bay Area at Santa Clara, California. As this was the 50th Super Bowl, the league emphasized the \"golden anniversary\" with various gold-themed initiatives, as well as temporarily suspending the tradition of naming each Super Bowl game with Roman numerals (under which the game would have been known as \"Super Bowl L\"), so that the logo could prominently feature the Arabic numerals 50. Question:What does AFC stand for?\n",
      "\n",
      "Assistant: Super Bowl L\n",
      "\n",
      "\n",
      "User: Context:Super Bowl 50 was an American football game to determine the champion of the National Football League (NFL) for the 2015 season. The American Football Conference (AFC) champion Denver Broncos defeated the National Football Conference (NFC) champion Carolina Panthers 24–10 to earn their third Super Bowl title. The game was played on February 7, 2016, at Levi's Stadium in the San Francisco Bay Area at Santa Clara, California. As this was the 50th Super Bowl, the league emphasized the \"golden anniversary\" with various gold-themed initiatives, as well as temporarily suspending the tradition of naming each Super Bowl game with Roman numerals (under which the game would have been known as \"Super Bowl L\"), so that the logo could prominently feature the Arabic numerals 50. Question:What day was the Super Bowl played on?\n",
      "\n",
      "Assistant: February 7, 2016\n",
      "\n",
      "\n",
      "User: Context:Super Bowl 50 was an American football game to determine the champion of the National Football League (NFL) for the 2015 season. The American Football Conference (AFC) champion Denver Broncos defeated the National Football Conference (NFC) champion Carolina Panthers 24–10 to earn their third Super Bowl title. The game was played on February 7, 2016, at Levi's Stadium in the San Francisco Bay Area at Santa Clara, California. As this was the 50th Super Bowl, the league emphasized the \"golden anniversary\" with various gold-themed initiatives, as well as temporarily suspending the tradition of naming each Super Bowl game with Roman numerals (under which the game would have been known as \"Super Bowl L\"), so that the logo could prominently feature the Arabic numerals 50. Question:Who won Super Bowl 50?\n",
      "\n",
      "Assistant: Denver Broncos\n",
      "\n",
      "\n",
      "User: Context:Super Bowl 50 was an American football game to determine the champion of the National Football League (NFL) for the 2015 season. The American Football Conference (AFC) champion Denver Broncos defeated the National Football Conference (NFC) champion Carolina Panthers 24–10 to earn their third Super Bowl title. The game was played on February 7, 2016, at Levi's Stadium in the San Francisco Bay Area at Santa Clara, California. As this was the 50th Super Bowl, the league emphasized the \"golden anniversary\" with various gold-themed initiatives, as well as temporarily suspending the tradition of naming each Super Bowl game with Roman numerals (under which the game would have been known as \"Super Bowl L\"), so that the logo could prominently feature the Arabic numerals 50. Question:What venue did Super Bowl 50 take place in?\n",
      "\n",
      "Assistant: Santa Clara, California\n",
      "\n",
      "\n",
      "User: Context:Super Bowl 50 was an American football game to determine the champion of the National Football League (NFL) for the 2015 season. The American Football Conference (AFC) champion Denver Broncos defeated the National Football Conference (NFC) champion Carolina Panthers 24–10 to earn their third Super Bowl title. The game was played on February 7, 2016, at Levi's Stadium in the San Francisco Bay Area at Santa Clara, California. As this was the 50th Super Bowl, the league emphasized the \"golden anniversary\" with various gold-themed initiatives, as well as temporarily suspending the tradition of naming each Super Bowl game with Roman numerals (under which the game would have been known as \"Super Bowl L\"), so that the logo could prominently feature the Arabic numerals 50. Question:What city did Super Bowl 50 take place in?\n",
      "\n",
      "Assistant: San Francisco\n",
      "\n",
      "\n",
      "User: Context:Super Bowl 50 was an American football game to determine the champion of the National Football League (NFL) for the 2015 season. The American Football Conference (AFC) champion Denver Broncos defeated the National Football Conference (NFC) champion Carolina Panthers 24–10 to earn their third Super Bowl title. The game was played on February 7, 2016, at Levi's Stadium in the San Francisco Bay Area at Santa Clara, California. As this was the 50th Super Bowl, the league emphasized the \"golden anniversary\" with various gold-themed initiatives, as well as temporarily suspending the tradition of naming each Super Bowl game with Roman numerals (under which the game would have been known as \"Super Bowl L\"), so that the logo could prominently feature the Arabic numerals 50. Question:If Roman numerals were used, what would Super Bowl 50 have been called?\n",
      "\n",
      "Assistant: Super Bowl L\n",
      "\n",
      "\n",
      "User: Context:Super Bowl 50 was an American football game to determine the champion of the National Football League (NFL) for the 2015 season. The American Football Conference (AFC) champion Denver Broncos defeated the National Football Conference (NFC) champion Carolina Panthers 24–10 to earn their third Super Bowl title. The game was played on February 7, 2016, at Levi's Stadium in the San Francisco Bay Area at Santa Clara, California. As this was the 50th Super Bowl, the league emphasized the \"golden anniversary\" with various gold-themed initiatives, as well as temporarily suspending the tradition of naming each Super Bowl game with Roman numerals (under which the game would have been known as \"Super Bowl L\"), so that the logo could prominently feature the Arabic numerals 50. Question:Super Bowl 50 decided the NFL champion for what season?\n",
      "\n",
      "Assistant: 2015\n",
      "\n",
      "\n",
      "User: Context:Super Bowl 50 was an American football game to determine the champion of the National Football League (NFL) for the 2015 season. The American Football Conference (AFC) champion Denver Broncos defeated the National Football Conference (NFC) champion Carolina Panthers 24–10 to earn their third Super Bowl title. The game was played on February 7, 2016, at Levi's Stadium in the San Francisco Bay Area at Santa Clara, California. As this was the 50th Super Bowl, the league emphasized the \"golden anniversary\" with various gold-themed initiatives, as well as temporarily suspending the tradition of naming each Super Bowl game with Roman numerals (under which the game would have been known as \"Super Bowl L\"), so that the logo could prominently feature the Arabic numerals 50. Question:What year did the Denver Broncos secure a Super Bowl title for the third time?\n",
      "\n",
      "Assistant: 2015\n",
      "\n",
      "\n",
      "User: Context:Super Bowl 50 was an American football game to determine the champion of the National Football League (NFL) for the 2015 season. The American Football Conference (AFC) champion Denver Broncos defeated the National Football Conference (NFC) champion Carolina Panthers 24–10 to earn their third Super Bowl title. The game was played on February 7, 2016, at Levi's Stadium in the San Francisco Bay Area at Santa Clara, California. As this was the 50th Super Bowl, the league emphasized the \"golden anniversary\" with various gold-themed initiatives, as well as temporarily suspending the tradition of naming each Super Bowl game with Roman numerals (under which the game would have been known as \"Super Bowl L\"), so that the logo could prominently feature the Arabic numerals 50. Question:What city did Super Bowl 50 take place in?\n",
      "\n",
      "Assistant: San Francisco\n",
      "\n",
      "\n",
      "User: Context:Super Bowl 50 was an American football game to determine the champion of the National Football League (NFL) for the 2015 season. The American Football Conference (AFC) champion Denver Broncos defeated the National Football Conference (NFC) champion Carolina Panthers 24–10 to earn their third Super Bowl title. The game was played on February 7, 2016, at Levi's Stadium in the San Francisco Bay Area at Santa Clara, California. As this was the 50th Super Bowl, the league emphasized the \"golden anniversary\" with various gold-themed initiatives, as well as temporarily suspending the tradition of naming each Super Bowl game with Roman numerals (under which the game would have been known as \"Super Bowl L\"), so that the logo could prominently feature the Arabic numerals 50. Question:What stadium did Super Bowl 50 take place in?\n",
      "\n",
      "Assistant: Levi's Stadium\n",
      "\n",
      "\n",
      "User: Context:Super Bowl 50 was an American football game to determine the champion of the National Football League (NFL) for the 2015 season. The American Football Conference (AFC) champion Denver Broncos defeated the National Football Conference (NFC) champion Carolina Panthers 24–10 to earn their third Super Bowl title. The game was played on February 7, 2016, at Levi's Stadium in the San Francisco Bay Area at Santa Clara, California. As this was the 50th Super Bowl, the league emphasized the \"golden anniversary\" with various gold-themed initiatives, as well as temporarily suspending the tradition of naming each Super Bowl game with Roman numerals (under which the game would have been known as \"Super Bowl L\"), so that the logo could prominently feature the Arabic numerals 50. Question:What was the final score of Super Bowl 50? \n",
      "\n",
      "Assistant: 24–10\n",
      "\n",
      "\n"
     ]
    }
   ],
   "source": [
    "response = trainer_eval.predict(model_eval, request_dl)\n",
    "for batch in response:\n",
    "    for s in batch['sentences']:\n",
    "        print(f\"{s}\\n\\n\")"
   ]
  }
 ],
 "metadata": {
  "kernelspec": {
   "display_name": "Python 3 (ipykernel)",
   "language": "python",
   "name": "python3"
  },
  "language_info": {
   "codemirror_mode": {
    "name": "ipython",
    "version": 3
   },
   "file_extension": ".py",
   "mimetype": "text/x-python",
   "name": "python",
   "nbconvert_exporter": "python",
   "pygments_lexer": "ipython3",
   "version": "3.8.16"
  }
 },
 "nbformat": 4,
 "nbformat_minor": 5
}
