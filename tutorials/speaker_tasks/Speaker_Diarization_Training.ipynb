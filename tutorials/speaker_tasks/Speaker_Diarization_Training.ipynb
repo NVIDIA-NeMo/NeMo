{
 "cells": [
  {
   "cell_type": "code",
   "execution_count": null,
   "metadata": {},
   "outputs": [],
   "source": [
    "\"\"\"\n",
    "You can run either this notebook locally (if you have all the dependencies and a GPU) or on Google Colab.\n",
    "\n",
    "Instructions for setting up Colab are as follows:\n",
    "1. Open a new Python 3 notebook.\n",
    "2. Import this notebook from GitHub (File -> Upload Notebook -> \"GITHUB\" tab -> copy/paste GitHub URL)\n",
    "3. Connect to an instance with a GPU (Runtime -> Change runtime type -> select \"GPU\" for hardware accelerator)\n",
    "4. Run this cell to set up dependencies.\n",
    "5. Restart the runtime (Runtime -> Restart Runtime) for any upgraded packages to take effect\n",
    "\"\"\"\n",
    "\n",
    "NEMO_DIR_PATH = \"NeMo\"\n",
    "BRANCH = 'main'\n",
    "\n",
    "! git clone https://github.com/NVIDIA/NeMo\n",
    "%cd NeMo\n",
    "! python -m pip install git+https://github.com/NVIDIA/NeMo.git@$BRANCH#egg=nemo_toolkit[all]\n",
    "%cd .."
   ]
  },
  {
   "cell_type": "markdown",
   "metadata": {},
   "source": [
    "# Speaker Diarization Training"
   ]
  },
  {
   "cell_type": "markdown",
   "metadata": {},
   "source": [
    "## Neural Diarizer in Speaker Diarization Pipeline"
   ]
  },
  {
   "cell_type": "markdown",
   "metadata": {},
   "source": [
    "<img src=\"images/diar_pipeline.png\" alt=\"diar_pipeline\" style=\"width: 800px;\"/>"
   ]
  },
  {
   "cell_type": "markdown",
   "metadata": {},
   "source": [
    "Speaker diarization system needs to capture the characteristics of unseen speakers from the given audio recording and generate speaker-homogeneous segments which belongs to corresponding speaker labels. During the speaker diarization process, the number of speakers should be estimated, then the audio segments should be assigned to a few of speaker labels. \n",
    "\n",
    "While clustering algorithm can also assign segments to speaker groups, overlap-aware diarization cannot be done with clustering based diarizer since one segment is only assigned to one speaker label. However, we can use the clustering result to create initial speaker profiles and train a neural model that generates overlap-aware speaker labels by comparing the input audio signal with the initial speaker profiles. In NeMo speaker diarization toolkit, we refer to such neural modules as **neural diarizer**. \n",
    "\n",
    "Multiscale Diarization Decoder (MSDD) model is a type of neural diarizer we can use in NeMo speaker diarization pipeline. This tutorial shows how to train MSDD on a small toy dataset. By using MSDD on top of clustering diarizer, we can obtain the following benefits:\n",
    "\n",
    "- **Imporved diarization accuracy**: Compared to clustering diarizer, MSDD could achieve a lower diarization error rate (DER)\n",
    "- **Overlap aware diarization**: Speaker diarization results in clustering diarizer do not include speech overlaps\n",
    "- **Model training on actual multispeaker dataset**: Unlike training a speaker embedding model, we can train or finetune a neural model on an actual speaker diarization dataset where multiple speakers are recorded in a single audio file. "
   ]
  },
  {
   "cell_type": "markdown",
   "metadata": {},
   "source": [
    "### Training and inference of Multi-scale Diarization Decoder\n",
    "\n",
    "When it comes to speaker diarization problem, MSDD model employs a divide-and-conquer strategy where pairwise model is employed for both training and inference. The following figure explains how pairwise model is employed for training and inference."
   ]
  },
  {
   "cell_type": "markdown",
   "metadata": {},
   "source": [
    "<img src=\"images/msdd_train_and_infer.png\" alt=\"MSDD_train_infer\" style=\"width: 800px;\"/>"
   ]
  },
  {
   "cell_type": "markdown",
   "metadata": {},
   "source": [
    "Here are itemized descriptions of noteworthy features of MSDD model.\n",
    "\n",
    "#### Training \n",
    "\n",
    "- **Oracle VAD, multi-scale segmentation for training**   \n",
    "In a training setup, we use oracle VAD from groundtruth annotation file (RTTM files) and perform multiscale segmentation. After we obtain timestamps for each and every segments, we feed multi-scale timestamps and raw audio signal into computational graph where speaker embedding extractor and neural diarizer is trained.  \n",
    "\n",
    "   \n",
    "- **MSDD inputs for training process**  \n",
    "During training, we employ oracle clustering result (groundtruth speaker labels in the annotation file) to calculate the cluster-average embeddings. Subsequently, we calculate binary cross-entropy loss which calculate a loss value for each timestep and each speaker.\n",
    "\n",
    "\n",
    "- **End-to-end training: from raw audio to speaker label**   \n",
    "The training approach we employ can be considered as end-to-end training since the input to the computational graph is raw audio signal and the outputs are speaker labels. The end-to-end training is depicted in a dotted box in the above figure. We can either freeze speaker embedding model or train it jointly depending on the tasks.   \n",
    "\n",
    "\n",
    "- **Pairwise (two-speaker) unit model**   \n",
    "While training the MSDD model, we use two speaker dataset for a two speaker model. For this pairwise training, we clean the source dataset to have only two speakers by spliting the annotation.   \n",
    "\n",
    "\n",
    "- **Split training samples**  \n",
    "Since we have finite GPU memory for training, we break down the training audio samples into short audio samples. We set step-count, and step-count indicates a unit of decision for speaker label estimation. We set step-count (e.g., `step_count=50`) when we create training datasets and use the step-count for training.    "
   ]
  },
  {
   "cell_type": "markdown",
   "metadata": {},
   "source": [
    "#### Inference\n",
    "\n",
    "- **Multi-scale clustering**  \n",
    "In inference mode, we apply multi-scale clustering for obtaining speaker profiles that are represented by cluster-average embedding.   \n",
    "\n",
    "\n",
    "- **Divide-and-conquer approach with pairwise (two-speaker) unit model**   \n",
    "We retrieve all possible pairs from the estimated number of speakers and average the results. For example, if there are four speakers `(A, B, C, D)`, we extract 6 pairs: `(A,B)`, `(A,C)`, `(A,D)`, `(B,C)`, `(B,D)`, `(C,D)`. Finally, the sigmoid outputs are averaged. In this way, MSDD can deal with flexible number of speakers using a pairwise model.\n",
    "\n",
    "\n",
    "- **Split inference samples**  \n",
    "As in training process, we can also breakdown the target samples for inference. While we can do inference on whole input audio at once, split inference generally gives an improved performance. It is recommended to use the same step-count you used for training the MSDD model (e.g., `diar_window_length=50`) for your inference configurations."
   ]
  },
  {
   "cell_type": "markdown",
   "metadata": {},
   "source": [
    "### Input and Output of Multi-scale Diarization Decoder"
   ]
  },
  {
   "cell_type": "markdown",
   "metadata": {},
   "source": [
    "While using an MSDD model as neural diarizer has a few benefits, MSDD models require a clustering result to obtain initial speaker profiles as refereces for performing overlap-aware speaker diarization inference.  Here are descriptions for input and output of MSDD model."
   ]
  },
  {
   "cell_type": "markdown",
   "metadata": {},
   "source": [
    "#### Input: Clustering as Initialization\n",
    "\n",
    "MSDD model is a diarizer model that accepts two different data inputs:\n",
    "\n",
    " 1. Cluster-average embeddings\n",
    " 2. Multi-scale embedding sequence \n",
    " \n",
    "The two input signals are depicted in the following figure."
   ]
  },
  {
   "cell_type": "markdown",
   "metadata": {},
   "source": [
    "<img src=\"images/msdd_inputs.png\" alt=\"MSDD_inputs\" style=\"width: 600px;\"/>"
   ]
  },
  {
   "cell_type": "markdown",
   "metadata": {},
   "source": [
    "By initializing the diarization task with clustering algorithm, we can estimate number of speakers and cluster-average embeddings. Thus, the cluster-average embeddings provide speaker profile of each speaker. The cluster-average embeddings we provide can be regarded as reference signals for providing seed speaker profiles.\n",
    "\n",
    "Once we obtain the fixed (or estimated) number of speakers, speaker diarization problem becomes binary classification task where we need to estimate whether a certain speaker's speech exists or not at a given timestep.  "
   ]
  },
  {
   "cell_type": "markdown",
   "metadata": {},
   "source": [
    "#### Output: Sigmoid Output and Binary Cross-entropy Loss"
   ]
  },
  {
   "cell_type": "markdown",
   "metadata": {},
   "source": [
    "<img src=\"images/msdd_output_loss.png\" alt=\"MSDD_output_loss\" style=\"width: 600px;\"/>"
   ]
  },
  {
   "cell_type": "markdown",
   "metadata": {},
   "source": [
    "The above figure is depicting the inputs and outputs of MSDD model. As an output from MSDD, sigmoid values for each speaker are generated. These sigmoid values are independent from the other speakers and indicate the simulateded probability of the corresponding speaker's speech signal at the given step. During training process, binary cross-entropy (BCE) is calculated for each individual sigmoid value and summed up to calculate the total loss for optimization."
   ]
  },
  {
   "cell_type": "markdown",
   "metadata": {},
   "source": [
    "## Example Data Creation\n",
    "\n",
    "- Please skip this section and go directly to [Prepare Training data for MSDD](#Prepare-Training-data-for-MSDD) section if you have your own speaker diarization dataset. \n",
    "\n",
    "In this tutorial, we use [NeMo Multispeaker Simulator](https://github.com/NVIDIA/NeMo/blob/main/tutorials/tools/Multispeaker_Simulator.ipynb) and the Librispeech corpus to generate a toy training dataset for demonstration purpose. You can replace the simulated dataset with your own datasets if you have proper speaker annotations (RTTM files) for the dataset. If you do not have access to any speaker diarization datasets, you can use NeMo [NeMo Multispeaker Simulator](https://github.com/NVIDIA/NeMo/blob/main/tutorials/tools/Multispeaker_Simulator.ipynb) by generating good amount of data samples to meet your need. \n",
    "\n",
    "For more details regarding data simulator, please follow the descriptions in [NeMo Multispeaker Simulator](https://github.com/NVIDIA/NeMo/blob/main/tutorials/tools/Multispeaker_Simulator.ipynb) and we will not cover configurations and detailed process of data simulation in this tutorial. \n"
   ]
  },
  {
   "cell_type": "code",
   "execution_count": 2,
   "metadata": {},
   "outputs": [
    {
     "name": "stdout",
     "output_type": "stream",
     "text": [
      "E: Could not open lock file /var/lib/dpkg/lock-frontend - open (13: Permission denied)\n",
      "E: Unable to acquire the dpkg frontend lock (/var/lib/dpkg/lock-frontend), are you root?\n",
      "Requirement already satisfied: wget in /home/taejinp/anaconda3/lib/python3.9/site-packages (3.2)\n",
      "Requirement already satisfied: unidecode in /home/taejinp/anaconda3/lib/python3.9/site-packages (1.2.0)\n",
      "Requirement already satisfied: matplotlib>=3.3.2 in /home/taejinp/anaconda3/lib/python3.9/site-packages (3.4.3)\n",
      "Requirement already satisfied: pillow>=6.2.0 in /home/taejinp/anaconda3/lib/python3.9/site-packages (from matplotlib>=3.3.2) (8.4.0)\n",
      "Requirement already satisfied: pyparsing>=2.2.1 in /home/taejinp/anaconda3/lib/python3.9/site-packages (from matplotlib>=3.3.2) (3.0.4)\n",
      "Requirement already satisfied: kiwisolver>=1.0.1 in /home/taejinp/anaconda3/lib/python3.9/site-packages (from matplotlib>=3.3.2) (1.3.1)\n",
      "Requirement already satisfied: numpy>=1.16 in /home/taejinp/anaconda3/lib/python3.9/site-packages (from matplotlib>=3.3.2) (1.21.0)\n",
      "Requirement already satisfied: cycler>=0.10 in /home/taejinp/anaconda3/lib/python3.9/site-packages (from matplotlib>=3.3.2) (0.10.0)\n",
      "Requirement already satisfied: python-dateutil>=2.7 in /home/taejinp/anaconda3/lib/python3.9/site-packages (from matplotlib>=3.3.2) (2.8.2)\n",
      "Requirement already satisfied: six in /home/taejinp/anaconda3/lib/python3.9/site-packages (from cycler>=0.10->matplotlib>=3.3.2) (1.16.0)\n"
     ]
    }
   ],
   "source": [
    "# Install dependencies for data simulator\n",
    "!apt-get install sox libsndfile1 ffmpeg\n",
    "!pip install wget\n",
    "!pip install unidecode\n",
    "!pip install \"matplotlib>=3.3.2\""
   ]
  },
  {
   "cell_type": "markdown",
   "metadata": {},
   "source": [
    "#### Data Simulation Step 1:  Download Required Resources\n",
    "\n",
    "We need to download the LibriSpeech corpus and corresponding word alignments for generating synthetic multispeaker audio sessions. In addition, we need to download necessary data clearning scripts from NeMo git."
   ]
  },
  {
   "cell_type": "code",
   "execution_count": 3,
   "metadata": {},
   "outputs": [],
   "source": [
    "import os\n",
    "\n",
    "# download scripts if not already there \n",
    "if not os.path.exists('NeMo/scripts'):\n",
    "  print(\"Downloading necessary scripts\")\n",
    "  !mkdir -p NeMo/scripts/dataset_processing\n",
    "  !mkdir -p NeMo/scripts/speaker_tasks\n",
    "  !wget -P NeMo/scripts/dataset_processing/ https://raw.githubusercontent.com/NVIDIA/NeMo/$BRANCH/scripts/dataset_processing/get_librispeech_data.py\n",
    "  !wget -P NeMo/scripts/speaker_tasks/ https://raw.githubusercontent.com/NVIDIA/NeMo/$BRANCH/scripts/speaker_tasks/create_alignment_manifest.py\n",
    "  !wget -P NeMo/scripts/speaker_tasks/ https://raw.githubusercontent.com/NVIDIA/NeMo/$BRANCH/scripts/speaker_tasks/create_msdd_train_dataset.py  \n",
    "  !wget -P NeMo/scripts/speaker_tasks/ https://raw.githubusercontent.com/NVIDIA/NeMo/$BRANCH/scripts/speaker_tasks/pathfiles_to_diarize_manifest.py\n",
    "  "
   ]
  },
  {
   "cell_type": "markdown",
   "metadata": {},
   "source": [
    "Now that we downloaded all the necessary scripts for data creation and preparation, we can start data simulation step by downloading the LibriSpeech corpus."
   ]
  },
  {
   "cell_type": "code",
   "execution_count": 4,
   "metadata": {},
   "outputs": [
    {
     "name": "stdout",
     "output_type": "stream",
     "text": [
      "100%|███████████████████████████████████████████| 97/97 [00:03<00:00, 24.53it/s]\n"
     ]
    }
   ],
   "source": [
    "!mkdir -p LibriSpeech\n",
    "!python {NEMO_DIR_PATH}/scripts/dataset_processing/get_librispeech_data.py \\\n",
    "  --data_root LibriSpeech \\\n",
    "  --data_sets dev_clean"
   ]
  },
  {
   "cell_type": "markdown",
   "metadata": {},
   "source": [
    "We can get the forced word alignments data for the LibriSpeech corpus from [this repository.](https://github.com/CorentinJ/librispeech-alignments). Full forced alignments data can be downloaded at [google drive link for alignments data](https://drive.google.com/file/d/1WYfgr31T-PPwMcxuAq09XZfHQO5Mw8fE/view?usp=sharing). We will download only a subset of forced alignment data containing dev-clean part."
   ]
  },
  {
   "cell_type": "code",
   "execution_count": 12,
   "metadata": {},
   "outputs": [
    {
     "name": "stdout",
     "output_type": "stream",
     "text": [
      "--2022-09-13 12:59:36--  https://dldata-public.s3.us-east-2.amazonaws.com/LibriSpeech_Alignments.tar.gz\n",
      "Resolving dldata-public.s3.us-east-2.amazonaws.com (dldata-public.s3.us-east-2.amazonaws.com)... 3.5.128.11\n",
      "Connecting to dldata-public.s3.us-east-2.amazonaws.com (dldata-public.s3.us-east-2.amazonaws.com)|3.5.128.11|:443... connected.\n",
      "HTTP request sent, awaiting response... 200 OK\n",
      "Length: 284061 (277K) [application/x-gzip]\n",
      "Saving to: ‘LibriSpeech_Alignments.tar.gz.1’\n",
      "\n",
      "LibriSpeech_Alignme 100%[===================>] 277.40K  1.23MB/s    in 0.2s    \n",
      "\n",
      "2022-09-13 12:59:37 (1.23 MB/s) - ‘LibriSpeech_Alignments.tar.gz.1’ saved [284061/284061]\n",
      "\n",
      "LibriSpeech_Alignments/\n",
      "LibriSpeech_Alignments/LibriSpeech/\n",
      "LibriSpeech_Alignments/LibriSpeech/dev-clean/\n",
      "LibriSpeech_Alignments/LibriSpeech/dev-clean/7850/\n",
      "LibriSpeech_Alignments/LibriSpeech/dev-clean/7850/111771/\n",
      "LibriSpeech_Alignments/LibriSpeech/dev-clean/7850/111771/7850-111771.alignment.txt\n",
      "LibriSpeech_Alignments/LibriSpeech/dev-clean/7850/286674/\n",
      "LibriSpeech_Alignments/LibriSpeech/dev-clean/7850/286674/7850-286674.alignment.txt\n",
      "LibriSpeech_Alignments/LibriSpeech/dev-clean/7850/73752/\n",
      "LibriSpeech_Alignments/LibriSpeech/dev-clean/7850/73752/7850-73752.alignment.txt\n",
      "LibriSpeech_Alignments/LibriSpeech/dev-clean/7850/281318/\n",
      "LibriSpeech_Alignments/LibriSpeech/dev-clean/7850/281318/7850-281318.alignment.txt\n",
      "LibriSpeech_Alignments/LibriSpeech/dev-clean/174/\n",
      "LibriSpeech_Alignments/LibriSpeech/dev-clean/174/168635/\n",
      "LibriSpeech_Alignments/LibriSpeech/dev-clean/174/168635/174-168635.alignment.txt\n",
      "LibriSpeech_Alignments/LibriSpeech/dev-clean/174/84280/\n",
      "LibriSpeech_Alignments/LibriSpeech/dev-clean/174/84280/174-84280.alignment.txt\n",
      "LibriSpeech_Alignments/LibriSpeech/dev-clean/174/50561/\n",
      "LibriSpeech_Alignments/LibriSpeech/dev-clean/174/50561/174-50561.alignment.txt\n",
      "LibriSpeech_Alignments/LibriSpeech/dev-clean/2277/\n",
      "LibriSpeech_Alignments/LibriSpeech/dev-clean/2277/149897/\n",
      "LibriSpeech_Alignments/LibriSpeech/dev-clean/2277/149897/2277-149897.alignment.txt\n",
      "LibriSpeech_Alignments/LibriSpeech/dev-clean/2277/149874/\n",
      "LibriSpeech_Alignments/LibriSpeech/dev-clean/2277/149874/2277-149874.alignment.txt\n",
      "LibriSpeech_Alignments/LibriSpeech/dev-clean/2277/149896/\n",
      "LibriSpeech_Alignments/LibriSpeech/dev-clean/2277/149896/2277-149896.alignment.txt\n",
      "LibriSpeech_Alignments/LibriSpeech/dev-clean/422/\n",
      "LibriSpeech_Alignments/LibriSpeech/dev-clean/422/122949/\n",
      "LibriSpeech_Alignments/LibriSpeech/dev-clean/422/122949/422-122949.alignment.txt\n",
      "LibriSpeech_Alignments/LibriSpeech/dev-clean/84/\n",
      "LibriSpeech_Alignments/LibriSpeech/dev-clean/84/121123/\n",
      "LibriSpeech_Alignments/LibriSpeech/dev-clean/84/121123/84-121123.alignment.txt\n",
      "LibriSpeech_Alignments/LibriSpeech/dev-clean/84/121550/\n",
      "LibriSpeech_Alignments/LibriSpeech/dev-clean/84/121550/84-121550.alignment.txt\n",
      "LibriSpeech_Alignments/LibriSpeech/dev-clean/1272/\n",
      "LibriSpeech_Alignments/LibriSpeech/dev-clean/1272/128104/\n",
      "LibriSpeech_Alignments/LibriSpeech/dev-clean/1272/128104/1272-128104.alignment.txt\n",
      "LibriSpeech_Alignments/LibriSpeech/dev-clean/1272/141231/\n",
      "LibriSpeech_Alignments/LibriSpeech/dev-clean/1272/141231/1272-141231.alignment.txt\n",
      "LibriSpeech_Alignments/LibriSpeech/dev-clean/1272/135031/\n",
      "LibriSpeech_Alignments/LibriSpeech/dev-clean/1272/135031/1272-135031.alignment.txt\n",
      "LibriSpeech_Alignments/LibriSpeech/dev-clean/6295/\n",
      "LibriSpeech_Alignments/LibriSpeech/dev-clean/6295/244435/\n",
      "LibriSpeech_Alignments/LibriSpeech/dev-clean/6295/244435/6295-244435.alignment.txt\n",
      "LibriSpeech_Alignments/LibriSpeech/dev-clean/6295/64301/\n",
      "LibriSpeech_Alignments/LibriSpeech/dev-clean/6295/64301/6295-64301.alignment.txt\n",
      "LibriSpeech_Alignments/LibriSpeech/dev-clean/1988/\n",
      "LibriSpeech_Alignments/LibriSpeech/dev-clean/1988/148538/\n",
      "LibriSpeech_Alignments/LibriSpeech/dev-clean/1988/148538/1988-148538.alignment.txt\n",
      "LibriSpeech_Alignments/LibriSpeech/dev-clean/1988/24833/\n",
      "LibriSpeech_Alignments/LibriSpeech/dev-clean/1988/24833/1988-24833.alignment.txt\n",
      "LibriSpeech_Alignments/LibriSpeech/dev-clean/1988/147956/\n",
      "LibriSpeech_Alignments/LibriSpeech/dev-clean/1988/147956/1988-147956.alignment.txt\n",
      "LibriSpeech_Alignments/LibriSpeech/dev-clean/777/\n",
      "LibriSpeech_Alignments/LibriSpeech/dev-clean/777/126732/\n",
      "LibriSpeech_Alignments/LibriSpeech/dev-clean/777/126732/777-126732.alignment.txt\n",
      "LibriSpeech_Alignments/LibriSpeech/dev-clean/8297/\n",
      "LibriSpeech_Alignments/LibriSpeech/dev-clean/8297/275155/\n",
      "LibriSpeech_Alignments/LibriSpeech/dev-clean/8297/275155/8297-275155.alignment.txt\n",
      "LibriSpeech_Alignments/LibriSpeech/dev-clean/8297/275156/\n",
      "LibriSpeech_Alignments/LibriSpeech/dev-clean/8297/275156/8297-275156.alignment.txt\n",
      "LibriSpeech_Alignments/LibriSpeech/dev-clean/8297/275154/\n",
      "LibriSpeech_Alignments/LibriSpeech/dev-clean/8297/275154/8297-275154.alignment.txt\n",
      "LibriSpeech_Alignments/LibriSpeech/dev-clean/2902/\n",
      "LibriSpeech_Alignments/LibriSpeech/dev-clean/2902/9008/\n",
      "LibriSpeech_Alignments/LibriSpeech/dev-clean/2902/9008/2902-9008.alignment.txt\n",
      "LibriSpeech_Alignments/LibriSpeech/dev-clean/2902/9006/\n",
      "LibriSpeech_Alignments/LibriSpeech/dev-clean/2902/9006/2902-9006.alignment.txt\n",
      "LibriSpeech_Alignments/LibriSpeech/dev-clean/3853/\n",
      "LibriSpeech_Alignments/LibriSpeech/dev-clean/3853/163249/\n",
      "LibriSpeech_Alignments/LibriSpeech/dev-clean/3853/163249/3853-163249.alignment.txt\n",
      "LibriSpeech_Alignments/LibriSpeech/dev-clean/251/\n",
      "LibriSpeech_Alignments/LibriSpeech/dev-clean/251/136532/\n",
      "LibriSpeech_Alignments/LibriSpeech/dev-clean/251/136532/251-136532.alignment.txt\n",
      "LibriSpeech_Alignments/LibriSpeech/dev-clean/251/118436/\n",
      "LibriSpeech_Alignments/LibriSpeech/dev-clean/251/118436/251-118436.alignment.txt\n",
      "LibriSpeech_Alignments/LibriSpeech/dev-clean/251/137823/\n",
      "LibriSpeech_Alignments/LibriSpeech/dev-clean/251/137823/251-137823.alignment.txt\n",
      "LibriSpeech_Alignments/LibriSpeech/dev-clean/2428/\n",
      "LibriSpeech_Alignments/LibriSpeech/dev-clean/2428/83699/\n",
      "LibriSpeech_Alignments/LibriSpeech/dev-clean/2428/83699/2428-83699.alignment.txt\n",
      "LibriSpeech_Alignments/LibriSpeech/dev-clean/2428/83705/\n",
      "LibriSpeech_Alignments/LibriSpeech/dev-clean/2428/83705/2428-83705.alignment.txt\n",
      "LibriSpeech_Alignments/LibriSpeech/dev-clean/2412/\n",
      "LibriSpeech_Alignments/LibriSpeech/dev-clean/2412/153948/\n",
      "LibriSpeech_Alignments/LibriSpeech/dev-clean/2412/153948/2412-153948.alignment.txt\n",
      "LibriSpeech_Alignments/LibriSpeech/dev-clean/2412/153947/\n",
      "LibriSpeech_Alignments/LibriSpeech/dev-clean/2412/153947/2412-153947.alignment.txt\n",
      "LibriSpeech_Alignments/LibriSpeech/dev-clean/2412/153954/\n",
      "LibriSpeech_Alignments/LibriSpeech/dev-clean/2412/153954/2412-153954.alignment.txt\n",
      "LibriSpeech_Alignments/LibriSpeech/dev-clean/5338/\n",
      "LibriSpeech_Alignments/LibriSpeech/dev-clean/5338/284437/\n",
      "LibriSpeech_Alignments/LibriSpeech/dev-clean/5338/284437/5338-284437.alignment.txt\n",
      "LibriSpeech_Alignments/LibriSpeech/dev-clean/5338/24640/\n",
      "LibriSpeech_Alignments/LibriSpeech/dev-clean/5338/24640/5338-24640.alignment.txt\n",
      "LibriSpeech_Alignments/LibriSpeech/dev-clean/5338/24615/\n",
      "LibriSpeech_Alignments/LibriSpeech/dev-clean/5338/24615/5338-24615.alignment.txt\n",
      "LibriSpeech_Alignments/LibriSpeech/dev-clean/2078/\n",
      "LibriSpeech_Alignments/LibriSpeech/dev-clean/2078/142845/\n",
      "LibriSpeech_Alignments/LibriSpeech/dev-clean/2078/142845/2078-142845.alignment.txt\n",
      "LibriSpeech_Alignments/LibriSpeech/dev-clean/3752/\n",
      "LibriSpeech_Alignments/LibriSpeech/dev-clean/3752/4943/\n",
      "LibriSpeech_Alignments/LibriSpeech/dev-clean/3752/4943/3752-4943.alignment.txt\n",
      "LibriSpeech_Alignments/LibriSpeech/dev-clean/3752/4944/\n",
      "LibriSpeech_Alignments/LibriSpeech/dev-clean/3752/4944/3752-4944.alignment.txt\n",
      "LibriSpeech_Alignments/LibriSpeech/dev-clean/1919/\n",
      "LibriSpeech_Alignments/LibriSpeech/dev-clean/1919/142785/\n",
      "LibriSpeech_Alignments/LibriSpeech/dev-clean/1919/142785/1919-142785.alignment.txt\n",
      "LibriSpeech_Alignments/LibriSpeech/dev-clean/2035/\n",
      "LibriSpeech_Alignments/LibriSpeech/dev-clean/2035/152373/\n",
      "LibriSpeech_Alignments/LibriSpeech/dev-clean/2035/152373/2035-152373.alignment.txt\n",
      "LibriSpeech_Alignments/LibriSpeech/dev-clean/2035/147961/\n",
      "LibriSpeech_Alignments/LibriSpeech/dev-clean/2035/147961/2035-147961.alignment.txt\n",
      "LibriSpeech_Alignments/LibriSpeech/dev-clean/2035/147960/\n",
      "LibriSpeech_Alignments/LibriSpeech/dev-clean/2035/147960/2035-147960.alignment.txt\n",
      "LibriSpeech_Alignments/LibriSpeech/dev-clean/6345/\n",
      "LibriSpeech_Alignments/LibriSpeech/dev-clean/6345/64257/\n",
      "LibriSpeech_Alignments/LibriSpeech/dev-clean/6345/64257/6345-64257.alignment.txt\n",
      "LibriSpeech_Alignments/LibriSpeech/dev-clean/6345/93306/\n",
      "LibriSpeech_Alignments/LibriSpeech/dev-clean/6345/93306/6345-93306.alignment.txt\n",
      "LibriSpeech_Alignments/LibriSpeech/dev-clean/6345/93302/\n",
      "LibriSpeech_Alignments/LibriSpeech/dev-clean/6345/93302/6345-93302.alignment.txt\n",
      "LibriSpeech_Alignments/LibriSpeech/dev-clean/6241/\n",
      "LibriSpeech_Alignments/LibriSpeech/dev-clean/6241/66616/\n",
      "LibriSpeech_Alignments/LibriSpeech/dev-clean/6241/66616/6241-66616.alignment.txt\n",
      "LibriSpeech_Alignments/LibriSpeech/dev-clean/6241/61946/\n",
      "LibriSpeech_Alignments/LibriSpeech/dev-clean/6241/61946/6241-61946.alignment.txt\n",
      "LibriSpeech_Alignments/LibriSpeech/dev-clean/6241/61943/\n",
      "LibriSpeech_Alignments/LibriSpeech/dev-clean/6241/61943/6241-61943.alignment.txt\n",
      "LibriSpeech_Alignments/LibriSpeech/dev-clean/2803/\n",
      "LibriSpeech_Alignments/LibriSpeech/dev-clean/2803/161169/\n",
      "LibriSpeech_Alignments/LibriSpeech/dev-clean/2803/161169/2803-161169.alignment.txt\n",
      "LibriSpeech_Alignments/LibriSpeech/dev-clean/2803/154320/\n",
      "LibriSpeech_Alignments/LibriSpeech/dev-clean/2803/154320/2803-154320.alignment.txt\n",
      "LibriSpeech_Alignments/LibriSpeech/dev-clean/2803/154328/\n",
      "LibriSpeech_Alignments/LibriSpeech/dev-clean/2803/154328/2803-154328.alignment.txt\n",
      "LibriSpeech_Alignments/LibriSpeech/dev-clean/1673/\n",
      "LibriSpeech_Alignments/LibriSpeech/dev-clean/1673/143396/\n",
      "LibriSpeech_Alignments/LibriSpeech/dev-clean/1673/143396/1673-143396.alignment.txt\n",
      "LibriSpeech_Alignments/LibriSpeech/dev-clean/1673/143397/\n",
      "LibriSpeech_Alignments/LibriSpeech/dev-clean/1673/143397/1673-143397.alignment.txt\n",
      "LibriSpeech_Alignments/LibriSpeech/dev-clean/5536/\n",
      "LibriSpeech_Alignments/LibriSpeech/dev-clean/5536/43363/\n",
      "LibriSpeech_Alignments/LibriSpeech/dev-clean/5536/43363/5536-43363.alignment.txt\n",
      "LibriSpeech_Alignments/LibriSpeech/dev-clean/5536/43359/\n",
      "LibriSpeech_Alignments/LibriSpeech/dev-clean/5536/43359/5536-43359.alignment.txt\n",
      "LibriSpeech_Alignments/LibriSpeech/dev-clean/5536/43358/\n",
      "LibriSpeech_Alignments/LibriSpeech/dev-clean/5536/43358/5536-43358.alignment.txt\n",
      "LibriSpeech_Alignments/LibriSpeech/dev-clean/3081/\n",
      "LibriSpeech_Alignments/LibriSpeech/dev-clean/3081/166546/\n",
      "LibriSpeech_Alignments/LibriSpeech/dev-clean/3081/166546/3081-166546.alignment.txt\n",
      "LibriSpeech_Alignments/LibriSpeech/dev-clean/5694/\n",
      "LibriSpeech_Alignments/LibriSpeech/dev-clean/5694/64038/\n",
      "LibriSpeech_Alignments/LibriSpeech/dev-clean/5694/64038/5694-64038.alignment.txt\n",
      "LibriSpeech_Alignments/LibriSpeech/dev-clean/5694/64025/\n",
      "LibriSpeech_Alignments/LibriSpeech/dev-clean/5694/64025/5694-64025.alignment.txt\n",
      "LibriSpeech_Alignments/LibriSpeech/dev-clean/5694/64029/\n",
      "LibriSpeech_Alignments/LibriSpeech/dev-clean/5694/64029/5694-64029.alignment.txt\n",
      "LibriSpeech_Alignments/LibriSpeech/dev-clean/3170/\n",
      "LibriSpeech_Alignments/LibriSpeech/dev-clean/3170/137482/\n",
      "LibriSpeech_Alignments/LibriSpeech/dev-clean/3170/137482/3170-137482.alignment.txt\n",
      "LibriSpeech_Alignments/LibriSpeech/dev-clean/6319/\n",
      "LibriSpeech_Alignments/LibriSpeech/dev-clean/6319/64726/\n",
      "LibriSpeech_Alignments/LibriSpeech/dev-clean/6319/64726/6319-64726.alignment.txt\n",
      "LibriSpeech_Alignments/LibriSpeech/dev-clean/6319/275224/\n",
      "LibriSpeech_Alignments/LibriSpeech/dev-clean/6319/275224/6319-275224.alignment.txt\n",
      "LibriSpeech_Alignments/LibriSpeech/dev-clean/6319/57405/\n",
      "LibriSpeech_Alignments/LibriSpeech/dev-clean/6319/57405/6319-57405.alignment.txt\n",
      "LibriSpeech_Alignments/LibriSpeech/dev-clean/7976/\n",
      "LibriSpeech_Alignments/LibriSpeech/dev-clean/7976/110124/\n",
      "LibriSpeech_Alignments/LibriSpeech/dev-clean/7976/110124/7976-110124.alignment.txt\n",
      "LibriSpeech_Alignments/LibriSpeech/dev-clean/7976/110523/\n",
      "LibriSpeech_Alignments/LibriSpeech/dev-clean/7976/110523/7976-110523.alignment.txt\n",
      "LibriSpeech_Alignments/LibriSpeech/dev-clean/7976/105575/\n",
      "LibriSpeech_Alignments/LibriSpeech/dev-clean/7976/105575/7976-105575.alignment.txt\n",
      "LibriSpeech_Alignments/LibriSpeech/dev-clean/8842/\n",
      "LibriSpeech_Alignments/LibriSpeech/dev-clean/8842/304647/\n",
      "LibriSpeech_Alignments/LibriSpeech/dev-clean/8842/304647/8842-304647.alignment.txt\n",
      "LibriSpeech_Alignments/LibriSpeech/dev-clean/8842/302196/\n",
      "LibriSpeech_Alignments/LibriSpeech/dev-clean/8842/302196/8842-302196.alignment.txt\n",
      "LibriSpeech_Alignments/LibriSpeech/dev-clean/8842/302203/\n",
      "LibriSpeech_Alignments/LibriSpeech/dev-clean/8842/302203/8842-302203.alignment.txt\n",
      "LibriSpeech_Alignments/LibriSpeech/dev-clean/8842/302201/\n",
      "LibriSpeech_Alignments/LibriSpeech/dev-clean/8842/302201/8842-302201.alignment.txt\n",
      "LibriSpeech_Alignments/LibriSpeech/dev-clean/3536/\n",
      "LibriSpeech_Alignments/LibriSpeech/dev-clean/3536/8226/\n",
      "LibriSpeech_Alignments/LibriSpeech/dev-clean/3536/8226/3536-8226.alignment.txt\n",
      "LibriSpeech_Alignments/LibriSpeech/dev-clean/3536/23268/\n",
      "LibriSpeech_Alignments/LibriSpeech/dev-clean/3536/23268/3536-23268.alignment.txt\n",
      "LibriSpeech_Alignments/LibriSpeech/dev-clean/1993/\n",
      "LibriSpeech_Alignments/LibriSpeech/dev-clean/1993/147966/\n",
      "LibriSpeech_Alignments/LibriSpeech/dev-clean/1993/147966/1993-147966.alignment.txt\n",
      "LibriSpeech_Alignments/LibriSpeech/dev-clean/1993/147964/\n",
      "LibriSpeech_Alignments/LibriSpeech/dev-clean/1993/147964/1993-147964.alignment.txt\n",
      "LibriSpeech_Alignments/LibriSpeech/dev-clean/1993/147965/\n",
      "LibriSpeech_Alignments/LibriSpeech/dev-clean/1993/147965/1993-147965.alignment.txt\n",
      "LibriSpeech_Alignments/LibriSpeech/dev-clean/1993/147149/\n",
      "LibriSpeech_Alignments/LibriSpeech/dev-clean/1993/147149/1993-147149.alignment.txt\n",
      "LibriSpeech_Alignments/LibriSpeech/dev-clean/6313/\n",
      "LibriSpeech_Alignments/LibriSpeech/dev-clean/6313/76958/\n",
      "LibriSpeech_Alignments/LibriSpeech/dev-clean/6313/76958/6313-76958.alignment.txt\n",
      "LibriSpeech_Alignments/LibriSpeech/dev-clean/6313/66125/\n",
      "LibriSpeech_Alignments/LibriSpeech/dev-clean/6313/66125/6313-66125.alignment.txt\n",
      "LibriSpeech_Alignments/LibriSpeech/dev-clean/6313/66129/\n",
      "LibriSpeech_Alignments/LibriSpeech/dev-clean/6313/66129/6313-66129.alignment.txt\n",
      "LibriSpeech_Alignments/LibriSpeech/dev-clean/1462/\n",
      "LibriSpeech_Alignments/LibriSpeech/dev-clean/1462/170145/\n",
      "LibriSpeech_Alignments/LibriSpeech/dev-clean/1462/170145/1462-170145.alignment.txt\n",
      "LibriSpeech_Alignments/LibriSpeech/dev-clean/1462/170138/\n",
      "LibriSpeech_Alignments/LibriSpeech/dev-clean/1462/170138/1462-170138.alignment.txt\n",
      "LibriSpeech_Alignments/LibriSpeech/dev-clean/1462/170142/\n",
      "LibriSpeech_Alignments/LibriSpeech/dev-clean/1462/170142/1462-170142.alignment.txt\n",
      "LibriSpeech_Alignments/LibriSpeech/dev-clean/652/\n",
      "LibriSpeech_Alignments/LibriSpeech/dev-clean/652/129742/\n",
      "LibriSpeech_Alignments/LibriSpeech/dev-clean/652/129742/652-129742.alignment.txt\n",
      "LibriSpeech_Alignments/LibriSpeech/dev-clean/652/130737/\n",
      "LibriSpeech_Alignments/LibriSpeech/dev-clean/652/130737/652-130737.alignment.txt\n",
      "LibriSpeech_Alignments/LibriSpeech/dev-clean/652/130726/\n",
      "LibriSpeech_Alignments/LibriSpeech/dev-clean/652/130726/652-130726.alignment.txt\n",
      "LibriSpeech_Alignments/LibriSpeech/dev-clean/2086/\n",
      "LibriSpeech_Alignments/LibriSpeech/dev-clean/2086/149214/\n",
      "LibriSpeech_Alignments/LibriSpeech/dev-clean/2086/149214/2086-149214.alignment.txt\n",
      "LibriSpeech_Alignments/LibriSpeech/dev-clean/2086/149220/\n",
      "LibriSpeech_Alignments/LibriSpeech/dev-clean/2086/149220/2086-149220.alignment.txt\n",
      "LibriSpeech_Alignments/LibriSpeech/dev-clean/5895/\n",
      "LibriSpeech_Alignments/LibriSpeech/dev-clean/5895/34615/\n",
      "LibriSpeech_Alignments/LibriSpeech/dev-clean/5895/34615/5895-34615.alignment.txt\n",
      "LibriSpeech_Alignments/LibriSpeech/dev-clean/5895/34622/\n",
      "LibriSpeech_Alignments/LibriSpeech/dev-clean/5895/34622/5895-34622.alignment.txt\n",
      "LibriSpeech_Alignments/LibriSpeech/dev-clean/5895/34629/\n",
      "LibriSpeech_Alignments/LibriSpeech/dev-clean/5895/34629/5895-34629.alignment.txt\n",
      "LibriSpeech_Alignments/LibriSpeech/dev-clean/3000/\n",
      "LibriSpeech_Alignments/LibriSpeech/dev-clean/3000/15664/\n",
      "LibriSpeech_Alignments/LibriSpeech/dev-clean/3000/15664/3000-15664.alignment.txt\n",
      "LibriSpeech_Alignments/LibriSpeech/dev-clean/3576/\n",
      "LibriSpeech_Alignments/LibriSpeech/dev-clean/3576/138058/\n",
      "LibriSpeech_Alignments/LibriSpeech/dev-clean/3576/138058/3576-138058.alignment.txt\n",
      "LibriSpeech_Alignments/unaligned.txt\n"
     ]
    },
    {
     "name": "stdout",
     "output_type": "stream",
     "text": [
      "mv: cannot stat './librispeech-alignments/LibriSpeech_Alignments': No such file or directory\r\n"
     ]
    }
   ],
   "source": [
    "!wget https://dldata-public.s3.us-east-2.amazonaws.com/LibriSpeech_Alignments.tar.gz\n",
    "!tar -xvzf LibriSpeech_Alignments.tar.gz\n",
    "!mv ./librispeech-alignments/LibriSpeech_Alignments ./LibriSpeech_Alignments"
   ]
  },
  {
   "cell_type": "markdown",
   "metadata": {},
   "source": [
    "#### Data Simulation Step 2:  Produce Manifest File with Forced Alignments\n",
    "\n",
    "We will merge the LibriSpeech manifest files and LibriSpeech forced alignments into one manifest file for ease of use when generating synthetic data. Create alignment files by running the following script.\n",
    "\n"
   ]
  },
  {
   "cell_type": "code",
   "execution_count": 11,
   "metadata": {},
   "outputs": [
    {
     "name": "stdout",
     "output_type": "stream",
     "text": [
      "/home/taejinp/anaconda3/lib/python3.9/site-packages/pkg_resources/__init__.py:123: PkgResourcesDeprecationWarning: 4.0.0-unsupported is an invalid version and will not be supported in a future release\n",
      "  warnings.warn(\n",
      "/home/taejinp/anaconda3/lib/python3.9/site-packages/pkg_resources/__init__.py:123: PkgResourcesDeprecationWarning: 4.0.0-unsupported is an invalid version and will not be supported in a future release\n",
      "  warnings.warn(\n",
      "[NeMo W 2022-09-13 12:58:04 optimizers:55] Apex was not found. Using the lamb or fused_adam optimizer will error out.\n",
      "[NeMo W 2022-09-13 12:58:15 nemo_logging:349] /home/taejinp/anaconda3/lib/python3.9/site-packages/pydub/utils.py:170: RuntimeWarning: Couldn't find ffmpeg or avconv - defaulting to ffmpeg, but may not work\n",
      "      warn(\"Couldn't find ffmpeg or avconv - defaulting to ffmpeg, but may not work\", RuntimeWarning)\n",
      "    \n",
      "[NeMo I 2022-09-13 12:58:16 create_alignment_manifest:206] Writing output manifest file to ./dev-clean-align.json\n",
      "\u001b[0m"
     ]
    }
   ],
   "source": [
    "!python NeMo/scripts/speaker_tasks/create_alignment_manifest.py \\\n",
    "  --input_manifest_filepath LibriSpeech/dev_clean.json \\\n",
    "  --base_alignment_path LibriSpeech_Alignments \\\n",
    "  --output_manifest_filepath ./dev-clean-align.json \\\n",
    "  --ctm_directory ./ctm_out \\\n",
    "  --dataset dev-clean"
   ]
  },
  {
   "cell_type": "markdown",
   "metadata": {},
   "source": [
    "#### Data Simulation Step 3:  Set data simulation parameters"
   ]
  },
  {
   "cell_type": "markdown",
   "metadata": {},
   "source": [
    "Now that we downloaded all the sources we need for data creation, we need to download data simulator configurations in `.yaml` format. Download the YAML file and download `data_simulator.py` script from NeMo repository."
   ]
  },
  {
   "cell_type": "code",
   "execution_count": null,
   "metadata": {},
   "outputs": [],
   "source": [
    "from omegaconf import OmegaConf\n",
    "ROOT = os.getcwd()\n",
    "conf_dir = os.path.join(ROOT,'conf')\n",
    "!mkdir -p $conf_dir\n",
    "CONFIG_PATH = os.path.join(conf_dir, 'data_simulator.yaml')\n",
    "if not os.path.exists(CONFIG_PATH):\n",
    "  !wget -P $conf_dir https://raw.githubusercontent.com/NVIDIA/NeMo/$BRANCH/tools/speech_data_simulator/conf/data_simulator.yaml\n",
    "\n",
    "config = OmegaConf.load(CONFIG_PATH)\n",
    "print(OmegaConf.to_yaml(config))"
   ]
  },
  {
   "cell_type": "markdown",
   "metadata": {},
   "source": [
    "#### Data Simulation Step 4:   Generate Simulated Audio Session\n",
    "\n",
    "We will generate a set of example sessions with the following specifications:\n",
    "\n",
    "- 3 example sessions for train  \n",
    "- 3 example sessions for validation\n",
    "- 2-speakers in each session\n",
    "- 60 seconds of recordings\n",
    "\n",
    "We need to setup different seed for train and validation sets."
   ]
  },
  {
   "cell_type": "code",
   "execution_count": null,
   "metadata": {},
   "outputs": [],
   "source": [
    "from nemo.collections.asr.data.data_simulation import MultiSpeakerSimulator\n",
    "\n",
    "# Generate train set \n",
    "ROOT = os.getcwd()\n",
    "data_dir = os.path.join(ROOT,'simulated_train')\n",
    "config.data_simulator.random_seed=10\n",
    "config.data_simulator.manifest_filepath=\"./dev-clean-align.json\"\n",
    "config.data_simulator.outputs.output_dir=data_dir\n",
    "config.data_simulator.session_config.num_sessions=3\n",
    "config.data_simulator.session_config.num_speakers=2\n",
    "config.data_simulator.session_config.session_length=60\n",
    "config.data_simulator.background_noise.add_bg=False \n",
    "\n",
    "lg = MultiSpeakerSimulator(cfg=config)\n",
    "lg.generate_sessions()\n",
    "\n",
    "# Generate validation set \n",
    "data_dir = os.path.join(ROOT,'simulated_valid')\n",
    "config.data_simulator.random_seed=20\n",
    "config.data_simulator.outputs.output_dir=data_dir\n",
    "\n",
    "lg = MultiSpeakerSimulator(cfg=config)\n",
    "lg.generate_sessions()"
   ]
  },
  {
   "cell_type": "markdown",
   "metadata": {},
   "source": [
    "Now that parameter setting is done, generate the samples by launching `generate_sessions()`."
   ]
  },
  {
   "cell_type": "code",
   "execution_count": null,
   "metadata": {},
   "outputs": [],
   "source": [
    "lg = MultiSpeakerSimulator(cfg=config)\n",
    "lg.generate_sessions()"
   ]
  },
  {
   "cell_type": "markdown",
   "metadata": {},
   "source": [
    "### Data preparation step 5: Listen to and Visualize Session\n",
    "\n",
    "Listen to the audio and visualize the corresponding speaker timestamps (recorded in a RTTM file for each session)."
   ]
  },
  {
   "cell_type": "code",
   "execution_count": null,
   "metadata": {
    "scrolled": true
   },
   "outputs": [],
   "source": [
    "import os\n",
    "import wget\n",
    "import IPython\n",
    "import matplotlib.pyplot as plt\n",
    "import numpy as np\n",
    "import librosa\n",
    "from nemo.collections.asr.parts.utils.speaker_utils import rttm_to_labels, labels_to_pyannote_object\n",
    "\n",
    "ROOT = os.getcwd()\n",
    "data_dir = os.path.join(ROOT,'simulated_train')\n",
    "audio = os.path.join(data_dir,'multispeaker_session_0.wav')\n",
    "rttm = os.path.join(data_dir,'multispeaker_session_0.rttm')\n",
    "\n",
    "sr = 16000\n",
    "signal, sr = librosa.load(audio,sr=sr) \n",
    "\n",
    "fig,ax = plt.subplots(1,1)\n",
    "fig.set_figwidth(20)\n",
    "fig.set_figheight(2)\n",
    "plt.plot(np.arange(len(signal)),signal,'gray')\n",
    "fig.suptitle('Synthetic Audio Session', fontsize=16)\n",
    "plt.xlabel('Time (s)', fontsize=18)\n",
    "plt.yticks([], [])\n",
    "ax.margins(x=0)\n",
    "a,_ = plt.xticks()\n",
    "plt.xticks(a[:-1],a[:-1]/sr);\n",
    "IPython.display.Audio(audio)"
   ]
  },
  {
   "cell_type": "markdown",
   "metadata": {},
   "source": [
    "We can visually check the ground-truth file of the first sample by running the following commands. We can see that it has plenty of overlaps between two speakers. "
   ]
  },
  {
   "cell_type": "code",
   "execution_count": null,
   "metadata": {},
   "outputs": [],
   "source": [
    "# display speaker labels for reference\n",
    "labels = rttm_to_labels(rttm)\n",
    "reference = labels_to_pyannote_object(labels)\n",
    "reference"
   ]
  },
  {
   "cell_type": "markdown",
   "metadata": {},
   "source": [
    "You can check that corresponding RTTM files are generated as ground-truth labels for training and evaluation."
   ]
  },
  {
   "cell_type": "code",
   "execution_count": null,
   "metadata": {},
   "outputs": [],
   "source": [
    "!cat simulated_train/multispeaker_session_0.rttm | head -10"
   ]
  },
  {
   "cell_type": "markdown",
   "metadata": {},
   "source": [
    "### Data preparation step 6: Check out the created files\n",
    "\n",
    "The following files are generated from data simulator:\n",
    "\n",
    "* _wav files_ (one per audio session) - the output audio sessions\n",
    "* _rttm files_ (one per audio session) - the speaker timestamps for the corresponding audio session (used for diarization training)\n",
    "* _list files_ (one per file type per batch of sessions) - a list of generated files of the given type (e.g., wav, rttm), used primarily for manifest creation\n",
    "\n",
    "Check if the files we need are generated by running the following commands."
   ]
  },
  {
   "cell_type": "code",
   "execution_count": null,
   "metadata": {},
   "outputs": [],
   "source": [
    "print(\"\\n Training audio files:\")\n",
    "!ls simulated_train/*.wav\n",
    "print(\"\\n Training audio files:\")\n",
    "!ls simulated_train/*.rttm\n",
    "print(\"\\n Training RTTM list content:\")\n",
    "!cat simulated_train/synthetic_wav.list\n",
    "print(\"\\n Training RTTM list content:\")\n",
    "!cat simulated_train/synthetic_rttm.list\n",
    "\n",
    "print(\"\\n Validation audio files:\")\n",
    "!ls simulated_valid/*.wav\n",
    "print(\"\\n Validation audio files:\")\n",
    "!ls simulated_valid/*.rttm\n",
    "print(\"\\n Validation RTTM list content:\")\n",
    "!cat simulated_valid/synthetic_wav.list\n",
    "print(\"\\n Validation RTTM list content:\")\n",
    "!cat simulated_valid/synthetic_rttm.list"
   ]
  },
  {
   "cell_type": "markdown",
   "metadata": {},
   "source": [
    "## Prepare Training Data for MSDD"
   ]
  },
  {
   "cell_type": "markdown",
   "metadata": {},
   "source": [
    "Now that we have datasets for both train and validation (dev), we can start preparing and cleaning the data samples for training. Make sure you have the following list of files:\n",
    "\n",
    "**Training set** \n",
    "\n",
    "- Train audio files `.wav`\n",
    "- A train audio list file `.list`\n",
    "- Train RTTM files `.rttm`\n",
    "- A train RTTM list content `.list`\n",
    "\n",
    "**Validation set**  \n",
    "\n",
    "- Validation audio files `.wav`\n",
    "- A validation audio list file `.list`\n",
    "- Validation RTTM files `.rttm`\n",
    "- A validation RTTM list file `.list`\n",
    "\n",
    "\n",
    "Based on these files, we need to create manifest files containing data samples we have. If you don't have `.list` file, you need to create `.list` file for the `.wav` files and `.rttm` files."
   ]
  },
  {
   "cell_type": "code",
   "execution_count": null,
   "metadata": {},
   "outputs": [],
   "source": [
    "# create a NeMo manifest (.json) file for training dataset\n",
    "!python NeMo/scripts/speaker_tasks/pathfiles_to_diarize_manifest.py \\\n",
    "  --paths2audio_files='simulated_train/synthetic_wav.list' \\\n",
    "  --paths2rttm_files='simulated_train/synthetic_rttm.list' \\\n",
    "  --manifest_filepath='simulated_train/msdd_data.json'\n",
    "\n",
    "# create a NeMo manifest (.json) file for validation (dev) dataset\n",
    "!python NeMo/scripts/speaker_tasks/pathfiles_to_diarize_manifest.py \\\n",
    "  --paths2audio_files='simulated_valid/synthetic_wav.list' \\\n",
    "  --paths2rttm_files='simulated_valid/synthetic_rttm.list' \\\n",
    "  --manifest_filepath='simulated_valid/msdd_data.json'"
   ]
  },
  {
   "cell_type": "markdown",
   "metadata": {},
   "source": [
    "If you print the content of the created manifest file, you can see that `.rttm` files in the list and `.wav` files are grouped together in the generated manifest files."
   ]
  },
  {
   "cell_type": "code",
   "execution_count": null,
   "metadata": {},
   "outputs": [],
   "source": [
    "print(\"\\n An example line in training dataset manifest file:\")\n",
    "!cat simulated_train/msdd_data.json | head -1\n",
    "print(\"\\n An example line in validation Dataset manifest file:\")\n",
    "!cat simulated_valid/msdd_data.json | head -1"
   ]
  },
  {
   "cell_type": "markdown",
   "metadata": {},
   "source": [
    "Now that we have input a standard manifest file, we need to breakdown each audioclip into short audioclips so that we can put several samples in a batch. \n",
    "\n",
    "Before we generate a manifest file and RTTM files for training MSDD, you have to determine:\n",
    "\n",
    "- `window`: the windowl length of the base scale (the shortest scale)\n",
    "- `shift`: the hop-length of the base scale (the shortest scale)\n",
    "- `step_count`: how many decision steps in one data sample\n",
    "\n",
    "Note that these numbers should match the parameters in the configurations for your desired MSDD model. If you want to train with new parameters (`window`, `shift` and `step_count`), you need to make new manifest files with the new parameters."
   ]
  },
  {
   "cell_type": "code",
   "execution_count": null,
   "metadata": {},
   "outputs": [],
   "source": [
    "# create a manifest (.json) file for training dataset\n",
    "!python NeMo/scripts/speaker_tasks/create_msdd_train_dataset.py \\\n",
    "  --input_manifest_path='simulated_train/msdd_data.json' \\\n",
    "  --output_manifest_path='simulated_train/msdd_data.50step.json' \\\n",
    "  --pairwise_rttm_output_folder='simulated_train/' \\\n",
    "  --window 0.5 \\\n",
    "  --shift 0.25 \\\n",
    "  --step_count 50 \n",
    "  \n",
    "# create a manifest (.json) file for validation (dev) dataset\n",
    "!python NeMo/scripts/speaker_tasks/create_msdd_train_dataset.py \\\n",
    "  --input_manifest_path='simulated_valid/msdd_data.json' \\\n",
    "  --output_manifest_path='simulated_valid/msdd_data.50step.json' \\\n",
    "  --pairwise_rttm_output_folder='simulated_valid/' \\\n",
    "  --window 0.5 \\\n",
    "  --shift 0.25 \\\n",
    "  --step_count 50 "
   ]
  },
  {
   "cell_type": "markdown",
   "metadata": {},
   "source": [
    "Now that we broke down the training and validation dataset into 50-step samples, let's checkout how the output manifest files look like. We used 0.25 second of shift length so in theory, if there is no silence or pause in the data, the length of data sample should be `step_count*shift` which is `50*0.25=12.5` second in the example we used. However, since there are pauses between the segments in practice, the final lengths of data samples are longer than 12.5 second."
   ]
  },
  {
   "cell_type": "code",
   "execution_count": null,
   "metadata": {},
   "outputs": [],
   "source": [
    "print(\"\\nTraining Dataset:\")\n",
    "!cat simulated_train/msdd_data.50step.json | tail -5\n",
    "print(\"\\nValidation Dataset:\")\n",
    "!cat simulated_valid/msdd_data.50step.json | tail -5 "
   ]
  },
  {
   "cell_type": "markdown",
   "metadata": {},
   "source": [
    "## Train an MSDD Model"
   ]
  },
  {
   "cell_type": "markdown",
   "metadata": {},
   "source": [
    "Now that we have prepared all the necessary dataset, we can train an MSDD model on the prepared dataset. Download YAML file for training form NeMo repository and load the configuration into `config` variable."
   ]
  },
  {
   "cell_type": "code",
   "execution_count": null,
   "metadata": {},
   "outputs": [],
   "source": [
    "import nemo\n",
    "import nemo.collections.asr as nemo_asr\n",
    "from omegaconf import OmegaConf\n",
    "\n",
    "NEMO_ROOT = os.getcwd()\n",
    "!mkdir conf \n",
    "!wget -P conf https://raw.githubusercontent.com/NVIDIA/NeMo/$BRANCH/examples/speaker_tasks/diarization/conf/neural_diarizer/msdd_5scl_15_05_50Povl_256x3x32x2.yaml\n",
    "MODEL_CONFIG = os.path.join(NEMO_ROOT,'conf/msdd_5scl_15_05_50Povl_256x3x32x2.yaml')\n",
    "config = OmegaConf.load(MODEL_CONFIG)\n",
    "print(OmegaConf.to_yaml(config))"
   ]
  },
  {
   "cell_type": "markdown",
   "metadata": {},
   "source": [
    "Setup the `manifest_filepath` for `train_ds` and `validation_ds` by feeding the `json` file paths from `create_msdd_train_dataset.py`."
   ]
  },
  {
   "cell_type": "code",
   "execution_count": null,
   "metadata": {},
   "outputs": [],
   "source": [
    "config.model.train_ds.manifest_filepath = 'simulated_train/msdd_data.50step.json'\n",
    "config.model.validation_ds.manifest_filepath = 'simulated_valid/msdd_data.50step.json'"
   ]
  },
  {
   "cell_type": "markdown",
   "metadata": {},
   "source": [
    "### Train MSDD with frozen speaker embeding model"
   ]
  },
  {
   "cell_type": "markdown",
   "metadata": {},
   "source": [
    "Provide a batch size number for training in `config.model.batch_size`. In a batch, we will assign the given number of split samples (in this example, 50 step-size). Note that you might need to change this batchsize if the following batchsize maxes out your GPU memory size. \n",
    "\n",
    "`config.model.emb_batch_size` determines the number of embedding vectors attached to a computational graph. This means that \n",
    "If you want to freeze the speaker embedding extractor, you should set `emb_batch_size=0`.\n",
    "If you want to jointly optimize speaker embedding extractor, you need to assign an adequate number that does not max out the GPU memory. "
   ]
  },
  {
   "cell_type": "code",
   "execution_count": null,
   "metadata": {},
   "outputs": [],
   "source": [
    "config.batch_size=5\n",
    "config.model.emb_batch_size=0"
   ]
  },
  {
   "cell_type": "markdown",
   "metadata": {},
   "source": [
    "Provide paths to the temporary folders for saving timestamp data during training."
   ]
  },
  {
   "cell_type": "code",
   "execution_count": null,
   "metadata": {},
   "outputs": [],
   "source": [
    "config.model.train_ds.emb_dir=\"simulated_train\" \n",
    "config.model.validation_ds.emb_dir=\"simulated_valid\" "
   ]
  },
  {
   "cell_type": "markdown",
   "metadata": {},
   "source": [
    "Setup a speaker embedding model that will be used for speaker embedding extraction. We will use `titanet_large` model checkpoint from NGC. Note that this speaker embedding model will be saved together in a `.ckpt` file whenever pytorch lightning trainer saves checkpoint. "
   ]
  },
  {
   "cell_type": "code",
   "execution_count": null,
   "metadata": {},
   "outputs": [],
   "source": [
    "config.model.diarizer.speaker_embeddings.model_path=\"titanet_large\"\n",
    "config.trainer.max_epochs = 5\n",
    "config.trainer.strategy = None"
   ]
  },
  {
   "cell_type": "markdown",
   "metadata": {},
   "source": [
    "We will use `pytorch_lightning` and train a model instance from class `EncDecDiarLabelModel`."
   ]
  },
  {
   "cell_type": "code",
   "execution_count": null,
   "metadata": {},
   "outputs": [],
   "source": [
    "import pytorch_lightning as pl\n",
    "from nemo.collections.asr.models import EncDecDiarLabelModel\n",
    "from nemo.utils.exp_manager import exp_manager\n",
    "\n",
    "trainer = pl.Trainer(**config.trainer)\n",
    "exp_manager(trainer, config.get(\"exp_manager\", None))\n",
    "msdd_model = EncDecDiarLabelModel(cfg=config.model, trainer=trainer)"
   ]
  },
  {
   "cell_type": "markdown",
   "metadata": {},
   "source": [
    "Before we start training, let's check few of the weights in speaker embedding model in `msdd_model.msdd._speaker_model`."
   ]
  },
  {
   "cell_type": "code",
   "execution_count": null,
   "metadata": {},
   "outputs": [],
   "source": [
    "msdd_model.msdd._speaker_model.state_dict()[\"encoder.encoder.0.mconv.0.conv.weight\"][0,:,:]"
   ]
  },
  {
   "cell_type": "markdown",
   "metadata": {},
   "source": [
    "If you successfully ran the previous step, now it is ready to initiate a training session of MSDD. Launch `trainer.fit()` function for `msdd_model`. "
   ]
  },
  {
   "cell_type": "code",
   "execution_count": null,
   "metadata": {},
   "outputs": [],
   "source": [
    "trainer.fit(msdd_model)"
   ]
  },
  {
   "cell_type": "markdown",
   "metadata": {},
   "source": [
    "In this way, you can train an MSDD model and use `.ckpt` files saved during training process."
   ]
  },
  {
   "cell_type": "markdown",
   "metadata": {},
   "source": [
    "Let's check the weights in speaker embedding model again and see if the numbers are changed."
   ]
  },
  {
   "cell_type": "code",
   "execution_count": null,
   "metadata": {},
   "outputs": [],
   "source": [
    "msdd_model.msdd._speaker_model.state_dict()[\"encoder.encoder.0.mconv.0.conv.weight\"][0,:,:]"
   ]
  },
  {
   "cell_type": "markdown",
   "metadata": {},
   "source": [
    "### Train MSDD and speaker embeding model together"
   ]
  },
  {
   "cell_type": "markdown",
   "metadata": {},
   "source": [
    "In this time, let's attach a few speaker embeddings to a graph and jointly train the speaker embedding mode."
   ]
  },
  {
   "cell_type": "code",
   "execution_count": null,
   "metadata": {},
   "outputs": [],
   "source": [
    "config.model.emb_batch_size = 100 # choose the largest number that does not max out GPU memory.\n",
    "config.trainer.max_epochs = 5"
   ]
  },
  {
   "cell_type": "markdown",
   "metadata": {},
   "source": [
    "Setup another trainer and initiate a training session with the new parameters."
   ]
  },
  {
   "cell_type": "code",
   "execution_count": null,
   "metadata": {},
   "outputs": [],
   "source": [
    "trainer = pl.Trainer(**config.trainer)\n",
    "exp_manager(trainer, config.get(\"exp_manager\", None))\n",
    "msdd_model = EncDecDiarLabelModel(cfg=config.model, trainer=trainer)\n",
    "trainer.fit(msdd_model)"
   ]
  },
  {
   "cell_type": "markdown",
   "metadata": {},
   "source": [
    "Let's check whether there is a change in the weights."
   ]
  },
  {
   "cell_type": "code",
   "execution_count": null,
   "metadata": {},
   "outputs": [],
   "source": [
    "msdd_model.msdd._speaker_model.state_dict()[\"encoder.encoder.0.mconv.0.conv.weight\"][0,:,:]"
   ]
  }
 ],
 "metadata": {
  "kernelspec": {
   "display_name": "Python 3 (ipykernel)",
   "language": "python",
   "name": "python3"
  },
  "language_info": {
   "codemirror_mode": {
    "name": "ipython",
    "version": 3
   },
   "file_extension": ".py",
   "mimetype": "text/x-python",
   "name": "python",
   "nbconvert_exporter": "python",
   "pygments_lexer": "ipython3",
   "version": "3.9.7"
  },
  "pycharm": {
   "stem_cell": {
    "cell_type": "raw",
    "metadata": {
     "collapsed": false
    },
    "source": []
   }
  }
 },
 "nbformat": 4,
 "nbformat_minor": 4
}
