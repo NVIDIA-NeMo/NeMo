{
 "cells": [
  {
   "cell_type": "code",
   "execution_count": null,
   "metadata": {},
   "outputs": [],
   "source": [
    "\"\"\"\n",
    "You can run either this notebook locally (if you have all the dependencies and a GPU) or on Google Colab.\n",
    "\n",
    "Instructions for setting up Colab are as follows:\n",
    "1. Open a new Python 3 notebook.\n",
    "2. Import this notebook from GitHub (File -> Upload Notebook -> \"GITHUB\" tab -> copy/paste GitHub URL)\n",
    "3. Connect to an instance with a GPU (Runtime -> Change runtime type -> select \"GPU\" for hardware accelerator)\n",
    "4. Run this cell to set up dependencies.\n",
    "5. Restart the runtime (Runtime -> Restart Runtime) for any upgraded packages to take effect\n",
    "\"\"\"\n",
    "\n",
    "NEMO_DIR_PATH = \"NeMo\"\n",
    "BRANCH = 'main'\n",
    "\n",
    "! git clone https://github.com/NVIDIA/NeMo\n",
    "%cd NeMo\n",
    "! python -m pip install git+https://github.com/NVIDIA/NeMo.git@$BRANCH#egg=nemo_toolkit[all]\n",
    "%cd .."
   ]
  },
  {
   "cell_type": "code",
   "execution_count": null,
   "metadata": {},
   "outputs": [],
   "source": [
    "# Install dependencies\n",
    "!apt-get install sox libsndfile1 ffmpeg\n",
    "!pip install wget\n",
    "!pip install unidecode\n",
    "!pip install \"matplotlib>=3.3.2\""
   ]
  },
  {
   "cell_type": "markdown",
   "metadata": {},
   "source": [
    "# Multispeaker Simulator\n",
    "\n",
    "This tutorial shows how to use the speech data simulator to generate synthetic multispeaker audio sessions that can be used to train or evaluate models for multispeaker ASR or speaker diarization. This tool aims to address the lack of labelled multispeaker training data and to help models deal with overlapping speech."
   ]
  },
  {
   "cell_type": "markdown",
   "metadata": {},
   "source": [
    "# Step 1: Download Required Datasets\n",
    "\n",
    "The LibriSpeech dataset and corresponding word alignments are required for generating synthetic multispeaker audio sessions. For simplicity, only the dev-clean dataset is used for generating synthetic sessions."
   ]
  },
  {
   "cell_type": "code",
   "execution_count": 3,
   "metadata": {},
   "outputs": [
    {
     "name": "stdout",
     "output_type": "stream",
     "text": [
      "Downloading necessary scripts\n",
      "--2022-09-13 13:03:05--  https://raw.githubusercontent.com/NVIDIA/NeMo//scripts/dataset_processing/get_librispeech_data.py\n",
      "Resolving raw.githubusercontent.com (raw.githubusercontent.com)... 185.199.110.133, 185.199.108.133, 185.199.109.133, ...\n",
      "Connecting to raw.githubusercontent.com (raw.githubusercontent.com)|185.199.110.133|:443... connected.\n",
      "HTTP request sent, awaiting response... 301 Moved Permanently\n",
      "Location: /NVIDIA/NeMo/scripts/dataset_processing/get_librispeech_data.py [following]\n",
      "--2022-09-13 13:03:05--  https://raw.githubusercontent.com/NVIDIA/NeMo/scripts/dataset_processing/get_librispeech_data.py\n",
      "Reusing existing connection to raw.githubusercontent.com:443.\n",
      "HTTP request sent, awaiting response... 404 Not Found\n",
      "2022-09-13 13:03:05 ERROR 404: Not Found.\n",
      "\n",
      "--2022-09-13 13:03:05--  https://raw.githubusercontent.com/NVIDIA/NeMo//scripts/speaker_tasks/create_alignment_manifest.py\n",
      "Resolving raw.githubusercontent.com (raw.githubusercontent.com)... 185.199.111.133, 185.199.109.133, 185.199.108.133, ...\n",
      "Connecting to raw.githubusercontent.com (raw.githubusercontent.com)|185.199.111.133|:443... connected.\n",
      "HTTP request sent, awaiting response... 301 Moved Permanently\n",
      "Location: /NVIDIA/NeMo/scripts/speaker_tasks/create_alignment_manifest.py [following]\n",
      "--2022-09-13 13:03:06--  https://raw.githubusercontent.com/NVIDIA/NeMo/scripts/speaker_tasks/create_alignment_manifest.py\n",
      "Reusing existing connection to raw.githubusercontent.com:443.\n",
      "HTTP request sent, awaiting response... 404 Not Found\n",
      "2022-09-13 13:03:06 ERROR 404: Not Found.\n",
      "\n"
     ]
    }
   ],
   "source": [
    "import os\n",
    "\n",
    "# download scripts if not already there \n",
    "if not os.path.exists('NeMo/scripts'):\n",
    "  print(\"Downloading necessary scripts\")\n",
    "  !mkdir -p NeMo/scripts/dataset_processing\n",
    "  !mkdir -p NeMo/scripts/speaker_tasks\n",
    "  !wget -P NeMo/scripts/dataset_processing/ https://raw.githubusercontent.com/NVIDIA/NeMo/$BRANCH/scripts/dataset_processing/get_librispeech_data.py\n",
    "  !wget -P NeMo/scripts/speaker_tasks/ https://raw.githubusercontent.com/NVIDIA/NeMo/$BRANCH/scripts/speaker_tasks/create_alignment_manifest.py"
   ]
  },
  {
   "cell_type": "code",
   "execution_count": 4,
   "metadata": {},
   "outputs": [
    {
     "name": "stdout",
     "output_type": "stream",
     "text": [
      "python: can't open file '/home/taejinp/projects/msdd_scripts_docs/NeMo/tutorials/tools/{NEMO_DIR_PATH}/scripts/dataset_processing/get_librispeech_data.py': [Errno 2] No such file or directory\r\n"
     ]
    }
   ],
   "source": [
    "!mkdir -p LibriSpeech\n",
    "!python {NEMO_DIR_PATH}/scripts/dataset_processing/get_librispeech_data.py \\\n",
    "  --data_root LibriSpeech \\\n",
    "  --data_sets dev_clean"
   ]
  },
  {
   "cell_type": "markdown",
   "metadata": {},
   "source": [
    "The LibriSpeech forced word alignments are from [this repository.](https://github.com/CorentinJ/librispeech-alignments). You can access to the whole LibriSpeech splits at this google drive link [link](https://drive.google.com/file/d/1WYfgr31T-PPwMcxuAq09XZfHQO5Mw8fE/view?usp=sharing). We will download the dev-clean part for demo purpose."
   ]
  },
  {
   "cell_type": "code",
   "execution_count": 5,
   "metadata": {},
   "outputs": [
    {
     "name": "stdout",
     "output_type": "stream",
     "text": [
      "--2022-09-13 13:03:15--  https://dldata-public.s3.us-east-2.amazonaws.com/LibriSpeech_Alignments.tar.gz\n",
      "Resolving dldata-public.s3.us-east-2.amazonaws.com (dldata-public.s3.us-east-2.amazonaws.com)... 52.219.110.42\n",
      "Connecting to dldata-public.s3.us-east-2.amazonaws.com (dldata-public.s3.us-east-2.amazonaws.com)|52.219.110.42|:443... connected.\n",
      "HTTP request sent, awaiting response... 200 OK\n",
      "Length: 284061 (277K) [application/x-gzip]\n",
      "Saving to: ‘LibriSpeech_Alignments.tar.gz.1’\n",
      "\n",
      "LibriSpeech_Alignme 100%[===================>] 277.40K   960KB/s    in 0.3s    \n",
      "\n",
      "2022-09-13 13:03:15 (960 KB/s) - ‘LibriSpeech_Alignments.tar.gz.1’ saved [284061/284061]\n",
      "\n",
      "LibriSpeech_Alignments/\n",
      "LibriSpeech_Alignments/LibriSpeech/\n",
      "LibriSpeech_Alignments/LibriSpeech/dev-clean/\n",
      "LibriSpeech_Alignments/LibriSpeech/dev-clean/7850/\n",
      "LibriSpeech_Alignments/LibriSpeech/dev-clean/7850/111771/\n",
      "LibriSpeech_Alignments/LibriSpeech/dev-clean/7850/111771/7850-111771.alignment.txt\n",
      "LibriSpeech_Alignments/LibriSpeech/dev-clean/7850/286674/\n",
      "LibriSpeech_Alignments/LibriSpeech/dev-clean/7850/286674/7850-286674.alignment.txt\n",
      "LibriSpeech_Alignments/LibriSpeech/dev-clean/7850/73752/\n",
      "LibriSpeech_Alignments/LibriSpeech/dev-clean/7850/73752/7850-73752.alignment.txt\n",
      "LibriSpeech_Alignments/LibriSpeech/dev-clean/7850/281318/\n",
      "LibriSpeech_Alignments/LibriSpeech/dev-clean/7850/281318/7850-281318.alignment.txt\n",
      "LibriSpeech_Alignments/LibriSpeech/dev-clean/174/\n",
      "LibriSpeech_Alignments/LibriSpeech/dev-clean/174/168635/\n",
      "LibriSpeech_Alignments/LibriSpeech/dev-clean/174/168635/174-168635.alignment.txt\n",
      "LibriSpeech_Alignments/LibriSpeech/dev-clean/174/84280/\n",
      "LibriSpeech_Alignments/LibriSpeech/dev-clean/174/84280/174-84280.alignment.txt\n",
      "LibriSpeech_Alignments/LibriSpeech/dev-clean/174/50561/\n",
      "LibriSpeech_Alignments/LibriSpeech/dev-clean/174/50561/174-50561.alignment.txt\n",
      "LibriSpeech_Alignments/LibriSpeech/dev-clean/2277/\n",
      "LibriSpeech_Alignments/LibriSpeech/dev-clean/2277/149897/\n",
      "LibriSpeech_Alignments/LibriSpeech/dev-clean/2277/149897/2277-149897.alignment.txt\n",
      "LibriSpeech_Alignments/LibriSpeech/dev-clean/2277/149874/\n",
      "LibriSpeech_Alignments/LibriSpeech/dev-clean/2277/149874/2277-149874.alignment.txt\n",
      "LibriSpeech_Alignments/LibriSpeech/dev-clean/2277/149896/\n",
      "LibriSpeech_Alignments/LibriSpeech/dev-clean/2277/149896/2277-149896.alignment.txt\n",
      "LibriSpeech_Alignments/LibriSpeech/dev-clean/422/\n",
      "LibriSpeech_Alignments/LibriSpeech/dev-clean/422/122949/\n",
      "LibriSpeech_Alignments/LibriSpeech/dev-clean/422/122949/422-122949.alignment.txt\n",
      "LibriSpeech_Alignments/LibriSpeech/dev-clean/84/\n",
      "LibriSpeech_Alignments/LibriSpeech/dev-clean/84/121123/\n",
      "LibriSpeech_Alignments/LibriSpeech/dev-clean/84/121123/84-121123.alignment.txt\n",
      "LibriSpeech_Alignments/LibriSpeech/dev-clean/84/121550/\n",
      "LibriSpeech_Alignments/LibriSpeech/dev-clean/84/121550/84-121550.alignment.txt\n",
      "LibriSpeech_Alignments/LibriSpeech/dev-clean/1272/\n",
      "LibriSpeech_Alignments/LibriSpeech/dev-clean/1272/128104/\n",
      "LibriSpeech_Alignments/LibriSpeech/dev-clean/1272/128104/1272-128104.alignment.txt\n",
      "LibriSpeech_Alignments/LibriSpeech/dev-clean/1272/141231/\n",
      "LibriSpeech_Alignments/LibriSpeech/dev-clean/1272/141231/1272-141231.alignment.txt\n",
      "LibriSpeech_Alignments/LibriSpeech/dev-clean/1272/135031/\n",
      "LibriSpeech_Alignments/LibriSpeech/dev-clean/1272/135031/1272-135031.alignment.txt\n",
      "LibriSpeech_Alignments/LibriSpeech/dev-clean/6295/\n",
      "LibriSpeech_Alignments/LibriSpeech/dev-clean/6295/244435/\n",
      "LibriSpeech_Alignments/LibriSpeech/dev-clean/6295/244435/6295-244435.alignment.txt\n",
      "LibriSpeech_Alignments/LibriSpeech/dev-clean/6295/64301/\n",
      "LibriSpeech_Alignments/LibriSpeech/dev-clean/6295/64301/6295-64301.alignment.txt\n",
      "LibriSpeech_Alignments/LibriSpeech/dev-clean/1988/\n",
      "LibriSpeech_Alignments/LibriSpeech/dev-clean/1988/148538/\n",
      "LibriSpeech_Alignments/LibriSpeech/dev-clean/1988/148538/1988-148538.alignment.txt\n",
      "LibriSpeech_Alignments/LibriSpeech/dev-clean/1988/24833/\n",
      "LibriSpeech_Alignments/LibriSpeech/dev-clean/1988/24833/1988-24833.alignment.txt\n",
      "LibriSpeech_Alignments/LibriSpeech/dev-clean/1988/147956/\n",
      "LibriSpeech_Alignments/LibriSpeech/dev-clean/1988/147956/1988-147956.alignment.txt\n",
      "LibriSpeech_Alignments/LibriSpeech/dev-clean/777/\n",
      "LibriSpeech_Alignments/LibriSpeech/dev-clean/777/126732/\n",
      "LibriSpeech_Alignments/LibriSpeech/dev-clean/777/126732/777-126732.alignment.txt\n",
      "LibriSpeech_Alignments/LibriSpeech/dev-clean/8297/\n",
      "LibriSpeech_Alignments/LibriSpeech/dev-clean/8297/275155/\n",
      "LibriSpeech_Alignments/LibriSpeech/dev-clean/8297/275155/8297-275155.alignment.txt\n",
      "LibriSpeech_Alignments/LibriSpeech/dev-clean/8297/275156/\n",
      "LibriSpeech_Alignments/LibriSpeech/dev-clean/8297/275156/8297-275156.alignment.txt\n",
      "LibriSpeech_Alignments/LibriSpeech/dev-clean/8297/275154/\n",
      "LibriSpeech_Alignments/LibriSpeech/dev-clean/8297/275154/8297-275154.alignment.txt\n",
      "LibriSpeech_Alignments/LibriSpeech/dev-clean/2902/\n",
      "LibriSpeech_Alignments/LibriSpeech/dev-clean/2902/9008/\n",
      "LibriSpeech_Alignments/LibriSpeech/dev-clean/2902/9008/2902-9008.alignment.txt\n",
      "LibriSpeech_Alignments/LibriSpeech/dev-clean/2902/9006/\n",
      "LibriSpeech_Alignments/LibriSpeech/dev-clean/2902/9006/2902-9006.alignment.txt\n",
      "LibriSpeech_Alignments/LibriSpeech/dev-clean/3853/\n",
      "LibriSpeech_Alignments/LibriSpeech/dev-clean/3853/163249/\n",
      "LibriSpeech_Alignments/LibriSpeech/dev-clean/3853/163249/3853-163249.alignment.txt\n",
      "LibriSpeech_Alignments/LibriSpeech/dev-clean/251/\n",
      "LibriSpeech_Alignments/LibriSpeech/dev-clean/251/136532/\n",
      "LibriSpeech_Alignments/LibriSpeech/dev-clean/251/136532/251-136532.alignment.txt\n",
      "LibriSpeech_Alignments/LibriSpeech/dev-clean/251/118436/\n",
      "LibriSpeech_Alignments/LibriSpeech/dev-clean/251/118436/251-118436.alignment.txt\n",
      "LibriSpeech_Alignments/LibriSpeech/dev-clean/251/137823/\n",
      "LibriSpeech_Alignments/LibriSpeech/dev-clean/251/137823/251-137823.alignment.txt\n",
      "LibriSpeech_Alignments/LibriSpeech/dev-clean/2428/\n",
      "LibriSpeech_Alignments/LibriSpeech/dev-clean/2428/83699/\n",
      "LibriSpeech_Alignments/LibriSpeech/dev-clean/2428/83699/2428-83699.alignment.txt\n",
      "LibriSpeech_Alignments/LibriSpeech/dev-clean/2428/83705/\n",
      "LibriSpeech_Alignments/LibriSpeech/dev-clean/2428/83705/2428-83705.alignment.txt\n",
      "LibriSpeech_Alignments/LibriSpeech/dev-clean/2412/\n",
      "LibriSpeech_Alignments/LibriSpeech/dev-clean/2412/153948/\n",
      "LibriSpeech_Alignments/LibriSpeech/dev-clean/2412/153948/2412-153948.alignment.txt\n",
      "LibriSpeech_Alignments/LibriSpeech/dev-clean/2412/153947/\n",
      "LibriSpeech_Alignments/LibriSpeech/dev-clean/2412/153947/2412-153947.alignment.txt\n",
      "LibriSpeech_Alignments/LibriSpeech/dev-clean/2412/153954/\n",
      "LibriSpeech_Alignments/LibriSpeech/dev-clean/2412/153954/2412-153954.alignment.txt\n",
      "LibriSpeech_Alignments/LibriSpeech/dev-clean/5338/\n",
      "LibriSpeech_Alignments/LibriSpeech/dev-clean/5338/284437/\n",
      "LibriSpeech_Alignments/LibriSpeech/dev-clean/5338/284437/5338-284437.alignment.txt\n",
      "LibriSpeech_Alignments/LibriSpeech/dev-clean/5338/24640/\n",
      "LibriSpeech_Alignments/LibriSpeech/dev-clean/5338/24640/5338-24640.alignment.txt\n",
      "LibriSpeech_Alignments/LibriSpeech/dev-clean/5338/24615/\n",
      "LibriSpeech_Alignments/LibriSpeech/dev-clean/5338/24615/5338-24615.alignment.txt\n",
      "LibriSpeech_Alignments/LibriSpeech/dev-clean/2078/\n",
      "LibriSpeech_Alignments/LibriSpeech/dev-clean/2078/142845/\n",
      "LibriSpeech_Alignments/LibriSpeech/dev-clean/2078/142845/2078-142845.alignment.txt\n",
      "LibriSpeech_Alignments/LibriSpeech/dev-clean/3752/\n",
      "LibriSpeech_Alignments/LibriSpeech/dev-clean/3752/4943/\n",
      "LibriSpeech_Alignments/LibriSpeech/dev-clean/3752/4943/3752-4943.alignment.txt\n",
      "LibriSpeech_Alignments/LibriSpeech/dev-clean/3752/4944/\n",
      "LibriSpeech_Alignments/LibriSpeech/dev-clean/3752/4944/3752-4944.alignment.txt\n",
      "LibriSpeech_Alignments/LibriSpeech/dev-clean/1919/\n",
      "LibriSpeech_Alignments/LibriSpeech/dev-clean/1919/142785/\n",
      "LibriSpeech_Alignments/LibriSpeech/dev-clean/1919/142785/1919-142785.alignment.txt\n",
      "LibriSpeech_Alignments/LibriSpeech/dev-clean/2035/\n",
      "LibriSpeech_Alignments/LibriSpeech/dev-clean/2035/152373/\n",
      "LibriSpeech_Alignments/LibriSpeech/dev-clean/2035/152373/2035-152373.alignment.txt\n",
      "LibriSpeech_Alignments/LibriSpeech/dev-clean/2035/147961/\n",
      "LibriSpeech_Alignments/LibriSpeech/dev-clean/2035/147961/2035-147961.alignment.txt\n",
      "LibriSpeech_Alignments/LibriSpeech/dev-clean/2035/147960/\n",
      "LibriSpeech_Alignments/LibriSpeech/dev-clean/2035/147960/2035-147960.alignment.txt\n",
      "LibriSpeech_Alignments/LibriSpeech/dev-clean/6345/\n",
      "LibriSpeech_Alignments/LibriSpeech/dev-clean/6345/64257/\n",
      "LibriSpeech_Alignments/LibriSpeech/dev-clean/6345/64257/6345-64257.alignment.txt\n",
      "LibriSpeech_Alignments/LibriSpeech/dev-clean/6345/93306/\n",
      "LibriSpeech_Alignments/LibriSpeech/dev-clean/6345/93306/6345-93306.alignment.txt\n",
      "LibriSpeech_Alignments/LibriSpeech/dev-clean/6345/93302/\n",
      "LibriSpeech_Alignments/LibriSpeech/dev-clean/6345/93302/6345-93302.alignment.txt\n",
      "LibriSpeech_Alignments/LibriSpeech/dev-clean/6241/\n",
      "LibriSpeech_Alignments/LibriSpeech/dev-clean/6241/66616/\n",
      "LibriSpeech_Alignments/LibriSpeech/dev-clean/6241/66616/6241-66616.alignment.txt\n",
      "LibriSpeech_Alignments/LibriSpeech/dev-clean/6241/61946/\n",
      "LibriSpeech_Alignments/LibriSpeech/dev-clean/6241/61946/6241-61946.alignment.txt\n",
      "LibriSpeech_Alignments/LibriSpeech/dev-clean/6241/61943/\n",
      "LibriSpeech_Alignments/LibriSpeech/dev-clean/6241/61943/6241-61943.alignment.txt\n",
      "LibriSpeech_Alignments/LibriSpeech/dev-clean/2803/\n",
      "LibriSpeech_Alignments/LibriSpeech/dev-clean/2803/161169/\n",
      "LibriSpeech_Alignments/LibriSpeech/dev-clean/2803/161169/2803-161169.alignment.txt\n",
      "LibriSpeech_Alignments/LibriSpeech/dev-clean/2803/154320/\n",
      "LibriSpeech_Alignments/LibriSpeech/dev-clean/2803/154320/2803-154320.alignment.txt\n",
      "LibriSpeech_Alignments/LibriSpeech/dev-clean/2803/154328/\n",
      "LibriSpeech_Alignments/LibriSpeech/dev-clean/2803/154328/2803-154328.alignment.txt\n",
      "LibriSpeech_Alignments/LibriSpeech/dev-clean/1673/\n",
      "LibriSpeech_Alignments/LibriSpeech/dev-clean/1673/143396/\n",
      "LibriSpeech_Alignments/LibriSpeech/dev-clean/1673/143396/1673-143396.alignment.txt\n",
      "LibriSpeech_Alignments/LibriSpeech/dev-clean/1673/143397/\n",
      "LibriSpeech_Alignments/LibriSpeech/dev-clean/1673/143397/1673-143397.alignment.txt\n",
      "LibriSpeech_Alignments/LibriSpeech/dev-clean/5536/\n",
      "LibriSpeech_Alignments/LibriSpeech/dev-clean/5536/43363/\n",
      "LibriSpeech_Alignments/LibriSpeech/dev-clean/5536/43363/5536-43363.alignment.txt\n",
      "LibriSpeech_Alignments/LibriSpeech/dev-clean/5536/43359/\n",
      "LibriSpeech_Alignments/LibriSpeech/dev-clean/5536/43359/5536-43359.alignment.txt\n",
      "LibriSpeech_Alignments/LibriSpeech/dev-clean/5536/43358/\n",
      "LibriSpeech_Alignments/LibriSpeech/dev-clean/5536/43358/5536-43358.alignment.txt\n",
      "LibriSpeech_Alignments/LibriSpeech/dev-clean/3081/\n",
      "LibriSpeech_Alignments/LibriSpeech/dev-clean/3081/166546/\n",
      "LibriSpeech_Alignments/LibriSpeech/dev-clean/3081/166546/3081-166546.alignment.txt\n",
      "LibriSpeech_Alignments/LibriSpeech/dev-clean/5694/\n",
      "LibriSpeech_Alignments/LibriSpeech/dev-clean/5694/64038/\n",
      "LibriSpeech_Alignments/LibriSpeech/dev-clean/5694/64038/5694-64038.alignment.txt\n",
      "LibriSpeech_Alignments/LibriSpeech/dev-clean/5694/64025/\n",
      "LibriSpeech_Alignments/LibriSpeech/dev-clean/5694/64025/5694-64025.alignment.txt\n",
      "LibriSpeech_Alignments/LibriSpeech/dev-clean/5694/64029/\n",
      "LibriSpeech_Alignments/LibriSpeech/dev-clean/5694/64029/5694-64029.alignment.txt\n",
      "LibriSpeech_Alignments/LibriSpeech/dev-clean/3170/\n",
      "LibriSpeech_Alignments/LibriSpeech/dev-clean/3170/137482/\n",
      "LibriSpeech_Alignments/LibriSpeech/dev-clean/3170/137482/3170-137482.alignment.txt\n",
      "LibriSpeech_Alignments/LibriSpeech/dev-clean/6319/\n",
      "LibriSpeech_Alignments/LibriSpeech/dev-clean/6319/64726/\n",
      "LibriSpeech_Alignments/LibriSpeech/dev-clean/6319/64726/6319-64726.alignment.txt\n",
      "LibriSpeech_Alignments/LibriSpeech/dev-clean/6319/275224/\n",
      "LibriSpeech_Alignments/LibriSpeech/dev-clean/6319/275224/6319-275224.alignment.txt\n",
      "LibriSpeech_Alignments/LibriSpeech/dev-clean/6319/57405/\n",
      "LibriSpeech_Alignments/LibriSpeech/dev-clean/6319/57405/6319-57405.alignment.txt\n",
      "LibriSpeech_Alignments/LibriSpeech/dev-clean/7976/\n",
      "LibriSpeech_Alignments/LibriSpeech/dev-clean/7976/110124/\n",
      "LibriSpeech_Alignments/LibriSpeech/dev-clean/7976/110124/7976-110124.alignment.txt\n",
      "LibriSpeech_Alignments/LibriSpeech/dev-clean/7976/110523/\n",
      "LibriSpeech_Alignments/LibriSpeech/dev-clean/7976/110523/7976-110523.alignment.txt\n",
      "LibriSpeech_Alignments/LibriSpeech/dev-clean/7976/105575/\n",
      "LibriSpeech_Alignments/LibriSpeech/dev-clean/7976/105575/7976-105575.alignment.txt\n",
      "LibriSpeech_Alignments/LibriSpeech/dev-clean/8842/\n",
      "LibriSpeech_Alignments/LibriSpeech/dev-clean/8842/304647/\n",
      "LibriSpeech_Alignments/LibriSpeech/dev-clean/8842/304647/8842-304647.alignment.txt\n",
      "LibriSpeech_Alignments/LibriSpeech/dev-clean/8842/302196/\n",
      "LibriSpeech_Alignments/LibriSpeech/dev-clean/8842/302196/8842-302196.alignment.txt\n",
      "LibriSpeech_Alignments/LibriSpeech/dev-clean/8842/302203/\n",
      "LibriSpeech_Alignments/LibriSpeech/dev-clean/8842/302203/8842-302203.alignment.txt\n",
      "LibriSpeech_Alignments/LibriSpeech/dev-clean/8842/302201/\n",
      "LibriSpeech_Alignments/LibriSpeech/dev-clean/8842/302201/8842-302201.alignment.txt\n",
      "LibriSpeech_Alignments/LibriSpeech/dev-clean/3536/\n",
      "LibriSpeech_Alignments/LibriSpeech/dev-clean/3536/8226/\n",
      "LibriSpeech_Alignments/LibriSpeech/dev-clean/3536/8226/3536-8226.alignment.txt\n",
      "LibriSpeech_Alignments/LibriSpeech/dev-clean/3536/23268/\n",
      "LibriSpeech_Alignments/LibriSpeech/dev-clean/3536/23268/3536-23268.alignment.txt\n",
      "LibriSpeech_Alignments/LibriSpeech/dev-clean/1993/\n",
      "LibriSpeech_Alignments/LibriSpeech/dev-clean/1993/147966/\n",
      "LibriSpeech_Alignments/LibriSpeech/dev-clean/1993/147966/1993-147966.alignment.txt\n",
      "LibriSpeech_Alignments/LibriSpeech/dev-clean/1993/147964/\n",
      "LibriSpeech_Alignments/LibriSpeech/dev-clean/1993/147964/1993-147964.alignment.txt\n",
      "LibriSpeech_Alignments/LibriSpeech/dev-clean/1993/147965/\n",
      "LibriSpeech_Alignments/LibriSpeech/dev-clean/1993/147965/1993-147965.alignment.txt\n",
      "LibriSpeech_Alignments/LibriSpeech/dev-clean/1993/147149/\n",
      "LibriSpeech_Alignments/LibriSpeech/dev-clean/1993/147149/1993-147149.alignment.txt\n",
      "LibriSpeech_Alignments/LibriSpeech/dev-clean/6313/\n",
      "LibriSpeech_Alignments/LibriSpeech/dev-clean/6313/76958/\n",
      "LibriSpeech_Alignments/LibriSpeech/dev-clean/6313/76958/6313-76958.alignment.txt\n",
      "LibriSpeech_Alignments/LibriSpeech/dev-clean/6313/66125/\n",
      "LibriSpeech_Alignments/LibriSpeech/dev-clean/6313/66125/6313-66125.alignment.txt\n",
      "LibriSpeech_Alignments/LibriSpeech/dev-clean/6313/66129/\n",
      "LibriSpeech_Alignments/LibriSpeech/dev-clean/6313/66129/6313-66129.alignment.txt\n",
      "LibriSpeech_Alignments/LibriSpeech/dev-clean/1462/\n",
      "LibriSpeech_Alignments/LibriSpeech/dev-clean/1462/170145/\n",
      "LibriSpeech_Alignments/LibriSpeech/dev-clean/1462/170145/1462-170145.alignment.txt\n",
      "LibriSpeech_Alignments/LibriSpeech/dev-clean/1462/170138/\n",
      "LibriSpeech_Alignments/LibriSpeech/dev-clean/1462/170138/1462-170138.alignment.txt\n",
      "LibriSpeech_Alignments/LibriSpeech/dev-clean/1462/170142/\n",
      "LibriSpeech_Alignments/LibriSpeech/dev-clean/1462/170142/1462-170142.alignment.txt\n",
      "LibriSpeech_Alignments/LibriSpeech/dev-clean/652/\n",
      "LibriSpeech_Alignments/LibriSpeech/dev-clean/652/129742/\n",
      "LibriSpeech_Alignments/LibriSpeech/dev-clean/652/129742/652-129742.alignment.txt\n",
      "LibriSpeech_Alignments/LibriSpeech/dev-clean/652/130737/\n",
      "LibriSpeech_Alignments/LibriSpeech/dev-clean/652/130737/652-130737.alignment.txt\n",
      "LibriSpeech_Alignments/LibriSpeech/dev-clean/652/130726/\n",
      "LibriSpeech_Alignments/LibriSpeech/dev-clean/652/130726/652-130726.alignment.txt\n",
      "LibriSpeech_Alignments/LibriSpeech/dev-clean/2086/\n",
      "LibriSpeech_Alignments/LibriSpeech/dev-clean/2086/149214/\n",
      "LibriSpeech_Alignments/LibriSpeech/dev-clean/2086/149214/2086-149214.alignment.txt\n",
      "LibriSpeech_Alignments/LibriSpeech/dev-clean/2086/149220/\n",
      "LibriSpeech_Alignments/LibriSpeech/dev-clean/2086/149220/2086-149220.alignment.txt\n",
      "LibriSpeech_Alignments/LibriSpeech/dev-clean/5895/\n",
      "LibriSpeech_Alignments/LibriSpeech/dev-clean/5895/34615/\n",
      "LibriSpeech_Alignments/LibriSpeech/dev-clean/5895/34615/5895-34615.alignment.txt\n",
      "LibriSpeech_Alignments/LibriSpeech/dev-clean/5895/34622/\n",
      "LibriSpeech_Alignments/LibriSpeech/dev-clean/5895/34622/5895-34622.alignment.txt\n",
      "LibriSpeech_Alignments/LibriSpeech/dev-clean/5895/34629/\n",
      "LibriSpeech_Alignments/LibriSpeech/dev-clean/5895/34629/5895-34629.alignment.txt\n",
      "LibriSpeech_Alignments/LibriSpeech/dev-clean/3000/\n",
      "LibriSpeech_Alignments/LibriSpeech/dev-clean/3000/15664/\n",
      "LibriSpeech_Alignments/LibriSpeech/dev-clean/3000/15664/3000-15664.alignment.txt\n",
      "LibriSpeech_Alignments/LibriSpeech/dev-clean/3576/\n",
      "LibriSpeech_Alignments/LibriSpeech/dev-clean/3576/138058/\n",
      "LibriSpeech_Alignments/LibriSpeech/dev-clean/3576/138058/3576-138058.alignment.txt\n",
      "LibriSpeech_Alignments/unaligned.txt\n"
     ]
    },
    {
     "name": "stdout",
     "output_type": "stream",
     "text": [
      "rm: cannot remove 'LibriSpeech-Alignments.zip': No such file or directory\r\n"
     ]
    }
   ],
   "source": [
    "!wget https://dldata-public.s3.us-east-2.amazonaws.com/LibriSpeech_Alignments.tar.gz\n",
    "!tar -xvzf LibriSpeech_Alignments.tar.gz\n",
    "!rm LibriSpeech-Alignments.zip"
   ]
  },
  {
   "cell_type": "markdown",
   "metadata": {},
   "source": [
    "# Step 2: Produce Manifest File with Forced Alignments\n",
    "\n",
    "The LibriSpeech manifest file and LibriSpeech forced alignments will now be merged into one manifest file for ease of use when generating synthetic data. \n",
    "\n",
    "Here, the input LibriSpeech alignments are first converted to CTM files, and the CTM files are then combined with the base manifest in order to produce the manifest file with word alignments. When using another dataset, the --use_ctm argument can be used to generate the manifest file using alignments in CTM files."
   ]
  },
  {
   "cell_type": "code",
   "execution_count": 2,
   "metadata": {},
   "outputs": [
    {
     "name": "stdout",
     "output_type": "stream",
     "text": [
      "python: can't open file '/home/taejinp/projects/msdd_scripts_docs/NeMo/tutorials/tools/NeMo/scripts/speaker_tasks/create_alignment_manifest.py': [Errno 2] No such file or directory\r\n"
     ]
    }
   ],
   "source": [
    "!python NeMo/scripts/speaker_tasks/create_alignment_manifest.py \\\n",
    "  --input_manifest_filepath LibriSpeech/dev_clean.json \\\n",
    "  --base_alignment_path LibriSpeech_Alignments \\\n",
    "  --output_manifest_filepath ./dev-clean-align.json \\\n",
    "  --ctm_directory ./ctm_out \\\n",
    "  --dataset dev-clean"
   ]
  },
  {
   "cell_type": "markdown",
   "metadata": {},
   "source": [
    "# Step 3: Download Background Noise Data\n",
    "\n",
    "The background noise is constructed from [here](https://www.openslr.org/resources/28/rirs_noises.zip) (although it can be constructed from other background noise datasets instead)"
   ]
  },
  {
   "cell_type": "code",
   "execution_count": null,
   "metadata": {},
   "outputs": [],
   "source": [
    "!wget https://www.openslr.org/resources/28/rirs_noises.zip\n",
    "!unzip -o rirs_noises.zip"
   ]
  },
  {
   "cell_type": "markdown",
   "metadata": {},
   "source": [
    "# Data Simulator Overview\n",
    "\n",
    "The simulator creates a speech session using utterances from a desired number of speakers. The simulator first selects the LibriSpeech speaker IDs that will be used for the current session, and sets speaker dominance values for each speaker to determine how often each speaker will talk in the session. The session is then constructed by iterating through the following steps:\n",
    "\n",
    "* The next speaker is selected (which could be the same speaker again with some probability, and which accounts for the speaker dominance values).\n",
    "* The sentence length is determined using a probability distribution, and an utterance of the desired length is then constructed by concatenating together (or truncating) LibriSpeech sentences corresponding to the desired speaker. Individual word alignments are used to truncate the last LibriSpeech sentence such that the entire utterance has the desired length.\n",
    "* Next, either the current utterance is overlapped with a previous utterance or silence is introduced before inserting the current utterance. \n",
    "\n",
    "The simulator includes a multi-microphone far-field mode that incorporates synthetic room impulse response generation in order to simulate multi-microphone multispeaker sessions. When using RIR generation, the RIR is computed once per batch of sessions, and then each constructed utterance is convolved with the RIR in order to get the sound recorded by each microphone before adding the utterance to the audio session. In this tutorial, only near field sessions will be generated.\n",
    "\n",
    "The simulator also has a speaker enforcement mode which ensures that the correct number of speakers appear in each session, since it is possible that fewer than the desired number may be present since speaker turns are probabilistic. In speaker enforcement mode, the length of the session or speaker probabilites may be adjusted to ensure all speakers are included before the session finishes."
   ]
  },
  {
   "cell_type": "markdown",
   "metadata": {},
   "source": [
    "# Parameters"
   ]
  },
  {
   "cell_type": "code",
   "execution_count": null,
   "metadata": {},
   "outputs": [],
   "source": [
    "from omegaconf import OmegaConf\n",
    "ROOT = os.getcwd()\n",
    "conf_dir = os.path.join(ROOT,'conf')\n",
    "!mkdir -p $conf_dir\n",
    "CONFIG_PATH = os.path.join(conf_dir, 'data_simulator.yaml')\n",
    "if not os.path.exists(CONFIG_PATH):\n",
    "  !wget -P $conf_dir https://raw.githubusercontent.com/NVIDIA/NeMo/$BRANCH/tools/speech_data_simulator/conf/data_simulator.yaml\n",
    "\n",
    "config = OmegaConf.load(CONFIG_PATH)\n",
    "print(OmegaConf.to_yaml(config))"
   ]
  },
  {
   "cell_type": "markdown",
   "metadata": {},
   "source": [
    "# Step 4: Create Background Noise Manifest"
   ]
  },
  {
   "cell_type": "code",
   "execution_count": null,
   "metadata": {},
   "outputs": [],
   "source": [
    "!find RIRS_NOISES/real_rirs_isotropic_noises/*.wav > bg_noise.list \n",
    "\n",
    "# this function can also be run using the pathfiles_to_diarize_manifest.py script\n",
    "from nemo.collections.asr.parts.utils.manifest_utils import create_manifest\n",
    "create_manifest('bg_noise.list', 'bg_noise.json')"
   ]
  },
  {
   "cell_type": "markdown",
   "metadata": {},
   "source": [
    "# Step 5: Generate Simulated Audio Session\n",
    "\n",
    "A single 4-speaker session of 60 seconds is generated as an example. "
   ]
  },
  {
   "cell_type": "code",
   "execution_count": null,
   "metadata": {},
   "outputs": [],
   "source": [
    "from nemo.collections.asr.data.data_simulation import MultiSpeakerSimulator\n",
    "\n",
    "ROOT = os.getcwd()\n",
    "data_dir = os.path.join(ROOT,'simulated_data')\n",
    "config.data_simulator.random_seed=42\n",
    "config.data_simulator.manifest_filepath=\"./dev-clean-align.json\"\n",
    "config.data_simulator.outputs.output_dir=data_dir\n",
    "config.data_simulator.session_config.num_sessions=1\n",
    "config.data_simulator.session_config.session_length=30\n",
    "config.data_simulator.background_noise.add_bg=True\n",
    "config.data_simulator.background_noise.background_manifest=\"./bg_noise.json\"\n",
    "\n",
    "lg = MultiSpeakerSimulator(cfg=config)\n",
    "lg.generate_sessions()"
   ]
  },
  {
   "cell_type": "markdown",
   "metadata": {},
   "source": [
    "# Step 5: Listen to and Visualize Session\n",
    "\n",
    "Listen to the audio and visualize the corresponding speaker timestamps (recorded in a RTTM file for each session)"
   ]
  },
  {
   "cell_type": "code",
   "execution_count": null,
   "metadata": {
    "scrolled": true
   },
   "outputs": [],
   "source": [
    "import os\n",
    "import wget\n",
    "import IPython\n",
    "import matplotlib.pyplot as plt\n",
    "import numpy as np\n",
    "import librosa\n",
    "from nemo.collections.asr.parts.utils.speaker_utils import rttm_to_labels, labels_to_pyannote_object\n",
    "\n",
    "ROOT = os.getcwd()\n",
    "data_dir = os.path.join(ROOT,'simulated_data')\n",
    "audio = os.path.join(data_dir,'multispeaker_session_0.wav')\n",
    "rttm = os.path.join(data_dir,'multispeaker_session_0.rttm')\n",
    "\n",
    "sr = 16000\n",
    "signal, sr = librosa.load(audio,sr=sr) \n",
    "\n",
    "fig,ax = plt.subplots(1,1)\n",
    "fig.set_figwidth(20)\n",
    "fig.set_figheight(2)\n",
    "plt.plot(np.arange(len(signal)),signal,'gray')\n",
    "fig.suptitle('Synthetic Audio Session', fontsize=16)\n",
    "plt.xlabel('Time (s)', fontsize=18)\n",
    "ax.margins(x=0)\n",
    "plt.ylabel('Signal Strength', fontsize=16);\n",
    "a,_ = plt.xticks();plt.xticks(a,a/sr);\n",
    "\n",
    "IPython.display.Audio(audio)"
   ]
  },
  {
   "cell_type": "markdown",
   "metadata": {},
   "source": [
    "The visualization is useful for seeing both the distribution of utterance lengths, the differing speaker dominance values, and the amount of overlap in the session."
   ]
  },
  {
   "cell_type": "code",
   "execution_count": null,
   "metadata": {},
   "outputs": [],
   "source": [
    "#display speaker labels for reference\n",
    "labels = rttm_to_labels(rttm)\n",
    "reference = labels_to_pyannote_object(labels)\n",
    "reference"
   ]
  },
  {
   "cell_type": "markdown",
   "metadata": {},
   "source": [
    "# Files Produced\n",
    "\n",
    "The following files are produced by the simulator:\n",
    "\n",
    "* wav files (one per audio session) - the output audio sessions\n",
    "* rttm files (one per audio session) - the speaker timestamps for the corresponding audio session (used for diarization training)\n",
    "* json files (one per audio session) - the output manifest file for the corresponding audio session (containing text transcriptions, utterance durations, full paths to audio files, words, and word alignments)\n",
    "* ctm files (one per audio session) - contains word-by-word alignments, speaker ID, and word\n",
    "* txt files (one per audio session) - contains the full text transcription for a given session\n",
    "* list files (one per file type per batch of sessions) - a list of generated files of the given type (wav, rttm, json, ctm, or txt), used primarily for manifest creation\n"
   ]
  },
  {
   "cell_type": "code",
   "execution_count": null,
   "metadata": {},
   "outputs": [],
   "source": [
    "!ls simulated_data"
   ]
  }
 ],
 "metadata": {
  "kernelspec": {
   "display_name": "Python 3 (ipykernel)",
   "language": "python",
   "name": "python3"
  },
  "language_info": {
   "codemirror_mode": {
    "name": "ipython",
    "version": 3
   },
   "file_extension": ".py",
   "mimetype": "text/x-python",
   "name": "python",
   "nbconvert_exporter": "python",
   "pygments_lexer": "ipython3",
   "version": "3.9.7"
  },
  "pycharm": {
   "stem_cell": {
    "cell_type": "raw",
    "metadata": {
     "collapsed": false
    },
    "source": []
   }
  }
 },
 "nbformat": 4,
 "nbformat_minor": 4
}
