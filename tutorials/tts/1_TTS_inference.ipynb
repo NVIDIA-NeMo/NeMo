{
 "cells": [
  {
   "cell_type": "markdown",
   "metadata": {},
   "source": [
    "# TTS Inference\n",
    "\n",
    "This notebook can be used to generate audio samples using either NeMo's pretrained models or after training NeMo TTS models. This script currently uses a two step inference procedure. First, a model is used to generate a mel spectrogram from text. Second, a model is used to generate audio from a mel spectrogram.\n",
    "\n",
    "Currently supported models are:\n",
    "Mel Spectrogram Generators:\n",
    "- Tacotron 2\n",
    "- Glow-TTS\n",
    "\n",
    "Audio Generators\n",
    "- WaveGlow\n",
    "- SqueezeWave\n",
    "- UniGlow\n",
    "- MelGAN\n",
    "- HiFiGAN\n",
    "- Two Stage Models\n",
    "    - Griffin-Lim"
   ]
  },
  {
   "cell_type": "markdown",
   "metadata": {},
   "source": [
    "# License\n",
    "\n",
    "> Copyright 2020 NVIDIA. All Rights Reserved.\n",
    "> \n",
    "> Licensed under the Apache License, Version 2.0 (the \"License\");\n",
    "> you may not use this file except in compliance with the License.\n",
    "> You may obtain a copy of the License at\n",
    "> \n",
    ">     http://www.apache.org/licenses/LICENSE-2.0\n",
    "> \n",
    "> Unless required by applicable law or agreed to in writing, software\n",
    "> distributed under the License is distributed on an \"AS IS\" BASIS,\n",
    "> WITHOUT WARRANTIES OR CONDITIONS OF ANY KIND, either express or implied.\n",
    "> See the License for the specific language governing permissions and\n",
    "> limitations under the License."
   ]
  },
  {
   "cell_type": "code",
   "execution_count": 1,
   "metadata": {
    "tags": []
   },
   "outputs": [
    {
     "data": {
      "text/plain": [
       "'\\nYou can run either this notebook locally (if you have all the dependencies and a GPU) or on Google Colab.\\nInstructions for setting up Colab are as follows:\\n1. Open a new Python 3 notebook.\\n2. Import this notebook from GitHub (File -> Upload Notebook -> \"GITHUB\" tab -> copy/paste GitHub URL)\\n3. Connect to an instance with a GPU (Runtime -> Change runtime type -> select \"GPU\" for hardware accelerator)\\n4. Run this cell to set up dependencies.\\n'"
      ]
     },
     "execution_count": 1,
     "metadata": {},
     "output_type": "execute_result"
    }
   ],
   "source": [
    "\"\"\"\n",
    "You can run either this notebook locally (if you have all the dependencies and a GPU) or on Google Colab.\n",
    "Instructions for setting up Colab are as follows:\n",
    "1. Open a new Python 3 notebook.\n",
    "2. Import this notebook from GitHub (File -> Upload Notebook -> \"GITHUB\" tab -> copy/paste GitHub URL)\n",
    "3. Connect to an instance with a GPU (Runtime -> Change runtime type -> select \"GPU\" for hardware accelerator)\n",
    "4. Run this cell to set up dependencies.\n",
    "\"\"\"\n",
    "# # If you're using Google Colab and not running locally, uncomment and run this cell.\n",
    "# !apt-get install sox libsndfile1 ffmpeg\n",
    "# !pip install wget unidecode\n",
    "# BRANCH = 'r1.0.0rc1'\n",
    "# !python -m pip install git+https://github.com/NVIDIA/NeMo.git@$BRANCH#egg=nemo_toolkit[tts]"
   ]
  },
  {
   "cell_type": "code",
   "execution_count": 2,
   "metadata": {
    "tags": []
   },
   "outputs": [
    {
     "name": "stdout",
     "output_type": "stream",
     "text": [
      "Choose one of the following spectrogram generators:\n",
      "['tacotron2', 'glow_tts']\n",
      "Choose one of the following audio generators:\n",
      "['waveglow', 'squeezewave', 'uniglow', 'melgan', 'hifigan', 'two_stages']\n"
     ]
    }
   ],
   "source": [
    "supported_spec_gen = [\"tacotron2\", \"glow_tts\"]\n",
    "supported_audio_gen = [\"waveglow\", \"squeezewave\", \"uniglow\", \"melgan\", \"hifigan\", \"two_stages\"]\n",
    "\n",
    "print(\"Choose one of the following spectrogram generators:\")\n",
    "print([model for model in supported_spec_gen])\n",
    "spectrogram_generator = \"glow_tts\"\n",
    "print(\"Choose one of the following audio generators:\")\n",
    "print([model for model in supported_audio_gen])\n",
    "audio_generator = \"waveglow\"\n",
    "\n",
    "assert spectrogram_generator in supported_spec_gen\n",
    "assert audio_generator in supported_audio_gen\n",
    "\n",
    "if audio_generator==\"two_stages\":\n",
    "    print(\"Choose one of the following mel-to-spec convertor:\")\n",
    "    # supported_mel2spec = [\"psuedo_inverse\", \"encoder_decoder\"] - No encoder_decoder checkpoint atm\n",
    "    supported_mel2spec = [\"psuedo_inverse\"]\n",
    "    print([model for model in supported_mel2spec])\n",
    "    mel2spec = input()\n",
    "    print(\"Choose one of the following linear spectrogram vocoders:\")\n",
    "    # supported_linear_vocoders = [\"griffin_lim\", \"degli\"]  - No deep_gli checkpoint atm\n",
    "    supported_linear_vocoders = [\"griffin_lim\"]\n",
    "    print([model for model in supported_linear_vocoders])\n",
    "    linvocoder = input()\n",
    "    assert mel2spec in supported_mel2spec\n",
    "    assert linvocoder in supported_linear_vocoders"
   ]
  },
  {
   "cell_type": "markdown",
   "metadata": {},
   "source": [
    "# Load model checkpoints\n",
    "\n",
    "Note: For best quality with Glow TTS, please update the glow tts yaml file with the path to cmudict"
   ]
  },
  {
   "cell_type": "code",
   "execution_count": 3,
   "metadata": {
    "tags": []
   },
   "outputs": [
    {
     "name": "stderr",
     "output_type": "stream",
     "text": [
      "[NeMo W 2021-03-23 20:54:53 nemo_logging:349] /opt/conda/lib/python3.8/site-packages/pydub/utils.py:170: RuntimeWarning: Couldn't find ffmpeg or avconv - defaulting to ffmpeg, but may not work\n",
      "      warn(\"Couldn't find ffmpeg or avconv - defaulting to ffmpeg, but may not work\", RuntimeWarning)\n",
      "    \n",
      "[NeMo W 2021-03-23 20:54:54 experimental:27] Module <class 'nemo.collections.asr.models.clustering_diarizer.ClusteringDiarizer'> is experimental, not ready for production and is not fully supported. Use at your own risk.\n",
      "[NeMo W 2021-03-23 20:54:55 experimental:27] Module <class 'nemo.collections.asr.data.audio_to_text_dali.AudioToCharDALIDataset'> is experimental, not ready for production and is not fully supported. Use at your own risk.\n",
      "[NeMo W 2021-03-23 20:54:57 nemo_logging:349] /opt/conda/lib/python3.8/site-packages/torch/cuda/__init__.py:104: UserWarning: \n",
      "    GeForce GT 710 with CUDA capability sm_35 is not compatible with the current PyTorch installation.\n",
      "    The current PyTorch install supports CUDA capabilities sm_52 sm_60 sm_61 sm_70 sm_75 sm_80 sm_86 compute_86.\n",
      "    If you want to use the GeForce GT 710 GPU with PyTorch, please check the instructions at https://pytorch.org/get-started/locally/\n",
      "    \n",
      "      warnings.warn(incompatible_device_warn.format(device_name, capability, \" \".join(arch_list), device_name))\n",
      "    \n",
      "[NeMo W 2021-03-23 20:54:57 modelPT:146] Please call the ModelPT.setup_test_data() or ModelPT.setup_multiple_test_data() method and provide a valid configuration file to setup the test data loader(s).\n",
      "    Test config : \n",
      "    manifest_filepath: null\n",
      "    sample_rate: 22050\n",
      "    batch_size: 1\n",
      "    max_duration: null\n",
      "    min_duration: 0.1\n",
      "    trim: false\n",
      "    shuffle: false\n",
      "    num_workers: 8\n",
      "    cmu_dict_path: null\n",
      "    \n"
     ]
    },
    {
     "name": "stdout",
     "output_type": "stream",
     "text": [
      "[NeMo I 2021-03-23 20:54:57 features:247] PADDING: 16\n",
      "[NeMo I 2021-03-23 20:54:57 features:264] STFT using torch\n",
      "[NeMo I 2021-03-23 20:54:59 modelPT:376] Model GlowTTSModel was successfully restored from /home/jasoli/nemo/NeMo/examples/tts/nemottsmodels/1.0.0/tts_en_glowtts.nemo.\n",
      "[NeMo I 2021-03-23 20:54:59 cloud:56] Found existing object /root/.cache/torch/NeMo/NeMo_1.0.0rc2/tts_waveglow_88m/90124d3b37eb54a97feac70c86094ff2/tts_waveglow_88m.nemo.\n",
      "[NeMo I 2021-03-23 20:54:59 cloud:62] Re-using file from: /root/.cache/torch/NeMo/NeMo_1.0.0rc2/tts_waveglow_88m/90124d3b37eb54a97feac70c86094ff2/tts_waveglow_88m.nemo\n",
      "[NeMo I 2021-03-23 20:54:59 common:625] Instantiating model from pre-trained checkpoint\n"
     ]
    },
    {
     "name": "stderr",
     "output_type": "stream",
     "text": [
      "[NeMo W 2021-03-23 20:55:01 modelPT:132] Please call the ModelPT.setup_training_data() method and provide a valid configuration file to setup the train data loader.\n",
      "    Train config : \n",
      "    dataset:\n",
      "      _target_: nemo.collections.tts.data.datalayers.AudioDataset\n",
      "      manifest_filepath: /raid/LJSpeech/nvidia_ljspeech_train.json\n",
      "      max_duration: null\n",
      "      min_duration: 0.1\n",
      "      n_segments: 16000\n",
      "      trim: false\n",
      "    dataloader_params:\n",
      "      drop_last: false\n",
      "      shuffle: true\n",
      "      batch_size: 12\n",
      "      num_workers: 4\n",
      "    \n",
      "[NeMo W 2021-03-23 20:55:01 modelPT:139] Please call the ModelPT.setup_validation_data() or ModelPT.setup_multiple_validation_data() method and provide a valid configuration file to setup the validation data loader(s). \n",
      "    Validation config : \n",
      "    dataset:\n",
      "      _target_: nemo.collections.tts.data.datalayers.AudioDataset\n",
      "      manifest_filepath: /raid/LJSpeech/nvidia_ljspeech_val.json\n",
      "      max_duration: null\n",
      "      min_duration: 0.1\n",
      "      n_segments: -1\n",
      "      trim: false\n",
      "    dataloader_params:\n",
      "      drop_last: false\n",
      "      shuffle: false\n",
      "      batch_size: 8\n",
      "      num_workers: 4\n",
      "    \n",
      "[NeMo W 2021-03-23 20:55:01 features:229] Using torch_stft is deprecated and will be removed in 1.1.0. Please set stft_conv and stft_exact_pad to False for FilterbankFeatures and AudioToMelSpectrogramPreprocessor. Please set exact_pad to True as needed.\n"
     ]
    },
    {
     "name": "stdout",
     "output_type": "stream",
     "text": [
      "[NeMo I 2021-03-23 20:55:01 features:247] PADDING: 16\n",
      "[NeMo I 2021-03-23 20:55:01 features:257] STFT using conv\n",
      "[NeMo I 2021-03-23 20:55:03 modelPT:376] Model WaveGlowModel was successfully restored from /root/.cache/torch/NeMo/NeMo_1.0.0rc2/tts_waveglow_88m/90124d3b37eb54a97feac70c86094ff2/tts_waveglow_88m.nemo.\n"
     ]
    }
   ],
   "source": [
    "from omegaconf import OmegaConf, open_dict\n",
    "import torch\n",
    "from nemo.collections.asr.parts import parsers\n",
    "from nemo.collections.tts.models.base import SpectrogramGenerator, Vocoder\n",
    "\n",
    "SAMPLE_RATE = 22050\n",
    "\n",
    "nemopath = \"/home/jasoli/nemo/NeMo/examples/tts/nemottsmodels/1.0.0/\"\n",
    "\n",
    "def load_spectrogram_model():\n",
    "    override_conf = None\n",
    "    if spectrogram_generator == \"tacotron2\":\n",
    "        from nemo.collections.tts.models import Tacotron2Model\n",
    "        pretrained_model = \"tts_en_tacotron2\"\n",
    "        # return SpectrogramGenerator.from_pretrained(pretrained_model, override_config_path=override_conf)\n",
    "        return Tacotron2Model.restore_from(\"/mnt/hdd/experiment_results/temp/1852510_Tacotron_fmax_textnorm/Tacotron2/2021-03-18_18-39-13/checkpoints/Tacotron2.nemo\")\n",
    "    elif spectrogram_generator == \"glow_tts\":\n",
    "        from nemo.collections.tts.models import GlowTTSModel\n",
    "        pretrained_model = \"tts_en_glowtts\"\n",
    "        conf = GlowTTSModel.restore_from(nemopath+pretrained_model+\".nemo\", return_config=True)\n",
    "        conf.parser.cmu_dict_path = \"/home/jasoli/nemo/NeMo/tutorials/tts/cmudict-0.7b\"\n",
    "        return GlowTTSModel.restore_from(nemopath+pretrained_model+\".nemo\", override_config_path=conf)\n",
    "    else:\n",
    "        raise NotImplementedError\n",
    "        \n",
    "def load_vocoder_model():\n",
    "    RequestPseudoInverse = False\n",
    "    TwoStagesModel = False\n",
    "    \n",
    "    if audio_generator == \"waveglow\":\n",
    "        from nemo.collections.tts.models import WaveGlowModel\n",
    "        pretrained_model = \"WaveGlow\"\n",
    "        # return WaveGlowModel.restore_from(nemopath+pretrained_model+\".nemo\")\n",
    "        return WaveGlowModel.from_pretrained(\"tts_waveglow_88m\")\n",
    "    elif audio_generator == \"squeezewave\":\n",
    "        from nemo.collections.tts.models import SqueezeWaveModel\n",
    "        pretrained_model = \"tts_squeezewave\"\n",
    "        return SqueezeWaveModel.restore_from(nemopath+pretrained_model+\".nemo\")\n",
    "    elif audio_generator == \"uniglow\":\n",
    "        from nemo.collections.tts.models import UniGlowModel\n",
    "        pretrained_model = \"tts_uniglow\"\n",
    "        return UniGlowModel.restore_from(nemopath+pretrained_model+\".nemo\")\n",
    "    elif audio_generator == \"melgan\":\n",
    "        from nemo.collections.tts.models import MelGanModel\n",
    "        pretrained_model = \"tts_melgan\"\n",
    "        return MelGanModel.restore_from(\"/mnt/hdd/experiment_results/temp/1852518_MelGAN_fmax/MelGan/2021-03-18_19-08-13/checkpoints/MelGan.nemo\")\n",
    "    elif audio_generator == \"hifigan\":\n",
    "        from nemo.collections.tts.models import HifiGanModel\n",
    "        pretrained_model = \"tts_hifigan\"\n",
    "        return HifiGanModel.restore_from(nemopath+pretrained_model+\".nemo\")\n",
    "    elif audio_generator == \"two_stages\":\n",
    "        from nemo.collections.tts.models import TwoStagesModel\n",
    "        cfg = {'linvocoder':  {'_target_': 'nemo.collections.tts.models.two_stages.GriffinLimModel',\n",
    "                             'cfg': {'n_iters': 64, 'n_fft': NFFT, 'l_hop': 256}},\n",
    "               'mel2spec': {'_target_': 'nemo.collections.tts.models.two_stages.MelPsuedoInverseModel',\n",
    "                           'cfg': {'sampling_rate': SAMPLE_RATE, 'n_fft': NFFT, \n",
    "                                   'mel_fmin': 0, 'mel_fmax': FMAX, 'mel_freq': NMEL}}}\n",
    "        model = TwoStagesModel(cfg)\n",
    "        if mel2spec == \"encoder_decoder\":\n",
    "            from nemo.collections.tts.models.ed_mel2spec import EDMel2SpecModel\n",
    "            pretrained_mel2spec_model = \"EncoderDecoderMelToSpec-22050Hz\"\n",
    "            mel2spec_model = EDMel2SpecModel.from_pretrained(pretrained_mel2spec_model)\n",
    "            model.set_mel_to_spec_model(mel2spec_model)\n",
    "\n",
    "        if linvocoder == \"degli\":\n",
    "            from nemo.collections.tts.models.degli import DegliModel\n",
    "            pretrained_linvocoder_model = \"DeepGriffinLim-22050Hz\"\n",
    "            linvocoder_model = DegliModel.from_pretrained(pretrained_linvocoder_model)\n",
    "            model.set_linear_vocoder(linvocoder_model)\n",
    "            \n",
    "        TwoStagesModel = True\n",
    "\n",
    "    else:\n",
    "        raise NotImplementedError\n",
    "\n",
    "    if not TwoStagesModel:\n",
    "        model = Vocoder.from_pretrained(pretrained_model)\n",
    "    return model\n",
    "\n",
    "spec_gen = load_spectrogram_model().cuda()\n",
    "vocoder = load_vocoder_model().cuda()"
   ]
  },
  {
   "cell_type": "code",
   "execution_count": 4,
   "metadata": {},
   "outputs": [],
   "source": [
    "def infer(spec_gen_model, vocder_model, str_input):\n",
    "    with torch.no_grad():\n",
    "        parsed = spec_gen.parse(str_input)\n",
    "        spectrogram = spec_gen.generate_spectrogram(tokens=parsed)\n",
    "        audio = vocoder.convert_spectrogram_to_audio(spec=spectrogram)\n",
    "    if isinstance(spectrogram, torch.Tensor):\n",
    "        spectrogram = spectrogram.to('cpu').numpy()\n",
    "    if len(spectrogram.shape) == 3:\n",
    "        spectrogram = spectrogram[0]\n",
    "    if isinstance(audio, torch.Tensor):\n",
    "        audio = audio.to('cpu').numpy()\n",
    "    return spectrogram, audio"
   ]
  },
  {
   "cell_type": "code",
   "execution_count": 5,
   "metadata": {},
   "outputs": [
    {
     "ename": "AttributeError",
     "evalue": "WaveGlowModel(\n  (audio_to_melspec_precessor): FilterbankFeatures(\n    (stft): STFTPatch()\n  )\n  (waveglow): WaveGlowModule(\n    (upsample): ConvTranspose1d(80, 80, kernel_size=(1024,), stride=(256,))\n    (wavenet): ModuleList(\n      (0): WaveNet(\n        (in_layers): ModuleList(\n          (0): Conv1d(256, 512, kernel_size=(3,), stride=(1,), padding=(1,))\n          (1): Conv1d(256, 512, kernel_size=(3,), stride=(1,), padding=(2,), dilation=(2,))\n          (2): Conv1d(256, 512, kernel_size=(3,), stride=(1,), padding=(4,), dilation=(4,))\n          (3): Conv1d(256, 512, kernel_size=(3,), stride=(1,), padding=(8,), dilation=(8,))\n          (4): Conv1d(256, 512, kernel_size=(3,), stride=(1,), padding=(16,), dilation=(16,))\n          (5): Conv1d(256, 512, kernel_size=(3,), stride=(1,), padding=(32,), dilation=(32,))\n          (6): Conv1d(256, 512, kernel_size=(3,), stride=(1,), padding=(64,), dilation=(64,))\n          (7): Conv1d(256, 512, kernel_size=(3,), stride=(1,), padding=(128,), dilation=(128,))\n        )\n        (res_skip_layers): ModuleList(\n          (0): Conv1d(256, 512, kernel_size=(1,), stride=(1,))\n          (1): Conv1d(256, 512, kernel_size=(1,), stride=(1,))\n          (2): Conv1d(256, 512, kernel_size=(1,), stride=(1,))\n          (3): Conv1d(256, 512, kernel_size=(1,), stride=(1,))\n          (4): Conv1d(256, 512, kernel_size=(1,), stride=(1,))\n          (5): Conv1d(256, 512, kernel_size=(1,), stride=(1,))\n          (6): Conv1d(256, 512, kernel_size=(1,), stride=(1,))\n          (7): Conv1d(256, 256, kernel_size=(1,), stride=(1,))\n        )\n        (start): Conv1d(4, 256, kernel_size=(1,), stride=(1,))\n        (end): Conv1d(256, 8, kernel_size=(1,), stride=(1,))\n        (cond_layer): Conv1d(640, 4096, kernel_size=(1,), stride=(1,))\n      )\n      (1): WaveNet(\n        (in_layers): ModuleList(\n          (0): Conv1d(256, 512, kernel_size=(3,), stride=(1,), padding=(1,))\n          (1): Conv1d(256, 512, kernel_size=(3,), stride=(1,), padding=(2,), dilation=(2,))\n          (2): Conv1d(256, 512, kernel_size=(3,), stride=(1,), padding=(4,), dilation=(4,))\n          (3): Conv1d(256, 512, kernel_size=(3,), stride=(1,), padding=(8,), dilation=(8,))\n          (4): Conv1d(256, 512, kernel_size=(3,), stride=(1,), padding=(16,), dilation=(16,))\n          (5): Conv1d(256, 512, kernel_size=(3,), stride=(1,), padding=(32,), dilation=(32,))\n          (6): Conv1d(256, 512, kernel_size=(3,), stride=(1,), padding=(64,), dilation=(64,))\n          (7): Conv1d(256, 512, kernel_size=(3,), stride=(1,), padding=(128,), dilation=(128,))\n        )\n        (res_skip_layers): ModuleList(\n          (0): Conv1d(256, 512, kernel_size=(1,), stride=(1,))\n          (1): Conv1d(256, 512, kernel_size=(1,), stride=(1,))\n          (2): Conv1d(256, 512, kernel_size=(1,), stride=(1,))\n          (3): Conv1d(256, 512, kernel_size=(1,), stride=(1,))\n          (4): Conv1d(256, 512, kernel_size=(1,), stride=(1,))\n          (5): Conv1d(256, 512, kernel_size=(1,), stride=(1,))\n          (6): Conv1d(256, 512, kernel_size=(1,), stride=(1,))\n          (7): Conv1d(256, 256, kernel_size=(1,), stride=(1,))\n        )\n        (start): Conv1d(4, 256, kernel_size=(1,), stride=(1,))\n        (end): Conv1d(256, 8, kernel_size=(1,), stride=(1,))\n        (cond_layer): Conv1d(640, 4096, kernel_size=(1,), stride=(1,))\n      )\n      (2): WaveNet(\n        (in_layers): ModuleList(\n          (0): Conv1d(256, 512, kernel_size=(3,), stride=(1,), padding=(1,))\n          (1): Conv1d(256, 512, kernel_size=(3,), stride=(1,), padding=(2,), dilation=(2,))\n          (2): Conv1d(256, 512, kernel_size=(3,), stride=(1,), padding=(4,), dilation=(4,))\n          (3): Conv1d(256, 512, kernel_size=(3,), stride=(1,), padding=(8,), dilation=(8,))\n          (4): Conv1d(256, 512, kernel_size=(3,), stride=(1,), padding=(16,), dilation=(16,))\n          (5): Conv1d(256, 512, kernel_size=(3,), stride=(1,), padding=(32,), dilation=(32,))\n          (6): Conv1d(256, 512, kernel_size=(3,), stride=(1,), padding=(64,), dilation=(64,))\n          (7): Conv1d(256, 512, kernel_size=(3,), stride=(1,), padding=(128,), dilation=(128,))\n        )\n        (res_skip_layers): ModuleList(\n          (0): Conv1d(256, 512, kernel_size=(1,), stride=(1,))\n          (1): Conv1d(256, 512, kernel_size=(1,), stride=(1,))\n          (2): Conv1d(256, 512, kernel_size=(1,), stride=(1,))\n          (3): Conv1d(256, 512, kernel_size=(1,), stride=(1,))\n          (4): Conv1d(256, 512, kernel_size=(1,), stride=(1,))\n          (5): Conv1d(256, 512, kernel_size=(1,), stride=(1,))\n          (6): Conv1d(256, 512, kernel_size=(1,), stride=(1,))\n          (7): Conv1d(256, 256, kernel_size=(1,), stride=(1,))\n        )\n        (start): Conv1d(4, 256, kernel_size=(1,), stride=(1,))\n        (end): Conv1d(256, 8, kernel_size=(1,), stride=(1,))\n        (cond_layer): Conv1d(640, 4096, kernel_size=(1,), stride=(1,))\n      )\n      (3): WaveNet(\n        (in_layers): ModuleList(\n          (0): Conv1d(256, 512, kernel_size=(3,), stride=(1,), padding=(1,))\n          (1): Conv1d(256, 512, kernel_size=(3,), stride=(1,), padding=(2,), dilation=(2,))\n          (2): Conv1d(256, 512, kernel_size=(3,), stride=(1,), padding=(4,), dilation=(4,))\n          (3): Conv1d(256, 512, kernel_size=(3,), stride=(1,), padding=(8,), dilation=(8,))\n          (4): Conv1d(256, 512, kernel_size=(3,), stride=(1,), padding=(16,), dilation=(16,))\n          (5): Conv1d(256, 512, kernel_size=(3,), stride=(1,), padding=(32,), dilation=(32,))\n          (6): Conv1d(256, 512, kernel_size=(3,), stride=(1,), padding=(64,), dilation=(64,))\n          (7): Conv1d(256, 512, kernel_size=(3,), stride=(1,), padding=(128,), dilation=(128,))\n        )\n        (res_skip_layers): ModuleList(\n          (0): Conv1d(256, 512, kernel_size=(1,), stride=(1,))\n          (1): Conv1d(256, 512, kernel_size=(1,), stride=(1,))\n          (2): Conv1d(256, 512, kernel_size=(1,), stride=(1,))\n          (3): Conv1d(256, 512, kernel_size=(1,), stride=(1,))\n          (4): Conv1d(256, 512, kernel_size=(1,), stride=(1,))\n          (5): Conv1d(256, 512, kernel_size=(1,), stride=(1,))\n          (6): Conv1d(256, 512, kernel_size=(1,), stride=(1,))\n          (7): Conv1d(256, 256, kernel_size=(1,), stride=(1,))\n        )\n        (start): Conv1d(4, 256, kernel_size=(1,), stride=(1,))\n        (end): Conv1d(256, 8, kernel_size=(1,), stride=(1,))\n        (cond_layer): Conv1d(640, 4096, kernel_size=(1,), stride=(1,))\n      )\n      (4): WaveNet(\n        (in_layers): ModuleList(\n          (0): Conv1d(256, 512, kernel_size=(3,), stride=(1,), padding=(1,))\n          (1): Conv1d(256, 512, kernel_size=(3,), stride=(1,), padding=(2,), dilation=(2,))\n          (2): Conv1d(256, 512, kernel_size=(3,), stride=(1,), padding=(4,), dilation=(4,))\n          (3): Conv1d(256, 512, kernel_size=(3,), stride=(1,), padding=(8,), dilation=(8,))\n          (4): Conv1d(256, 512, kernel_size=(3,), stride=(1,), padding=(16,), dilation=(16,))\n          (5): Conv1d(256, 512, kernel_size=(3,), stride=(1,), padding=(32,), dilation=(32,))\n          (6): Conv1d(256, 512, kernel_size=(3,), stride=(1,), padding=(64,), dilation=(64,))\n          (7): Conv1d(256, 512, kernel_size=(3,), stride=(1,), padding=(128,), dilation=(128,))\n        )\n        (res_skip_layers): ModuleList(\n          (0): Conv1d(256, 512, kernel_size=(1,), stride=(1,))\n          (1): Conv1d(256, 512, kernel_size=(1,), stride=(1,))\n          (2): Conv1d(256, 512, kernel_size=(1,), stride=(1,))\n          (3): Conv1d(256, 512, kernel_size=(1,), stride=(1,))\n          (4): Conv1d(256, 512, kernel_size=(1,), stride=(1,))\n          (5): Conv1d(256, 512, kernel_size=(1,), stride=(1,))\n          (6): Conv1d(256, 512, kernel_size=(1,), stride=(1,))\n          (7): Conv1d(256, 256, kernel_size=(1,), stride=(1,))\n        )\n        (start): Conv1d(3, 256, kernel_size=(1,), stride=(1,))\n        (end): Conv1d(256, 6, kernel_size=(1,), stride=(1,))\n        (cond_layer): Conv1d(640, 4096, kernel_size=(1,), stride=(1,))\n      )\n      (5): WaveNet(\n        (in_layers): ModuleList(\n          (0): Conv1d(256, 512, kernel_size=(3,), stride=(1,), padding=(1,))\n          (1): Conv1d(256, 512, kernel_size=(3,), stride=(1,), padding=(2,), dilation=(2,))\n          (2): Conv1d(256, 512, kernel_size=(3,), stride=(1,), padding=(4,), dilation=(4,))\n          (3): Conv1d(256, 512, kernel_size=(3,), stride=(1,), padding=(8,), dilation=(8,))\n          (4): Conv1d(256, 512, kernel_size=(3,), stride=(1,), padding=(16,), dilation=(16,))\n          (5): Conv1d(256, 512, kernel_size=(3,), stride=(1,), padding=(32,), dilation=(32,))\n          (6): Conv1d(256, 512, kernel_size=(3,), stride=(1,), padding=(64,), dilation=(64,))\n          (7): Conv1d(256, 512, kernel_size=(3,), stride=(1,), padding=(128,), dilation=(128,))\n        )\n        (res_skip_layers): ModuleList(\n          (0): Conv1d(256, 512, kernel_size=(1,), stride=(1,))\n          (1): Conv1d(256, 512, kernel_size=(1,), stride=(1,))\n          (2): Conv1d(256, 512, kernel_size=(1,), stride=(1,))\n          (3): Conv1d(256, 512, kernel_size=(1,), stride=(1,))\n          (4): Conv1d(256, 512, kernel_size=(1,), stride=(1,))\n          (5): Conv1d(256, 512, kernel_size=(1,), stride=(1,))\n          (6): Conv1d(256, 512, kernel_size=(1,), stride=(1,))\n          (7): Conv1d(256, 256, kernel_size=(1,), stride=(1,))\n        )\n        (start): Conv1d(3, 256, kernel_size=(1,), stride=(1,))\n        (end): Conv1d(256, 6, kernel_size=(1,), stride=(1,))\n        (cond_layer): Conv1d(640, 4096, kernel_size=(1,), stride=(1,))\n      )\n      (6): WaveNet(\n        (in_layers): ModuleList(\n          (0): Conv1d(256, 512, kernel_size=(3,), stride=(1,), padding=(1,))\n          (1): Conv1d(256, 512, kernel_size=(3,), stride=(1,), padding=(2,), dilation=(2,))\n          (2): Conv1d(256, 512, kernel_size=(3,), stride=(1,), padding=(4,), dilation=(4,))\n          (3): Conv1d(256, 512, kernel_size=(3,), stride=(1,), padding=(8,), dilation=(8,))\n          (4): Conv1d(256, 512, kernel_size=(3,), stride=(1,), padding=(16,), dilation=(16,))\n          (5): Conv1d(256, 512, kernel_size=(3,), stride=(1,), padding=(32,), dilation=(32,))\n          (6): Conv1d(256, 512, kernel_size=(3,), stride=(1,), padding=(64,), dilation=(64,))\n          (7): Conv1d(256, 512, kernel_size=(3,), stride=(1,), padding=(128,), dilation=(128,))\n        )\n        (res_skip_layers): ModuleList(\n          (0): Conv1d(256, 512, kernel_size=(1,), stride=(1,))\n          (1): Conv1d(256, 512, kernel_size=(1,), stride=(1,))\n          (2): Conv1d(256, 512, kernel_size=(1,), stride=(1,))\n          (3): Conv1d(256, 512, kernel_size=(1,), stride=(1,))\n          (4): Conv1d(256, 512, kernel_size=(1,), stride=(1,))\n          (5): Conv1d(256, 512, kernel_size=(1,), stride=(1,))\n          (6): Conv1d(256, 512, kernel_size=(1,), stride=(1,))\n          (7): Conv1d(256, 256, kernel_size=(1,), stride=(1,))\n        )\n        (start): Conv1d(3, 256, kernel_size=(1,), stride=(1,))\n        (end): Conv1d(256, 6, kernel_size=(1,), stride=(1,))\n        (cond_layer): Conv1d(640, 4096, kernel_size=(1,), stride=(1,))\n      )\n      (7): WaveNet(\n        (in_layers): ModuleList(\n          (0): Conv1d(256, 512, kernel_size=(3,), stride=(1,), padding=(1,))\n          (1): Conv1d(256, 512, kernel_size=(3,), stride=(1,), padding=(2,), dilation=(2,))\n          (2): Conv1d(256, 512, kernel_size=(3,), stride=(1,), padding=(4,), dilation=(4,))\n          (3): Conv1d(256, 512, kernel_size=(3,), stride=(1,), padding=(8,), dilation=(8,))\n          (4): Conv1d(256, 512, kernel_size=(3,), stride=(1,), padding=(16,), dilation=(16,))\n          (5): Conv1d(256, 512, kernel_size=(3,), stride=(1,), padding=(32,), dilation=(32,))\n          (6): Conv1d(256, 512, kernel_size=(3,), stride=(1,), padding=(64,), dilation=(64,))\n          (7): Conv1d(256, 512, kernel_size=(3,), stride=(1,), padding=(128,), dilation=(128,))\n        )\n        (res_skip_layers): ModuleList(\n          (0): Conv1d(256, 512, kernel_size=(1,), stride=(1,))\n          (1): Conv1d(256, 512, kernel_size=(1,), stride=(1,))\n          (2): Conv1d(256, 512, kernel_size=(1,), stride=(1,))\n          (3): Conv1d(256, 512, kernel_size=(1,), stride=(1,))\n          (4): Conv1d(256, 512, kernel_size=(1,), stride=(1,))\n          (5): Conv1d(256, 512, kernel_size=(1,), stride=(1,))\n          (6): Conv1d(256, 512, kernel_size=(1,), stride=(1,))\n          (7): Conv1d(256, 256, kernel_size=(1,), stride=(1,))\n        )\n        (start): Conv1d(3, 256, kernel_size=(1,), stride=(1,))\n        (end): Conv1d(256, 6, kernel_size=(1,), stride=(1,))\n        (cond_layer): Conv1d(640, 4096, kernel_size=(1,), stride=(1,))\n      )\n      (8): WaveNet(\n        (in_layers): ModuleList(\n          (0): Conv1d(256, 512, kernel_size=(3,), stride=(1,), padding=(1,))\n          (1): Conv1d(256, 512, kernel_size=(3,), stride=(1,), padding=(2,), dilation=(2,))\n          (2): Conv1d(256, 512, kernel_size=(3,), stride=(1,), padding=(4,), dilation=(4,))\n          (3): Conv1d(256, 512, kernel_size=(3,), stride=(1,), padding=(8,), dilation=(8,))\n          (4): Conv1d(256, 512, kernel_size=(3,), stride=(1,), padding=(16,), dilation=(16,))\n          (5): Conv1d(256, 512, kernel_size=(3,), stride=(1,), padding=(32,), dilation=(32,))\n          (6): Conv1d(256, 512, kernel_size=(3,), stride=(1,), padding=(64,), dilation=(64,))\n          (7): Conv1d(256, 512, kernel_size=(3,), stride=(1,), padding=(128,), dilation=(128,))\n        )\n        (res_skip_layers): ModuleList(\n          (0): Conv1d(256, 512, kernel_size=(1,), stride=(1,))\n          (1): Conv1d(256, 512, kernel_size=(1,), stride=(1,))\n          (2): Conv1d(256, 512, kernel_size=(1,), stride=(1,))\n          (3): Conv1d(256, 512, kernel_size=(1,), stride=(1,))\n          (4): Conv1d(256, 512, kernel_size=(1,), stride=(1,))\n          (5): Conv1d(256, 512, kernel_size=(1,), stride=(1,))\n          (6): Conv1d(256, 512, kernel_size=(1,), stride=(1,))\n          (7): Conv1d(256, 256, kernel_size=(1,), stride=(1,))\n        )\n        (start): Conv1d(2, 256, kernel_size=(1,), stride=(1,))\n        (end): Conv1d(256, 4, kernel_size=(1,), stride=(1,))\n        (cond_layer): Conv1d(640, 4096, kernel_size=(1,), stride=(1,))\n      )\n      (9): WaveNet(\n        (in_layers): ModuleList(\n          (0): Conv1d(256, 512, kernel_size=(3,), stride=(1,), padding=(1,))\n          (1): Conv1d(256, 512, kernel_size=(3,), stride=(1,), padding=(2,), dilation=(2,))\n          (2): Conv1d(256, 512, kernel_size=(3,), stride=(1,), padding=(4,), dilation=(4,))\n          (3): Conv1d(256, 512, kernel_size=(3,), stride=(1,), padding=(8,), dilation=(8,))\n          (4): Conv1d(256, 512, kernel_size=(3,), stride=(1,), padding=(16,), dilation=(16,))\n          (5): Conv1d(256, 512, kernel_size=(3,), stride=(1,), padding=(32,), dilation=(32,))\n          (6): Conv1d(256, 512, kernel_size=(3,), stride=(1,), padding=(64,), dilation=(64,))\n          (7): Conv1d(256, 512, kernel_size=(3,), stride=(1,), padding=(128,), dilation=(128,))\n        )\n        (res_skip_layers): ModuleList(\n          (0): Conv1d(256, 512, kernel_size=(1,), stride=(1,))\n          (1): Conv1d(256, 512, kernel_size=(1,), stride=(1,))\n          (2): Conv1d(256, 512, kernel_size=(1,), stride=(1,))\n          (3): Conv1d(256, 512, kernel_size=(1,), stride=(1,))\n          (4): Conv1d(256, 512, kernel_size=(1,), stride=(1,))\n          (5): Conv1d(256, 512, kernel_size=(1,), stride=(1,))\n          (6): Conv1d(256, 512, kernel_size=(1,), stride=(1,))\n          (7): Conv1d(256, 256, kernel_size=(1,), stride=(1,))\n        )\n        (start): Conv1d(2, 256, kernel_size=(1,), stride=(1,))\n        (end): Conv1d(256, 4, kernel_size=(1,), stride=(1,))\n        (cond_layer): Conv1d(640, 4096, kernel_size=(1,), stride=(1,))\n      )\n      (10): WaveNet(\n        (in_layers): ModuleList(\n          (0): Conv1d(256, 512, kernel_size=(3,), stride=(1,), padding=(1,))\n          (1): Conv1d(256, 512, kernel_size=(3,), stride=(1,), padding=(2,), dilation=(2,))\n          (2): Conv1d(256, 512, kernel_size=(3,), stride=(1,), padding=(4,), dilation=(4,))\n          (3): Conv1d(256, 512, kernel_size=(3,), stride=(1,), padding=(8,), dilation=(8,))\n          (4): Conv1d(256, 512, kernel_size=(3,), stride=(1,), padding=(16,), dilation=(16,))\n          (5): Conv1d(256, 512, kernel_size=(3,), stride=(1,), padding=(32,), dilation=(32,))\n          (6): Conv1d(256, 512, kernel_size=(3,), stride=(1,), padding=(64,), dilation=(64,))\n          (7): Conv1d(256, 512, kernel_size=(3,), stride=(1,), padding=(128,), dilation=(128,))\n        )\n        (res_skip_layers): ModuleList(\n          (0): Conv1d(256, 512, kernel_size=(1,), stride=(1,))\n          (1): Conv1d(256, 512, kernel_size=(1,), stride=(1,))\n          (2): Conv1d(256, 512, kernel_size=(1,), stride=(1,))\n          (3): Conv1d(256, 512, kernel_size=(1,), stride=(1,))\n          (4): Conv1d(256, 512, kernel_size=(1,), stride=(1,))\n          (5): Conv1d(256, 512, kernel_size=(1,), stride=(1,))\n          (6): Conv1d(256, 512, kernel_size=(1,), stride=(1,))\n          (7): Conv1d(256, 256, kernel_size=(1,), stride=(1,))\n        )\n        (start): Conv1d(2, 256, kernel_size=(1,), stride=(1,))\n        (end): Conv1d(256, 4, kernel_size=(1,), stride=(1,))\n        (cond_layer): Conv1d(640, 4096, kernel_size=(1,), stride=(1,))\n      )\n      (11): WaveNet(\n        (in_layers): ModuleList(\n          (0): Conv1d(256, 512, kernel_size=(3,), stride=(1,), padding=(1,))\n          (1): Conv1d(256, 512, kernel_size=(3,), stride=(1,), padding=(2,), dilation=(2,))\n          (2): Conv1d(256, 512, kernel_size=(3,), stride=(1,), padding=(4,), dilation=(4,))\n          (3): Conv1d(256, 512, kernel_size=(3,), stride=(1,), padding=(8,), dilation=(8,))\n          (4): Conv1d(256, 512, kernel_size=(3,), stride=(1,), padding=(16,), dilation=(16,))\n          (5): Conv1d(256, 512, kernel_size=(3,), stride=(1,), padding=(32,), dilation=(32,))\n          (6): Conv1d(256, 512, kernel_size=(3,), stride=(1,), padding=(64,), dilation=(64,))\n          (7): Conv1d(256, 512, kernel_size=(3,), stride=(1,), padding=(128,), dilation=(128,))\n        )\n        (res_skip_layers): ModuleList(\n          (0): Conv1d(256, 512, kernel_size=(1,), stride=(1,))\n          (1): Conv1d(256, 512, kernel_size=(1,), stride=(1,))\n          (2): Conv1d(256, 512, kernel_size=(1,), stride=(1,))\n          (3): Conv1d(256, 512, kernel_size=(1,), stride=(1,))\n          (4): Conv1d(256, 512, kernel_size=(1,), stride=(1,))\n          (5): Conv1d(256, 512, kernel_size=(1,), stride=(1,))\n          (6): Conv1d(256, 512, kernel_size=(1,), stride=(1,))\n          (7): Conv1d(256, 256, kernel_size=(1,), stride=(1,))\n        )\n        (start): Conv1d(2, 256, kernel_size=(1,), stride=(1,))\n        (end): Conv1d(256, 4, kernel_size=(1,), stride=(1,))\n        (cond_layer): Conv1d(640, 4096, kernel_size=(1,), stride=(1,))\n      )\n    )\n    (convinv): ModuleList(\n      (0): Invertible1x1Conv(\n        (conv): Conv1d(8, 8, kernel_size=(1,), stride=(1,), bias=False)\n        (inv_conv): Conv1d(8, 8, kernel_size=(1,), stride=(1,), bias=False)\n      )\n      (1): Invertible1x1Conv(\n        (conv): Conv1d(8, 8, kernel_size=(1,), stride=(1,), bias=False)\n        (inv_conv): Conv1d(8, 8, kernel_size=(1,), stride=(1,), bias=False)\n      )\n      (2): Invertible1x1Conv(\n        (conv): Conv1d(8, 8, kernel_size=(1,), stride=(1,), bias=False)\n        (inv_conv): Conv1d(8, 8, kernel_size=(1,), stride=(1,), bias=False)\n      )\n      (3): Invertible1x1Conv(\n        (conv): Conv1d(8, 8, kernel_size=(1,), stride=(1,), bias=False)\n        (inv_conv): Conv1d(8, 8, kernel_size=(1,), stride=(1,), bias=False)\n      )\n      (4): Invertible1x1Conv(\n        (conv): Conv1d(6, 6, kernel_size=(1,), stride=(1,), bias=False)\n        (inv_conv): Conv1d(6, 6, kernel_size=(1,), stride=(1,), bias=False)\n      )\n      (5): Invertible1x1Conv(\n        (conv): Conv1d(6, 6, kernel_size=(1,), stride=(1,), bias=False)\n        (inv_conv): Conv1d(6, 6, kernel_size=(1,), stride=(1,), bias=False)\n      )\n      (6): Invertible1x1Conv(\n        (conv): Conv1d(6, 6, kernel_size=(1,), stride=(1,), bias=False)\n        (inv_conv): Conv1d(6, 6, kernel_size=(1,), stride=(1,), bias=False)\n      )\n      (7): Invertible1x1Conv(\n        (conv): Conv1d(6, 6, kernel_size=(1,), stride=(1,), bias=False)\n        (inv_conv): Conv1d(6, 6, kernel_size=(1,), stride=(1,), bias=False)\n      )\n      (8): Invertible1x1Conv(\n        (conv): Conv1d(4, 4, kernel_size=(1,), stride=(1,), bias=False)\n        (inv_conv): Conv1d(4, 4, kernel_size=(1,), stride=(1,), bias=False)\n      )\n      (9): Invertible1x1Conv(\n        (conv): Conv1d(4, 4, kernel_size=(1,), stride=(1,), bias=False)\n        (inv_conv): Conv1d(4, 4, kernel_size=(1,), stride=(1,), bias=False)\n      )\n      (10): Invertible1x1Conv(\n        (conv): Conv1d(4, 4, kernel_size=(1,), stride=(1,), bias=False)\n        (inv_conv): Conv1d(4, 4, kernel_size=(1,), stride=(1,), bias=False)\n      )\n      (11): Invertible1x1Conv(\n        (conv): Conv1d(4, 4, kernel_size=(1,), stride=(1,), bias=False)\n        (inv_conv): Conv1d(4, 4, kernel_size=(1,), stride=(1,), bias=False)\n      )\n    )\n  )\n  (loss): WaveGlowLoss()\n) could not find an audio_to_melspec_precessor. GlowVocoder requires child class to haveaudio_to_melspec_precessor defined to obtain stft parameters.",
     "output_type": "error",
     "traceback": [
      "\u001b[0;31m---------------------------------------------------------------------------\u001b[0m",
      "\u001b[0;31mModuleAttributeError\u001b[0m                      Traceback (most recent call last)",
      "\u001b[0;32m/home/jasoli/nemo/NeMo/nemo/collections/tts/models/base.py\u001b[0m in \u001b[0;36mcheck_children_attributes\u001b[0;34m(self)\u001b[0m\n\u001b[1;32m    137\u001b[0m                 \u001b[0mself\u001b[0m\u001b[0;34m.\u001b[0m\u001b[0mwin_length\u001b[0m \u001b[0;34m=\u001b[0m \u001b[0mself\u001b[0m\u001b[0;34m.\u001b[0m\u001b[0maudio_to_melspec_precessor\u001b[0m\u001b[0;34m.\u001b[0m\u001b[0mwin_length\u001b[0m\u001b[0;34m\u001b[0m\u001b[0;34m\u001b[0m\u001b[0m\n\u001b[0;32m--> 138\u001b[0;31m                 \u001b[0mself\u001b[0m\u001b[0;34m.\u001b[0m\u001b[0mwindow\u001b[0m \u001b[0;34m=\u001b[0m \u001b[0mself\u001b[0m\u001b[0;34m.\u001b[0m\u001b[0maudio_to_melspec_precessor\u001b[0m\u001b[0;34m.\u001b[0m\u001b[0mwindow\u001b[0m\u001b[0;34m\u001b[0m\u001b[0;34m\u001b[0m\u001b[0m\n\u001b[0m\u001b[1;32m    139\u001b[0m                 \u001b[0mself\u001b[0m\u001b[0;34m.\u001b[0m\u001b[0mn_mel\u001b[0m \u001b[0;34m=\u001b[0m \u001b[0mself\u001b[0m\u001b[0;34m.\u001b[0m\u001b[0maudio_to_melspec_precessor\u001b[0m\u001b[0;34m.\u001b[0m\u001b[0mnfilt\u001b[0m\u001b[0;34m\u001b[0m\u001b[0;34m\u001b[0m\u001b[0m\n",
      "\u001b[0;32m/opt/conda/lib/python3.8/site-packages/torch/nn/modules/module.py\u001b[0m in \u001b[0;36m__getattr__\u001b[0;34m(self, name)\u001b[0m\n\u001b[1;32m    938\u001b[0m                 \u001b[0;32mreturn\u001b[0m \u001b[0mmodules\u001b[0m\u001b[0;34m[\u001b[0m\u001b[0mname\u001b[0m\u001b[0;34m]\u001b[0m\u001b[0;34m\u001b[0m\u001b[0;34m\u001b[0m\u001b[0m\n\u001b[0;32m--> 939\u001b[0;31m         raise ModuleAttributeError(\"'{}' object has no attribute '{}'\".format(\n\u001b[0m\u001b[1;32m    940\u001b[0m             type(self).__name__, name))\n",
      "\u001b[0;31mModuleAttributeError\u001b[0m: 'FilterbankFeatures' object has no attribute 'window'",
      "\nDuring handling of the above exception, another exception occurred:\n",
      "\u001b[0;31mAttributeError\u001b[0m                            Traceback (most recent call last)",
      "\u001b[0;32m<ipython-input-5-ad40c3295212>\u001b[0m in \u001b[0;36m<module>\u001b[0;34m\u001b[0m\n\u001b[1;32m      1\u001b[0m \u001b[0mtext_to_generate\u001b[0m \u001b[0;34m=\u001b[0m \u001b[0;34m\"Input what you want the model to say.\"\u001b[0m\u001b[0;34m\u001b[0m\u001b[0;34m\u001b[0m\u001b[0m\n\u001b[0;32m----> 2\u001b[0;31m \u001b[0mspec\u001b[0m\u001b[0;34m,\u001b[0m \u001b[0maudio\u001b[0m \u001b[0;34m=\u001b[0m \u001b[0minfer\u001b[0m\u001b[0;34m(\u001b[0m\u001b[0mspec_gen\u001b[0m\u001b[0;34m,\u001b[0m \u001b[0mvocoder\u001b[0m\u001b[0;34m,\u001b[0m \u001b[0mtext_to_generate\u001b[0m\u001b[0;34m)\u001b[0m\u001b[0;34m\u001b[0m\u001b[0;34m\u001b[0m\u001b[0m\n\u001b[0m",
      "\u001b[0;32m<ipython-input-4-1ee60fc6958b>\u001b[0m in \u001b[0;36minfer\u001b[0;34m(spec_gen_model, vocder_model, str_input)\u001b[0m\n\u001b[1;32m      3\u001b[0m         \u001b[0mparsed\u001b[0m \u001b[0;34m=\u001b[0m \u001b[0mspec_gen\u001b[0m\u001b[0;34m.\u001b[0m\u001b[0mparse\u001b[0m\u001b[0;34m(\u001b[0m\u001b[0mstr_input\u001b[0m\u001b[0;34m)\u001b[0m\u001b[0;34m\u001b[0m\u001b[0;34m\u001b[0m\u001b[0m\n\u001b[1;32m      4\u001b[0m         \u001b[0mspectrogram\u001b[0m \u001b[0;34m=\u001b[0m \u001b[0mspec_gen\u001b[0m\u001b[0;34m.\u001b[0m\u001b[0mgenerate_spectrogram\u001b[0m\u001b[0;34m(\u001b[0m\u001b[0mtokens\u001b[0m\u001b[0;34m=\u001b[0m\u001b[0mparsed\u001b[0m\u001b[0;34m)\u001b[0m\u001b[0;34m\u001b[0m\u001b[0;34m\u001b[0m\u001b[0m\n\u001b[0;32m----> 5\u001b[0;31m         \u001b[0maudio\u001b[0m \u001b[0;34m=\u001b[0m \u001b[0mvocoder\u001b[0m\u001b[0;34m.\u001b[0m\u001b[0mconvert_spectrogram_to_audio\u001b[0m\u001b[0;34m(\u001b[0m\u001b[0mspec\u001b[0m\u001b[0;34m=\u001b[0m\u001b[0mspectrogram\u001b[0m\u001b[0;34m)\u001b[0m\u001b[0;34m\u001b[0m\u001b[0;34m\u001b[0m\u001b[0m\n\u001b[0m\u001b[1;32m      6\u001b[0m     \u001b[0;32mif\u001b[0m \u001b[0misinstance\u001b[0m\u001b[0;34m(\u001b[0m\u001b[0mspectrogram\u001b[0m\u001b[0;34m,\u001b[0m \u001b[0mtorch\u001b[0m\u001b[0;34m.\u001b[0m\u001b[0mTensor\u001b[0m\u001b[0;34m)\u001b[0m\u001b[0;34m:\u001b[0m\u001b[0;34m\u001b[0m\u001b[0;34m\u001b[0m\u001b[0m\n\u001b[1;32m      7\u001b[0m         \u001b[0mspectrogram\u001b[0m \u001b[0;34m=\u001b[0m \u001b[0mspectrogram\u001b[0m\u001b[0;34m.\u001b[0m\u001b[0mto\u001b[0m\u001b[0;34m(\u001b[0m\u001b[0;34m'cpu'\u001b[0m\u001b[0;34m)\u001b[0m\u001b[0;34m.\u001b[0m\u001b[0mnumpy\u001b[0m\u001b[0;34m(\u001b[0m\u001b[0;34m)\u001b[0m\u001b[0;34m\u001b[0m\u001b[0;34m\u001b[0m\u001b[0m\n",
      "\u001b[0;32m/home/jasoli/nemo/NeMo/nemo/core/classes/common.py\u001b[0m in \u001b[0;36m__call__\u001b[0;34m(self, wrapped, instance, args, kwargs)\u001b[0m\n\u001b[1;32m    739\u001b[0m \u001b[0;34m\u001b[0m\u001b[0m\n\u001b[1;32m    740\u001b[0m         \u001b[0;31m# Call the method - this can be forward, or any other callable method\u001b[0m\u001b[0;34m\u001b[0m\u001b[0;34m\u001b[0m\u001b[0;34m\u001b[0m\u001b[0m\n\u001b[0;32m--> 741\u001b[0;31m         \u001b[0moutputs\u001b[0m \u001b[0;34m=\u001b[0m \u001b[0mwrapped\u001b[0m\u001b[0;34m(\u001b[0m\u001b[0;34m*\u001b[0m\u001b[0margs\u001b[0m\u001b[0;34m,\u001b[0m \u001b[0;34m**\u001b[0m\u001b[0mkwargs\u001b[0m\u001b[0;34m)\u001b[0m\u001b[0;34m\u001b[0m\u001b[0;34m\u001b[0m\u001b[0m\n\u001b[0m\u001b[1;32m    742\u001b[0m \u001b[0;34m\u001b[0m\u001b[0m\n\u001b[1;32m    743\u001b[0m         instance._attach_and_validate_output_types(\n",
      "\u001b[0;32m/home/jasoli/nemo/NeMo/nemo/collections/tts/models/waveglow.py\u001b[0m in \u001b[0;36mconvert_spectrogram_to_audio\u001b[0;34m(self, spec, sigma, denoise, denoiser_strength)\u001b[0m\n\u001b[1;32m    136\u001b[0m             )\n\u001b[1;32m    137\u001b[0m             \u001b[0;32mif\u001b[0m \u001b[0mdenoise\u001b[0m\u001b[0;34m:\u001b[0m\u001b[0;34m\u001b[0m\u001b[0;34m\u001b[0m\u001b[0m\n\u001b[0;32m--> 138\u001b[0;31m                 \u001b[0maudio\u001b[0m \u001b[0;34m=\u001b[0m \u001b[0mself\u001b[0m\u001b[0;34m.\u001b[0m\u001b[0mdenoise\u001b[0m\u001b[0;34m(\u001b[0m\u001b[0maudio\u001b[0m\u001b[0;34m=\u001b[0m\u001b[0maudio\u001b[0m\u001b[0;34m,\u001b[0m \u001b[0mstrength\u001b[0m\u001b[0;34m=\u001b[0m\u001b[0mdenoiser_strength\u001b[0m\u001b[0;34m)\u001b[0m\u001b[0;34m\u001b[0m\u001b[0;34m\u001b[0m\u001b[0m\n\u001b[0m\u001b[1;32m    139\u001b[0m \u001b[0;34m\u001b[0m\u001b[0m\n\u001b[1;32m    140\u001b[0m         \u001b[0;32mreturn\u001b[0m \u001b[0maudio\u001b[0m\u001b[0;34m\u001b[0m\u001b[0;34m\u001b[0m\u001b[0m\n",
      "\u001b[0;32m/home/jasoli/nemo/NeMo/nemo/core/classes/common.py\u001b[0m in \u001b[0;36m__call__\u001b[0;34m(self, wrapped, instance, args, kwargs)\u001b[0m\n\u001b[1;32m    739\u001b[0m \u001b[0;34m\u001b[0m\u001b[0m\n\u001b[1;32m    740\u001b[0m         \u001b[0;31m# Call the method - this can be forward, or any other callable method\u001b[0m\u001b[0;34m\u001b[0m\u001b[0;34m\u001b[0m\u001b[0;34m\u001b[0m\u001b[0m\n\u001b[0;32m--> 741\u001b[0;31m         \u001b[0moutputs\u001b[0m \u001b[0;34m=\u001b[0m \u001b[0mwrapped\u001b[0m\u001b[0;34m(\u001b[0m\u001b[0;34m*\u001b[0m\u001b[0margs\u001b[0m\u001b[0;34m,\u001b[0m \u001b[0;34m**\u001b[0m\u001b[0mkwargs\u001b[0m\u001b[0;34m)\u001b[0m\u001b[0;34m\u001b[0m\u001b[0;34m\u001b[0m\u001b[0m\n\u001b[0m\u001b[1;32m    742\u001b[0m \u001b[0;34m\u001b[0m\u001b[0m\n\u001b[1;32m    743\u001b[0m         instance._attach_and_validate_output_types(\n",
      "\u001b[0;32m/home/jasoli/nemo/NeMo/nemo/collections/tts/models/base.py\u001b[0m in \u001b[0;36mdenoise\u001b[0;34m(self, audio, strength)\u001b[0m\n\u001b[1;32m    168\u001b[0m     )\n\u001b[1;32m    169\u001b[0m     \u001b[0;32mdef\u001b[0m \u001b[0mdenoise\u001b[0m\u001b[0;34m(\u001b[0m\u001b[0mself\u001b[0m\u001b[0;34m,\u001b[0m \u001b[0maudio\u001b[0m\u001b[0;34m:\u001b[0m \u001b[0;34m'torch.tensor'\u001b[0m\u001b[0;34m,\u001b[0m \u001b[0mstrength\u001b[0m\u001b[0;34m:\u001b[0m \u001b[0mfloat\u001b[0m \u001b[0;34m=\u001b[0m \u001b[0;36m0.01\u001b[0m\u001b[0;34m)\u001b[0m\u001b[0;34m:\u001b[0m\u001b[0;34m\u001b[0m\u001b[0;34m\u001b[0m\u001b[0m\n\u001b[0;32m--> 170\u001b[0;31m         \u001b[0mself\u001b[0m\u001b[0;34m.\u001b[0m\u001b[0mcheck_children_attributes\u001b[0m\u001b[0;34m(\u001b[0m\u001b[0;34m)\u001b[0m  \u001b[0;31m# Ensure self.n_mel and self.stft are defined\u001b[0m\u001b[0;34m\u001b[0m\u001b[0;34m\u001b[0m\u001b[0m\n\u001b[0m\u001b[1;32m    171\u001b[0m \u001b[0;34m\u001b[0m\u001b[0m\n\u001b[1;32m    172\u001b[0m         \u001b[0;32mif\u001b[0m \u001b[0mself\u001b[0m\u001b[0;34m.\u001b[0m\u001b[0mbias_spect\u001b[0m \u001b[0;32mis\u001b[0m \u001b[0;32mNone\u001b[0m\u001b[0;34m:\u001b[0m\u001b[0;34m\u001b[0m\u001b[0;34m\u001b[0m\u001b[0m\n",
      "\u001b[0;32m/home/jasoli/nemo/NeMo/nemo/collections/tts/models/base.py\u001b[0m in \u001b[0;36mcheck_children_attributes\u001b[0;34m(self)\u001b[0m\n\u001b[1;32m    140\u001b[0m \u001b[0;34m\u001b[0m\u001b[0m\n\u001b[1;32m    141\u001b[0m             \u001b[0;32mexcept\u001b[0m \u001b[0mAttributeError\u001b[0m\u001b[0;34m:\u001b[0m\u001b[0;34m\u001b[0m\u001b[0;34m\u001b[0m\u001b[0m\n\u001b[0;32m--> 142\u001b[0;31m                 raise AttributeError(\n\u001b[0m\u001b[1;32m    143\u001b[0m                     \u001b[0;34mf\"{self} could not find an audio_to_melspec_precessor. GlowVocoder requires child class to have\"\u001b[0m\u001b[0;34m\u001b[0m\u001b[0;34m\u001b[0m\u001b[0m\n\u001b[1;32m    144\u001b[0m                     \u001b[0;34m\"audio_to_melspec_precessor defined to obtain stft parameters.\"\u001b[0m\u001b[0;34m\u001b[0m\u001b[0;34m\u001b[0m\u001b[0m\n",
      "\u001b[0;31mAttributeError\u001b[0m: WaveGlowModel(\n  (audio_to_melspec_precessor): FilterbankFeatures(\n    (stft): STFTPatch()\n  )\n  (waveglow): WaveGlowModule(\n    (upsample): ConvTranspose1d(80, 80, kernel_size=(1024,), stride=(256,))\n    (wavenet): ModuleList(\n      (0): WaveNet(\n        (in_layers): ModuleList(\n          (0): Conv1d(256, 512, kernel_size=(3,), stride=(1,), padding=(1,))\n          (1): Conv1d(256, 512, kernel_size=(3,), stride=(1,), padding=(2,), dilation=(2,))\n          (2): Conv1d(256, 512, kernel_size=(3,), stride=(1,), padding=(4,), dilation=(4,))\n          (3): Conv1d(256, 512, kernel_size=(3,), stride=(1,), padding=(8,), dilation=(8,))\n          (4): Conv1d(256, 512, kernel_size=(3,), stride=(1,), padding=(16,), dilation=(16,))\n          (5): Conv1d(256, 512, kernel_size=(3,), stride=(1,), padding=(32,), dilation=(32,))\n          (6): Conv1d(256, 512, kernel_size=(3,), stride=(1,), padding=(64,), dilation=(64,))\n          (7): Conv1d(256, 512, kernel_size=(3,), stride=(1,), padding=(128,), dilation=(128,))\n        )\n        (res_skip_layers): ModuleList(\n          (0): Conv1d(256, 512, kernel_size=(1,), stride=(1,))\n          (1): Conv1d(256, 512, kernel_size=(1,), stride=(1,))\n          (2): Conv1d(256, 512, kernel_size=(1,), stride=(1,))\n          (3): Conv1d(256, 512, kernel_size=(1,), stride=(1,))\n          (4): Conv1d(256, 512, kernel_size=(1,), stride=(1,))\n          (5): Conv1d(256, 512, kernel_size=(1,), stride=(1,))\n          (6): Conv1d(256, 512, kernel_size=(1,), stride=(1,))\n          (7): Conv1d(256, 256, kernel_size=(1,), stride=(1,))\n        )\n        (start): Conv1d(4, 256, kernel_size=(1,), stride=(1,))\n        (end): Conv1d(256, 8, kernel_size=(1,), stride=(1,))\n        (cond_layer): Conv1d(640, 4096, kernel_size=(1,), stride=(1,))\n      )\n      (1): WaveNet(\n        (in_layers): ModuleList(\n          (0): Conv1d(256, 512, kernel_size=(3,), stride=(1,), padding=(1,))\n          (1): Conv1d(256, 512, kernel_size=(3,), stride=(1,), padding=(2,), dilation=(2,))\n          (2): Conv1d(256, 512, kernel_size=(3,), stride=(1,), padding=(4,), dilation=(4,))\n          (3): Conv1d(256, 512, kernel_size=(3,), stride=(1,), padding=(8,), dilation=(8,))\n          (4): Conv1d(256, 512, kernel_size=(3,), stride=(1,), padding=(16,), dilation=(16,))\n          (5): Conv1d(256, 512, kernel_size=(3,), stride=(1,), padding=(32,), dilation=(32,))\n          (6): Conv1d(256, 512, kernel_size=(3,), stride=(1,), padding=(64,), dilation=(64,))\n          (7): Conv1d(256, 512, kernel_size=(3,), stride=(1,), padding=(128,), dilation=(128,))\n        )\n        (res_skip_layers): ModuleList(\n          (0): Conv1d(256, 512, kernel_size=(1,), stride=(1,))\n          (1): Conv1d(256, 512, kernel_size=(1,), stride=(1,))\n          (2): Conv1d(256, 512, kernel_size=(1,), stride=(1,))\n          (3): Conv1d(256, 512, kernel_size=(1,), stride=(1,))\n          (4): Conv1d(256, 512, kernel_size=(1,), stride=(1,))\n          (5): Conv1d(256, 512, kernel_size=(1,), stride=(1,))\n          (6): Conv1d(256, 512, kernel_size=(1,), stride=(1,))\n          (7): Conv1d(256, 256, kernel_size=(1,), stride=(1,))\n        )\n        (start): Conv1d(4, 256, kernel_size=(1,), stride=(1,))\n        (end): Conv1d(256, 8, kernel_size=(1,), stride=(1,))\n        (cond_layer): Conv1d(640, 4096, kernel_size=(1,), stride=(1,))\n      )\n      (2): WaveNet(\n        (in_layers): ModuleList(\n          (0): Conv1d(256, 512, kernel_size=(3,), stride=(1,), padding=(1,))\n          (1): Conv1d(256, 512, kernel_size=(3,), stride=(1,), padding=(2,), dilation=(2,))\n          (2): Conv1d(256, 512, kernel_size=(3,), stride=(1,), padding=(4,), dilation=(4,))\n          (3): Conv1d(256, 512, kernel_size=(3,), stride=(1,), padding=(8,), dilation=(8,))\n          (4): Conv1d(256, 512, kernel_size=(3,), stride=(1,), padding=(16,), dilation=(16,))\n          (5): Conv1d(256, 512, kernel_size=(3,), stride=(1,), padding=(32,), dilation=(32,))\n          (6): Conv1d(256, 512, kernel_size=(3,), stride=(1,), padding=(64,), dilation=(64,))\n          (7): Conv1d(256, 512, kernel_size=(3,), stride=(1,), padding=(128,), dilation=(128,))\n        )\n        (res_skip_layers): ModuleList(\n          (0): Conv1d(256, 512, kernel_size=(1,), stride=(1,))\n          (1): Conv1d(256, 512, kernel_size=(1,), stride=(1,))\n          (2): Conv1d(256, 512, kernel_size=(1,), stride=(1,))\n          (3): Conv1d(256, 512, kernel_size=(1,), stride=(1,))\n          (4): Conv1d(256, 512, kernel_size=(1,), stride=(1,))\n          (5): Conv1d(256, 512, kernel_size=(1,), stride=(1,))\n          (6): Conv1d(256, 512, kernel_size=(1,), stride=(1,))\n          (7): Conv1d(256, 256, kernel_size=(1,), stride=(1,))\n        )\n        (start): Conv1d(4, 256, kernel_size=(1,), stride=(1,))\n        (end): Conv1d(256, 8, kernel_size=(1,), stride=(1,))\n        (cond_layer): Conv1d(640, 4096, kernel_size=(1,), stride=(1,))\n      )\n      (3): WaveNet(\n        (in_layers): ModuleList(\n          (0): Conv1d(256, 512, kernel_size=(3,), stride=(1,), padding=(1,))\n          (1): Conv1d(256, 512, kernel_size=(3,), stride=(1,), padding=(2,), dilation=(2,))\n          (2): Conv1d(256, 512, kernel_size=(3,), stride=(1,), padding=(4,), dilation=(4,))\n          (3): Conv1d(256, 512, kernel_size=(3,), stride=(1,), padding=(8,), dilation=(8,))\n          (4): Conv1d(256, 512, kernel_size=(3,), stride=(1,), padding=(16,), dilation=(16,))\n          (5): Conv1d(256, 512, kernel_size=(3,), stride=(1,), padding=(32,), dilation=(32,))\n          (6): Conv1d(256, 512, kernel_size=(3,), stride=(1,), padding=(64,), dilation=(64,))\n          (7): Conv1d(256, 512, kernel_size=(3,), stride=(1,), padding=(128,), dilation=(128,))\n        )\n        (res_skip_layers): ModuleList(\n          (0): Conv1d(256, 512, kernel_size=(1,), stride=(1,))\n          (1): Conv1d(256, 512, kernel_size=(1,), stride=(1,))\n          (2): Conv1d(256, 512, kernel_size=(1,), stride=(1,))\n          (3): Conv1d(256, 512, kernel_size=(1,), stride=(1,))\n          (4): Conv1d(256, 512, kernel_size=(1,), stride=(1,))\n          (5): Conv1d(256, 512, kernel_size=(1,), stride=(1,))\n          (6): Conv1d(256, 512, kernel_size=(1,), stride=(1,))\n          (7): Conv1d(256, 256, kernel_size=(1,), stride=(1,))\n        )\n        (start): Conv1d(4, 256, kernel_size=(1,), stride=(1,))\n        (end): Conv1d(256, 8, kernel_size=(1,), stride=(1,))\n        (cond_layer): Conv1d(640, 4096, kernel_size=(1,), stride=(1,))\n      )\n      (4): WaveNet(\n        (in_layers): ModuleList(\n          (0): Conv1d(256, 512, kernel_size=(3,), stride=(1,), padding=(1,))\n          (1): Conv1d(256, 512, kernel_size=(3,), stride=(1,), padding=(2,), dilation=(2,))\n          (2): Conv1d(256, 512, kernel_size=(3,), stride=(1,), padding=(4,), dilation=(4,))\n          (3): Conv1d(256, 512, kernel_size=(3,), stride=(1,), padding=(8,), dilation=(8,))\n          (4): Conv1d(256, 512, kernel_size=(3,), stride=(1,), padding=(16,), dilation=(16,))\n          (5): Conv1d(256, 512, kernel_size=(3,), stride=(1,), padding=(32,), dilation=(32,))\n          (6): Conv1d(256, 512, kernel_size=(3,), stride=(1,), padding=(64,), dilation=(64,))\n          (7): Conv1d(256, 512, kernel_size=(3,), stride=(1,), padding=(128,), dilation=(128,))\n        )\n        (res_skip_layers): ModuleList(\n          (0): Conv1d(256, 512, kernel_size=(1,), stride=(1,))\n          (1): Conv1d(256, 512, kernel_size=(1,), stride=(1,))\n          (2): Conv1d(256, 512, kernel_size=(1,), stride=(1,))\n          (3): Conv1d(256, 512, kernel_size=(1,), stride=(1,))\n          (4): Conv1d(256, 512, kernel_size=(1,), stride=(1,))\n          (5): Conv1d(256, 512, kernel_size=(1,), stride=(1,))\n          (6): Conv1d(256, 512, kernel_size=(1,), stride=(1,))\n          (7): Conv1d(256, 256, kernel_size=(1,), stride=(1,))\n        )\n        (start): Conv1d(3, 256, kernel_size=(1,), stride=(1,))\n        (end): Conv1d(256, 6, kernel_size=(1,), stride=(1,))\n        (cond_layer): Conv1d(640, 4096, kernel_size=(1,), stride=(1,))\n      )\n      (5): WaveNet(\n        (in_layers): ModuleList(\n          (0): Conv1d(256, 512, kernel_size=(3,), stride=(1,), padding=(1,))\n          (1): Conv1d(256, 512, kernel_size=(3,), stride=(1,), padding=(2,), dilation=(2,))\n          (2): Conv1d(256, 512, kernel_size=(3,), stride=(1,), padding=(4,), dilation=(4,))\n          (3): Conv1d(256, 512, kernel_size=(3,), stride=(1,), padding=(8,), dilation=(8,))\n          (4): Conv1d(256, 512, kernel_size=(3,), stride=(1,), padding=(16,), dilation=(16,))\n          (5): Conv1d(256, 512, kernel_size=(3,), stride=(1,), padding=(32,), dilation=(32,))\n          (6): Conv1d(256, 512, kernel_size=(3,), stride=(1,), padding=(64,), dilation=(64,))\n          (7): Conv1d(256, 512, kernel_size=(3,), stride=(1,), padding=(128,), dilation=(128,))\n        )\n        (res_skip_layers): ModuleList(\n          (0): Conv1d(256, 512, kernel_size=(1,), stride=(1,))\n          (1): Conv1d(256, 512, kernel_size=(1,), stride=(1,))\n          (2): Conv1d(256, 512, kernel_size=(1,), stride=(1,))\n          (3): Conv1d(256, 512, kernel_size=(1,), stride=(1,))\n          (4): Conv1d(256, 512, kernel_size=(1,), stride=(1,))\n          (5): Conv1d(256, 512, kernel_size=(1,), stride=(1,))\n          (6): Conv1d(256, 512, kernel_size=(1,), stride=(1,))\n          (7): Conv1d(256, 256, kernel_size=(1,), stride=(1,))\n        )\n        (start): Conv1d(3, 256, kernel_size=(1,), stride=(1,))\n        (end): Conv1d(256, 6, kernel_size=(1,), stride=(1,))\n        (cond_layer): Conv1d(640, 4096, kernel_size=(1,), stride=(1,))\n      )\n      (6): WaveNet(\n        (in_layers): ModuleList(\n          (0): Conv1d(256, 512, kernel_size=(3,), stride=(1,), padding=(1,))\n          (1): Conv1d(256, 512, kernel_size=(3,), stride=(1,), padding=(2,), dilation=(2,))\n          (2): Conv1d(256, 512, kernel_size=(3,), stride=(1,), padding=(4,), dilation=(4,))\n          (3): Conv1d(256, 512, kernel_size=(3,), stride=(1,), padding=(8,), dilation=(8,))\n          (4): Conv1d(256, 512, kernel_size=(3,), stride=(1,), padding=(16,), dilation=(16,))\n          (5): Conv1d(256, 512, kernel_size=(3,), stride=(1,), padding=(32,), dilation=(32,))\n          (6): Conv1d(256, 512, kernel_size=(3,), stride=(1,), padding=(64,), dilation=(64,))\n          (7): Conv1d(256, 512, kernel_size=(3,), stride=(1,), padding=(128,), dilation=(128,))\n        )\n        (res_skip_layers): ModuleList(\n          (0): Conv1d(256, 512, kernel_size=(1,), stride=(1,))\n          (1): Conv1d(256, 512, kernel_size=(1,), stride=(1,))\n          (2): Conv1d(256, 512, kernel_size=(1,), stride=(1,))\n          (3): Conv1d(256, 512, kernel_size=(1,), stride=(1,))\n          (4): Conv1d(256, 512, kernel_size=(1,), stride=(1,))\n          (5): Conv1d(256, 512, kernel_size=(1,), stride=(1,))\n          (6): Conv1d(256, 512, kernel_size=(1,), stride=(1,))\n          (7): Conv1d(256, 256, kernel_size=(1,), stride=(1,))\n        )\n        (start): Conv1d(3, 256, kernel_size=(1,), stride=(1,))\n        (end): Conv1d(256, 6, kernel_size=(1,), stride=(1,))\n        (cond_layer): Conv1d(640, 4096, kernel_size=(1,), stride=(1,))\n      )\n      (7): WaveNet(\n        (in_layers): ModuleList(\n          (0): Conv1d(256, 512, kernel_size=(3,), stride=(1,), padding=(1,))\n          (1): Conv1d(256, 512, kernel_size=(3,), stride=(1,), padding=(2,), dilation=(2,))\n          (2): Conv1d(256, 512, kernel_size=(3,), stride=(1,), padding=(4,), dilation=(4,))\n          (3): Conv1d(256, 512, kernel_size=(3,), stride=(1,), padding=(8,), dilation=(8,))\n          (4): Conv1d(256, 512, kernel_size=(3,), stride=(1,), padding=(16,), dilation=(16,))\n          (5): Conv1d(256, 512, kernel_size=(3,), stride=(1,), padding=(32,), dilation=(32,))\n          (6): Conv1d(256, 512, kernel_size=(3,), stride=(1,), padding=(64,), dilation=(64,))\n          (7): Conv1d(256, 512, kernel_size=(3,), stride=(1,), padding=(128,), dilation=(128,))\n        )\n        (res_skip_layers): ModuleList(\n          (0): Conv1d(256, 512, kernel_size=(1,), stride=(1,))\n          (1): Conv1d(256, 512, kernel_size=(1,), stride=(1,))\n          (2): Conv1d(256, 512, kernel_size=(1,), stride=(1,))\n          (3): Conv1d(256, 512, kernel_size=(1,), stride=(1,))\n          (4): Conv1d(256, 512, kernel_size=(1,), stride=(1,))\n          (5): Conv1d(256, 512, kernel_size=(1,), stride=(1,))\n          (6): Conv1d(256, 512, kernel_size=(1,), stride=(1,))\n          (7): Conv1d(256, 256, kernel_size=(1,), stride=(1,))\n        )\n        (start): Conv1d(3, 256, kernel_size=(1,), stride=(1,))\n        (end): Conv1d(256, 6, kernel_size=(1,), stride=(1,))\n        (cond_layer): Conv1d(640, 4096, kernel_size=(1,), stride=(1,))\n      )\n      (8): WaveNet(\n        (in_layers): ModuleList(\n          (0): Conv1d(256, 512, kernel_size=(3,), stride=(1,), padding=(1,))\n          (1): Conv1d(256, 512, kernel_size=(3,), stride=(1,), padding=(2,), dilation=(2,))\n          (2): Conv1d(256, 512, kernel_size=(3,), stride=(1,), padding=(4,), dilation=(4,))\n          (3): Conv1d(256, 512, kernel_size=(3,), stride=(1,), padding=(8,), dilation=(8,))\n          (4): Conv1d(256, 512, kernel_size=(3,), stride=(1,), padding=(16,), dilation=(16,))\n          (5): Conv1d(256, 512, kernel_size=(3,), stride=(1,), padding=(32,), dilation=(32,))\n          (6): Conv1d(256, 512, kernel_size=(3,), stride=(1,), padding=(64,), dilation=(64,))\n          (7): Conv1d(256, 512, kernel_size=(3,), stride=(1,), padding=(128,), dilation=(128,))\n        )\n        (res_skip_layers): ModuleList(\n          (0): Conv1d(256, 512, kernel_size=(1,), stride=(1,))\n          (1): Conv1d(256, 512, kernel_size=(1,), stride=(1,))\n          (2): Conv1d(256, 512, kernel_size=(1,), stride=(1,))\n          (3): Conv1d(256, 512, kernel_size=(1,), stride=(1,))\n          (4): Conv1d(256, 512, kernel_size=(1,), stride=(1,))\n          (5): Conv1d(256, 512, kernel_size=(1,), stride=(1,))\n          (6): Conv1d(256, 512, kernel_size=(1,), stride=(1,))\n          (7): Conv1d(256, 256, kernel_size=(1,), stride=(1,))\n        )\n        (start): Conv1d(2, 256, kernel_size=(1,), stride=(1,))\n        (end): Conv1d(256, 4, kernel_size=(1,), stride=(1,))\n        (cond_layer): Conv1d(640, 4096, kernel_size=(1,), stride=(1,))\n      )\n      (9): WaveNet(\n        (in_layers): ModuleList(\n          (0): Conv1d(256, 512, kernel_size=(3,), stride=(1,), padding=(1,))\n          (1): Conv1d(256, 512, kernel_size=(3,), stride=(1,), padding=(2,), dilation=(2,))\n          (2): Conv1d(256, 512, kernel_size=(3,), stride=(1,), padding=(4,), dilation=(4,))\n          (3): Conv1d(256, 512, kernel_size=(3,), stride=(1,), padding=(8,), dilation=(8,))\n          (4): Conv1d(256, 512, kernel_size=(3,), stride=(1,), padding=(16,), dilation=(16,))\n          (5): Conv1d(256, 512, kernel_size=(3,), stride=(1,), padding=(32,), dilation=(32,))\n          (6): Conv1d(256, 512, kernel_size=(3,), stride=(1,), padding=(64,), dilation=(64,))\n          (7): Conv1d(256, 512, kernel_size=(3,), stride=(1,), padding=(128,), dilation=(128,))\n        )\n        (res_skip_layers): ModuleList(\n          (0): Conv1d(256, 512, kernel_size=(1,), stride=(1,))\n          (1): Conv1d(256, 512, kernel_size=(1,), stride=(1,))\n          (2): Conv1d(256, 512, kernel_size=(1,), stride=(1,))\n          (3): Conv1d(256, 512, kernel_size=(1,), stride=(1,))\n          (4): Conv1d(256, 512, kernel_size=(1,), stride=(1,))\n          (5): Conv1d(256, 512, kernel_size=(1,), stride=(1,))\n          (6): Conv1d(256, 512, kernel_size=(1,), stride=(1,))\n          (7): Conv1d(256, 256, kernel_size=(1,), stride=(1,))\n        )\n        (start): Conv1d(2, 256, kernel_size=(1,), stride=(1,))\n        (end): Conv1d(256, 4, kernel_size=(1,), stride=(1,))\n        (cond_layer): Conv1d(640, 4096, kernel_size=(1,), stride=(1,))\n      )\n      (10): WaveNet(\n        (in_layers): ModuleList(\n          (0): Conv1d(256, 512, kernel_size=(3,), stride=(1,), padding=(1,))\n          (1): Conv1d(256, 512, kernel_size=(3,), stride=(1,), padding=(2,), dilation=(2,))\n          (2): Conv1d(256, 512, kernel_size=(3,), stride=(1,), padding=(4,), dilation=(4,))\n          (3): Conv1d(256, 512, kernel_size=(3,), stride=(1,), padding=(8,), dilation=(8,))\n          (4): Conv1d(256, 512, kernel_size=(3,), stride=(1,), padding=(16,), dilation=(16,))\n          (5): Conv1d(256, 512, kernel_size=(3,), stride=(1,), padding=(32,), dilation=(32,))\n          (6): Conv1d(256, 512, kernel_size=(3,), stride=(1,), padding=(64,), dilation=(64,))\n          (7): Conv1d(256, 512, kernel_size=(3,), stride=(1,), padding=(128,), dilation=(128,))\n        )\n        (res_skip_layers): ModuleList(\n          (0): Conv1d(256, 512, kernel_size=(1,), stride=(1,))\n          (1): Conv1d(256, 512, kernel_size=(1,), stride=(1,))\n          (2): Conv1d(256, 512, kernel_size=(1,), stride=(1,))\n          (3): Conv1d(256, 512, kernel_size=(1,), stride=(1,))\n          (4): Conv1d(256, 512, kernel_size=(1,), stride=(1,))\n          (5): Conv1d(256, 512, kernel_size=(1,), stride=(1,))\n          (6): Conv1d(256, 512, kernel_size=(1,), stride=(1,))\n          (7): Conv1d(256, 256, kernel_size=(1,), stride=(1,))\n        )\n        (start): Conv1d(2, 256, kernel_size=(1,), stride=(1,))\n        (end): Conv1d(256, 4, kernel_size=(1,), stride=(1,))\n        (cond_layer): Conv1d(640, 4096, kernel_size=(1,), stride=(1,))\n      )\n      (11): WaveNet(\n        (in_layers): ModuleList(\n          (0): Conv1d(256, 512, kernel_size=(3,), stride=(1,), padding=(1,))\n          (1): Conv1d(256, 512, kernel_size=(3,), stride=(1,), padding=(2,), dilation=(2,))\n          (2): Conv1d(256, 512, kernel_size=(3,), stride=(1,), padding=(4,), dilation=(4,))\n          (3): Conv1d(256, 512, kernel_size=(3,), stride=(1,), padding=(8,), dilation=(8,))\n          (4): Conv1d(256, 512, kernel_size=(3,), stride=(1,), padding=(16,), dilation=(16,))\n          (5): Conv1d(256, 512, kernel_size=(3,), stride=(1,), padding=(32,), dilation=(32,))\n          (6): Conv1d(256, 512, kernel_size=(3,), stride=(1,), padding=(64,), dilation=(64,))\n          (7): Conv1d(256, 512, kernel_size=(3,), stride=(1,), padding=(128,), dilation=(128,))\n        )\n        (res_skip_layers): ModuleList(\n          (0): Conv1d(256, 512, kernel_size=(1,), stride=(1,))\n          (1): Conv1d(256, 512, kernel_size=(1,), stride=(1,))\n          (2): Conv1d(256, 512, kernel_size=(1,), stride=(1,))\n          (3): Conv1d(256, 512, kernel_size=(1,), stride=(1,))\n          (4): Conv1d(256, 512, kernel_size=(1,), stride=(1,))\n          (5): Conv1d(256, 512, kernel_size=(1,), stride=(1,))\n          (6): Conv1d(256, 512, kernel_size=(1,), stride=(1,))\n          (7): Conv1d(256, 256, kernel_size=(1,), stride=(1,))\n        )\n        (start): Conv1d(2, 256, kernel_size=(1,), stride=(1,))\n        (end): Conv1d(256, 4, kernel_size=(1,), stride=(1,))\n        (cond_layer): Conv1d(640, 4096, kernel_size=(1,), stride=(1,))\n      )\n    )\n    (convinv): ModuleList(\n      (0): Invertible1x1Conv(\n        (conv): Conv1d(8, 8, kernel_size=(1,), stride=(1,), bias=False)\n        (inv_conv): Conv1d(8, 8, kernel_size=(1,), stride=(1,), bias=False)\n      )\n      (1): Invertible1x1Conv(\n        (conv): Conv1d(8, 8, kernel_size=(1,), stride=(1,), bias=False)\n        (inv_conv): Conv1d(8, 8, kernel_size=(1,), stride=(1,), bias=False)\n      )\n      (2): Invertible1x1Conv(\n        (conv): Conv1d(8, 8, kernel_size=(1,), stride=(1,), bias=False)\n        (inv_conv): Conv1d(8, 8, kernel_size=(1,), stride=(1,), bias=False)\n      )\n      (3): Invertible1x1Conv(\n        (conv): Conv1d(8, 8, kernel_size=(1,), stride=(1,), bias=False)\n        (inv_conv): Conv1d(8, 8, kernel_size=(1,), stride=(1,), bias=False)\n      )\n      (4): Invertible1x1Conv(\n        (conv): Conv1d(6, 6, kernel_size=(1,), stride=(1,), bias=False)\n        (inv_conv): Conv1d(6, 6, kernel_size=(1,), stride=(1,), bias=False)\n      )\n      (5): Invertible1x1Conv(\n        (conv): Conv1d(6, 6, kernel_size=(1,), stride=(1,), bias=False)\n        (inv_conv): Conv1d(6, 6, kernel_size=(1,), stride=(1,), bias=False)\n      )\n      (6): Invertible1x1Conv(\n        (conv): Conv1d(6, 6, kernel_size=(1,), stride=(1,), bias=False)\n        (inv_conv): Conv1d(6, 6, kernel_size=(1,), stride=(1,), bias=False)\n      )\n      (7): Invertible1x1Conv(\n        (conv): Conv1d(6, 6, kernel_size=(1,), stride=(1,), bias=False)\n        (inv_conv): Conv1d(6, 6, kernel_size=(1,), stride=(1,), bias=False)\n      )\n      (8): Invertible1x1Conv(\n        (conv): Conv1d(4, 4, kernel_size=(1,), stride=(1,), bias=False)\n        (inv_conv): Conv1d(4, 4, kernel_size=(1,), stride=(1,), bias=False)\n      )\n      (9): Invertible1x1Conv(\n        (conv): Conv1d(4, 4, kernel_size=(1,), stride=(1,), bias=False)\n        (inv_conv): Conv1d(4, 4, kernel_size=(1,), stride=(1,), bias=False)\n      )\n      (10): Invertible1x1Conv(\n        (conv): Conv1d(4, 4, kernel_size=(1,), stride=(1,), bias=False)\n        (inv_conv): Conv1d(4, 4, kernel_size=(1,), stride=(1,), bias=False)\n      )\n      (11): Invertible1x1Conv(\n        (conv): Conv1d(4, 4, kernel_size=(1,), stride=(1,), bias=False)\n        (inv_conv): Conv1d(4, 4, kernel_size=(1,), stride=(1,), bias=False)\n      )\n    )\n  )\n  (loss): WaveGlowLoss()\n) could not find an audio_to_melspec_precessor. GlowVocoder requires child class to haveaudio_to_melspec_precessor defined to obtain stft parameters."
     ]
    }
   ],
   "source": [
    "text_to_generate = \"Input what you want the model to say.\"\n",
    "spec, audio = infer(spec_gen, vocoder, text_to_generate)"
   ]
  },
  {
   "cell_type": "markdown",
   "metadata": {},
   "source": [
    "# Show Audio and Spectrogram"
   ]
  },
  {
   "cell_type": "code",
   "execution_count": null,
   "metadata": {},
   "outputs": [],
   "source": [
    "import IPython.display as ipd\n",
    "import numpy as np\n",
    "from PIL import Image\n",
    "from matplotlib.pyplot import imshow\n",
    "from matplotlib import pyplot as plt\n",
    "\n",
    "ipd.Audio(audio, rate=22050)"
   ]
  },
  {
   "cell_type": "code",
   "execution_count": null,
   "metadata": {},
   "outputs": [],
   "source": [
    "%matplotlib inline\n",
    "imshow(spec, origin=\"lower\")\n",
    "plt.show()"
   ]
  },
  {
   "cell_type": "code",
   "execution_count": null,
   "metadata": {},
   "outputs": [],
   "source": [
    "# audio_denoised = vocoder.denoise(audio=torch.tensor(audio).cuda(), strength=0.05)\n",
    "# ipd.Audio(audio_denoised.cpu().numpy(), rate=SAMPLE_RATE)"
   ]
  },
  {
   "cell_type": "code",
   "execution_count": null,
   "metadata": {},
   "outputs": [],
   "source": [
    "!ls /mnt/hdd/experiment_results/temp/1852518_MelGAN_fmax/MelGan/2021-03-18_19-08-13/checkpoints"
   ]
  },
  {
   "cell_type": "code",
   "execution_count": null,
   "metadata": {},
   "outputs": [],
   "source": []
  }
 ],
 "metadata": {
  "kernelspec": {
   "display_name": "Python 3",
   "language": "python",
   "name": "python3"
  },
  "language_info": {
   "codemirror_mode": {
    "name": "ipython",
    "version": 3
   },
   "file_extension": ".py",
   "mimetype": "text/x-python",
   "name": "python",
   "nbconvert_exporter": "python",
   "pygments_lexer": "ipython3",
   "version": "3.8.5"
  }
 },
 "nbformat": 4,
 "nbformat_minor": 4
}
