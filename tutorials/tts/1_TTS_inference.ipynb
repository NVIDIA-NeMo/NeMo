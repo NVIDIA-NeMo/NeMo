{
 "cells": [
  {
   "cell_type": "markdown",
   "metadata": {},
   "source": [
    "# TTS Inference\n",
    "\n",
    "This notebook can be used to generate audio samples using either NeMo's pretrained models or after training NeMo TTS models. This script currently uses a two step inference procedure. First, a model is used to generate a mel spectrogram from text. Second, a model is used to generate audio from a mel spectrogram.\n",
    "\n",
    "Currently supported models are:\n",
    "Mel Spectrogram Generators:\n",
    "- Tacotron 2\n",
    "- Glow-TTS\n",
    "\n",
    "Audio Generators\n",
    "- Grifflin-Lim\n",
    "- WaveGlow"
   ]
  },
  {
   "cell_type": "markdown",
   "metadata": {},
   "source": [
    "# Licence\n",
    "\n",
    "> Copyright 2020 NVIDIA. All Rights Reserved.\n",
    "> \n",
    "> Licensed under the Apache License, Version 2.0 (the \"License\");\n",
    "> you may not use this file except in compliance with the License.\n",
    "> You may obtain a copy of the License at\n",
    "> \n",
    ">     http://www.apache.org/licenses/LICENSE-2.0\n",
    "> \n",
    "> Unless required by applicable law or agreed to in writing, software\n",
    "> distributed under the License is distributed on an \"AS IS\" BASIS,\n",
    "> WITHOUT WARRANTIES OR CONDITIONS OF ANY KIND, either express or implied.\n",
    "> See the License for the specific language governing permissions and\n",
    "> limitations under the License."
   ]
  },
  {
   "cell_type": "code",
   "execution_count": null,
   "metadata": {},
   "outputs": [],
   "source": [
    "\"\"\"\n",
    "You can run either this notebook locally (if you have all the dependencies and a GPU) or on Google Colab.\n",
    "Instructions for setting up Colab are as follows:\n",
    "1. Open a new Python 3 notebook.\n",
    "2. Import this notebook from GitHub (File -> Upload Notebook -> \"GITHUB\" tab -> copy/paste GitHub URL)\n",
    "3. Connect to an instance with a GPU (Runtime -> Change runtime type -> select \"GPU\" for hardware accelerator)\n",
    "4. Run this cell to set up dependencies.\n",
    "\"\"\"\n",
    "# If you're using Google Colab and not running locally, uncomment and run this cell.\n",
    "# !pip install wget\n",
    "# !apt-get install sox libsndfile1 ffmpeg\n",
    "# !pip install unidecode\n",
    "# !pip install nemo_toolkit[tts]\n",
    "\n",
    "# !mkdir configs\n",
    "# !wget -P configs/ https://raw.githubusercontent.com/NVIDIA/NeMo/candidate/examples/tts/conf/tacotron2.yaml\n",
    "# !wget -P configs/ https://raw.githubusercontent.com/NVIDIA/NeMo/candidate/examples/tts/conf/waveglow.yaml\n",
    "# !wget -P configs/ https://raw.githubusercontent.com/NVIDIA/NeMo/candidate/examples/tts/conf/glow_tts.yaml\n",
    "# CONFIG_PATH = \"conf/\""
   ]
  },
  {
   "cell_type": "code",
   "execution_count": null,
   "metadata": {},
   "outputs": [],
   "source": [
    "from pathlib import Path\n",
    "\n",
    "try: CONFIG_PATH\n",
    "except NameError: CONFIG_PATH = Path(\"../../examples/tts\") / \"conf\"\n",
    "\n",
    "supported_spec_gen = [\"tacotron2\", \"glow_tts\"]\n",
    "supported_audio_gen = [\"griffin_lim\", \"waveglow\"]\n",
    "supported_audio_gen_req_checkpoint = [\"waveglow\"]\n",
    "\n",
    "print(\"Choose one of the following spectrogram generators:\")\n",
    "print([model for model in supported_spec_gen])\n",
    "spectrogram_generator = input()\n",
    "print(\"Choose one of the following audio generators:\")\n",
    "print([model for model in supported_audio_gen])\n",
    "audio_generator = input()\n",
    "\n",
    "assert spectrogram_generator in supported_spec_gen\n",
    "assert audio_generator in supported_audio_gen"
   ]
  },
  {
   "cell_type": "markdown",
   "metadata": {},
   "source": [
    "# Download pre-trained checkpoints\n",
    "\n",
    "TODO: Enable downloading pretrained models"
   ]
  },
  {
   "cell_type": "code",
   "execution_count": null,
   "metadata": {},
   "outputs": [],
   "source": [
    "spectrogram_generator_checkpoint_path = input(f\"Input the path to the {spectrogram_generator} checkpoint: \")\n",
    "audio_generator_checkpoint_path = None\n",
    "if audio_generator in supported_audio_gen_req_checkpoint:\n",
    "    audio_generator_checkpoint_path = input(f\"Input the path to the {audio_generator} checkpoint: \")   "
   ]
  },
  {
   "cell_type": "markdown",
   "metadata": {},
   "source": [
    "# Load model checkpoints\n",
    "\n",
    "Note: For best quality with Glow TTS, please update the glow tts yaml file with the path to cmudict"
   ]
  },
  {
   "cell_type": "code",
   "execution_count": null,
   "metadata": {},
   "outputs": [],
   "source": [
    "from omegaconf import OmegaConf, open_dict\n",
    "import torch\n",
    "from ruamel.yaml import YAML\n",
    "from nemo.collections.asr.parts import parsers\n",
    "\n",
    "SAMPLE_RATE = 22050\n",
    "NFFT = 1024\n",
    "NMEL = 80\n",
    "FMAX = None\n",
    "\n",
    "def load_spectrogram_model():\n",
    "    if spectrogram_generator == \"tacotron2\":\n",
    "        from nemo.collections.tts.models import Tacotron2Model as SpecModel\n",
    "        cfg_file = Path(CONFIG_PATH) / \"tacotron2.yaml\"\n",
    "    elif spectrogram_generator == \"glow_tts\":\n",
    "        from nemo.collections.tts.models import GlowTTSModel as SpecModel\n",
    "        cfg_file = Path(CONFIG_PATH) / \"glow_tts.yaml\"\n",
    "    else:\n",
    "        raise NotImplementedError\n",
    "\n",
    "    with open(cfg_file) as file:\n",
    "        cfg = OmegaConf.load(file)\n",
    "    del cfg.model[\"train_ds\"]\n",
    "    del cfg.model[\"validation_ds\"]\n",
    "    del cfg.model[\"optim\"]\n",
    "    with open_dict(cfg):\n",
    "        global SAMPLE_RATE\n",
    "        global NFFT\n",
    "        global NMEL\n",
    "        global FMAX\n",
    "        SAMPLE_RATE = cfg.sample_rate or SAMPLE_RATE\n",
    "        NFFT = cfg.n_fft or NFFT\n",
    "        NMEL = cfg.n_mels or NMEL\n",
    "        FMAX = cfg.fmax or FMAX\n",
    "    return SpecModel(cfg=cfg.model)\n",
    "\n",
    "def load_vocoder_model():\n",
    "    if audio_generator == \"waveglow\":\n",
    "        from nemo.collections.tts.models import WaveGlowModel as VocoderModel\n",
    "        cfg_file = Path(CONFIG_PATH) / \"waveglow.yaml\"\n",
    "    elif audio_generator == \"griffin_lim\":\n",
    "        from nemo.collections.tts.helpers.helpers import griffin_lim\n",
    "        import numpy as np\n",
    "        import librosa\n",
    "        class GL:\n",
    "            def __init__(self):\n",
    "                pass\n",
    "            def convert_spectrogram_to_audio(self, spec):\n",
    "                log_mel_spec = spec.squeeze().to('cpu').numpy().T\n",
    "                mel_spec = np.exp(log_mel_spec)\n",
    "                mel_pseudo_inverse = librosa.filters.mel(SAMPLE_RATE, NFFT, NMEL, fmax=FMAX)\n",
    "                return griffin_lim(np.dot(mel_spec, mel_pseudo_inverse).T ** 1.2)\n",
    "            def load_state_dict(self, *args, **kwargs):\n",
    "                pass\n",
    "            def cuda(self, *args, **kwargs):\n",
    "                return self\n",
    "        return GL()\n",
    "    else:\n",
    "        raise NotImplementedError\n",
    "\n",
    "    with open(cfg_file) as file:\n",
    "        cfg = OmegaConf.load(file)\n",
    "    del cfg.model[\"train_ds\"]\n",
    "    del cfg.model[\"validation_ds\"]\n",
    "    del cfg.model[\"optim\"]\n",
    "    with open_dict(cfg):\n",
    "        if cfg.sample_rate is not None:\n",
    "            assert vocoder_sample_rate == SAMPLE_RATE\n",
    "        if cfg.n_fft is not None:\n",
    "            assert vocoder_sample_rate == NFFT\n",
    "        if cfg.n_mels is not None:\n",
    "            assert vocoder_sample_rate == NMEL\n",
    "        if cfg.fmax is not None:\n",
    "            assert vocoder_sample_rate == FMAX\n",
    "    return VocoderModel(cfg=cfg.model)\n",
    "\n",
    "spec_gen = load_spectrogram_model()\n",
    "vocoder = load_vocoder_model()\n",
    "\n",
    "spec_gen.load_state_dict(torch.load(spectrogram_generator_checkpoint_path)[\"state_dict\"])\n",
    "if audio_generator_checkpoint_path is not None:\n",
    "    vocoder.load_state_dict(torch.load(audio_generator_checkpoint_path)[\"state_dict\"])\n",
    "\n",
    "spec_gen = spec_gen.cuda()\n",
    "vocoder = vocoder.cuda()"
   ]
  },
  {
   "cell_type": "code",
   "execution_count": null,
   "metadata": {},
   "outputs": [],
   "source": [
    "def infer(spec_gen_model, vocder_model, str_input):\n",
    "    with torch.no_grad():\n",
    "        parsed = spec_gen.parse(text_to_generate)\n",
    "        spectrogram = spec_gen.generate_spectrogram(tokens=parsed)\n",
    "        audio = vocoder.convert_spectrogram_to_audio(spec=spectrogram)\n",
    "    if isinstance(spectrogram, torch.Tensor):\n",
    "        spectrogram = spectrogram.to('cpu').numpy()\n",
    "    if len(spectrogram.shape) == 3:\n",
    "        spectrogram = spectrogram[0]\n",
    "    if isinstance(audio, torch.Tensor):\n",
    "        audio = audio.to('cpu').numpy()\n",
    "    return spectrogram, audio"
   ]
  },
  {
   "cell_type": "code",
   "execution_count": null,
   "metadata": {},
   "outputs": [],
   "source": [
    "text_to_generate = input(\"Input what you want the model to say: \")\n",
    "spec, audio = infer(spec_gen, vocoder, text_to_generate)"
   ]
  },
  {
   "cell_type": "markdown",
   "metadata": {},
   "source": [
    "# Show Audio and Spectrogram"
   ]
  },
  {
   "cell_type": "code",
   "execution_count": null,
   "metadata": {},
   "outputs": [],
   "source": [
    "import IPython.display as ipd\n",
    "import numpy as np\n",
    "from PIL import Image\n",
    "from matplotlib.pyplot import imshow\n",
    "from matplotlib import pyplot as plt\n",
    "\n",
    "\n",
    "ipd.Audio(audio, rate=SAMPLE_RATE)"
   ]
  },
  {
   "cell_type": "code",
   "execution_count": null,
   "metadata": {},
   "outputs": [],
   "source": [
    "%matplotlib inline\n",
    "imshow(spec, origin=\"lower\")\n",
    "plt.show()"
   ]
  },
  {
   "cell_type": "code",
   "execution_count": null,
   "metadata": {},
   "outputs": [],
   "source": []
  }
 ],
 "metadata": {
  "kernelspec": {
   "display_name": "Python 3",
   "language": "python",
   "name": "python3"
  },
  "language_info": {
   "codemirror_mode": {
    "name": "ipython",
    "version": 3
   },
   "file_extension": ".py",
   "mimetype": "text/x-python",
   "name": "python",
   "nbconvert_exporter": "python",
   "pygments_lexer": "ipython3",
   "version": "3.6.9"
  }
 },
 "nbformat": 4,
 "nbformat_minor": 4
}
