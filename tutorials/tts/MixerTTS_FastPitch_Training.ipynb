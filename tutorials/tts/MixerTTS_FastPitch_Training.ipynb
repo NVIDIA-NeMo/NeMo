{
 "cells": [
  {
   "cell_type": "markdown",
   "id": "bca88a83",
   "metadata": {},
   "source": [
    "# Mixer-TTS and FastPitch Training\n",
    "\n",
    "This notebook is designed to provide a guide on how to train Mixer-TTS and FastPitch as part of the TTS pipeline. It contains the following sections:\n",
    "  1. **Introduction**: Mixer-TTS and FastPitch in NeMo\n",
    "  2. **Preprocessing**: how to prepare data for Mixer-TTS and FastPitch \n",
    "  3. **Training**: example of Mixer-TTS training and FastPitch training"
   ]
  },
  {
   "cell_type": "markdown",
   "id": "0643a9ce",
   "metadata": {},
   "source": [
    "# License\n",
    "\n",
    "> Copyright 2021 NVIDIA. All Rights Reserved.\n",
    "> \n",
    "> Licensed under the Apache License, Version 2.0 (the \"License\");\n",
    "> you may not use this file except in compliance with the License.\n",
    "> You may obtain a copy of the License at\n",
    "> \n",
    ">     http://www.apache.org/licenses/LICENSE-2.0\n",
    "> \n",
    "> Unless required by applicable law or agreed to in writing, software\n",
    "> distributed under the License is distributed on an \"AS IS\" BASIS,\n",
    "> WITHOUT WARRANTIES OR CONDITIONS OF ANY KIND, either express or implied.\n",
    "> See the License for the specific language governing permissions and\n",
    "> limitations under the License."
   ]
  },
  {
   "cell_type": "code",
   "execution_count": null,
   "id": "c5aff479",
   "metadata": {},
   "outputs": [],
   "source": [
    "\"\"\"\n",
    "You can either run this notebook locally (if you have all the dependencies and a GPU) or on Google Colab.\n",
    "Instructions for setting up Colab are as follows:\n",
    "1. Open a new Python 3 notebook.\n",
    "2. Import this notebook from GitHub (File -> Upload Notebook -> \"GITHUB\" tab -> copy/paste GitHub URL)\n",
    "3. Connect to an instance with a GPU (Runtime -> Change runtime type -> select \"GPU\" for hardware accelerator)\n",
    "4. Run this cell to set up dependencies# .\n",
    "\"\"\"\n",
    "# # If you're using Colab and not running locally, uncomment and run this cell.\n",
    "# !apt-get install sox libsndfile1 ffmpeg\n",
    "# !pip install wget unidecode\n",
    "# BRANCH = 'main'\n",
    "# !python -m pip install git+https://github.com/NVIDIA/NeMo.git@$BRANCH#egg=nemo_toolkit[all]"
   ]
  },
  {
   "cell_type": "code",
   "execution_count": null,
   "id": "06fec9b7",
   "metadata": {},
   "outputs": [],
   "source": [
    "import json\n",
    "import nemo\n",
    "import torch\n",
    "import librosa\n",
    "import numpy as np\n",
    "\n",
    "from pathlib import Path\n",
    "from tqdm.notebook import tqdm"
   ]
  },
  {
   "cell_type": "markdown",
   "id": "692e5c1d",
   "metadata": {},
   "source": [
    "# Introduction"
   ]
  },
  {
   "cell_type": "markdown",
   "id": "22b8e884",
   "metadata": {},
   "source": [
    "### MixerTTS\n",
    "\n",
    "Mixer-TTS is non-autoregressive model for mel-spectrogram generation. The model is based on the MLP-Mixer architecture adapted for speech synthesis. It contains pitch and duration predictors, with the latter being trained with an unsupervised TTS alignment framework.\n",
    "For more details about model, please refer to the original [paper](https://arxiv.org/abs/2110.03584).\n",
    "\n",
    "Mixer-TTS like most NeMo models is defined as a LightningModule, allowing for easy training via PyTorch Lightning, and parameterized by a configuration, currently defined via a yaml file and loading using Hydra.\n",
    "\n",
    "Let's take a look using NeMo's pretrained model and how to use it to generate spectrograms."
   ]
  },
  {
   "cell_type": "code",
   "execution_count": null,
   "id": "474f38fa",
   "metadata": {},
   "outputs": [],
   "source": [
    "# Load the MixerTTSModel\n",
    "from nemo.collections.tts.models import MixerTTSModel\n",
    "from nemo.collections.tts.models.base import SpectrogramGenerator\n",
    "\n",
    "# Let's see what pretrained models are available\n",
    "print(MixerTTSModel.list_available_models())"
   ]
  },
  {
   "cell_type": "code",
   "execution_count": null,
   "id": "a2d77410",
   "metadata": {
    "scrolled": true
   },
   "outputs": [],
   "source": [
    "# We can load the pre-trained model as follows\n",
    "pretrained_model = \"tts_en_lj_mixertts\"\n",
    "model = MixerTTSModel.from_pretrained(pretrained_model)\n",
    "model.eval();"
   ]
  },
  {
   "cell_type": "code",
   "execution_count": null,
   "id": "47c25f40",
   "metadata": {},
   "outputs": [],
   "source": [
    "# MixerTTSModel is a SpectrogramGenerator\n",
    "assert isinstance(model, SpectrogramGenerator)\n",
    "\n",
    "# SpectrogramGenerators in NeMo have two helper functions:\n",
    "#   1. parse(text: str, **kwargs) which takes string and produces a token tensor\n",
    "#   2. generate_spectrogram(tokens: 'torch.tensor', **kwargs) which takes the token tensor and generates a spectrogram\n",
    "# Let's try it out\n",
    "tokens = model.parse(text=\"Hey, this produces speech!\")\n",
    "spectrogram = model.generate_spectrogram(tokens=tokens)\n",
    "\n",
    "# Now we can visualize the generated spectrogram\n",
    "# If we want to generate speech, we have to use a vocoder in conjunction to a spectrogram generator.\n",
    "# Refer to the Inference_ModelSelect notebook on how to convert spectrograms to speech.\n",
    "from matplotlib.pyplot import imshow\n",
    "from matplotlib import pyplot as plt\n",
    "%matplotlib inline\n",
    "imshow(spectrogram.cpu().detach().numpy()[0,...], origin=\"lower\")\n",
    "plt.show()"
   ]
  },
  {
   "cell_type": "markdown",
   "id": "41638fda",
   "metadata": {},
   "source": [
    "### FastPitch\n",
    "\n",
    "FastPitch is  a fully-parallel text-to-speech model based on FastSpeech, conditioned on fundamental frequency contours. The model predicts pitch contours during inference. Conditioning on frequency contours improves the overall quality of synthesized speech. For more details about model, please refer to the original [paper](https://arxiv.org/abs/2006.06873).\n",
    "\n",
    "FastPitch like most NeMo models is defined as a LightningModule.\n",
    "\n",
    "Let's take a look using NeMo's pretrained model and how to use it to generate spectrograms."
   ]
  },
  {
   "cell_type": "code",
   "execution_count": null,
   "id": "417edf05",
   "metadata": {},
   "outputs": [],
   "source": [
    "# Load the FastPitchModel\n",
    "from nemo.collections.tts.models import FastPitchModel\n",
    "from nemo.collections.tts.models.base import SpectrogramGenerator\n",
    "\n",
    "# Let's see what pretrained models are available\n",
    "print(FastPitchModel.list_available_models())"
   ]
  },
  {
   "cell_type": "code",
   "execution_count": null,
   "id": "fa9de7db",
   "metadata": {},
   "outputs": [],
   "source": [
    "# We can load the pre-trained model as follows\n",
    "pretrained_model = \"tts_en_fastpitch\"\n",
    "fastpitch_model = FastPitchModel.from_pretrained(pretrained_model)\n",
    "fastpitch_model.eval();"
   ]
  },
  {
   "cell_type": "code",
   "execution_count": null,
   "id": "52f74edd",
   "metadata": {},
   "outputs": [],
   "source": [
    "# FastPitch is a SpectrogramGenerator\n",
    "assert isinstance(fastpitch_model, SpectrogramGenerator)\n",
    "\n",
    "# SpectrogramGenerators in NeMo have two helper functions:\n",
    "#   1. parse(text: str, **kwargs) which takes string and produces a token tensor\n",
    "#   2. generate_spectrogram(tokens: 'torch.tensor', **kwargs) which takes the token tensor and generates a spectrogram\n",
    "# Let's try it out\n",
    "tokens = fastpitch_model.parse(str_input=\"Hey, this produces speech!\")\n",
    "spectrogram = fastpitch_model.generate_spectrogram(tokens=tokens)\n",
    "\n",
    "# Now we can visualize the generated spectrogram\n",
    "# If we want to generate speech, we have to use a vocoder in conjunction to a spectrogram generator.\n",
    "# Refer to the Inference_ModelSelect notebook on how to convert spectrograms to speech.\n",
    "from matplotlib.pyplot import imshow\n",
    "from matplotlib import pyplot as plt\n",
    "%matplotlib inline\n",
    "imshow(spectrogram.cpu().detach().numpy()[0,...], origin=\"lower\")\n",
    "plt.show()"
   ]
  },
  {
   "cell_type": "markdown",
   "id": "cc119a38",
   "metadata": {},
   "source": [
    "# Preprocessing"
   ]
  },
  {
   "cell_type": "markdown",
   "id": "63cc56b2",
   "metadata": {},
   "source": [
    "### MixerTTS\n",
    "\n",
    "Now that we looked at the Mixer-TTS model, let's see how to prepare all data for training it. \n",
    "\n",
    "Firstly, let's download all necessary training scripts and configs."
   ]
  },
  {
   "cell_type": "code",
   "execution_count": null,
   "id": "38b81592",
   "metadata": {},
   "outputs": [],
   "source": [
    "!wget https://raw.githubusercontent.com/NVIDIA/NeMo/main/examples/tts/mixer_tts.py\n",
    "\n",
    "!mkdir -p conf && cd conf \\\n",
    "&& wget https://raw.githubusercontent.com/NVIDIA/NeMo/main/examples/tts/conf/mixer-tts.yaml \\\n",
    "&& cd .."
   ]
  },
  {
   "cell_type": "markdown",
   "id": "340492d9",
   "metadata": {},
   "source": [
    "We will show example of preprocessing and training using small part of AN4 dataset. It consists of recordings of people spelling out addresses, names, telephone numbers, etc., one letter or number at a time, as well as their corresponding transcripts. Let's download data, prepared manifests and supplementary files.\n",
    "\n",
    "*NOTE: The sample data is not enough data to properly train a Mixer-TTS. This will not result in a trained Mixer-TTS and is used to just as example.*"
   ]
  },
  {
   "cell_type": "code",
   "execution_count": null,
   "id": "3448a6cd",
   "metadata": {},
   "outputs": [],
   "source": [
    "# download data and manifests\n",
    "!wget https://github.com/NVIDIA/NeMo/releases/download/v0.11.0/test_data.tar.gz && mkdir -p tests/data && tar xzf test_data.tar.gz -C tests/data\n",
    "\n",
    "# Mixer-TTS can be trained on phonemes and uses normalization tool, let's download additional data for them\n",
    "!mkdir -p tts_dataset_files && cd tts_dataset_files \\\n",
    "&& wget https://raw.githubusercontent.com/NVIDIA/NeMo/main/scripts/tts_dataset_files/cmudict-0.7b_nv22.01 \\\n",
    "&& wget https://raw.githubusercontent.com/NVIDIA/NeMo/main/scripts/tts_dataset_files/heteronyms-030921 \\\n",
    "&& wget https://raw.githubusercontent.com/NVIDIA/NeMo/main/nemo_text_processing/text_normalization/en/data/whitelist_lj_speech.tsv \\\n",
    "&& cd .."
   ]
  },
  {
   "cell_type": "markdown",
   "id": "773ea692",
   "metadata": {},
   "source": [
    "TTS text preprocessing pipeline consists of two stages: text normalization and text tokenization. Both of them can be handled by `nemo.collections.tts.torch.data.TTSDataset` for training.  \n",
    "\n",
    "Our current example dataset is in English, so let's use `nemo_text_processing.text_normalization.normalize.Normalizer` for normalization which supports English (and many other languages!) and `nemo.collections.tts.torch.tts_tokenizers.EnglishPhonemesTokenizer` for tokenization which can work together with grapheme-to-phoneme (G2P) module. For G2P we use `nemo.collections.tts.torch.g2ps.EnglishG2p`."
   ]
  },
  {
   "cell_type": "code",
   "execution_count": null,
   "id": "fe47a890",
   "metadata": {},
   "outputs": [],
   "source": [
    "from nemo.collections.tts.torch.g2ps import EnglishG2p\n",
    "from nemo.collections.tts.torch.data import TTSDataset\n",
    "from nemo_text_processing.text_normalization.normalize import Normalizer\n",
    "from nemo.collections.tts.torch.tts_tokenizers import EnglishPhonemesTokenizer, EnglishCharsTokenizer"
   ]
  },
  {
   "cell_type": "code",
   "execution_count": null,
   "id": "6f74e93d",
   "metadata": {},
   "outputs": [],
   "source": [
    "# text normalizer\n",
    "text_normalizer = Normalizer(\n",
    "    lang=\"en\", \n",
    "    input_case=\"cased\", \n",
    "    whitelist=\"tts_dataset_files/whitelist_lj_speech.tsv\"\n",
    ")\n",
    "\n",
    "text_normalizer_call_kwargs = {\n",
    "    \"punct_pre_process\": True,\n",
    "    \"punct_post_process\": True\n",
    "}\n",
    "\n",
    "# grapheme-to-phoneme module\n",
    "g2p = EnglishG2p(\n",
    "    phoneme_dict=\"tts_dataset_files/cmudict-0.7b_nv22.01\",\n",
    "    heteronyms=\"tts_dataset_files/heteronyms-030921\"\n",
    ")\n",
    "\n",
    "# text tokenizer\n",
    "text_tokenizer = EnglishPhonemesTokenizer(\n",
    "    punct=True,\n",
    "    stresses=True,\n",
    "    chars=True,\n",
    "    apostrophe=True,\n",
    "    pad_with_space=True,\n",
    "    g2p=g2p,\n",
    ")"
   ]
  },
  {
   "cell_type": "markdown",
   "id": "b677d015",
   "metadata": {},
   "source": [
    "To accelerate and stabilize our training, we also need to extract pitch for every audio, estimate pitch statistics (mean and std) and pre-calculate alignment prior matrices. To do this, all we need to do is iterate over our data one time."
   ]
  },
  {
   "cell_type": "code",
   "execution_count": null,
   "id": "9ae062ee",
   "metadata": {},
   "outputs": [],
   "source": [
    "def pre_calculate_supplementary_data(sup_data_path, sup_data_types, text_tokenizer, text_normalizer, text_normalizer_call_kwargs):\n",
    "    # init train and val dataloaders\n",
    "    stages = [\"train\", \"val\"]\n",
    "    stage2dl = {}\n",
    "    for stage in stages:\n",
    "        ds = TTSDataset(\n",
    "            manifest_filepath=f\"tests/data/asr/an4_{stage}.json\",\n",
    "            sample_rate=16000,\n",
    "            sup_data_path=sup_data_path,\n",
    "            sup_data_types=sup_data_types,\n",
    "            n_fft=1024,\n",
    "            win_length=1024,\n",
    "            hop_length=256,\n",
    "            window=\"hann\",\n",
    "            n_mels=80,\n",
    "            lowfreq=0,\n",
    "            highfreq=8000,\n",
    "            text_tokenizer=text_tokenizer,\n",
    "            text_normalizer=text_normalizer,\n",
    "            text_normalizer_call_kwargs=text_normalizer_call_kwargs\n",
    "\n",
    "        ) \n",
    "        stage2dl[stage] = torch.utils.data.DataLoader(ds, batch_size=1, collate_fn=ds._collate_fn, num_workers=1)\n",
    "\n",
    "    # iteration over dataloaders\n",
    "    pitch_mean, pitch_std, pitch_min, pitch_max = None, None, None, None\n",
    "    for stage, dl in stage2dl.items():\n",
    "        pitch_list = []\n",
    "        for batch in tqdm(dl, total=len(dl)):\n",
    "            tokens, tokens_lengths, audios, audio_lengths, attn_prior, pitches, pitches_lengths = batch\n",
    "            pitch = pitches.squeeze(0)\n",
    "            pitch_list.append(pitch[pitch != 0])\n",
    "\n",
    "        if stage == \"train\":\n",
    "            pitch_tensor = torch.cat(pitch_list)\n",
    "            pitch_mean, pitch_std = pitch_tensor.mean().item(), pitch_tensor.std().item()\n",
    "            pitch_min, pitch_max = pitch_tensor.min().item(), pitch_tensor.max().item()\n",
    "            \n",
    "    return pitch_mean, pitch_std, pitch_min, pitch_max"
   ]
  },
  {
   "cell_type": "code",
   "execution_count": null,
   "id": "c7fe2270",
   "metadata": {},
   "outputs": [],
   "source": [
    "sup_data_path = \"sup_data_folder\"\n",
    "sup_data_types = [\"align_prior_matrix\", \"pitch\"]\n",
    "\n",
    "pitch_mean, pitch_std, pitch_min, pitch_max = pre_calculate_supplementary_data(sup_data_path, \\\n",
    "                                                                               sup_data_types, \\\n",
    "                                                                               text_tokenizer, \\\n",
    "                                                                               text_normalizer, \\\n",
    "                                                                               text_normalizer_call_kwargs)"
   ]
  },
  {
   "cell_type": "markdown",
   "id": "dc708811",
   "metadata": {},
   "source": [
    "### FastPitch\n",
    "\n",
    "Now that we looked at the FastPitch model, let's see how to prepare all data for training it. \n",
    "\n",
    "Firstly, let's download all necessary training scripts and configs."
   ]
  },
  {
   "cell_type": "code",
   "execution_count": null,
   "id": "7120067b",
   "metadata": {},
   "outputs": [],
   "source": [
    "!wget https://raw.githubusercontent.com/NVIDIA/NeMo/main/examples/tts/fastpitch.py\n",
    "\n",
    "!mkdir -p conf && cd conf \\\n",
    "&& wget https://raw.githubusercontent.com/NVIDIA/NeMo/main/examples/tts/conf/fastpitch_align_v1.05.yaml \\\n",
    "&& cd .."
   ]
  },
  {
   "cell_type": "markdown",
   "id": "5eda307c",
   "metadata": {},
   "source": [
    "We will be using `nemo.collections.tts.torch.data.TTSDataset` for the entire data pipeline. \n",
    "\n",
    "In the Mixer-TTS pipeline we used a phoneme based tokenizer but in the FastPitch training pipeline we would like to demonstrate a character based tokenizer `nemo.collections.tts.torch.tts_tokenizers.EnglishCharsTokenizer`. Unlike Phoneme based tokenizer, `EnglishCharsTokenizer` does not need a phoneme dictionary or a heteronym dictionary. We will be using the same `nemo_text_processing.text_normalization.normalize.Normalizer` for normalizing the text as used in the Mixer-TTS example.\n",
    "\n",
    "Since this process does not need any additional data we just download the raw waveform audio files and the manifests."
   ]
  },
  {
   "cell_type": "code",
   "execution_count": null,
   "id": "b2a9af89",
   "metadata": {},
   "outputs": [],
   "source": [
    "# download data and manifests\n",
    "!wget https://github.com/NVIDIA/NeMo/releases/download/v0.11.0/test_data.tar.gz && mkdir -p tests/data && tar xzf test_data.tar.gz -C tests/data"
   ]
  },
  {
   "cell_type": "code",
   "execution_count": null,
   "id": "c59b5a93",
   "metadata": {},
   "outputs": [],
   "source": [
    "!mkdir -p tts_dataset_files && cd tts_dataset_files \\\n",
    "&& wget https://raw.githubusercontent.com/NVIDIA/NeMo/main/nemo_text_processing/text_normalization/en/data/whitelist_lj_speech.tsv \\\n",
    "&& cd ..    "
   ]
  },
  {
   "cell_type": "markdown",
   "id": "1ed33aa9",
   "metadata": {},
   "source": [
    "Let's define the above mentioned Normalizer and Tokenizer"
   ]
  },
  {
   "cell_type": "code",
   "execution_count": null,
   "id": "f4128eec",
   "metadata": {},
   "outputs": [],
   "source": [
    "from nemo.collections.tts.torch.data import TTSDataset\n",
    "from nemo_text_processing.text_normalization.normalize import Normalizer\n",
    "from nemo.collections.tts.torch.tts_tokenizers import EnglishCharsTokenizer"
   ]
  },
  {
   "cell_type": "code",
   "execution_count": null,
   "id": "25f5b1be",
   "metadata": {},
   "outputs": [],
   "source": [
    "# text normalizer\n",
    "text_normalizer = Normalizer(\n",
    "    lang=\"en\", \n",
    "    input_case=\"cased\", \n",
    "    whitelist=\"tts_dataset_files/whitelist_lj_speech.tsv\"\n",
    ")\n",
    "\n",
    "text_normalizer_call_kwargs = {\n",
    "    \"punct_pre_process\": True,\n",
    "    \"punct_post_process\": True\n",
    "}\n",
    "\n",
    "# text tokenizer\n",
    "text_tokenizer = EnglishCharsTokenizer()"
   ]
  },
  {
   "cell_type": "markdown",
   "id": "80aa3cac",
   "metadata": {},
   "source": [
    "Just like in Mixer-TTS we will need to extract pitch for every audio, estimate pitch statistics (mean and std) and pre-calculate alignment prior matrices. The extracted pitch and pre-calculated alignment prior matrices will be stored in `sup_data_path`"
   ]
  },
  {
   "cell_type": "code",
   "execution_count": null,
   "id": "7d2dab35",
   "metadata": {},
   "outputs": [],
   "source": [
    "sup_data_path = \"sup_data_folder\"\n",
    "sup_data_types = [\"align_prior_matrix\", \"pitch\"]\n",
    "\n",
    "pitch_mean, pitch_std, pitch_min, pitch_max = pre_calculate_supplementary_data(sup_data_path, \\\n",
    "                                                                               sup_data_types, \\\n",
    "                                                                               text_tokenizer, \\\n",
    "                                                                               text_normalizer, \\\n",
    "                                                                               text_normalizer_call_kwargs)"
   ]
  },
  {
   "cell_type": "markdown",
   "id": "c33fdf54",
   "metadata": {},
   "source": [
    "# Training"
   ]
  },
  {
   "cell_type": "markdown",
   "id": "79945f37",
   "metadata": {},
   "source": [
    "### MixerTTS\n",
    "\n",
    "Now we are ready for training our model! Let's try to train Mixer-TTS.\n",
    "\n",
    "*NOTE: The sample data is not enough data to properly train a Mixer-TTS. This will not result in a trained Mixer-TTS and is used to just as example.*"
   ]
  },
  {
   "cell_type": "code",
   "execution_count": null,
   "id": "a0b80a26",
   "metadata": {
    "scrolled": true
   },
   "outputs": [],
   "source": [
    "!python mixer_tts.py sample_rate=16000 \\\n",
    "train_dataset=tests/data/asr/an4_train.json \\\n",
    "validation_datasets=tests/data/asr/an4_val.json \\\n",
    "sup_data_types=\"['align_prior_matrix', 'pitch']\" \\\n",
    "sup_data_path={sup_data_path} \\\n",
    "phoneme_dict_path=tts_dataset_files/cmudict-0.7b_nv22.01 \\\n",
    "heteronyms_path=tts_dataset_files/heteronyms-030921 \\\n",
    "whitelist_path=tts_dataset_files/whitelist_lj_speech.tsv \\\n",
    "pitch_mean={pitch_mean} \\\n",
    "pitch_std={pitch_std} \\\n",
    "model.train_ds.dataloader_params.batch_size=6 \\\n",
    "model.train_ds.dataloader_params.num_workers=0 \\\n",
    "model.validation_ds.dataloader_params.num_workers=0 \\\n",
    "trainer.max_epochs=3 \\\n",
    "trainer.strategy=null \\\n",
    "trainer.check_val_every_n_epoch=1"
   ]
  },
  {
   "cell_type": "markdown",
   "id": "a406bdc4",
   "metadata": {},
   "source": [
    "### FastPitch\n",
    "\n",
    "Now we are ready for training our model! Let's try to train FastPitch.\n",
    "\n",
    "*NOTE: The sample data is not enough data to properly train a FastPitch. This will not result in a trained FastPitch and is used to just as example.*"
   ]
  },
  {
   "cell_type": "code",
   "execution_count": null,
   "id": "f2e4cac4",
   "metadata": {},
   "outputs": [],
   "source": [
    "!(python fastpitch.py --config-name=fastpitch_align_v1.05.yaml \\\n",
    "  sample_rate=16000 \\\n",
    "  train_dataset=tests/data/asr/an4_train.json \\\n",
    "  validation_datasets=tests/data/asr/an4_val.json \\\n",
    "  sup_data_types=\"['align_prior_matrix', 'pitch']\" \\\n",
    "  sup_data_path={sup_data_path} \\\n",
    "  whitelist_path=tts_dataset_files/whitelist_lj_speech.tsv \\\n",
    "  pitch_mean={pitch_mean} \\\n",
    "  pitch_std={pitch_std} \\\n",
    "  pitch_fmin={pitch_min} \\\n",
    "  pitch_fmax={pitch_max} \\\n",
    "  ~model.text_tokenizer \\\n",
    "  +model.text_tokenizer._target_=nemo.collections.tts.torch.tts_tokenizers.EnglishCharsTokenizer \\\n",
    "  +trainer.max_steps=100 ~trainer.max_epochs \\\n",
    "  trainer.check_val_every_n_epoch=25 \\\n",
    "  +trainer.max_epochs=5 \\\n",
    "  model.train_ds.dataloader_params.batch_size=24 \\\n",
    "  model.validation_ds.dataloader_params.batch_size=24 \\\n",
    "  exp_manager.exp_dir=./fastpitch_log_dir \\\n",
    "  model.n_speakers=1 trainer.devices=1 trainer.strategy=null \\\n",
    ")"
   ]
  },
  {
   "cell_type": "markdown",
   "id": "216525c6",
   "metadata": {},
   "source": [
    "Let's look at some of the options in the training command:\n",
    " \n",
    "- *sup_data_types* - List of types of supplementary data to be provided to the model\n",
    "\n",
    "- *sub_data_path* - Path to the directory that contains the supplementary data\n",
    "\n",
    "- *~model.text_tokenizer* - Remove default text_tokenizer. The default tokenizer in the `fastpitch_align_v1.05.yaml` is `nemo.collections.tts.torch.tts_tokenizers.EnglishPhonemesTokenizer`, but we want to use `nemo.collections.tts.torch.tts_tokenizers.EnglishCharsTokenizer`\n",
    "\n",
    "- *+model.text_tokenizer._target_* - Add `nemo.collections.tts.torch.tts_tokenizers.EnglishCharsTokenizer` as text_tokenizer to be used."
   ]
  },
  {
   "cell_type": "markdown",
   "id": "064d67da",
   "metadata": {},
   "source": [
    "That's it!\n",
    "\n",
    "In order to train Mixer-TTS and FastPitch for real purposes, it is highly recommended to obtain high quality speech data with the following properties:\n",
    "\n",
    "* Sampling rate of 22050Hz or higher\n",
    "* Single speaker\n",
    "* Speech should contain a variety of speech phonemes\n",
    "* Audio split into segments of 1-10 seconds\n",
    "* Audio segments should not have silence at the beginning and end\n",
    "* Audio segments should not contain long silences inside"
   ]
  }
 ],
 "metadata": {
  "kernelspec": {
   "display_name": "Python 3 (ipykernel)",
   "language": "python",
   "name": "python3"
  },
  "language_info": {
   "codemirror_mode": {
    "name": "ipython",
    "version": 3
   },
   "file_extension": ".py",
   "mimetype": "text/x-python",
   "name": "python",
   "nbconvert_exporter": "python",
   "pygments_lexer": "ipython3",
   "version": "3.8.12"
  }
 },
 "nbformat": 4,
 "nbformat_minor": 5
}
