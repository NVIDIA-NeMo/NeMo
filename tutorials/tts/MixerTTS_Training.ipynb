{
 "cells": [
  {
   "cell_type": "markdown",
   "id": "7b246a99",
   "metadata": {},
   "source": [
    "# Mixer-TTS Training\n",
    "\n",
    "This notebook is designed to provide a guide on how to train Mixer-TTS as part of the TTS pipeline. It contains the following two sections:\n",
    "  1. **Introduction**: Mixer-TTS in NeMo\n",
    "  2. **Preprocessing**: how to prepare data for Mixer-TTS \n",
    "  3. **Training**: example of Mixer-TTS training"
   ]
  },
  {
   "cell_type": "markdown",
   "id": "ef51f896",
   "metadata": {},
   "source": [
    "# License\n",
    "\n",
    "> Copyright 2021 NVIDIA. All Rights Reserved.\n",
    "> \n",
    "> Licensed under the Apache License, Version 2.0 (the \"License\");\n",
    "> you may not use this file except in compliance with the License.\n",
    "> You may obtain a copy of the License at\n",
    "> \n",
    ">     http://www.apache.org/licenses/LICENSE-2.0\n",
    "> \n",
    "> Unless required by applicable law or agreed to in writing, software\n",
    "> distributed under the License is distributed on an \"AS IS\" BASIS,\n",
    "> WITHOUT WARRANTIES OR CONDITIONS OF ANY KIND, either express or implied.\n",
    "> See the License for the specific language governing permissions and\n",
    "> limitations under the License."
   ]
  },
  {
   "cell_type": "code",
   "execution_count": null,
   "id": "2342fc56",
   "metadata": {},
   "outputs": [],
   "source": [
    "\"\"\"\n",
    "You can either run this notebook locally (if you have all the dependencies and a GPU) or on Google Colab.\n",
    "Instructions for setting up Colab are as follows:\n",
    "1. Open a new Python 3 notebook.\n",
    "2. Import this notebook from GitHub (File -> Upload Notebook -> \"GITHUB\" tab -> copy/paste GitHub URL)\n",
    "3. Connect to an instance with a GPU (Runtime -> Change runtime type -> select \"GPU\" for hardware accelerator)\n",
    "4. Run this cell to set up dependencies# .\n",
    "\"\"\"\n",
    "# # If you're using Colab and not running locally, uncomment and run this cell.\n",
    "# !apt-get install sox libsndfile1 ffmpeg\n",
    "# !pip install wget unidecode\n",
    "# BRANCH = 'main'\n",
    "# !python -m pip install git+https://github.com/NVIDIA/NeMo.git@$BRANCH#egg=nemo_toolkit[all]"
   ]
  },
  {
   "cell_type": "code",
   "execution_count": null,
   "id": "5335e1f3",
   "metadata": {},
   "outputs": [],
   "source": [
    "import json\n",
    "import nemo\n",
    "import torch\n",
    "import librosa\n",
    "import numpy as np\n",
    "\n",
    "from pathlib import Path\n",
    "from tqdm.notebook import tqdm"
   ]
  },
  {
   "cell_type": "markdown",
   "id": "fae8e892",
   "metadata": {},
   "source": [
    "# Introduction\n",
    "\n",
    "Mixer-TTS is non-autoregressive model for mel-spectrogram generation. The model is based on the MLP-Mixer architecture adapted for speech synthesis. It contains pitch and duration predictors, with the latter being trained with an unsupervised TTS alignment framework.\n",
    "For more details about model, please refer to the original [paper](https://arxiv.org/abs/2110.03584).\n",
    "\n",
    "Mixer-TTS like most NeMo models is defined as a LightningModule, allowing for easy training via PyTorch Lightning, and parameterized by a configuration, currently defined via a yaml file and loading using Hydra.\n",
    "\n",
    "Let's take a look using NeMo's pretrained model and how to use it to generate spectrograms."
   ]
  },
  {
   "cell_type": "code",
   "execution_count": 2,
   "id": "bc59a60c",
   "metadata": {},
   "outputs": [
    {
     "name": "stderr",
     "output_type": "stream",
     "text": [
      "[NeMo W 2021-12-20 06:07:55 experimental:27] Module <function get_argmin_mat at 0x7f6500cb5160> is experimental, not ready for production and is not fully supported. Use at your own risk.\n",
      "[NeMo W 2021-12-20 06:07:55 experimental:27] Module <function getMultiScaleCosAffinityMatrix at 0x7f6500cb51f0> is experimental, not ready for production and is not fully supported. Use at your own risk.\n",
      "[NeMo W 2021-12-20 06:07:55 experimental:27] Module <function parse_scale_configs at 0x7f6500cb5d30> is experimental, not ready for production and is not fully supported. Use at your own risk.\n",
      "[NeMo W 2021-12-20 06:07:55 experimental:27] Module <function get_embs_and_timestamps at 0x7f6500cb5dc0> is experimental, not ready for production and is not fully supported. Use at your own risk.\n",
      "################################################################################\n",
      "### WARNING, path does not exist: KALDI_ROOT=/mnt/matylda5/iveselyk/Tools/kaldi-trunk\n",
      "###          (please add 'export KALDI_ROOT=<your_path>' in your $HOME/.profile)\n",
      "###          (or run as: KALDI_ROOT=<your_path> python <your_script>.py)\n",
      "################################################################################\n",
      "\n"
     ]
    },
    {
     "name": "stdout",
     "output_type": "stream",
     "text": [
      "None\n"
     ]
    }
   ],
   "source": [
    "# Load the MixerTTSModel\n",
    "from nemo.collections.tts.models import MixerTTSModel\n",
    "from nemo.collections.tts.models.base import SpectrogramGenerator\n",
    "\n",
    "# Let's see what pretrained models are available\n",
    "# TODO(otatanov): check it\n",
    "print(MixerTTSModel.list_available_models())"
   ]
  },
  {
   "cell_type": "code",
   "execution_count": 3,
   "id": "fd62f25a",
   "metadata": {
    "scrolled": true
   },
   "outputs": [
    {
     "name": "stdout",
     "output_type": "stream",
     "text": [
      "[NeMo I 2021-12-20 06:07:56 tokenize_and_classify:88] Creating ClassifyFst grammars.\n"
     ]
    },
    {
     "name": "stderr",
     "output_type": "stream",
     "text": [
      "[NeMo W 2021-12-20 06:08:00 modelPT:130] If you intend to do training or fine-tuning, please call the ModelPT.setup_training_data() method and provide a valid configuration file to setup the train data loader.\n",
      "    Train config : \n",
      "    dataset:\n",
      "      _target_: nemo.collections.tts.torch.data.MixerTTSDataset\n",
      "      manifest_filepath: lj_train.json\n",
      "      sample_rate: 22050\n",
      "      sup_data_path: tts_ds_align_prior_matrix_pitch_char\n",
      "      sup_data_types:\n",
      "      - align_prior_matrix\n",
      "      - pitch\n",
      "      - lm_tokens\n",
      "      n_fft: 1024\n",
      "      win_length: 1024\n",
      "      hop_length: 256\n",
      "      window: hann\n",
      "      n_mels: 80\n",
      "      lowfreq: 0\n",
      "      highfreq: 8000\n",
      "      max_duration: null\n",
      "      min_duration: 0.1\n",
      "      ignore_file: null\n",
      "      trim: false\n",
      "      pitch_fmin: 65.40639132514966\n",
      "      pitch_fmax: 2093.004522404789\n",
      "      lm_model: albert\n",
      "      text_normalizer:\n",
      "        _target_: nemo_text_processing.text_normalization.normalize.Normalizer\n",
      "        lang: en\n",
      "        input_case: cased\n",
      "        whitelist: nemo:a7980a4453084be784605bb1d241f45b_whitelist_lj_speech.tsv\n",
      "      text_normalizer_call_args:\n",
      "        verbose: false\n",
      "        punct_pre_process: true\n",
      "        punct_post_process: true\n",
      "      text_tokenizer:\n",
      "        _target_: nemo.collections.tts.torch.tts_tokenizers.EnglishCharsTokenizer\n",
      "        punct: true\n",
      "        apostrophe: true\n",
      "        add_blank_at: null\n",
      "        pad_with_space: true\n",
      "      use_beta_binomial_interpolator: true\n",
      "    dataloader_params:\n",
      "      drop_last: false\n",
      "      shuffle: true\n",
      "      batch_size: 32\n",
      "      num_workers: 6\n",
      "      pin_memory: false\n",
      "    \n",
      "[NeMo W 2021-12-20 06:08:00 modelPT:137] If you intend to do validation, please call the ModelPT.setup_validation_data() or ModelPT.setup_multiple_validation_data() method and provide a valid configuration file to setup the validation data loader(s). \n",
      "    Validation config : \n",
      "    dataset:\n",
      "      _target_: nemo.collections.tts.torch.data.MixerTTSDataset\n",
      "      manifest_filepath: lj_val.json\n",
      "      sample_rate: 22050\n",
      "      sup_data_path: tts_ds_align_prior_matrix_pitch_char\n",
      "      sup_data_types:\n",
      "      - align_prior_matrix\n",
      "      - pitch\n",
      "      - lm_tokens\n",
      "      n_fft: 1024\n",
      "      win_length: 1024\n",
      "      hop_length: 256\n",
      "      window: hann\n",
      "      n_mels: 80\n",
      "      lowfreq: 0\n",
      "      highfreq: 8000\n",
      "      max_duration: null\n",
      "      min_duration: 0.1\n",
      "      ignore_file: null\n",
      "      trim: false\n",
      "      pitch_fmin: 65.40639132514966\n",
      "      pitch_fmax: 2093.004522404789\n",
      "      lm_model: albert\n",
      "      text_normalizer:\n",
      "        _target_: nemo_text_processing.text_normalization.normalize.Normalizer\n",
      "        lang: en\n",
      "        input_case: cased\n",
      "        whitelist: nemo_text_processing/text_normalization/en/data/whitelist_lj_speech.tsv\n",
      "      text_normalizer_call_args:\n",
      "        verbose: false\n",
      "        punct_pre_process: true\n",
      "        punct_post_process: true\n",
      "      text_tokenizer:\n",
      "        _target_: nemo.collections.tts.torch.tts_tokenizers.EnglishCharsTokenizer\n",
      "        punct: true\n",
      "        apostrophe: true\n",
      "        add_blank_at: null\n",
      "        pad_with_space: true\n",
      "      use_beta_binomial_interpolator: true\n",
      "    dataloader_params:\n",
      "      drop_last: false\n",
      "      shuffle: false\n",
      "      batch_size: 32\n",
      "      num_workers: 2\n",
      "      pin_memory: false\n",
      "    \n",
      "Some weights of the model checkpoint at albert-base-v2 were not used when initializing AlbertModel: ['predictions.decoder.bias', 'predictions.decoder.weight', 'predictions.dense.weight', 'predictions.dense.bias', 'predictions.LayerNorm.weight', 'predictions.bias', 'predictions.LayerNorm.bias']\n",
      "- This IS expected if you are initializing AlbertModel from the checkpoint of a model trained on another task or with another architecture (e.g. initializing a BertForSequenceClassification model from a BertForPreTraining model).\n",
      "- This IS NOT expected if you are initializing AlbertModel from the checkpoint of a model that you expect to be exactly identical (initializing a BertForSequenceClassification model from a BertForSequenceClassification model).\n"
     ]
    },
    {
     "name": "stdout",
     "output_type": "stream",
     "text": [
      "[NeMo I 2021-12-20 06:08:03 features:264] PADDING: 1\n",
      "[NeMo I 2021-12-20 06:08:03 features:281] STFT using torch\n",
      "[NeMo I 2021-12-20 06:08:05 save_restore_connector:149] Model MixerTTSModel was successfully restored from /home/otatanov/data/exp_manager_folder/lj_new_mixer_tts_x_5AH8oxTDjGagz/checkpoints/tts_en_lj_mixerttsx.nemo.\n"
     ]
    }
   ],
   "source": [
    "# We can load the pre-trained model as follows\n",
    "pretrained_model = \"tts_en_lj_mixertts\"\n",
    "# TODO(otatanov): change it\n",
    "model = MixerTTSModel.restore_from(\"/home/otatanov/data/exp_manager_folder/lj_new_mixer_tts_nqvz8WBCVh62R/checkpoints/tts_en_lj_mixertts.nemo\")\n",
    "# model = MixerTTSModel.from_pretrained(pretrained_model)\n",
    "model.eval();"
   ]
  },
  {
   "cell_type": "code",
   "execution_count": null,
   "id": "e0307151",
   "metadata": {},
   "outputs": [],
   "source": [
    "# MixerTTSModel is a SpectrogramGenerator\n",
    "assert isinstance(model, SpectrogramGenerator)\n",
    "\n",
    "# SpectrogramGenerators in NeMo have two helper functions:\n",
    "#   1. parse(text: str, **kwargs) which takes string and produces a token tensor\n",
    "#   2. generate_spectrogram(tokens: 'torch.tensor', **kwargs) which takes the token tensor and generates a spectrogram\n",
    "# Let's try it out\n",
    "tokens = model.parse(text=\"Hey, this produces speech!\")\n",
    "spectrogram = model.generate_spectrogram(tokens=tokens)\n",
    "\n",
    "# Now we can visualize the generated spectrogram\n",
    "# If we want to generate speech, we have to use a vocoder in conjunction to a spectrogram generator.\n",
    "# Refer to the Inference_ModelSelect notebook on how to convert spectrograms to speech.\n",
    "from matplotlib.pyplot import imshow\n",
    "from matplotlib import pyplot as plt\n",
    "%matplotlib inline\n",
    "imshow(spectrogram.cpu().detach().numpy()[0,...], origin=\"lower\")\n",
    "plt.show()"
   ]
  },
  {
   "cell_type": "markdown",
   "id": "d3bd1286",
   "metadata": {},
   "source": [
    "# Preprocessing\n",
    "\n",
    "Now that we looked at the Mixer-TTS model, let's see how to prepare all data for training it. \n",
    "\n",
    "Firstly, let's download all necessary training scripts and configs."
   ]
  },
  {
   "cell_type": "code",
   "execution_count": null,
   "id": "c0473a50",
   "metadata": {},
   "outputs": [],
   "source": [
    "!wget https://raw.githubusercontent.com/NVIDIA/NeMo/main/examples/tts/mixer_tts.py\n",
    "\n",
    "!mkdir -p conf && cd conf \\\n",
    "&& wget https://raw.githubusercontent.com/NVIDIA/NeMo/main/examples/tts/conf/mixer-tts.yaml \\\n",
    "&& cd .."
   ]
  },
  {
   "cell_type": "markdown",
   "id": "46cb79f2",
   "metadata": {},
   "source": [
    "We will show example of preprocessing and training using small part of AN4 dataset. It consists of recordings of people spelling out addresses, names, telephone numbers, etc., one letter or number at a time, as well as their corresponding transcripts. Let's download data, prepared manifests and supplementary files.\n",
    "\n",
    "*NOTE: The sample data is not enough data to properly train a Mixer-TTS. This will not result in a trained Mixer-TTS and is used to just as example.*"
   ]
  },
  {
   "cell_type": "code",
   "execution_count": null,
   "id": "f20463d9",
   "metadata": {},
   "outputs": [],
   "source": [
    "# download data and manifests\n",
    "!wget https://github.com/NVIDIA/NeMo/releases/download/v0.11.0/test_data.tar.gz && mkdir -p tests/data && tar xzf test_data.tar.gz -C tests/data\n",
    "\n",
    "# Mixer-TTS can be trained on phonemes and uses normalization tool, let's download additional data for them\n",
    "!mkdir -p tts_dataset_files && cd tts_dataset_files \\\n",
    "&& wget https://raw.githubusercontent.com/NVIDIA/NeMo/main/scripts/tts_dataset_files/cmudict-0.7b \\\n",
    "&& wget https://raw.githubusercontent.com/NVIDIA/NeMo/main/scripts/tts_dataset_files/heteronyms-030921 \\\n",
    "&& wget https://raw.githubusercontent.com/NVIDIA/NeMo/main/nemo_text_processing/text_normalization/en/data/whitelist_lj_speech.tsv \\\n",
    "&& cd .."
   ]
  },
  {
   "cell_type": "markdown",
   "id": "201b6ed9",
   "metadata": {},
   "source": [
    "TTS text preprocessing pipeline consists of two stages: text normalization and text tokenization. Both of them can be handled by `nemo.collections.tts.torch.data.TTSDataset` for training.  \n",
    "\n",
    "Our current example dataset is in English, so let's use `nemo_text_processing.text_normalization.normalize.Normalizer` for normalization which supports English (and many other languages!) and `nemo.collections.tts.torch.tts_tokenizers.EnglishPhonemesTokenizer` for tokenization which can work together with grapheme-to-phoneme (G2P) module. For G2P we use `nemo.collections.tts.torch.g2ps.EnglishG2p`."
   ]
  },
  {
   "cell_type": "code",
   "execution_count": null,
   "id": "34008f11",
   "metadata": {},
   "outputs": [],
   "source": [
    "from nemo.collections.tts.torch.g2ps import EnglishG2p\n",
    "from nemo.collections.tts.torch.data import TTSDataset\n",
    "from nemo_text_processing.text_normalization.normalize import Normalizer\n",
    "from nemo.collections.tts.torch.tts_tokenizers import EnglishPhonemesTokenizer"
   ]
  },
  {
   "cell_type": "code",
   "execution_count": null,
   "id": "dde8eef9",
   "metadata": {},
   "outputs": [],
   "source": [
    "# text normalizer\n",
    "text_normalizer = Normalizer(\n",
    "    lang=\"en\", \n",
    "    input_case=\"cased\", \n",
    "    whitelist=\"tts_dataset_files/whitelist_lj_speech.tsv\"\n",
    ")\n",
    "\n",
    "text_normalizer_call_args = {\n",
    "    \"punct_pre_process\": True,\n",
    "    \"punct_post_process\": True\n",
    "}\n",
    "\n",
    "# grapheme-to-phoneme module\n",
    "g2p = EnglishG2p(\n",
    "    phoneme_dict=\"tts_dataset_files/cmudict-0.7b\",\n",
    "    heteronyms=\"tts_dataset_files/heteronyms-030921\"\n",
    ")\n",
    "\n",
    "# text tokenizer\n",
    "text_tokenizer = EnglishPhonemesTokenizer(\n",
    "    punct=True,\n",
    "    stresses=True,\n",
    "    chars=True,\n",
    "    apostrophe=True,\n",
    "    pad_with_space=True,\n",
    "    g2p=g2p,\n",
    ")"
   ]
  },
  {
   "cell_type": "markdown",
   "id": "2453e39b",
   "metadata": {},
   "source": [
    "To accelerate and stabilize our training, we also need to extract pitch for every audio, estimate pitch statistics (mean and std) and pre-calculate alignment prior matrices. To do this, all we need to do is iterate over our data one time."
   ]
  },
  {
   "cell_type": "code",
   "execution_count": null,
   "id": "fae8a5f8",
   "metadata": {},
   "outputs": [],
   "source": [
    "sup_data_path = \"sup_data_folder\"\n",
    "sup_data_types = [\"align_prior_matrix\", \"pitch\"]\n",
    "\n",
    "# init train and val dataloaders\n",
    "stages = [\"train\", \"val\"]\n",
    "stage2dl = {}\n",
    "for stage in stages:\n",
    "    ds = TTSDataset(\n",
    "        manifest_filepath=f\"tests/data/asr/an4_{stage}.json\",\n",
    "        sample_rate=16000,\n",
    "        sup_data_path=sup_data_path,\n",
    "        sup_data_types=sup_data_types,\n",
    "        n_fft=1024,\n",
    "        win_length=1024,\n",
    "        hop_length=256,\n",
    "        window=\"hann\",\n",
    "        n_mels=80,\n",
    "        lowfreq=0,\n",
    "        highfreq=8000,\n",
    "        text_tokenizer=text_tokenizer,\n",
    "        text_normalizer=text_normalizer,\n",
    "        text_normalizer_call_args=text_normalizer_call_args\n",
    "\n",
    "    ) \n",
    "    stage2dl[stage] = torch.utils.data.DataLoader(ds, batch_size=1, collate_fn=ds._collate_fn, num_workers=1)\n",
    "\n",
    "# iteration over dataloaders\n",
    "for stage, dl in stage2dl.items():\n",
    "    pitch_list = []\n",
    "    for batch in tqdm(dl, total=len(dl)):\n",
    "        tokens, tokens_lengths, audios, audio_lengths, attn_prior, pitches, pitches_lengths = batch\n",
    "        pitch = pitches.squeeze(0)\n",
    "        pitch_list.append(pitch[pitch != 0])\n",
    "    \n",
    "    if stage == \"train\":\n",
    "        pitch_tensor = torch.cat(pitch_list)\n",
    "        pitch_mean, pitch_std = pitch_tensor.mean().item(), pitch_tensor.std().item()"
   ]
  },
  {
   "cell_type": "markdown",
   "id": "7d5d786d",
   "metadata": {},
   "source": [
    "# Training"
   ]
  },
  {
   "cell_type": "markdown",
   "id": "c2fb67bc",
   "metadata": {},
   "source": [
    "Now we are ready for training our model! Let's try to train Mixer-TTS.\n",
    "\n",
    "*NOTE: The sample data is not enough data to properly train a Mixer-TTS. This will not result in a trained Mixer-TTS and is used to just as example.*"
   ]
  },
  {
   "cell_type": "code",
   "execution_count": null,
   "id": "56527516",
   "metadata": {
    "scrolled": true
   },
   "outputs": [],
   "source": [
    "!python mixer_tts.py sample_rate=16000 \\\n",
    "train_dataset=tests/data/asr/an4_train.json \\\n",
    "validation_datasets=tests/data/asr/an4_val.json \\\n",
    "sup_data_types=\"['align_prior_matrix', 'pitch']\" \\\n",
    "sup_data_path={sup_data_path} \\\n",
    "phoneme_dict_path=tts_dataset_files/cmudict-0.7b \\\n",
    "heteronyms_path=tts_dataset_files/heteronyms-030921 \\\n",
    "whitelist_path=tts_dataset_files/whitelist_lj_speech.tsv \\\n",
    "pitch_mean={pitch_mean} \\\n",
    "pitch_std={pitch_std} \\\n",
    "model.train_ds.dataloader_params.batch_size=6 \\\n",
    "model.train_ds.dataloader_params.num_workers=0 \\\n",
    "model.validation_ds.dataloader_params.num_workers=0 \\\n",
    "trainer.max_epochs=3 \\\n",
    "trainer.accelerator=null \\\n",
    "trainer.check_val_every_n_epoch=1"
   ]
  },
  {
   "cell_type": "markdown",
   "id": "c6d7d35e",
   "metadata": {},
   "source": [
    "That's it!\n",
    "\n",
    "In order to train Mixer-TTS for real purposes, it is highly recommended to obtain high quality speech data with the following properties:\n",
    "\n",
    "* Sampling rate of 22050Hz or higher\n",
    "* Single speaker\n",
    "* Speech should contain a variety of speech phonemes\n",
    "* Audio split into segments of 1-10 seconds\n",
    "* Audio segments should not have silence at the beginning and end\n",
    "* Audio segments should not contain long silences inside"
   ]
  }
 ],
 "metadata": {
  "kernelspec": {
   "display_name": "Python 3 (ipykernel)",
   "language": "python",
   "name": "python3"
  },
  "language_info": {
   "codemirror_mode": {
    "name": "ipython",
    "version": 3
   },
   "file_extension": ".py",
   "mimetype": "text/x-python",
   "name": "python",
   "nbconvert_exporter": "python",
   "pygments_lexer": "ipython3",
   "version": "3.8.6"
  }
 },
 "nbformat": 4,
 "nbformat_minor": 5
}
