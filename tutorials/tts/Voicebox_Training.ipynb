{
 "cells": [
  {
   "cell_type": "markdown",
   "metadata": {},
   "source": [
    "# Voicebox Training\n",
    "Before starting this tutorial, please ensure you have training datasets prepared according to [tutorials/tts/Voicebox_MFA.ipynb](Voicebox_MFA.ipynb)."
   ]
  },
  {
   "cell_type": "code",
   "execution_count": null,
   "metadata": {},
   "outputs": [],
   "source": [
    "# Voicebox"
   ]
  }
 ],
 "metadata": {
  "language_info": {
   "name": "python"
  }
 },
 "nbformat": 4,
 "nbformat_minor": 2
}
